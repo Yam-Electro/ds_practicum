{
 "cells": [
  {
   "cell_type": "markdown",
   "metadata": {},
   "source": [
    "Привет, меня зовут Артем Хуршудов. Сегодня я проверю твой проект.\n",
    "<br> Дальнейшее общение будет происходить на \"ты\" если это не вызывает никаких проблем.\n",
    "<br> Желательно реагировать на каждый мой комментарий ('исправил', 'не понятно как исправить ошибку', ...)\n",
    "<br> Пожалуйста, не удаляй комментарии ревьюера, так как они повышают качество повторного ревью.\n",
    "\n",
    "Комментарии будут в <font color='green'>зеленой</font>, <font color='blue'>синей</font> или <font color='red'>красной</font> рамках:\n",
    "\n",
    "<div class=\"alert alert-block alert-success\">\n",
    "<b>Успех:</b> Если все сделано отлично\n",
    "</div>\n",
    "\n",
    "<div class=\"alert alert-block alert-info\">\n",
    "<b>Совет: </b> Если можно немного улучшить\n",
    "</div>\n",
    "\n",
    "<div class=\"alert alert-block alert-danger\">\n",
    "<b>Ошибка:</b> Если требуются исправления. Работа не может быть принята с красными комментариями.\n",
    "</div>\n",
    "\n",
    "-------------------\n",
    "\n",
    "Будет очень хорошо, если ты будешь помечать свои действия следующим образом:\n",
    "<div class=\"alert alert-block alert-warning\">\n",
    "<b>Комментарий студента:</b> ...\n",
    "</div>\n",
    "\n",
    "<div class=\"alert alert-block alert-warning\">\n",
    "<b>Изменения:</b> Были внесены следующие изменения ...\n",
    "</div>\n",
    "\n",
    "<font color='green'><b>Полезные (и просто интересные) материалы:</b></font> \\\n",
    "Для работы с текстами используют и другие подходы. Например, сейчас активно используются RNN (LSTM) и трансформеры (BERT и другие с улицы Сезам, например, ELMO). НО! Они не являются панацеей, не всегда они нужны, так как и TF-IDF или Word2Vec + модели из классического ML тоже могут справляться. \\\n",
    "BERT тяжелый, существует много его вариаций для разных задач, есть готовые модели, есть надстройки над библиотекой transformers. Если, обучать BERT на GPU (можно в Google Colab или Kaggle), то должно быть побыстрее.\\\n",
    "https://huggingface.co/transformers/model_doc/bert.html \\\n",
    "https://t.me/renat_alimbekov \\\n",
    "https://colah.github.io/posts/2015-08-Understanding-LSTMs/ - Про LSTM \\\n",
    "https://web.stanford.edu/~jurafsky/slp3/10.pdf - про энкодер-декодер модели, этеншены\\\n",
    "https://pytorch.org/tutorials/beginner/transformer_tutorial.html - официальный гайд\n",
    "по трансформеру от создателей pytorch\\\n",
    "https://transformer.huggingface.co/ - поболтать с трансформером \\\n",
    "Библиотеки: allennlp, fairseq, transformers, tensorflow-text — множествореализованных\n",
    "методов для трансформеров методов NLP \\\n",
    "Word2Vec https://radimrehurek.com/gensim/models/word2vec.html \n",
    "\n",
    "<font color='green'>Пример BERT с GPU:\n",
    "```python\n",
    "%%time\n",
    "from tqdm import notebook\n",
    "batch_size = 2 # для примера возьмем такой батч, где будет всего две строки датасета\n",
    "embeddings = [] \n",
    "for i in notebook.tqdm(range(input_ids.shape[0] // batch_size)):\n",
    "        batch = torch.LongTensor(input_ids[batch_size*i:batch_size*(i+1)]).cuda() # закидываем тензор на GPU\n",
    "        attention_mask_batch = torch.LongTensor(attention_mask[batch_size*i:batch_size*(i+1)]).cuda()\n",
    "        \n",
    "        with torch.no_grad():\n",
    "            model.cuda()\n",
    "            batch_embeddings = model(batch, attention_mask=attention_mask_batch)\n",
    "        \n",
    "        embeddings.append(batch_embeddings[0][:,0,:].cpu().numpy()) # перевод обратно на проц, чтобы в нумпай кинуть\n",
    "        del batch\n",
    "        del attention_mask_batch\n",
    "        del batch_embeddings\n",
    "        \n",
    "features = np.concatenate(embeddings) \n",
    "```\n",
    "Можно сделать предварительную проверку на наличие GPU.\\\n",
    "Например, так: ```device = torch.device(\"cuda:0\") if torch.cuda.is_available() else torch.device(\"cpu\")```\\\n",
    "Тогда вместо .cuda() нужно писать .to(device)\n",
    "\n",
    "Если понравилась работа с текстами, то можешь посмотреть очень интересный (но очень-очень сложный) курс лекций: https://github.com/yandexdataschool/nlp_course .\n",
    "</font>\n",
    "\n",
    "### <font color='orange'>Общее впечатление</font>\n",
    "* Большое спасибо за проделанную работу. Видно, что приложено много усилий.\n",
    "* Радует, что ноутбук хорошо структурирован. Приятно проверять такие работы.\n",
    "* Отлично, что стоп-слова были исключены при векторизации!\n",
    "* Над этим проектом нужно будет еще немного поработать. Однако, изменения не должны занять много времени.\n",
    "* С радостью отвечу на твои вопросы, если они есть. Лучше всего их собрать в следующей ячейке. Жду новую версию проекта."
   ]
  },
  {
   "cell_type": "markdown",
   "metadata": {},
   "source": [
    "- Как-то громоздко выглядит в таком виде: \n",
    "<div class=\"alert alert-block alert-warning\">\n",
    "<b>Комментарий студента:</b> ...\n",
    "</div>\n",
    "<div class=\"alert alert-block alert-warning\">\n",
    "<b>Изменения:</b> Были внесены следующие изменения ...\n",
    "</div>\n",
    "\n",
    "- Давай оставим просто комментарий, например вот так: \n",
    "<div class=\"alert alert-block alert-warning\">\n",
    "<b>Комментарий студента:</b> Артем, привет! В данном проекте  я не стал работать с  BERT или его русской моделью ruRERT потому что уже был опыт работы этими моделями. Я поставил себе задачу обучить простые модели на большом датасете, забавно что датасет  при калибровке использовал аналогичный только на русском. \n",
    "</div>"
   ]
  },
  {
   "cell_type": "markdown",
   "metadata": {},
   "source": [
    "### <font color='orange'>Общее впечатление (ревью 2)</font>\n",
    "* Для удобства все новые комментарии обозначены фразой \"ревью 2\".\n",
    "* Удачи в доработке!"
   ]
  },
  {
   "cell_type": "markdown",
   "metadata": {},
   "source": [
    "### <font color='orange'>Общее впечатление (ревью 3)</font>\n",
    "* Все новые комментарии обозначены фразой \"ревью 3\".\n",
    "* Удачи в доработке!"
   ]
  },
  {
   "cell_type": "markdown",
   "metadata": {
    "toc": true
   },
   "source": [
    "<h1>Содержание<span class=\"tocSkip\"></span></h1>\n",
    "<div class=\"toc\"><ul class=\"toc-item\"><li><ul class=\"toc-item\"><li><span><a href=\"#Общее-впечатление\" data-toc-modified-id=\"Общее-впечатление-0.1\"><span class=\"toc-item-num\">0.1&nbsp;&nbsp;</span><font color=\"orange\">Общее впечатление</font></a></span></li><li><span><a href=\"#Общее-впечатление-(ревью-2)\" data-toc-modified-id=\"Общее-впечатление-(ревью-2)-0.2\"><span class=\"toc-item-num\">0.2&nbsp;&nbsp;</span><font color=\"orange\">Общее впечатление (ревью 2)</font></a></span></li><li><span><a href=\"#Общее-впечатление-(ревью-3)\" data-toc-modified-id=\"Общее-впечатление-(ревью-3)-0.3\"><span class=\"toc-item-num\">0.3&nbsp;&nbsp;</span><font color=\"orange\">Общее впечатление (ревью 3)</font></a></span></li></ul></li><li><span><a href=\"#Подготовка\" data-toc-modified-id=\"Подготовка-1\"><span class=\"toc-item-num\">1&nbsp;&nbsp;</span>Подготовка</a></span><ul class=\"toc-item\"><li><ul class=\"toc-item\"><li><span><a href=\"#Импорты\" data-toc-modified-id=\"Импорты-1.0.1\"><span class=\"toc-item-num\">1.0.1&nbsp;&nbsp;</span>Импорты</a></span></li><li><span><a href=\"#Лемматизируем\" data-toc-modified-id=\"Лемматизируем-1.0.2\"><span class=\"toc-item-num\">1.0.2&nbsp;&nbsp;</span>Лемматизируем</a></span></li><li><span><a href=\"#Почистим-и-приведем-к-нижнему-регистру\" data-toc-modified-id=\"Почистим-и-приведем-к-нижнему-регистру-1.0.3\"><span class=\"toc-item-num\">1.0.3&nbsp;&nbsp;</span>Почистим и приведем к нижнему регистру</a></span></li><li><span><a href=\"#Векторизируем-и-разделим-на-тестовую-и-тренировочную-выборки\" data-toc-modified-id=\"Векторизируем-и-разделим-на-тестовую-и-тренировочную-выборки-1.0.4\"><span class=\"toc-item-num\">1.0.4&nbsp;&nbsp;</span>Векторизируем и разделим на тестовую и тренировочную выборки</a></span></li></ul></li></ul></li><li><span><a href=\"#Обучение\" data-toc-modified-id=\"Обучение-2\"><span class=\"toc-item-num\">2&nbsp;&nbsp;</span>Обучение</a></span><ul class=\"toc-item\"><li><ul class=\"toc-item\"><li><span><a href=\"#Обучим-логистическую-регрессию\" data-toc-modified-id=\"Обучим-логистическую-регрессию-2.0.1\"><span class=\"toc-item-num\">2.0.1&nbsp;&nbsp;</span>Обучим логистическую регрессию</a></span></li><li><span><a href=\"#Обучим-дерево\" data-toc-modified-id=\"Обучим-дерево-2.0.2\"><span class=\"toc-item-num\">2.0.2&nbsp;&nbsp;</span>Обучим дерево</a></span></li><li><span><a href=\"#Обучим-случайный-лес\" data-toc-modified-id=\"Обучим-случайный-лес-2.0.3\"><span class=\"toc-item-num\">2.0.3&nbsp;&nbsp;</span>Обучим случайный лес</a></span></li><li><span><a href=\"#Проверим-точность-лучшей-модели-на-тестовой-выборке\" data-toc-modified-id=\"Проверим-точность-лучшей-модели-на-тестовой-выборке-2.0.4\"><span class=\"toc-item-num\">2.0.4&nbsp;&nbsp;</span>Проверим точность лучшей модели на тестовой выборке</a></span></li></ul></li></ul></li><li><span><a href=\"#Выводы\" data-toc-modified-id=\"Выводы-3\"><span class=\"toc-item-num\">3&nbsp;&nbsp;</span>Выводы</a></span></li><li><span><a href=\"#Чек-лист-проверки\" data-toc-modified-id=\"Чек-лист-проверки-4\"><span class=\"toc-item-num\">4&nbsp;&nbsp;</span>Чек-лист проверки</a></span></li></ul></div>"
   ]
  },
  {
   "cell_type": "markdown",
   "metadata": {},
   "source": [
    "# Проект для «Викишоп»"
   ]
  },
  {
   "cell_type": "markdown",
   "metadata": {},
   "source": [
    "Интернет-магазин «Викишоп» запускает новый сервис. Теперь пользователи могут редактировать и дополнять описания товаров, как в вики-сообществах. То есть клиенты предлагают свои правки и комментируют изменения других. Магазину нужен инструмент, который будет искать токсичные комментарии и отправлять их на модерацию. \n",
    "\n",
    "Обучите модель классифицировать комментарии на позитивные и негативные. В вашем распоряжении набор данных с разметкой о токсичности правок.\n",
    "\n",
    "Постройте модель со значением метрики качества *F1* не меньше 0.75. \n",
    "\n",
    "**Инструкция по выполнению проекта**\n",
    "\n",
    "1. Загрузите и подготовьте данные.\n",
    "2. Обучите разные модели. \n",
    "3. Сделайте выводы.\n",
    "\n",
    "Для выполнения проекта применять *BERT* необязательно, но вы можете попробовать.\n",
    "\n",
    "**Описание данных**\n",
    "\n",
    "Данные находятся в файле `toxic_comments.csv`. Столбец *text* в нём содержит текст комментария, а *toxic* — целевой признак."
   ]
  },
  {
   "cell_type": "markdown",
   "metadata": {},
   "source": [
    "## Подготовка"
   ]
  },
  {
   "cell_type": "markdown",
   "metadata": {},
   "source": [
    "#### Импорты"
   ]
  },
  {
   "cell_type": "code",
   "execution_count": 1,
   "metadata": {},
   "outputs": [
    {
     "name": "stderr",
     "output_type": "stream",
     "text": [
      "[nltk_data] Downloading package stopwords to\n",
      "[nltk_data]     /Users/fliutch/nltk_data...\n",
      "[nltk_data]   Package stopwords is already up-to-date!\n",
      "[nltk_data] Downloading package wordnet to /Users/fliutch/nltk_data...\n",
      "[nltk_data]   Package wordnet is already up-to-date!\n",
      "[nltk_data] Downloading package omw-1.4 to /Users/fliutch/nltk_data...\n",
      "[nltk_data]   Package omw-1.4 is already up-to-date!\n"
     ]
    },
    {
     "data": {
      "text/plain": [
       "True"
      ]
     },
     "execution_count": 1,
     "metadata": {},
     "output_type": "execute_result"
    }
   ],
   "source": [
    "import pandas as pd\n",
    "import nltk\n",
    "from nltk.corpus import stopwords as nltk_stopwords\n",
    "from sklearn.feature_extraction.text import TfidfVectorizer \n",
    "from sklearn.linear_model import LogisticRegression\n",
    "from sklearn.ensemble import RandomForestClassifier\n",
    "#from sklearn.neural_network import MLPClassifier \n",
    "from sklearn.tree import DecisionTreeClassifier\n",
    "import re \n",
    "from sklearn.metrics import f1_score\n",
    "from nltk.stem import WordNetLemmatizer\n",
    "from tqdm import notebook\n",
    "from sklearn.model_selection import train_test_split\n",
    "import time\n",
    "from sklearn.model_selection import cross_val_score\n",
    "from sklearn import svm\n",
    "\n",
    "import seaborn as sns\n",
    "import matplotlib.pyplot as plt\n",
    "from sklearn.model_selection import GridSearchCV\n",
    "\n",
    "import warnings\n",
    "warnings.filterwarnings('ignore')\n",
    "nltk.download('stopwords')\n",
    "stopwords = set(nltk_stopwords.words('english'))\n",
    "nltk.download('wordnet')\n",
    "nltk.download('omw-1.4')"
   ]
  },
  {
   "cell_type": "markdown",
   "metadata": {},
   "source": [
    "<div class=\"alert alert-block alert-success\">\n",
    "<b>Успех:</b> Отлично, что все импорты собраны в первой ячейке ноутбука! Если у того, кто будет запускать твой ноутбук будут отсутствовать некоторые библиотеки, то он это увидит сразу, а не в процессе!\n",
    "</div>"
   ]
  },
  {
   "cell_type": "code",
   "execution_count": 2,
   "metadata": {},
   "outputs": [
    {
     "data": {
      "text/html": [
       "<div>\n",
       "<style scoped>\n",
       "    .dataframe tbody tr th:only-of-type {\n",
       "        vertical-align: middle;\n",
       "    }\n",
       "\n",
       "    .dataframe tbody tr th {\n",
       "        vertical-align: top;\n",
       "    }\n",
       "\n",
       "    .dataframe thead th {\n",
       "        text-align: right;\n",
       "    }\n",
       "</style>\n",
       "<table border=\"1\" class=\"dataframe\">\n",
       "  <thead>\n",
       "    <tr style=\"text-align: right;\">\n",
       "      <th></th>\n",
       "      <th>text</th>\n",
       "      <th>toxic</th>\n",
       "    </tr>\n",
       "  </thead>\n",
       "  <tbody>\n",
       "    <tr>\n",
       "      <th>0</th>\n",
       "      <td>Explanation\\nWhy the edits made under my usern...</td>\n",
       "      <td>0</td>\n",
       "    </tr>\n",
       "    <tr>\n",
       "      <th>1</th>\n",
       "      <td>D'aww! He matches this background colour I'm s...</td>\n",
       "      <td>0</td>\n",
       "    </tr>\n",
       "    <tr>\n",
       "      <th>2</th>\n",
       "      <td>Hey man, I'm really not trying to edit war. It...</td>\n",
       "      <td>0</td>\n",
       "    </tr>\n",
       "    <tr>\n",
       "      <th>3</th>\n",
       "      <td>\"\\nMore\\nI can't make any real suggestions on ...</td>\n",
       "      <td>0</td>\n",
       "    </tr>\n",
       "    <tr>\n",
       "      <th>4</th>\n",
       "      <td>You, sir, are my hero. Any chance you remember...</td>\n",
       "      <td>0</td>\n",
       "    </tr>\n",
       "  </tbody>\n",
       "</table>\n",
       "</div>"
      ],
      "text/plain": [
       "                                                text  toxic\n",
       "0  Explanation\\nWhy the edits made under my usern...      0\n",
       "1  D'aww! He matches this background colour I'm s...      0\n",
       "2  Hey man, I'm really not trying to edit war. It...      0\n",
       "3  \"\\nMore\\nI can't make any real suggestions on ...      0\n",
       "4  You, sir, are my hero. Any chance you remember...      0"
      ]
     },
     "execution_count": 2,
     "metadata": {},
     "output_type": "execute_result"
    }
   ],
   "source": [
    "df = pd.read_csv('/datasets/toxic_comments.csv').drop(['Unnamed: 0'], axis = 1)\n",
    "#df = df[:10000] #Обрежем\n",
    "\n",
    "df.head()"
   ]
  },
  {
   "cell_type": "markdown",
   "metadata": {},
   "source": [
    "<div class=\"alert alert-block alert-warning\">\n",
    "<b>Комментарий студента:</b> добавил балансировку среза и перемешивание\n",
    "</div>"
   ]
  },
  {
   "cell_type": "code",
   "execution_count": 3,
   "metadata": {},
   "outputs": [
    {
     "data": {
      "image/png": "[encoded data removed]",
      "text/plain": [
       "<Figure size 1400x600 with 1 Axes>"
      ]
     },
     "metadata": {},
     "output_type": "display_data"
    },
    {
     "data": {
      "text/html": [
       "<div>\n",
       "<style scoped>\n",
       "    .dataframe tbody tr th:only-of-type {\n",
       "        vertical-align: middle;\n",
       "    }\n",
       "\n",
       "    .dataframe tbody tr th {\n",
       "        vertical-align: top;\n",
       "    }\n",
       "\n",
       "    .dataframe thead th {\n",
       "        text-align: right;\n",
       "    }\n",
       "</style>\n",
       "<table border=\"1\" class=\"dataframe\">\n",
       "  <thead>\n",
       "    <tr style=\"text-align: right;\">\n",
       "      <th></th>\n",
       "      <th>toxic</th>\n",
       "      <th>text</th>\n",
       "    </tr>\n",
       "  </thead>\n",
       "  <tbody>\n",
       "    <tr>\n",
       "      <th>0</th>\n",
       "      <td>1</td>\n",
       "      <td>16186</td>\n",
       "    </tr>\n",
       "    <tr>\n",
       "      <th>1</th>\n",
       "      <td>0</td>\n",
       "      <td>143106</td>\n",
       "    </tr>\n",
       "  </tbody>\n",
       "</table>\n",
       "</div>"
      ],
      "text/plain": [
       "   toxic    text\n",
       "0      1   16186\n",
       "1      0  143106"
      ]
     },
     "metadata": {},
     "output_type": "display_data"
    }
   ],
   "source": [
    "#Рисовалка\n",
    "def dataplot(dataset):\n",
    "    datacount =  dataset.pivot_table(index='toxic', aggfunc='count').sort_values( by = 'toxic', ascending=False)\n",
    "    \n",
    "    plt.figure(figsize=(14,6))\n",
    "    sns.barplot(x=datacount.index ,y=datacount.text)\n",
    "    plt.title(\"Обзор датасета\")\n",
    "    plt.xlabel(\"Службы\")\n",
    "    plt.ylabel(\"Количество сообщений\")\n",
    "    plt.xticks(rotation=0)\n",
    "    plt.show()\n",
    "    datacount = datacount.reset_index(inplace = False)\n",
    "    cols = ['toxic']\n",
    "    display(datacount)\n",
    "    \n",
    "dataplot(df)   \n"
   ]
  },
  {
   "cell_type": "markdown",
   "metadata": {},
   "source": [
    "<div class=\"alert alert-block alert-warning\">\n",
    "<b>Комментарий студента:</b> добавил график анализа сбалансированности датасета, удобно анализировать при изменении рарзмера\n",
    "</div>"
   ]
  },
  {
   "cell_type": "markdown",
   "metadata": {},
   "source": [
    "<div class=\"alert alert-block alert-danger\">\n",
    "<b>Ошибка (ревью 2):</b> Изменять баланс классов можно только в треине. В тесте и в валидации он должен быть такой же, как и в исходной выборке. Иначе, результаты получаются некорректными.\n",
    "</div>"
   ]
  },
  {
   "cell_type": "markdown",
   "metadata": {},
   "source": [
    "<div class=\"alert alert-block alert-warning\">\n",
    "<b>Комментарий студента2:</b> баланс классов оставил только на обучающей выборке (ниже)\n",
    "</div>"
   ]
  },
  {
   "cell_type": "markdown",
   "metadata": {},
   "source": [
    "<div class=\"alert alert-block alert-success\">\n",
    "<b>Успех (ревью 3):</b> ОК.\n",
    "</div>"
   ]
  },
  {
   "cell_type": "markdown",
   "metadata": {},
   "source": [
    "#### Лемматизируем"
   ]
  },
  {
   "cell_type": "code",
   "execution_count": 4,
   "metadata": {},
   "outputs": [],
   "source": [
    "#m = Mystem() \n",
    "m = WordNetLemmatizer()\n",
    "\n",
    "def lemmatizer(text): \n",
    "    #lemma_text = m.lemmatize(text.split())\n",
    "    lemma_text = map(m.lemmatize, text.split())\n",
    "    \n",
    "    return  \" \".join(lemma_text) \n"
   ]
  },
  {
   "cell_type": "markdown",
   "metadata": {},
   "source": [
    "<div class=\"alert alert-block alert-danger\">\n",
    "<b>Ошибка:</b> Этот лемматизатор нужно применять к словам, а не ко всему тексту сразу.\n",
    "</div>\n",
    "\n",
    "\n",
    "<div class=\"alert alert-block alert-warning\">\n",
    "<b>Комментарий студента:</b> добавил анализ каждого слова\n",
    "</div>\n"
   ]
  },
  {
   "cell_type": "markdown",
   "metadata": {},
   "source": [
    "<div class=\"alert alert-block alert-success\">\n",
    "<b>Успех (ревью 2):</b> Верно!\n",
    "</div>"
   ]
  },
  {
   "cell_type": "code",
   "execution_count": 5,
   "metadata": {},
   "outputs": [
    {
     "data": {
      "text/plain": [
       "'rock walk go'"
      ]
     },
     "execution_count": 5,
     "metadata": {},
     "output_type": "execute_result"
    }
   ],
   "source": [
    "lemmatizer('rocks walks goes')"
   ]
  },
  {
   "cell_type": "code",
   "execution_count": 6,
   "metadata": {},
   "outputs": [
    {
     "data": {
      "application/vnd.jupyter.widget-view+json": {
       "model_id": "5c6a7dc510764bb888af18fc2aed21f7",
       "version_major": 2,
       "version_minor": 0
      },
      "text/plain": [
       "  0%|          | 0/159292 [00:00<?, ?it/s]"
      ]
     },
     "metadata": {},
     "output_type": "display_data"
    }
   ],
   "source": [
    "lemm_text = []\n",
    "\n",
    "for l in notebook.tqdm(df.text):\n",
    "    lemm_text.append(lemmatizer(l))\n",
    "    "
   ]
  },
  {
   "cell_type": "code",
   "execution_count": 7,
   "metadata": {},
   "outputs": [
    {
     "data": {
      "text/plain": [
       "[\"Explanation Why the edits made under my username Hardcore Metallica Fan were reverted? They weren't vandalisms, just closure on some GAs after I voted at New York Dolls FAC. And please don't remove the template from the talk page since I'm retired now.89.205.38.27\",\n",
       " \"D'aww! He match this background colour I'm seemingly stuck with. Thanks. (talk) 21:51, January 11, 2016 (UTC)\",\n",
       " \"Hey man, I'm really not trying to edit war. It's just that this guy is constantly removing relevant information and talking to me through edits instead of my talk page. He seems to care more about the formatting than the actual info.\"]"
      ]
     },
     "execution_count": 7,
     "metadata": {},
     "output_type": "execute_result"
    }
   ],
   "source": [
    "lemm_text[:3]"
   ]
  },
  {
   "cell_type": "markdown",
   "metadata": {},
   "source": [
    "#### Почистим и приведем к нижнему регистру"
   ]
  },
  {
   "cell_type": "code",
   "execution_count": 8,
   "metadata": {},
   "outputs": [],
   "source": [
    "def clear_text(text): \n",
    "    text = re.sub(r'[^a-zA-Z ]', ' ', text.lower()) \n",
    "    text = ' '.join(text.split())\n",
    "    return text\n"
   ]
  },
  {
   "cell_type": "markdown",
   "metadata": {},
   "source": [
    "<div class=\"alert alert-block alert-warning\">\n",
    "<b>Комментарий студента:</b> добавил приведение к нижнему регистру т.к. у нас простые модели,  это улучшит точность\n",
    "</div>\n"
   ]
  },
  {
   "cell_type": "code",
   "execution_count": 9,
   "metadata": {},
   "outputs": [],
   "source": [
    "cleared_text = []\n",
    "\n",
    "for a in lemm_text:\n",
    "    cleared_text.append(clear_text(a))\n",
    "    "
   ]
  },
  {
   "cell_type": "code",
   "execution_count": 10,
   "metadata": {},
   "outputs": [
    {
     "data": {
      "text/plain": [
       "['explanation why the edits made under my username hardcore metallica fan were reverted they weren t vandalisms just closure on some gas after i voted at new york dolls fac and please don t remove the template from the talk page since i m retired now',\n",
       " 'd aww he match this background colour i m seemingly stuck with thanks talk january utc',\n",
       " 'hey man i m really not trying to edit war it s just that this guy is constantly removing relevant information and talking to me through edits instead of my talk page he seems to care more about the formatting than the actual info']"
      ]
     },
     "execution_count": 10,
     "metadata": {},
     "output_type": "execute_result"
    }
   ],
   "source": [
    "cleared_text[:3]"
   ]
  },
  {
   "cell_type": "markdown",
   "metadata": {},
   "source": [
    "<div class=\"alert alert-block alert-success\">\n",
    "<b>Успех:</b> Очистка была сделана корректно.\n",
    "</div>"
   ]
  },
  {
   "cell_type": "markdown",
   "metadata": {},
   "source": [
    "#### Векторизируем и разделим на тестовую и тренировочную выборки"
   ]
  },
  {
   "cell_type": "code",
   "execution_count": 11,
   "metadata": {},
   "outputs": [],
   "source": [
    "features = cleared_text #pd.DataFrame(cleared_text).values.astype('U')\n",
    "target = df['toxic']#.values.astype('U')\n",
    "\n",
    "train_features, test_features, train_target, test_target = train_test_split(features, target, test_size = 0.20)\n"
   ]
  },
  {
   "cell_type": "code",
   "execution_count": 12,
   "metadata": {},
   "outputs": [
    {
     "data": {
      "text/plain": [
       "\"\\ntrain_df = pd.DataFrame({'text':train_features, 'toxic': train_target})\\ndataplot(train_df) \\n  \\nsamplesize = 12934\\n\\ntrain_df = pd.concat([train_df[train_df.toxic == 1].head(int(samplesize / 2)), train_df[train_df.toxic == 0].head(int(samplesize / 2))])\\n#перемешаем\\ntrain_df = train_df.sample(frac=1)#.reset_index(drop=True)\\ndataplot(train_df) \\n\\ntrain_features = train_df.text\\ntrain_target = train_df.toxic\\n\""
      ]
     },
     "execution_count": 12,
     "metadata": {},
     "output_type": "execute_result"
    }
   ],
   "source": [
    "#Пока уберем балансировку классов\n",
    "'''\n",
    "train_df = pd.DataFrame({'text':train_features, 'toxic': train_target})\n",
    "dataplot(train_df) \n",
    "  \n",
    "samplesize = 12934\n",
    "\n",
    "train_df = pd.concat([train_df[train_df.toxic == 1].head(int(samplesize / 2)), train_df[train_df.toxic == 0].head(int(samplesize / 2))])\n",
    "#перемешаем\n",
    "train_df = train_df.sample(frac=1)#.reset_index(drop=True)\n",
    "dataplot(train_df) \n",
    "\n",
    "train_features = train_df.text\n",
    "train_target = train_df.toxic\n",
    "'''\n"
   ]
  },
  {
   "cell_type": "code",
   "execution_count": 13,
   "metadata": {},
   "outputs": [],
   "source": [
    "count_tf_idf = TfidfVectorizer(stop_words = stopwords)\n",
    "train_features = count_tf_idf.fit_transform(train_features)\n",
    "test_features = count_tf_idf.transform(test_features)"
   ]
  },
  {
   "cell_type": "markdown",
   "metadata": {},
   "source": [
    "<div class=\"alert alert-block alert-danger\">\n",
    "<b>Ошибка:</b> Векторизатор можно обучать только после разбиения выборки на части. При этом он должен быть обучен только на тренировочной части данных.\n",
    "</div>\n",
    "\n",
    "<div class=\"alert alert-block alert-danger\">\n",
    "<b>Ошибка:</b> Приводить тексты к юникоду не имеет смысла, так как они все на английском. Это может привести к падению ядра из-за увеличения объема занимаемой памяти.\n",
    "</div>\n",
    "\n",
    "<div class=\"alert alert-block alert-warning\">\n",
    "<b>Комментарий студента:</b> Спасибо! Убрал приведение к юникоду, поправил  векторизатор\n",
    "</div>"
   ]
  },
  {
   "cell_type": "markdown",
   "metadata": {},
   "source": [
    "<div class=\"alert alert-block alert-success\">\n",
    "<b>Успех (ревью 2):</b> Отлично, молодец!\n",
    "</div>"
   ]
  },
  {
   "cell_type": "markdown",
   "metadata": {},
   "source": [
    "<div class=\"alert alert-block alert-warning\">\n",
    "<b>Комментарий студента 2:</b> Баланс классов оставил только у обучающей выборки\n",
    "</div>\n",
    "<div class=\"alert alert-block alert-warning\">\n",
    "<b>Комментарий студента 3:</b> Баланс классов закомментировал\n",
    "</div>"
   ]
  },
  {
   "cell_type": "markdown",
   "metadata": {},
   "source": [
    "## Обучение"
   ]
  },
  {
   "cell_type": "markdown",
   "metadata": {},
   "source": [
    "#### Обучим логистическую регрессию"
   ]
  },
  {
   "cell_type": "code",
   "execution_count": 16,
   "metadata": {},
   "outputs": [
    {
     "name": "stdout",
     "output_type": "stream",
     "text": [
      "CPU times: user 1h 30min 25s, sys: 14.1 s, total: 1h 30min 39s\n",
      "Wall time: 1h 11min 14s\n"
     ]
    },
    {
     "data": {
      "text/plain": [
       "{'C': 2, 'max_iter': 100, 'penalty': 'l1', 'solver': 'saga'}"
      ]
     },
     "execution_count": 16,
     "metadata": {},
     "output_type": "execute_result"
    }
   ],
   "source": [
    "#Раскоментировать только если готов ждать полтора часа, результат работы гридсерча в ячейке ниже\n",
    "'''\n",
    "%%time\n",
    "\n",
    "clf = LogisticRegression()\n",
    "\n",
    "parametrs = { 'C': range (1, 4),\n",
    "              'penalty': ['l1', 'l2', 'elasticnet', None],\n",
    "              'solver': ['lbfgs', 'liblinear', 'newton-cg', 'sag', 'saga'],\n",
    "              'max_iter': [100, 200]\n",
    "            }\n",
    "clf.get_params().keys()\n",
    "\n",
    "grid = GridSearchCV(clf, parametrs, cv=5)\n",
    "grid.fit(train_features, train_target)\n",
    "grid.best_params_\n",
    "'''"
   ]
  },
  {
   "cell_type": "markdown",
   "metadata": {},
   "source": [
    "{'C': 2, 'max_iter': 100, 'penalty': 'l1', 'solver': 'saga'}"
   ]
  },
  {
   "cell_type": "code",
   "execution_count": 199,
   "metadata": {},
   "outputs": [
    {
     "ename": "KeyboardInterrupt",
     "evalue": "",
     "output_type": "error",
     "traceback": [
      "\u001b[0;31m---------------------------------------------------------------------------\u001b[0m",
      "\u001b[0;31mKeyboardInterrupt\u001b[0m                         Traceback (most recent call last)",
      "\u001b[0;32m<timed exec>\u001b[0m in \u001b[0;36m<module>\u001b[0;34m\u001b[0m\n",
      "\u001b[0;32m~/opt/anaconda3/lib/python3.9/site-packages/sklearn/model_selection/_validation.py\u001b[0m in \u001b[0;36mcross_val_score\u001b[0;34m(estimator, X, y, groups, scoring, cv, n_jobs, verbose, fit_params, pre_dispatch, error_score)\u001b[0m\n\u001b[1;32m    507\u001b[0m     \u001b[0mscorer\u001b[0m \u001b[0;34m=\u001b[0m \u001b[0mcheck_scoring\u001b[0m\u001b[0;34m(\u001b[0m\u001b[0mestimator\u001b[0m\u001b[0;34m,\u001b[0m \u001b[0mscoring\u001b[0m\u001b[0;34m=\u001b[0m\u001b[0mscoring\u001b[0m\u001b[0;34m)\u001b[0m\u001b[0;34m\u001b[0m\u001b[0;34m\u001b[0m\u001b[0m\n\u001b[1;32m    508\u001b[0m \u001b[0;34m\u001b[0m\u001b[0m\n\u001b[0;32m--> 509\u001b[0;31m     cv_results = cross_validate(\n\u001b[0m\u001b[1;32m    510\u001b[0m         \u001b[0mestimator\u001b[0m\u001b[0;34m=\u001b[0m\u001b[0mestimator\u001b[0m\u001b[0;34m,\u001b[0m\u001b[0;34m\u001b[0m\u001b[0;34m\u001b[0m\u001b[0m\n\u001b[1;32m    511\u001b[0m         \u001b[0mX\u001b[0m\u001b[0;34m=\u001b[0m\u001b[0mX\u001b[0m\u001b[0;34m,\u001b[0m\u001b[0;34m\u001b[0m\u001b[0;34m\u001b[0m\u001b[0m\n",
      "\u001b[0;32m~/opt/anaconda3/lib/python3.9/site-packages/sklearn/model_selection/_validation.py\u001b[0m in \u001b[0;36mcross_validate\u001b[0;34m(estimator, X, y, groups, scoring, cv, n_jobs, verbose, fit_params, pre_dispatch, return_train_score, return_estimator, error_score)\u001b[0m\n\u001b[1;32m    265\u001b[0m     \u001b[0;31m# independent, and that it is pickle-able.\u001b[0m\u001b[0;34m\u001b[0m\u001b[0;34m\u001b[0m\u001b[0m\n\u001b[1;32m    266\u001b[0m     \u001b[0mparallel\u001b[0m \u001b[0;34m=\u001b[0m \u001b[0mParallel\u001b[0m\u001b[0;34m(\u001b[0m\u001b[0mn_jobs\u001b[0m\u001b[0;34m=\u001b[0m\u001b[0mn_jobs\u001b[0m\u001b[0;34m,\u001b[0m \u001b[0mverbose\u001b[0m\u001b[0;34m=\u001b[0m\u001b[0mverbose\u001b[0m\u001b[0;34m,\u001b[0m \u001b[0mpre_dispatch\u001b[0m\u001b[0;34m=\u001b[0m\u001b[0mpre_dispatch\u001b[0m\u001b[0;34m)\u001b[0m\u001b[0;34m\u001b[0m\u001b[0;34m\u001b[0m\u001b[0m\n\u001b[0;32m--> 267\u001b[0;31m     results = parallel(\n\u001b[0m\u001b[1;32m    268\u001b[0m         delayed(_fit_and_score)(\n\u001b[1;32m    269\u001b[0m             \u001b[0mclone\u001b[0m\u001b[0;34m(\u001b[0m\u001b[0mestimator\u001b[0m\u001b[0;34m)\u001b[0m\u001b[0;34m,\u001b[0m\u001b[0;34m\u001b[0m\u001b[0;34m\u001b[0m\u001b[0m\n",
      "\u001b[0;32m~/opt/anaconda3/lib/python3.9/site-packages/joblib/parallel.py\u001b[0m in \u001b[0;36m__call__\u001b[0;34m(self, iterable)\u001b[0m\n\u001b[1;32m   1041\u001b[0m             \u001b[0;31m# remaining jobs.\u001b[0m\u001b[0;34m\u001b[0m\u001b[0;34m\u001b[0m\u001b[0m\n\u001b[1;32m   1042\u001b[0m             \u001b[0mself\u001b[0m\u001b[0;34m.\u001b[0m\u001b[0m_iterating\u001b[0m \u001b[0;34m=\u001b[0m \u001b[0;32mFalse\u001b[0m\u001b[0;34m\u001b[0m\u001b[0;34m\u001b[0m\u001b[0m\n\u001b[0;32m-> 1043\u001b[0;31m             \u001b[0;32mif\u001b[0m \u001b[0mself\u001b[0m\u001b[0;34m.\u001b[0m\u001b[0mdispatch_one_batch\u001b[0m\u001b[0;34m(\u001b[0m\u001b[0miterator\u001b[0m\u001b[0;34m)\u001b[0m\u001b[0;34m:\u001b[0m\u001b[0;34m\u001b[0m\u001b[0;34m\u001b[0m\u001b[0m\n\u001b[0m\u001b[1;32m   1044\u001b[0m                 \u001b[0mself\u001b[0m\u001b[0;34m.\u001b[0m\u001b[0m_iterating\u001b[0m \u001b[0;34m=\u001b[0m \u001b[0mself\u001b[0m\u001b[0;34m.\u001b[0m\u001b[0m_original_iterator\u001b[0m \u001b[0;32mis\u001b[0m \u001b[0;32mnot\u001b[0m \u001b[0;32mNone\u001b[0m\u001b[0;34m\u001b[0m\u001b[0;34m\u001b[0m\u001b[0m\n\u001b[1;32m   1045\u001b[0m \u001b[0;34m\u001b[0m\u001b[0m\n",
      "\u001b[0;32m~/opt/anaconda3/lib/python3.9/site-packages/joblib/parallel.py\u001b[0m in \u001b[0;36mdispatch_one_batch\u001b[0;34m(self, iterator)\u001b[0m\n\u001b[1;32m    859\u001b[0m                 \u001b[0;32mreturn\u001b[0m \u001b[0;32mFalse\u001b[0m\u001b[0;34m\u001b[0m\u001b[0;34m\u001b[0m\u001b[0m\n\u001b[1;32m    860\u001b[0m             \u001b[0;32melse\u001b[0m\u001b[0;34m:\u001b[0m\u001b[0;34m\u001b[0m\u001b[0;34m\u001b[0m\u001b[0m\n\u001b[0;32m--> 861\u001b[0;31m                 \u001b[0mself\u001b[0m\u001b[0;34m.\u001b[0m\u001b[0m_dispatch\u001b[0m\u001b[0;34m(\u001b[0m\u001b[0mtasks\u001b[0m\u001b[0;34m)\u001b[0m\u001b[0;34m\u001b[0m\u001b[0;34m\u001b[0m\u001b[0m\n\u001b[0m\u001b[1;32m    862\u001b[0m                 \u001b[0;32mreturn\u001b[0m \u001b[0;32mTrue\u001b[0m\u001b[0;34m\u001b[0m\u001b[0;34m\u001b[0m\u001b[0m\n\u001b[1;32m    863\u001b[0m \u001b[0;34m\u001b[0m\u001b[0m\n",
      "\u001b[0;32m~/opt/anaconda3/lib/python3.9/site-packages/joblib/parallel.py\u001b[0m in \u001b[0;36m_dispatch\u001b[0;34m(self, batch)\u001b[0m\n\u001b[1;32m    777\u001b[0m         \u001b[0;32mwith\u001b[0m \u001b[0mself\u001b[0m\u001b[0;34m.\u001b[0m\u001b[0m_lock\u001b[0m\u001b[0;34m:\u001b[0m\u001b[0;34m\u001b[0m\u001b[0;34m\u001b[0m\u001b[0m\n\u001b[1;32m    778\u001b[0m             \u001b[0mjob_idx\u001b[0m \u001b[0;34m=\u001b[0m \u001b[0mlen\u001b[0m\u001b[0;34m(\u001b[0m\u001b[0mself\u001b[0m\u001b[0;34m.\u001b[0m\u001b[0m_jobs\u001b[0m\u001b[0;34m)\u001b[0m\u001b[0;34m\u001b[0m\u001b[0;34m\u001b[0m\u001b[0m\n\u001b[0;32m--> 779\u001b[0;31m             \u001b[0mjob\u001b[0m \u001b[0;34m=\u001b[0m \u001b[0mself\u001b[0m\u001b[0;34m.\u001b[0m\u001b[0m_backend\u001b[0m\u001b[0;34m.\u001b[0m\u001b[0mapply_async\u001b[0m\u001b[0;34m(\u001b[0m\u001b[0mbatch\u001b[0m\u001b[0;34m,\u001b[0m \u001b[0mcallback\u001b[0m\u001b[0;34m=\u001b[0m\u001b[0mcb\u001b[0m\u001b[0;34m)\u001b[0m\u001b[0;34m\u001b[0m\u001b[0;34m\u001b[0m\u001b[0m\n\u001b[0m\u001b[1;32m    780\u001b[0m             \u001b[0;31m# A job can complete so quickly than its callback is\u001b[0m\u001b[0;34m\u001b[0m\u001b[0;34m\u001b[0m\u001b[0m\n\u001b[1;32m    781\u001b[0m             \u001b[0;31m# called before we get here, causing self._jobs to\u001b[0m\u001b[0;34m\u001b[0m\u001b[0;34m\u001b[0m\u001b[0m\n",
      "\u001b[0;32m~/opt/anaconda3/lib/python3.9/site-packages/joblib/_parallel_backends.py\u001b[0m in \u001b[0;36mapply_async\u001b[0;34m(self, func, callback)\u001b[0m\n\u001b[1;32m    206\u001b[0m     \u001b[0;32mdef\u001b[0m \u001b[0mapply_async\u001b[0m\u001b[0;34m(\u001b[0m\u001b[0mself\u001b[0m\u001b[0;34m,\u001b[0m \u001b[0mfunc\u001b[0m\u001b[0;34m,\u001b[0m \u001b[0mcallback\u001b[0m\u001b[0;34m=\u001b[0m\u001b[0;32mNone\u001b[0m\u001b[0;34m)\u001b[0m\u001b[0;34m:\u001b[0m\u001b[0;34m\u001b[0m\u001b[0;34m\u001b[0m\u001b[0m\n\u001b[1;32m    207\u001b[0m         \u001b[0;34m\"\"\"Schedule a func to be run\"\"\"\u001b[0m\u001b[0;34m\u001b[0m\u001b[0;34m\u001b[0m\u001b[0m\n\u001b[0;32m--> 208\u001b[0;31m         \u001b[0mresult\u001b[0m \u001b[0;34m=\u001b[0m \u001b[0mImmediateResult\u001b[0m\u001b[0;34m(\u001b[0m\u001b[0mfunc\u001b[0m\u001b[0;34m)\u001b[0m\u001b[0;34m\u001b[0m\u001b[0;34m\u001b[0m\u001b[0m\n\u001b[0m\u001b[1;32m    209\u001b[0m         \u001b[0;32mif\u001b[0m \u001b[0mcallback\u001b[0m\u001b[0;34m:\u001b[0m\u001b[0;34m\u001b[0m\u001b[0;34m\u001b[0m\u001b[0m\n\u001b[1;32m    210\u001b[0m             \u001b[0mcallback\u001b[0m\u001b[0;34m(\u001b[0m\u001b[0mresult\u001b[0m\u001b[0;34m)\u001b[0m\u001b[0;34m\u001b[0m\u001b[0;34m\u001b[0m\u001b[0m\n",
      "\u001b[0;32m~/opt/anaconda3/lib/python3.9/site-packages/joblib/_parallel_backends.py\u001b[0m in \u001b[0;36m__init__\u001b[0;34m(self, batch)\u001b[0m\n\u001b[1;32m    570\u001b[0m         \u001b[0;31m# Don't delay the application, to avoid keeping the input\u001b[0m\u001b[0;34m\u001b[0m\u001b[0;34m\u001b[0m\u001b[0m\n\u001b[1;32m    571\u001b[0m         \u001b[0;31m# arguments in memory\u001b[0m\u001b[0;34m\u001b[0m\u001b[0;34m\u001b[0m\u001b[0m\n\u001b[0;32m--> 572\u001b[0;31m         \u001b[0mself\u001b[0m\u001b[0;34m.\u001b[0m\u001b[0mresults\u001b[0m \u001b[0;34m=\u001b[0m \u001b[0mbatch\u001b[0m\u001b[0;34m(\u001b[0m\u001b[0;34m)\u001b[0m\u001b[0;34m\u001b[0m\u001b[0;34m\u001b[0m\u001b[0m\n\u001b[0m\u001b[1;32m    573\u001b[0m \u001b[0;34m\u001b[0m\u001b[0m\n\u001b[1;32m    574\u001b[0m     \u001b[0;32mdef\u001b[0m \u001b[0mget\u001b[0m\u001b[0;34m(\u001b[0m\u001b[0mself\u001b[0m\u001b[0;34m)\u001b[0m\u001b[0;34m:\u001b[0m\u001b[0;34m\u001b[0m\u001b[0;34m\u001b[0m\u001b[0m\n",
      "\u001b[0;32m~/opt/anaconda3/lib/python3.9/site-packages/joblib/parallel.py\u001b[0m in \u001b[0;36m__call__\u001b[0;34m(self)\u001b[0m\n\u001b[1;32m    260\u001b[0m         \u001b[0;31m# change the default number of processes to -1\u001b[0m\u001b[0;34m\u001b[0m\u001b[0;34m\u001b[0m\u001b[0m\n\u001b[1;32m    261\u001b[0m         \u001b[0;32mwith\u001b[0m \u001b[0mparallel_backend\u001b[0m\u001b[0;34m(\u001b[0m\u001b[0mself\u001b[0m\u001b[0;34m.\u001b[0m\u001b[0m_backend\u001b[0m\u001b[0;34m,\u001b[0m \u001b[0mn_jobs\u001b[0m\u001b[0;34m=\u001b[0m\u001b[0mself\u001b[0m\u001b[0;34m.\u001b[0m\u001b[0m_n_jobs\u001b[0m\u001b[0;34m)\u001b[0m\u001b[0;34m:\u001b[0m\u001b[0;34m\u001b[0m\u001b[0;34m\u001b[0m\u001b[0m\n\u001b[0;32m--> 262\u001b[0;31m             return [func(*args, **kwargs)\n\u001b[0m\u001b[1;32m    263\u001b[0m                     for func, args, kwargs in self.items]\n\u001b[1;32m    264\u001b[0m \u001b[0;34m\u001b[0m\u001b[0m\n",
      "\u001b[0;32m~/opt/anaconda3/lib/python3.9/site-packages/joblib/parallel.py\u001b[0m in \u001b[0;36m<listcomp>\u001b[0;34m(.0)\u001b[0m\n\u001b[1;32m    260\u001b[0m         \u001b[0;31m# change the default number of processes to -1\u001b[0m\u001b[0;34m\u001b[0m\u001b[0;34m\u001b[0m\u001b[0m\n\u001b[1;32m    261\u001b[0m         \u001b[0;32mwith\u001b[0m \u001b[0mparallel_backend\u001b[0m\u001b[0;34m(\u001b[0m\u001b[0mself\u001b[0m\u001b[0;34m.\u001b[0m\u001b[0m_backend\u001b[0m\u001b[0;34m,\u001b[0m \u001b[0mn_jobs\u001b[0m\u001b[0;34m=\u001b[0m\u001b[0mself\u001b[0m\u001b[0;34m.\u001b[0m\u001b[0m_n_jobs\u001b[0m\u001b[0;34m)\u001b[0m\u001b[0;34m:\u001b[0m\u001b[0;34m\u001b[0m\u001b[0;34m\u001b[0m\u001b[0m\n\u001b[0;32m--> 262\u001b[0;31m             return [func(*args, **kwargs)\n\u001b[0m\u001b[1;32m    263\u001b[0m                     for func, args, kwargs in self.items]\n\u001b[1;32m    264\u001b[0m \u001b[0;34m\u001b[0m\u001b[0m\n",
      "\u001b[0;32m~/opt/anaconda3/lib/python3.9/site-packages/sklearn/utils/fixes.py\u001b[0m in \u001b[0;36m__call__\u001b[0;34m(self, *args, **kwargs)\u001b[0m\n\u001b[1;32m    214\u001b[0m     \u001b[0;32mdef\u001b[0m \u001b[0m__call__\u001b[0m\u001b[0;34m(\u001b[0m\u001b[0mself\u001b[0m\u001b[0;34m,\u001b[0m \u001b[0;34m*\u001b[0m\u001b[0margs\u001b[0m\u001b[0;34m,\u001b[0m \u001b[0;34m**\u001b[0m\u001b[0mkwargs\u001b[0m\u001b[0;34m)\u001b[0m\u001b[0;34m:\u001b[0m\u001b[0;34m\u001b[0m\u001b[0;34m\u001b[0m\u001b[0m\n\u001b[1;32m    215\u001b[0m         \u001b[0;32mwith\u001b[0m \u001b[0mconfig_context\u001b[0m\u001b[0;34m(\u001b[0m\u001b[0;34m**\u001b[0m\u001b[0mself\u001b[0m\u001b[0;34m.\u001b[0m\u001b[0mconfig\u001b[0m\u001b[0;34m)\u001b[0m\u001b[0;34m:\u001b[0m\u001b[0;34m\u001b[0m\u001b[0;34m\u001b[0m\u001b[0m\n\u001b[0;32m--> 216\u001b[0;31m             \u001b[0;32mreturn\u001b[0m \u001b[0mself\u001b[0m\u001b[0;34m.\u001b[0m\u001b[0mfunction\u001b[0m\u001b[0;34m(\u001b[0m\u001b[0;34m*\u001b[0m\u001b[0margs\u001b[0m\u001b[0;34m,\u001b[0m \u001b[0;34m**\u001b[0m\u001b[0mkwargs\u001b[0m\u001b[0;34m)\u001b[0m\u001b[0;34m\u001b[0m\u001b[0;34m\u001b[0m\u001b[0m\n\u001b[0m\u001b[1;32m    217\u001b[0m \u001b[0;34m\u001b[0m\u001b[0m\n\u001b[1;32m    218\u001b[0m \u001b[0;34m\u001b[0m\u001b[0m\n",
      "\u001b[0;32m~/opt/anaconda3/lib/python3.9/site-packages/sklearn/model_selection/_validation.py\u001b[0m in \u001b[0;36m_fit_and_score\u001b[0;34m(estimator, X, y, scorer, train, test, verbose, parameters, fit_params, return_train_score, return_parameters, return_n_test_samples, return_times, return_estimator, split_progress, candidate_progress, error_score)\u001b[0m\n\u001b[1;32m    678\u001b[0m             \u001b[0mestimator\u001b[0m\u001b[0;34m.\u001b[0m\u001b[0mfit\u001b[0m\u001b[0;34m(\u001b[0m\u001b[0mX_train\u001b[0m\u001b[0;34m,\u001b[0m \u001b[0;34m**\u001b[0m\u001b[0mfit_params\u001b[0m\u001b[0;34m)\u001b[0m\u001b[0;34m\u001b[0m\u001b[0;34m\u001b[0m\u001b[0m\n\u001b[1;32m    679\u001b[0m         \u001b[0;32melse\u001b[0m\u001b[0;34m:\u001b[0m\u001b[0;34m\u001b[0m\u001b[0;34m\u001b[0m\u001b[0m\n\u001b[0;32m--> 680\u001b[0;31m             \u001b[0mestimator\u001b[0m\u001b[0;34m.\u001b[0m\u001b[0mfit\u001b[0m\u001b[0;34m(\u001b[0m\u001b[0mX_train\u001b[0m\u001b[0;34m,\u001b[0m \u001b[0my_train\u001b[0m\u001b[0;34m,\u001b[0m \u001b[0;34m**\u001b[0m\u001b[0mfit_params\u001b[0m\u001b[0;34m)\u001b[0m\u001b[0;34m\u001b[0m\u001b[0;34m\u001b[0m\u001b[0m\n\u001b[0m\u001b[1;32m    681\u001b[0m \u001b[0;34m\u001b[0m\u001b[0m\n\u001b[1;32m    682\u001b[0m     \u001b[0;32mexcept\u001b[0m \u001b[0mException\u001b[0m\u001b[0;34m:\u001b[0m\u001b[0;34m\u001b[0m\u001b[0;34m\u001b[0m\u001b[0m\n",
      "\u001b[0;32m~/opt/anaconda3/lib/python3.9/site-packages/sklearn/linear_model/_logistic.py\u001b[0m in \u001b[0;36mfit\u001b[0;34m(self, X, y, sample_weight)\u001b[0m\n\u001b[1;32m   1587\u001b[0m         \u001b[0;32melse\u001b[0m\u001b[0;34m:\u001b[0m\u001b[0;34m\u001b[0m\u001b[0;34m\u001b[0m\u001b[0m\n\u001b[1;32m   1588\u001b[0m             \u001b[0mprefer\u001b[0m \u001b[0;34m=\u001b[0m \u001b[0;34m\"processes\"\u001b[0m\u001b[0;34m\u001b[0m\u001b[0;34m\u001b[0m\u001b[0m\n\u001b[0;32m-> 1589\u001b[0;31m         fold_coefs_ = Parallel(\n\u001b[0m\u001b[1;32m   1590\u001b[0m             \u001b[0mn_jobs\u001b[0m\u001b[0;34m=\u001b[0m\u001b[0mself\u001b[0m\u001b[0;34m.\u001b[0m\u001b[0mn_jobs\u001b[0m\u001b[0;34m,\u001b[0m\u001b[0;34m\u001b[0m\u001b[0;34m\u001b[0m\u001b[0m\n\u001b[1;32m   1591\u001b[0m             \u001b[0mverbose\u001b[0m\u001b[0;34m=\u001b[0m\u001b[0mself\u001b[0m\u001b[0;34m.\u001b[0m\u001b[0mverbose\u001b[0m\u001b[0;34m,\u001b[0m\u001b[0;34m\u001b[0m\u001b[0;34m\u001b[0m\u001b[0m\n",
      "\u001b[0;32m~/opt/anaconda3/lib/python3.9/site-packages/joblib/parallel.py\u001b[0m in \u001b[0;36m__call__\u001b[0;34m(self, iterable)\u001b[0m\n\u001b[1;32m   1054\u001b[0m \u001b[0;34m\u001b[0m\u001b[0m\n\u001b[1;32m   1055\u001b[0m             \u001b[0;32mwith\u001b[0m \u001b[0mself\u001b[0m\u001b[0;34m.\u001b[0m\u001b[0m_backend\u001b[0m\u001b[0;34m.\u001b[0m\u001b[0mretrieval_context\u001b[0m\u001b[0;34m(\u001b[0m\u001b[0;34m)\u001b[0m\u001b[0;34m:\u001b[0m\u001b[0;34m\u001b[0m\u001b[0;34m\u001b[0m\u001b[0m\n\u001b[0;32m-> 1056\u001b[0;31m                 \u001b[0mself\u001b[0m\u001b[0;34m.\u001b[0m\u001b[0mretrieve\u001b[0m\u001b[0;34m(\u001b[0m\u001b[0;34m)\u001b[0m\u001b[0;34m\u001b[0m\u001b[0;34m\u001b[0m\u001b[0m\n\u001b[0m\u001b[1;32m   1057\u001b[0m             \u001b[0;31m# Make sure that we get a last message telling us we are done\u001b[0m\u001b[0;34m\u001b[0m\u001b[0;34m\u001b[0m\u001b[0m\n\u001b[1;32m   1058\u001b[0m             \u001b[0melapsed_time\u001b[0m \u001b[0;34m=\u001b[0m \u001b[0mtime\u001b[0m\u001b[0;34m.\u001b[0m\u001b[0mtime\u001b[0m\u001b[0;34m(\u001b[0m\u001b[0;34m)\u001b[0m \u001b[0;34m-\u001b[0m \u001b[0mself\u001b[0m\u001b[0;34m.\u001b[0m\u001b[0m_start_time\u001b[0m\u001b[0;34m\u001b[0m\u001b[0;34m\u001b[0m\u001b[0m\n",
      "\u001b[0;32m~/opt/anaconda3/lib/python3.9/site-packages/joblib/parallel.py\u001b[0m in \u001b[0;36mretrieve\u001b[0;34m(self)\u001b[0m\n\u001b[1;32m    933\u001b[0m             \u001b[0;32mtry\u001b[0m\u001b[0;34m:\u001b[0m\u001b[0;34m\u001b[0m\u001b[0;34m\u001b[0m\u001b[0m\n\u001b[1;32m    934\u001b[0m                 \u001b[0;32mif\u001b[0m \u001b[0mgetattr\u001b[0m\u001b[0;34m(\u001b[0m\u001b[0mself\u001b[0m\u001b[0;34m.\u001b[0m\u001b[0m_backend\u001b[0m\u001b[0;34m,\u001b[0m \u001b[0;34m'supports_timeout'\u001b[0m\u001b[0;34m,\u001b[0m \u001b[0;32mFalse\u001b[0m\u001b[0;34m)\u001b[0m\u001b[0;34m:\u001b[0m\u001b[0;34m\u001b[0m\u001b[0;34m\u001b[0m\u001b[0m\n\u001b[0;32m--> 935\u001b[0;31m                     \u001b[0mself\u001b[0m\u001b[0;34m.\u001b[0m\u001b[0m_output\u001b[0m\u001b[0;34m.\u001b[0m\u001b[0mextend\u001b[0m\u001b[0;34m(\u001b[0m\u001b[0mjob\u001b[0m\u001b[0;34m.\u001b[0m\u001b[0mget\u001b[0m\u001b[0;34m(\u001b[0m\u001b[0mtimeout\u001b[0m\u001b[0;34m=\u001b[0m\u001b[0mself\u001b[0m\u001b[0;34m.\u001b[0m\u001b[0mtimeout\u001b[0m\u001b[0;34m)\u001b[0m\u001b[0;34m)\u001b[0m\u001b[0;34m\u001b[0m\u001b[0;34m\u001b[0m\u001b[0m\n\u001b[0m\u001b[1;32m    936\u001b[0m                 \u001b[0;32melse\u001b[0m\u001b[0;34m:\u001b[0m\u001b[0;34m\u001b[0m\u001b[0;34m\u001b[0m\u001b[0m\n\u001b[1;32m    937\u001b[0m                     \u001b[0mself\u001b[0m\u001b[0;34m.\u001b[0m\u001b[0m_output\u001b[0m\u001b[0;34m.\u001b[0m\u001b[0mextend\u001b[0m\u001b[0;34m(\u001b[0m\u001b[0mjob\u001b[0m\u001b[0;34m.\u001b[0m\u001b[0mget\u001b[0m\u001b[0;34m(\u001b[0m\u001b[0;34m)\u001b[0m\u001b[0;34m)\u001b[0m\u001b[0;34m\u001b[0m\u001b[0;34m\u001b[0m\u001b[0m\n",
      "\u001b[0;32m~/opt/anaconda3/lib/python3.9/site-packages/joblib/_parallel_backends.py\u001b[0m in \u001b[0;36mwrap_future_result\u001b[0;34m(future, timeout)\u001b[0m\n\u001b[1;32m    540\u001b[0m         AsyncResults.get from multiprocessing.\"\"\"\n\u001b[1;32m    541\u001b[0m         \u001b[0;32mtry\u001b[0m\u001b[0;34m:\u001b[0m\u001b[0;34m\u001b[0m\u001b[0;34m\u001b[0m\u001b[0m\n\u001b[0;32m--> 542\u001b[0;31m             \u001b[0;32mreturn\u001b[0m \u001b[0mfuture\u001b[0m\u001b[0;34m.\u001b[0m\u001b[0mresult\u001b[0m\u001b[0;34m(\u001b[0m\u001b[0mtimeout\u001b[0m\u001b[0;34m=\u001b[0m\u001b[0mtimeout\u001b[0m\u001b[0;34m)\u001b[0m\u001b[0;34m\u001b[0m\u001b[0;34m\u001b[0m\u001b[0m\n\u001b[0m\u001b[1;32m    543\u001b[0m         \u001b[0;32mexcept\u001b[0m \u001b[0mCfTimeoutError\u001b[0m \u001b[0;32mas\u001b[0m \u001b[0me\u001b[0m\u001b[0;34m:\u001b[0m\u001b[0;34m\u001b[0m\u001b[0;34m\u001b[0m\u001b[0m\n\u001b[1;32m    544\u001b[0m             \u001b[0;32mraise\u001b[0m \u001b[0mTimeoutError\u001b[0m \u001b[0;32mfrom\u001b[0m \u001b[0me\u001b[0m\u001b[0;34m\u001b[0m\u001b[0;34m\u001b[0m\u001b[0m\n",
      "\u001b[0;32m~/opt/anaconda3/lib/python3.9/concurrent/futures/_base.py\u001b[0m in \u001b[0;36mresult\u001b[0;34m(self, timeout)\u001b[0m\n\u001b[1;32m    439\u001b[0m                     \u001b[0;32mreturn\u001b[0m \u001b[0mself\u001b[0m\u001b[0;34m.\u001b[0m\u001b[0m__get_result\u001b[0m\u001b[0;34m(\u001b[0m\u001b[0;34m)\u001b[0m\u001b[0;34m\u001b[0m\u001b[0;34m\u001b[0m\u001b[0m\n\u001b[1;32m    440\u001b[0m \u001b[0;34m\u001b[0m\u001b[0m\n\u001b[0;32m--> 441\u001b[0;31m                 \u001b[0mself\u001b[0m\u001b[0;34m.\u001b[0m\u001b[0m_condition\u001b[0m\u001b[0;34m.\u001b[0m\u001b[0mwait\u001b[0m\u001b[0;34m(\u001b[0m\u001b[0mtimeout\u001b[0m\u001b[0;34m)\u001b[0m\u001b[0;34m\u001b[0m\u001b[0;34m\u001b[0m\u001b[0m\n\u001b[0m\u001b[1;32m    442\u001b[0m \u001b[0;34m\u001b[0m\u001b[0m\n\u001b[1;32m    443\u001b[0m                 \u001b[0;32mif\u001b[0m \u001b[0mself\u001b[0m\u001b[0;34m.\u001b[0m\u001b[0m_state\u001b[0m \u001b[0;32min\u001b[0m \u001b[0;34m[\u001b[0m\u001b[0mCANCELLED\u001b[0m\u001b[0;34m,\u001b[0m \u001b[0mCANCELLED_AND_NOTIFIED\u001b[0m\u001b[0;34m]\u001b[0m\u001b[0;34m:\u001b[0m\u001b[0;34m\u001b[0m\u001b[0;34m\u001b[0m\u001b[0m\n",
      "\u001b[0;32m~/opt/anaconda3/lib/python3.9/threading.py\u001b[0m in \u001b[0;36mwait\u001b[0;34m(self, timeout)\u001b[0m\n\u001b[1;32m    310\u001b[0m         \u001b[0;32mtry\u001b[0m\u001b[0;34m:\u001b[0m    \u001b[0;31m# restore state no matter what (e.g., KeyboardInterrupt)\u001b[0m\u001b[0;34m\u001b[0m\u001b[0;34m\u001b[0m\u001b[0m\n\u001b[1;32m    311\u001b[0m             \u001b[0;32mif\u001b[0m \u001b[0mtimeout\u001b[0m \u001b[0;32mis\u001b[0m \u001b[0;32mNone\u001b[0m\u001b[0;34m:\u001b[0m\u001b[0;34m\u001b[0m\u001b[0;34m\u001b[0m\u001b[0m\n\u001b[0;32m--> 312\u001b[0;31m                 \u001b[0mwaiter\u001b[0m\u001b[0;34m.\u001b[0m\u001b[0macquire\u001b[0m\u001b[0;34m(\u001b[0m\u001b[0;34m)\u001b[0m\u001b[0;34m\u001b[0m\u001b[0;34m\u001b[0m\u001b[0m\n\u001b[0m\u001b[1;32m    313\u001b[0m                 \u001b[0mgotit\u001b[0m \u001b[0;34m=\u001b[0m \u001b[0;32mTrue\u001b[0m\u001b[0;34m\u001b[0m\u001b[0;34m\u001b[0m\u001b[0m\n\u001b[1;32m    314\u001b[0m             \u001b[0;32melse\u001b[0m\u001b[0;34m:\u001b[0m\u001b[0;34m\u001b[0m\u001b[0;34m\u001b[0m\u001b[0m\n",
      "\u001b[0;31mKeyboardInterrupt\u001b[0m: "
     ]
    }
   ],
   "source": [
    "%%time\n",
    "\n",
    "lr = LogisticRegression(max_iter=100, C = 2, penalty = 'l1', solver = 'saga')\n",
    "scores = cross_val_score(lr, train_features, train_target,\n",
    "                         scoring = \"f1\",\n",
    "                         cv = 5)\n",
    "\n",
    "\n",
    "print('Точность модели логистической регрессии: ', max(scores))"
   ]
  },
  {
   "cell_type": "markdown",
   "metadata": {},
   "source": [
    "<div class=\"alert alert-block alert-danger\">\n",
    "<b>Ошибка:</b> Нам нужно измерять обычную меру, а не взвешенную.\n",
    "</div>\n",
    "<div class=\"alert alert-block alert-warning\">\n",
    "<b>Комментарий студента:</b> Убрал взвешенную меру\n",
    "</div>"
   ]
  },
  {
   "cell_type": "markdown",
   "metadata": {},
   "source": [
    "<div class=\"alert alert-block alert-success\">\n",
    "<b>Успех (ревью 2):</b> ОК.\n",
    "</div>"
   ]
  },
  {
   "cell_type": "markdown",
   "metadata": {},
   "source": [
    "<div class=\"alert alert-block alert-danger\">\n",
    "<b>Ошибка (ревью 3):</b> Проводить кросс-валидацию на upsampled/downsampled данных – некорректно, так как баланс классов нарушен. Напомню, что внутри кросс-валидации происходит разбиение переданной в нее выборки на треин и валидацию. \n",
    "    \n",
    "В случае upsampling получается так, что в треин и в валидацию (внутри кросс-валидации) вообще попадают одни и те же объекты. \n",
    "\n",
    "Можно попробовать реализовать подход из статьи: https://kiwidamien.github.io/how-to-do-cross-validation-when-upsampling-data.html .\n",
    "</div>"
   ]
  },
  {
   "cell_type": "markdown",
   "metadata": {},
   "source": [
    "<div class=\"alert alert-block alert-warning\">\n",
    "<b>Комментарий студента 3:</b> Убрал балансировку классов,  нашел оптимальные параметры через гридсерч, наверное это решение больше \"в лоб\" но оно работает ) \n",
    "</div>"
   ]
  },
  {
   "cell_type": "markdown",
   "metadata": {},
   "source": [
    "#### Обучим дерево"
   ]
  },
  {
   "cell_type": "code",
   "execution_count": 48,
   "metadata": {},
   "outputs": [
    {
     "name": "stdout",
     "output_type": "stream",
     "text": [
      "Точность модели дерева:  0.8910891089108911\n",
      "CPU times: user 5min 22s, sys: 738 ms, total: 5min 23s\n",
      "Wall time: 5min 26s\n"
     ]
    }
   ],
   "source": [
    "%%time\n",
    "\n",
    "dt = DecisionTreeClassifier()\n",
    "scores = cross_val_score(dt, train_features, train_target,\n",
    "                         scoring = \"f1\",\n",
    "                         cv = 5)\n",
    "\n",
    "\n",
    "print('Точность модели дерева: ', max(scores))"
   ]
  },
  {
   "cell_type": "markdown",
   "metadata": {},
   "source": [
    "#### Обучим случайный лес"
   ]
  },
  {
   "cell_type": "code",
   "execution_count": 49,
   "metadata": {},
   "outputs": [
    {
     "name": "stdout",
     "output_type": "stream",
     "text": [
      "Точность модели случайного леса:  0.9166666666666666\n",
      "CPU times: user 26min 58s, sys: 4.43 s, total: 27min 2s\n",
      "Wall time: 27min 3s\n"
     ]
    }
   ],
   "source": [
    "%%time\n",
    "\n",
    "rf = RandomForestClassifier()\n",
    "scores = cross_val_score(rf, train_features, train_target,\n",
    "                         scoring = \"f1\",\n",
    "                         cv = 5)\n",
    "\n",
    "\n",
    "print('Точность модели случайного леса: ', max(scores))"
   ]
  },
  {
   "cell_type": "markdown",
   "metadata": {},
   "source": [
    "<div class=\"alert alert-block alert-danger\">\n",
    "<b>Ошибка:</b> На тестовой выборке нужно измерить только одну – лучшую модель. Сравнение моделей нужно провести на кросс-валидации/валидационной выборке.\n",
    "</div>\n",
    "\n",
    "<div class=\"alert alert-block alert-warning\">\n",
    "<b>Комментарий студента:</b> В условиях задачи ни слова о кросс валидации и обучении только одной модели на тестовой выборке. Но я был рад попрактиковаться :)\n",
    "</div>"
   ]
  },
  {
   "cell_type": "markdown",
   "metadata": {},
   "source": [
    "<div class=\"alert alert-block alert-warning\">\n",
    "<b>Комментарий студента:</b> Удалена модель многослойного перцептрона, это самая адово медленная нейронка на свете\n",
    "</div>"
   ]
  },
  {
   "cell_type": "markdown",
   "metadata": {},
   "source": [
    "#### Проверим точность лучшей модели на тестовой выборке"
   ]
  },
  {
   "cell_type": "code",
   "execution_count": 17,
   "metadata": {},
   "outputs": [
    {
     "name": "stdout",
     "output_type": "stream",
     "text": [
      "Точность лучшей модели на тестовой выборке:  0.7805972725703435\n",
      "CPU times: user 2min 19s, sys: 60.2 ms, total: 2min 19s\n",
      "Wall time: 2min 19s\n"
     ]
    }
   ],
   "source": [
    "%%time\n",
    "\n",
    "test_model = LogisticRegression(max_iter=100, C = 2, penalty = 'l1', solver = 'saga')\n",
    "\n",
    "test_model.fit(train_features, train_target)\n",
    "\n",
    "predictions = test_model.predict(test_features)\n",
    "\n",
    "print('Точность лучшей модели на тестовой выборке: ', f1_score(test_target, predictions))"
   ]
  },
  {
   "cell_type": "markdown",
   "metadata": {},
   "source": [
    "<div class=\"alert alert-block alert-success\">\n",
    "<b>Успех (ревью 2):</b> Тестирование было сделано корректно, но скор завышенный из-за ошибки в балансе.\n",
    "</div>"
   ]
  },
  {
   "cell_type": "markdown",
   "metadata": {},
   "source": [
    "<div class=\"alert alert-block alert-warning\">\n",
    "<b>Комментарий студента 2:</b> Артем,  скор выше 75 нам на какой выборке нужен? Думаю что  если в условии задачи не указано, решение за тобой. Если такое решение не принимаем, порекомендуй, как еще можно улучшить точность на тестовой выборке?   \n",
    "</div>"
   ]
  },
  {
   "cell_type": "markdown",
   "metadata": {},
   "source": [
    "<div class=\"alert alert-block alert-danger\">\n",
    "<b>Ошибка (ревью 3):</b> Да. Скор 0.75 нужен на тесте. Использовать всю выборку или намного большую ее часть. Также, можно отказаться от апсемплинга вообще. В данном случае он незначительно влияет на качество.\n",
    "</div>"
   ]
  },
  {
   "cell_type": "markdown",
   "metadata": {},
   "source": [
    "<div class=\"alert alert-block alert-warning\">\n",
    "<b>Комментарий студента 3:</b> Полтора часа гридсерча, и готово. Артем,  если есть какие-то рекомендации как можно  ускорить процесс гридсерча, пришли пожалуйста\n",
    "    "
   ]
  },
  {
   "cell_type": "markdown",
   "metadata": {},
   "source": [
    "## Выводы"
   ]
  },
  {
   "cell_type": "markdown",
   "metadata": {},
   "source": [
    "- Логистическая регрессия показала лучший результат \n",
    "- Случайный лес уступает на несколько процентов в точности, производительность ниже\n",
    "- F1 score 0.75 удалось преодолеть всем моделям на обучаюей выборке. \n",
    "- Для улучшения результатов логистической регрессии запустили гридсерч. "
   ]
  },
  {
   "cell_type": "markdown",
   "metadata": {},
   "source": [
    "## Чек-лист проверки"
   ]
  },
  {
   "cell_type": "markdown",
   "metadata": {},
   "source": [
    "- [x]  Jupyter Notebook открыт\n",
    "- [x]  Весь код выполняется без ошибок\n",
    "- [x]  Ячейки с кодом расположены в порядке исполнения\n",
    "- [x]  Данные загружены и подготовлены\n",
    "- [x]  Модели обучены\n",
    "- [x]  Значение метрики *F1* не меньше 0.75\n",
    "- [x]  Выводы написаны"
   ]
  },
  {
   "cell_type": "code",
   "execution_count": null,
   "metadata": {},
   "outputs": [],
   "source": []
  }
 ],
 "metadata": {
  "ExecuteTimeLog": [
   {
    "duration": 2226,
    "start_time": "2023-02-02T07:00:35.470Z"
   },
   {
    "duration": 164,
    "start_time": "2023-02-02T07:00:42.657Z"
   },
   {
    "duration": 2543,
    "start_time": "2023-02-02T07:00:46.082Z"
   },
   {
    "duration": 3,
    "start_time": "2023-02-02T07:00:59.659Z"
   },
   {
    "duration": 1156,
    "start_time": "2023-02-02T07:01:02.867Z"
   },
   {
    "duration": 3,
    "start_time": "2023-02-02T07:10:13.692Z"
   },
   {
    "duration": 22,
    "start_time": "2023-02-02T07:10:17.206Z"
   },
   {
    "duration": 3,
    "start_time": "2023-02-02T07:13:41.403Z"
   },
   {
    "duration": 3,
    "start_time": "2023-02-02T07:13:45.139Z"
   },
   {
    "duration": 3,
    "start_time": "2023-02-02T07:13:49.611Z"
   },
   {
    "duration": 4,
    "start_time": "2023-02-02T07:13:53.201Z"
   },
   {
    "duration": 4,
    "start_time": "2023-02-02T07:14:05.873Z"
   },
   {
    "duration": 5,
    "start_time": "2023-02-02T07:14:11.222Z"
   },
   {
    "duration": 1012,
    "start_time": "2023-02-02T07:14:30.287Z"
   },
   {
    "duration": 5,
    "start_time": "2023-02-02T07:14:35.857Z"
   },
   {
    "duration": 4,
    "start_time": "2023-02-02T07:15:07.291Z"
   },
   {
    "duration": 4,
    "start_time": "2023-02-02T07:15:11.225Z"
   },
   {
    "duration": 3,
    "start_time": "2023-02-02T07:15:16.931Z"
   },
   {
    "duration": 4,
    "start_time": "2023-02-02T07:15:32.958Z"
   },
   {
    "duration": 3,
    "start_time": "2023-02-02T07:15:37.513Z"
   },
   {
    "duration": 59,
    "start_time": "2023-02-02T07:15:38.765Z"
   },
   {
    "duration": 5,
    "start_time": "2023-02-02T07:15:40.428Z"
   },
   {
    "duration": 4,
    "start_time": "2023-02-02T07:17:35.627Z"
   },
   {
    "duration": 13,
    "start_time": "2023-02-02T07:17:38.380Z"
   },
   {
    "duration": 8,
    "start_time": "2023-02-02T07:17:54.544Z"
   },
   {
    "duration": 78,
    "start_time": "2023-02-02T07:17:56.394Z"
   },
   {
    "duration": 4,
    "start_time": "2023-02-02T07:17:59.276Z"
   },
   {
    "duration": 276,
    "start_time": "2023-02-02T07:19:23.220Z"
   },
   {
    "duration": 30,
    "start_time": "2023-02-02T07:20:52.067Z"
   },
   {
    "duration": 6,
    "start_time": "2023-02-02T07:22:23.636Z"
   },
   {
    "duration": 16,
    "start_time": "2023-02-02T07:22:36.116Z"
   },
   {
    "duration": 2,
    "start_time": "2023-02-02T07:24:55.033Z"
   },
   {
    "duration": 80,
    "start_time": "2023-02-02T07:25:03.614Z"
   },
   {
    "duration": 8,
    "start_time": "2023-02-02T07:25:06.542Z"
   },
   {
    "duration": 25,
    "start_time": "2023-02-02T07:25:11.352Z"
   },
   {
    "duration": 64,
    "start_time": "2023-02-02T07:25:57.773Z"
   },
   {
    "duration": 4,
    "start_time": "2023-02-02T07:26:01.601Z"
   },
   {
    "duration": 19,
    "start_time": "2023-02-02T07:26:05.774Z"
   },
   {
    "duration": 3,
    "start_time": "2023-02-02T07:26:15.007Z"
   },
   {
    "duration": 85,
    "start_time": "2023-02-02T07:26:17.316Z"
   },
   {
    "duration": 7,
    "start_time": "2023-02-02T07:26:17.971Z"
   },
   {
    "duration": 17,
    "start_time": "2023-02-02T07:26:33.708Z"
   },
   {
    "duration": 31,
    "start_time": "2023-02-02T07:26:37.864Z"
   },
   {
    "duration": 18,
    "start_time": "2023-02-02T07:26:46.524Z"
   },
   {
    "duration": 59,
    "start_time": "2023-02-02T07:35:44.438Z"
   },
   {
    "duration": 895,
    "start_time": "2023-02-02T07:35:44.499Z"
   },
   {
    "duration": 3,
    "start_time": "2023-02-02T07:35:45.396Z"
   },
   {
    "duration": 11,
    "start_time": "2023-02-02T07:35:45.400Z"
   },
   {
    "duration": 1122,
    "start_time": "2023-02-02T07:35:45.414Z"
   },
   {
    "duration": 9,
    "start_time": "2023-02-02T07:35:46.538Z"
   },
   {
    "duration": 37,
    "start_time": "2023-02-02T07:35:46.549Z"
   },
   {
    "duration": 8,
    "start_time": "2023-02-02T07:35:46.587Z"
   },
   {
    "duration": 84,
    "start_time": "2023-02-02T07:35:46.596Z"
   },
   {
    "duration": 4,
    "start_time": "2023-02-02T07:35:46.682Z"
   },
   {
    "duration": 18,
    "start_time": "2023-02-02T07:35:46.687Z"
   },
   {
    "duration": 0,
    "start_time": "2023-02-02T07:35:46.707Z"
   },
   {
    "duration": 0,
    "start_time": "2023-02-02T07:35:46.708Z"
   },
   {
    "duration": 0,
    "start_time": "2023-02-02T07:35:46.709Z"
   },
   {
    "duration": 18,
    "start_time": "2023-02-02T07:35:59.677Z"
   },
   {
    "duration": 4,
    "start_time": "2023-02-02T07:37:18.187Z"
   },
   {
    "duration": 156,
    "start_time": "2023-02-02T07:37:41.529Z"
   },
   {
    "duration": 4,
    "start_time": "2023-02-02T07:38:25.617Z"
   },
   {
    "duration": 80,
    "start_time": "2023-02-02T07:38:26.621Z"
   },
   {
    "duration": 9,
    "start_time": "2023-02-02T07:38:28.450Z"
   },
   {
    "duration": 8,
    "start_time": "2023-02-02T07:38:32.451Z"
   },
   {
    "duration": 16,
    "start_time": "2023-02-02T07:38:36.478Z"
   },
   {
    "duration": 3,
    "start_time": "2023-02-02T07:38:47.898Z"
   },
   {
    "duration": 75,
    "start_time": "2023-02-02T07:38:50.244Z"
   },
   {
    "duration": 4,
    "start_time": "2023-02-02T07:38:51.081Z"
   },
   {
    "duration": 4,
    "start_time": "2023-02-02T07:38:56.578Z"
   },
   {
    "duration": 210,
    "start_time": "2023-02-02T07:39:04.602Z"
   },
   {
    "duration": 7,
    "start_time": "2023-02-02T07:39:20.476Z"
   },
   {
    "duration": 165,
    "start_time": "2023-02-02T07:39:23.732Z"
   },
   {
    "duration": 6,
    "start_time": "2023-02-02T07:39:47.368Z"
   },
   {
    "duration": 245,
    "start_time": "2023-02-02T07:39:51.552Z"
   },
   {
    "duration": 298,
    "start_time": "2023-02-02T07:39:55.322Z"
   },
   {
    "duration": 243,
    "start_time": "2023-02-02T07:42:45.414Z"
   },
   {
    "duration": 5891,
    "start_time": "2023-02-02T07:44:39.761Z"
   },
   {
    "duration": 6234,
    "start_time": "2023-02-02T07:44:53.215Z"
   },
   {
    "duration": 3682,
    "start_time": "2023-02-02T07:46:46.873Z"
   },
   {
    "duration": 1842,
    "start_time": "2023-02-02T07:47:12.421Z"
   },
   {
    "duration": 234583,
    "start_time": "2023-02-02T07:47:22.983Z"
   },
   {
    "duration": 278,
    "start_time": "2023-02-02T08:25:11.305Z"
   },
   {
    "duration": 22,
    "start_time": "2023-02-02T08:34:24.135Z"
   },
   {
    "duration": 8,
    "start_time": "2023-02-02T08:35:49.783Z"
   },
   {
    "duration": 16,
    "start_time": "2023-02-02T08:36:01.442Z"
   },
   {
    "duration": 9,
    "start_time": "2023-02-02T08:36:19.383Z"
   },
   {
    "duration": 10,
    "start_time": "2023-02-02T08:36:31.411Z"
   },
   {
    "duration": 10,
    "start_time": "2023-02-02T08:39:03.219Z"
   },
   {
    "duration": 137,
    "start_time": "2023-02-02T08:39:20.599Z"
   },
   {
    "duration": 7,
    "start_time": "2023-02-02T08:39:40.119Z"
   },
   {
    "duration": 171,
    "start_time": "2023-02-02T08:41:04.540Z"
   },
   {
    "duration": 47694,
    "start_time": "2023-02-02T08:48:24.657Z"
   },
   {
    "duration": 74,
    "start_time": "2023-02-02T08:49:29.007Z"
   },
   {
    "duration": 4,
    "start_time": "2023-02-02T08:49:33.026Z"
   },
   {
    "duration": 4,
    "start_time": "2023-02-02T08:49:38.366Z"
   },
   {
    "duration": 4,
    "start_time": "2023-02-02T08:49:42.306Z"
   },
   {
    "duration": 4,
    "start_time": "2023-02-02T08:52:21.047Z"
   },
   {
    "duration": 48161,
    "start_time": "2023-02-02T08:53:02.290Z"
   },
   {
    "duration": 100446,
    "start_time": "2023-02-02T09:01:28.410Z"
   },
   {
    "duration": 9,
    "start_time": "2023-02-02T09:03:08.858Z"
   },
   {
    "duration": 4,
    "start_time": "2023-02-02T09:05:34.811Z"
   },
   {
    "duration": 4,
    "start_time": "2023-02-02T09:05:54.911Z"
   },
   {
    "duration": 4,
    "start_time": "2023-02-02T09:06:23.828Z"
   },
   {
    "duration": 98970,
    "start_time": "2023-02-02T09:08:21.659Z"
   },
   {
    "duration": 99560,
    "start_time": "2023-02-02T09:10:17.910Z"
   },
   {
    "duration": 2834,
    "start_time": "2023-02-02T09:33:24.894Z"
   },
   {
    "duration": 0,
    "start_time": "2023-02-02T09:33:27.731Z"
   },
   {
    "duration": 0,
    "start_time": "2023-02-02T09:33:27.732Z"
   },
   {
    "duration": 0,
    "start_time": "2023-02-02T09:33:27.733Z"
   },
   {
    "duration": 0,
    "start_time": "2023-02-02T09:33:27.734Z"
   },
   {
    "duration": 0,
    "start_time": "2023-02-02T09:33:27.735Z"
   },
   {
    "duration": 0,
    "start_time": "2023-02-02T09:33:27.737Z"
   },
   {
    "duration": 0,
    "start_time": "2023-02-02T09:33:27.738Z"
   },
   {
    "duration": 0,
    "start_time": "2023-02-02T09:33:27.740Z"
   },
   {
    "duration": 0,
    "start_time": "2023-02-02T09:33:27.741Z"
   },
   {
    "duration": 0,
    "start_time": "2023-02-02T09:33:27.742Z"
   },
   {
    "duration": 0,
    "start_time": "2023-02-02T09:33:27.743Z"
   },
   {
    "duration": 0,
    "start_time": "2023-02-02T09:33:27.749Z"
   },
   {
    "duration": 0,
    "start_time": "2023-02-02T09:33:27.750Z"
   },
   {
    "duration": 2857,
    "start_time": "2023-02-04T08:05:55.443Z"
   },
   {
    "duration": 3481,
    "start_time": "2023-02-04T08:05:58.302Z"
   },
   {
    "duration": 188,
    "start_time": "2023-02-04T08:06:05.043Z"
   },
   {
    "duration": 131,
    "start_time": "2023-02-04T08:07:17.776Z"
   },
   {
    "duration": 4,
    "start_time": "2023-02-04T08:07:27.106Z"
   },
   {
    "duration": 1267,
    "start_time": "2023-02-04T08:07:28.961Z"
   },
   {
    "duration": 32554,
    "start_time": "2023-02-04T08:07:30.230Z"
   },
   {
    "duration": 5,
    "start_time": "2023-02-04T08:08:02.786Z"
   },
   {
    "duration": 27,
    "start_time": "2023-02-04T08:08:02.792Z"
   },
   {
    "duration": 2095,
    "start_time": "2023-02-04T08:08:02.821Z"
   },
   {
    "duration": 3,
    "start_time": "2023-02-04T08:08:04.918Z"
   },
   {
    "duration": 7025,
    "start_time": "2023-02-04T08:08:04.923Z"
   },
   {
    "duration": 6952,
    "start_time": "2023-02-04T08:08:35.459Z"
   },
   {
    "duration": 4,
    "start_time": "2023-02-04T08:08:48.390Z"
   },
   {
    "duration": 57,
    "start_time": "2023-02-04T08:18:54.841Z"
   },
   {
    "duration": 52,
    "start_time": "2023-02-04T08:19:31.297Z"
   },
   {
    "duration": 14,
    "start_time": "2023-02-04T08:19:36.031Z"
   },
   {
    "duration": 5472,
    "start_time": "2023-02-04T08:19:52.336Z"
   },
   {
    "duration": 16,
    "start_time": "2023-02-04T08:20:17.474Z"
   },
   {
    "duration": 21,
    "start_time": "2023-02-04T08:20:35.036Z"
   },
   {
    "duration": 21,
    "start_time": "2023-02-04T08:20:47.979Z"
   },
   {
    "duration": 107,
    "start_time": "2023-02-04T08:21:57.863Z"
   },
   {
    "duration": 1001,
    "start_time": "2023-02-04T08:22:28.480Z"
   },
   {
    "duration": 7,
    "start_time": "2023-02-04T08:22:50.420Z"
   },
   {
    "duration": 177,
    "start_time": "2023-02-04T08:24:01.544Z"
   },
   {
    "duration": 152,
    "start_time": "2023-02-04T08:25:23.985Z"
   },
   {
    "duration": 152,
    "start_time": "2023-02-04T08:26:51.374Z"
   },
   {
    "duration": 31,
    "start_time": "2023-02-04T08:26:55.999Z"
   },
   {
    "duration": 28,
    "start_time": "2023-02-04T08:30:00.171Z"
   },
   {
    "duration": 70,
    "start_time": "2023-02-04T08:30:11.480Z"
   },
   {
    "duration": 7815,
    "start_time": "2023-02-04T08:30:15.607Z"
   },
   {
    "duration": 209,
    "start_time": "2023-02-04T08:30:30.468Z"
   },
   {
    "duration": 45,
    "start_time": "2023-02-04T08:30:38.214Z"
   },
   {
    "duration": 145,
    "start_time": "2023-02-04T08:30:52.540Z"
   },
   {
    "duration": 68,
    "start_time": "2023-02-04T08:30:58.095Z"
   },
   {
    "duration": 243,
    "start_time": "2023-02-04T08:30:59.090Z"
   },
   {
    "duration": 1843,
    "start_time": "2023-02-04T08:31:03.273Z"
   },
   {
    "duration": 13,
    "start_time": "2023-02-04T08:31:50.282Z"
   },
   {
    "duration": 360,
    "start_time": "2023-02-04T08:31:57.228Z"
   },
   {
    "duration": 26,
    "start_time": "2023-02-04T08:33:18.379Z"
   },
   {
    "duration": 151,
    "start_time": "2023-02-04T08:33:24.125Z"
   },
   {
    "duration": 18,
    "start_time": "2023-02-04T08:33:30.622Z"
   },
   {
    "duration": 71,
    "start_time": "2023-02-04T08:33:37.260Z"
   },
   {
    "duration": 239,
    "start_time": "2023-02-04T08:33:38.676Z"
   },
   {
    "duration": 2088,
    "start_time": "2023-02-04T08:33:39.763Z"
   },
   {
    "duration": 59536,
    "start_time": "2023-02-04T08:33:46.255Z"
   },
   {
    "duration": 54,
    "start_time": "2023-02-04T08:35:48.460Z"
   },
   {
    "duration": 326466,
    "start_time": "2023-02-04T08:36:13.213Z"
   },
   {
    "duration": 1623353,
    "start_time": "2023-02-04T08:41:39.683Z"
   },
   {
    "duration": 12312,
    "start_time": "2023-02-04T09:08:43.038Z"
   },
   {
    "duration": 2972,
    "start_time": "2023-02-04T09:16:17.490Z"
   },
   {
    "duration": 13324,
    "start_time": "2023-02-04T09:16:35.982Z"
   },
   {
    "duration": 10740,
    "start_time": "2023-02-04T09:16:59.944Z"
   },
   {
    "duration": 830,
    "start_time": "2023-02-04T09:17:17.861Z"
   },
   {
    "duration": 812,
    "start_time": "2023-02-04T09:17:24.123Z"
   },
   {
    "duration": 950,
    "start_time": "2023-02-04T09:17:30.016Z"
   },
   {
    "duration": 10863,
    "start_time": "2023-02-04T09:17:47.108Z"
   },
   {
    "duration": 2031,
    "start_time": "2023-02-04T09:18:10.687Z"
   },
   {
    "duration": 47,
    "start_time": "2023-02-04T09:19:10.006Z"
   },
   {
    "duration": 3259,
    "start_time": "2023-02-04T13:01:55.978Z"
   },
   {
    "duration": 4157,
    "start_time": "2023-02-04T13:02:00.657Z"
   },
   {
    "duration": 203,
    "start_time": "2023-02-04T13:02:06.337Z"
   },
   {
    "duration": 5,
    "start_time": "2023-02-04T13:02:19.422Z"
   },
   {
    "duration": 38414,
    "start_time": "2023-02-04T13:02:22.436Z"
   },
   {
    "duration": 4,
    "start_time": "2023-02-04T13:03:00.852Z"
   },
   {
    "duration": 2345,
    "start_time": "2023-02-04T13:03:00.858Z"
   },
   {
    "duration": 14,
    "start_time": "2023-02-04T13:03:03.205Z"
   },
   {
    "duration": 98,
    "start_time": "2023-02-04T13:03:03.224Z"
   },
   {
    "duration": 243,
    "start_time": "2023-02-04T13:03:03.326Z"
   },
   {
    "duration": 1977,
    "start_time": "2023-02-04T13:03:03.571Z"
   },
   {
    "duration": 57909,
    "start_time": "2023-02-04T13:03:05.549Z"
   },
   {
    "duration": 302,
    "start_time": "2023-02-04T13:06:49.191Z"
   },
   {
    "duration": 81,
    "start_time": "2023-02-04T13:07:10.459Z"
   },
   {
    "duration": 494,
    "start_time": "2023-02-04T13:07:13.933Z"
   },
   {
    "duration": 326,
    "start_time": "2023-02-04T13:07:31.178Z"
   },
   {
    "duration": 68,
    "start_time": "2023-02-04T13:07:37.785Z"
   },
   {
    "duration": 414,
    "start_time": "2023-02-04T13:07:40.247Z"
   },
   {
    "duration": 213,
    "start_time": "2023-02-04T13:08:01.034Z"
   },
   {
    "duration": 2047,
    "start_time": "2023-02-04T13:08:19.537Z"
   },
   {
    "duration": 42415,
    "start_time": "2023-02-04T13:08:29.651Z"
   },
   {
    "duration": 42655,
    "start_time": "2023-02-04T13:10:15.095Z"
   },
   {
    "duration": 10,
    "start_time": "2023-02-04T13:11:25.787Z"
   },
   {
    "duration": 4,
    "start_time": "2023-02-04T13:11:35.332Z"
   },
   {
    "duration": 42755,
    "start_time": "2023-02-04T13:12:23.570Z"
   },
   {
    "duration": 62,
    "start_time": "2023-02-04T13:21:31.667Z"
   },
   {
    "duration": 819,
    "start_time": "2023-02-04T13:21:34.529Z"
   },
   {
    "duration": 182,
    "start_time": "2023-02-04T13:21:37.443Z"
   },
   {
    "duration": 4,
    "start_time": "2023-02-04T13:21:42.463Z"
   },
   {
    "duration": 4,
    "start_time": "2023-02-04T13:21:43.754Z"
   },
   {
    "duration": 35267,
    "start_time": "2023-02-04T13:21:44.165Z"
   },
   {
    "duration": 4,
    "start_time": "2023-02-04T13:22:19.434Z"
   },
   {
    "duration": 8,
    "start_time": "2023-02-04T13:22:19.440Z"
   },
   {
    "duration": 2166,
    "start_time": "2023-02-04T13:22:19.450Z"
   },
   {
    "duration": 5,
    "start_time": "2023-02-04T13:22:21.618Z"
   },
   {
    "duration": 97,
    "start_time": "2023-02-04T13:22:21.625Z"
   },
   {
    "duration": 4,
    "start_time": "2023-02-04T13:22:21.724Z"
   },
   {
    "duration": 7544,
    "start_time": "2023-02-04T13:22:21.730Z"
   },
   {
    "duration": 54333,
    "start_time": "2023-02-04T13:25:15.269Z"
   },
   {
    "duration": 37714,
    "start_time": "2023-02-04T13:26:22.839Z"
   },
   {
    "duration": 6495,
    "start_time": "2023-02-04T13:27:22.602Z"
   },
   {
    "duration": 12,
    "start_time": "2023-02-04T13:29:50.034Z"
   },
   {
    "duration": 239300,
    "start_time": "2023-02-04T13:31:58.720Z"
   }
  ],
  "kernelspec": {
   "display_name": "Python 3 (ipykernel)",
   "language": "python",
   "name": "python3"
  },
  "language_info": {
   "codemirror_mode": {
    "name": "ipython",
    "version": 3
   },
   "file_extension": ".py",
   "mimetype": "text/x-python",
   "name": "python",
   "nbconvert_exporter": "python",
   "pygments_lexer": "ipython3",
   "version": "3.9.13"
  },
  "toc": {
   "base_numbering": 1,
   "nav_menu": {},
   "number_sections": true,
   "sideBar": true,
   "skip_h1_title": true,
   "title_cell": "Содержание",
   "title_sidebar": "Contents",
   "toc_cell": true,
   "toc_position": {
    "height": "calc(100% - 180px)",
    "left": "10px",
    "top": "150px",
    "width": "302.391px"
   },
   "toc_section_display": true,
   "toc_window_display": false
  }
 },
 "nbformat": 4,
 "nbformat_minor": 2
}
