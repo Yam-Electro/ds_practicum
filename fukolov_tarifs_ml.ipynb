{
 "cells": [
  {
   "cell_type": "markdown",
   "id": "cb0fac2e",
   "metadata": {},
   "source": [
    "<div style=\"border:solid Chocolate 2px; padding: 40px\">\n",
    "\n",
    "<b>Станислав, привет!👋</b>\n",
    "\n",
    "Меня зовут Александр Куимов, я буду ревьюером твоего проекта. Ты можешь обращаться ко мне на \"ты\"😏 Надеюсь, тебя также не смутит, если я буду обращаться к тебе на \"ты\", но если это неудобно, обязательно скажи об этом!\n",
    "\n",
    "Пожалуйста, не удаляй мои комментарии, они будут особенно полезны для нашей работы в случае повторной проверки проекта. \n",
    "\n",
    "Ты также можешь реагировать на мои комментарии своими, выделяя их цветами и наиболее понравившимся тебе способом оформления, но явно  отличающимся от моих комментариев. Это нужно, чтобы не создавалась путаница😉\n",
    "\n",
    "Ты можешь найти мои комментарии, обозначенные <font color='green'>зеленым</font>, <font color='gold'>желтым</font> и <font color='red'>красным</font> цветами, например:\n",
    "\n",
    "<br/>\n",
    "\n",
    "<div class=\"alert alert-success\">\n",
    "<h2> Комментарий ревьюера <a class=\"tocSkip\"> </h2>\n",
    "\n",
    "<b>Все отлично!👍:</b> В случае, если решение на отдельном шаге является полностью правильным.\n",
    "</div>\n",
    "\n",
    "<br/>\n",
    "\n",
    "<div class=\"alert alert-warning\">\n",
    "    <h2> Комментарий ревьюера <a class=\"tocSkip\"> </h2>\n",
    "    \n",
    "<b>Некоторые замечания и рекомендации💡:</b> В случае, когда решение на отдельном шаге станет еще лучше, если внести небольшие коррективы.\n",
    "</div>\n",
    "\n",
    "\n",
    "<br/>\n",
    "<div class=\"alert alert-block alert-danger\">\n",
    "<h2> Комментарий ревьюера <a class=\"tocSkip\"></h2>\n",
    "\n",
    "    \n",
    "<b>На доработку🤔:</b>\n",
    " В случае, когда решение на отдельном шаге требует существенной переработки и внесения правок. Напоминаю, что проект не может быть принят с первого раза, если ревью содержит комментарии, рекомендующие доработать шаги.\n",
    "</div>\n",
    "    \n",
    "    \n",
    "<br/>    \n",
    "<div class=\"alert alert-info\">\n",
    "<h2> Комментарий студента: <a class=\"tocSkip\"> </h2>\n",
    "\n",
    "<b>👋:</b> В такой цветовой ячейке я прошу тебя оставлять свои комментарии. Если исправляешь проект на второй итерации и выше, не забывай пожалуйста указывать номер итерации, например, \"Комментарий студента v.2\".\n",
    "</div> \n",
    "\n",
    "<br/>    \n",
    "    \n",
    "Увидев у тебя неточность, в первый раз я лишь укажу на ее наличие и дам тебе возможность самому найти и исправить ее. На реальной работе твой руководитель будет поступать также, и я пытаюсь подготовить тебя именно к работе датасаентистом. Но если ты пока не справишься с такой задачей - при следующей проверке я дам более точную подсказку!🤓"
   ]
  },
  {
   "cell_type": "markdown",
   "id": "50eefd23",
   "metadata": {},
   "source": [
    "## Описание проекта\n",
    "- Оператор мобильной связи «Мегалайн» выяснил: многие клиенты пользуются архивными тарифами. Они хотят построить систему, способную проанализировать поведение клиентов и предложить пользователям новый тариф: «Смарт» или «Ультра».\n",
    "\n",
    "- В вашем распоряжении данные о поведении клиентов, которые уже перешли на эти тарифы (из проекта курса «Статистический анализ данных»). Нужно построить модель для задачи классификации, которая выберет подходящий тариф. Предобработка данных не понадобится — вы её уже сделали.\n",
    "\n",
    "- Постройте модель с максимально большим значением accuracy. Чтобы сдать проект успешно, нужно довести долю правильных ответов по крайней мере до 0.75. Проверьте accuracy на тестовой выборке самостоятельно.\n",
    "\n",
    "## Инструкция по выполнению проекта\n",
    "- 1 Откройте файл с данными и изучите его. Путь к файлу: **/datasets/users_behavior.csv**. Скачать датасет\n",
    "- 2 Разделите исходные данные на обучающую, валидационную и тестовую выборки.\n",
    "- 3 Исследуйте качество разных моделей, меняя гиперпараметры. Кратко напишите выводы исследования.\n",
    "- 4 Проверьте качество модели на тестовой выборке.\n",
    "- 5 Дополнительное задание: проверьте модели на вменяемость. Ничего страшного, если не получится: эти данные сложнее тех, с которыми вы работали раньше. В следующем курсе подробнее об этом расскажем."
   ]
  },
  {
   "cell_type": "markdown",
   "id": "b85327aa",
   "metadata": {},
   "source": [
    "<div class=\"alert alert-success\">\n",
    "<h2> Комментарий ревьюера <a class=\"tocSkip\"> </h2>\n",
    "\n",
    "<b>Все отлично!👍:</b> \n",
    "    \n",
    "Вижу твое добавленное описание проекта. Молодец! Это поможет тебе расставлять акценты в выводах."
   ]
  },
  {
   "cell_type": "code",
   "execution_count": 1,
   "id": "03d768f9",
   "metadata": {},
   "outputs": [],
   "source": [
    "import pandas as pd\n",
    "from  sklearn.metrics import mean_squared_error\n",
    "from sklearn.metrics import accuracy_score\n",
    "import seaborn as s\n",
    "from sklearn.model_selection import train_test_split, cross_val_score\n",
    "\n",
    "from sklearn.tree import DecisionTreeClassifier\n",
    "from sklearn.ensemble import RandomForestClassifier\n",
    "from sklearn.linear_model import LogisticRegression\n",
    "from sklearn.dummy import DummyClassifier\n"
   ]
  },
  {
   "cell_type": "markdown",
   "id": "6bc14502",
   "metadata": {},
   "source": [
    "### 1 Откройте файл с данными и изучите его."
   ]
  },
  {
   "cell_type": "code",
   "execution_count": 2,
   "id": "740fe1f0",
   "metadata": {},
   "outputs": [
    {
     "data": {
      "text/html": [
       "<div>\n",
       "<style scoped>\n",
       "    .dataframe tbody tr th:only-of-type {\n",
       "        vertical-align: middle;\n",
       "    }\n",
       "\n",
       "    .dataframe tbody tr th {\n",
       "        vertical-align: top;\n",
       "    }\n",
       "\n",
       "    .dataframe thead th {\n",
       "        text-align: right;\n",
       "    }\n",
       "</style>\n",
       "<table border=\"1\" class=\"dataframe\">\n",
       "  <thead>\n",
       "    <tr style=\"text-align: right;\">\n",
       "      <th></th>\n",
       "      <th>calls</th>\n",
       "      <th>minutes</th>\n",
       "      <th>messages</th>\n",
       "      <th>mb_used</th>\n",
       "      <th>is_ultra</th>\n",
       "    </tr>\n",
       "  </thead>\n",
       "  <tbody>\n",
       "    <tr>\n",
       "      <th>0</th>\n",
       "      <td>40.0</td>\n",
       "      <td>311.90</td>\n",
       "      <td>83.0</td>\n",
       "      <td>19915.42</td>\n",
       "      <td>0</td>\n",
       "    </tr>\n",
       "    <tr>\n",
       "      <th>1</th>\n",
       "      <td>85.0</td>\n",
       "      <td>516.75</td>\n",
       "      <td>56.0</td>\n",
       "      <td>22696.96</td>\n",
       "      <td>0</td>\n",
       "    </tr>\n",
       "    <tr>\n",
       "      <th>2</th>\n",
       "      <td>77.0</td>\n",
       "      <td>467.66</td>\n",
       "      <td>86.0</td>\n",
       "      <td>21060.45</td>\n",
       "      <td>0</td>\n",
       "    </tr>\n",
       "    <tr>\n",
       "      <th>3</th>\n",
       "      <td>106.0</td>\n",
       "      <td>745.53</td>\n",
       "      <td>81.0</td>\n",
       "      <td>8437.39</td>\n",
       "      <td>1</td>\n",
       "    </tr>\n",
       "    <tr>\n",
       "      <th>4</th>\n",
       "      <td>66.0</td>\n",
       "      <td>418.74</td>\n",
       "      <td>1.0</td>\n",
       "      <td>14502.75</td>\n",
       "      <td>0</td>\n",
       "    </tr>\n",
       "  </tbody>\n",
       "</table>\n",
       "</div>"
      ],
      "text/plain": [
       "   calls  minutes  messages   mb_used  is_ultra\n",
       "0   40.0   311.90      83.0  19915.42         0\n",
       "1   85.0   516.75      56.0  22696.96         0\n",
       "2   77.0   467.66      86.0  21060.45         0\n",
       "3  106.0   745.53      81.0   8437.39         1\n",
       "4   66.0   418.74       1.0  14502.75         0"
      ]
     },
     "execution_count": 2,
     "metadata": {},
     "output_type": "execute_result"
    }
   ],
   "source": [
    "df = pd.read_csv('/datasets/users_behavior.csv')\n",
    "df.head()"
   ]
  },
  {
   "cell_type": "code",
   "execution_count": 3,
   "id": "2084bdb9",
   "metadata": {},
   "outputs": [
    {
     "name": "stdout",
     "output_type": "stream",
     "text": [
      "<class 'pandas.core.frame.DataFrame'>\n",
      "RangeIndex: 3214 entries, 0 to 3213\n",
      "Data columns (total 5 columns):\n",
      " #   Column    Non-Null Count  Dtype  \n",
      "---  ------    --------------  -----  \n",
      " 0   calls     3214 non-null   float64\n",
      " 1   minutes   3214 non-null   float64\n",
      " 2   messages  3214 non-null   float64\n",
      " 3   mb_used   3214 non-null   float64\n",
      " 4   is_ultra  3214 non-null   int64  \n",
      "dtypes: float64(4), int64(1)\n",
      "memory usage: 125.7 KB\n"
     ]
    }
   ],
   "source": [
    "df.info()"
   ]
  },
  {
   "cell_type": "code",
   "execution_count": 4,
   "id": "178ad363",
   "metadata": {},
   "outputs": [
    {
     "data": {
      "text/plain": [
       "<AxesSubplot:>"
      ]
     },
     "execution_count": 4,
     "metadata": {},
     "output_type": "execute_result"
    },
    {
     "data": {
      "image/png": "[encoded data removed]",
      "text/plain": [
       "<Figure size 432x288 with 2 Axes>"
      ]
     },
     "metadata": {
      "needs_background": "light"
     },
     "output_type": "display_data"
    }
   ],
   "source": [
    "#Построим тепловую карту пропущенных значений\n",
    "cols = df.columns\n",
    "colours = ['#000099', '#ffff00'] \n",
    "s.heatmap(df[cols].isnull(), cmap=s.color_palette(colours))"
   ]
  },
  {
   "cell_type": "code",
   "execution_count": 5,
   "id": "f331ecbd",
   "metadata": {
    "scrolled": true
   },
   "outputs": [
    {
     "name": "stdout",
     "output_type": "stream",
     "text": [
      "calls\n",
      "69.0     60\n",
      "68.0     49\n",
      "64.0     48\n",
      "65.0     47\n",
      "77.0     47\n",
      "         ..\n",
      "157.0     1\n",
      "203.0     1\n",
      "148.0     1\n",
      "167.0     1\n",
      "168.0     1\n",
      "Name: calls, Length: 184, dtype: int64\n",
      "\n",
      "minutes\n",
      "0.00      40\n",
      "564.01     3\n",
      "2.00       3\n",
      "1.00       3\n",
      "270.06     2\n",
      "          ..\n",
      "498.91     1\n",
      "258.82     1\n",
      "296.78     1\n",
      "336.91     1\n",
      "566.09     1\n",
      "Name: minutes, Length: 3144, dtype: int64\n",
      "\n",
      "messages\n",
      "0.0      497\n",
      "20.0      52\n",
      "6.0       46\n",
      "16.0      45\n",
      "17.0      44\n",
      "        ... \n",
      "180.0      1\n",
      "169.0      1\n",
      "185.0      1\n",
      "201.0      1\n",
      "170.0      1\n",
      "Name: messages, Length: 180, dtype: int64\n",
      "\n",
      "mb_used\n",
      "0.00        11\n",
      "0.01         2\n",
      "19915.42     1\n",
      "20543.85     1\n",
      "21522.45     1\n",
      "            ..\n",
      "20736.28     1\n",
      "33988.90     1\n",
      "10328.70     1\n",
      "22064.65     1\n",
      "29480.52     1\n",
      "Name: mb_used, Length: 3203, dtype: int64\n",
      "\n",
      "is_ultra\n",
      "0    2229\n",
      "1     985\n",
      "Name: is_ultra, dtype: int64\n",
      "\n"
     ]
    }
   ],
   "source": [
    "#Глянем что у нас в каждом  столбце за данные\n",
    "for a in df.columns:\n",
    "    print(a)\n",
    "    exec( 'print(df['+ '\\'' + a + '\\'' + '].value_counts())') \n",
    "    print('')"
   ]
  },
  {
   "cell_type": "code",
   "execution_count": 6,
   "id": "bff8a04d",
   "metadata": {},
   "outputs": [
    {
     "data": {
      "text/html": [
       "<div>\n",
       "<style scoped>\n",
       "    .dataframe tbody tr th:only-of-type {\n",
       "        vertical-align: middle;\n",
       "    }\n",
       "\n",
       "    .dataframe tbody tr th {\n",
       "        vertical-align: top;\n",
       "    }\n",
       "\n",
       "    .dataframe thead th {\n",
       "        text-align: right;\n",
       "    }\n",
       "</style>\n",
       "<table border=\"1\" class=\"dataframe\">\n",
       "  <thead>\n",
       "    <tr style=\"text-align: right;\">\n",
       "      <th></th>\n",
       "      <th>calls</th>\n",
       "      <th>minutes</th>\n",
       "      <th>messages</th>\n",
       "      <th>mb_used</th>\n",
       "      <th>is_ultra</th>\n",
       "    </tr>\n",
       "  </thead>\n",
       "  <tbody>\n",
       "  </tbody>\n",
       "</table>\n",
       "</div>"
      ],
      "text/plain": [
       "Empty DataFrame\n",
       "Columns: [calls, minutes, messages, mb_used, is_ultra]\n",
       "Index: []"
      ]
     },
     "execution_count": 6,
     "metadata": {},
     "output_type": "execute_result"
    }
   ],
   "source": [
    "df[df.duplicated()]"
   ]
  },
  {
   "cell_type": "markdown",
   "id": "8ba68387",
   "metadata": {},
   "source": [
    "##### Результат первичного анализа даных:\n",
    "- Null значений нет\n",
    "- Дубликатов нет\n",
    "- Предварительная обработка не требуется"
   ]
  },
  {
   "cell_type": "markdown",
   "id": "564b2da8",
   "metadata": {},
   "source": [
    "<div class=\"alert alert-success\">\n",
    "<h2> Комментарий ревьюера <a class=\"tocSkip\"></a></h2>\n",
    "\n",
    "<b>Все отлично!👍:  </b> \n",
    "    \n",
    "С данными познакомились, проведен первичный аналитический осмотр!) Полученная информация поможет нам в дальнейшем с предобработкой данных.\n",
    "</div>"
   ]
  },
  {
   "cell_type": "markdown",
   "id": "23d852f8",
   "metadata": {},
   "source": [
    "<div class=\"alert alert-warning\">\n",
    "    <h2> Комментарий ревьюера <a class=\"tocSkip\"></a></h2>\n",
    "    \n",
    "<b>Некоторые замечания и рекомендации💡:</b> \n",
    "    \n",
    "- В данных есть мультиколлинеарность в фичах calls и minutes. Желательно проверить это методом `corr()` и удалить один из признаков для устранения проблемы. \n",
    "- Рекомендую также тебе посмотреть метод `sns.pairplot` с параметром `hue`, в который мы передаем целевой признак.\n",
    "</div>\n"
   ]
  },
  {
   "cell_type": "code",
   "execution_count": 7,
   "id": "815b6c74",
   "metadata": {},
   "outputs": [
    {
     "data": {
      "text/html": [
       "<div>\n",
       "<style scoped>\n",
       "    .dataframe tbody tr th:only-of-type {\n",
       "        vertical-align: middle;\n",
       "    }\n",
       "\n",
       "    .dataframe tbody tr th {\n",
       "        vertical-align: top;\n",
       "    }\n",
       "\n",
       "    .dataframe thead th {\n",
       "        text-align: right;\n",
       "    }\n",
       "</style>\n",
       "<table border=\"1\" class=\"dataframe\">\n",
       "  <thead>\n",
       "    <tr style=\"text-align: right;\">\n",
       "      <th></th>\n",
       "      <th>calls</th>\n",
       "      <th>minutes</th>\n",
       "      <th>messages</th>\n",
       "      <th>mb_used</th>\n",
       "      <th>is_ultra</th>\n",
       "    </tr>\n",
       "  </thead>\n",
       "  <tbody>\n",
       "    <tr>\n",
       "      <th>calls</th>\n",
       "      <td>1.000000</td>\n",
       "      <td>0.982083</td>\n",
       "      <td>0.177385</td>\n",
       "      <td>0.286442</td>\n",
       "      <td>0.207122</td>\n",
       "    </tr>\n",
       "    <tr>\n",
       "      <th>minutes</th>\n",
       "      <td>0.982083</td>\n",
       "      <td>1.000000</td>\n",
       "      <td>0.173110</td>\n",
       "      <td>0.280967</td>\n",
       "      <td>0.206955</td>\n",
       "    </tr>\n",
       "    <tr>\n",
       "      <th>messages</th>\n",
       "      <td>0.177385</td>\n",
       "      <td>0.173110</td>\n",
       "      <td>1.000000</td>\n",
       "      <td>0.195721</td>\n",
       "      <td>0.203830</td>\n",
       "    </tr>\n",
       "    <tr>\n",
       "      <th>mb_used</th>\n",
       "      <td>0.286442</td>\n",
       "      <td>0.280967</td>\n",
       "      <td>0.195721</td>\n",
       "      <td>1.000000</td>\n",
       "      <td>0.198568</td>\n",
       "    </tr>\n",
       "    <tr>\n",
       "      <th>is_ultra</th>\n",
       "      <td>0.207122</td>\n",
       "      <td>0.206955</td>\n",
       "      <td>0.203830</td>\n",
       "      <td>0.198568</td>\n",
       "      <td>1.000000</td>\n",
       "    </tr>\n",
       "  </tbody>\n",
       "</table>\n",
       "</div>"
      ],
      "text/plain": [
       "             calls   minutes  messages   mb_used  is_ultra\n",
       "calls     1.000000  0.982083  0.177385  0.286442  0.207122\n",
       "minutes   0.982083  1.000000  0.173110  0.280967  0.206955\n",
       "messages  0.177385  0.173110  1.000000  0.195721  0.203830\n",
       "mb_used   0.286442  0.280967  0.195721  1.000000  0.198568\n",
       "is_ultra  0.207122  0.206955  0.203830  0.198568  1.000000"
      ]
     },
     "execution_count": 7,
     "metadata": {},
     "output_type": "execute_result"
    }
   ],
   "source": [
    "df.corr()"
   ]
  },
  {
   "cell_type": "code",
   "execution_count": 8,
   "id": "3c528e26",
   "metadata": {},
   "outputs": [],
   "source": [
    "#Обнаружена корреляция звонков и минут,  удалим лишний признак. \n",
    "df = df.drop(['calls'], axis = 1)"
   ]
  },
  {
   "cell_type": "code",
   "execution_count": 9,
   "id": "b038ad63",
   "metadata": {},
   "outputs": [
    {
     "data": {
      "text/plain": [
       "<seaborn.axisgrid.PairGrid at 0x7f76c04b7af0>"
      ]
     },
     "execution_count": 9,
     "metadata": {},
     "output_type": "execute_result"
    },
    {
     "data": {
      "image/png": "[encoded data removed]",
      "text/plain": [
       "<Figure size 584.5x540 with 12 Axes>"
      ]
     },
     "metadata": {
      "needs_background": "light"
     },
     "output_type": "display_data"
    }
   ],
   "source": [
    "s.pairplot(df, hue = 'is_ultra')"
   ]
  },
  {
   "cell_type": "markdown",
   "id": "f79c9fc0",
   "metadata": {},
   "source": [
    "<div class=\"alert alert-info\">\n",
    "<h2> Комментарий студента: <a class=\"tocSkip\"> </h2>\n",
    "\n",
    "<b>👋:</b> Спасибо! очень наглядно!\n",
    "</div> "
   ]
  },
  {
   "cell_type": "markdown",
   "id": "3e04c0c4",
   "metadata": {},
   "source": [
    "<div class=\"alert alert-success\">\n",
    "<h2> Комментарий ревьюера v.2 <a class=\"tocSkip\"> </h2>\n",
    "\n",
    "<b>Все отлично!👍:</b>  Пожалуйста)"
   ]
  },
  {
   "cell_type": "markdown",
   "id": "2754b15f",
   "metadata": {},
   "source": [
    "### 2 Разделите исходные данные на обучающую, валидационную и тестовую выборки."
   ]
  },
  {
   "cell_type": "code",
   "execution_count": 10,
   "id": "e3900b91",
   "metadata": {},
   "outputs": [],
   "source": [
    "main_features = df.drop(['is_ultra'], axis = 1)\n",
    "main_target = df.is_ultra\n",
    "\n",
    "#Для тестовой выборки оставим 20 процентов:\n",
    "features, features_test, target, target_test = train_test_split(\n",
    "    main_features, main_target, test_size=0.20, random_state=12345)\n",
    "\n",
    "#Остальное пойдет для обучения и 20 для  валидации\n",
    "features_train, features_valid, target_train, target_valid = train_test_split(\n",
    "    features, target, test_size=0.20, random_state=12345)"
   ]
  },
  {
   "cell_type": "markdown",
   "id": "c62449ad",
   "metadata": {},
   "source": [
    "<div class=\"alert alert-info\">\n",
    "<h2> Комментарий студента: <a class=\"tocSkip\"> </h2>\n",
    "\n",
    "<b>👋:</b> Поправил\".\n",
    "</div> "
   ]
  },
  {
   "cell_type": "markdown",
   "id": "47aa45ed",
   "metadata": {},
   "source": [
    "<div class=\"alert alert-success\">\n",
    "<h2> Комментарий ревьюера v.2 <a class=\"tocSkip\"> </h2>\n",
    "\n",
    "<b>Все отлично!👍:</b> Вижу, хорошо."
   ]
  },
  {
   "cell_type": "markdown",
   "id": "c0b9e4ba",
   "metadata": {},
   "source": [
    "<br/>\n",
    "<div class=\"alert alert-block alert-danger\">\n",
    "<h2> Комментарий ревьюера  <a class=\"tocSkip\"></h2>\n",
    "    \n",
    "<b>На доработку🤔:</b>\n",
    "\n",
    "</b> Ячейка выше не отработала. Перед отправкой проекта стоит проверять работоспособность кода - это можно сделать, нажав на панели Jupiter Hub `Kernel` и `Restart & Run All`. Исправь, пожалуйста."
   ]
  },
  {
   "cell_type": "markdown",
   "id": "cd427a26",
   "metadata": {},
   "source": [
    "<br/>\n",
    "<div class=\"alert alert-block alert-danger\">\n",
    "<h2> Комментарий ревьюера <a class=\"tocSkip\"></h2>\n",
    "\n",
    "    \n",
    "<b>На доработку🤔:</b>\n",
    "    \n",
    "Датасет следует разбить так, чтобы доля обучающей выборки была от 50% до 80%, а доля тестовой и валидационной выборки: от 10% до 25%. Одновременно, валидационная и тестовая выборки не должны отличаться по размеру в два раза или более. я бы рекомендовал придерживаться соотношения 60%-20%-20% (обучающая, валидационная, тестовая). Исправь, пожалуйста.\n",
    "</div>"
   ]
  },
  {
   "cell_type": "markdown",
   "id": "ef779915",
   "metadata": {},
   "source": [
    "<div class=\"alert alert-info\">\n",
    "<h2> Комментарий студента: <a class=\"tocSkip\"> </h2>\n",
    "\n",
    "<b>👋:</b> Поправил на 60 20 20.\n",
    "</div> "
   ]
  },
  {
   "cell_type": "markdown",
   "id": "d798e9b0",
   "metadata": {},
   "source": [
    "<div class=\"alert alert-warning\">\n",
    "    <h2> Комментарий ревьюера v.2 <a class=\"tocSkip\"> </h2>\n",
    "    \n",
    "<b>Некоторые замечания и рекомендации💡:</b> \n",
    "        \n",
    "Чтобы соотношение было 60%-20%-20%, следовало указать во 2-м разбиении test_size=0.25   "
   ]
  },
  {
   "cell_type": "code",
   "execution_count": 11,
   "id": "0dcfce54",
   "metadata": {},
   "outputs": [
    {
     "name": "stdout",
     "output_type": "stream",
     "text": [
      "2056 515 643\n"
     ]
    }
   ],
   "source": [
    "#Проверим что все правильно поделили:\n",
    "print(len(target_train), len(target_valid), len(target_test))"
   ]
  },
  {
   "cell_type": "markdown",
   "id": "ac5619f9",
   "metadata": {},
   "source": [
    "### 3 Исследуйте качество разных моделей, меняя гиперпараметры. Кратко напишите выводы исследования."
   ]
  },
  {
   "cell_type": "markdown",
   "id": "8b5ad50c",
   "metadata": {},
   "source": [
    " - У нас есть алгоритмы: **DecisionTreeClassifier**, **RandomForestClassifier**, **LogisticRegression**\n",
    " - В данном случае у нас задача классификации т.к. нужно предсказать качественное а не  количественное  значение (либо 0 либо 1)"
   ]
  },
  {
   "cell_type": "code",
   "execution_count": 12,
   "id": "36774436",
   "metadata": {},
   "outputs": [
    {
     "name": "stdout",
     "output_type": "stream",
     "text": [
      " \n",
      "Лучшая точность: DecisionTreeClassifier\n"
     ]
    },
    {
     "data": {
      "text/html": [
       "<div>\n",
       "<style scoped>\n",
       "    .dataframe tbody tr th:only-of-type {\n",
       "        vertical-align: middle;\n",
       "    }\n",
       "\n",
       "    .dataframe tbody tr th {\n",
       "        vertical-align: top;\n",
       "    }\n",
       "\n",
       "    .dataframe thead th {\n",
       "        text-align: right;\n",
       "    }\n",
       "</style>\n",
       "<table border=\"1\" class=\"dataframe\">\n",
       "  <thead>\n",
       "    <tr style=\"text-align: right;\">\n",
       "      <th></th>\n",
       "      <th>accuracy</th>\n",
       "      <th>max_depth</th>\n",
       "    </tr>\n",
       "  </thead>\n",
       "  <tbody>\n",
       "    <tr>\n",
       "      <th>0</th>\n",
       "      <td>0.757282</td>\n",
       "      <td>7</td>\n",
       "    </tr>\n",
       "    <tr>\n",
       "      <th>0</th>\n",
       "      <td>0.757282</td>\n",
       "      <td>6</td>\n",
       "    </tr>\n",
       "    <tr>\n",
       "      <th>0</th>\n",
       "      <td>0.755340</td>\n",
       "      <td>4</td>\n",
       "    </tr>\n",
       "    <tr>\n",
       "      <th>0</th>\n",
       "      <td>0.755340</td>\n",
       "      <td>3</td>\n",
       "    </tr>\n",
       "    <tr>\n",
       "      <th>0</th>\n",
       "      <td>0.753398</td>\n",
       "      <td>5</td>\n",
       "    </tr>\n",
       "  </tbody>\n",
       "</table>\n",
       "</div>"
      ],
      "text/plain": [
       "   accuracy max_depth\n",
       "0  0.757282         7\n",
       "0  0.757282         6\n",
       "0  0.755340         4\n",
       "0  0.755340         3\n",
       "0  0.753398         5"
      ]
     },
     "metadata": {},
     "output_type": "display_data"
    }
   ],
   "source": [
    "df_result = []\n",
    "df_result = pd.DataFrame(columns = ['accuracy', 'max_depth']) \n",
    "\n",
    "for depth in range(1, 100):\n",
    "    model = DecisionTreeClassifier(random_state=12345, max_depth = depth)\n",
    "        \n",
    "    model.fit(features_train, target_train) \n",
    "    predictions_valid = model.predict(features_valid) \n",
    "    \n",
    "    df_row = pd.DataFrame()\n",
    "    #df_row['rmse'] = [mean_squared_error(target_valid, predictions_valid) ** 0.5]\n",
    "    df_row['accuracy'] = [accuracy_score(target_valid, predictions_valid)]\n",
    "    df_row['max_depth'] = [depth]\n",
    "    #print(df_row)\n",
    "    \n",
    "    df_result=pd.concat([df_result,df_row], axis=0)\n",
    "    \n",
    "print(' ')  \n",
    "print('Лучшая точность: DecisionTreeClassifier')   \n",
    "display(df_result.sort_values(['accuracy', 'max_depth'], ascending = False).head())"
   ]
  },
  {
   "cell_type": "code",
   "execution_count": 13,
   "id": "6c454b4a",
   "metadata": {},
   "outputs": [
    {
     "name": "stdout",
     "output_type": "stream",
     "text": [
      " \n",
      "Лучшая точность: RandomForestClassifier\n"
     ]
    },
    {
     "data": {
      "text/html": [
       "<div>\n",
       "<style scoped>\n",
       "    .dataframe tbody tr th:only-of-type {\n",
       "        vertical-align: middle;\n",
       "    }\n",
       "\n",
       "    .dataframe tbody tr th {\n",
       "        vertical-align: top;\n",
       "    }\n",
       "\n",
       "    .dataframe thead th {\n",
       "        text-align: right;\n",
       "    }\n",
       "</style>\n",
       "<table border=\"1\" class=\"dataframe\">\n",
       "  <thead>\n",
       "    <tr style=\"text-align: right;\">\n",
       "      <th></th>\n",
       "      <th>accuracy</th>\n",
       "      <th>max_depth</th>\n",
       "    </tr>\n",
       "  </thead>\n",
       "  <tbody>\n",
       "    <tr>\n",
       "      <th>0</th>\n",
       "      <td>0.786408</td>\n",
       "      <td>9</td>\n",
       "    </tr>\n",
       "    <tr>\n",
       "      <th>0</th>\n",
       "      <td>0.784466</td>\n",
       "      <td>14</td>\n",
       "    </tr>\n",
       "    <tr>\n",
       "      <th>0</th>\n",
       "      <td>0.782524</td>\n",
       "      <td>17</td>\n",
       "    </tr>\n",
       "    <tr>\n",
       "      <th>0</th>\n",
       "      <td>0.782524</td>\n",
       "      <td>8</td>\n",
       "    </tr>\n",
       "    <tr>\n",
       "      <th>0</th>\n",
       "      <td>0.780583</td>\n",
       "      <td>26</td>\n",
       "    </tr>\n",
       "  </tbody>\n",
       "</table>\n",
       "</div>"
      ],
      "text/plain": [
       "   accuracy max_depth\n",
       "0  0.786408         9\n",
       "0  0.784466        14\n",
       "0  0.782524        17\n",
       "0  0.782524         8\n",
       "0  0.780583        26"
      ]
     },
     "metadata": {},
     "output_type": "display_data"
    }
   ],
   "source": [
    "df_result = []\n",
    "df_result = pd.DataFrame(columns = ['accuracy', 'max_depth']) \n",
    "\n",
    "for depth in range(1, 100):\n",
    "    model = RandomForestClassifier(random_state=12345, max_depth = depth)\n",
    "        \n",
    "    model.fit(features_train, target_train) \n",
    "    predictions_valid = model.predict(features_valid) \n",
    "    \n",
    "    df_row = pd.DataFrame()\n",
    "    #df_row['rmse'] = [mean_squared_error(target_valid, predictions_valid) ** 0.5]\n",
    "    df_row['accuracy'] = [accuracy_score(target_valid, predictions_valid)]\n",
    "    df_row['max_depth'] = [depth]\n",
    "    #print(df_row)\n",
    "    \n",
    "    df_result=pd.concat([df_result,df_row], axis=0)\n",
    "    \n",
    "print(' ')  \n",
    "print('Лучшая точность: RandomForestClassifier')   \n",
    "display(df_result.sort_values('accuracy', ascending = False).head())\n",
    "\n"
   ]
  },
  {
   "cell_type": "code",
   "execution_count": 14,
   "id": "1b704095",
   "metadata": {},
   "outputs": [
    {
     "name": "stdout",
     "output_type": "stream",
     "text": [
      "Точность модели на тестовой выборке:  0.7184466019417476\n",
      "Точность модели на тестовой выборке:  0.7184466019417476\n",
      "Точность модели на тестовой выборке:  0.7184466019417476\n"
     ]
    }
   ],
   "source": [
    "\n",
    "model = LogisticRegression(random_state=12345)\n",
    "        \n",
    "model.fit(features_train, target_train) \n",
    "predictions_valid = model.predict(features_valid) \n",
    "predictions_test = model.predict(features_test)     \n",
    "print('Точность модели на тестовой выборке: ', accuracy_score(target_valid, predictions_valid))\n",
    "\n",
    "\n",
    "model = LogisticRegression(random_state=12345, tol = 1 )\n",
    "        \n",
    "model.fit(features_train, target_train) \n",
    "predictions_valid = model.predict(features_valid) \n",
    "predictions_test = model.predict(features_test)     \n",
    "print('Точность модели на тестовой выборке: ', accuracy_score(target_valid, predictions_valid))\n",
    "\n",
    "\n",
    "model = LogisticRegression(random_state=12345, tol = 1, warm_start = True)\n",
    "        \n",
    "model.fit(features_train, target_train) \n",
    "predictions_valid = model.predict(features_valid) \n",
    "predictions_test = model.predict(features_test)     \n",
    "print('Точность модели на тестовой выборке: ', accuracy_score(target_valid, predictions_valid))\n",
    "\n"
   ]
  },
  {
   "cell_type": "code",
   "execution_count": 15,
   "id": "f5365356",
   "metadata": {},
   "outputs": [
    {
     "name": "stdout",
     "output_type": "stream",
     "text": [
      "Точность модели на куске дерева:  0.6757281553398058\n"
     ]
    }
   ],
   "source": [
    "model = DummyClassifier()\n",
    "        \n",
    "model.fit(features_train, target_train) \n",
    "predictions_valid = model.predict(features_valid) \n",
    "predictions_test = model.predict(features_test)     \n",
    "print('Точность модели на куске дерева: ', accuracy_score(target_valid, predictions_valid))\n"
   ]
  },
  {
   "cell_type": "markdown",
   "id": "bf1a9375",
   "metadata": {},
   "source": [
    "<div class=\"alert alert-info\">\n",
    "<h2> Комментарий студента: <a class=\"tocSkip\"> </h2>\n",
    "\n",
    "<b>👋:</b> Спасибо! Упустил. Поправил. \n",
    "</div> "
   ]
  },
  {
   "cell_type": "markdown",
   "id": "3915c39f",
   "metadata": {},
   "source": [
    "<div class=\"alert alert-success\">\n",
    "<h2> Комментарий ревьюера v.2 <a class=\"tocSkip\"> </h2>\n",
    "\n",
    "<b>Все отлично!👍:</b>  Пожалуйста)"
   ]
  },
  {
   "cell_type": "markdown",
   "id": "88513681",
   "metadata": {},
   "source": [
    "<br/>\n",
    "<div class=\"alert alert-block alert-danger\">\n",
    "<h2> Комментарий ревьюера <a class=\"tocSkip\"></h2>\n",
    "\n",
    "    \n",
    "<b>На доработку🤔:</b>\n",
    "    \n",
    "Некорректно использовать тестовую выборку в шаге обучения и подбора гиперпараметров. Нам следует обучить модель на обучающей выборке и  далее сделать предсказание методом `predict` на валидационной выборке и замерить метрику accuracy. Исправь, пожалуйста.\n",
    "</div>"
   ]
  },
  {
   "cell_type": "markdown",
   "id": "1161614e",
   "metadata": {},
   "source": [
    "#### Вывод:\n",
    "- Модель **DecisionTreeClassifier** работает с превосходной скоростью, лучшая точность (0.765049)достигается за 7 шагов.\n",
    "- Модель **RandomForestClassifier** работает дольше, но за 8 шагов мы достигаем точности (0.792233) \n",
    "- У Логистической регрессии один результат вне зависимости от параметров: 0.7165048543689321 Это самая плохая точность.\n",
    "- Ввели кусок деревяшки **DummyClassifier** для сравнения точности моделей, он показывает точность 0.6757281553398058\n",
    "- Ввиду того что объем данных не большой и  разница в работе моделей меньше минуты, принято решение использовать лес с гиперпараметром **max_depth** равным 7."
   ]
  },
  {
   "cell_type": "markdown",
   "id": "23e494a8",
   "metadata": {},
   "source": [
    "<div class=\"alert alert-success\">\n",
    "<h2> Комментарий ревьюера <a class=\"tocSkip\"></a></h2>\n",
    "\n",
    "<b>Все отлично!👍:</b>\n",
    "\n",
    "В остальном, модели исследованы корректно:\n",
    "    \n",
    " - исследовано более 5 значений гиперпараметра\n",
    " - модели обучены на обучающем наборе\n",
    " - получена оценка качества на валидационном наборе\n",
    " - перебор гиперпараметров осуществляется в цикле\n",
    " - есть выводы   \n",
    "</div>"
   ]
  },
  {
   "cell_type": "markdown",
   "id": "0d084aae",
   "metadata": {},
   "source": [
    "### 4 Проверьте качество модели на тестовой выборке."
   ]
  },
  {
   "cell_type": "code",
   "execution_count": 16,
   "id": "1778317c",
   "metadata": {},
   "outputs": [
    {
     "name": "stdout",
     "output_type": "stream",
     "text": [
      "Точность модели на тестовой выборке:  0.7978227060653188\n"
     ]
    }
   ],
   "source": [
    "rf_model = RandomForestClassifier(random_state=12345, max_depth = 7)       \n",
    "rf_model.fit(features_train, target_train) \n",
    "predictions_test = rf_model.predict(features_test)     \n",
    "print('Точность модели на тестовой выборке: ', accuracy_score(target_test, predictions_test))"
   ]
  },
  {
   "cell_type": "markdown",
   "id": "e0645661",
   "metadata": {},
   "source": [
    "<br/>\n",
    "<div class=\"alert alert-block alert-danger\">\n",
    "<h2> Комментарий ревьюера <a class=\"tocSkip\"></h2>\n",
    "\n",
    "    \n",
    "<b>На доработку🤔:</b>\n",
    "    \n",
    "Валидационную выборку не следует использовать в шаге  Проверьте качество модели на тестовой выборке   "
   ]
  },
  {
   "cell_type": "markdown",
   "id": "bdbc2372",
   "metadata": {},
   "source": [
    "<div class=\"alert alert-info\">\n",
    "<h2> Комментарий студента: <a class=\"tocSkip\"> </h2>\n",
    "\n",
    "<b>👋:</b> Спасибо! Поправил на тестовую. \n",
    "</div> "
   ]
  },
  {
   "cell_type": "markdown",
   "id": "a13f1125",
   "metadata": {},
   "source": [
    "<div class=\"alert alert-success\">\n",
    "<h2> Комментарий ревьюера v.2 <a class=\"tocSkip\"> </h2>\n",
    "\n",
    "<b>Все отлично!👍:</b>  Пожалуйста)"
   ]
  },
  {
   "cell_type": "markdown",
   "id": "42c22ea5",
   "metadata": {},
   "source": [
    "### 5 Дополнительное задание: проверьте модели на вменяемость. Ничего страшного, если не получится: эти данные сложнее тех, с которыми вы работали раньше. В следующем курсе подробнее об этом расскажем."
   ]
  },
  {
   "cell_type": "code",
   "execution_count": 17,
   "id": "dee898c9",
   "metadata": {},
   "outputs": [],
   "source": [
    "#rf_model у нас уже есть,  создадим переменные оставшихся:\n",
    "dt_model = DecisionTreeClassifier(random_state=12345, max_depth = 4)\n",
    "lr_model = LogisticRegression(random_state=12345)\n"
   ]
  },
  {
   "cell_type": "code",
   "execution_count": 18,
   "id": "6eb62e00",
   "metadata": {},
   "outputs": [
    {
     "name": "stdout",
     "output_type": "stream",
     "text": [
      "Логистическая регрессия | Тестовая точность измерений: 0.7414281844391555\n",
      "Дерево решений | Тестовая точность измерений: 0.7896751223854028\n",
      "Лес решений | Тестовая точность измерений: 0.8042994524099765\n"
     ]
    }
   ],
   "source": [
    "#Для проверки моделей используем кроссвалидацию:\n",
    "cv_dict = {0: 'Логистическая регрессия', 1:  'Дерево решений', 2: 'Лес решений'}\n",
    "cv_models = [lr_model, dt_model, rf_model]\n",
    "\n",
    "for i, model in enumerate(cv_models):\n",
    "    print(\"{} | Тестовая точность измерений: {}\".format(cv_dict[i], cross_val_score(model, main_features, main_target, cv = 10, scoring = 'accuracy').mean()))"
   ]
  },
  {
   "cell_type": "markdown",
   "id": "a58aa4ab",
   "metadata": {},
   "source": [
    "<div class=\"alert alert-success\">\n",
    "<h2> Комментарий ревьюера <a class=\"tocSkip\"> </h2>\n",
    "\n",
    "<b>Все отлично!👍:</b> \n",
    "    \n",
    "Этап тестирования рекомендуется дополнять введением в работу baseline модели. Сравнивая результаты более сложных моделей с самой наивной, мы можем делать выводы о том, насколько далеко они вообще продвинулись в качестве предсказаний. Иногда может случиться такое, что константная модель оказывается не сильно хуже по качеству. Это может говорить либо о том, что еще есть смысл продолжить поиски \"той самой\" модели, либо структура данных такова, что ничего лучше константоной в принципе не найти, тогда в использовании более сложных ресурсозатратных моделей нет особого смысла. Создавать константные модели можно либо вручную, либо воспользоваться готовым алгоритмом <a href='https://scikit-learn.org/stable/modules/generated/sklearn.dummy.DummyClassifier.html'>DummyClassifier</a> из пакета `sklearn`. В нашем случае подойдет модель DummyClassifier со стратегией `most_frequent`. Рекомендую также прочитать  <a href='https://progler.ru/blog/ml-klassifikatory-pustyshki-s-ispolzovaniem-sklearn'>статью</a>."
   ]
  },
  {
   "cell_type": "markdown",
   "id": "cd0dfab4",
   "metadata": {},
   "source": [
    "<div class=\"alert alert-info\">\n",
    "<h2> Комментарий студента: <a class=\"tocSkip\"> </h2>\n",
    "\n",
    "<b>👋:</b> Спасибо! Dummy  отличная штука,  теперь понятно что линейная регрессия практически бесполезна в данном случае. \n",
    "</div> "
   ]
  },
  {
   "cell_type": "markdown",
   "id": "b89b0b66",
   "metadata": {},
   "source": [
    "<div class=\"alert alert-warning\">\n",
    "    <h2> Комментарий ревьюера v.2 <a class=\"tocSkip\"> </h2>\n",
    "    \n",
    "<b>Некоторые замечания и рекомендации💡:</b> \n",
    "    \n",
    "Линейная регрессия  - модель регрессии, используется для задач регрессии, а у нас - задача классификации. Нам следует использовать только модели классификации. Наверное, ты спутал с Логистической регрессией\n",
    "</div>"
   ]
  },
  {
   "cell_type": "markdown",
   "id": "e80b9a32",
   "metadata": {},
   "source": [
    "## Вывод:\n",
    "\n",
    "- 1 Открыт и изучен файл **users_behavior.csv**. В датасете нет пропусков и дубликатов а значит с ним можно работать. \n",
    "- 2 Исходные данные поделили на обучающую, валидационную и тестовую выборки.\n",
    "- 3 Исследованы модели логистической регрессии, древа решений, леса решений, сравнили качество разных моделей, меняя гиперпараметры. Наиболее точной оказалась модель леса решений с параметром максимальной глубины 4\n",
    "- 4 Модель леса решений показала  точность на тестовой выборке 0.78\n",
    "- 5 Проверка моделей на вменяемость проходила с помощью кросс-валидации.  Очередной раз, модель леса решений показала наибольшую точность."
   ]
  },
  {
   "cell_type": "markdown",
   "id": "747272a6",
   "metadata": {},
   "source": [
    "<div style=\"border:solid Chocolate 2px; padding: 40px\">\n",
    "\n",
    "\n",
    "<h2> Итоговый комментарий ревьюера v.1 <a class=\"tocSkip\"> </h2>    \n",
    "    \n",
    "  \n",
    "У меня сложилось хорошее впечатление о проекте. Молодец! Изучены все параметры, построено несколько моделей классификации и оценено их качество. Осмысленная аналитика и дельная модельная работа - многое удалось как надо)\n",
    "    \n",
    "Отмечу отдельные положительные моменты проекта🙂:\n",
    "    \n",
    "- тебе удалось добиться очень хорошего качества, поздравляю!  \n",
    "- при обучении моделей использована валидационная выборка и подбор гиперпараметров.    \n",
    "    \n",
    "Есть несколько моментов всего, на которые стоит ещё раз взглянуть, я указал их в моих комментариях по ходу проекта - разбиение выборки, моделирование. Предлагаю тебе доработать проект по моим комментариям, чтобы довести его до совершенства.\n",
    "\n",
    "    \n",
    "Если будут вопросы, обращайся, с удовольствием на них отвечу.  \n",
    "</div>"
   ]
  },
  {
   "cell_type": "markdown",
   "id": "ca2cb5cc",
   "metadata": {},
   "source": [
    "<div style=\"border:solid Chocolate 2px; padding: 40px\">\n",
    "\n",
    "\n",
    "<h2> Итоговый комментарий ревьюера v.2 <a class=\"tocSkip\"> </h2>    \n",
    "    \n",
    "     \n",
    "  \n",
    "Теперь почти идеально, молодец! Принимаю твой проект)\n",
    "    \n",
    "Могу посоветовать посмотреть видеоразбор <a href=\"https://www.youtube.com/watch?v=YTLDATQLK6w\">Как обучить модель по шагам в Data Science?</a>\n",
    "    \n",
    "Рекомендую тебе ознакомиться с  `GridSearchCV` для подбора гиперпараметров, это избавит тебя от написания циклов. Полезные ссылки: https://vc.ru/ml/147132-kak-avtomaticheski-podobrat-parametry-dlya-modeli-mashinnogo-obucheniya-ispolzuem-gridsearchcv\n",
    "        \n",
    "https://newtechaudit.ru/gridsearchcv-pomoshhnik-v-vybore/        \n",
    "    \n",
    "    \n",
    "В этом проекте все шаги отработаны. С интересом читал твои размышления, код и выводы. Цель нашего проекта достигнута. Рад был тебе помочь)\n",
    "    \n",
    "Преподаватель в Slack будет рад помочь, если у тебя появятся вопросы.\n",
    "  \n",
    "</div>"
   ]
  },
  {
   "cell_type": "code",
   "execution_count": null,
   "id": "2178f72b",
   "metadata": {},
   "outputs": [],
   "source": []
  }
 ],
 "metadata": {
  "ExecuteTimeLog": [
   {
    "duration": 5624,
    "start_time": "2022-10-27T15:19:36.808Z"
   },
   {
    "duration": 103,
    "start_time": "2022-10-27T15:19:42.434Z"
   },
   {
    "duration": 87,
    "start_time": "2022-10-27T15:19:42.539Z"
   },
   {
    "duration": 1291,
    "start_time": "2022-10-27T15:19:42.629Z"
   },
   {
    "duration": 98,
    "start_time": "2022-10-27T15:19:43.924Z"
   },
   {
    "duration": 10,
    "start_time": "2022-10-27T15:19:44.028Z"
   },
   {
    "duration": 582,
    "start_time": "2022-10-27T15:19:44.040Z"
   },
   {
    "duration": 0,
    "start_time": "2022-10-27T15:19:44.628Z"
   },
   {
    "duration": 0,
    "start_time": "2022-10-27T15:19:44.630Z"
   },
   {
    "duration": 0,
    "start_time": "2022-10-27T15:19:44.631Z"
   },
   {
    "duration": 0,
    "start_time": "2022-10-27T15:19:44.632Z"
   },
   {
    "duration": 0,
    "start_time": "2022-10-27T15:19:44.633Z"
   },
   {
    "duration": 0,
    "start_time": "2022-10-27T15:19:44.634Z"
   },
   {
    "duration": 0,
    "start_time": "2022-10-27T15:19:44.636Z"
   },
   {
    "duration": 5416,
    "start_time": "2022-10-27T15:20:00.511Z"
   },
   {
    "duration": 102,
    "start_time": "2022-10-27T15:20:05.930Z"
   },
   {
    "duration": 95,
    "start_time": "2022-10-27T15:20:06.034Z"
   },
   {
    "duration": 1206,
    "start_time": "2022-10-27T15:20:06.131Z"
   },
   {
    "duration": 93,
    "start_time": "2022-10-27T15:20:07.339Z"
   },
   {
    "duration": 85,
    "start_time": "2022-10-27T15:20:07.434Z"
   },
   {
    "duration": 502,
    "start_time": "2022-10-27T15:20:07.521Z"
   },
   {
    "duration": 0,
    "start_time": "2022-10-27T15:20:08.025Z"
   },
   {
    "duration": 0,
    "start_time": "2022-10-27T15:20:08.026Z"
   },
   {
    "duration": 0,
    "start_time": "2022-10-27T15:20:08.027Z"
   },
   {
    "duration": 0,
    "start_time": "2022-10-27T15:20:08.028Z"
   },
   {
    "duration": 0,
    "start_time": "2022-10-27T15:20:08.030Z"
   },
   {
    "duration": 0,
    "start_time": "2022-10-27T15:20:08.032Z"
   },
   {
    "duration": 1,
    "start_time": "2022-10-27T15:20:08.033Z"
   },
   {
    "duration": 87,
    "start_time": "2022-10-27T15:25:28.236Z"
   },
   {
    "duration": 38,
    "start_time": "2022-10-27T15:25:30.901Z"
   },
   {
    "duration": 5224,
    "start_time": "2022-10-27T15:33:36.815Z"
   },
   {
    "duration": 189,
    "start_time": "2022-10-27T15:33:42.042Z"
   },
   {
    "duration": 101,
    "start_time": "2022-10-27T15:33:42.234Z"
   },
   {
    "duration": 1390,
    "start_time": "2022-10-27T15:33:42.337Z"
   },
   {
    "duration": 99,
    "start_time": "2022-10-27T15:33:43.733Z"
   },
   {
    "duration": 95,
    "start_time": "2022-10-27T15:33:43.834Z"
   },
   {
    "duration": 485,
    "start_time": "2022-10-27T15:33:43.930Z"
   },
   {
    "duration": 0,
    "start_time": "2022-10-27T15:33:44.417Z"
   },
   {
    "duration": 0,
    "start_time": "2022-10-27T15:33:44.419Z"
   },
   {
    "duration": 0,
    "start_time": "2022-10-27T15:33:44.420Z"
   },
   {
    "duration": 1,
    "start_time": "2022-10-27T15:33:44.421Z"
   },
   {
    "duration": 0,
    "start_time": "2022-10-27T15:33:44.423Z"
   },
   {
    "duration": 0,
    "start_time": "2022-10-27T15:33:44.428Z"
   },
   {
    "duration": 0,
    "start_time": "2022-10-27T15:33:44.429Z"
   },
   {
    "duration": 52,
    "start_time": "2022-10-27T15:37:55.858Z"
   },
   {
    "duration": 1423,
    "start_time": "2022-10-27T15:38:03.738Z"
   },
   {
    "duration": 76,
    "start_time": "2022-10-27T15:38:05.163Z"
   },
   {
    "duration": 12,
    "start_time": "2022-10-27T15:38:08.984Z"
   },
   {
    "duration": 462,
    "start_time": "2022-10-27T15:38:09.939Z"
   },
   {
    "duration": 15,
    "start_time": "2022-10-27T15:38:11.568Z"
   },
   {
    "duration": 8,
    "start_time": "2022-10-27T15:38:14.879Z"
   },
   {
    "duration": 94,
    "start_time": "2022-10-27T15:38:34.848Z"
   },
   {
    "duration": 8,
    "start_time": "2022-10-27T15:39:36.228Z"
   },
   {
    "duration": 7,
    "start_time": "2022-10-27T15:41:35.508Z"
   },
   {
    "duration": 69,
    "start_time": "2022-10-27T15:41:58.810Z"
   },
   {
    "duration": 74,
    "start_time": "2022-10-27T15:42:06.148Z"
   },
   {
    "duration": 4,
    "start_time": "2022-10-27T15:42:26.973Z"
   },
   {
    "duration": 3,
    "start_time": "2022-10-27T15:43:12.794Z"
   },
   {
    "duration": 4,
    "start_time": "2022-10-27T15:44:00.283Z"
   },
   {
    "duration": 3,
    "start_time": "2022-10-27T15:44:08.834Z"
   },
   {
    "duration": 99,
    "start_time": "2022-10-27T15:45:53.018Z"
   },
   {
    "duration": 1112,
    "start_time": "2022-10-27T15:46:50.723Z"
   },
   {
    "duration": 34966,
    "start_time": "2022-10-27T15:46:51.837Z"
   },
   {
    "duration": 118,
    "start_time": "2022-10-27T15:47:26.805Z"
   },
   {
    "duration": 35044,
    "start_time": "2022-10-27T15:48:23.519Z"
   },
   {
    "duration": 261,
    "start_time": "2022-10-27T15:51:21.974Z"
   },
   {
    "duration": 8,
    "start_time": "2022-10-27T15:54:49.019Z"
   },
   {
    "duration": 9,
    "start_time": "2022-10-27T15:55:24.748Z"
   },
   {
    "duration": 13,
    "start_time": "2022-10-27T15:55:31.949Z"
   },
   {
    "duration": 12,
    "start_time": "2022-10-27T15:56:39.043Z"
   },
   {
    "duration": 10,
    "start_time": "2022-10-27T15:56:48.048Z"
   },
   {
    "duration": 10,
    "start_time": "2022-10-27T15:58:44.429Z"
   },
   {
    "duration": 14,
    "start_time": "2022-10-27T15:59:56.899Z"
   },
   {
    "duration": 77,
    "start_time": "2022-10-27T16:00:14.129Z"
   },
   {
    "duration": 4,
    "start_time": "2022-10-27T16:00:21.628Z"
   },
   {
    "duration": 8,
    "start_time": "2022-10-27T16:00:24.939Z"
   },
   {
    "duration": 14,
    "start_time": "2022-10-27T16:01:13.854Z"
   },
   {
    "duration": 12,
    "start_time": "2022-10-27T16:01:17.568Z"
   },
   {
    "duration": 13,
    "start_time": "2022-10-27T16:01:23.158Z"
   },
   {
    "duration": 1977,
    "start_time": "2022-10-27T16:01:44.119Z"
   },
   {
    "duration": 2130,
    "start_time": "2022-10-27T16:02:21.163Z"
   },
   {
    "duration": 2406,
    "start_time": "2022-10-27T16:02:39.634Z"
   },
   {
    "duration": 2635,
    "start_time": "2022-10-27T16:03:30.839Z"
   },
   {
    "duration": 203,
    "start_time": "2022-10-27T16:06:27.449Z"
   },
   {
    "duration": 1292,
    "start_time": "2022-10-27T16:07:04.509Z"
   },
   {
    "duration": 42,
    "start_time": "2022-10-27T16:07:05.804Z"
   },
   {
    "duration": 11,
    "start_time": "2022-10-27T16:07:05.847Z"
   },
   {
    "duration": 393,
    "start_time": "2022-10-27T16:07:05.860Z"
   },
   {
    "duration": 12,
    "start_time": "2022-10-27T16:07:06.255Z"
   },
   {
    "duration": 8,
    "start_time": "2022-10-27T16:07:06.277Z"
   },
   {
    "duration": 8,
    "start_time": "2022-10-27T16:07:06.286Z"
   },
   {
    "duration": 3,
    "start_time": "2022-10-27T16:07:06.295Z"
   },
   {
    "duration": 2635,
    "start_time": "2022-10-27T16:07:06.300Z"
   },
   {
    "duration": 7,
    "start_time": "2022-10-27T16:07:08.937Z"
   },
   {
    "duration": 4,
    "start_time": "2022-10-27T16:07:08.946Z"
   },
   {
    "duration": 990,
    "start_time": "2022-10-27T16:07:08.952Z"
   },
   {
    "duration": 25824,
    "start_time": "2022-10-27T16:07:09.943Z"
   },
   {
    "duration": 83,
    "start_time": "2022-10-27T16:07:35.769Z"
   },
   {
    "duration": 208,
    "start_time": "2022-10-27T16:07:35.854Z"
   },
   {
    "duration": 2,
    "start_time": "2022-10-27T16:07:36.064Z"
   },
   {
    "duration": 2677,
    "start_time": "2022-10-27T16:07:36.068Z"
   },
   {
    "duration": 104,
    "start_time": "2022-10-27T16:10:30.748Z"
   },
   {
    "duration": 3,
    "start_time": "2022-10-27T16:11:49.429Z"
   },
   {
    "duration": 5,
    "start_time": "2022-10-27T16:22:40.804Z"
   },
   {
    "duration": 5,
    "start_time": "2022-10-27T16:23:07.345Z"
   },
   {
    "duration": 6,
    "start_time": "2022-10-27T16:23:58.519Z"
   },
   {
    "duration": 1458,
    "start_time": "2022-10-28T08:18:01.265Z"
   },
   {
    "duration": 43,
    "start_time": "2022-10-28T08:18:02.726Z"
   },
   {
    "duration": 26,
    "start_time": "2022-10-28T08:18:02.772Z"
   },
   {
    "duration": 401,
    "start_time": "2022-10-28T08:18:02.801Z"
   },
   {
    "duration": 13,
    "start_time": "2022-10-28T08:18:03.204Z"
   },
   {
    "duration": 41,
    "start_time": "2022-10-28T08:18:03.218Z"
   },
   {
    "duration": 31,
    "start_time": "2022-10-28T08:18:03.261Z"
   },
   {
    "duration": 30,
    "start_time": "2022-10-28T08:18:03.293Z"
   },
   {
    "duration": 3993,
    "start_time": "2022-10-28T08:18:03.325Z"
   },
   {
    "duration": 9,
    "start_time": "2022-10-28T08:18:07.321Z"
   },
   {
    "duration": 11,
    "start_time": "2022-10-28T08:18:07.332Z"
   },
   {
    "duration": 2586,
    "start_time": "2022-10-28T08:18:07.345Z"
   },
   {
    "duration": 32666,
    "start_time": "2022-10-28T08:18:09.934Z"
   },
   {
    "duration": 87,
    "start_time": "2022-10-28T08:18:42.609Z"
   },
   {
    "duration": 16,
    "start_time": "2022-10-28T08:18:42.698Z"
   },
   {
    "duration": 251,
    "start_time": "2022-10-28T08:18:42.716Z"
   },
   {
    "duration": 3,
    "start_time": "2022-10-28T08:18:42.968Z"
   },
   {
    "duration": 3060,
    "start_time": "2022-10-28T08:18:42.973Z"
   }
  ],
  "kernelspec": {
   "display_name": "Python 3 (ipykernel)",
   "language": "python",
   "name": "python3"
  },
  "language_info": {
   "codemirror_mode": {
    "name": "ipython",
    "version": 3
   },
   "file_extension": ".py",
   "mimetype": "text/x-python",
   "name": "python",
   "nbconvert_exporter": "python",
   "pygments_lexer": "ipython3",
   "version": "3.9.13"
  },
  "toc": {
   "base_numbering": 1,
   "nav_menu": {},
   "number_sections": true,
   "sideBar": true,
   "skip_h1_title": true,
   "title_cell": "Table of Contents",
   "title_sidebar": "Contents",
   "toc_cell": false,
   "toc_position": {
    "height": "calc(100% - 180px)",
    "left": "10px",
    "top": "150px",
    "width": "236.594px"
   },
   "toc_section_display": true,
   "toc_window_display": true
  }
 },
 "nbformat": 4,
 "nbformat_minor": 5
}
