{
 "cells": [
  {
   "cell_type": "markdown",
   "id": "7d8c7105",
   "metadata": {},
   "source": [
    "<div class=\"alert alert-info\">\n",
    "Привет, Станислав! Меня зовут Светлана Чих и я буду проверять твой проект. Моя основная цель — не указать на совершенные тобою ошибки, а поделиться своим опытом и помочь тебе. Предлагаю общаться на «ты». Но если это не удобно - дай знать, и мы перейдем на «вы».\n",
    "\n",
    "<div class=\"alert alert-success\">\n",
    "<b>👍 Успех:</b> Зелёным цветом отмечены удачные и элегантные решения, на которые можно опираться в будущих проектах.\n",
    "</div>\n",
    "<div class=\"alert alert-warning\">\n",
    "<b>🤔 Рекомендация:</b> Жёлтым цветом выделено то, что в следующий раз можно сделать по-другому. Ты можешь учесть эти комментарии при выполнении будущих заданий или доработать проект сейчас (однако это не обязательно).\n",
    "</div>\n",
    "<div class=\"alert alert-danger\">\n",
    "<b>😔 Необходимо исправить:</b> Красным цветом выделены комментарии, без исправления которых, я не смогу принять проект :(\n",
    "</div>\n",
    "<div class=\"alert alert-info\">\n",
    "<b>👂 Совет:</b> Какие-то дополнительные материалы\n",
    "</div>\n",
    "Давай работать над проектом в диалоге: если ты что-то меняешь в проекте по моим рекомендациям — пиши об этом.\n",
    "Мне будет легче отследить изменения, если ты выделишь свои комментарии:\n",
    "<div class=\"alert alert-info\"> <b>🎓 Комментарий студента:</b> Например, вот так.</div>\n",
    "Пожалуйста, не перемещай, не изменяй и не удаляй мои комментарии. Всё это поможет выполнить повторную проверку твоего проекта быстрее.\n",
    " </div>"
   ]
  },
  {
   "cell_type": "markdown",
   "id": "0a764d82",
   "metadata": {},
   "source": [
    "<div class=\"alert alert-info\"> <b>🎓 Комментарий студента:</b> Раз два три, проверка связи :)</div>"
   ]
  },
  {
   "cell_type": "markdown",
   "id": "6af8766b",
   "metadata": {},
   "source": [
    "### Финальный проект Фуколов ds_51b описание: \n",
    "\n",
    "- Оператор связи «Ниединогоразрыва.ком» хочет научиться прогнозировать отток клиентов. Если выяснится, что пользователь планирует уйти, ему будут предложены промокоды и специальные условия. Команда оператора собрала персональные данные о некоторых клиентах, информацию об их тарифах и договорах.\n",
    "\n",
    "\n",
    "#### Описание услуг\n",
    "\n",
    "##### Оператор предоставляет два основных типа услуг: \n",
    "\n",
    "\n",
    "1. Стационарную телефонную связь. Возможно подключение телефонного аппарата к нескольким линиям одновременно.\n",
    "2. Интернет. Подключение может быть двух типов: через телефонную линию (DSL, от англ. digital subscriber line, «цифровая абонентская линия») или оптоволоконный кабель (Fiber optic).  \n",
    "\n",
    "\n",
    "##### Также доступны такие услуги:\n",
    "\n",
    "\n",
    "- Интернет-безопасность: антивирус (DeviceProtection) и блокировка небезопасных сайтов (OnlineSecurity);\n",
    "- Выделенная линия технической поддержки (TechSupport);\n",
    "- Облачное хранилище файлов для резервного копирования данных (OnlineBackup);\n",
    "- Стриминговое телевидение (StreamingTV) и каталог фильмов (StreamingMovies).\n",
    "\n",
    "\n",
    "##### За услуги клиенты могут платить каждый месяц или заключить договор на 1–2 года. Доступны различные способы расчёта и возможность получения электронного чека.\n",
    "\n",
    "\n",
    "#### Описание данных\n",
    "\n",
    "\n",
    "##### Данные состоят из файлов, полученных из разных источников:\n",
    "\n",
    "\n",
    "- contract_new.csv — информация о договоре;\n",
    "- personal_new.csv — персональные данные клиента;\n",
    "- internet_new.csv — информация об интернет-услугах;\n",
    "- phone_new.csv — информация об услугах телефонии.\n",
    "\n",
    "\n",
    "- Во всех файлах столбец customerID содержит код клиента.\n",
    "\n",
    "\n",
    "- Информация о договорах актуальна на 1 февраля 2020.\n",
    "\n",
    "\n",
    "#### Данные\n",
    "\n",
    "\n",
    "- contract_new.csv\n",
    "- personal_new.csv\n",
    "- internet_new.csv\n",
    "- phone_new.csv\n",
    "\n",
    "\n",
    "- Данные также находятся в тренажёре, в папке /datasets/.\n",
    "\n",
    "#### Цели проекта:\n",
    "- Провести анализ данных\n",
    "- Собрать набор данных для обучения моделей \n",
    "- Обучить модель с метрикой auc_roc > 0.85"
   ]
  },
  {
   "cell_type": "markdown",
   "id": "3d1bc0e3",
   "metadata": {},
   "source": [
    "<div class=\"alert alert-danger\">\n",
    "<s><b>😔 Необходимо исправить:</b> В описательную часть нужно добавить цель работы, и как мы поймем, что она достигнута</s>\n",
    "</div>\n",
    "\n",
    "<div class=\"alert alert-info\"> <b>🎓 Комментарий студента:</b> Добавил</div>\n",
    "\n",
    "<div class=\"alert alert-success\">\n",
    " <b>👍 Успех:</b> Отлично!\n",
    " </div>\n"
   ]
  },
  {
   "cell_type": "markdown",
   "id": "1a00da65",
   "metadata": {},
   "source": [
    "### Анализ данных"
   ]
  },
  {
   "cell_type": "code",
   "execution_count": null,
   "id": "b194e6e8",
   "metadata": {},
   "outputs": [],
   "source": [
    "# Импорты\n",
    "import pandas as pd\n",
    "import seaborn as sns\n",
    "import matplotlib.pyplot as plt\n",
    "import numpy as np\n",
    "import time\n",
    "\n",
    "random_state = 30423\n",
    "auc_roc = 0.85\n",
    "test_size = 0.25\n",
    "\n",
    "pd.set_option('display.max_columns', None)\n",
    "\n",
    "from sklearn.model_selection import train_test_split, cross_val_score,GridSearchCV\n",
    "\n",
    "from sklearn.tree import DecisionTreeClassifier\n",
    "from sklearn.ensemble import RandomForestClassifier\n",
    "from sklearn.linear_model import LogisticRegression\n",
    "from catboost import CatBoostClassifier\n",
    "from sklearn.preprocessing import OrdinalEncoder\n",
    "from sklearn.metrics import accuracy_score\n",
    "from sklearn.metrics import roc_auc_score, roc_curve\n",
    "from sklearn.metrics import make_scorer\n",
    "import sklearn.metrics\n",
    "\n",
    "import warnings\n",
    "warnings.filterwarnings('ignore')"
   ]
  },
  {
   "cell_type": "code",
   "execution_count": null,
   "id": "c050224c",
   "metadata": {},
   "outputs": [],
   "source": [
    "#напишем функцию для обзора данных\n",
    "def data_info(dataset):\n",
    "    cols = dataset.columns\n",
    "    colours = ['#000099', '#ffff00'] \n",
    "    ax = sns.heatmap(dataset[cols].isnull(), cmap=sns.color_palette(colours))\n",
    "    ax.set(title=\"Тепловая карта набора данных:\",xlabel='столбцы', ylabel=\"пропуски\")\n",
    "    ax.xaxis.tick_bottom()\n",
    "    \n",
    "    print('Shape:')\n",
    "    display(dataset.shape)\n",
    "    print('')\n",
    "    print('Head:')\n",
    "    display(dataset.head())\n",
    "\n",
    "    print('')\n",
    "    print('Describe:')\n",
    "    print('')\n",
    "    display(dataset.describe())  \n",
    "    print('Info:')\n",
    "    print('')\n",
    "    display(dataset.info())   \n",
    "    print('Duplicated:')\n",
    "    display(dataset[dataset.duplicated ()])"
   ]
  },
  {
   "cell_type": "markdown",
   "id": "e90fcb91",
   "metadata": {},
   "source": [
    "<div class=\"alert alert-danger\">\n",
    "    <s><b>😔 Необходимо исправить:</b> А зачем в функции корреляция, да еще и с таким условием?</s>\n",
    "</div>\n",
    "<div class=\"alert alert-info\"> <b>🎓 Комментарий студента:</b> Функция кочует из проекта в проект немного видоизменяясь, услышал как ты рассказывала про корреляцию категорийных данных, так и не понял как ее внедрить,  в даннном случае просто убрал корреляцию т.к. на этой стадии она не сильно нужна</div>\n",
    "\n",
    "<div class=\"alert alert-success\">\n",
    " <b>👍 Успех:</b> Переиспользование функций это хорошо, но нужно их всегда адаптировать под проект\n",
    " </div>"
   ]
  },
  {
   "cell_type": "code",
   "execution_count": null,
   "id": "93a3d570",
   "metadata": {},
   "outputs": [],
   "source": [
    "#чтобы голова не болела при переключении от локальной тетрадки к ноутбуку практикума\n",
    "try:\n",
    "    df_contract = pd.read_csv('./datasets/contract_new.csv')\n",
    "    df_personal = pd.read_csv('./datasets/personal_new.csv')\n",
    "    df_internet = pd.read_csv('./datasets/internet_new.csv')\n",
    "    df_phone = pd.read_csv('./datasets/phone_new.csv')\n",
    "except:\n",
    "    df_contract = pd.read_csv('/datasets/contract_new.csv')\n",
    "    df_personal = pd.read_csv('/datasets/personal_new.csv')\n",
    "    df_internet = pd.read_csv('/datasets/internet_new.csv')\n",
    "    df_phone = pd.read_csv('/datasets/phone_new.csv')"
   ]
  },
  {
   "cell_type": "markdown",
   "id": "28de7538",
   "metadata": {},
   "source": [
    "<div class=\"alert alert-success\">\n",
    " <b>👍 Успех:</b> Отличное решение!\n",
    " </div>"
   ]
  },
  {
   "cell_type": "code",
   "execution_count": null,
   "id": "98b1eb62",
   "metadata": {},
   "outputs": [],
   "source": [
    "data_info(df_contract)"
   ]
  },
  {
   "cell_type": "markdown",
   "id": "ad34c1c9",
   "metadata": {},
   "source": [
    "<div class=\"alert alert-danger\">\n",
    "<s><b>😔 Необходимо исправить:</b> У всех визуализаций должны быть заголовки и подписи осей. Что мы здесь должны увидеть? (по исследованию остальных датасетов такой же вопрос)</s>\n",
    "</div>\n",
    "\n",
    "<div class=\"alert alert-info\"> <b>🎓 Комментарий студента:</b> Добавил заголовок, подписи осей</div>"
   ]
  },
  {
   "cell_type": "code",
   "execution_count": null,
   "id": "40a6f180",
   "metadata": {},
   "outputs": [],
   "source": [
    "display(df_contract['PaymentMethod'].unique())\n",
    "display(df_contract['Type'].unique())\n",
    "display(df_contract['PaperlessBilling'].unique())"
   ]
  },
  {
   "cell_type": "markdown",
   "id": "a63bf2db",
   "metadata": {},
   "source": [
    "##### Вывод по df_contract:\n",
    "- 7043 строк 8 столбцов\n",
    "- Пропусков нет\n",
    "- Столбцы **PaymentMethod**, **Type**, **PaperlessBilling** закодируем\n",
    "- **BeginDate** и **EndDate** конвертнем в дату \n",
    "- Наличие даты в **EndDate**  говорит о том что пользователь прекратил пользоваться услугами, выделим в отдельный столбец как целевой признак"
   ]
  },
  {
   "cell_type": "markdown",
   "id": "4d63adc6",
   "metadata": {},
   "source": [
    "<div class=\"alert alert-success\">\n",
    "<b>👍 Успех:</b> Все верно!\n",
    "</div>"
   ]
  },
  {
   "cell_type": "code",
   "execution_count": null,
   "id": "acdca54f",
   "metadata": {},
   "outputs": [],
   "source": [
    "data_info(df_personal)"
   ]
  },
  {
   "cell_type": "code",
   "execution_count": null,
   "id": "1eef4220",
   "metadata": {},
   "outputs": [],
   "source": [
    "display(df_personal['gender'].unique())\n",
    "display(df_personal['SeniorCitizen'].unique())\n",
    "display(df_personal['Partner'].unique())\n",
    "display(df_personal['Dependents'].unique())"
   ]
  },
  {
   "cell_type": "markdown",
   "id": "5f5a22a2",
   "metadata": {},
   "source": [
    "##### Вывод по df_personal:\n",
    "- 7043 строк 5 столбцов\n",
    "- Пропусков нет\n",
    "- Столбцы **gender**, **Partner**, **Dependents** закодируем"
   ]
  },
  {
   "cell_type": "markdown",
   "id": "dfd7fe21",
   "metadata": {},
   "source": [
    "<div class=\"alert alert-success\">\n",
    "<b>👍 Успех:</b> Все верно!\n",
    "</div>"
   ]
  },
  {
   "cell_type": "code",
   "execution_count": null,
   "id": "dff47650",
   "metadata": {},
   "outputs": [],
   "source": [
    "data_info(df_internet)"
   ]
  },
  {
   "cell_type": "code",
   "execution_count": null,
   "id": "72bf8199",
   "metadata": {},
   "outputs": [],
   "source": [
    "display(df_internet['InternetService'].unique())\n",
    "display(df_internet['OnlineSecurity'].unique())\n",
    "display(df_internet['OnlineBackup'].unique())\n",
    "display(df_internet['DeviceProtection'].unique())\n",
    "display(df_internet['TechSupport'].unique())\n",
    "display(df_internet['StreamingTV'].unique())\n",
    "display(df_internet['StreamingMovies'].unique())"
   ]
  },
  {
   "cell_type": "markdown",
   "id": "a53cd5f8",
   "metadata": {},
   "source": [
    "##### Вывод по df_internet:\n",
    "- 5517 строк 8 столбцов\n",
    "- Пропусков нет\n",
    "- Столбцы **PaymentMethod**, **Type**, **PaperlessBilling** закодируем\n",
    "- **BeginDate** и **EndDate** конвертнем в дату \n",
    "- Наличие даты в **EndDate**  говорит о том что пользователь прекратил пользоваться услугами, выделим в отдельный столбец как целевой признак"
   ]
  },
  {
   "cell_type": "markdown",
   "id": "eddd19b7",
   "metadata": {},
   "source": [
    "<div class=\"alert alert-success\">\n",
    "<b>👍 Успех:</b> Все верно!\n",
    "</div>"
   ]
  },
  {
   "cell_type": "code",
   "execution_count": null,
   "id": "d2a6adee",
   "metadata": {},
   "outputs": [],
   "source": [
    "data_info(df_phone)"
   ]
  },
  {
   "cell_type": "code",
   "execution_count": null,
   "id": "1fdac939",
   "metadata": {},
   "outputs": [],
   "source": [
    "display(df_phone['MultipleLines'].unique())"
   ]
  },
  {
   "cell_type": "markdown",
   "id": "e289b8d8",
   "metadata": {},
   "source": [
    "##### Вывод по df_phone:\n",
    "- 6361 строк 2 столбца\n",
    "- Пропусков нет\n",
    "- **MultipleLines** закодируем"
   ]
  },
  {
   "cell_type": "markdown",
   "id": "6bfa307b",
   "metadata": {},
   "source": [
    "<div class=\"alert alert-success\">\n",
    "<b>👍 Успех:</b> Все верно!\n",
    "</div>"
   ]
  },
  {
   "cell_type": "markdown",
   "id": "1f4189b0",
   "metadata": {},
   "source": [
    "#### Общий вывод по анализу данных:\n",
    "- Данные без пропусков\n",
    "- Много столбцов которые нажно подвергнуть кодированию для удобства работы\n",
    "- Целевой признак нужно подготовить\n",
    "- Все датафреймы нужно объединить в один\n",
    "- Подготовка данных будет минимальна. "
   ]
  },
  {
   "cell_type": "markdown",
   "id": "a0c254c8",
   "metadata": {},
   "source": [
    "### Подготовка данных:\n",
    "- Для удобства, сначала  все датафреймы объединим\n",
    "- Выделим целевой признак\n",
    "- Конвертируем в дату столбцы с датами, там где стоит **No** установим дату от **BeginDate**\n",
    "- Посчитаем **EndDate** - **BeginDate** для столбцов где есть **EndDate** и выведем в столбец **contract_days**, это позволит нам получить еще один полезный столбец в днях пользования услугами клиентов которые от услуг отказались. отсутствующие значения заполним датой среза т.к. клиенты на момент среза продолжают пользоваться услугами. \n",
    "<div class=\"alert alert-danger\">\n",
    "    <s><b>😔 Необходимо исправить:</b> Почему именно так?</s>\n",
    "</div>\n",
    "<div class=\"alert alert-info\"> <b>🎓 Комментарий студента:</b> Добавил почему, спасибо за подсказку на встрече) </div>\n",
    " <div class=\"alert alert-danger\">\n",
    " <s><b>😔 Необходимо исправить V2:</b> Я же не так сказала, их можно заполнить датой среза - 20 февраля 2020 года, сейча у тебя этот столбец практически дублирует таргет</s>\n",
    " </div>\n",
    "<div class=\"alert alert-info\"> <b>🎓 Комментарий студента2:</b> Спасибо, на этот раз понял, заполняем датой среза потому что клиенты продолжают пользоваться услугами по крайней мере на момент среза</div>\n",
    "\n",
    "<div class=\"alert alert-success\">\n",
    "<b>👍 Успех:</b> Все верно! Теперь у каждого клиента есть длительность контракта!\n",
    "</div>\n",
    "\n",
    "- Заполним пустые значения параметром **No**, пропуски появятся т.к. не все пользуются  всеми услугами\n",
    "- **TotalCharges** конвертируем во float\n"
   ]
  },
  {
   "cell_type": "code",
   "execution_count": null,
   "id": "4021e795",
   "metadata": {},
   "outputs": [],
   "source": [
    "df_telecom = df_contract.merge(df_personal, how='left', on='customerID') \\\n",
    "                        .merge(df_internet, how='left', on='customerID') \\\n",
    "                        .merge(df_phone, how='left', on='customerID') \n",
    "\n",
    "df_telecom['client_left'] = (df_telecom['EndDate'] != 'No').astype(int)\n",
    "\n",
    "df_telecom['BeginDate'] = pd.to_datetime(df_telecom['BeginDate'], format='%Y-%m-%d')\n",
    "\n",
    "\n",
    "df_telecom.loc[df_telecom['EndDate'] == 'No', ['EndDate']] \\\n",
    "= df_telecom.loc[df_telecom['EndDate'] == 'No', ['BeginDate']]\n",
    "\n",
    "\n",
    "def f(row):\n",
    "    if pd.isna(row['EndDate']):\n",
    "         val = '2020-02-20'#row['BeginDate']\n",
    "    else :\n",
    "         val = row['EndDate']\n",
    "    return val\n",
    "\n",
    "\n",
    "df_telecom['EndDate'] = pd.to_datetime(df_telecom.apply (f, axis=1), format='%Y-%m-%d')\n",
    "\n",
    "df_telecom['contract_days'] = (df_telecom['EndDate'] - df_telecom['BeginDate']).dt.days\n",
    "\n",
    "df_telecom['TotalCharges'] = pd.to_numeric(df_telecom['TotalCharges'], errors ='coerce')#.fillna(0)\n",
    "\n",
    "#Проверим что все правильно смерджилось\n",
    "display(df_telecom.info(), df_telecom.shape, df_telecom.head(20))"
   ]
  },
  {
   "cell_type": "code",
   "execution_count": null,
   "id": "da35c185",
   "metadata": {},
   "outputs": [],
   "source": [
    "df_telecom[df_telecom['TotalCharges'].isnull()]"
   ]
  },
  {
   "cell_type": "markdown",
   "id": "53fe14d7",
   "metadata": {},
   "source": [
    "- Есть пропуски в TotalCharges, это новые клиенты, пропуски заполним значением 0"
   ]
  },
  {
   "cell_type": "markdown",
   "id": "40c4b872",
   "metadata": {},
   "source": [
    "<div class=\"alert alert-success\">\n",
    " <b>👍 Успех:</b> Все верно! Они еще не успели что-то заплатить\n",
    " </div>"
   ]
  },
  {
   "cell_type": "code",
   "execution_count": null,
   "id": "58f6c137",
   "metadata": {},
   "outputs": [],
   "source": [
    "df_telecom['TotalCharges'] = df_telecom['TotalCharges'].fillna(0)\n",
    "df_telecom[df_telecom['TotalCharges'].isnull()]\n",
    "\n",
    "\n",
    "cols = df_telecom.columns\n",
    "ax = sns.heatmap(df_telecom[cols].isnull())\n",
    "ax.set(title=\"Тепловая карта набора данных:\",xlabel='столбцы', ylabel=\"пропуски\")\n",
    "ax.xaxis.tick_bottom()"
   ]
  },
  {
   "cell_type": "markdown",
   "id": "c19648ee",
   "metadata": {},
   "source": [
    "#### По тепловой карте видно что пропуски остались только в сервисах которые не используются клиентом, заменим значение на  **No**"
   ]
  },
  {
   "cell_type": "code",
   "execution_count": null,
   "id": "e0b455f7",
   "metadata": {},
   "outputs": [],
   "source": [
    "df_telecom = df_telecom.fillna('No')\n",
    "\n",
    "cols = df_telecom.columns\n",
    "ax = sns.heatmap(df_telecom[cols].isnull())\n",
    "ax.set(title=\"Тепловая карта набора данных:\",xlabel='столбцы', ylabel=\"пропуски\")\n",
    "ax.xaxis.tick_bottom()"
   ]
  },
  {
   "cell_type": "markdown",
   "id": "9785bfee",
   "metadata": {},
   "source": [
    "#### Карта потеплела и на душе потеплело :) "
   ]
  },
  {
   "cell_type": "markdown",
   "id": "1ea2c3e0",
   "metadata": {},
   "source": [
    "<div class=\"alert alert-danger\">\n",
    "<s><b>😔 Необходимо исправить:</b> Нельзя заполнять пропуски не глядя на них! Сколько пропусков в TotalCharges? Откуда они появились? Почему заполняем именно так?</s>\n",
    "</div>"
   ]
  },
  {
   "cell_type": "markdown",
   "id": "15a1d141",
   "metadata": {},
   "source": [
    "<div class=\"alert alert-info\"> <b>🎓 Комментарий студента:</b> в TotalCharges пропуски у новичков, заполнили значением 0, описание добавил,  красивых тепловых карт тоже</div>"
   ]
  },
  {
   "cell_type": "markdown",
   "id": "d298c9a6",
   "metadata": {},
   "source": [
    "<div class=\"alert alert-success\">\n",
    " <b>👍 Успех:</b> Теперь все понятно! Не забывай все проверять и объяснять свои решения\n",
    " </div>"
   ]
  },
  {
   "cell_type": "markdown",
   "id": "3bb30176",
   "metadata": {},
   "source": [
    "### Анализ данных:\n",
    "- Все кодируемые столбцы закодируем\n",
    "- Глянем  корреляцию\n",
    "- Глянем выбросы и распределение значений"
   ]
  },
  {
   "cell_type": "code",
   "execution_count": null,
   "id": "51300155",
   "metadata": {},
   "outputs": [],
   "source": [
    "data_info(df_telecom)"
   ]
  },
  {
   "cell_type": "markdown",
   "id": "04ffbff3",
   "metadata": {},
   "source": [
    "#### Глянем корреляцию числовых признаков"
   ]
  },
  {
   "cell_type": "code",
   "execution_count": null,
   "id": "047b3676",
   "metadata": {},
   "outputs": [],
   "source": [
    "cols = ['contract_days', 'MonthlyCharges', 'TotalCharges']\n",
    "df_telecom[cols].corr()\n"
   ]
  },
  {
   "cell_type": "markdown",
   "id": "5e445f3a",
   "metadata": {},
   "source": [
    "<div class=\"alert alert-danger\">\n",
    "<s><b>😔 Необходимо исправить:</b> SeniorCitizen категориальный признак, корреляция Пирсона не подходит для таких данных. Что делать с корреляцией contract_days от client_left ? </s>\n",
    "</div>\n",
    "<div class=\"alert alert-info\"> <b>🎓 Комментарий студента:</b> оставил корреляцию только числовых признаков, выводы по корреляции ниже после графиков</div>\n",
    "<div class=\"alert alert-info\"> <b>🎓 Комментарий студента3:</b> поправил корреляцию</div>"
   ]
  },
  {
   "cell_type": "markdown",
   "id": "b00060f7",
   "metadata": {},
   "source": [
    "- Обнаружена высокая корреляция **contract_days** от **TotalCharges**, это объясняется тем что чем больше  дней клиент пльзуется услугами тем больше в сумме оплата. В дальнейшем столбец **TotalCharges** удалим"
   ]
  },
  {
   "cell_type": "code",
   "execution_count": null,
   "id": "5bc4c931",
   "metadata": {},
   "outputs": [],
   "source": [
    "%%javascript\n",
    "IPython.OutputArea.auto_scroll_threshold = 9999;"
   ]
  },
  {
   "cell_type": "code",
   "execution_count": null,
   "id": "f5eac914",
   "metadata": {},
   "outputs": [],
   "source": [
    "columns = ['Type', 'PaperlessBilling',\n",
    "       'PaymentMethod', 'gender',\n",
    "       'SeniorCitizen', 'Partner', 'Dependents', 'InternetService',\n",
    "       'OnlineSecurity', 'OnlineBackup', 'DeviceProtection', 'TechSupport',\n",
    "       'StreamingTV', 'StreamingMovies', 'MultipleLines', 'client_left']\n",
    "\n",
    "for a in columns:\n",
    "\n",
    "    plt.figure(figsize=(8,6))\n",
    "    sns.barplot(x=df_telecom[a].value_counts().index,y=df_telecom[a].value_counts())\n",
    "    plt.title(\"Баланс классов: \" + str(a))\n",
    "    display(a, df_telecom[a].value_counts())"
   ]
  },
  {
   "cell_type": "markdown",
   "id": "1de4f03f",
   "metadata": {},
   "source": [
    "<div class=\"alert alert-danger\">\n",
    "<s><b>😔 Необходимо исправить:</b> Графики невозможно рассмотреть из-за размера окна и размера графиков</s>\n",
    "</div>\n",
    "<div class=\"alert alert-info\"> <b>🎓 Комментарий студента:</b> сначала не понял а потом кааак понял, окно вывода можно менять, круто!!! Эта штука мне точно пригодится, спасибо огромное! </div>\n",
    "\n",
    "<div class=\"alert alert-success\">\n",
    " <b>👍 Успех:</b> И размеры графиков можно менять)))\n",
    " </div>"
   ]
  },
  {
   "cell_type": "markdown",
   "id": "83da249c",
   "metadata": {},
   "source": [
    "#### Вывод по балансу классов\n",
    "- **Type**: по большей части пользователи платят помесячно \n",
    "- **PaperlessBilling**: предпочтение отдается биллингу в электронном виде\n",
    "- **PaymentMethod**: оплата через эл чек\n",
    "- **gender**: пол примерно поровну\n",
    "- **SeniorCitizen**: в основном не пенсионеры\n",
    "- **Partner**: примерно поровну\n",
    "- **Dependents**: большая часть это работающие люди\n",
    "- **InternetService**: предпочтение отдается оптическому каналу\n",
    "- **OnlineSecurity**, **OnlineBackup**, **DeviceProtection**, **TechSupport**, **StreamingTV**, **StreamingMovies**,**MultipleLines**: в основном клиенты предпочитают не пользоваться опциями\n",
    "- **client_left**: примерно один к пяти в пользу не ушедших клиентов"
   ]
  },
  {
   "cell_type": "code",
   "execution_count": null,
   "id": "0d05819c",
   "metadata": {},
   "outputs": [],
   "source": [
    "df_telecom.head()"
   ]
  },
  {
   "cell_type": "code",
   "execution_count": null,
   "id": "233002cf",
   "metadata": {},
   "outputs": [],
   "source": [
    "columns = ['MonthlyCharges', 'TotalCharges','contract_days']\n",
    "\n",
    "for a in columns:\n",
    "\n",
    "    plt.boxplot(x=df_telecom[a]);\n",
    "    plt.title(\"Выбросы: \" + str(a))\n",
    "    plt.show()\n",
    "    \n",
    "    plt.hist(df_telecom[a], bins=40)\n",
    "    plt.title(\"Гистограмма: \" + str(a))\n",
    "    plt.show()"
   ]
  },
  {
   "cell_type": "markdown",
   "id": "079c6946",
   "metadata": {},
   "source": [
    "#### contract_days выведем еще раз с параметрами больше 0"
   ]
  },
  {
   "cell_type": "code",
   "execution_count": null,
   "id": "6e9b2dbc",
   "metadata": {},
   "outputs": [],
   "source": [
    "plt.boxplot(x=df_telecom.loc[df_telecom['contract_days'] > 0, ['contract_days']]);\n",
    "plt.title(\"Выбросы: \" + 'contract_days')\n",
    "plt.show()\n",
    "\n",
    "plt.hist(df_telecom.loc[df_telecom['contract_days'] > 0, ['contract_days']], bins=40)\n",
    "plt.title(\"Гистограмма: \" + 'contract_days')\n",
    "plt.show()"
   ]
  },
  {
   "cell_type": "markdown",
   "id": "03563ee7",
   "metadata": {},
   "source": [
    "#### Вывод по балансу числовых данных\n",
    "- **MonthlyCharges:** медиана в районе 70, нижний квартиль от 35, верхний до 90\n",
    "- **TotalCharges:** медиана в районе 1000, нижний квартиль от 700, верхний до 3200\n",
    "- **contract_days:** медиана в районе 990, нижний квартиль от 550, верхний до 1300\n",
    "\n",
    "- На гистограмме **TotalCharges** наблюдается убывающий тренд, в то же время у **MonthlyCharges** пик в районе 80 - это значит, те кто переплачивают за тарифы, рано или поздно отказываются от услуг, чем больше киент пользуется услугами тем более желательно не повышать их стоимость."
   ]
  },
  {
   "cell_type": "markdown",
   "id": "09c188f4",
   "metadata": {},
   "source": [
    "#### Проведите исследовательский анализ данных. В конце Jupyter Notebook напишите:\n",
    "- Список уточняющих вопросов.\n",
    "- Примерный план решения задачи. Пропишите 3–5 основных шагов, каждый поясните не более двумя предложениями.\n",
    "- Цель проекта.\n",
    "\n",
    "##### Список уточняющих вопросов\n",
    "- Можно random_state без ведущего ноля использовать? \n",
    "<div class=\"alert alert-warning\">\n",
    "<b>🤔 Рекомендация:</b> да, конечно\n",
    "</div>\n",
    "\n",
    "\n",
    "- Можно использовать любые модели? Интересно попрактиковаться с моделями keras и возможно, использовать свою полносвязную модель. \n",
    "\n",
    "<div class=\"alert alert-warning\">\n",
    "<b>🤔 Рекомендация:</b> лучше ограничится изученными в курсе моделями\n",
    "</div>\n",
    "\n",
    "##### Примерный план решения задачи\n",
    "- Провести анализ данных\n",
    "- Объединить данные в один датафрейм\n",
    "- Вывести графики и определить выбросы и закономерности\n",
    "- Закодировать категориальные признаки\n",
    "- Разбить выборки на  тестову и валидационную\n",
    "- Выбрать модели и гиперпараметры методом **grid search** для лучшего результата\n",
    "- Добиться значения 0.85 метрики **auc_roc** на тестовой выборке от модели\n",
    "- Добавить итоговый вывод\n",
    "\n",
    "##### Цель проекта\n",
    "- Спрогнозировать вероятность ухода клиента для уменьшения общего оттока"
   ]
  },
  {
   "cell_type": "markdown",
   "id": "85bf1f04",
   "metadata": {},
   "source": [
    "<div class=\"alert alert-danger\">\n",
    "<s><b>😔 Необходимо исправить:</b> План должен быть немного подробней, не вижу про кодирование, разбиение на выборки и т.п.</s>\n",
    "</div>\n",
    "<div class=\"alert alert-info\"> <b>🎓 Комментарий студента:</b> В план добавил информации </div>"
   ]
  },
  {
   "cell_type": "markdown",
   "id": "5e92e59d",
   "metadata": {},
   "source": [
    "<div class=\"alert alert-danger\">\n",
    "    <s><b>😔 Необходимо исправить V2:</b> Длительность контракта все же давай исправим</s>\n",
    " </div>"
   ]
  },
  {
   "cell_type": "markdown",
   "id": "295422ae",
   "metadata": {},
   "source": [
    "<div class=\"alert alert-success\">\n",
    "<b>👍 Успех:</b> План принят!\n",
    "</div>"
   ]
  },
  {
   "cell_type": "markdown",
   "id": "8db30e04",
   "metadata": {},
   "source": [
    "### Подготовка данных и обучение моделей\n",
    "- Уберем столбцы ненужные для обучения\n",
    "- Разобьем выборку на тестовую и валидационную\n",
    "- Закодируем категориальные признаки\n",
    "- Подберем лучшие параметры для обучения моделей\n",
    "- Лучшую проверим на валидационной выборке\n",
    "- Напишем итоговый вывод"
   ]
  },
  {
   "cell_type": "code",
   "execution_count": null,
   "id": "3dca1e56",
   "metadata": {
    "scrolled": true
   },
   "outputs": [],
   "source": [
    "#Посмотрим еще раз на данные\n",
    "df_telecom.head()"
   ]
  },
  {
   "cell_type": "markdown",
   "id": "dc8c7a4e",
   "metadata": {},
   "source": [
    "#### Уберем столбцы ненужные для обучения"
   ]
  },
  {
   "cell_type": "code",
   "execution_count": null,
   "id": "5038ac62",
   "metadata": {},
   "outputs": [],
   "source": [
    "df_telecom = df_telecom.drop(['customerID', 'BeginDate', 'EndDate', 'TotalCharges'], axis = 1)\n",
    "df_telecom.head()"
   ]
  },
  {
   "cell_type": "markdown",
   "id": "68a13cdc",
   "metadata": {},
   "source": [
    " <div class=\"alert alert-success\">\n",
    " <b>👍 Успех:</b> Все верно!\n",
    " </div>"
   ]
  },
  {
   "cell_type": "markdown",
   "id": "f0685c00",
   "metadata": {},
   "source": [
    "####  Разобьем выборку на тестовую и валидационную"
   ]
  },
  {
   "cell_type": "code",
   "execution_count": null,
   "id": "ec273811",
   "metadata": {},
   "outputs": [],
   "source": [
    "features = df_telecom.drop(['client_left'], axis = 1)\n",
    "target = df_telecom.client_left\n",
    "\n",
    "features_train, features_valid, target_train, target_valid = train_test_split(\n",
    "    features, target, test_size=0.25, random_state=random_state)\n",
    "\n",
    "display(features_train.shape, features_valid.shape, features_train.head())"
   ]
  },
  {
   "cell_type": "markdown",
   "id": "a37f191a",
   "metadata": {},
   "source": [
    " <div class=\"alert alert-danger\">\n",
    " <s><b>😔 Необходимо исправить:</b> После любых преобразований нужно смотреть датасеты, точно все получилось так, как мы ожидали? После кодирования тоже стоит посмотреть что получилось</s>\n",
    " </div>\n",
    " <div class=\"alert alert-info\"> <b>🎓 Комментарий студента:</b> Вывел информацию</div>"
   ]
  },
  {
   "cell_type": "markdown",
   "id": "03977b24",
   "metadata": {},
   "source": [
    "#### Закодируем категориальные признаки\n"
   ]
  },
  {
   "cell_type": "code",
   "execution_count": null,
   "id": "87410eb5",
   "metadata": {},
   "outputs": [],
   "source": [
    "#Кодируем\n",
    "categories = ['Type','PaperlessBilling','PaymentMethod','gender', 'Partner', \n",
    "              'Dependents','InternetService'\n",
    "              ,'OnlineSecurity','OnlineBackup','DeviceProtection',\n",
    "              'TechSupport','StreamingTV','StreamingMovies','MultipleLines']\n",
    "\n",
    "encoder = OrdinalEncoder(handle_unknown='use_encoded_value', unknown_value=-1)\n",
    "encoder.fit(features_train[categories])\n",
    "\n",
    "features_train[categories] = encoder.transform(features_train[categories])\n",
    "features_valid[categories] = encoder.transform(features_valid[categories])\n",
    "\n",
    "display(features_train.shape, features_valid.shape, features_train)"
   ]
  },
  {
   "cell_type": "markdown",
   "id": "32edb603",
   "metadata": {},
   "source": [
    "<div class=\"alert alert-danger\">\n",
    "<s><b>😔 Необходимо исправить:</b> Какие признаки ты здесь кодируешь? Проверь еще раз в каких столбцах у тебя категориальные, а в каких численные</s>\n",
    "</div>\n",
    " <div class=\"alert alert-info\"> <b>🎓 Комментарий студента:</b> Понял ошибку, спасибо! Я кодировал все, а теперь кодирую только категориальные признаки</div>\n",
    "  <div class=\"alert alert-success\">\n",
    " <b>👍 Успех:</b> Все верно!\n",
    " </div>"
   ]
  },
  {
   "cell_type": "markdown",
   "id": "159a72fd",
   "metadata": {},
   "source": [
    "#### Подберем лучшие параметры для обучения моделей\n",
    " - У нас есть алгоритмы: **CatBoostClassifier**, **RandomForestClassifier**, **DecisionTreeClassifier**\n",
    " - В данном случае у нас задача классификации т.к. нужно предсказать качественное а не  количественное  значение (либо 0 либо 1)"
   ]
  },
  {
   "cell_type": "code",
   "execution_count": null,
   "id": "76fb573e",
   "metadata": {},
   "outputs": [],
   "source": [
    "%%time\n",
    "\n",
    "param_grid = {\n",
    "    'max_depth': [5, 10, 20],\n",
    "    'min_samples_split': [2, 10],\n",
    "    'min_samples_leaf': [2, 10],\n",
    "    'n_estimators': [10, 50, 100], \n",
    "}\n",
    "\n",
    "\n",
    "model = RandomForestClassifier(random_state=random_state)\n",
    "\n",
    "search = GridSearchCV(model, param_grid, cv=5, scoring='roc_auc')\n",
    "search.fit(features_train, target_train)\n",
    "\n",
    "display(f'ROC-AUC score {search.best_score_}, best prams: {search.best_params_}')"
   ]
  },
  {
   "cell_type": "code",
   "execution_count": null,
   "id": "a8db010a",
   "metadata": {},
   "outputs": [],
   "source": [
    "%%time\n",
    "param_grid = {'min_samples_leaf': [1, 10, 30, 50, 100, 150], \n",
    "              'max_depth':range(3,100,5)\n",
    "              }\n",
    "\n",
    "model = DecisionTreeClassifier(random_state=random_state)\n",
    "\n",
    "search = GridSearchCV(model, param_grid, cv=5, scoring='roc_auc')\n",
    "search.fit(features_train, target_train)\n",
    "\n",
    "display(f'ROC-AUC score {search.best_score_}, best prams: {search.best_params_}')"
   ]
  },
  {
   "cell_type": "code",
   "execution_count": null,
   "id": "a1d2abb5",
   "metadata": {},
   "outputs": [],
   "source": [
    "%%time\n",
    "param_grid = {\n",
    "    'learning_rate': [0.1, 0.3, 0.5, 0.8],\n",
    "    'iterations': [10, 50, 100],\n",
    "    'l2_leaf_reg': [3, 9, 12]\n",
    "}\n",
    "\n",
    "model = CatBoostClassifier(random_state=random_state, verbose=0)\n",
    "\n",
    "scoring = {\"AUC\": \"roc_auc\", \"Accuracy\": make_scorer(accuracy_score)}\n",
    "\n",
    "search = GridSearchCV(model, param_grid, cv=5, scoring=scoring, refit=\"AUC\",)\n",
    "search.fit(features_train, target_train)\n",
    "\n",
    "\n",
    "display(f'ROC-AUC score (best_score_) {search.best_score_}',\n",
    "        f'ROC-AUC score {np.ndarray.max(search.cv_results_[\"mean_test_AUC\"])}', \n",
    "        f'Accuracy {np.ndarray.max(search.cv_results_[\"mean_test_Accuracy\"])}', \n",
    "        f'best prams: {search.best_params_}')"
   ]
  },
  {
   "cell_type": "markdown",
   "id": "42e24193",
   "metadata": {},
   "source": [
    "<div class=\"alert alert-danger\">\n",
    "<s><b>😔 Необходимо исправить:</b> Здесь тоже нужно использовать метрику best_score_ из GridSearchCV</s>\n",
    "</div>\n",
    " <div class=\"alert alert-info\"> <b>🎓 Комментарий студента:</b> я вывел в таком виде  чтобы  отобразить втору метрику (Accuracy), ок, вывел дополнительно best_score чтобы было понятно что мое решение совпадает до последней цифры. </div>\n",
    "  <div class=\"alert alert-success\">\n",
    " <b>👍 Успех:</b> Все верно!\n",
    " </div>"
   ]
  },
  {
   "cell_type": "markdown",
   "id": "297f4443",
   "metadata": {},
   "source": [
    "#### Лучшую проверим на валидационной выборке\n"
   ]
  },
  {
   "cell_type": "markdown",
   "id": "58d769d8",
   "metadata": {},
   "source": [
    " <div class=\"alert alert-warning\">\n",
    "    <s><b>🤔 Рекомендация:</b> у нас нет валидационной выборки, есть тренировочная и тестовая</s>\n",
    " </div>\n",
    "  <div class=\"alert alert-info\"> <b>🎓 Комментарий студента:</b> поправил</div>"
   ]
  },
  {
   "cell_type": "markdown",
   "id": "8ef03e16",
   "metadata": {},
   "source": [
    "- Лучшая точность у модели **CatBoostClassifier**\n",
    "- Проверим на валидационной выборке с лучшими параметрами\n",
    "- Отобразим график"
   ]
  },
  {
   "cell_type": "code",
   "execution_count": null,
   "id": "b33a33cd",
   "metadata": {},
   "outputs": [],
   "source": [
    "def rounded(a):\n",
    "    if a > 0.5:\n",
    "        a = 1\n",
    "    else:\n",
    "        a = 0\n",
    "    return a    \n",
    "\n",
    "\n",
    "def plot_roc_curve(target_valid, predictions):\n",
    "    print('ROC-AUC score', roc_auc_score(target_valid, predictions))\n",
    "    \n",
    "    acc = map(rounded, predictions)\n",
    "    print('Accuracy score', accuracy_score(target_valid, list(acc)))\n",
    "    \n",
    "    fpr, tpr, thresholds = roc_curve(target_valid, predictions)\n",
    "\n",
    "    plt.figure(figsize=(11, 5))\n",
    "    \n",
    "    plt.plot(fpr, tpr)\n",
    "    \n",
    "    plt.plot([0, 1], [0, 1], linestyle='--')\n",
    "    \n",
    "    plt.xlim([0.0, 1.0])\n",
    "    plt.ylim([0.0, 1.0])\n",
    "    \n",
    "    plt.xlabel('False Positive Rate')\n",
    "    plt.ylabel('True Positive Rate')\n",
    "    \n",
    "    plt.title('ROC-кривая')\n",
    "    plt.show()"
   ]
  },
  {
   "cell_type": "code",
   "execution_count": null,
   "id": "7a328b2a",
   "metadata": {},
   "outputs": [],
   "source": [
    "predict_proba = search.best_estimator_.predict_proba(features_valid)[:, 1]\n",
    "plot_roc_curve(target_valid, predict_proba)"
   ]
  },
  {
   "cell_type": "code",
   "execution_count": null,
   "id": "e944ee13",
   "metadata": {},
   "outputs": [],
   "source": [
    "imp = pd.DataFrame(search.best_estimator_.feature_importances_, index = features_train.columns, columns=['importances'])\n",
    "imp = imp.sort_values(by='importances', ascending=False)\n",
    "display(imp)\n",
    "\n",
    "imp.plot(kind='bar', figsize=(10, 5), title='Важность классов')\n",
    "plt.show()"
   ]
  },
  {
   "cell_type": "markdown",
   "id": "05e67f28",
   "metadata": {},
   "source": [
    "<div class=\"alert alert-danger\">\n",
    "    <s><b>😔 Необходимо исправить:</b> Все ячейки должны запускаться в тренажере</s>\n",
    "</div>\n",
    "  <div class=\"alert alert-info\"> <b>🎓 Комментарий студента:</b> поправил</div>"
   ]
  },
  {
   "cell_type": "code",
   "execution_count": null,
   "id": "6f89648f",
   "metadata": {},
   "outputs": [],
   "source": [
    "acc = list(map(rounded, predict_proba))\n",
    "\n",
    "r = sklearn.metrics.confusion_matrix(target_valid, acc)\n",
    "\n",
    "def plot_confusion_matrix(cm, classes,\n",
    "                          normalize=False,\n",
    "                          title='Confusion matrix',\n",
    "                          cmap=plt.cm.Blues):\n",
    "    \"\"\"\n",
    "    This function prints and plots the confusion matrix.\n",
    "    Normalization can be applied by setting `normalize=True`.\n",
    "    \"\"\"\n",
    "    plt.imshow(cm, interpolation='nearest', cmap=cmap)\n",
    "    plt.title(title)\n",
    "    plt.colorbar()\n",
    "    tick_marks = np.arange(len(classes))\n",
    "    plt.xticks(tick_marks, classes, rotation=45)\n",
    "    plt.yticks(tick_marks, classes)\n",
    "\n",
    "    if normalize:\n",
    "        cm = cm.astype('float') / cm.sum(axis=1)[:, np.newaxis]\n",
    "        print(\"Normalized confusion matrix\")\n",
    "    else:\n",
    "        print('Confusion matrix, without normalization')\n",
    "\n",
    "    print(cm)\n",
    "\n",
    "    thresh = cm.max() / 2.\n",
    "\n",
    "    plt.tight_layout()\n",
    "    plt.ylabel('True label')\n",
    "    plt.xlabel('Predicted label')\n",
    "\n",
    "font = {'size' : 15}\n",
    "\n",
    "plt.rc('font', **font)\n",
    "\n",
    "cnf_matrix = r\n",
    "plt.figure(figsize=(10, 8))\n",
    "plot_confusion_matrix(cnf_matrix, classes=['Non-churned', 'Churned'],\n",
    "                      title='Confusion matrix')\n",
    "plt.savefig(\"conf_matrix.png\")\n",
    "plt.show()"
   ]
  },
  {
   "cell_type": "markdown",
   "id": "bb06cd03",
   "metadata": {},
   "source": [
    " <div class=\"alert alert-danger\">\n",
    "<s> <b>😔 Необходимо исправить:</b> Для AUC-ROC на тестовой выборке нужно использовать predict_proba, так же нужно посмотреть важность признаков и матрицу ошибок</s>\n",
    " </div>\n",
    " <div class=\"alert alert-info\"> <b>🎓 Комментарий студента:</b> поправил, добавил важность признаков и матрицу ошибок, добавил инфу в вывод</div>"
   ]
  },
  {
   "cell_type": "markdown",
   "id": "bc11f3bc",
   "metadata": {},
   "source": [
    "### Итоговый вывод\n",
    "\n",
    "- В данном проекте был проведен исследовательский анализ и обучены модели для определения вероятности отказа клиента от услуг\n",
    "- Первым делом мы изуили данные и объединили их в один датафрейм\n",
    "- После чего данные обработали и заменили пропуски\n",
    "- Также добавили два новых столбца: целевой признак **client_left**, где значение 1 значит что клиент от услуг отказался и **contract_days**, который показывает сколько по времени пользователь пользовался услугами\n",
    "- После чего провели исследовательский анализ данных: проанализировали количественные и категоральные признаки, глянули корреляцию\n",
    "- Были сделаны следующие выводы: чем больше киент пользуется услугами тем более желательно не повышать их стоимость\n",
    "- Дальше мы подготовили данные для обучения: удалили ненужные столбцы а нужные категориальные закодировали, датафрейм разделили на обучающую и валидационную выборки\n",
    "- И приступили непосредственно к обучению, взяли модели **DecisionTreeClassifier**, **RandomForestClassifier** и **CatBoostClassifier**. Уже до обучения моделей было понятно на основе прелдыдущего опыта что последняя модель покажет лучший результат, но в рамках обучения модели нужно было погонять и сравнить\n",
    "- Лучший результат как и ожидалось у **CatBoostClassifier** со значением  **ROC-AUC** в 0.96 и с точностью 0.95\n",
    "- Вывели график важности признаков и матрицу ошибок"
   ]
  },
  {
   "cell_type": "markdown",
   "id": "e08095a5",
   "metadata": {},
   "source": [
    "<div class=\"alert alert-success\">\n",
    "<b>👍 Успех:</b> Основная часть завершена! Были предобработаны и проанализированы данные, выбран целевой признак, рассчеты подкреплены визуализацией, это очень важнапя часть работы, которая облегчает анализ и позволяет полнее представлять происходящее в данных. Построено и обучено несколько моделей, все они оценены и выбрана лучшая. Цель работы достигнута, получена модель хорошо предсказывающая уход клиентов.<p>\n",
    "    Дополнительно предлагаю посмотреть:\n",
    "- Книга от ШАД: https://ml-handbook.ru/\n",
    "\n",
    "- Лекции от Andrew Ng: https://www.youtube.com/watch?v=PPLop4L2eGk&list=PLLssT5z_DsK-h9vYZkQkYNWcItqhlRJLN\n",
    "\n",
    "- Открытый курс машинного обучения: https://habr.com/ru/company/ods/blog/322626/\n",
    "</div>"
   ]
  },
  {
   "cell_type": "markdown",
   "id": "54d16f49",
   "metadata": {},
   "source": [
    "### Отчет по проекту\n",
    "\n",
    "\n",
    "#### В отчёте ответим на вопросы:\n",
    "\n",
    "#### Какие пункты плана были выполнены, а какие — нет. Почему?\n",
    "   - Были выполнены все пункты проекта:\n",
    "        - Провести анализ данных\n",
    "        - Объединить данные в один датафрейм\n",
    "        - Вывести графики и определить выбросы и закономерности\n",
    "        - Закодировать категориальные признаки\n",
    "        - Разбить выборки на  тестову и валидационную\n",
    "        - Выбрать модели и гиперпараметры методом **grid search** для лучшего результата\n",
    "        - Добиться значения 0.85 метрики **auc_roc** на тестовой выборке от модели\n",
    "        - Добавить итоговый вывод\n",
    "#### Какие трудности возникли и как вы их преодолели?\n",
    "   - Потебовалось провести работы для выделения в отдельный столбец целевого признака т.к. изначально в данных он находился как дата завершения контракта\n",
    "#### Какие ключевые шаги в решении задачи вы выделили?\n",
    "   - Анализ данных: прежде всего мы проверили что все данные можно правильно интерпретировать, отобразили по данным тепловую карту, проверили строки на дубликаты, и в целом ознакомились со структурой\n",
    "   - Преобразование данных: На этом шаге мы выделили в отдельный столбец категориальный целевой признак, обработали пропуски, посчитали дни с начала пользования услугами до завершения, либо до даты среза если клиент еще с нами, вывели в **contract_days**, объединили данные в один датафрейм а после обработали пропуски там где они были ввиду того что клиенты не пользубтся всеми услугами сразу\n",
    "   - Вывели графики и определили наличие выбросов и закономерностей\n",
    "   - Подготовка данных для обучения: Были удалены столбцы с датами, **customerID**, и **TotalCharges** который  сильно коррелировал с **contract_days** а также закодированы категориальные признаки с помощью **OrdinalEncoder**\n",
    "    - Обучить модель с метрикой auc_roc > 0.85: по рекомендации тимлида было решено использовать готовые модели, было принято решение использовать **DecisionTreeClassifier**, **RandomForestClassifier** и **CatBoostClassifier** и выполнить на них кроссвалидацию с помощью **GridSearchCV**\n",
    "    - После обучения модели, вывели графии важности классов, auc-roc кривой, и матрицу ошибок\n",
    "#### Какие признаки использовали для обучения модели и какая предобработка этих признаков была выполнена?\n",
    "   - Были использованы все имеющиеся признаки кроме: **customerID** т.к. это уид клиента, **BeginDate**, **EndDate** т.к. это даты и они уже нам не нужны, **TotalCharges** ввиду высокой корреляции с с **contract_days** \n",
    "#### Какая ваша итоговая модель, какие у неё гиперпараметы и какое качество?\n",
    "   - Итоговой моделью ожидаемо оказался классификатор **CatBoostClassifier**, где с помощью кроссвалидации выяснили что лучшими будут следующие параметры: **iterations**: 100, **l2_leaf_reg**: 3, **learning_rate**: 0.8 и качество моделей: **ROC-AUC** 0.97 **Accuracy** 0.95\n"
   ]
  },
  {
   "cell_type": "code",
   "execution_count": null,
   "id": "ac55bdbd",
   "metadata": {},
   "outputs": [],
   "source": []
  }
 ],
 "metadata": {
  "ExecuteTimeLog": [
   {
    "duration": 1605,
    "start_time": "2023-04-06T07:40:08.373Z"
   },
   {
    "duration": 8,
    "start_time": "2023-04-06T07:40:09.983Z"
   },
   {
    "duration": 233,
    "start_time": "2023-04-06T07:40:12.491Z"
   },
   {
    "duration": 512,
    "start_time": "2023-04-06T07:41:23.937Z"
   },
   {
    "duration": 536,
    "start_time": "2023-04-06T07:41:33.963Z"
   },
   {
    "duration": 166,
    "start_time": "2023-04-06T07:59:17.436Z"
   },
   {
    "duration": 6,
    "start_time": "2023-04-06T08:43:46.112Z"
   },
   {
    "duration": 497,
    "start_time": "2023-04-06T08:44:58.967Z"
   },
   {
    "duration": 5,
    "start_time": "2023-04-06T08:48:16.388Z"
   },
   {
    "duration": 37710,
    "start_time": "2023-04-06T08:48:21.907Z"
   },
   {
    "duration": 70494,
    "start_time": "2023-04-06T08:49:02.412Z"
   },
   {
    "duration": 6,
    "start_time": "2023-04-06T08:50:52.243Z"
   },
   {
    "duration": 34,
    "start_time": "2023-04-06T08:50:56.127Z"
   },
   {
    "duration": 4,
    "start_time": "2023-04-06T08:51:03.009Z"
   },
   {
    "duration": 702,
    "start_time": "2023-04-06T08:51:06.206Z"
   },
   {
    "duration": 5,
    "start_time": "2023-04-06T08:51:46.067Z"
   },
   {
    "duration": 521,
    "start_time": "2023-04-06T08:51:49.957Z"
   },
   {
    "duration": 4,
    "start_time": "2023-04-06T08:53:02.667Z"
   },
   {
    "duration": 506,
    "start_time": "2023-04-06T08:53:07.275Z"
   },
   {
    "duration": 5,
    "start_time": "2023-04-06T08:54:48.129Z"
   },
   {
    "duration": 462,
    "start_time": "2023-04-06T08:54:56.404Z"
   },
   {
    "duration": 6,
    "start_time": "2023-04-06T08:56:34.670Z"
   },
   {
    "duration": 463,
    "start_time": "2023-04-06T08:57:40.198Z"
   },
   {
    "duration": 455,
    "start_time": "2023-04-06T08:57:56.552Z"
   },
   {
    "duration": 4,
    "start_time": "2023-04-06T09:02:19.304Z"
   },
   {
    "duration": 39,
    "start_time": "2023-04-06T09:02:19.309Z"
   },
   {
    "duration": 172,
    "start_time": "2023-04-06T09:02:19.350Z"
   },
   {
    "duration": 532,
    "start_time": "2023-04-06T09:02:19.524Z"
   },
   {
    "duration": 17,
    "start_time": "2023-04-06T09:02:20.059Z"
   },
   {
    "duration": 515,
    "start_time": "2023-04-06T09:02:20.078Z"
   },
   {
    "duration": 11,
    "start_time": "2023-04-06T09:02:20.595Z"
   },
   {
    "duration": 542,
    "start_time": "2023-04-06T09:02:20.607Z"
   },
   {
    "duration": 22,
    "start_time": "2023-04-06T09:02:21.151Z"
   },
   {
    "duration": 498,
    "start_time": "2023-04-06T09:02:21.174Z"
   },
   {
    "duration": 5,
    "start_time": "2023-04-06T09:02:21.675Z"
   },
   {
    "duration": 4,
    "start_time": "2023-04-06T09:02:32.408Z"
   },
   {
    "duration": 103,
    "start_time": "2023-04-06T09:02:32.413Z"
   },
   {
    "duration": 171,
    "start_time": "2023-04-06T09:02:32.518Z"
   },
   {
    "duration": 521,
    "start_time": "2023-04-06T09:02:32.691Z"
   },
   {
    "duration": 8,
    "start_time": "2023-04-06T09:02:33.215Z"
   },
   {
    "duration": 507,
    "start_time": "2023-04-06T09:02:33.224Z"
   },
   {
    "duration": 8,
    "start_time": "2023-04-06T09:02:33.733Z"
   },
   {
    "duration": 618,
    "start_time": "2023-04-06T09:02:33.743Z"
   },
   {
    "duration": 19,
    "start_time": "2023-04-06T09:02:34.363Z"
   },
   {
    "duration": 418,
    "start_time": "2023-04-06T09:02:34.384Z"
   },
   {
    "duration": 4,
    "start_time": "2023-04-06T09:02:34.804Z"
   },
   {
    "duration": 209,
    "start_time": "2023-04-06T09:02:36.897Z"
   },
   {
    "duration": 1076,
    "start_time": "2023-04-06T09:02:58.718Z"
   },
   {
    "duration": 5,
    "start_time": "2023-04-06T09:02:59.796Z"
   },
   {
    "duration": 148,
    "start_time": "2023-04-06T09:02:59.803Z"
   },
   {
    "duration": 539,
    "start_time": "2023-04-06T09:02:59.952Z"
   },
   {
    "duration": 7,
    "start_time": "2023-04-06T09:03:00.493Z"
   },
   {
    "duration": 553,
    "start_time": "2023-04-06T09:03:00.502Z"
   },
   {
    "duration": 19,
    "start_time": "2023-04-06T09:03:01.057Z"
   },
   {
    "duration": 613,
    "start_time": "2023-04-06T09:03:01.078Z"
   },
   {
    "duration": 14,
    "start_time": "2023-04-06T09:03:01.692Z"
   },
   {
    "duration": 514,
    "start_time": "2023-04-06T09:03:01.710Z"
   },
   {
    "duration": 4,
    "start_time": "2023-04-06T09:03:02.226Z"
   },
   {
    "duration": 269,
    "start_time": "2023-04-06T09:03:02.232Z"
   },
   {
    "duration": 862,
    "start_time": "2023-04-06T09:03:02.502Z"
   },
   {
    "duration": 15,
    "start_time": "2023-04-06T09:03:03.365Z"
   },
   {
    "duration": 1954,
    "start_time": "2023-04-06T09:03:03.381Z"
   },
   {
    "duration": 17,
    "start_time": "2023-04-06T09:03:05.337Z"
   },
   {
    "duration": 662,
    "start_time": "2023-04-06T09:03:05.355Z"
   },
   {
    "duration": 338,
    "start_time": "2023-04-06T09:03:06.019Z"
   },
   {
    "duration": 9,
    "start_time": "2023-04-06T09:06:11.734Z"
   },
   {
    "duration": 1617,
    "start_time": "2023-04-06T09:06:34.989Z"
   },
   {
    "duration": 4,
    "start_time": "2023-04-06T09:06:36.608Z"
   },
   {
    "duration": 158,
    "start_time": "2023-04-06T09:06:36.613Z"
   },
   {
    "duration": 481,
    "start_time": "2023-04-06T09:06:36.772Z"
   },
   {
    "duration": 17,
    "start_time": "2023-04-06T09:06:37.256Z"
   },
   {
    "duration": 437,
    "start_time": "2023-04-06T09:06:37.275Z"
   },
   {
    "duration": 9,
    "start_time": "2023-04-06T09:06:37.714Z"
   },
   {
    "duration": 517,
    "start_time": "2023-04-06T09:06:37.724Z"
   },
   {
    "duration": 13,
    "start_time": "2023-04-06T09:06:38.242Z"
   },
   {
    "duration": 407,
    "start_time": "2023-04-06T09:06:38.272Z"
   },
   {
    "duration": 5,
    "start_time": "2023-04-06T09:06:38.680Z"
   },
   {
    "duration": 218,
    "start_time": "2023-04-06T09:06:38.686Z"
   },
   {
    "duration": 9,
    "start_time": "2023-04-06T09:06:38.906Z"
   },
   {
    "duration": 170,
    "start_time": "2023-04-06T09:06:38.918Z"
   },
   {
    "duration": 0,
    "start_time": "2023-04-06T09:06:39.090Z"
   },
   {
    "duration": 0,
    "start_time": "2023-04-06T09:06:39.091Z"
   },
   {
    "duration": 0,
    "start_time": "2023-04-06T09:06:39.092Z"
   },
   {
    "duration": 0,
    "start_time": "2023-04-06T09:06:39.093Z"
   },
   {
    "duration": 0,
    "start_time": "2023-04-06T09:06:39.094Z"
   },
   {
    "duration": 0,
    "start_time": "2023-04-06T09:06:39.095Z"
   },
   {
    "duration": 185,
    "start_time": "2023-04-06T09:09:21.476Z"
   },
   {
    "duration": 21,
    "start_time": "2023-04-06T09:10:48.308Z"
   },
   {
    "duration": 100,
    "start_time": "2023-04-06T09:12:42.711Z"
   },
   {
    "duration": 6,
    "start_time": "2023-04-06T09:12:53.958Z"
   },
   {
    "duration": 6,
    "start_time": "2023-04-06T09:12:59.219Z"
   },
   {
    "duration": 12,
    "start_time": "2023-04-06T09:13:15.772Z"
   },
   {
    "duration": 112,
    "start_time": "2023-04-06T09:15:28.120Z"
   },
   {
    "duration": 654,
    "start_time": "2023-04-06T09:16:41.101Z"
   },
   {
    "duration": 152,
    "start_time": "2023-04-06T09:16:52.560Z"
   },
   {
    "duration": 69,
    "start_time": "2023-04-06T09:16:57.285Z"
   },
   {
    "duration": 76,
    "start_time": "2023-04-06T09:17:13.054Z"
   },
   {
    "duration": 716,
    "start_time": "2023-04-06T09:17:24.087Z"
   },
   {
    "duration": 9,
    "start_time": "2023-04-06T09:19:25.306Z"
   },
   {
    "duration": 741,
    "start_time": "2023-04-06T09:19:32.027Z"
   },
   {
    "duration": 802,
    "start_time": "2023-04-06T09:21:09.183Z"
   },
   {
    "duration": 16,
    "start_time": "2023-04-06T09:21:18.767Z"
   },
   {
    "duration": 1741,
    "start_time": "2023-04-06T09:24:39.617Z"
   },
   {
    "duration": 1632,
    "start_time": "2023-04-06T09:24:57.686Z"
   },
   {
    "duration": 1677,
    "start_time": "2023-04-06T09:26:06.397Z"
   },
   {
    "duration": 53,
    "start_time": "2023-04-06T09:27:11.277Z"
   },
   {
    "duration": 1614,
    "start_time": "2023-04-06T09:27:12.883Z"
   },
   {
    "duration": 17,
    "start_time": "2023-04-06T09:29:03.885Z"
   },
   {
    "duration": 707,
    "start_time": "2023-04-06T09:29:13.871Z"
   },
   {
    "duration": 193,
    "start_time": "2023-04-06T09:29:29.757Z"
   },
   {
    "duration": 26,
    "start_time": "2023-04-06T09:34:52.053Z"
   },
   {
    "duration": 9,
    "start_time": "2023-04-06T09:35:52.709Z"
   },
   {
    "duration": 3,
    "start_time": "2023-04-06T09:37:43.772Z"
   },
   {
    "duration": 39,
    "start_time": "2023-04-06T09:37:53.424Z"
   },
   {
    "duration": 43,
    "start_time": "2023-04-06T09:38:02.805Z"
   },
   {
    "duration": 1208,
    "start_time": "2023-04-07T04:51:43.038Z"
   },
   {
    "duration": 4,
    "start_time": "2023-04-07T04:51:44.248Z"
   },
   {
    "duration": 452,
    "start_time": "2023-04-07T04:51:44.254Z"
   },
   {
    "duration": 527,
    "start_time": "2023-04-07T04:51:44.708Z"
   },
   {
    "duration": 6,
    "start_time": "2023-04-07T04:51:45.237Z"
   },
   {
    "duration": 467,
    "start_time": "2023-04-07T04:51:45.245Z"
   },
   {
    "duration": 11,
    "start_time": "2023-04-07T04:51:45.714Z"
   },
   {
    "duration": 603,
    "start_time": "2023-04-07T04:51:45.726Z"
   },
   {
    "duration": 14,
    "start_time": "2023-04-07T04:51:46.330Z"
   },
   {
    "duration": 432,
    "start_time": "2023-04-07T04:51:46.346Z"
   },
   {
    "duration": 5,
    "start_time": "2023-04-07T04:51:46.780Z"
   },
   {
    "duration": 164,
    "start_time": "2023-04-07T04:51:46.786Z"
   },
   {
    "duration": 34,
    "start_time": "2023-04-07T04:51:46.951Z"
   },
   {
    "duration": 686,
    "start_time": "2023-04-07T04:51:46.988Z"
   },
   {
    "duration": 732,
    "start_time": "2023-04-07T04:51:47.676Z"
   },
   {
    "duration": 871,
    "start_time": "2023-04-07T04:51:48.409Z"
   },
   {
    "duration": 10,
    "start_time": "2023-04-07T04:51:49.282Z"
   },
   {
    "duration": 62,
    "start_time": "2023-04-07T04:51:49.294Z"
   },
   {
    "duration": 1972,
    "start_time": "2023-04-07T04:51:49.358Z"
   },
   {
    "duration": 18,
    "start_time": "2023-04-07T04:51:51.331Z"
   },
   {
    "duration": 784,
    "start_time": "2023-04-07T04:51:51.351Z"
   },
   {
    "duration": 232,
    "start_time": "2023-04-07T04:51:52.137Z"
   },
   {
    "duration": 2163,
    "start_time": "2023-04-09T23:37:32.037Z"
   },
   {
    "duration": 6,
    "start_time": "2023-04-09T23:37:34.202Z"
   },
   {
    "duration": 435,
    "start_time": "2023-04-09T23:37:34.209Z"
   },
   {
    "duration": 549,
    "start_time": "2023-04-09T23:37:34.647Z"
   },
   {
    "duration": 8,
    "start_time": "2023-04-09T23:37:35.198Z"
   },
   {
    "duration": 505,
    "start_time": "2023-04-09T23:37:35.207Z"
   },
   {
    "duration": 9,
    "start_time": "2023-04-09T23:37:35.714Z"
   },
   {
    "duration": 564,
    "start_time": "2023-04-09T23:37:35.725Z"
   },
   {
    "duration": 14,
    "start_time": "2023-04-09T23:37:36.290Z"
   },
   {
    "duration": 464,
    "start_time": "2023-04-09T23:37:36.306Z"
   },
   {
    "duration": 4,
    "start_time": "2023-04-09T23:37:36.772Z"
   },
   {
    "duration": 229,
    "start_time": "2023-04-09T23:37:36.778Z"
   },
   {
    "duration": 20,
    "start_time": "2023-04-09T23:37:37.008Z"
   },
   {
    "duration": 743,
    "start_time": "2023-04-09T23:37:37.029Z"
   },
   {
    "duration": 831,
    "start_time": "2023-04-09T23:37:37.774Z"
   },
   {
    "duration": 888,
    "start_time": "2023-04-09T23:37:38.607Z"
   },
   {
    "duration": 9,
    "start_time": "2023-04-09T23:37:39.496Z"
   },
   {
    "duration": 28,
    "start_time": "2023-04-09T23:37:39.507Z"
   },
   {
    "duration": 1896,
    "start_time": "2023-04-09T23:37:39.537Z"
   },
   {
    "duration": 23,
    "start_time": "2023-04-09T23:37:41.434Z"
   },
   {
    "duration": 668,
    "start_time": "2023-04-09T23:37:41.459Z"
   },
   {
    "duration": 225,
    "start_time": "2023-04-09T23:37:42.129Z"
   },
   {
    "duration": 17,
    "start_time": "2023-04-09T23:37:42.356Z"
   },
   {
    "duration": 22,
    "start_time": "2023-04-09T23:37:42.375Z"
   },
   {
    "duration": 16,
    "start_time": "2023-04-09T23:37:42.399Z"
   },
   {
    "duration": 46,
    "start_time": "2023-04-09T23:37:42.416Z"
   },
   {
    "duration": 32258,
    "start_time": "2023-04-09T23:37:42.464Z"
   },
   {
    "duration": 6950,
    "start_time": "2023-04-09T23:38:14.725Z"
   },
   {
    "duration": 105497,
    "start_time": "2023-04-09T23:38:21.677Z"
   },
   {
    "duration": 4,
    "start_time": "2023-04-09T23:40:07.176Z"
   },
   {
    "duration": 4260,
    "start_time": "2023-04-09T23:40:07.182Z"
   }
  ],
  "kernelspec": {
   "display_name": "Python 3 (ipykernel)",
   "language": "python",
   "name": "python3"
  },
  "language_info": {
   "codemirror_mode": {
    "name": "ipython",
    "version": 3
   },
   "file_extension": ".py",
   "mimetype": "text/x-python",
   "name": "python",
   "nbconvert_exporter": "python",
   "pygments_lexer": "ipython3",
   "version": "3.9.13"
  },
  "toc": {
   "base_numbering": 1,
   "nav_menu": {},
   "number_sections": true,
   "sideBar": true,
   "skip_h1_title": true,
   "title_cell": "Table of Contents",
   "title_sidebar": "Contents",
   "toc_cell": false,
   "toc_position": {},
   "toc_section_display": true,
   "toc_window_display": false
  }
 },
 "nbformat": 4,
 "nbformat_minor": 5
}
