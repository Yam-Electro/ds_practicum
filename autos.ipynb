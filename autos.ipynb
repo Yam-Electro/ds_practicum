{
 "cells": [
  {
   "cell_type": "markdown",
   "metadata": {},
   "source": [
    "<div style=\"border:solid green 2px; padding: 20px\">\n",
    "Станислав, привет и хорошего дня! <br>\n",
    "Меня зовут Сергей Дроздов, и я буду проверять твой проект. Предлагаю общаться на «ты». Если тебе удобнее общаться на \"Вы\", просто дай знать. \n",
    "\n",
    "Ты уже проделал большую работу над проектом, но давай сделаем его еще лучше. Ниже ты найдешь мои комментарии - пожалуйста, не перемещай, не изменяй и не удаляй их. Я буду использовать цветовую разметку:\n",
    "\n",
    "<div class=\"alert alert-danger\">\n",
    "<b>Комментарий ревьюера: &#10060; </b> Так будут выделены комментарии с указаниями, обязательными к выполнению. Без их выполнения проект не будет принят. </div>\n",
    "\n",
    "<div class=\"alert alert-warning\">\n",
    "<b>Комментарий ревьюера:\n",
    "&#9888;</b> Так будут выделены некритичные замечания. Их отработка позволит улучшить качество твоего проекта.\n",
    "</div>\n",
    "\n",
    "<div class=\"alert alert-success\">\n",
    "<b>Комментарий ревьюера:\n",
    "&#9989;</b> Так будут выделены остальные комментарии, полезные лайфхаки и ссылки на сторонние ресурсы </div>\n",
    "\n",
    "Для наиболее эффективной и оперативной работы над проектом, мне хотелось бы иметь обратную связь. Не стесняйся задавать вопросы. Если ты что-либо меняешь в проекте, пожалуйста, комментируй это. Мне будет легче отследить изменения, если ты выделишь свои комментарии:"
   ]
  },
  {
   "cell_type": "markdown",
   "metadata": {},
   "source": [
    "# Определение стоимости автомобилей"
   ]
  },
  {
   "cell_type": "markdown",
   "metadata": {},
   "source": [
    "Сервис по продаже автомобилей с пробегом «Не бит, не крашен» разрабатывает приложение для привлечения новых клиентов. В нём можно быстро узнать рыночную стоимость своего автомобиля. В вашем распоряжении исторические данные: технические характеристики, комплектации и цены автомобилей. Вам нужно построить модель для определения стоимости. \n",
    "\n",
    "Заказчику важны:\n",
    "\n",
    "- качество предсказания;\n",
    "- скорость предсказания;\n",
    "- время обучения."
   ]
  },
  {
   "cell_type": "markdown",
   "metadata": {},
   "source": [
    "### Основные шаги:\n",
    "- Загрузите данные, путь к файлу:  /datasets/autos.csv.\n",
    "- Изучите данные. Заполните пропущенные значения и обработайте аномалии в столбцах. Если среди признаков имеются неинформативные, удалите их.\n",
    "- Подготовьте выборки для обучения моделей.\n",
    "- Обучите разные модели, одна из которых — LightGBM, как минимум одна — не бустинг. Для каждой модели попробуйте разные гиперпараметры.\n",
    "- Проанализируйте время обучения, время предсказания и качество моделей.\n",
    "- Опираясь на критерии заказчика, выберете лучшую модель, проверьте её качество на тестовой выборке."
   ]
  },
  {
   "cell_type": "code",
   "execution_count": 1,
   "metadata": {},
   "outputs": [],
   "source": [
    "# !pip install lightgbm\n",
    "# !pip install catboost"
   ]
  },
  {
   "cell_type": "code",
   "execution_count": 2,
   "metadata": {},
   "outputs": [],
   "source": [
    "#Код ревьюера\n",
    "from sklearn.experimental import enable_hist_gradient_boosting"
   ]
  },
  {
   "cell_type": "markdown",
   "metadata": {},
   "source": [
    "<div class=\"alert alert-danger\">\n",
    "<b>Комментарий ревьюера: &#10060; </b> Стоит предусмотреть обновление/работоспособность библиотек. Пожалуйста, прогоняй код на стороне сервера перед отправкой работы </div>"
   ]
  },
  {
   "cell_type": "markdown",
   "metadata": {},
   "source": [
    "<div class=\"alert alert-info\">\n",
    "<b>Комментарий студента:</b> Сергей,  Привет! В первый раз я выполняю код локально и потом отправляю на ревью, после уже правлю в хабе. Подскажи пожалуйста как  перед отправкой можно глянуть в хабе? </div>"
   ]
  },
  {
   "cell_type": "markdown",
   "metadata": {},
   "source": [
    "<div class=\"alert alert-success\">\n",
    "<b>Комментарий ревьюера V2:\n",
    "&#9989;</b> Если, честно, не знаю( Задай вопрос куратору, это не критичная ошибка, но всегда стоит проверять версии библиотек на платформах, думаю разберешься в будущем как прописывать конфиги</div>"
   ]
  },
  {
   "cell_type": "code",
   "execution_count": 3,
   "metadata": {},
   "outputs": [],
   "source": [
    "import pandas as pd\n",
    "import seaborn as sns\n",
    "import numpy as np\n",
    "from matplotlib import pyplot as plt\n",
    "from sklearn.neural_network import MLPRegressor\n",
    "from sklearn.model_selection import train_test_split\n",
    "from sklearn.model_selection import cross_val_score\n",
    "import time\n",
    "from sklearn.metrics import mean_squared_error\n",
    "from sklearn.ensemble import HistGradientBoostingRegressor\n",
    "from  sklearn.linear_model import  SGDRegressor\n",
    "from sklearn.model_selection import GridSearchCV\n",
    "from sklearn.preprocessing import OrdinalEncoder\n",
    "\n",
    "import lightgbm as lgb\n",
    "from catboost import CatBoostRegressor"
   ]
  },
  {
   "cell_type": "markdown",
   "metadata": {},
   "source": [
    "## Подготовка данных"
   ]
  },
  {
   "cell_type": "code",
   "execution_count": 4,
   "metadata": {},
   "outputs": [],
   "source": [
    "#напишем функцию для обзора данных\n",
    "def data_info(dataset):\n",
    "    cols = dataset.columns\n",
    "    colours = ['#000099', '#ffff00'] \n",
    "    sns.heatmap(dataset[cols].isnull(), cmap=sns.color_palette(colours))\n",
    "    print('')\n",
    "    print('Shape:')\n",
    "    display(dataset.shape)\n",
    "    print('')\n",
    "    print('Head:')\n",
    "    display(dataset.head())\n",
    "    print('')\n",
    "    print('Corr:')\n",
    "    display(dataset.corr())\n",
    "    df_plot = sns.heatmap(dataset.corr(), cmap=\"YlGnBu\", annot=True)      \n",
    "    plt.show()\n",
    "    print('')\n",
    "    print('Describe:')\n",
    "    print('')\n",
    "    display(dataset.describe())  \n",
    "    print('Info:')\n",
    "    print('')\n",
    "    display(dataset.info())   \n",
    "    print('Duplicated:')\n",
    "    #print('')\n",
    "    display(dataset[dataset.duplicated ()])\n",
    "    #Процентный список пропущенных данных\n",
    "    print('isna:')\n",
    "    print('')\n",
    "    for col in data.columns:\n",
    "        pct_missing = np.mean(data[col].isnull())\n",
    "        print('{} - {}%'.format(col, round(pct_missing*100)))"
   ]
  },
  {
   "cell_type": "code",
   "execution_count": 5,
   "metadata": {},
   "outputs": [],
   "source": [
    "data = pd.read_csv('/datasets/autos.csv')"
   ]
  },
  {
   "cell_type": "markdown",
   "metadata": {},
   "source": [
    "<div class=\"alert alert-success\">\n",
    "<b>Комментарий ревьюера:\n",
    "&#9989;</b> Ок, данные на базе </div>"
   ]
  },
  {
   "cell_type": "code",
   "execution_count": 6,
   "metadata": {},
   "outputs": [
    {
     "name": "stdout",
     "output_type": "stream",
     "text": [
      "\n",
      "Shape:\n"
     ]
    },
    {
     "data": {
      "text/plain": [
       "(354369, 16)"
      ]
     },
     "metadata": {},
     "output_type": "display_data"
    },
    {
     "name": "stdout",
     "output_type": "stream",
     "text": [
      "\n",
      "Head:\n"
     ]
    },
    {
     "data": {
      "text/html": [
       "<div>\n",
       "<style scoped>\n",
       "    .dataframe tbody tr th:only-of-type {\n",
       "        vertical-align: middle;\n",
       "    }\n",
       "\n",
       "    .dataframe tbody tr th {\n",
       "        vertical-align: top;\n",
       "    }\n",
       "\n",
       "    .dataframe thead th {\n",
       "        text-align: right;\n",
       "    }\n",
       "</style>\n",
       "<table border=\"1\" class=\"dataframe\">\n",
       "  <thead>\n",
       "    <tr style=\"text-align: right;\">\n",
       "      <th></th>\n",
       "      <th>DateCrawled</th>\n",
       "      <th>Price</th>\n",
       "      <th>VehicleType</th>\n",
       "      <th>RegistrationYear</th>\n",
       "      <th>Gearbox</th>\n",
       "      <th>Power</th>\n",
       "      <th>Model</th>\n",
       "      <th>Kilometer</th>\n",
       "      <th>RegistrationMonth</th>\n",
       "      <th>FuelType</th>\n",
       "      <th>Brand</th>\n",
       "      <th>Repaired</th>\n",
       "      <th>DateCreated</th>\n",
       "      <th>NumberOfPictures</th>\n",
       "      <th>PostalCode</th>\n",
       "      <th>LastSeen</th>\n",
       "    </tr>\n",
       "  </thead>\n",
       "  <tbody>\n",
       "    <tr>\n",
       "      <th>0</th>\n",
       "      <td>2016-03-24 11:52:17</td>\n",
       "      <td>480</td>\n",
       "      <td>NaN</td>\n",
       "      <td>1993</td>\n",
       "      <td>manual</td>\n",
       "      <td>0</td>\n",
       "      <td>golf</td>\n",
       "      <td>150000</td>\n",
       "      <td>0</td>\n",
       "      <td>petrol</td>\n",
       "      <td>volkswagen</td>\n",
       "      <td>NaN</td>\n",
       "      <td>2016-03-24 00:00:00</td>\n",
       "      <td>0</td>\n",
       "      <td>70435</td>\n",
       "      <td>2016-04-07 03:16:57</td>\n",
       "    </tr>\n",
       "    <tr>\n",
       "      <th>1</th>\n",
       "      <td>2016-03-24 10:58:45</td>\n",
       "      <td>18300</td>\n",
       "      <td>coupe</td>\n",
       "      <td>2011</td>\n",
       "      <td>manual</td>\n",
       "      <td>190</td>\n",
       "      <td>NaN</td>\n",
       "      <td>125000</td>\n",
       "      <td>5</td>\n",
       "      <td>gasoline</td>\n",
       "      <td>audi</td>\n",
       "      <td>yes</td>\n",
       "      <td>2016-03-24 00:00:00</td>\n",
       "      <td>0</td>\n",
       "      <td>66954</td>\n",
       "      <td>2016-04-07 01:46:50</td>\n",
       "    </tr>\n",
       "    <tr>\n",
       "      <th>2</th>\n",
       "      <td>2016-03-14 12:52:21</td>\n",
       "      <td>9800</td>\n",
       "      <td>suv</td>\n",
       "      <td>2004</td>\n",
       "      <td>auto</td>\n",
       "      <td>163</td>\n",
       "      <td>grand</td>\n",
       "      <td>125000</td>\n",
       "      <td>8</td>\n",
       "      <td>gasoline</td>\n",
       "      <td>jeep</td>\n",
       "      <td>NaN</td>\n",
       "      <td>2016-03-14 00:00:00</td>\n",
       "      <td>0</td>\n",
       "      <td>90480</td>\n",
       "      <td>2016-04-05 12:47:46</td>\n",
       "    </tr>\n",
       "    <tr>\n",
       "      <th>3</th>\n",
       "      <td>2016-03-17 16:54:04</td>\n",
       "      <td>1500</td>\n",
       "      <td>small</td>\n",
       "      <td>2001</td>\n",
       "      <td>manual</td>\n",
       "      <td>75</td>\n",
       "      <td>golf</td>\n",
       "      <td>150000</td>\n",
       "      <td>6</td>\n",
       "      <td>petrol</td>\n",
       "      <td>volkswagen</td>\n",
       "      <td>no</td>\n",
       "      <td>2016-03-17 00:00:00</td>\n",
       "      <td>0</td>\n",
       "      <td>91074</td>\n",
       "      <td>2016-03-17 17:40:17</td>\n",
       "    </tr>\n",
       "    <tr>\n",
       "      <th>4</th>\n",
       "      <td>2016-03-31 17:25:20</td>\n",
       "      <td>3600</td>\n",
       "      <td>small</td>\n",
       "      <td>2008</td>\n",
       "      <td>manual</td>\n",
       "      <td>69</td>\n",
       "      <td>fabia</td>\n",
       "      <td>90000</td>\n",
       "      <td>7</td>\n",
       "      <td>gasoline</td>\n",
       "      <td>skoda</td>\n",
       "      <td>no</td>\n",
       "      <td>2016-03-31 00:00:00</td>\n",
       "      <td>0</td>\n",
       "      <td>60437</td>\n",
       "      <td>2016-04-06 10:17:21</td>\n",
       "    </tr>\n",
       "  </tbody>\n",
       "</table>\n",
       "</div>"
      ],
      "text/plain": [
       "           DateCrawled  Price VehicleType  RegistrationYear Gearbox  Power  \\\n",
       "0  2016-03-24 11:52:17    480         NaN              1993  manual      0   \n",
       "1  2016-03-24 10:58:45  18300       coupe              2011  manual    190   \n",
       "2  2016-03-14 12:52:21   9800         suv              2004    auto    163   \n",
       "3  2016-03-17 16:54:04   1500       small              2001  manual     75   \n",
       "4  2016-03-31 17:25:20   3600       small              2008  manual     69   \n",
       "\n",
       "   Model  Kilometer  RegistrationMonth  FuelType       Brand Repaired  \\\n",
       "0   golf     150000                  0    petrol  volkswagen      NaN   \n",
       "1    NaN     125000                  5  gasoline        audi      yes   \n",
       "2  grand     125000                  8  gasoline        jeep      NaN   \n",
       "3   golf     150000                  6    petrol  volkswagen       no   \n",
       "4  fabia      90000                  7  gasoline       skoda       no   \n",
       "\n",
       "           DateCreated  NumberOfPictures  PostalCode             LastSeen  \n",
       "0  2016-03-24 00:00:00                 0       70435  2016-04-07 03:16:57  \n",
       "1  2016-03-24 00:00:00                 0       66954  2016-04-07 01:46:50  \n",
       "2  2016-03-14 00:00:00                 0       90480  2016-04-05 12:47:46  \n",
       "3  2016-03-17 00:00:00                 0       91074  2016-03-17 17:40:17  \n",
       "4  2016-03-31 00:00:00                 0       60437  2016-04-06 10:17:21  "
      ]
     },
     "metadata": {},
     "output_type": "display_data"
    },
    {
     "name": "stdout",
     "output_type": "stream",
     "text": [
      "\n",
      "Corr:\n"
     ]
    },
    {
     "data": {
      "text/html": [
       "<div>\n",
       "<style scoped>\n",
       "    .dataframe tbody tr th:only-of-type {\n",
       "        vertical-align: middle;\n",
       "    }\n",
       "\n",
       "    .dataframe tbody tr th {\n",
       "        vertical-align: top;\n",
       "    }\n",
       "\n",
       "    .dataframe thead th {\n",
       "        text-align: right;\n",
       "    }\n",
       "</style>\n",
       "<table border=\"1\" class=\"dataframe\">\n",
       "  <thead>\n",
       "    <tr style=\"text-align: right;\">\n",
       "      <th></th>\n",
       "      <th>Price</th>\n",
       "      <th>RegistrationYear</th>\n",
       "      <th>Power</th>\n",
       "      <th>Kilometer</th>\n",
       "      <th>RegistrationMonth</th>\n",
       "      <th>NumberOfPictures</th>\n",
       "      <th>PostalCode</th>\n",
       "    </tr>\n",
       "  </thead>\n",
       "  <tbody>\n",
       "    <tr>\n",
       "      <th>Price</th>\n",
       "      <td>1.000000</td>\n",
       "      <td>0.026916</td>\n",
       "      <td>0.158872</td>\n",
       "      <td>-0.333199</td>\n",
       "      <td>0.110581</td>\n",
       "      <td>NaN</td>\n",
       "      <td>0.076055</td>\n",
       "    </tr>\n",
       "    <tr>\n",
       "      <th>RegistrationYear</th>\n",
       "      <td>0.026916</td>\n",
       "      <td>1.000000</td>\n",
       "      <td>-0.000828</td>\n",
       "      <td>-0.053447</td>\n",
       "      <td>-0.011619</td>\n",
       "      <td>NaN</td>\n",
       "      <td>-0.003459</td>\n",
       "    </tr>\n",
       "    <tr>\n",
       "      <th>Power</th>\n",
       "      <td>0.158872</td>\n",
       "      <td>-0.000828</td>\n",
       "      <td>1.000000</td>\n",
       "      <td>0.024002</td>\n",
       "      <td>0.043380</td>\n",
       "      <td>NaN</td>\n",
       "      <td>0.021665</td>\n",
       "    </tr>\n",
       "    <tr>\n",
       "      <th>Kilometer</th>\n",
       "      <td>-0.333199</td>\n",
       "      <td>-0.053447</td>\n",
       "      <td>0.024002</td>\n",
       "      <td>1.000000</td>\n",
       "      <td>0.009571</td>\n",
       "      <td>NaN</td>\n",
       "      <td>-0.007698</td>\n",
       "    </tr>\n",
       "    <tr>\n",
       "      <th>RegistrationMonth</th>\n",
       "      <td>0.110581</td>\n",
       "      <td>-0.011619</td>\n",
       "      <td>0.043380</td>\n",
       "      <td>0.009571</td>\n",
       "      <td>1.000000</td>\n",
       "      <td>NaN</td>\n",
       "      <td>0.013995</td>\n",
       "    </tr>\n",
       "    <tr>\n",
       "      <th>NumberOfPictures</th>\n",
       "      <td>NaN</td>\n",
       "      <td>NaN</td>\n",
       "      <td>NaN</td>\n",
       "      <td>NaN</td>\n",
       "      <td>NaN</td>\n",
       "      <td>NaN</td>\n",
       "      <td>NaN</td>\n",
       "    </tr>\n",
       "    <tr>\n",
       "      <th>PostalCode</th>\n",
       "      <td>0.076055</td>\n",
       "      <td>-0.003459</td>\n",
       "      <td>0.021665</td>\n",
       "      <td>-0.007698</td>\n",
       "      <td>0.013995</td>\n",
       "      <td>NaN</td>\n",
       "      <td>1.000000</td>\n",
       "    </tr>\n",
       "  </tbody>\n",
       "</table>\n",
       "</div>"
      ],
      "text/plain": [
       "                      Price  RegistrationYear     Power  Kilometer  \\\n",
       "Price              1.000000          0.026916  0.158872  -0.333199   \n",
       "RegistrationYear   0.026916          1.000000 -0.000828  -0.053447   \n",
       "Power              0.158872         -0.000828  1.000000   0.024002   \n",
       "Kilometer         -0.333199         -0.053447  0.024002   1.000000   \n",
       "RegistrationMonth  0.110581         -0.011619  0.043380   0.009571   \n",
       "NumberOfPictures        NaN               NaN       NaN        NaN   \n",
       "PostalCode         0.076055         -0.003459  0.021665  -0.007698   \n",
       "\n",
       "                   RegistrationMonth  NumberOfPictures  PostalCode  \n",
       "Price                       0.110581               NaN    0.076055  \n",
       "RegistrationYear           -0.011619               NaN   -0.003459  \n",
       "Power                       0.043380               NaN    0.021665  \n",
       "Kilometer                   0.009571               NaN   -0.007698  \n",
       "RegistrationMonth           1.000000               NaN    0.013995  \n",
       "NumberOfPictures                 NaN               NaN         NaN  \n",
       "PostalCode                  0.013995               NaN    1.000000  "
      ]
     },
     "metadata": {},
     "output_type": "display_data"
    },
    {
     "data": {
      "image/png": "[encoded data removed]",
      "text/plain": [
       "<Figure size 432x288 with 3 Axes>"
      ]
     },
     "metadata": {
      "needs_background": "light"
     },
     "output_type": "display_data"
    },
    {
     "name": "stdout",
     "output_type": "stream",
     "text": [
      "\n",
      "Describe:\n",
      "\n"
     ]
    },
    {
     "data": {
      "text/html": [
       "<div>\n",
       "<style scoped>\n",
       "    .dataframe tbody tr th:only-of-type {\n",
       "        vertical-align: middle;\n",
       "    }\n",
       "\n",
       "    .dataframe tbody tr th {\n",
       "        vertical-align: top;\n",
       "    }\n",
       "\n",
       "    .dataframe thead th {\n",
       "        text-align: right;\n",
       "    }\n",
       "</style>\n",
       "<table border=\"1\" class=\"dataframe\">\n",
       "  <thead>\n",
       "    <tr style=\"text-align: right;\">\n",
       "      <th></th>\n",
       "      <th>Price</th>\n",
       "      <th>RegistrationYear</th>\n",
       "      <th>Power</th>\n",
       "      <th>Kilometer</th>\n",
       "      <th>RegistrationMonth</th>\n",
       "      <th>NumberOfPictures</th>\n",
       "      <th>PostalCode</th>\n",
       "    </tr>\n",
       "  </thead>\n",
       "  <tbody>\n",
       "    <tr>\n",
       "      <th>count</th>\n",
       "      <td>354369.000000</td>\n",
       "      <td>354369.000000</td>\n",
       "      <td>354369.000000</td>\n",
       "      <td>354369.000000</td>\n",
       "      <td>354369.000000</td>\n",
       "      <td>354369.0</td>\n",
       "      <td>354369.000000</td>\n",
       "    </tr>\n",
       "    <tr>\n",
       "      <th>mean</th>\n",
       "      <td>4416.656776</td>\n",
       "      <td>2004.234448</td>\n",
       "      <td>110.094337</td>\n",
       "      <td>128211.172535</td>\n",
       "      <td>5.714645</td>\n",
       "      <td>0.0</td>\n",
       "      <td>50508.689087</td>\n",
       "    </tr>\n",
       "    <tr>\n",
       "      <th>std</th>\n",
       "      <td>4514.158514</td>\n",
       "      <td>90.227958</td>\n",
       "      <td>189.850405</td>\n",
       "      <td>37905.341530</td>\n",
       "      <td>3.726421</td>\n",
       "      <td>0.0</td>\n",
       "      <td>25783.096248</td>\n",
       "    </tr>\n",
       "    <tr>\n",
       "      <th>min</th>\n",
       "      <td>0.000000</td>\n",
       "      <td>1000.000000</td>\n",
       "      <td>0.000000</td>\n",
       "      <td>5000.000000</td>\n",
       "      <td>0.000000</td>\n",
       "      <td>0.0</td>\n",
       "      <td>1067.000000</td>\n",
       "    </tr>\n",
       "    <tr>\n",
       "      <th>25%</th>\n",
       "      <td>1050.000000</td>\n",
       "      <td>1999.000000</td>\n",
       "      <td>69.000000</td>\n",
       "      <td>125000.000000</td>\n",
       "      <td>3.000000</td>\n",
       "      <td>0.0</td>\n",
       "      <td>30165.000000</td>\n",
       "    </tr>\n",
       "    <tr>\n",
       "      <th>50%</th>\n",
       "      <td>2700.000000</td>\n",
       "      <td>2003.000000</td>\n",
       "      <td>105.000000</td>\n",
       "      <td>150000.000000</td>\n",
       "      <td>6.000000</td>\n",
       "      <td>0.0</td>\n",
       "      <td>49413.000000</td>\n",
       "    </tr>\n",
       "    <tr>\n",
       "      <th>75%</th>\n",
       "      <td>6400.000000</td>\n",
       "      <td>2008.000000</td>\n",
       "      <td>143.000000</td>\n",
       "      <td>150000.000000</td>\n",
       "      <td>9.000000</td>\n",
       "      <td>0.0</td>\n",
       "      <td>71083.000000</td>\n",
       "    </tr>\n",
       "    <tr>\n",
       "      <th>max</th>\n",
       "      <td>20000.000000</td>\n",
       "      <td>9999.000000</td>\n",
       "      <td>20000.000000</td>\n",
       "      <td>150000.000000</td>\n",
       "      <td>12.000000</td>\n",
       "      <td>0.0</td>\n",
       "      <td>99998.000000</td>\n",
       "    </tr>\n",
       "  </tbody>\n",
       "</table>\n",
       "</div>"
      ],
      "text/plain": [
       "               Price  RegistrationYear          Power      Kilometer  \\\n",
       "count  354369.000000     354369.000000  354369.000000  354369.000000   \n",
       "mean     4416.656776       2004.234448     110.094337  128211.172535   \n",
       "std      4514.158514         90.227958     189.850405   37905.341530   \n",
       "min         0.000000       1000.000000       0.000000    5000.000000   \n",
       "25%      1050.000000       1999.000000      69.000000  125000.000000   \n",
       "50%      2700.000000       2003.000000     105.000000  150000.000000   \n",
       "75%      6400.000000       2008.000000     143.000000  150000.000000   \n",
       "max     20000.000000       9999.000000   20000.000000  150000.000000   \n",
       "\n",
       "       RegistrationMonth  NumberOfPictures     PostalCode  \n",
       "count      354369.000000          354369.0  354369.000000  \n",
       "mean            5.714645               0.0   50508.689087  \n",
       "std             3.726421               0.0   25783.096248  \n",
       "min             0.000000               0.0    1067.000000  \n",
       "25%             3.000000               0.0   30165.000000  \n",
       "50%             6.000000               0.0   49413.000000  \n",
       "75%             9.000000               0.0   71083.000000  \n",
       "max            12.000000               0.0   99998.000000  "
      ]
     },
     "metadata": {},
     "output_type": "display_data"
    },
    {
     "name": "stdout",
     "output_type": "stream",
     "text": [
      "Info:\n",
      "\n",
      "<class 'pandas.core.frame.DataFrame'>\n",
      "RangeIndex: 354369 entries, 0 to 354368\n",
      "Data columns (total 16 columns):\n",
      " #   Column             Non-Null Count   Dtype \n",
      "---  ------             --------------   ----- \n",
      " 0   DateCrawled        354369 non-null  object\n",
      " 1   Price              354369 non-null  int64 \n",
      " 2   VehicleType        316879 non-null  object\n",
      " 3   RegistrationYear   354369 non-null  int64 \n",
      " 4   Gearbox            334536 non-null  object\n",
      " 5   Power              354369 non-null  int64 \n",
      " 6   Model              334664 non-null  object\n",
      " 7   Kilometer          354369 non-null  int64 \n",
      " 8   RegistrationMonth  354369 non-null  int64 \n",
      " 9   FuelType           321474 non-null  object\n",
      " 10  Brand              354369 non-null  object\n",
      " 11  Repaired           283215 non-null  object\n",
      " 12  DateCreated        354369 non-null  object\n",
      " 13  NumberOfPictures   354369 non-null  int64 \n",
      " 14  PostalCode         354369 non-null  int64 \n",
      " 15  LastSeen           354369 non-null  object\n",
      "dtypes: int64(7), object(9)\n",
      "memory usage: 43.3+ MB\n"
     ]
    },
    {
     "data": {
      "text/plain": [
       "None"
      ]
     },
     "metadata": {},
     "output_type": "display_data"
    },
    {
     "name": "stdout",
     "output_type": "stream",
     "text": [
      "Duplicated:\n"
     ]
    },
    {
     "data": {
      "text/html": [
       "<div>\n",
       "<style scoped>\n",
       "    .dataframe tbody tr th:only-of-type {\n",
       "        vertical-align: middle;\n",
       "    }\n",
       "\n",
       "    .dataframe tbody tr th {\n",
       "        vertical-align: top;\n",
       "    }\n",
       "\n",
       "    .dataframe thead th {\n",
       "        text-align: right;\n",
       "    }\n",
       "</style>\n",
       "<table border=\"1\" class=\"dataframe\">\n",
       "  <thead>\n",
       "    <tr style=\"text-align: right;\">\n",
       "      <th></th>\n",
       "      <th>DateCrawled</th>\n",
       "      <th>Price</th>\n",
       "      <th>VehicleType</th>\n",
       "      <th>RegistrationYear</th>\n",
       "      <th>Gearbox</th>\n",
       "      <th>Power</th>\n",
       "      <th>Model</th>\n",
       "      <th>Kilometer</th>\n",
       "      <th>RegistrationMonth</th>\n",
       "      <th>FuelType</th>\n",
       "      <th>Brand</th>\n",
       "      <th>Repaired</th>\n",
       "      <th>DateCreated</th>\n",
       "      <th>NumberOfPictures</th>\n",
       "      <th>PostalCode</th>\n",
       "      <th>LastSeen</th>\n",
       "    </tr>\n",
       "  </thead>\n",
       "  <tbody>\n",
       "    <tr>\n",
       "      <th>171088</th>\n",
       "      <td>2016-03-08 18:42:48</td>\n",
       "      <td>1799</td>\n",
       "      <td>coupe</td>\n",
       "      <td>1999</td>\n",
       "      <td>auto</td>\n",
       "      <td>193</td>\n",
       "      <td>clk</td>\n",
       "      <td>20000</td>\n",
       "      <td>7</td>\n",
       "      <td>petrol</td>\n",
       "      <td>mercedes_benz</td>\n",
       "      <td>no</td>\n",
       "      <td>2016-03-08 00:00:00</td>\n",
       "      <td>0</td>\n",
       "      <td>89518</td>\n",
       "      <td>2016-03-09 09:46:57</td>\n",
       "    </tr>\n",
       "    <tr>\n",
       "      <th>231258</th>\n",
       "      <td>2016-03-28 00:56:10</td>\n",
       "      <td>1000</td>\n",
       "      <td>small</td>\n",
       "      <td>2002</td>\n",
       "      <td>manual</td>\n",
       "      <td>83</td>\n",
       "      <td>other</td>\n",
       "      <td>150000</td>\n",
       "      <td>1</td>\n",
       "      <td>petrol</td>\n",
       "      <td>suzuki</td>\n",
       "      <td>no</td>\n",
       "      <td>2016-03-28 00:00:00</td>\n",
       "      <td>0</td>\n",
       "      <td>66589</td>\n",
       "      <td>2016-03-28 08:46:21</td>\n",
       "    </tr>\n",
       "    <tr>\n",
       "      <th>258109</th>\n",
       "      <td>2016-04-03 09:01:15</td>\n",
       "      <td>4699</td>\n",
       "      <td>coupe</td>\n",
       "      <td>2003</td>\n",
       "      <td>auto</td>\n",
       "      <td>218</td>\n",
       "      <td>clk</td>\n",
       "      <td>125000</td>\n",
       "      <td>6</td>\n",
       "      <td>petrol</td>\n",
       "      <td>mercedes_benz</td>\n",
       "      <td>yes</td>\n",
       "      <td>2016-04-03 00:00:00</td>\n",
       "      <td>0</td>\n",
       "      <td>75196</td>\n",
       "      <td>2016-04-07 09:44:54</td>\n",
       "    </tr>\n",
       "    <tr>\n",
       "      <th>325651</th>\n",
       "      <td>2016-03-18 18:46:15</td>\n",
       "      <td>1999</td>\n",
       "      <td>wagon</td>\n",
       "      <td>2001</td>\n",
       "      <td>manual</td>\n",
       "      <td>131</td>\n",
       "      <td>passat</td>\n",
       "      <td>150000</td>\n",
       "      <td>7</td>\n",
       "      <td>gasoline</td>\n",
       "      <td>volkswagen</td>\n",
       "      <td>no</td>\n",
       "      <td>2016-03-18 00:00:00</td>\n",
       "      <td>0</td>\n",
       "      <td>36391</td>\n",
       "      <td>2016-03-18 18:46:15</td>\n",
       "    </tr>\n",
       "  </tbody>\n",
       "</table>\n",
       "</div>"
      ],
      "text/plain": [
       "                DateCrawled  Price VehicleType  RegistrationYear Gearbox  \\\n",
       "171088  2016-03-08 18:42:48   1799       coupe              1999    auto   \n",
       "231258  2016-03-28 00:56:10   1000       small              2002  manual   \n",
       "258109  2016-04-03 09:01:15   4699       coupe              2003    auto   \n",
       "325651  2016-03-18 18:46:15   1999       wagon              2001  manual   \n",
       "\n",
       "        Power   Model  Kilometer  RegistrationMonth  FuelType          Brand  \\\n",
       "171088    193     clk      20000                  7    petrol  mercedes_benz   \n",
       "231258     83   other     150000                  1    petrol         suzuki   \n",
       "258109    218     clk     125000                  6    petrol  mercedes_benz   \n",
       "325651    131  passat     150000                  7  gasoline     volkswagen   \n",
       "\n",
       "       Repaired          DateCreated  NumberOfPictures  PostalCode  \\\n",
       "171088       no  2016-03-08 00:00:00                 0       89518   \n",
       "231258       no  2016-03-28 00:00:00                 0       66589   \n",
       "258109      yes  2016-04-03 00:00:00                 0       75196   \n",
       "325651       no  2016-03-18 00:00:00                 0       36391   \n",
       "\n",
       "                   LastSeen  \n",
       "171088  2016-03-09 09:46:57  \n",
       "231258  2016-03-28 08:46:21  \n",
       "258109  2016-04-07 09:44:54  \n",
       "325651  2016-03-18 18:46:15  "
      ]
     },
     "metadata": {},
     "output_type": "display_data"
    },
    {
     "name": "stdout",
     "output_type": "stream",
     "text": [
      "isna:\n",
      "\n",
      "DateCrawled - 0%\n",
      "Price - 0%\n",
      "VehicleType - 11%\n",
      "RegistrationYear - 0%\n",
      "Gearbox - 6%\n",
      "Power - 0%\n",
      "Model - 6%\n",
      "Kilometer - 0%\n",
      "RegistrationMonth - 0%\n",
      "FuelType - 9%\n",
      "Brand - 0%\n",
      "Repaired - 20%\n",
      "DateCreated - 0%\n",
      "NumberOfPictures - 0%\n",
      "PostalCode - 0%\n",
      "LastSeen - 0%\n"
     ]
    }
   ],
   "source": [
    "data_info(data)"
   ]
  },
  {
   "cell_type": "code",
   "execution_count": 7,
   "metadata": {},
   "outputs": [
    {
     "data": {
      "text/html": [
       "<div>\n",
       "<style scoped>\n",
       "    .dataframe tbody tr th:only-of-type {\n",
       "        vertical-align: middle;\n",
       "    }\n",
       "\n",
       "    .dataframe tbody tr th {\n",
       "        vertical-align: top;\n",
       "    }\n",
       "\n",
       "    .dataframe thead th {\n",
       "        text-align: right;\n",
       "    }\n",
       "</style>\n",
       "<table border=\"1\" class=\"dataframe\">\n",
       "  <thead>\n",
       "    <tr style=\"text-align: right;\">\n",
       "      <th></th>\n",
       "      <th>DateCrawled</th>\n",
       "      <th>Price</th>\n",
       "      <th>VehicleType</th>\n",
       "      <th>RegistrationYear</th>\n",
       "      <th>Gearbox</th>\n",
       "      <th>Power</th>\n",
       "      <th>Model</th>\n",
       "      <th>Kilometer</th>\n",
       "      <th>RegistrationMonth</th>\n",
       "      <th>FuelType</th>\n",
       "      <th>Brand</th>\n",
       "      <th>Repaired</th>\n",
       "      <th>DateCreated</th>\n",
       "      <th>NumberOfPictures</th>\n",
       "      <th>PostalCode</th>\n",
       "      <th>LastSeen</th>\n",
       "    </tr>\n",
       "  </thead>\n",
       "  <tbody>\n",
       "    <tr>\n",
       "      <th>7</th>\n",
       "      <td>2016-03-21 18:54:38</td>\n",
       "      <td>0</td>\n",
       "      <td>sedan</td>\n",
       "      <td>1980</td>\n",
       "      <td>manual</td>\n",
       "      <td>50</td>\n",
       "      <td>other</td>\n",
       "      <td>40000</td>\n",
       "      <td>7</td>\n",
       "      <td>petrol</td>\n",
       "      <td>volkswagen</td>\n",
       "      <td>no</td>\n",
       "      <td>2016-03-21 00:00:00</td>\n",
       "      <td>0</td>\n",
       "      <td>19348</td>\n",
       "      <td>2016-03-25 16:47:58</td>\n",
       "    </tr>\n",
       "    <tr>\n",
       "      <th>40</th>\n",
       "      <td>2016-03-26 22:06:17</td>\n",
       "      <td>0</td>\n",
       "      <td>NaN</td>\n",
       "      <td>1990</td>\n",
       "      <td>NaN</td>\n",
       "      <td>0</td>\n",
       "      <td>corsa</td>\n",
       "      <td>150000</td>\n",
       "      <td>1</td>\n",
       "      <td>petrol</td>\n",
       "      <td>opel</td>\n",
       "      <td>NaN</td>\n",
       "      <td>2016-03-26 00:00:00</td>\n",
       "      <td>0</td>\n",
       "      <td>56412</td>\n",
       "      <td>2016-03-27 17:43:34</td>\n",
       "    </tr>\n",
       "    <tr>\n",
       "      <th>111</th>\n",
       "      <td>2016-03-19 18:40:12</td>\n",
       "      <td>0</td>\n",
       "      <td>NaN</td>\n",
       "      <td>2017</td>\n",
       "      <td>manual</td>\n",
       "      <td>0</td>\n",
       "      <td>golf</td>\n",
       "      <td>5000</td>\n",
       "      <td>12</td>\n",
       "      <td>petrol</td>\n",
       "      <td>volkswagen</td>\n",
       "      <td>NaN</td>\n",
       "      <td>2016-03-19 00:00:00</td>\n",
       "      <td>0</td>\n",
       "      <td>21698</td>\n",
       "      <td>2016-04-01 08:47:05</td>\n",
       "    </tr>\n",
       "    <tr>\n",
       "      <th>115</th>\n",
       "      <td>2016-03-20 18:53:27</td>\n",
       "      <td>0</td>\n",
       "      <td>small</td>\n",
       "      <td>1999</td>\n",
       "      <td>NaN</td>\n",
       "      <td>0</td>\n",
       "      <td>NaN</td>\n",
       "      <td>5000</td>\n",
       "      <td>0</td>\n",
       "      <td>petrol</td>\n",
       "      <td>volkswagen</td>\n",
       "      <td>NaN</td>\n",
       "      <td>2016-03-20 00:00:00</td>\n",
       "      <td>0</td>\n",
       "      <td>37520</td>\n",
       "      <td>2016-04-07 02:45:22</td>\n",
       "    </tr>\n",
       "    <tr>\n",
       "      <th>152</th>\n",
       "      <td>2016-03-11 18:55:53</td>\n",
       "      <td>0</td>\n",
       "      <td>bus</td>\n",
       "      <td>2004</td>\n",
       "      <td>manual</td>\n",
       "      <td>101</td>\n",
       "      <td>meriva</td>\n",
       "      <td>150000</td>\n",
       "      <td>10</td>\n",
       "      <td>lpg</td>\n",
       "      <td>opel</td>\n",
       "      <td>yes</td>\n",
       "      <td>2016-03-11 00:00:00</td>\n",
       "      <td>0</td>\n",
       "      <td>27432</td>\n",
       "      <td>2016-03-12 23:47:10</td>\n",
       "    </tr>\n",
       "    <tr>\n",
       "      <th>...</th>\n",
       "      <td>...</td>\n",
       "      <td>...</td>\n",
       "      <td>...</td>\n",
       "      <td>...</td>\n",
       "      <td>...</td>\n",
       "      <td>...</td>\n",
       "      <td>...</td>\n",
       "      <td>...</td>\n",
       "      <td>...</td>\n",
       "      <td>...</td>\n",
       "      <td>...</td>\n",
       "      <td>...</td>\n",
       "      <td>...</td>\n",
       "      <td>...</td>\n",
       "      <td>...</td>\n",
       "      <td>...</td>\n",
       "    </tr>\n",
       "    <tr>\n",
       "      <th>354205</th>\n",
       "      <td>2016-03-09 15:56:30</td>\n",
       "      <td>0</td>\n",
       "      <td>NaN</td>\n",
       "      <td>2000</td>\n",
       "      <td>manual</td>\n",
       "      <td>65</td>\n",
       "      <td>corsa</td>\n",
       "      <td>150000</td>\n",
       "      <td>0</td>\n",
       "      <td>NaN</td>\n",
       "      <td>opel</td>\n",
       "      <td>yes</td>\n",
       "      <td>2016-03-09 00:00:00</td>\n",
       "      <td>0</td>\n",
       "      <td>23758</td>\n",
       "      <td>2016-03-30 11:16:08</td>\n",
       "    </tr>\n",
       "    <tr>\n",
       "      <th>354238</th>\n",
       "      <td>2016-03-20 14:55:07</td>\n",
       "      <td>0</td>\n",
       "      <td>small</td>\n",
       "      <td>2002</td>\n",
       "      <td>manual</td>\n",
       "      <td>60</td>\n",
       "      <td>fiesta</td>\n",
       "      <td>150000</td>\n",
       "      <td>3</td>\n",
       "      <td>petrol</td>\n",
       "      <td>ford</td>\n",
       "      <td>NaN</td>\n",
       "      <td>2016-03-20 00:00:00</td>\n",
       "      <td>0</td>\n",
       "      <td>33659</td>\n",
       "      <td>2016-04-06 18:45:23</td>\n",
       "    </tr>\n",
       "    <tr>\n",
       "      <th>354248</th>\n",
       "      <td>2016-03-24 13:48:05</td>\n",
       "      <td>0</td>\n",
       "      <td>small</td>\n",
       "      <td>1999</td>\n",
       "      <td>manual</td>\n",
       "      <td>53</td>\n",
       "      <td>swift</td>\n",
       "      <td>150000</td>\n",
       "      <td>3</td>\n",
       "      <td>petrol</td>\n",
       "      <td>suzuki</td>\n",
       "      <td>NaN</td>\n",
       "      <td>2016-03-24 00:00:00</td>\n",
       "      <td>0</td>\n",
       "      <td>42329</td>\n",
       "      <td>2016-04-07 05:17:24</td>\n",
       "    </tr>\n",
       "    <tr>\n",
       "      <th>354277</th>\n",
       "      <td>2016-03-10 22:55:50</td>\n",
       "      <td>0</td>\n",
       "      <td>small</td>\n",
       "      <td>1999</td>\n",
       "      <td>manual</td>\n",
       "      <td>37</td>\n",
       "      <td>arosa</td>\n",
       "      <td>150000</td>\n",
       "      <td>7</td>\n",
       "      <td>petrol</td>\n",
       "      <td>seat</td>\n",
       "      <td>yes</td>\n",
       "      <td>2016-03-10 00:00:00</td>\n",
       "      <td>0</td>\n",
       "      <td>22559</td>\n",
       "      <td>2016-03-12 23:46:32</td>\n",
       "    </tr>\n",
       "    <tr>\n",
       "      <th>354364</th>\n",
       "      <td>2016-03-21 09:50:58</td>\n",
       "      <td>0</td>\n",
       "      <td>NaN</td>\n",
       "      <td>2005</td>\n",
       "      <td>manual</td>\n",
       "      <td>0</td>\n",
       "      <td>colt</td>\n",
       "      <td>150000</td>\n",
       "      <td>7</td>\n",
       "      <td>petrol</td>\n",
       "      <td>mitsubishi</td>\n",
       "      <td>yes</td>\n",
       "      <td>2016-03-21 00:00:00</td>\n",
       "      <td>0</td>\n",
       "      <td>2694</td>\n",
       "      <td>2016-03-21 10:42:49</td>\n",
       "    </tr>\n",
       "  </tbody>\n",
       "</table>\n",
       "<p>10772 rows × 16 columns</p>\n",
       "</div>"
      ],
      "text/plain": [
       "                DateCrawled  Price VehicleType  RegistrationYear Gearbox  \\\n",
       "7       2016-03-21 18:54:38      0       sedan              1980  manual   \n",
       "40      2016-03-26 22:06:17      0         NaN              1990     NaN   \n",
       "111     2016-03-19 18:40:12      0         NaN              2017  manual   \n",
       "115     2016-03-20 18:53:27      0       small              1999     NaN   \n",
       "152     2016-03-11 18:55:53      0         bus              2004  manual   \n",
       "...                     ...    ...         ...               ...     ...   \n",
       "354205  2016-03-09 15:56:30      0         NaN              2000  manual   \n",
       "354238  2016-03-20 14:55:07      0       small              2002  manual   \n",
       "354248  2016-03-24 13:48:05      0       small              1999  manual   \n",
       "354277  2016-03-10 22:55:50      0       small              1999  manual   \n",
       "354364  2016-03-21 09:50:58      0         NaN              2005  manual   \n",
       "\n",
       "        Power   Model  Kilometer  RegistrationMonth FuelType       Brand  \\\n",
       "7          50   other      40000                  7   petrol  volkswagen   \n",
       "40          0   corsa     150000                  1   petrol        opel   \n",
       "111         0    golf       5000                 12   petrol  volkswagen   \n",
       "115         0     NaN       5000                  0   petrol  volkswagen   \n",
       "152       101  meriva     150000                 10      lpg        opel   \n",
       "...       ...     ...        ...                ...      ...         ...   \n",
       "354205     65   corsa     150000                  0      NaN        opel   \n",
       "354238     60  fiesta     150000                  3   petrol        ford   \n",
       "354248     53   swift     150000                  3   petrol      suzuki   \n",
       "354277     37   arosa     150000                  7   petrol        seat   \n",
       "354364      0    colt     150000                  7   petrol  mitsubishi   \n",
       "\n",
       "       Repaired          DateCreated  NumberOfPictures  PostalCode  \\\n",
       "7            no  2016-03-21 00:00:00                 0       19348   \n",
       "40          NaN  2016-03-26 00:00:00                 0       56412   \n",
       "111         NaN  2016-03-19 00:00:00                 0       21698   \n",
       "115         NaN  2016-03-20 00:00:00                 0       37520   \n",
       "152         yes  2016-03-11 00:00:00                 0       27432   \n",
       "...         ...                  ...               ...         ...   \n",
       "354205      yes  2016-03-09 00:00:00                 0       23758   \n",
       "354238      NaN  2016-03-20 00:00:00                 0       33659   \n",
       "354248      NaN  2016-03-24 00:00:00                 0       42329   \n",
       "354277      yes  2016-03-10 00:00:00                 0       22559   \n",
       "354364      yes  2016-03-21 00:00:00                 0        2694   \n",
       "\n",
       "                   LastSeen  \n",
       "7       2016-03-25 16:47:58  \n",
       "40      2016-03-27 17:43:34  \n",
       "111     2016-04-01 08:47:05  \n",
       "115     2016-04-07 02:45:22  \n",
       "152     2016-03-12 23:47:10  \n",
       "...                     ...  \n",
       "354205  2016-03-30 11:16:08  \n",
       "354238  2016-04-06 18:45:23  \n",
       "354248  2016-04-07 05:17:24  \n",
       "354277  2016-03-12 23:46:32  \n",
       "354364  2016-03-21 10:42:49  \n",
       "\n",
       "[10772 rows x 16 columns]"
      ]
     },
     "execution_count": 7,
     "metadata": {},
     "output_type": "execute_result"
    }
   ],
   "source": [
    "data[data.Price == 0]"
   ]
  },
  {
   "cell_type": "code",
   "execution_count": 8,
   "metadata": {},
   "outputs": [
    {
     "data": {
      "text/html": [
       "<div>\n",
       "<style scoped>\n",
       "    .dataframe tbody tr th:only-of-type {\n",
       "        vertical-align: middle;\n",
       "    }\n",
       "\n",
       "    .dataframe tbody tr th {\n",
       "        vertical-align: top;\n",
       "    }\n",
       "\n",
       "    .dataframe thead th {\n",
       "        text-align: right;\n",
       "    }\n",
       "</style>\n",
       "<table border=\"1\" class=\"dataframe\">\n",
       "  <thead>\n",
       "    <tr style=\"text-align: right;\">\n",
       "      <th></th>\n",
       "      <th>DateCrawled</th>\n",
       "      <th>Price</th>\n",
       "      <th>VehicleType</th>\n",
       "      <th>RegistrationYear</th>\n",
       "      <th>Gearbox</th>\n",
       "      <th>Power</th>\n",
       "      <th>Model</th>\n",
       "      <th>Kilometer</th>\n",
       "      <th>RegistrationMonth</th>\n",
       "      <th>FuelType</th>\n",
       "      <th>Brand</th>\n",
       "      <th>Repaired</th>\n",
       "      <th>DateCreated</th>\n",
       "      <th>NumberOfPictures</th>\n",
       "      <th>PostalCode</th>\n",
       "      <th>LastSeen</th>\n",
       "    </tr>\n",
       "  </thead>\n",
       "  <tbody>\n",
       "    <tr>\n",
       "      <th>0</th>\n",
       "      <td>2016-03-24 11:52:17</td>\n",
       "      <td>480</td>\n",
       "      <td>NaN</td>\n",
       "      <td>1993</td>\n",
       "      <td>manual</td>\n",
       "      <td>0</td>\n",
       "      <td>golf</td>\n",
       "      <td>150000</td>\n",
       "      <td>0</td>\n",
       "      <td>petrol</td>\n",
       "      <td>volkswagen</td>\n",
       "      <td>NaN</td>\n",
       "      <td>2016-03-24 00:00:00</td>\n",
       "      <td>0</td>\n",
       "      <td>70435</td>\n",
       "      <td>2016-04-07 03:16:57</td>\n",
       "    </tr>\n",
       "    <tr>\n",
       "      <th>15</th>\n",
       "      <td>2016-03-11 21:39:15</td>\n",
       "      <td>450</td>\n",
       "      <td>small</td>\n",
       "      <td>1910</td>\n",
       "      <td>NaN</td>\n",
       "      <td>0</td>\n",
       "      <td>ka</td>\n",
       "      <td>5000</td>\n",
       "      <td>0</td>\n",
       "      <td>petrol</td>\n",
       "      <td>ford</td>\n",
       "      <td>NaN</td>\n",
       "      <td>2016-03-11 00:00:00</td>\n",
       "      <td>0</td>\n",
       "      <td>24148</td>\n",
       "      <td>2016-03-19 08:46:47</td>\n",
       "    </tr>\n",
       "    <tr>\n",
       "      <th>32</th>\n",
       "      <td>2016-03-15 20:59:01</td>\n",
       "      <td>245</td>\n",
       "      <td>sedan</td>\n",
       "      <td>1994</td>\n",
       "      <td>NaN</td>\n",
       "      <td>0</td>\n",
       "      <td>golf</td>\n",
       "      <td>150000</td>\n",
       "      <td>2</td>\n",
       "      <td>petrol</td>\n",
       "      <td>volkswagen</td>\n",
       "      <td>no</td>\n",
       "      <td>2016-03-15 00:00:00</td>\n",
       "      <td>0</td>\n",
       "      <td>44145</td>\n",
       "      <td>2016-03-17 18:17:43</td>\n",
       "    </tr>\n",
       "    <tr>\n",
       "      <th>37</th>\n",
       "      <td>2016-03-28 17:50:15</td>\n",
       "      <td>1500</td>\n",
       "      <td>NaN</td>\n",
       "      <td>2016</td>\n",
       "      <td>NaN</td>\n",
       "      <td>0</td>\n",
       "      <td>kangoo</td>\n",
       "      <td>150000</td>\n",
       "      <td>1</td>\n",
       "      <td>gasoline</td>\n",
       "      <td>renault</td>\n",
       "      <td>no</td>\n",
       "      <td>2016-03-28 00:00:00</td>\n",
       "      <td>0</td>\n",
       "      <td>46483</td>\n",
       "      <td>2016-03-30 09:18:02</td>\n",
       "    </tr>\n",
       "    <tr>\n",
       "      <th>40</th>\n",
       "      <td>2016-03-26 22:06:17</td>\n",
       "      <td>0</td>\n",
       "      <td>NaN</td>\n",
       "      <td>1990</td>\n",
       "      <td>NaN</td>\n",
       "      <td>0</td>\n",
       "      <td>corsa</td>\n",
       "      <td>150000</td>\n",
       "      <td>1</td>\n",
       "      <td>petrol</td>\n",
       "      <td>opel</td>\n",
       "      <td>NaN</td>\n",
       "      <td>2016-03-26 00:00:00</td>\n",
       "      <td>0</td>\n",
       "      <td>56412</td>\n",
       "      <td>2016-03-27 17:43:34</td>\n",
       "    </tr>\n",
       "    <tr>\n",
       "      <th>...</th>\n",
       "      <td>...</td>\n",
       "      <td>...</td>\n",
       "      <td>...</td>\n",
       "      <td>...</td>\n",
       "      <td>...</td>\n",
       "      <td>...</td>\n",
       "      <td>...</td>\n",
       "      <td>...</td>\n",
       "      <td>...</td>\n",
       "      <td>...</td>\n",
       "      <td>...</td>\n",
       "      <td>...</td>\n",
       "      <td>...</td>\n",
       "      <td>...</td>\n",
       "      <td>...</td>\n",
       "      <td>...</td>\n",
       "    </tr>\n",
       "    <tr>\n",
       "      <th>354338</th>\n",
       "      <td>2016-03-31 19:52:33</td>\n",
       "      <td>180</td>\n",
       "      <td>NaN</td>\n",
       "      <td>1995</td>\n",
       "      <td>NaN</td>\n",
       "      <td>0</td>\n",
       "      <td>NaN</td>\n",
       "      <td>125000</td>\n",
       "      <td>3</td>\n",
       "      <td>petrol</td>\n",
       "      <td>opel</td>\n",
       "      <td>NaN</td>\n",
       "      <td>2016-03-31 00:00:00</td>\n",
       "      <td>0</td>\n",
       "      <td>41470</td>\n",
       "      <td>2016-04-06 14:18:04</td>\n",
       "    </tr>\n",
       "    <tr>\n",
       "      <th>354346</th>\n",
       "      <td>2016-03-07 17:06:35</td>\n",
       "      <td>2600</td>\n",
       "      <td>NaN</td>\n",
       "      <td>2005</td>\n",
       "      <td>auto</td>\n",
       "      <td>0</td>\n",
       "      <td>c_klasse</td>\n",
       "      <td>150000</td>\n",
       "      <td>9</td>\n",
       "      <td>NaN</td>\n",
       "      <td>mercedes_benz</td>\n",
       "      <td>NaN</td>\n",
       "      <td>2016-03-07 00:00:00</td>\n",
       "      <td>0</td>\n",
       "      <td>61169</td>\n",
       "      <td>2016-03-08 21:28:38</td>\n",
       "    </tr>\n",
       "    <tr>\n",
       "      <th>354363</th>\n",
       "      <td>2016-03-27 20:36:20</td>\n",
       "      <td>1150</td>\n",
       "      <td>bus</td>\n",
       "      <td>2000</td>\n",
       "      <td>manual</td>\n",
       "      <td>0</td>\n",
       "      <td>zafira</td>\n",
       "      <td>150000</td>\n",
       "      <td>3</td>\n",
       "      <td>petrol</td>\n",
       "      <td>opel</td>\n",
       "      <td>no</td>\n",
       "      <td>2016-03-27 00:00:00</td>\n",
       "      <td>0</td>\n",
       "      <td>26624</td>\n",
       "      <td>2016-03-29 10:17:23</td>\n",
       "    </tr>\n",
       "    <tr>\n",
       "      <th>354364</th>\n",
       "      <td>2016-03-21 09:50:58</td>\n",
       "      <td>0</td>\n",
       "      <td>NaN</td>\n",
       "      <td>2005</td>\n",
       "      <td>manual</td>\n",
       "      <td>0</td>\n",
       "      <td>colt</td>\n",
       "      <td>150000</td>\n",
       "      <td>7</td>\n",
       "      <td>petrol</td>\n",
       "      <td>mitsubishi</td>\n",
       "      <td>yes</td>\n",
       "      <td>2016-03-21 00:00:00</td>\n",
       "      <td>0</td>\n",
       "      <td>2694</td>\n",
       "      <td>2016-03-21 10:42:49</td>\n",
       "    </tr>\n",
       "    <tr>\n",
       "      <th>354365</th>\n",
       "      <td>2016-03-14 17:48:27</td>\n",
       "      <td>2200</td>\n",
       "      <td>NaN</td>\n",
       "      <td>2005</td>\n",
       "      <td>NaN</td>\n",
       "      <td>0</td>\n",
       "      <td>NaN</td>\n",
       "      <td>20000</td>\n",
       "      <td>1</td>\n",
       "      <td>NaN</td>\n",
       "      <td>sonstige_autos</td>\n",
       "      <td>NaN</td>\n",
       "      <td>2016-03-14 00:00:00</td>\n",
       "      <td>0</td>\n",
       "      <td>39576</td>\n",
       "      <td>2016-04-06 00:46:52</td>\n",
       "    </tr>\n",
       "  </tbody>\n",
       "</table>\n",
       "<p>40225 rows × 16 columns</p>\n",
       "</div>"
      ],
      "text/plain": [
       "                DateCrawled  Price VehicleType  RegistrationYear Gearbox  \\\n",
       "0       2016-03-24 11:52:17    480         NaN              1993  manual   \n",
       "15      2016-03-11 21:39:15    450       small              1910     NaN   \n",
       "32      2016-03-15 20:59:01    245       sedan              1994     NaN   \n",
       "37      2016-03-28 17:50:15   1500         NaN              2016     NaN   \n",
       "40      2016-03-26 22:06:17      0         NaN              1990     NaN   \n",
       "...                     ...    ...         ...               ...     ...   \n",
       "354338  2016-03-31 19:52:33    180         NaN              1995     NaN   \n",
       "354346  2016-03-07 17:06:35   2600         NaN              2005    auto   \n",
       "354363  2016-03-27 20:36:20   1150         bus              2000  manual   \n",
       "354364  2016-03-21 09:50:58      0         NaN              2005  manual   \n",
       "354365  2016-03-14 17:48:27   2200         NaN              2005     NaN   \n",
       "\n",
       "        Power     Model  Kilometer  RegistrationMonth  FuelType  \\\n",
       "0           0      golf     150000                  0    petrol   \n",
       "15          0        ka       5000                  0    petrol   \n",
       "32          0      golf     150000                  2    petrol   \n",
       "37          0    kangoo     150000                  1  gasoline   \n",
       "40          0     corsa     150000                  1    petrol   \n",
       "...       ...       ...        ...                ...       ...   \n",
       "354338      0       NaN     125000                  3    petrol   \n",
       "354346      0  c_klasse     150000                  9       NaN   \n",
       "354363      0    zafira     150000                  3    petrol   \n",
       "354364      0      colt     150000                  7    petrol   \n",
       "354365      0       NaN      20000                  1       NaN   \n",
       "\n",
       "                 Brand Repaired          DateCreated  NumberOfPictures  \\\n",
       "0           volkswagen      NaN  2016-03-24 00:00:00                 0   \n",
       "15                ford      NaN  2016-03-11 00:00:00                 0   \n",
       "32          volkswagen       no  2016-03-15 00:00:00                 0   \n",
       "37             renault       no  2016-03-28 00:00:00                 0   \n",
       "40                opel      NaN  2016-03-26 00:00:00                 0   \n",
       "...                ...      ...                  ...               ...   \n",
       "354338            opel      NaN  2016-03-31 00:00:00                 0   \n",
       "354346   mercedes_benz      NaN  2016-03-07 00:00:00                 0   \n",
       "354363            opel       no  2016-03-27 00:00:00                 0   \n",
       "354364      mitsubishi      yes  2016-03-21 00:00:00                 0   \n",
       "354365  sonstige_autos      NaN  2016-03-14 00:00:00                 0   \n",
       "\n",
       "        PostalCode             LastSeen  \n",
       "0            70435  2016-04-07 03:16:57  \n",
       "15           24148  2016-03-19 08:46:47  \n",
       "32           44145  2016-03-17 18:17:43  \n",
       "37           46483  2016-03-30 09:18:02  \n",
       "40           56412  2016-03-27 17:43:34  \n",
       "...            ...                  ...  \n",
       "354338       41470  2016-04-06 14:18:04  \n",
       "354346       61169  2016-03-08 21:28:38  \n",
       "354363       26624  2016-03-29 10:17:23  \n",
       "354364        2694  2016-03-21 10:42:49  \n",
       "354365       39576  2016-04-06 00:46:52  \n",
       "\n",
       "[40225 rows x 16 columns]"
      ]
     },
     "execution_count": 8,
     "metadata": {},
     "output_type": "execute_result"
    }
   ],
   "source": [
    "data[data.Power == 0]"
   ]
  },
  {
   "cell_type": "code",
   "execution_count": 9,
   "metadata": {},
   "outputs": [
    {
     "data": {
      "text/html": [
       "<div>\n",
       "<style scoped>\n",
       "    .dataframe tbody tr th:only-of-type {\n",
       "        vertical-align: middle;\n",
       "    }\n",
       "\n",
       "    .dataframe tbody tr th {\n",
       "        vertical-align: top;\n",
       "    }\n",
       "\n",
       "    .dataframe thead th {\n",
       "        text-align: right;\n",
       "    }\n",
       "</style>\n",
       "<table border=\"1\" class=\"dataframe\">\n",
       "  <thead>\n",
       "    <tr style=\"text-align: right;\">\n",
       "      <th></th>\n",
       "      <th>DateCrawled</th>\n",
       "      <th>Price</th>\n",
       "      <th>VehicleType</th>\n",
       "      <th>RegistrationYear</th>\n",
       "      <th>Gearbox</th>\n",
       "      <th>Power</th>\n",
       "      <th>Model</th>\n",
       "      <th>Kilometer</th>\n",
       "      <th>RegistrationMonth</th>\n",
       "      <th>FuelType</th>\n",
       "      <th>Brand</th>\n",
       "      <th>Repaired</th>\n",
       "      <th>DateCreated</th>\n",
       "      <th>NumberOfPictures</th>\n",
       "      <th>PostalCode</th>\n",
       "      <th>LastSeen</th>\n",
       "    </tr>\n",
       "  </thead>\n",
       "  <tbody>\n",
       "    <tr>\n",
       "      <th>0</th>\n",
       "      <td>2016-03-24 11:52:17</td>\n",
       "      <td>480</td>\n",
       "      <td>NaN</td>\n",
       "      <td>1993</td>\n",
       "      <td>manual</td>\n",
       "      <td>0</td>\n",
       "      <td>golf</td>\n",
       "      <td>150000</td>\n",
       "      <td>0</td>\n",
       "      <td>petrol</td>\n",
       "      <td>volkswagen</td>\n",
       "      <td>NaN</td>\n",
       "      <td>2016-03-24 00:00:00</td>\n",
       "      <td>0</td>\n",
       "      <td>70435</td>\n",
       "      <td>2016-04-07 03:16:57</td>\n",
       "    </tr>\n",
       "    <tr>\n",
       "      <th>2</th>\n",
       "      <td>2016-03-14 12:52:21</td>\n",
       "      <td>9800</td>\n",
       "      <td>suv</td>\n",
       "      <td>2004</td>\n",
       "      <td>auto</td>\n",
       "      <td>163</td>\n",
       "      <td>grand</td>\n",
       "      <td>125000</td>\n",
       "      <td>8</td>\n",
       "      <td>gasoline</td>\n",
       "      <td>jeep</td>\n",
       "      <td>NaN</td>\n",
       "      <td>2016-03-14 00:00:00</td>\n",
       "      <td>0</td>\n",
       "      <td>90480</td>\n",
       "      <td>2016-04-05 12:47:46</td>\n",
       "    </tr>\n",
       "    <tr>\n",
       "      <th>8</th>\n",
       "      <td>2016-04-04 23:42:13</td>\n",
       "      <td>14500</td>\n",
       "      <td>bus</td>\n",
       "      <td>2014</td>\n",
       "      <td>manual</td>\n",
       "      <td>125</td>\n",
       "      <td>c_max</td>\n",
       "      <td>30000</td>\n",
       "      <td>8</td>\n",
       "      <td>petrol</td>\n",
       "      <td>ford</td>\n",
       "      <td>NaN</td>\n",
       "      <td>2016-04-04 00:00:00</td>\n",
       "      <td>0</td>\n",
       "      <td>94505</td>\n",
       "      <td>2016-04-04 23:42:13</td>\n",
       "    </tr>\n",
       "    <tr>\n",
       "      <th>9</th>\n",
       "      <td>2016-03-17 10:53:50</td>\n",
       "      <td>999</td>\n",
       "      <td>small</td>\n",
       "      <td>1998</td>\n",
       "      <td>manual</td>\n",
       "      <td>101</td>\n",
       "      <td>golf</td>\n",
       "      <td>150000</td>\n",
       "      <td>0</td>\n",
       "      <td>NaN</td>\n",
       "      <td>volkswagen</td>\n",
       "      <td>NaN</td>\n",
       "      <td>2016-03-17 00:00:00</td>\n",
       "      <td>0</td>\n",
       "      <td>27472</td>\n",
       "      <td>2016-03-31 17:17:06</td>\n",
       "    </tr>\n",
       "    <tr>\n",
       "      <th>12</th>\n",
       "      <td>2016-03-15 22:49:09</td>\n",
       "      <td>999</td>\n",
       "      <td>wagon</td>\n",
       "      <td>1995</td>\n",
       "      <td>manual</td>\n",
       "      <td>115</td>\n",
       "      <td>passat</td>\n",
       "      <td>150000</td>\n",
       "      <td>11</td>\n",
       "      <td>petrol</td>\n",
       "      <td>volkswagen</td>\n",
       "      <td>NaN</td>\n",
       "      <td>2016-03-15 00:00:00</td>\n",
       "      <td>0</td>\n",
       "      <td>37269</td>\n",
       "      <td>2016-04-01 13:16:16</td>\n",
       "    </tr>\n",
       "    <tr>\n",
       "      <th>...</th>\n",
       "      <td>...</td>\n",
       "      <td>...</td>\n",
       "      <td>...</td>\n",
       "      <td>...</td>\n",
       "      <td>...</td>\n",
       "      <td>...</td>\n",
       "      <td>...</td>\n",
       "      <td>...</td>\n",
       "      <td>...</td>\n",
       "      <td>...</td>\n",
       "      <td>...</td>\n",
       "      <td>...</td>\n",
       "      <td>...</td>\n",
       "      <td>...</td>\n",
       "      <td>...</td>\n",
       "      <td>...</td>\n",
       "    </tr>\n",
       "    <tr>\n",
       "      <th>354349</th>\n",
       "      <td>2016-03-16 17:06:19</td>\n",
       "      <td>5999</td>\n",
       "      <td>wagon</td>\n",
       "      <td>2005</td>\n",
       "      <td>manual</td>\n",
       "      <td>140</td>\n",
       "      <td>a4</td>\n",
       "      <td>150000</td>\n",
       "      <td>4</td>\n",
       "      <td>gasoline</td>\n",
       "      <td>audi</td>\n",
       "      <td>NaN</td>\n",
       "      <td>2016-03-16 00:00:00</td>\n",
       "      <td>0</td>\n",
       "      <td>56472</td>\n",
       "      <td>2016-03-18 11:30:17</td>\n",
       "    </tr>\n",
       "    <tr>\n",
       "      <th>354356</th>\n",
       "      <td>2016-04-04 11:45:16</td>\n",
       "      <td>999</td>\n",
       "      <td>convertible</td>\n",
       "      <td>2000</td>\n",
       "      <td>manual</td>\n",
       "      <td>95</td>\n",
       "      <td>megane</td>\n",
       "      <td>150000</td>\n",
       "      <td>4</td>\n",
       "      <td>petrol</td>\n",
       "      <td>renault</td>\n",
       "      <td>NaN</td>\n",
       "      <td>2016-04-04 00:00:00</td>\n",
       "      <td>0</td>\n",
       "      <td>88477</td>\n",
       "      <td>2016-04-06 12:44:52</td>\n",
       "    </tr>\n",
       "    <tr>\n",
       "      <th>354357</th>\n",
       "      <td>2016-03-09 11:36:55</td>\n",
       "      <td>1690</td>\n",
       "      <td>wagon</td>\n",
       "      <td>2004</td>\n",
       "      <td>manual</td>\n",
       "      <td>55</td>\n",
       "      <td>fabia</td>\n",
       "      <td>150000</td>\n",
       "      <td>4</td>\n",
       "      <td>petrol</td>\n",
       "      <td>skoda</td>\n",
       "      <td>NaN</td>\n",
       "      <td>2016-03-09 00:00:00</td>\n",
       "      <td>0</td>\n",
       "      <td>18246</td>\n",
       "      <td>2016-04-04 08:15:30</td>\n",
       "    </tr>\n",
       "    <tr>\n",
       "      <th>354365</th>\n",
       "      <td>2016-03-14 17:48:27</td>\n",
       "      <td>2200</td>\n",
       "      <td>NaN</td>\n",
       "      <td>2005</td>\n",
       "      <td>NaN</td>\n",
       "      <td>0</td>\n",
       "      <td>NaN</td>\n",
       "      <td>20000</td>\n",
       "      <td>1</td>\n",
       "      <td>NaN</td>\n",
       "      <td>sonstige_autos</td>\n",
       "      <td>NaN</td>\n",
       "      <td>2016-03-14 00:00:00</td>\n",
       "      <td>0</td>\n",
       "      <td>39576</td>\n",
       "      <td>2016-04-06 00:46:52</td>\n",
       "    </tr>\n",
       "    <tr>\n",
       "      <th>354368</th>\n",
       "      <td>2016-03-20 19:41:08</td>\n",
       "      <td>3400</td>\n",
       "      <td>wagon</td>\n",
       "      <td>2002</td>\n",
       "      <td>manual</td>\n",
       "      <td>100</td>\n",
       "      <td>golf</td>\n",
       "      <td>150000</td>\n",
       "      <td>6</td>\n",
       "      <td>gasoline</td>\n",
       "      <td>volkswagen</td>\n",
       "      <td>NaN</td>\n",
       "      <td>2016-03-20 00:00:00</td>\n",
       "      <td>0</td>\n",
       "      <td>40764</td>\n",
       "      <td>2016-03-24 12:45:21</td>\n",
       "    </tr>\n",
       "  </tbody>\n",
       "</table>\n",
       "<p>71154 rows × 16 columns</p>\n",
       "</div>"
      ],
      "text/plain": [
       "                DateCrawled  Price  VehicleType  RegistrationYear Gearbox  \\\n",
       "0       2016-03-24 11:52:17    480          NaN              1993  manual   \n",
       "2       2016-03-14 12:52:21   9800          suv              2004    auto   \n",
       "8       2016-04-04 23:42:13  14500          bus              2014  manual   \n",
       "9       2016-03-17 10:53:50    999        small              1998  manual   \n",
       "12      2016-03-15 22:49:09    999        wagon              1995  manual   \n",
       "...                     ...    ...          ...               ...     ...   \n",
       "354349  2016-03-16 17:06:19   5999        wagon              2005  manual   \n",
       "354356  2016-04-04 11:45:16    999  convertible              2000  manual   \n",
       "354357  2016-03-09 11:36:55   1690        wagon              2004  manual   \n",
       "354365  2016-03-14 17:48:27   2200          NaN              2005     NaN   \n",
       "354368  2016-03-20 19:41:08   3400        wagon              2002  manual   \n",
       "\n",
       "        Power   Model  Kilometer  RegistrationMonth  FuelType           Brand  \\\n",
       "0           0    golf     150000                  0    petrol      volkswagen   \n",
       "2         163   grand     125000                  8  gasoline            jeep   \n",
       "8         125   c_max      30000                  8    petrol            ford   \n",
       "9         101    golf     150000                  0       NaN      volkswagen   \n",
       "12        115  passat     150000                 11    petrol      volkswagen   \n",
       "...       ...     ...        ...                ...       ...             ...   \n",
       "354349    140      a4     150000                  4  gasoline            audi   \n",
       "354356     95  megane     150000                  4    petrol         renault   \n",
       "354357     55   fabia     150000                  4    petrol           skoda   \n",
       "354365      0     NaN      20000                  1       NaN  sonstige_autos   \n",
       "354368    100    golf     150000                  6  gasoline      volkswagen   \n",
       "\n",
       "       Repaired          DateCreated  NumberOfPictures  PostalCode  \\\n",
       "0           NaN  2016-03-24 00:00:00                 0       70435   \n",
       "2           NaN  2016-03-14 00:00:00                 0       90480   \n",
       "8           NaN  2016-04-04 00:00:00                 0       94505   \n",
       "9           NaN  2016-03-17 00:00:00                 0       27472   \n",
       "12          NaN  2016-03-15 00:00:00                 0       37269   \n",
       "...         ...                  ...               ...         ...   \n",
       "354349      NaN  2016-03-16 00:00:00                 0       56472   \n",
       "354356      NaN  2016-04-04 00:00:00                 0       88477   \n",
       "354357      NaN  2016-03-09 00:00:00                 0       18246   \n",
       "354365      NaN  2016-03-14 00:00:00                 0       39576   \n",
       "354368      NaN  2016-03-20 00:00:00                 0       40764   \n",
       "\n",
       "                   LastSeen  \n",
       "0       2016-04-07 03:16:57  \n",
       "2       2016-04-05 12:47:46  \n",
       "8       2016-04-04 23:42:13  \n",
       "9       2016-03-31 17:17:06  \n",
       "12      2016-04-01 13:16:16  \n",
       "...                     ...  \n",
       "354349  2016-03-18 11:30:17  \n",
       "354356  2016-04-06 12:44:52  \n",
       "354357  2016-04-04 08:15:30  \n",
       "354365  2016-04-06 00:46:52  \n",
       "354368  2016-03-24 12:45:21  \n",
       "\n",
       "[71154 rows x 16 columns]"
      ]
     },
     "execution_count": 9,
     "metadata": {},
     "output_type": "execute_result"
    }
   ],
   "source": [
    "data[data.Repaired.isna() == True]"
   ]
  },
  {
   "cell_type": "code",
   "execution_count": 10,
   "metadata": {},
   "outputs": [
    {
     "data": {
      "text/html": [
       "<div>\n",
       "<style scoped>\n",
       "    .dataframe tbody tr th:only-of-type {\n",
       "        vertical-align: middle;\n",
       "    }\n",
       "\n",
       "    .dataframe tbody tr th {\n",
       "        vertical-align: top;\n",
       "    }\n",
       "\n",
       "    .dataframe thead th {\n",
       "        text-align: right;\n",
       "    }\n",
       "</style>\n",
       "<table border=\"1\" class=\"dataframe\">\n",
       "  <thead>\n",
       "    <tr style=\"text-align: right;\">\n",
       "      <th></th>\n",
       "      <th>DateCrawled</th>\n",
       "      <th>Price</th>\n",
       "      <th>VehicleType</th>\n",
       "      <th>RegistrationYear</th>\n",
       "      <th>Gearbox</th>\n",
       "      <th>Power</th>\n",
       "      <th>Model</th>\n",
       "      <th>Kilometer</th>\n",
       "      <th>RegistrationMonth</th>\n",
       "      <th>FuelType</th>\n",
       "      <th>Brand</th>\n",
       "      <th>Repaired</th>\n",
       "      <th>DateCreated</th>\n",
       "      <th>NumberOfPictures</th>\n",
       "      <th>PostalCode</th>\n",
       "      <th>LastSeen</th>\n",
       "    </tr>\n",
       "  </thead>\n",
       "  <tbody>\n",
       "    <tr>\n",
       "      <th>260</th>\n",
       "      <td>2016-04-04 09:49:59</td>\n",
       "      <td>450</td>\n",
       "      <td>NaN</td>\n",
       "      <td>2016</td>\n",
       "      <td>manual</td>\n",
       "      <td>0</td>\n",
       "      <td>NaN</td>\n",
       "      <td>150000</td>\n",
       "      <td>3</td>\n",
       "      <td>petrol</td>\n",
       "      <td>mitsubishi</td>\n",
       "      <td>no</td>\n",
       "      <td>2016-04-04 00:00:00</td>\n",
       "      <td>0</td>\n",
       "      <td>59302</td>\n",
       "      <td>2016-04-06 11:17:11</td>\n",
       "    </tr>\n",
       "    <tr>\n",
       "      <th>306</th>\n",
       "      <td>2016-03-21 14:38:37</td>\n",
       "      <td>200</td>\n",
       "      <td>NaN</td>\n",
       "      <td>2009</td>\n",
       "      <td>NaN</td>\n",
       "      <td>0</td>\n",
       "      <td>NaN</td>\n",
       "      <td>10000</td>\n",
       "      <td>0</td>\n",
       "      <td>NaN</td>\n",
       "      <td>sonstige_autos</td>\n",
       "      <td>NaN</td>\n",
       "      <td>2016-03-21 00:00:00</td>\n",
       "      <td>0</td>\n",
       "      <td>6493</td>\n",
       "      <td>2016-03-24 02:47:34</td>\n",
       "    </tr>\n",
       "    <tr>\n",
       "      <th>443</th>\n",
       "      <td>2016-03-24 16:46:05</td>\n",
       "      <td>1950</td>\n",
       "      <td>NaN</td>\n",
       "      <td>2017</td>\n",
       "      <td>manual</td>\n",
       "      <td>0</td>\n",
       "      <td>NaN</td>\n",
       "      <td>150000</td>\n",
       "      <td>7</td>\n",
       "      <td>petrol</td>\n",
       "      <td>volkswagen</td>\n",
       "      <td>no</td>\n",
       "      <td>2016-03-24 00:00:00</td>\n",
       "      <td>0</td>\n",
       "      <td>70376</td>\n",
       "      <td>2016-03-30 18:16:07</td>\n",
       "    </tr>\n",
       "    <tr>\n",
       "      <th>478</th>\n",
       "      <td>2016-03-24 17:49:19</td>\n",
       "      <td>0</td>\n",
       "      <td>NaN</td>\n",
       "      <td>2000</td>\n",
       "      <td>manual</td>\n",
       "      <td>0</td>\n",
       "      <td>NaN</td>\n",
       "      <td>150000</td>\n",
       "      <td>0</td>\n",
       "      <td>NaN</td>\n",
       "      <td>audi</td>\n",
       "      <td>yes</td>\n",
       "      <td>2016-03-24 00:00:00</td>\n",
       "      <td>0</td>\n",
       "      <td>72514</td>\n",
       "      <td>2016-03-29 03:45:06</td>\n",
       "    </tr>\n",
       "    <tr>\n",
       "      <th>522</th>\n",
       "      <td>2016-03-14 18:40:14</td>\n",
       "      <td>0</td>\n",
       "      <td>NaN</td>\n",
       "      <td>2000</td>\n",
       "      <td>NaN</td>\n",
       "      <td>0</td>\n",
       "      <td>NaN</td>\n",
       "      <td>150000</td>\n",
       "      <td>0</td>\n",
       "      <td>NaN</td>\n",
       "      <td>volvo</td>\n",
       "      <td>NaN</td>\n",
       "      <td>2016-03-14 00:00:00</td>\n",
       "      <td>0</td>\n",
       "      <td>25524</td>\n",
       "      <td>2016-03-14 18:40:14</td>\n",
       "    </tr>\n",
       "    <tr>\n",
       "      <th>...</th>\n",
       "      <td>...</td>\n",
       "      <td>...</td>\n",
       "      <td>...</td>\n",
       "      <td>...</td>\n",
       "      <td>...</td>\n",
       "      <td>...</td>\n",
       "      <td>...</td>\n",
       "      <td>...</td>\n",
       "      <td>...</td>\n",
       "      <td>...</td>\n",
       "      <td>...</td>\n",
       "      <td>...</td>\n",
       "      <td>...</td>\n",
       "      <td>...</td>\n",
       "      <td>...</td>\n",
       "      <td>...</td>\n",
       "    </tr>\n",
       "    <tr>\n",
       "      <th>354073</th>\n",
       "      <td>2016-03-19 14:53:26</td>\n",
       "      <td>1750</td>\n",
       "      <td>NaN</td>\n",
       "      <td>1995</td>\n",
       "      <td>NaN</td>\n",
       "      <td>0</td>\n",
       "      <td>NaN</td>\n",
       "      <td>100000</td>\n",
       "      <td>12</td>\n",
       "      <td>NaN</td>\n",
       "      <td>sonstige_autos</td>\n",
       "      <td>NaN</td>\n",
       "      <td>2016-03-19 00:00:00</td>\n",
       "      <td>0</td>\n",
       "      <td>6188</td>\n",
       "      <td>2016-04-01 01:47:17</td>\n",
       "    </tr>\n",
       "    <tr>\n",
       "      <th>354083</th>\n",
       "      <td>2016-03-30 07:54:17</td>\n",
       "      <td>0</td>\n",
       "      <td>NaN</td>\n",
       "      <td>2000</td>\n",
       "      <td>NaN</td>\n",
       "      <td>0</td>\n",
       "      <td>NaN</td>\n",
       "      <td>150000</td>\n",
       "      <td>0</td>\n",
       "      <td>NaN</td>\n",
       "      <td>sonstige_autos</td>\n",
       "      <td>NaN</td>\n",
       "      <td>2016-03-30 00:00:00</td>\n",
       "      <td>0</td>\n",
       "      <td>6686</td>\n",
       "      <td>2016-04-06 23:46:19</td>\n",
       "    </tr>\n",
       "    <tr>\n",
       "      <th>354162</th>\n",
       "      <td>2016-03-07 19:51:14</td>\n",
       "      <td>1500</td>\n",
       "      <td>NaN</td>\n",
       "      <td>1995</td>\n",
       "      <td>NaN</td>\n",
       "      <td>0</td>\n",
       "      <td>NaN</td>\n",
       "      <td>150000</td>\n",
       "      <td>0</td>\n",
       "      <td>NaN</td>\n",
       "      <td>volkswagen</td>\n",
       "      <td>NaN</td>\n",
       "      <td>2016-03-07 00:00:00</td>\n",
       "      <td>0</td>\n",
       "      <td>26789</td>\n",
       "      <td>2016-04-03 11:46:59</td>\n",
       "    </tr>\n",
       "    <tr>\n",
       "      <th>354338</th>\n",
       "      <td>2016-03-31 19:52:33</td>\n",
       "      <td>180</td>\n",
       "      <td>NaN</td>\n",
       "      <td>1995</td>\n",
       "      <td>NaN</td>\n",
       "      <td>0</td>\n",
       "      <td>NaN</td>\n",
       "      <td>125000</td>\n",
       "      <td>3</td>\n",
       "      <td>petrol</td>\n",
       "      <td>opel</td>\n",
       "      <td>NaN</td>\n",
       "      <td>2016-03-31 00:00:00</td>\n",
       "      <td>0</td>\n",
       "      <td>41470</td>\n",
       "      <td>2016-04-06 14:18:04</td>\n",
       "    </tr>\n",
       "    <tr>\n",
       "      <th>354365</th>\n",
       "      <td>2016-03-14 17:48:27</td>\n",
       "      <td>2200</td>\n",
       "      <td>NaN</td>\n",
       "      <td>2005</td>\n",
       "      <td>NaN</td>\n",
       "      <td>0</td>\n",
       "      <td>NaN</td>\n",
       "      <td>20000</td>\n",
       "      <td>1</td>\n",
       "      <td>NaN</td>\n",
       "      <td>sonstige_autos</td>\n",
       "      <td>NaN</td>\n",
       "      <td>2016-03-14 00:00:00</td>\n",
       "      <td>0</td>\n",
       "      <td>39576</td>\n",
       "      <td>2016-04-06 00:46:52</td>\n",
       "    </tr>\n",
       "  </tbody>\n",
       "</table>\n",
       "<p>3675 rows × 16 columns</p>\n",
       "</div>"
      ],
      "text/plain": [
       "                DateCrawled  Price VehicleType  RegistrationYear Gearbox  \\\n",
       "260     2016-04-04 09:49:59    450         NaN              2016  manual   \n",
       "306     2016-03-21 14:38:37    200         NaN              2009     NaN   \n",
       "443     2016-03-24 16:46:05   1950         NaN              2017  manual   \n",
       "478     2016-03-24 17:49:19      0         NaN              2000  manual   \n",
       "522     2016-03-14 18:40:14      0         NaN              2000     NaN   \n",
       "...                     ...    ...         ...               ...     ...   \n",
       "354073  2016-03-19 14:53:26   1750         NaN              1995     NaN   \n",
       "354083  2016-03-30 07:54:17      0         NaN              2000     NaN   \n",
       "354162  2016-03-07 19:51:14   1500         NaN              1995     NaN   \n",
       "354338  2016-03-31 19:52:33    180         NaN              1995     NaN   \n",
       "354365  2016-03-14 17:48:27   2200         NaN              2005     NaN   \n",
       "\n",
       "        Power Model  Kilometer  RegistrationMonth FuelType           Brand  \\\n",
       "260         0   NaN     150000                  3   petrol      mitsubishi   \n",
       "306         0   NaN      10000                  0      NaN  sonstige_autos   \n",
       "443         0   NaN     150000                  7   petrol      volkswagen   \n",
       "478         0   NaN     150000                  0      NaN            audi   \n",
       "522         0   NaN     150000                  0      NaN           volvo   \n",
       "...       ...   ...        ...                ...      ...             ...   \n",
       "354073      0   NaN     100000                 12      NaN  sonstige_autos   \n",
       "354083      0   NaN     150000                  0      NaN  sonstige_autos   \n",
       "354162      0   NaN     150000                  0      NaN      volkswagen   \n",
       "354338      0   NaN     125000                  3   petrol            opel   \n",
       "354365      0   NaN      20000                  1      NaN  sonstige_autos   \n",
       "\n",
       "       Repaired          DateCreated  NumberOfPictures  PostalCode  \\\n",
       "260          no  2016-04-04 00:00:00                 0       59302   \n",
       "306         NaN  2016-03-21 00:00:00                 0        6493   \n",
       "443          no  2016-03-24 00:00:00                 0       70376   \n",
       "478         yes  2016-03-24 00:00:00                 0       72514   \n",
       "522         NaN  2016-03-14 00:00:00                 0       25524   \n",
       "...         ...                  ...               ...         ...   \n",
       "354073      NaN  2016-03-19 00:00:00                 0        6188   \n",
       "354083      NaN  2016-03-30 00:00:00                 0        6686   \n",
       "354162      NaN  2016-03-07 00:00:00                 0       26789   \n",
       "354338      NaN  2016-03-31 00:00:00                 0       41470   \n",
       "354365      NaN  2016-03-14 00:00:00                 0       39576   \n",
       "\n",
       "                   LastSeen  \n",
       "260     2016-04-06 11:17:11  \n",
       "306     2016-03-24 02:47:34  \n",
       "443     2016-03-30 18:16:07  \n",
       "478     2016-03-29 03:45:06  \n",
       "522     2016-03-14 18:40:14  \n",
       "...                     ...  \n",
       "354073  2016-04-01 01:47:17  \n",
       "354083  2016-04-06 23:46:19  \n",
       "354162  2016-04-03 11:46:59  \n",
       "354338  2016-04-06 14:18:04  \n",
       "354365  2016-04-06 00:46:52  \n",
       "\n",
       "[3675 rows x 16 columns]"
      ]
     },
     "execution_count": 10,
     "metadata": {},
     "output_type": "execute_result"
    }
   ],
   "source": [
    "data[(data.VehicleType.isna() == True) & (data.Model.isna() == True) & (data.Power == 0)]"
   ]
  },
  {
   "cell_type": "code",
   "execution_count": 11,
   "metadata": {},
   "outputs": [
    {
     "data": {
      "text/html": [
       "<div>\n",
       "<style scoped>\n",
       "    .dataframe tbody tr th:only-of-type {\n",
       "        vertical-align: middle;\n",
       "    }\n",
       "\n",
       "    .dataframe tbody tr th {\n",
       "        vertical-align: top;\n",
       "    }\n",
       "\n",
       "    .dataframe thead th {\n",
       "        text-align: right;\n",
       "    }\n",
       "</style>\n",
       "<table border=\"1\" class=\"dataframe\">\n",
       "  <thead>\n",
       "    <tr style=\"text-align: right;\">\n",
       "      <th></th>\n",
       "      <th>DateCrawled</th>\n",
       "      <th>Price</th>\n",
       "      <th>VehicleType</th>\n",
       "      <th>RegistrationYear</th>\n",
       "      <th>Gearbox</th>\n",
       "      <th>Power</th>\n",
       "      <th>Model</th>\n",
       "      <th>Kilometer</th>\n",
       "      <th>RegistrationMonth</th>\n",
       "      <th>FuelType</th>\n",
       "      <th>Brand</th>\n",
       "      <th>Repaired</th>\n",
       "      <th>DateCreated</th>\n",
       "      <th>NumberOfPictures</th>\n",
       "      <th>PostalCode</th>\n",
       "      <th>LastSeen</th>\n",
       "    </tr>\n",
       "  </thead>\n",
       "  <tbody>\n",
       "    <tr>\n",
       "      <th>22</th>\n",
       "      <td>2016-03-23 14:52:51</td>\n",
       "      <td>2900</td>\n",
       "      <td>NaN</td>\n",
       "      <td>2018</td>\n",
       "      <td>manual</td>\n",
       "      <td>90</td>\n",
       "      <td>meriva</td>\n",
       "      <td>150000</td>\n",
       "      <td>5</td>\n",
       "      <td>petrol</td>\n",
       "      <td>opel</td>\n",
       "      <td>no</td>\n",
       "      <td>2016-03-23 00:00:00</td>\n",
       "      <td>0</td>\n",
       "      <td>49716</td>\n",
       "      <td>2016-03-31 01:16:33</td>\n",
       "    </tr>\n",
       "    <tr>\n",
       "      <th>26</th>\n",
       "      <td>2016-03-10 19:38:18</td>\n",
       "      <td>5555</td>\n",
       "      <td>NaN</td>\n",
       "      <td>2017</td>\n",
       "      <td>manual</td>\n",
       "      <td>125</td>\n",
       "      <td>c4</td>\n",
       "      <td>125000</td>\n",
       "      <td>4</td>\n",
       "      <td>NaN</td>\n",
       "      <td>citroen</td>\n",
       "      <td>no</td>\n",
       "      <td>2016-03-10 00:00:00</td>\n",
       "      <td>0</td>\n",
       "      <td>31139</td>\n",
       "      <td>2016-03-16 09:16:46</td>\n",
       "    </tr>\n",
       "    <tr>\n",
       "      <th>48</th>\n",
       "      <td>2016-03-25 14:40:12</td>\n",
       "      <td>7750</td>\n",
       "      <td>NaN</td>\n",
       "      <td>2017</td>\n",
       "      <td>manual</td>\n",
       "      <td>80</td>\n",
       "      <td>golf</td>\n",
       "      <td>100000</td>\n",
       "      <td>1</td>\n",
       "      <td>petrol</td>\n",
       "      <td>volkswagen</td>\n",
       "      <td>NaN</td>\n",
       "      <td>2016-03-25 00:00:00</td>\n",
       "      <td>0</td>\n",
       "      <td>48499</td>\n",
       "      <td>2016-03-31 21:47:44</td>\n",
       "    </tr>\n",
       "    <tr>\n",
       "      <th>51</th>\n",
       "      <td>2016-03-07 18:57:08</td>\n",
       "      <td>2000</td>\n",
       "      <td>NaN</td>\n",
       "      <td>2017</td>\n",
       "      <td>manual</td>\n",
       "      <td>90</td>\n",
       "      <td>punto</td>\n",
       "      <td>150000</td>\n",
       "      <td>11</td>\n",
       "      <td>gasoline</td>\n",
       "      <td>fiat</td>\n",
       "      <td>yes</td>\n",
       "      <td>2016-03-07 00:00:00</td>\n",
       "      <td>0</td>\n",
       "      <td>66115</td>\n",
       "      <td>2016-03-07 18:57:08</td>\n",
       "    </tr>\n",
       "    <tr>\n",
       "      <th>57</th>\n",
       "      <td>2016-03-10 20:53:19</td>\n",
       "      <td>2399</td>\n",
       "      <td>NaN</td>\n",
       "      <td>2018</td>\n",
       "      <td>manual</td>\n",
       "      <td>64</td>\n",
       "      <td>other</td>\n",
       "      <td>125000</td>\n",
       "      <td>3</td>\n",
       "      <td>NaN</td>\n",
       "      <td>seat</td>\n",
       "      <td>no</td>\n",
       "      <td>2016-03-10 00:00:00</td>\n",
       "      <td>0</td>\n",
       "      <td>33397</td>\n",
       "      <td>2016-03-25 10:17:37</td>\n",
       "    </tr>\n",
       "    <tr>\n",
       "      <th>...</th>\n",
       "      <td>...</td>\n",
       "      <td>...</td>\n",
       "      <td>...</td>\n",
       "      <td>...</td>\n",
       "      <td>...</td>\n",
       "      <td>...</td>\n",
       "      <td>...</td>\n",
       "      <td>...</td>\n",
       "      <td>...</td>\n",
       "      <td>...</td>\n",
       "      <td>...</td>\n",
       "      <td>...</td>\n",
       "      <td>...</td>\n",
       "      <td>...</td>\n",
       "      <td>...</td>\n",
       "      <td>...</td>\n",
       "    </tr>\n",
       "    <tr>\n",
       "      <th>354112</th>\n",
       "      <td>2016-03-11 15:49:51</td>\n",
       "      <td>3600</td>\n",
       "      <td>NaN</td>\n",
       "      <td>2017</td>\n",
       "      <td>manual</td>\n",
       "      <td>86</td>\n",
       "      <td>transit</td>\n",
       "      <td>150000</td>\n",
       "      <td>5</td>\n",
       "      <td>gasoline</td>\n",
       "      <td>ford</td>\n",
       "      <td>NaN</td>\n",
       "      <td>2016-03-11 00:00:00</td>\n",
       "      <td>0</td>\n",
       "      <td>32339</td>\n",
       "      <td>2016-03-12 05:45:02</td>\n",
       "    </tr>\n",
       "    <tr>\n",
       "      <th>354140</th>\n",
       "      <td>2016-03-29 16:47:29</td>\n",
       "      <td>1000</td>\n",
       "      <td>NaN</td>\n",
       "      <td>2017</td>\n",
       "      <td>manual</td>\n",
       "      <td>101</td>\n",
       "      <td>a4</td>\n",
       "      <td>150000</td>\n",
       "      <td>9</td>\n",
       "      <td>NaN</td>\n",
       "      <td>audi</td>\n",
       "      <td>NaN</td>\n",
       "      <td>2016-03-29 00:00:00</td>\n",
       "      <td>0</td>\n",
       "      <td>38315</td>\n",
       "      <td>2016-04-06 02:44:27</td>\n",
       "    </tr>\n",
       "    <tr>\n",
       "      <th>354203</th>\n",
       "      <td>2016-03-17 00:56:26</td>\n",
       "      <td>2140</td>\n",
       "      <td>NaN</td>\n",
       "      <td>2018</td>\n",
       "      <td>manual</td>\n",
       "      <td>80</td>\n",
       "      <td>fiesta</td>\n",
       "      <td>150000</td>\n",
       "      <td>6</td>\n",
       "      <td>NaN</td>\n",
       "      <td>ford</td>\n",
       "      <td>no</td>\n",
       "      <td>2016-03-17 00:00:00</td>\n",
       "      <td>0</td>\n",
       "      <td>44866</td>\n",
       "      <td>2016-03-29 15:45:04</td>\n",
       "    </tr>\n",
       "    <tr>\n",
       "      <th>354253</th>\n",
       "      <td>2016-03-25 09:37:59</td>\n",
       "      <td>1250</td>\n",
       "      <td>NaN</td>\n",
       "      <td>2018</td>\n",
       "      <td>NaN</td>\n",
       "      <td>0</td>\n",
       "      <td>corsa</td>\n",
       "      <td>150000</td>\n",
       "      <td>0</td>\n",
       "      <td>petrol</td>\n",
       "      <td>opel</td>\n",
       "      <td>NaN</td>\n",
       "      <td>2016-03-25 00:00:00</td>\n",
       "      <td>0</td>\n",
       "      <td>45527</td>\n",
       "      <td>2016-04-06 07:46:13</td>\n",
       "    </tr>\n",
       "    <tr>\n",
       "      <th>354289</th>\n",
       "      <td>2016-03-05 14:55:29</td>\n",
       "      <td>5000</td>\n",
       "      <td>NaN</td>\n",
       "      <td>2017</td>\n",
       "      <td>manual</td>\n",
       "      <td>120</td>\n",
       "      <td>other</td>\n",
       "      <td>150000</td>\n",
       "      <td>7</td>\n",
       "      <td>NaN</td>\n",
       "      <td>citroen</td>\n",
       "      <td>yes</td>\n",
       "      <td>2016-03-05 00:00:00</td>\n",
       "      <td>0</td>\n",
       "      <td>15518</td>\n",
       "      <td>2016-04-05 11:48:09</td>\n",
       "    </tr>\n",
       "  </tbody>\n",
       "</table>\n",
       "<p>14530 rows × 16 columns</p>\n",
       "</div>"
      ],
      "text/plain": [
       "                DateCrawled  Price VehicleType  RegistrationYear Gearbox  \\\n",
       "22      2016-03-23 14:52:51   2900         NaN              2018  manual   \n",
       "26      2016-03-10 19:38:18   5555         NaN              2017  manual   \n",
       "48      2016-03-25 14:40:12   7750         NaN              2017  manual   \n",
       "51      2016-03-07 18:57:08   2000         NaN              2017  manual   \n",
       "57      2016-03-10 20:53:19   2399         NaN              2018  manual   \n",
       "...                     ...    ...         ...               ...     ...   \n",
       "354112  2016-03-11 15:49:51   3600         NaN              2017  manual   \n",
       "354140  2016-03-29 16:47:29   1000         NaN              2017  manual   \n",
       "354203  2016-03-17 00:56:26   2140         NaN              2018  manual   \n",
       "354253  2016-03-25 09:37:59   1250         NaN              2018     NaN   \n",
       "354289  2016-03-05 14:55:29   5000         NaN              2017  manual   \n",
       "\n",
       "        Power    Model  Kilometer  RegistrationMonth  FuelType       Brand  \\\n",
       "22         90   meriva     150000                  5    petrol        opel   \n",
       "26        125       c4     125000                  4       NaN     citroen   \n",
       "48         80     golf     100000                  1    petrol  volkswagen   \n",
       "51         90    punto     150000                 11  gasoline        fiat   \n",
       "57         64    other     125000                  3       NaN        seat   \n",
       "...       ...      ...        ...                ...       ...         ...   \n",
       "354112     86  transit     150000                  5  gasoline        ford   \n",
       "354140    101       a4     150000                  9       NaN        audi   \n",
       "354203     80   fiesta     150000                  6       NaN        ford   \n",
       "354253      0    corsa     150000                  0    petrol        opel   \n",
       "354289    120    other     150000                  7       NaN     citroen   \n",
       "\n",
       "       Repaired          DateCreated  NumberOfPictures  PostalCode  \\\n",
       "22           no  2016-03-23 00:00:00                 0       49716   \n",
       "26           no  2016-03-10 00:00:00                 0       31139   \n",
       "48          NaN  2016-03-25 00:00:00                 0       48499   \n",
       "51          yes  2016-03-07 00:00:00                 0       66115   \n",
       "57           no  2016-03-10 00:00:00                 0       33397   \n",
       "...         ...                  ...               ...         ...   \n",
       "354112      NaN  2016-03-11 00:00:00                 0       32339   \n",
       "354140      NaN  2016-03-29 00:00:00                 0       38315   \n",
       "354203       no  2016-03-17 00:00:00                 0       44866   \n",
       "354253      NaN  2016-03-25 00:00:00                 0       45527   \n",
       "354289      yes  2016-03-05 00:00:00                 0       15518   \n",
       "\n",
       "                   LastSeen  \n",
       "22      2016-03-31 01:16:33  \n",
       "26      2016-03-16 09:16:46  \n",
       "48      2016-03-31 21:47:44  \n",
       "51      2016-03-07 18:57:08  \n",
       "57      2016-03-25 10:17:37  \n",
       "...                     ...  \n",
       "354112  2016-03-12 05:45:02  \n",
       "354140  2016-04-06 02:44:27  \n",
       "354203  2016-03-29 15:45:04  \n",
       "354253  2016-04-06 07:46:13  \n",
       "354289  2016-04-05 11:48:09  \n",
       "\n",
       "[14530 rows x 16 columns]"
      ]
     },
     "execution_count": 11,
     "metadata": {},
     "output_type": "execute_result"
    }
   ],
   "source": [
    "data[data['RegistrationYear'] > 2016]"
   ]
  },
  {
   "cell_type": "code",
   "execution_count": 12,
   "metadata": {},
   "outputs": [
    {
     "data": {
      "text/plain": [
       "count    354369.000000\n",
       "mean       4416.656776\n",
       "std        4514.158514\n",
       "min           0.000000\n",
       "25%        1050.000000\n",
       "50%        2700.000000\n",
       "75%        6400.000000\n",
       "max       20000.000000\n",
       "Name: Price, dtype: float64"
      ]
     },
     "execution_count": 12,
     "metadata": {},
     "output_type": "execute_result"
    },
    {
     "data": {
      "image/png": "[encoded data removed]",
      "text/plain": [
       "<Figure size 360x216 with 1 Axes>"
      ]
     },
     "metadata": {
      "needs_background": "light"
     },
     "output_type": "display_data"
    }
   ],
   "source": [
    "data.plot(y = 'Price', kind = 'hist', bins = 100, grid=True, figsize = (5,3), range = (0,500))\n",
    "data['Price'].describe()\n",
    "\n"
   ]
  },
  {
   "cell_type": "code",
   "execution_count": 13,
   "metadata": {},
   "outputs": [
    {
     "data": {
      "image/png": "[encoded data removed]",
      "text/plain": [
       "<Figure size 432x288 with 1 Axes>"
      ]
     },
     "metadata": {
      "needs_background": "light"
     },
     "output_type": "display_data"
    }
   ],
   "source": [
    "_, bp = data['Price'].plot.box(return_type='both')"
   ]
  },
  {
   "cell_type": "code",
   "execution_count": 14,
   "metadata": {},
   "outputs": [
    {
     "data": {
      "text/plain": [
       "count    354369.000000\n",
       "mean        110.094337\n",
       "std         189.850405\n",
       "min           0.000000\n",
       "25%          69.000000\n",
       "50%         105.000000\n",
       "75%         143.000000\n",
       "max       20000.000000\n",
       "Name: Power, dtype: float64"
      ]
     },
     "execution_count": 14,
     "metadata": {},
     "output_type": "execute_result"
    },
    {
     "data": {
      "image/png": "[encoded data removed]",
      "text/plain": [
       "<Figure size 360x216 with 1 Axes>"
      ]
     },
     "metadata": {
      "needs_background": "light"
     },
     "output_type": "display_data"
    }
   ],
   "source": [
    "data.plot(y = 'Power', kind = 'hist', bins = 100, grid=True, figsize = (5,3), range = (0,500))\n",
    "data['Power'].describe()"
   ]
  },
  {
   "cell_type": "code",
   "execution_count": 15,
   "metadata": {},
   "outputs": [
    {
     "data": {
      "image/png": "[encoded data removed]",
      "text/plain": [
       "<Figure size 432x288 with 1 Axes>"
      ]
     },
     "metadata": {
      "needs_background": "light"
     },
     "output_type": "display_data"
    }
   ],
   "source": [
    "_, bp = data['Power'].plot.box(return_type='both')"
   ]
  },
  {
   "cell_type": "code",
   "execution_count": 16,
   "metadata": {},
   "outputs": [
    {
     "data": {
      "image/png": "[encoded data removed]",
      "text/plain": [
       "<Figure size 432x288 with 1 Axes>"
      ]
     },
     "metadata": {
      "needs_background": "light"
     },
     "output_type": "display_data"
    }
   ],
   "source": [
    "_, bp = data['RegistrationYear'].plot.box(return_type='both')"
   ]
  },
  {
   "cell_type": "markdown",
   "metadata": {},
   "source": [
    "#### Результат анализа данных\n",
    "- Датасет большой, 16 столбцов и 354369 строк, состояние датасета очень плохое, дубликаты,  пустые значения, ненужные столбцы, в реальной ситуации я бы попросил предоставить выборку без пропусков\n",
    "- Корреляции на которую стоит обратить внимание не обнаружено\n",
    "- Столбец **NumberOfPictures** содержит только значения 0, удалим\n",
    "- Обнаружены дубликаты, удалим\n",
    "- Столбец **PostalCode** для нас неинфрмативен, удалим\n",
    "- **DateCrawled**, **DateCreated**, **LastSeen**, **RegistrationMonth** удалим\n",
    "- Все некатегориальные значения преобразуем\n",
    "- Пустые значения в столбце **Repaired** закодируем\n",
    "- **Price** до 1000 выбросы, удалим\n",
    "- **Power** все что меньше 50 заполним средними значениями\n",
    "- Строки где нет типа авто, модели и мощности  нерелевантны, т.к. невозможно понять что перед нами, удалим  \n",
    "- Пустые **Gearbox** удалим\n",
    "- Обнаружены \"машины из будущего\" с годом  регистрации позже даты выгрузки из базы, если  установить таким среднее значение, у  нас все данные могут \"поехать\", удалим. \n",
    "- **RegistrationYear** старше 1980 удалим т.к. это выбросы\n",
    "- **FuelType** пустой поменяем на **other**\n",
    "- Пустой **Repaired** заменим на 0"
   ]
  },
  {
   "cell_type": "markdown",
   "metadata": {},
   "source": [
    "<div class=\"alert alert-danger\">\n",
    "<b>Комментарий ревьюера: &#10060; </b> Какой-либо корреляции не увидел, там же около нуля. Так же корреляцию лучше смотреть после обработки пропусков, выбросов и тд </div>\n",
    "\n",
    "<div class=\"alert alert-info\">\n",
    "<b>Комментарий студента:</b> Поправил </div>"
   ]
  },
  {
   "cell_type": "markdown",
   "metadata": {},
   "source": [
    "<div class=\"alert alert-success\">\n",
    "<b>Комментарий ревьюера:\n",
    "&#9989;</b> Хорошо! </div>"
   ]
  },
  {
   "cell_type": "code",
   "execution_count": 17,
   "metadata": {},
   "outputs": [],
   "source": [
    "#Подготовка данных. \n",
    "data = data[(data.VehicleType.isna() == False) & (data.Model.isna() == False) & (data.Brand.isna() == False)]\n",
    "data = data[data.Gearbox.isna() == False]\n",
    "data.FuelType[data.FuelType.isna() == True] = 'other'\n",
    "data = data[data.Price >=  1000]\n",
    "data = data.drop('NumberOfPictures', axis = 1) \n",
    "data = data.drop('PostalCode', axis = 1) \n",
    "data = data.drop('DateCrawled', axis = 1) \n",
    "data = data.drop('DateCreated', axis = 1) \n",
    "data = data.drop('LastSeen', axis = 1) \n",
    "data = data.drop('RegistrationMonth', axis = 1) \n",
    "data = data.drop_duplicates()\n",
    "data = data[data['RegistrationYear'] <= 2016]\n",
    "data = data[data['RegistrationYear'] > 1980]\n",
    "#data.Power[data.Power == 0] = data.Power.mean()\n",
    "data.Power[data.Power < 50] = data.Power.mean()\n",
    "data = data[data.Power <=  476]\n",
    "data.Repaired[data.Repaired.isna() == True] = 0"
   ]
  },
  {
   "cell_type": "markdown",
   "metadata": {},
   "source": [
    "<div class=\"alert alert-danger\">\n",
    "<b>Комментарий ревьюера V2 : &#10060; </b> 2016 год не стоит исключать из выборки, т.к. это год выгрузки из бд</div>\n",
    "\n",
    "<div class=\"alert alert-info\">\n",
    "<b>Комментарий студента V2:</b> Включил 2016 в выборку </div>"
   ]
  },
  {
   "cell_type": "code",
   "execution_count": 18,
   "metadata": {},
   "outputs": [
    {
     "data": {
      "text/plain": [
       "(202941, 10)"
      ]
     },
     "metadata": {},
     "output_type": "display_data"
    },
    {
     "data": {
      "text/html": [
       "<div>\n",
       "<style scoped>\n",
       "    .dataframe tbody tr th:only-of-type {\n",
       "        vertical-align: middle;\n",
       "    }\n",
       "\n",
       "    .dataframe tbody tr th {\n",
       "        vertical-align: top;\n",
       "    }\n",
       "\n",
       "    .dataframe thead th {\n",
       "        text-align: right;\n",
       "    }\n",
       "</style>\n",
       "<table border=\"1\" class=\"dataframe\">\n",
       "  <thead>\n",
       "    <tr style=\"text-align: right;\">\n",
       "      <th></th>\n",
       "      <th>Price</th>\n",
       "      <th>VehicleType</th>\n",
       "      <th>RegistrationYear</th>\n",
       "      <th>Gearbox</th>\n",
       "      <th>Power</th>\n",
       "      <th>Model</th>\n",
       "      <th>Kilometer</th>\n",
       "      <th>FuelType</th>\n",
       "      <th>Brand</th>\n",
       "      <th>Repaired</th>\n",
       "    </tr>\n",
       "  </thead>\n",
       "  <tbody>\n",
       "    <tr>\n",
       "      <th>2</th>\n",
       "      <td>9800</td>\n",
       "      <td>suv</td>\n",
       "      <td>2004</td>\n",
       "      <td>auto</td>\n",
       "      <td>163.0</td>\n",
       "      <td>grand</td>\n",
       "      <td>125000</td>\n",
       "      <td>gasoline</td>\n",
       "      <td>jeep</td>\n",
       "      <td>0</td>\n",
       "    </tr>\n",
       "    <tr>\n",
       "      <th>3</th>\n",
       "      <td>1500</td>\n",
       "      <td>small</td>\n",
       "      <td>2001</td>\n",
       "      <td>manual</td>\n",
       "      <td>75.0</td>\n",
       "      <td>golf</td>\n",
       "      <td>150000</td>\n",
       "      <td>petrol</td>\n",
       "      <td>volkswagen</td>\n",
       "      <td>no</td>\n",
       "    </tr>\n",
       "    <tr>\n",
       "      <th>4</th>\n",
       "      <td>3600</td>\n",
       "      <td>small</td>\n",
       "      <td>2008</td>\n",
       "      <td>manual</td>\n",
       "      <td>69.0</td>\n",
       "      <td>fabia</td>\n",
       "      <td>90000</td>\n",
       "      <td>gasoline</td>\n",
       "      <td>skoda</td>\n",
       "      <td>no</td>\n",
       "    </tr>\n",
       "    <tr>\n",
       "      <th>6</th>\n",
       "      <td>2200</td>\n",
       "      <td>convertible</td>\n",
       "      <td>2004</td>\n",
       "      <td>manual</td>\n",
       "      <td>109.0</td>\n",
       "      <td>2_reihe</td>\n",
       "      <td>150000</td>\n",
       "      <td>petrol</td>\n",
       "      <td>peugeot</td>\n",
       "      <td>no</td>\n",
       "    </tr>\n",
       "    <tr>\n",
       "      <th>8</th>\n",
       "      <td>14500</td>\n",
       "      <td>bus</td>\n",
       "      <td>2014</td>\n",
       "      <td>manual</td>\n",
       "      <td>125.0</td>\n",
       "      <td>c_max</td>\n",
       "      <td>30000</td>\n",
       "      <td>petrol</td>\n",
       "      <td>ford</td>\n",
       "      <td>0</td>\n",
       "    </tr>\n",
       "  </tbody>\n",
       "</table>\n",
       "</div>"
      ],
      "text/plain": [
       "   Price  VehicleType  RegistrationYear Gearbox  Power    Model  Kilometer  \\\n",
       "2   9800          suv              2004    auto  163.0    grand     125000   \n",
       "3   1500        small              2001  manual   75.0     golf     150000   \n",
       "4   3600        small              2008  manual   69.0    fabia      90000   \n",
       "6   2200  convertible              2004  manual  109.0  2_reihe     150000   \n",
       "8  14500          bus              2014  manual  125.0    c_max      30000   \n",
       "\n",
       "   FuelType       Brand Repaired  \n",
       "2  gasoline        jeep        0  \n",
       "3    petrol  volkswagen       no  \n",
       "4  gasoline       skoda       no  \n",
       "6    petrol     peugeot       no  \n",
       "8    petrol        ford        0  "
      ]
     },
     "execution_count": 18,
     "metadata": {},
     "output_type": "execute_result"
    }
   ],
   "source": [
    "display(data.shape)\n",
    "data.head()"
   ]
  },
  {
   "cell_type": "code",
   "execution_count": 19,
   "metadata": {},
   "outputs": [
    {
     "data": {
      "text/plain": [
       "Price                 int64\n",
       "VehicleType          object\n",
       "RegistrationYear      int64\n",
       "Gearbox              object\n",
       "Power               float64\n",
       "Model                object\n",
       "Kilometer             int64\n",
       "FuelType             object\n",
       "Brand                object\n",
       "Repaired             object\n",
       "dtype: object"
      ]
     },
     "execution_count": 19,
     "metadata": {},
     "output_type": "execute_result"
    }
   ],
   "source": [
    "data.dtypes"
   ]
  },
  {
   "cell_type": "code",
   "execution_count": 20,
   "metadata": {},
   "outputs": [],
   "source": [
    "data.VehicleType = data.VehicleType.astype(str)\n",
    "data.Gearbox = data.Gearbox.astype(str)\n",
    "data.Model = data.Model.astype(str)\n",
    "data.FuelType = data.FuelType.astype(str)\n",
    "data.Brand = data.Brand.astype(str)\n",
    "data.Repaired = data.Repaired.astype(str)"
   ]
  },
  {
   "cell_type": "code",
   "execution_count": 21,
   "metadata": {},
   "outputs": [
    {
     "data": {
      "text/html": [
       "<div>\n",
       "<style scoped>\n",
       "    .dataframe tbody tr th:only-of-type {\n",
       "        vertical-align: middle;\n",
       "    }\n",
       "\n",
       "    .dataframe tbody tr th {\n",
       "        vertical-align: top;\n",
       "    }\n",
       "\n",
       "    .dataframe thead th {\n",
       "        text-align: right;\n",
       "    }\n",
       "</style>\n",
       "<table border=\"1\" class=\"dataframe\">\n",
       "  <thead>\n",
       "    <tr style=\"text-align: right;\">\n",
       "      <th></th>\n",
       "      <th>Price</th>\n",
       "      <th>VehicleType</th>\n",
       "      <th>RegistrationYear</th>\n",
       "      <th>Gearbox</th>\n",
       "      <th>Power</th>\n",
       "      <th>Model</th>\n",
       "      <th>Kilometer</th>\n",
       "      <th>FuelType</th>\n",
       "      <th>Brand</th>\n",
       "      <th>Repaired</th>\n",
       "    </tr>\n",
       "  </thead>\n",
       "  <tbody>\n",
       "  </tbody>\n",
       "</table>\n",
       "</div>"
      ],
      "text/plain": [
       "Empty DataFrame\n",
       "Columns: [Price, VehicleType, RegistrationYear, Gearbox, Power, Model, Kilometer, FuelType, Brand, Repaired]\n",
       "Index: []"
      ]
     },
     "execution_count": 21,
     "metadata": {},
     "output_type": "execute_result"
    }
   ],
   "source": [
    "data[data.Power > 476]"
   ]
  },
  {
   "cell_type": "code",
   "execution_count": 22,
   "metadata": {},
   "outputs": [
    {
     "data": {
      "text/html": [
       "<div>\n",
       "<style scoped>\n",
       "    .dataframe tbody tr th:only-of-type {\n",
       "        vertical-align: middle;\n",
       "    }\n",
       "\n",
       "    .dataframe tbody tr th {\n",
       "        vertical-align: top;\n",
       "    }\n",
       "\n",
       "    .dataframe thead th {\n",
       "        text-align: right;\n",
       "    }\n",
       "</style>\n",
       "<table border=\"1\" class=\"dataframe\">\n",
       "  <thead>\n",
       "    <tr style=\"text-align: right;\">\n",
       "      <th></th>\n",
       "      <th>Price</th>\n",
       "      <th>RegistrationYear</th>\n",
       "      <th>Power</th>\n",
       "      <th>Kilometer</th>\n",
       "    </tr>\n",
       "  </thead>\n",
       "  <tbody>\n",
       "    <tr>\n",
       "      <th>count</th>\n",
       "      <td>202941.000000</td>\n",
       "      <td>202941.000000</td>\n",
       "      <td>202941.000000</td>\n",
       "      <td>202941.000000</td>\n",
       "    </tr>\n",
       "    <tr>\n",
       "      <th>mean</th>\n",
       "      <td>5887.336359</td>\n",
       "      <td>2003.971578</td>\n",
       "      <td>129.880006</td>\n",
       "      <td>124959.421704</td>\n",
       "    </tr>\n",
       "    <tr>\n",
       "      <th>std</th>\n",
       "      <td>4620.068642</td>\n",
       "      <td>5.414176</td>\n",
       "      <td>51.790509</td>\n",
       "      <td>38262.924596</td>\n",
       "    </tr>\n",
       "    <tr>\n",
       "      <th>min</th>\n",
       "      <td>1000.000000</td>\n",
       "      <td>1981.000000</td>\n",
       "      <td>50.000000</td>\n",
       "      <td>5000.000000</td>\n",
       "    </tr>\n",
       "    <tr>\n",
       "      <th>25%</th>\n",
       "      <td>2250.000000</td>\n",
       "      <td>2001.000000</td>\n",
       "      <td>95.000000</td>\n",
       "      <td>100000.000000</td>\n",
       "    </tr>\n",
       "    <tr>\n",
       "      <th>50%</th>\n",
       "      <td>4300.000000</td>\n",
       "      <td>2004.000000</td>\n",
       "      <td>125.000000</td>\n",
       "      <td>150000.000000</td>\n",
       "    </tr>\n",
       "    <tr>\n",
       "      <th>75%</th>\n",
       "      <td>8250.000000</td>\n",
       "      <td>2008.000000</td>\n",
       "      <td>150.000000</td>\n",
       "      <td>150000.000000</td>\n",
       "    </tr>\n",
       "    <tr>\n",
       "      <th>max</th>\n",
       "      <td>20000.000000</td>\n",
       "      <td>2016.000000</td>\n",
       "      <td>476.000000</td>\n",
       "      <td>150000.000000</td>\n",
       "    </tr>\n",
       "  </tbody>\n",
       "</table>\n",
       "</div>"
      ],
      "text/plain": [
       "               Price  RegistrationYear          Power      Kilometer\n",
       "count  202941.000000     202941.000000  202941.000000  202941.000000\n",
       "mean     5887.336359       2003.971578     129.880006  124959.421704\n",
       "std      4620.068642          5.414176      51.790509   38262.924596\n",
       "min      1000.000000       1981.000000      50.000000    5000.000000\n",
       "25%      2250.000000       2001.000000      95.000000  100000.000000\n",
       "50%      4300.000000       2004.000000     125.000000  150000.000000\n",
       "75%      8250.000000       2008.000000     150.000000  150000.000000\n",
       "max     20000.000000       2016.000000     476.000000  150000.000000"
      ]
     },
     "execution_count": 22,
     "metadata": {},
     "output_type": "execute_result"
    }
   ],
   "source": [
    "data.describe()"
   ]
  },
  {
   "cell_type": "markdown",
   "metadata": {},
   "source": [
    "<div class=\"alert alert-danger\">\n",
    "<b>Комментарий ревьюера: &#10060; </b> Обрати, пожалуйста, внимание, что год регистрации авто не может быть позже даты выгрузки из бд. Так же остались подозрительно низкие цены, выбросы в power. Так же в категориальных признаках есть значения 'other',зачем вводить новую категорию? Так же из категориальных данных делать численные просто заменяя значения на числа не корректно. Давай будем использовать кодирование, а не велосипеды. Помимо этого кодирование и масштабирование признаков производится только после разбиения на трейн и тест </div>\n",
    "\n",
    "<div class=\"alert alert-info\">\n",
    "<b>Комментарий студента:</b> Поправил обработку данных,  кодирование отправил вниз  </div>"
   ]
  },
  {
   "cell_type": "markdown",
   "metadata": {},
   "source": [
    "<div class=\"alert alert-danger\">\n",
    "<b>Комментарий ревьюера V2: &#10060; </b> Обрати, пожалуйста, внимание на столбец power, даже у суперкаров движки меньше 1000 л.с., в интернете много информации по этому поводу(да и суперкары тоже можно исключить, в выборке среднячок) </div>\n",
    "\n",
    "<div class=\"alert alert-info\">\n",
    "<b>Комментарий студента V2:</b> Спасибо :) поправил </div>"
   ]
  },
  {
   "cell_type": "markdown",
   "metadata": {},
   "source": [
    "## Обучение моделей"
   ]
  },
  {
   "cell_type": "markdown",
   "metadata": {},
   "source": [
    "#### Подготовим выборки для обучения моделей."
   ]
  },
  {
   "cell_type": "code",
   "execution_count": 35,
   "metadata": {},
   "outputs": [],
   "source": [
    "feature = data.drop(['Price'], axis = 1)\n",
    "target = data.Price\n",
    "\n",
    "#Откусим кусочек для финального тестирования:\n",
    "feature, feature_test, target, target_test = train_test_split(\n",
    "    feature, target, test_size=0.10, random_state=12345)\n",
    "\n",
    "feature_train, feature_valid, target_train, target_valid = train_test_split(feature, target,  \n",
    "                                                                            test_size=0.20, random_state=12345)\n",
    "\n",
    "\n",
    "#Кодируем\n",
    "encoder = OrdinalEncoder(handle_unknown='use_encoded_value', unknown_value=-1)\n",
    "encoder.fit(feature_train)\n",
    "\n",
    "feature_train = encoder.transform(feature_train)\n",
    "feature_test =  encoder.transform(feature_test)\n",
    "feature_valid = encoder.transform(feature_valid)"
   ]
  },
  {
   "cell_type": "markdown",
   "metadata": {},
   "source": [
    "<div class=\"alert alert-danger\">\n",
    "<b>Комментарий ревьюера V2: &#10060; </b> Обрати, пожалуйста, внимание, что кодирование и масштабирование выборок необходимо производить после </div>\n",
    "<div class=\"alert alert-info\">\n",
    "<b>Комментарий студента V2:</b> Понял тебя, для избежания утечки, кодируем после разбиения </div>"
   ]
  },
  {
   "cell_type": "markdown",
   "metadata": {},
   "source": [
    "<div class=\"alert alert-danger\">\n",
    "<b>Комментарий ревьюера V3: &#10060; </b> Не совсем так, в трейне и тесте может быть разное кол-во категорий, поэтому на трейне мы обучаем и трансформируем выборку(fit_transform),на остальных трансформируем(transform) </div>\n",
    "\n",
    "<div class=\"alert alert-info\">\n",
    "<b>Комментарий студента V3:</b> Так, теперь понял, поправил :) </div>\n"
   ]
  },
  {
   "cell_type": "markdown",
   "metadata": {},
   "source": [
    "## Анализ моделей"
   ]
  },
  {
   "cell_type": "markdown",
   "metadata": {},
   "source": [
    "#### Обучим разные модели"
   ]
  },
  {
   "cell_type": "markdown",
   "metadata": {},
   "source": [
    "#### CatBoostRegressor"
   ]
  },
  {
   "cell_type": "markdown",
   "metadata": {},
   "source": [
    "<div class=\"alert alert-danger\">\n",
    "<b>Комментарий ревьюера: &#10060; </b> Здесь стоит добавить подбор гиперпараметров с кроссвалидацией, советую использовать GridSearchCV / RandomizedSearchCV</div>"
   ]
  },
  {
   "cell_type": "markdown",
   "metadata": {},
   "source": [
    "<div class=\"alert alert-info\">\n",
    "<b>Комментарий студента:</b> Добавил гридсерч </div>"
   ]
  },
  {
   "cell_type": "markdown",
   "metadata": {},
   "source": [
    "<div class=\"alert alert-success\">\n",
    "<b>Комментарий ревьюера V2:\n",
    "&#9989;</b> Отлично, извини, что влепил красный, здесь он не требуется, но ты молодец </div>"
   ]
  },
  {
   "cell_type": "code",
   "execution_count": null,
   "metadata": {},
   "outputs": [],
   "source": [
    "%%time\n",
    "\n",
    "clf = CatBoostRegressor()\n",
    "\n",
    "\n",
    "parametrs = { 'iterations': [1, 50, 100],\n",
    "              'learning_rate': [0.1,0.2],\n",
    "              'depth': [1,2]}\n",
    "\n",
    "#clf.get_params().keys()\n",
    "\n",
    "grid = GridSearchCV(clf, parametrs, cv=5)\n",
    "grid.fit(feature_train, target_train)\n",
    "grid.best_params_"
   ]
  },
  {
   "cell_type": "code",
   "execution_count": null,
   "metadata": {},
   "outputs": [],
   "source": [
    "%%time\n",
    "model = CatBoostRegressor(iterations=100, learning_rate=0.2, depth=2)\n",
    "# Fit model\n",
    "model.fit(feature_train, target_train)\n",
    "# Get predictions\n",
    "predictions = model.predict(feature_valid)\n",
    "\n",
    "round(mean_squared_error(target_valid, predictions, squared=False), 2)"
   ]
  },
  {
   "cell_type": "markdown",
   "metadata": {},
   "source": [
    "- Отлично, катбуст с текущими параметрами  проходит по условию \"Значение метрики RMSE должно быть меньше 2500\""
   ]
  },
  {
   "cell_type": "markdown",
   "metadata": {},
   "source": [
    "#### HistGradientBoostingRegressor"
   ]
  },
  {
   "cell_type": "code",
   "execution_count": null,
   "metadata": {},
   "outputs": [],
   "source": [
    "'''\n",
    "%%time\n",
    "\n",
    "clf = HistGradientBoostingRegressor()\n",
    "\n",
    "parametrs = { 'max_iter': [1, 50, 100],\n",
    "              'learning_rate': [0.1,0.2],\n",
    "              'max_depth': [1,2]}\n",
    "\n",
    "\n",
    "clf.get_params().keys()\n",
    "\n",
    "grid = GridSearchCV(clf, parametrs, cv=5)\n",
    "grid.fit(feature_train, target_train)\n",
    "grid.best_params_\n",
    "'''"
   ]
  },
  {
   "cell_type": "markdown",
   "metadata": {},
   "source": [
    "- CPU times: user 17min 33s, sys: 11.3 s, total: 17min 44s\n",
    "- Wall time: 17min 52s\n",
    "- {'learning_rate': 0.2, 'max_depth': 2, 'max_iter': 100}"
   ]
  },
  {
   "cell_type": "code",
   "execution_count": null,
   "metadata": {},
   "outputs": [],
   "source": [
    "%%time\n",
    "model = HistGradientBoostingRegressor(max_iter=100, learning_rate=0.2, max_depth=2)\n",
    "# Fit model\n",
    "model.fit(feature_train, target_train)\n",
    "# Get predictions\n",
    "predictions = model.predict(feature_valid)\n",
    "\n",
    "round(mean_squared_error(target_valid, predictions, squared=False), 2)\n",
    "\n"
   ]
  },
  {
   "cell_type": "markdown",
   "metadata": {},
   "source": [
    "- Яндекс, не в обиду но HistGradientBoostingRegressor от склерн выигрывает с теми же параметрами по метрике RMSE :)"
   ]
  },
  {
   "cell_type": "markdown",
   "metadata": {},
   "source": [
    "#### SGDRegressor"
   ]
  },
  {
   "cell_type": "code",
   "execution_count": null,
   "metadata": {},
   "outputs": [],
   "source": [
    "%%time\n",
    "\n",
    "clf = SGDRegressor()\n",
    "\n",
    "parametrs = { 'max_iter': [10, 50,100],\n",
    "              'learning_rate': ['invscaling']\n",
    "            }\n",
    "\n",
    "\n",
    "\n",
    "#clf.get_params().keys()\n",
    "\n",
    "grid = GridSearchCV(clf, parametrs, cv=5)\n",
    "grid.fit(feature_train, target_train)\n",
    "grid.best_params_"
   ]
  },
  {
   "cell_type": "code",
   "execution_count": null,
   "metadata": {},
   "outputs": [],
   "source": [
    "\n",
    "%%time\n",
    "model = SGDRegressor(max_iter=100, learning_rate='invscaling', early_stopping=True)\n",
    "# Fit model\n",
    "model.fit(feature_train, target_train)\n",
    "# Get predictions\n",
    "predictions = model.predict(feature_valid)\n",
    "\n",
    "round(mean_squared_error(target_valid, predictions, squared=False), 2)\n"
   ]
  },
  {
   "cell_type": "markdown",
   "metadata": {},
   "source": [
    "#### LightGBM"
   ]
  },
  {
   "cell_type": "code",
   "execution_count": null,
   "metadata": {},
   "outputs": [],
   "source": [
    "%%time\n",
    "\n",
    "lgb_model = lgb.LGBMRegressor(\n",
    "    categorical_feature= [0,2,3,4,8,9,10],\n",
    "    task = 'predict',\n",
    "    application = 'regression',\n",
    "    objective = 'root_mean_squared_error',\n",
    "    boosting_type=\"gbdt\",\n",
    "    num_iterations = 100,\n",
    "    learning_rate = 0.05,\n",
    "    num_leaves=15,\n",
    "    tree_learner='feature',\n",
    "    max_depth =10,\n",
    "    min_data_in_leaf=7,\n",
    "    bagging_fraction = 1,\n",
    "    bagging_freq = 100,\n",
    "    reg_sqrt='True',\n",
    "    metric ='rmse',\n",
    "    feature_fraction = 0.6)\n",
    "\n",
    "lgb_model.fit(feature_train, target_train) \n",
    "\n",
    "predictions = lgb_model.predict(feature_valid)\n",
    "print(round(mean_squared_error(target_valid, predictions, squared=False), 2))"
   ]
  },
  {
   "cell_type": "code",
   "execution_count": null,
   "metadata": {},
   "outputs": [],
   "source": [
    "%%time\n",
    "parameters = {\n",
    "    'task' : ['predict'],\n",
    "    'boosting': ['gbdt' ],\n",
    "    'objective': ['root_mean_squared_error'],\n",
    "    'num_iterations': [  10, 50, 100  ],\n",
    "    'learning_rate':[  0.05, 0.005 ],\n",
    "   'max_depth' :[ 10,15,25] \n",
    "}\n",
    "\n",
    "gsearch_lgb = GridSearchCV(lgb_model, param_grid = parameters, n_jobs=6, verbose=10)\n",
    "gsearch_lgb.fit(feature_train, target_train)\n",
    "\n",
    "print(grid.best_params_)\n",
    "print(round(mean_squared_error(target_valid, predictions, squared=False), 2))"
   ]
  },
  {
   "cell_type": "code",
   "execution_count": null,
   "metadata": {},
   "outputs": [],
   "source": [
    "gsearch_lgb.best_params_"
   ]
  },
  {
   "cell_type": "markdown",
   "metadata": {},
   "source": [
    "#### Победитель удостаивается  чести обучиться на тестовой выборке"
   ]
  },
  {
   "cell_type": "code",
   "execution_count": null,
   "metadata": {},
   "outputs": [],
   "source": [
    "%%time\n",
    "\n",
    "lgb_model = lgb.LGBMRegressor(\n",
    "    categorical_feature= [0,2,3,4,8,9,10],\n",
    "    task = 'predict',\n",
    "    application = 'regression',\n",
    "    objective = 'root_mean_squared_error',\n",
    "    boosting_type=\"gbdt\",\n",
    "    num_iterations = 100,\n",
    "    learning_rate = 0.05,\n",
    "    num_leaves=15,\n",
    "    tree_learner='feature',\n",
    "    max_depth =15,\n",
    "    min_data_in_leaf=7,\n",
    "    bagging_fraction = 1,\n",
    "    bagging_freq = 100,\n",
    "    reg_sqrt='True',\n",
    "    metric ='rmse',\n",
    "    feature_fraction = 0.6)\n",
    "\n",
    "lgb_model.fit(feature_test, target_test) \n",
    "\n",
    "predictions = lgb_model.predict(feature_valid)\n",
    "print(round(mean_squared_error(target_valid, predictions, squared=False), 2))"
   ]
  },
  {
   "cell_type": "markdown",
   "metadata": {},
   "source": [
    "<div class=\"alert alert-success\">\n",
    "<b>Комментарий ревьюера:\n",
    "&#9989;</b> Молодец, что тестируешь только итоговую модель! </div>"
   ]
  },
  {
   "cell_type": "markdown",
   "metadata": {},
   "source": [
    "#### Проанализируем время обучения, время предсказания и качество моделей.\n",
    "\n",
    "##### Точность\n",
    "- На первом месте у нас **LightGBM** с показателем **RMSE** 1803.65 на тестовой выборке показал точность 1926.76\n",
    "\n",
    "- Второе место  получает **HistGradientBoostingRegressor** с показателем **RMSE** 1972.89\n",
    "\n",
    "- Дышит в спину бустер  **CatBoostRegressor** с показателем **RMSE** 2006.84\n",
    "- Ну и четверное место занимает **SGDRegressor**  с показателем **RMSE** 5178084920802.75\n",
    "\n",
    "##### Скорость обучения\n",
    "- По скорости обучения моделей, первое место у **SGDRegressor**\n",
    "- Катбуст чуть медленней\n",
    "- **LightGBM** Медленней всех"
   ]
  },
  {
   "cell_type": "markdown",
   "metadata": {},
   "source": [
    "## Чек-лист проверки"
   ]
  },
  {
   "cell_type": "markdown",
   "metadata": {},
   "source": [
    "Поставьте 'x' в выполненных пунктах. Далее нажмите Shift+Enter."
   ]
  },
  {
   "cell_type": "markdown",
   "metadata": {},
   "source": [
    "- [x]  Jupyter Notebook открыт\n",
    "- [x]  Весь код выполняется без ошибок\n",
    "- [x]  Ячейки с кодом расположены в порядке исполнения\n",
    "- [x]  Выполнена загрузка и подготовка данных\n",
    "- [x]  Выполнено обучение моделей\n",
    "- [x]  Есть анализ скорости работы и качества моделей"
   ]
  },
  {
   "cell_type": "markdown",
   "metadata": {},
   "source": [
    "<b>Итоговый комментарий ревьюера:</b> Молодец, хорошая работа, похвально, что пытаешься все автоматизировать, но есть пара критических моментов, которые необходимо исправить, а именно:\n",
    "1. Выбросы\n",
    "2. Кодирование выборки\n",
    "3. Корреляция\n",
    "4. Кроссвалидация и подбор гиперпараметров<br>\n",
    "Так же советую для лучшего восприятия добавить графиков, ниже оставляю пару ссылок для самообучения!\n"
   ]
  },
  {
   "cell_type": "markdown",
   "metadata": {},
   "source": [
    "<b>Итоговый комментарий ревьюера V2:</b> Молодец, обрати внимание на следущее:\n",
    "1. столбец power\n",
    "2. 2016 год\n",
    "3. Кодирование и масштабирование после разбиения на трейн и тест<a href = \"https://machinelearningmastery.com/data-preparation-without-data-leakage/\">How to Avoid Data Leakage</a><br>\n",
    "Насчет последнего советую внимательно почитать про утечки в данных, чтобы получать адекватные модели"
   ]
  },
  {
   "cell_type": "markdown",
   "metadata": {},
   "source": [
    "<b>Итоговый комментарий ревьюера V3:</b> Молодец, все супер, давай только немного подправим кодирование и работа будет зачтена!"
   ]
  },
  {
   "cell_type": "markdown",
   "metadata": {},
   "source": [
    "<b>Итоговый комментарий ревьюера V4:</b> Отлично, все критические замечания учтены, работа зачтена! Успехов в дальнейшем обучении!"
   ]
  },
  {
   "cell_type": "markdown",
   "metadata": {},
   "source": [
    "<div class=\"alert alert-success\">\n",
    "<b>Рубрика “Полезные ссылки”:\n",
    "✅</b> <br>\n",
    "<a href = \"https://sphweb.bumc.bu.edu/otlt/MPH-Modules/PH717-QuantCore/PH717-Module9-Correlation-Regression/PH717-Module9-Correlation-Regression4.html\">Коэффициенты корреляции</a><br>\n",
    "<a href = \"https://www.researchgate.net/profile/Paul-Louangrath/post/Ranking_or_scoring_variables_using_conditional_probability/attachment/59d63c45c49f478072ea7c1a/AS%3A273748962283533%401442278246675/download/100+Statistical+Tests.pdf\">100 Statistical tests</a><br>\n",
    "<a href = \"https://loginom.ru/blog/missing\">Обработка пропусков</a><br>\n",
    "<a href = \"https://coderlessons.com/tutorials/python-technologies/izuchai-siborna/siborn-kratkoe-rukovodstvo\"> Seaborn</a><br>\n",
    "<a href = \"https://habr.com/ru/post/502958/\"> Plotly</a><br>\n",
    "<a href = \"https://medium.com/@jetbootsmaker/%D0%BF%D0%BE%D0%B2%D1%8B%D1%88%D0%B0%D0%B5%D0%BC-%D0%BF%D1%80%D0%BE%D0%B4%D1%83%D0%BA%D1%82%D0%B8%D0%B2%D0%BD%D0%BE%D1%81%D1%82%D1%8C-%D0%BF%D1%80%D0%B8-%D1%80%D0%B0%D0%B1%D0%BE%D1%82%D0%B5-%D1%81-jupyter-notebook-81a1cab8bac1\"> Повышаем продуктивность при работе с Jupyter</a><br>\n",
    "<a href = \"https://towardsdatascience.com/5-things-you-should-know-about-covariance-26b12a0516f1\">5 Things You Should Know About Covariance</a><br>\n",
    "    <a href = \"https://machinelearningmastery.com/how-to-use-statistics-to-identify-outliers-in-data/\">Выбросы</a><br>\n",
    "    <a href = \"https://www.kaggle.com/code/baghern/a-deep-dive-into-sklearn-pipelines/notebook\">Pipeline</a>\n",
    "</div>"
   ]
  }
 ],
 "metadata": {
  "ExecuteTimeLog": [
   {
    "duration": 39,
    "start_time": "2023-01-13T11:51:00.396Z"
   },
   {
    "duration": 2820,
    "start_time": "2023-01-13T11:51:00.447Z"
   },
   {
    "duration": 0,
    "start_time": "2023-01-13T11:51:03.270Z"
   },
   {
    "duration": 0,
    "start_time": "2023-01-13T11:51:03.271Z"
   },
   {
    "duration": 0,
    "start_time": "2023-01-13T11:51:03.272Z"
   },
   {
    "duration": 0,
    "start_time": "2023-01-13T11:51:03.273Z"
   },
   {
    "duration": 0,
    "start_time": "2023-01-13T11:51:03.275Z"
   },
   {
    "duration": 0,
    "start_time": "2023-01-13T11:51:03.335Z"
   },
   {
    "duration": 0,
    "start_time": "2023-01-13T11:51:03.337Z"
   },
   {
    "duration": 0,
    "start_time": "2023-01-13T11:51:03.339Z"
   },
   {
    "duration": 0,
    "start_time": "2023-01-13T11:51:03.340Z"
   },
   {
    "duration": 0,
    "start_time": "2023-01-13T11:51:03.341Z"
   },
   {
    "duration": 0,
    "start_time": "2023-01-13T11:51:03.344Z"
   },
   {
    "duration": 0,
    "start_time": "2023-01-13T11:51:03.345Z"
   },
   {
    "duration": 0,
    "start_time": "2023-01-13T11:51:03.347Z"
   },
   {
    "duration": 0,
    "start_time": "2023-01-13T11:51:03.348Z"
   },
   {
    "duration": 0,
    "start_time": "2023-01-13T11:51:03.351Z"
   },
   {
    "duration": 0,
    "start_time": "2023-01-13T11:51:03.352Z"
   },
   {
    "duration": 0,
    "start_time": "2023-01-13T11:51:03.353Z"
   },
   {
    "duration": 0,
    "start_time": "2023-01-13T11:51:03.356Z"
   },
   {
    "duration": 0,
    "start_time": "2023-01-13T11:51:03.358Z"
   },
   {
    "duration": 0,
    "start_time": "2023-01-13T11:51:03.359Z"
   },
   {
    "duration": 0,
    "start_time": "2023-01-13T11:51:03.361Z"
   },
   {
    "duration": 0,
    "start_time": "2023-01-13T11:51:03.362Z"
   },
   {
    "duration": 0,
    "start_time": "2023-01-13T11:51:03.363Z"
   },
   {
    "duration": 0,
    "start_time": "2023-01-13T11:51:03.436Z"
   },
   {
    "duration": 0,
    "start_time": "2023-01-13T11:51:03.437Z"
   },
   {
    "duration": 0,
    "start_time": "2023-01-13T11:51:03.439Z"
   },
   {
    "duration": 8983,
    "start_time": "2023-01-13T11:51:29.767Z"
   },
   {
    "duration": 28,
    "start_time": "2023-01-13T11:53:05.207Z"
   },
   {
    "duration": 110,
    "start_time": "2023-01-13T11:53:07.848Z"
   },
   {
    "duration": 4,
    "start_time": "2023-01-13T11:55:10.335Z"
   },
   {
    "duration": 1723,
    "start_time": "2023-01-13T11:55:10.341Z"
   },
   {
    "duration": 1176,
    "start_time": "2023-01-13T11:55:12.066Z"
   },
   {
    "duration": 6,
    "start_time": "2023-01-13T11:55:13.245Z"
   },
   {
    "duration": 2318,
    "start_time": "2023-01-13T11:55:13.253Z"
   },
   {
    "duration": 13794,
    "start_time": "2023-01-13T11:55:15.573Z"
   },
   {
    "duration": 91,
    "start_time": "2023-01-13T11:55:29.369Z"
   },
   {
    "duration": 90,
    "start_time": "2023-01-13T11:55:29.462Z"
   },
   {
    "duration": 107,
    "start_time": "2023-01-13T11:55:29.554Z"
   },
   {
    "duration": 111,
    "start_time": "2023-01-13T11:55:29.664Z"
   },
   {
    "duration": 887,
    "start_time": "2023-01-13T11:55:29.777Z"
   },
   {
    "duration": 6,
    "start_time": "2023-01-13T11:55:30.667Z"
   },
   {
    "duration": 75,
    "start_time": "2023-01-13T11:55:30.675Z"
   },
   {
    "duration": 11383,
    "start_time": "2023-01-13T11:55:30.752Z"
   },
   {
    "duration": 133,
    "start_time": "2023-01-13T11:55:42.137Z"
   },
   {
    "duration": 10,
    "start_time": "2023-01-13T11:55:42.272Z"
   },
   {
    "duration": 7790,
    "start_time": "2023-01-13T11:55:42.283Z"
   },
   {
    "duration": 186,
    "start_time": "2023-01-13T11:55:50.074Z"
   },
   {
    "duration": 831,
    "start_time": "2023-01-13T11:55:50.262Z"
   },
   {
    "duration": 775,
    "start_time": "2023-01-13T11:55:51.094Z"
   },
   {
    "duration": 6941,
    "start_time": "2023-01-13T11:55:51.870Z"
   },
   {
    "duration": 2109,
    "start_time": "2023-01-13T11:55:58.836Z"
   },
   {
    "duration": 3,
    "start_time": "2023-01-13T12:04:01.570Z"
   },
   {
    "duration": 1992,
    "start_time": "2023-01-13T12:04:01.577Z"
   },
   {
    "duration": 1207,
    "start_time": "2023-01-13T12:04:03.571Z"
   },
   {
    "duration": 61,
    "start_time": "2023-01-13T12:04:04.780Z"
   },
   {
    "duration": 2409,
    "start_time": "2023-01-13T12:04:04.844Z"
   },
   {
    "duration": 17993,
    "start_time": "2023-01-13T12:04:07.258Z"
   },
   {
    "duration": 110,
    "start_time": "2023-01-13T12:04:25.256Z"
   },
   {
    "duration": 96,
    "start_time": "2023-01-13T12:04:25.368Z"
   },
   {
    "duration": 191,
    "start_time": "2023-01-13T12:04:25.466Z"
   },
   {
    "duration": 197,
    "start_time": "2023-01-13T12:04:25.659Z"
   },
   {
    "duration": 1222,
    "start_time": "2023-01-13T12:04:25.860Z"
   },
   {
    "duration": 14,
    "start_time": "2023-01-13T12:04:27.134Z"
   },
   {
    "duration": 84,
    "start_time": "2023-01-13T12:04:27.151Z"
   },
   {
    "duration": 17,
    "start_time": "2023-01-13T12:04:27.239Z"
   },
   {
    "duration": 14374,
    "start_time": "2023-01-13T12:04:27.261Z"
   },
   {
    "duration": 206,
    "start_time": "2023-01-13T12:04:41.637Z"
   },
   {
    "duration": 20,
    "start_time": "2023-01-13T12:04:41.846Z"
   },
   {
    "duration": 10293,
    "start_time": "2023-01-13T12:04:41.869Z"
   },
   {
    "duration": 300,
    "start_time": "2023-01-13T12:04:52.165Z"
   },
   {
    "duration": 207,
    "start_time": "2023-01-13T12:04:52.468Z"
   },
   {
    "duration": 877,
    "start_time": "2023-01-13T12:04:52.677Z"
   },
   {
    "duration": 853,
    "start_time": "2023-01-13T12:04:53.556Z"
   },
   {
    "duration": 8479,
    "start_time": "2023-01-13T12:04:54.411Z"
   },
   {
    "duration": 2648,
    "start_time": "2023-01-13T12:05:02.892Z"
   },
   {
    "duration": 840613,
    "start_time": "2023-01-13T12:05:05.542Z"
   },
   {
    "duration": 1506,
    "start_time": "2023-01-13T12:19:06.158Z"
   },
   {
    "duration": 4091,
    "start_time": "2023-01-13T12:19:07.666Z"
   },
   {
    "duration": 4,
    "start_time": "2023-01-13T12:19:11.762Z"
   },
   {
    "duration": 104217,
    "start_time": "2023-01-13T12:19:11.837Z"
   },
   {
    "duration": 4,
    "start_time": "2023-01-13T14:56:01.889Z"
   },
   {
    "duration": 1020,
    "start_time": "2023-01-13T14:56:01.895Z"
   },
   {
    "duration": 747,
    "start_time": "2023-01-13T14:56:02.918Z"
   },
   {
    "duration": 6,
    "start_time": "2023-01-13T14:56:03.667Z"
   },
   {
    "duration": 3574,
    "start_time": "2023-01-13T14:56:03.677Z"
   },
   {
    "duration": 6186,
    "start_time": "2023-01-13T14:56:07.252Z"
   },
   {
    "duration": 27,
    "start_time": "2023-01-13T14:56:13.440Z"
   },
   {
    "duration": 29,
    "start_time": "2023-01-13T14:56:13.478Z"
   },
   {
    "duration": 49,
    "start_time": "2023-01-13T14:56:13.508Z"
   },
   {
    "duration": 79,
    "start_time": "2023-01-13T14:56:13.559Z"
   },
   {
    "duration": 460,
    "start_time": "2023-01-13T14:56:13.642Z"
   },
   {
    "duration": 4,
    "start_time": "2023-01-13T14:56:14.105Z"
   },
   {
    "duration": 62,
    "start_time": "2023-01-13T14:56:14.111Z"
   },
   {
    "duration": 56,
    "start_time": "2023-01-13T14:56:14.176Z"
   },
   {
    "duration": 5279,
    "start_time": "2023-01-13T14:56:14.234Z"
   },
   {
    "duration": 85,
    "start_time": "2023-01-13T14:56:19.514Z"
   },
   {
    "duration": 12,
    "start_time": "2023-01-13T14:56:19.601Z"
   },
   {
    "duration": 3584,
    "start_time": "2023-01-13T14:56:19.614Z"
   },
   {
    "duration": 3468,
    "start_time": "2023-01-13T14:56:23.199Z"
   },
   {
    "duration": 92,
    "start_time": "2023-01-13T14:56:26.669Z"
   },
   {
    "duration": 72,
    "start_time": "2023-01-13T14:56:26.762Z"
   },
   {
    "duration": 1538,
    "start_time": "2023-01-13T14:56:26.836Z"
   },
   {
    "duration": 626,
    "start_time": "2023-01-13T14:56:28.375Z"
   },
   {
    "duration": 3596,
    "start_time": "2023-01-13T14:56:29.003Z"
   },
   {
    "duration": 1690,
    "start_time": "2023-01-13T14:56:32.600Z"
   },
   {
    "duration": 367596,
    "start_time": "2023-01-13T14:56:34.292Z"
   },
   {
    "duration": 1496,
    "start_time": "2023-01-13T15:02:41.891Z"
   },
   {
    "duration": 3593,
    "start_time": "2023-01-13T15:02:43.393Z"
   },
   {
    "duration": 3,
    "start_time": "2023-01-13T15:02:46.990Z"
   },
   {
    "duration": 74702,
    "start_time": "2023-01-13T15:02:47.080Z"
   },
   {
    "duration": 439906,
    "start_time": "2023-01-13T15:04:01.785Z"
   },
   {
    "duration": 296,
    "start_time": "2023-01-13T15:11:21.692Z"
   },
   {
    "duration": 4,
    "start_time": "2023-01-14T05:51:01.245Z"
   },
   {
    "duration": 1017,
    "start_time": "2023-01-14T05:51:01.252Z"
   },
   {
    "duration": 711,
    "start_time": "2023-01-14T05:51:02.271Z"
   },
   {
    "duration": 6,
    "start_time": "2023-01-14T05:51:02.985Z"
   },
   {
    "duration": 1105,
    "start_time": "2023-01-14T05:51:02.993Z"
   },
   {
    "duration": 6823,
    "start_time": "2023-01-14T05:51:04.100Z"
   },
   {
    "duration": 54,
    "start_time": "2023-01-14T05:51:10.925Z"
   },
   {
    "duration": 36,
    "start_time": "2023-01-14T05:51:10.980Z"
   },
   {
    "duration": 73,
    "start_time": "2023-01-14T05:51:11.019Z"
   },
   {
    "duration": 51,
    "start_time": "2023-01-14T05:51:11.095Z"
   },
   {
    "duration": 491,
    "start_time": "2023-01-14T05:51:11.148Z"
   },
   {
    "duration": 6,
    "start_time": "2023-01-14T05:51:11.641Z"
   },
   {
    "duration": 27,
    "start_time": "2023-01-14T05:51:11.648Z"
   },
   {
    "duration": 13,
    "start_time": "2023-01-14T05:51:11.677Z"
   },
   {
    "duration": 4893,
    "start_time": "2023-01-14T05:51:11.693Z"
   },
   {
    "duration": 72,
    "start_time": "2023-01-14T05:51:16.588Z"
   },
   {
    "duration": 23,
    "start_time": "2023-01-14T05:51:16.662Z"
   },
   {
    "duration": 3732,
    "start_time": "2023-01-14T05:51:16.687Z"
   },
   {
    "duration": 3504,
    "start_time": "2023-01-14T05:51:20.420Z"
   },
   {
    "duration": 111,
    "start_time": "2023-01-14T05:51:23.925Z"
   },
   {
    "duration": 69,
    "start_time": "2023-01-14T05:51:24.038Z"
   },
   {
    "duration": 711,
    "start_time": "2023-01-14T05:51:24.109Z"
   },
   {
    "duration": 470,
    "start_time": "2023-01-14T05:51:24.822Z"
   },
   {
    "duration": 3724,
    "start_time": "2023-01-14T05:51:25.294Z"
   },
   {
    "duration": 1674,
    "start_time": "2023-01-14T05:51:29.020Z"
   },
   {
    "duration": 365690,
    "start_time": "2023-01-14T05:51:30.696Z"
   },
   {
    "duration": 1923,
    "start_time": "2023-01-14T05:57:36.388Z"
   },
   {
    "duration": 3698,
    "start_time": "2023-01-14T05:57:38.381Z"
   },
   {
    "duration": 4,
    "start_time": "2023-01-14T05:57:42.081Z"
   },
   {
    "duration": 146310,
    "start_time": "2023-01-14T05:57:42.087Z"
   },
   {
    "duration": 240141,
    "start_time": "2023-01-14T06:00:08.400Z"
   },
   {
    "duration": 144,
    "start_time": "2023-01-14T06:04:08.542Z"
   },
   {
    "duration": 785,
    "start_time": "2023-01-14T06:04:08.689Z"
   },
   {
    "duration": 18,
    "start_time": "2023-01-14T06:04:09.476Z"
   },
   {
    "duration": 10,
    "start_time": "2023-01-14T06:06:37.438Z"
   },
   {
    "duration": 10,
    "start_time": "2023-01-14T06:06:57.078Z"
   },
   {
    "duration": 18,
    "start_time": "2023-01-14T06:07:15.069Z"
   },
   {
    "duration": 11,
    "start_time": "2023-01-14T06:07:23.492Z"
   },
   {
    "duration": 13,
    "start_time": "2023-01-14T06:07:42.801Z"
   },
   {
    "duration": 18,
    "start_time": "2023-01-14T06:08:05.079Z"
   },
   {
    "duration": 5,
    "start_time": "2023-01-14T06:08:33.403Z"
   },
   {
    "duration": 5,
    "start_time": "2023-01-14T06:08:46.693Z"
   },
   {
    "duration": 12,
    "start_time": "2023-01-14T06:13:31.890Z"
   },
   {
    "duration": 12,
    "start_time": "2023-01-14T06:13:43.171Z"
   },
   {
    "duration": 16,
    "start_time": "2023-01-14T06:13:59.307Z"
   },
   {
    "duration": 5,
    "start_time": "2023-01-14T06:14:14.289Z"
   },
   {
    "duration": 4,
    "start_time": "2023-01-14T06:14:52.170Z"
   },
   {
    "duration": 14,
    "start_time": "2023-01-14T06:21:09.759Z"
   },
   {
    "duration": 32,
    "start_time": "2023-01-14T06:21:59.280Z"
   },
   {
    "duration": 32,
    "start_time": "2023-01-14T06:22:07.193Z"
   },
   {
    "duration": 13,
    "start_time": "2023-01-14T06:22:19.193Z"
   },
   {
    "duration": 13,
    "start_time": "2023-01-14T06:22:23.897Z"
   },
   {
    "duration": 12,
    "start_time": "2023-01-14T06:23:20.023Z"
   },
   {
    "duration": 9,
    "start_time": "2023-01-14T06:25:12.646Z"
   },
   {
    "duration": 17,
    "start_time": "2023-01-14T06:25:19.538Z"
   },
   {
    "duration": 6,
    "start_time": "2023-01-14T06:26:04.804Z"
   },
   {
    "duration": 50,
    "start_time": "2023-01-14T06:26:24.670Z"
   },
   {
    "duration": 44,
    "start_time": "2023-01-14T06:26:33.369Z"
   },
   {
    "duration": 4,
    "start_time": "2023-01-14T06:28:20.746Z"
   },
   {
    "duration": 12,
    "start_time": "2023-01-14T06:29:01.809Z"
   },
   {
    "duration": 16,
    "start_time": "2023-01-14T06:29:13.313Z"
   },
   {
    "duration": 6,
    "start_time": "2023-01-14T06:30:06.458Z"
   },
   {
    "duration": 4,
    "start_time": "2023-01-14T06:31:58.684Z"
   },
   {
    "duration": 5,
    "start_time": "2023-01-14T06:32:01.856Z"
   },
   {
    "duration": 4,
    "start_time": "2023-01-14T06:32:06.979Z"
   },
   {
    "duration": 13,
    "start_time": "2023-01-14T06:34:25.861Z"
   },
   {
    "duration": 30,
    "start_time": "2023-01-14T06:38:33.362Z"
   },
   {
    "duration": 11,
    "start_time": "2023-01-14T06:38:49.382Z"
   },
   {
    "duration": 65,
    "start_time": "2023-01-14T06:38:58.297Z"
   },
   {
    "duration": 29,
    "start_time": "2023-01-14T06:39:02.972Z"
   },
   {
    "duration": 37,
    "start_time": "2023-01-14T06:39:17.167Z"
   },
   {
    "duration": 30,
    "start_time": "2023-01-14T06:39:24.346Z"
   },
   {
    "duration": 419799,
    "start_time": "2023-01-14T06:39:48.950Z"
   },
   {
    "duration": 8,
    "start_time": "2023-01-14T06:47:01.017Z"
   },
   {
    "duration": 7,
    "start_time": "2023-01-14T06:48:09.064Z"
   },
   {
    "duration": 4,
    "start_time": "2023-01-14T06:49:50.181Z"
   },
   {
    "duration": 11,
    "start_time": "2023-01-14T06:49:56.982Z"
   },
   {
    "duration": 10,
    "start_time": "2023-01-14T06:50:16.396Z"
   },
   {
    "duration": 12,
    "start_time": "2023-01-14T06:50:59.779Z"
   },
   {
    "duration": 88,
    "start_time": "2023-01-14T06:54:09.043Z"
   },
   {
    "duration": 3,
    "start_time": "2023-01-14T06:57:09.216Z"
   },
   {
    "duration": 31,
    "start_time": "2023-01-14T06:57:15.493Z"
   },
   {
    "duration": 30,
    "start_time": "2023-01-14T06:59:10.534Z"
   },
   {
    "duration": 1145,
    "start_time": "2023-01-14T07:08:58.354Z"
   },
   {
    "duration": 528,
    "start_time": "2023-01-14T07:09:06.949Z"
   },
   {
    "duration": 377,
    "start_time": "2023-01-14T07:10:14.868Z"
   },
   {
    "duration": 379,
    "start_time": "2023-01-14T07:10:34.170Z"
   },
   {
    "duration": 380,
    "start_time": "2023-01-14T07:18:38.564Z"
   },
   {
    "duration": 153,
    "start_time": "2023-01-14T07:18:50.882Z"
   },
   {
    "duration": 135,
    "start_time": "2023-01-14T07:22:24.020Z"
   },
   {
    "duration": 410,
    "start_time": "2023-01-14T07:24:37.083Z"
   },
   {
    "duration": 14,
    "start_time": "2023-01-14T07:27:52.183Z"
   },
   {
    "duration": 17,
    "start_time": "2023-01-14T07:28:01.344Z"
   },
   {
    "duration": 473,
    "start_time": "2023-01-14T07:28:05.544Z"
   },
   {
    "duration": 16,
    "start_time": "2023-01-14T07:28:07.449Z"
   },
   {
    "duration": 9,
    "start_time": "2023-01-14T07:36:20.546Z"
   },
   {
    "duration": 740,
    "start_time": "2023-01-14T07:37:19.236Z"
   },
   {
    "duration": 34,
    "start_time": "2023-01-14T07:38:37.898Z"
   },
   {
    "duration": 27,
    "start_time": "2023-01-14T07:38:43.035Z"
   },
   {
    "duration": 19,
    "start_time": "2023-01-14T07:46:36.139Z"
   },
   {
    "duration": 8,
    "start_time": "2023-01-14T07:50:41.556Z"
   },
   {
    "duration": 31,
    "start_time": "2023-01-14T07:57:04.941Z"
   },
   {
    "duration": 30,
    "start_time": "2023-01-14T07:57:23.621Z"
   },
   {
    "duration": 31,
    "start_time": "2023-01-14T07:57:46.590Z"
   },
   {
    "duration": 51,
    "start_time": "2023-01-14T07:58:15.742Z"
   },
   {
    "duration": 83,
    "start_time": "2023-01-14T07:58:28.961Z"
   },
   {
    "duration": 768,
    "start_time": "2023-01-14T07:58:39.574Z"
   },
   {
    "duration": 807,
    "start_time": "2023-01-14T07:59:14.445Z"
   },
   {
    "duration": 856,
    "start_time": "2023-01-14T07:59:21.772Z"
   },
   {
    "duration": 31,
    "start_time": "2023-01-14T07:59:55.545Z"
   },
   {
    "duration": 36,
    "start_time": "2023-01-14T08:00:14.704Z"
   },
   {
    "duration": 967,
    "start_time": "2023-01-14T08:00:36.516Z"
   },
   {
    "duration": 819,
    "start_time": "2023-01-14T08:02:24.949Z"
   },
   {
    "duration": 899,
    "start_time": "2023-01-14T08:03:02.153Z"
   },
   {
    "duration": 781,
    "start_time": "2023-01-14T08:03:33.485Z"
   },
   {
    "duration": 967,
    "start_time": "2023-01-14T08:04:02.443Z"
   },
   {
    "duration": 1030,
    "start_time": "2023-01-14T08:04:13.488Z"
   },
   {
    "duration": 851,
    "start_time": "2023-01-14T08:04:19.423Z"
   },
   {
    "duration": 771,
    "start_time": "2023-01-14T08:04:57.006Z"
   },
   {
    "duration": 1341,
    "start_time": "2023-01-14T08:05:02.401Z"
   },
   {
    "duration": 735,
    "start_time": "2023-01-14T08:05:28.527Z"
   },
   {
    "duration": 837,
    "start_time": "2023-01-14T08:05:51.289Z"
   },
   {
    "duration": 5052,
    "start_time": "2023-01-14T08:06:00.889Z"
   },
   {
    "duration": 765,
    "start_time": "2023-01-14T08:06:13.917Z"
   },
   {
    "duration": 51208,
    "start_time": "2023-01-14T08:06:18.377Z"
   },
   {
    "duration": 1119,
    "start_time": "2023-01-14T08:07:30.300Z"
   },
   {
    "duration": 54,
    "start_time": "2023-01-14T08:12:37.546Z"
   },
   {
    "duration": 32,
    "start_time": "2023-01-14T08:13:46.945Z"
   },
   {
    "duration": 5,
    "start_time": "2023-01-14T08:13:55.319Z"
   },
   {
    "duration": 62,
    "start_time": "2023-01-14T08:15:41.650Z"
   },
   {
    "duration": 31,
    "start_time": "2023-01-14T08:16:05.773Z"
   },
   {
    "duration": 40,
    "start_time": "2023-01-14T08:16:19.218Z"
   },
   {
    "duration": 407,
    "start_time": "2023-01-14T08:17:42.776Z"
   },
   {
    "duration": 59,
    "start_time": "2023-01-14T08:18:41.543Z"
   },
   {
    "duration": 126,
    "start_time": "2023-01-14T08:18:59.556Z"
   },
   {
    "duration": 45,
    "start_time": "2023-01-14T08:19:15.945Z"
   },
   {
    "duration": 504,
    "start_time": "2023-01-14T08:21:02.865Z"
   },
   {
    "duration": 44,
    "start_time": "2023-01-14T08:21:12.744Z"
   },
   {
    "duration": 65,
    "start_time": "2023-01-14T08:21:21.421Z"
   },
   {
    "duration": 30,
    "start_time": "2023-01-14T08:21:30.120Z"
   },
   {
    "duration": 23,
    "start_time": "2023-01-14T08:21:55.783Z"
   },
   {
    "duration": 98,
    "start_time": "2023-01-14T08:22:47.727Z"
   },
   {
    "duration": 715,
    "start_time": "2023-01-14T08:23:12.448Z"
   },
   {
    "duration": 501,
    "start_time": "2023-01-14T08:23:28.949Z"
   },
   {
    "duration": 23,
    "start_time": "2023-01-14T08:23:35.223Z"
   },
   {
    "duration": 802,
    "start_time": "2023-01-14T08:24:07.277Z"
   },
   {
    "duration": 18,
    "start_time": "2023-01-14T08:24:19.102Z"
   },
   {
    "duration": 12,
    "start_time": "2023-01-14T08:24:24.324Z"
   },
   {
    "duration": 16,
    "start_time": "2023-01-14T08:26:24.743Z"
   },
   {
    "duration": 770,
    "start_time": "2023-01-14T08:27:08.597Z"
   },
   {
    "duration": 34,
    "start_time": "2023-01-14T08:27:28.392Z"
   },
   {
    "duration": 26,
    "start_time": "2023-01-14T08:27:56.197Z"
   },
   {
    "duration": 863,
    "start_time": "2023-01-14T08:28:15.743Z"
   },
   {
    "duration": 852,
    "start_time": "2023-01-14T08:28:21.418Z"
   },
   {
    "duration": 830,
    "start_time": "2023-01-14T08:28:57.119Z"
   },
   {
    "duration": 803,
    "start_time": "2023-01-14T08:29:07.397Z"
   },
   {
    "duration": 7,
    "start_time": "2023-01-14T08:29:18.962Z"
   },
   {
    "duration": 17,
    "start_time": "2023-01-14T08:29:37.872Z"
   },
   {
    "duration": 834,
    "start_time": "2023-01-14T08:29:42.743Z"
   },
   {
    "duration": 7,
    "start_time": "2023-01-14T08:29:53.120Z"
   },
   {
    "duration": 9,
    "start_time": "2023-01-14T08:30:23.451Z"
   },
   {
    "duration": 6,
    "start_time": "2023-01-14T08:30:31.951Z"
   },
   {
    "duration": 837,
    "start_time": "2023-01-14T08:30:45.850Z"
   },
   {
    "duration": 824,
    "start_time": "2023-01-14T08:30:51.053Z"
   },
   {
    "duration": 3,
    "start_time": "2023-01-14T08:31:17.814Z"
   },
   {
    "duration": 7,
    "start_time": "2023-01-14T08:31:23.468Z"
   },
   {
    "duration": 6,
    "start_time": "2023-01-14T08:31:40.554Z"
   },
   {
    "duration": 7,
    "start_time": "2023-01-14T08:31:48.345Z"
   },
   {
    "duration": 8248,
    "start_time": "2023-01-14T08:32:29.756Z"
   },
   {
    "duration": 5054,
    "start_time": "2023-01-14T08:33:57.457Z"
   },
   {
    "duration": 25951,
    "start_time": "2023-01-14T08:34:08.065Z"
   },
   {
    "duration": 4171,
    "start_time": "2023-01-14T08:34:51.950Z"
   },
   {
    "duration": 3,
    "start_time": "2023-01-14T08:35:06.063Z"
   },
   {
    "duration": 26,
    "start_time": "2023-01-14T08:35:06.069Z"
   },
   {
    "duration": 13,
    "start_time": "2023-01-14T08:35:06.097Z"
   },
   {
    "duration": 12,
    "start_time": "2023-01-14T08:35:06.113Z"
   },
   {
    "duration": 770,
    "start_time": "2023-01-14T08:35:06.127Z"
   },
   {
    "duration": 7487,
    "start_time": "2023-01-14T08:35:06.898Z"
   },
   {
    "duration": 29,
    "start_time": "2023-01-14T08:35:14.396Z"
   },
   {
    "duration": 38,
    "start_time": "2023-01-14T08:35:14.427Z"
   },
   {
    "duration": 54,
    "start_time": "2023-01-14T08:35:14.467Z"
   },
   {
    "duration": 79,
    "start_time": "2023-01-14T08:35:14.522Z"
   },
   {
    "duration": 32,
    "start_time": "2023-01-14T08:35:14.602Z"
   },
   {
    "duration": 408,
    "start_time": "2023-01-14T08:35:14.635Z"
   },
   {
    "duration": 172,
    "start_time": "2023-01-14T08:35:15.046Z"
   },
   {
    "duration": 394,
    "start_time": "2023-01-14T08:35:15.219Z"
   },
   {
    "duration": 134,
    "start_time": "2023-01-14T08:35:15.615Z"
   },
   {
    "duration": 43,
    "start_time": "2023-01-14T08:35:15.751Z"
   },
   {
    "duration": 520,
    "start_time": "2023-01-14T08:35:15.797Z"
   },
   {
    "duration": 13,
    "start_time": "2023-01-14T08:38:27.500Z"
   },
   {
    "duration": 3435,
    "start_time": "2023-01-14T08:38:27.514Z"
   },
   {
    "duration": 75,
    "start_time": "2023-01-14T08:38:30.951Z"
   },
   {
    "duration": 6,
    "start_time": "2023-01-14T08:38:31.029Z"
   },
   {
    "duration": 135,
    "start_time": "2023-01-14T08:38:31.037Z"
   },
   {
    "duration": 1997,
    "start_time": "2023-01-14T08:38:31.174Z"
   },
   {
    "duration": 5300,
    "start_time": "2023-01-14T08:38:33.173Z"
   },
   {
    "duration": 1816,
    "start_time": "2023-01-14T08:38:38.475Z"
   },
   {
    "duration": 118,
    "start_time": "2023-01-14T08:38:40.295Z"
   },
   {
    "duration": 109,
    "start_time": "2023-01-14T08:38:40.414Z"
   },
   {
    "duration": 104,
    "start_time": "2023-01-14T08:38:40.525Z"
   },
   {
    "duration": 102,
    "start_time": "2023-01-14T08:38:40.631Z"
   },
   {
    "duration": 3,
    "start_time": "2023-01-14T08:38:40.735Z"
   },
   {
    "duration": 93,
    "start_time": "2023-01-14T08:38:40.740Z"
   },
   {
    "duration": 74,
    "start_time": "2023-01-14T08:38:40.835Z"
   },
   {
    "duration": 82,
    "start_time": "2023-01-14T08:38:40.910Z"
   },
   {
    "duration": 4254,
    "start_time": "2023-01-14T08:39:38.267Z"
   },
   {
    "duration": 23,
    "start_time": "2023-01-14T08:40:34.417Z"
   },
   {
    "duration": 10,
    "start_time": "2023-01-14T08:41:24.346Z"
   },
   {
    "duration": 10,
    "start_time": "2023-01-14T08:41:40.830Z"
   },
   {
    "duration": 16,
    "start_time": "2023-01-14T08:43:26.873Z"
   },
   {
    "duration": 24,
    "start_time": "2023-01-14T08:46:12.249Z"
   },
   {
    "duration": 14,
    "start_time": "2023-01-14T08:46:35.001Z"
   },
   {
    "duration": 28,
    "start_time": "2023-01-14T08:46:43.098Z"
   },
   {
    "duration": 49,
    "start_time": "2023-01-14T08:46:54.088Z"
   },
   {
    "duration": 56,
    "start_time": "2023-01-14T08:47:01.163Z"
   },
   {
    "duration": 21,
    "start_time": "2023-01-14T08:47:50.421Z"
   },
   {
    "duration": 112,
    "start_time": "2023-01-14T08:49:57.401Z"
   },
   {
    "duration": 3,
    "start_time": "2023-01-14T08:50:15.698Z"
   },
   {
    "duration": 12,
    "start_time": "2023-01-14T08:50:15.703Z"
   },
   {
    "duration": 8,
    "start_time": "2023-01-14T08:50:15.716Z"
   },
   {
    "duration": 13,
    "start_time": "2023-01-14T08:50:15.726Z"
   },
   {
    "duration": 859,
    "start_time": "2023-01-14T08:50:15.741Z"
   },
   {
    "duration": 7235,
    "start_time": "2023-01-14T08:50:16.602Z"
   },
   {
    "duration": 48,
    "start_time": "2023-01-14T08:50:23.839Z"
   },
   {
    "duration": 38,
    "start_time": "2023-01-14T08:50:23.891Z"
   },
   {
    "duration": 74,
    "start_time": "2023-01-14T08:50:23.931Z"
   },
   {
    "duration": 58,
    "start_time": "2023-01-14T08:50:24.008Z"
   },
   {
    "duration": 44,
    "start_time": "2023-01-14T08:50:24.078Z"
   },
   {
    "duration": 402,
    "start_time": "2023-01-14T08:50:24.124Z"
   },
   {
    "duration": 142,
    "start_time": "2023-01-14T08:50:24.527Z"
   },
   {
    "duration": 363,
    "start_time": "2023-01-14T08:50:24.679Z"
   },
   {
    "duration": 386,
    "start_time": "2023-01-14T08:50:25.044Z"
   },
   {
    "duration": 24,
    "start_time": "2023-01-14T08:50:25.432Z"
   },
   {
    "duration": 534,
    "start_time": "2023-01-14T08:50:25.458Z"
   },
   {
    "duration": 17,
    "start_time": "2023-01-14T08:50:25.994Z"
   },
   {
    "duration": 3336,
    "start_time": "2023-01-14T08:50:26.013Z"
   },
   {
    "duration": 69,
    "start_time": "2023-01-14T08:50:29.351Z"
   },
   {
    "duration": 6,
    "start_time": "2023-01-14T08:50:29.422Z"
   },
   {
    "duration": 128,
    "start_time": "2023-01-14T08:50:29.430Z"
   },
   {
    "duration": 2047,
    "start_time": "2023-01-14T08:50:29.561Z"
   },
   {
    "duration": 1855,
    "start_time": "2023-01-14T08:50:31.611Z"
   },
   {
    "duration": 1847,
    "start_time": "2023-01-14T08:50:33.468Z"
   },
   {
    "duration": 111,
    "start_time": "2023-01-14T08:50:35.317Z"
   },
   {
    "duration": 108,
    "start_time": "2023-01-14T08:50:35.430Z"
   },
   {
    "duration": 113,
    "start_time": "2023-01-14T08:50:35.539Z"
   },
   {
    "duration": 110,
    "start_time": "2023-01-14T08:50:35.654Z"
   },
   {
    "duration": 5,
    "start_time": "2023-01-14T08:50:35.765Z"
   },
   {
    "duration": 100,
    "start_time": "2023-01-14T08:50:35.773Z"
   },
   {
    "duration": 90,
    "start_time": "2023-01-14T08:50:35.875Z"
   },
   {
    "duration": 95,
    "start_time": "2023-01-14T08:50:35.967Z"
   },
   {
    "duration": 111,
    "start_time": "2023-01-14T08:51:37.900Z"
   },
   {
    "duration": 131,
    "start_time": "2023-01-14T08:52:58.321Z"
   },
   {
    "duration": 822,
    "start_time": "2023-01-14T08:53:15.374Z"
   },
   {
    "duration": 583,
    "start_time": "2023-01-14T08:53:25.376Z"
   },
   {
    "duration": 18,
    "start_time": "2023-01-14T08:53:28.617Z"
   },
   {
    "duration": 52,
    "start_time": "2023-01-14T08:53:49.979Z"
   },
   {
    "duration": 20,
    "start_time": "2023-01-14T08:55:24.526Z"
   },
   {
    "duration": 29,
    "start_time": "2023-01-14T08:55:34.775Z"
   },
   {
    "duration": 21,
    "start_time": "2023-01-14T08:55:44.643Z"
   },
   {
    "duration": 21,
    "start_time": "2023-01-14T08:56:21.447Z"
   },
   {
    "duration": 27,
    "start_time": "2023-01-14T08:56:38.524Z"
   },
   {
    "duration": 106,
    "start_time": "2023-01-14T08:57:56.260Z"
   },
   {
    "duration": 3,
    "start_time": "2023-01-14T08:58:55.646Z"
   },
   {
    "duration": 2,
    "start_time": "2023-01-14T08:58:55.657Z"
   },
   {
    "duration": 5,
    "start_time": "2023-01-14T08:58:55.661Z"
   },
   {
    "duration": 9,
    "start_time": "2023-01-14T08:58:55.668Z"
   },
   {
    "duration": 820,
    "start_time": "2023-01-14T08:58:55.678Z"
   },
   {
    "duration": 7228,
    "start_time": "2023-01-14T08:58:56.500Z"
   },
   {
    "duration": 56,
    "start_time": "2023-01-14T08:59:03.730Z"
   },
   {
    "duration": 38,
    "start_time": "2023-01-14T08:59:03.788Z"
   },
   {
    "duration": 73,
    "start_time": "2023-01-14T08:59:03.828Z"
   },
   {
    "duration": 56,
    "start_time": "2023-01-14T08:59:03.903Z"
   },
   {
    "duration": 53,
    "start_time": "2023-01-14T08:59:03.961Z"
   },
   {
    "duration": 420,
    "start_time": "2023-01-14T08:59:04.016Z"
   },
   {
    "duration": 152,
    "start_time": "2023-01-14T08:59:04.437Z"
   },
   {
    "duration": 382,
    "start_time": "2023-01-14T08:59:04.591Z"
   },
   {
    "duration": 172,
    "start_time": "2023-01-14T08:59:04.977Z"
   },
   {
    "duration": 143,
    "start_time": "2023-01-14T08:59:05.152Z"
   },
   {
    "duration": 484,
    "start_time": "2023-01-14T08:59:05.297Z"
   },
   {
    "duration": 22,
    "start_time": "2023-01-14T08:59:05.786Z"
   },
   {
    "duration": 2844,
    "start_time": "2023-01-14T08:59:05.809Z"
   },
   {
    "duration": 56,
    "start_time": "2023-01-14T08:59:08.655Z"
   },
   {
    "duration": 99,
    "start_time": "2023-01-14T08:59:08.713Z"
   },
   {
    "duration": 2223,
    "start_time": "2023-01-14T08:59:08.814Z"
   },
   {
    "duration": 2295,
    "start_time": "2023-01-14T08:59:11.040Z"
   },
   {
    "duration": 2299,
    "start_time": "2023-01-14T08:59:13.338Z"
   },
   {
    "duration": 96,
    "start_time": "2023-01-14T08:59:15.639Z"
   },
   {
    "duration": 113,
    "start_time": "2023-01-14T08:59:15.736Z"
   },
   {
    "duration": 105,
    "start_time": "2023-01-14T08:59:15.851Z"
   },
   {
    "duration": 104,
    "start_time": "2023-01-14T08:59:15.958Z"
   },
   {
    "duration": 5,
    "start_time": "2023-01-14T08:59:16.064Z"
   },
   {
    "duration": 120,
    "start_time": "2023-01-14T08:59:16.071Z"
   },
   {
    "duration": 82,
    "start_time": "2023-01-14T08:59:16.192Z"
   },
   {
    "duration": 71,
    "start_time": "2023-01-14T08:59:16.275Z"
   },
   {
    "duration": 14,
    "start_time": "2023-01-14T09:02:15.641Z"
   },
   {
    "duration": 14,
    "start_time": "2023-01-14T09:02:35.446Z"
   },
   {
    "duration": 817,
    "start_time": "2023-01-14T09:04:34.745Z"
   },
   {
    "duration": 525,
    "start_time": "2023-01-14T09:04:54.467Z"
   },
   {
    "duration": 22,
    "start_time": "2023-01-14T09:05:01.541Z"
   },
   {
    "duration": 6,
    "start_time": "2023-01-14T09:07:36.370Z"
   },
   {
    "duration": 5,
    "start_time": "2023-01-14T09:07:45.939Z"
   },
   {
    "duration": 5,
    "start_time": "2023-01-14T09:10:16.401Z"
   },
   {
    "duration": 42,
    "start_time": "2023-01-14T09:11:08.719Z"
   },
   {
    "duration": 18,
    "start_time": "2023-01-14T09:11:35.660Z"
   },
   {
    "duration": 847,
    "start_time": "2023-01-14T09:13:30.143Z"
   },
   {
    "duration": 585,
    "start_time": "2023-01-14T09:13:37.847Z"
   },
   {
    "duration": 20,
    "start_time": "2023-01-14T09:13:41.169Z"
   },
   {
    "duration": 111,
    "start_time": "2023-01-14T09:13:57.509Z"
   },
   {
    "duration": 56,
    "start_time": "2023-01-14T09:14:16.440Z"
   },
   {
    "duration": 104,
    "start_time": "2023-01-14T09:14:22.436Z"
   },
   {
    "duration": 11,
    "start_time": "2023-01-14T09:15:03.519Z"
   },
   {
    "duration": 10,
    "start_time": "2023-01-14T09:15:06.499Z"
   },
   {
    "duration": 11,
    "start_time": "2023-01-14T09:15:10.850Z"
   },
   {
    "duration": 5,
    "start_time": "2023-01-14T09:15:36.933Z"
   },
   {
    "duration": 59,
    "start_time": "2023-01-14T09:17:05.198Z"
   },
   {
    "duration": 20,
    "start_time": "2023-01-14T09:17:13.364Z"
   },
   {
    "duration": 398,
    "start_time": "2023-01-14T09:17:15.314Z"
   },
   {
    "duration": 7,
    "start_time": "2023-01-14T09:17:23.597Z"
   },
   {
    "duration": 63,
    "start_time": "2023-01-14T09:18:35.463Z"
   },
   {
    "duration": 418,
    "start_time": "2023-01-14T09:18:44.832Z"
   },
   {
    "duration": 84736,
    "start_time": "2023-01-14T09:21:52.441Z"
   },
   {
    "duration": 15362,
    "start_time": "2023-01-14T09:23:47.251Z"
   },
   {
    "duration": 398188,
    "start_time": "2023-01-14T09:24:11.963Z"
   },
   {
    "duration": 66348,
    "start_time": "2023-01-14T09:30:53.234Z"
   },
   {
    "duration": 2159,
    "start_time": "2023-01-14T09:34:39.292Z"
   },
   {
    "duration": 2039,
    "start_time": "2023-01-14T09:35:11.453Z"
   },
   {
    "duration": 398495,
    "start_time": "2023-01-14T09:36:54.660Z"
   },
   {
    "duration": 51,
    "start_time": "2023-01-14T09:44:14.695Z"
   },
   {
    "duration": 131315,
    "start_time": "2023-01-14T09:44:31.240Z"
   },
   {
    "duration": 19,
    "start_time": "2023-01-14T09:46:56.674Z"
   },
   {
    "duration": 24521,
    "start_time": "2023-01-14T09:47:06.456Z"
   },
   {
    "duration": 87634,
    "start_time": "2023-01-14T09:47:58.498Z"
   },
   {
    "duration": 3208,
    "start_time": "2023-01-14T09:50:01.743Z"
   },
   {
    "duration": 486253,
    "start_time": "2023-01-14T09:50:22.700Z"
   },
   {
    "duration": 7515,
    "start_time": "2023-01-14T09:58:47.636Z"
   },
   {
    "duration": 53567,
    "start_time": "2023-01-14T09:58:58.992Z"
   },
   {
    "duration": 1754,
    "start_time": "2023-01-14T09:59:55.542Z"
   },
   {
    "duration": 99724,
    "start_time": "2023-01-14T10:00:49.294Z"
   },
   {
    "duration": 78,
    "start_time": "2023-01-14T10:04:05.162Z"
   },
   {
    "duration": 103,
    "start_time": "2023-01-14T10:05:14.550Z"
   },
   {
    "duration": 13172,
    "start_time": "2023-01-14T10:05:41.553Z"
   },
   {
    "duration": 19694,
    "start_time": "2023-01-14T10:06:10.611Z"
   },
   {
    "duration": 27,
    "start_time": "2023-01-14T10:07:15.739Z"
   },
   {
    "duration": 38,
    "start_time": "2023-01-14T10:07:32.297Z"
   },
   {
    "duration": 18715,
    "start_time": "2023-01-14T10:07:43.499Z"
   },
   {
    "duration": 1011,
    "start_time": "2023-01-14T10:08:12.996Z"
   },
   {
    "duration": 16211,
    "start_time": "2023-01-14T10:08:39.778Z"
   },
   {
    "duration": 70,
    "start_time": "2023-01-14T10:09:10.420Z"
   },
   {
    "duration": 5,
    "start_time": "2023-01-14T10:09:16.269Z"
   },
   {
    "duration": 6,
    "start_time": "2023-01-14T10:09:24.904Z"
   },
   {
    "duration": 5,
    "start_time": "2023-01-14T10:09:53.248Z"
   },
   {
    "duration": 8259,
    "start_time": "2023-01-14T10:09:59.195Z"
   },
   {
    "duration": 6,
    "start_time": "2023-01-14T10:11:39.936Z"
   },
   {
    "duration": 6,
    "start_time": "2023-01-14T10:11:52.739Z"
   },
   {
    "duration": 211,
    "start_time": "2023-01-14T10:14:03.651Z"
   },
   {
    "duration": 14,
    "start_time": "2023-01-14T10:14:24.669Z"
   },
   {
    "duration": 75,
    "start_time": "2023-01-14T10:17:57.136Z"
   },
   {
    "duration": 81,
    "start_time": "2023-01-14T10:19:14.668Z"
   },
   {
    "duration": 85,
    "start_time": "2023-01-14T10:19:58.244Z"
   },
   {
    "duration": 85,
    "start_time": "2023-01-14T10:20:24.272Z"
   },
   {
    "duration": 208,
    "start_time": "2023-01-14T10:21:17.040Z"
   },
   {
    "duration": 27,
    "start_time": "2023-01-14T10:24:05.109Z"
   },
   {
    "duration": 132,
    "start_time": "2023-01-14T10:24:16.906Z"
   },
   {
    "duration": 8,
    "start_time": "2023-01-14T10:24:46.114Z"
   },
   {
    "duration": 20,
    "start_time": "2023-01-14T10:24:55.305Z"
   },
   {
    "duration": 7,
    "start_time": "2023-01-14T10:25:09.622Z"
   },
   {
    "duration": 11,
    "start_time": "2023-01-14T10:25:46.863Z"
   },
   {
    "duration": 5,
    "start_time": "2023-01-14T10:26:27.971Z"
   },
   {
    "duration": 244,
    "start_time": "2023-01-14T10:26:35.711Z"
   },
   {
    "duration": 97732,
    "start_time": "2023-01-14T10:30:53.559Z"
   },
   {
    "duration": 865,
    "start_time": "2023-01-14T10:33:09.732Z"
   },
   {
    "duration": 3016,
    "start_time": "2023-01-14T10:33:32.651Z"
   },
   {
    "duration": 79190,
    "start_time": "2023-01-14T10:33:53.472Z"
   },
   {
    "duration": 5,
    "start_time": "2023-01-14T10:35:17.333Z"
   },
   {
    "duration": 79,
    "start_time": "2023-01-14T10:35:18.713Z"
   },
   {
    "duration": 80,
    "start_time": "2023-01-14T10:35:33.667Z"
   },
   {
    "duration": 65,
    "start_time": "2023-01-14T10:35:52.053Z"
   },
   {
    "duration": 66,
    "start_time": "2023-01-14T10:36:07.392Z"
   },
   {
    "duration": 57,
    "start_time": "2023-01-14T10:36:44.290Z"
   },
   {
    "duration": 60,
    "start_time": "2023-01-14T10:36:49.757Z"
   },
   {
    "duration": 62,
    "start_time": "2023-01-14T10:37:18.899Z"
   },
   {
    "duration": 78,
    "start_time": "2023-01-14T10:37:44.944Z"
   },
   {
    "duration": 3,
    "start_time": "2023-01-14T10:38:33.406Z"
   },
   {
    "duration": 29782,
    "start_time": "2023-01-14T10:38:36.556Z"
   },
   {
    "duration": 57436,
    "start_time": "2023-01-14T10:39:26.753Z"
   },
   {
    "duration": 136384,
    "start_time": "2023-01-14T10:40:44.572Z"
   },
   {
    "duration": 17,
    "start_time": "2023-01-14T10:43:58.876Z"
   },
   {
    "duration": 19,
    "start_time": "2023-01-14T10:45:02.213Z"
   },
   {
    "duration": 13,
    "start_time": "2023-01-14T10:45:52.517Z"
   },
   {
    "duration": 16,
    "start_time": "2023-01-14T10:46:19.627Z"
   },
   {
    "duration": 17,
    "start_time": "2023-01-14T10:46:44.435Z"
   },
   {
    "duration": 14,
    "start_time": "2023-01-14T10:47:05.145Z"
   },
   {
    "duration": 18,
    "start_time": "2023-01-14T10:47:45.599Z"
   },
   {
    "duration": 674332,
    "start_time": "2023-01-14T10:50:06.074Z"
   },
   {
    "duration": 0,
    "start_time": "2023-01-14T11:01:20.408Z"
   },
   {
    "duration": 235907,
    "start_time": "2023-01-14T11:02:10.897Z"
   },
   {
    "duration": 16,
    "start_time": "2023-01-14T11:07:51.348Z"
   },
   {
    "duration": 201460,
    "start_time": "2023-01-14T11:07:59.835Z"
   },
   {
    "duration": 3612,
    "start_time": "2023-01-14T11:11:41.521Z"
   },
   {
    "duration": 348105,
    "start_time": "2023-01-14T11:11:53.969Z"
   },
   {
    "duration": 10,
    "start_time": "2023-01-14T11:18:59.943Z"
   },
   {
    "duration": 4,
    "start_time": "2023-01-14T11:19:12.866Z"
   },
   {
    "duration": 229261,
    "start_time": "2023-01-14T11:21:38.425Z"
   },
   {
    "duration": 346,
    "start_time": "2023-01-14T11:31:03.249Z"
   },
   {
    "duration": 203260,
    "start_time": "2023-01-14T11:32:16.546Z"
   },
   {
    "duration": 527022,
    "start_time": "2023-01-14T11:43:26.171Z"
   },
   {
    "duration": 5220,
    "start_time": "2023-01-14T11:54:32.067Z"
   },
   {
    "duration": 3705,
    "start_time": "2023-01-14T11:59:42.992Z"
   },
   {
    "duration": 3,
    "start_time": "2023-01-14T12:02:47.643Z"
   },
   {
    "duration": 1065,
    "start_time": "2023-01-14T12:02:47.648Z"
   },
   {
    "duration": 630,
    "start_time": "2023-01-14T12:02:48.715Z"
   },
   {
    "duration": 6,
    "start_time": "2023-01-14T12:02:49.348Z"
   },
   {
    "duration": 1089,
    "start_time": "2023-01-14T12:02:49.355Z"
   },
   {
    "duration": 6420,
    "start_time": "2023-01-14T12:02:50.445Z"
   },
   {
    "duration": 37,
    "start_time": "2023-01-14T12:02:56.867Z"
   },
   {
    "duration": 33,
    "start_time": "2023-01-14T12:02:56.906Z"
   },
   {
    "duration": 59,
    "start_time": "2023-01-14T12:02:56.941Z"
   },
   {
    "duration": 48,
    "start_time": "2023-01-14T12:02:57.002Z"
   },
   {
    "duration": 46,
    "start_time": "2023-01-14T12:02:57.052Z"
   },
   {
    "duration": 391,
    "start_time": "2023-01-14T12:02:57.100Z"
   },
   {
    "duration": 136,
    "start_time": "2023-01-14T12:02:57.493Z"
   },
   {
    "duration": 350,
    "start_time": "2023-01-14T12:02:57.631Z"
   },
   {
    "duration": 138,
    "start_time": "2023-01-14T12:02:57.983Z"
   },
   {
    "duration": 125,
    "start_time": "2023-01-14T12:02:58.122Z"
   },
   {
    "duration": 507,
    "start_time": "2023-01-14T12:02:58.249Z"
   },
   {
    "duration": 12,
    "start_time": "2023-01-14T12:02:58.758Z"
   },
   {
    "duration": 5,
    "start_time": "2023-01-14T12:02:58.777Z"
   },
   {
    "duration": 58,
    "start_time": "2023-01-14T12:02:58.783Z"
   },
   {
    "duration": 42,
    "start_time": "2023-01-14T12:02:58.843Z"
   },
   {
    "duration": 393,
    "start_time": "2023-01-14T12:02:58.887Z"
   },
   {
    "duration": 88373,
    "start_time": "2023-01-14T12:02:59.282Z"
   },
   {
    "duration": 2665,
    "start_time": "2023-01-14T12:04:27.659Z"
   },
   {
    "duration": 1072257,
    "start_time": "2023-01-14T12:04:30.326Z"
   },
   {
    "duration": 5203,
    "start_time": "2023-01-14T12:22:22.585Z"
   },
   {
    "duration": 15388,
    "start_time": "2023-01-14T12:22:27.789Z"
   },
   {
    "duration": 3220,
    "start_time": "2023-01-14T12:22:43.179Z"
   },
   {
    "duration": 5076,
    "start_time": "2023-01-14T12:22:46.401Z"
   },
   {
    "duration": 91204,
    "start_time": "2023-01-14T12:22:51.480Z"
   },
   {
    "duration": 5,
    "start_time": "2023-01-14T12:24:22.686Z"
   },
   {
    "duration": 1586,
    "start_time": "2023-01-14T12:24:22.692Z"
   },
   {
    "duration": 56,
    "start_time": "2023-01-14T18:15:15.998Z"
   },
   {
    "duration": 870,
    "start_time": "2023-01-14T18:17:15.037Z"
   },
   {
    "duration": 653,
    "start_time": "2023-01-14T18:17:17.585Z"
   },
   {
    "duration": 7,
    "start_time": "2023-01-14T18:17:20.678Z"
   },
   {
    "duration": 2852,
    "start_time": "2023-01-14T18:17:23.439Z"
   },
   {
    "duration": 29,
    "start_time": "2023-01-14T18:20:28.689Z"
   },
   {
    "duration": 9,
    "start_time": "2023-01-14T18:20:50.561Z"
   },
   {
    "duration": 8,
    "start_time": "2023-01-14T18:20:56.416Z"
   },
   {
    "duration": 9,
    "start_time": "2023-01-14T18:21:14.711Z"
   },
   {
    "duration": 90,
    "start_time": "2023-01-14T18:21:20.348Z"
   },
   {
    "duration": 8,
    "start_time": "2023-01-14T18:21:26.688Z"
   },
   {
    "duration": 8,
    "start_time": "2023-01-14T18:21:35.396Z"
   },
   {
    "duration": 8,
    "start_time": "2023-01-14T18:21:38.550Z"
   },
   {
    "duration": 9,
    "start_time": "2023-01-14T18:21:42.823Z"
   },
   {
    "duration": 20,
    "start_time": "2023-01-14T18:21:59.908Z"
   },
   {
    "duration": 8,
    "start_time": "2023-01-14T18:22:10.332Z"
   },
   {
    "duration": 9,
    "start_time": "2023-01-14T18:22:23.429Z"
   },
   {
    "duration": 524,
    "start_time": "2023-01-14T18:23:30.768Z"
   },
   {
    "duration": 41,
    "start_time": "2023-01-14T18:24:08.122Z"
   },
   {
    "duration": 14,
    "start_time": "2023-01-14T18:24:41.051Z"
   },
   {
    "duration": 13,
    "start_time": "2023-01-14T18:25:05.505Z"
   },
   {
    "duration": 17,
    "start_time": "2023-01-14T18:25:26.931Z"
   },
   {
    "duration": 18,
    "start_time": "2023-01-14T18:25:37.569Z"
   },
   {
    "duration": 18,
    "start_time": "2023-01-14T18:25:47.434Z"
   },
   {
    "duration": 27,
    "start_time": "2023-01-14T18:26:16.038Z"
   },
   {
    "duration": 17,
    "start_time": "2023-01-14T18:26:38.587Z"
   },
   {
    "duration": 151,
    "start_time": "2023-01-14T18:32:49.012Z"
   },
   {
    "duration": 38,
    "start_time": "2023-01-14T18:33:11.774Z"
   },
   {
    "duration": 138,
    "start_time": "2023-01-14T18:33:21.942Z"
   },
   {
    "duration": 5,
    "start_time": "2023-01-14T18:33:29.798Z"
   },
   {
    "duration": 438,
    "start_time": "2023-01-14T18:34:08.896Z"
   },
   {
    "duration": 3,
    "start_time": "2023-01-14T18:35:59.661Z"
   },
   {
    "duration": 30,
    "start_time": "2023-01-14T18:35:59.665Z"
   },
   {
    "duration": 14,
    "start_time": "2023-01-14T18:35:59.697Z"
   },
   {
    "duration": 11,
    "start_time": "2023-01-14T18:35:59.713Z"
   },
   {
    "duration": 805,
    "start_time": "2023-01-14T18:35:59.726Z"
   },
   {
    "duration": 6168,
    "start_time": "2023-01-14T18:36:00.533Z"
   },
   {
    "duration": 110,
    "start_time": "2023-01-14T18:36:06.702Z"
   },
   {
    "duration": 28,
    "start_time": "2023-01-14T18:36:06.814Z"
   },
   {
    "duration": 59,
    "start_time": "2023-01-14T18:36:06.844Z"
   },
   {
    "duration": 54,
    "start_time": "2023-01-14T18:36:06.904Z"
   },
   {
    "duration": 41,
    "start_time": "2023-01-14T18:36:06.960Z"
   },
   {
    "duration": 366,
    "start_time": "2023-01-14T18:36:07.003Z"
   },
   {
    "duration": 130,
    "start_time": "2023-01-14T18:36:07.371Z"
   },
   {
    "duration": 328,
    "start_time": "2023-01-14T18:36:07.503Z"
   },
   {
    "duration": 123,
    "start_time": "2023-01-14T18:36:07.833Z"
   },
   {
    "duration": 106,
    "start_time": "2023-01-14T18:36:07.958Z"
   },
   {
    "duration": 472,
    "start_time": "2023-01-14T18:36:08.066Z"
   },
   {
    "duration": 13,
    "start_time": "2023-01-14T18:36:08.539Z"
   },
   {
    "duration": 5,
    "start_time": "2023-01-14T18:36:08.553Z"
   },
   {
    "duration": 44,
    "start_time": "2023-01-14T18:36:08.559Z"
   },
   {
    "duration": 9,
    "start_time": "2023-01-14T18:36:08.604Z"
   },
   {
    "duration": 65,
    "start_time": "2023-01-14T18:36:08.614Z"
   },
   {
    "duration": 437,
    "start_time": "2023-01-14T18:36:08.681Z"
   },
   {
    "duration": 82597,
    "start_time": "2023-01-14T18:36:09.120Z"
   },
   {
    "duration": 2202,
    "start_time": "2023-01-14T18:37:31.718Z"
   },
   {
    "duration": 3,
    "start_time": "2023-01-14T18:37:33.922Z"
   },
   {
    "duration": 4753,
    "start_time": "2023-01-14T18:37:33.928Z"
   },
   {
    "duration": 12803,
    "start_time": "2023-01-14T18:37:38.683Z"
   },
   {
    "duration": 1892,
    "start_time": "2023-01-14T18:37:51.487Z"
   },
   {
    "duration": 3303,
    "start_time": "2023-01-14T18:37:53.383Z"
   },
   {
    "duration": 85699,
    "start_time": "2023-01-14T18:37:56.687Z"
   },
   {
    "duration": 4,
    "start_time": "2023-01-14T18:39:22.388Z"
   },
   {
    "duration": 1394,
    "start_time": "2023-01-14T18:39:22.393Z"
   },
   {
    "duration": 50,
    "start_time": "2023-01-15T05:14:26.855Z"
   },
   {
    "duration": 4,
    "start_time": "2023-01-15T05:14:37.236Z"
   },
   {
    "duration": 1109,
    "start_time": "2023-01-15T05:14:37.242Z"
   },
   {
    "duration": 704,
    "start_time": "2023-01-15T05:14:38.353Z"
   },
   {
    "duration": 6,
    "start_time": "2023-01-15T05:14:39.059Z"
   },
   {
    "duration": 3070,
    "start_time": "2023-01-15T05:14:39.067Z"
   },
   {
    "duration": 6546,
    "start_time": "2023-01-15T05:14:42.139Z"
   },
   {
    "duration": 30,
    "start_time": "2023-01-15T05:14:48.687Z"
   },
   {
    "duration": 47,
    "start_time": "2023-01-15T05:14:48.719Z"
   },
   {
    "duration": 47,
    "start_time": "2023-01-15T05:14:48.768Z"
   },
   {
    "duration": 71,
    "start_time": "2023-01-15T05:14:48.818Z"
   },
   {
    "duration": 29,
    "start_time": "2023-01-15T05:14:48.891Z"
   },
   {
    "duration": 455,
    "start_time": "2023-01-15T05:14:48.922Z"
   },
   {
    "duration": 142,
    "start_time": "2023-01-15T05:14:49.379Z"
   },
   {
    "duration": 395,
    "start_time": "2023-01-15T05:14:49.522Z"
   },
   {
    "duration": 138,
    "start_time": "2023-01-15T05:14:49.919Z"
   },
   {
    "duration": 126,
    "start_time": "2023-01-15T05:14:50.059Z"
   },
   {
    "duration": 508,
    "start_time": "2023-01-15T05:14:50.187Z"
   },
   {
    "duration": 14,
    "start_time": "2023-01-15T05:14:50.697Z"
   },
   {
    "duration": 47,
    "start_time": "2023-01-15T05:14:50.712Z"
   },
   {
    "duration": 60,
    "start_time": "2023-01-15T05:14:50.761Z"
   },
   {
    "duration": 9,
    "start_time": "2023-01-15T05:14:50.823Z"
   },
   {
    "duration": 55,
    "start_time": "2023-01-15T05:14:50.834Z"
   },
   {
    "duration": 359,
    "start_time": "2023-01-15T05:14:50.891Z"
   },
   {
    "duration": 0,
    "start_time": "2023-01-15T05:14:51.252Z"
   },
   {
    "duration": 0,
    "start_time": "2023-01-15T05:14:51.253Z"
   },
   {
    "duration": 0,
    "start_time": "2023-01-15T05:14:51.254Z"
   },
   {
    "duration": 0,
    "start_time": "2023-01-15T05:14:51.255Z"
   },
   {
    "duration": 0,
    "start_time": "2023-01-15T05:14:51.256Z"
   },
   {
    "duration": 0,
    "start_time": "2023-01-15T05:14:51.257Z"
   },
   {
    "duration": 0,
    "start_time": "2023-01-15T05:14:51.258Z"
   },
   {
    "duration": 0,
    "start_time": "2023-01-15T05:14:51.259Z"
   },
   {
    "duration": 0,
    "start_time": "2023-01-15T05:14:51.260Z"
   },
   {
    "duration": 0,
    "start_time": "2023-01-15T05:14:51.261Z"
   },
   {
    "duration": 242,
    "start_time": "2023-01-15T05:16:01.062Z"
   },
   {
    "duration": 402,
    "start_time": "2023-01-15T05:17:03.343Z"
   },
   {
    "duration": 355,
    "start_time": "2023-01-15T05:17:23.007Z"
   },
   {
    "duration": 404,
    "start_time": "2023-01-15T05:17:35.714Z"
   },
   {
    "duration": 401,
    "start_time": "2023-01-15T05:21:51.374Z"
   },
   {
    "duration": 366,
    "start_time": "2023-01-15T05:22:43.573Z"
   },
   {
    "duration": 112,
    "start_time": "2023-01-15T05:23:39.149Z"
   },
   {
    "duration": 360,
    "start_time": "2023-01-15T05:24:21.480Z"
   },
   {
    "duration": 399,
    "start_time": "2023-01-15T05:24:24.018Z"
   },
   {
    "duration": 412,
    "start_time": "2023-01-15T05:25:25.804Z"
   },
   {
    "duration": 487,
    "start_time": "2023-01-15T05:25:31.631Z"
   },
   {
    "duration": 491,
    "start_time": "2023-01-15T05:25:43.074Z"
   }
  ],
  "kernelspec": {
   "display_name": "Python 3 (ipykernel)",
   "language": "python",
   "name": "python3"
  },
  "language_info": {
   "codemirror_mode": {
    "name": "ipython",
    "version": 3
   },
   "file_extension": ".py",
   "mimetype": "text/x-python",
   "name": "python",
   "nbconvert_exporter": "python",
   "pygments_lexer": "ipython3",
   "version": "3.9.13"
  },
  "toc": {
   "base_numbering": 1,
   "nav_menu": {},
   "number_sections": true,
   "sideBar": true,
   "skip_h1_title": true,
   "title_cell": "Table of Contents",
   "title_sidebar": "Contents",
   "toc_cell": false,
   "toc_position": {},
   "toc_section_display": true,
   "toc_window_display": false
  }
 },
 "nbformat": 4,
 "nbformat_minor": 2
}
