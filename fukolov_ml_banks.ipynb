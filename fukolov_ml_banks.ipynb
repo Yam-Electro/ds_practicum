{
 "cells": [
  {
   "cell_type": "markdown",
   "id": "fd099ec5",
   "metadata": {},
   "source": [
    "<div class=\"alert alert-block alert-info\">\n",
    "<b>V2 Комментарий ревьюера:</b>\n",
    "\n",
    "Спасибо за качественную работу)\n",
    "</div>"
   ]
  },
  {
   "cell_type": "markdown",
   "id": "af6fc2e2",
   "metadata": {},
   "source": [
    "Привет, Станислав!)\n",
    "<br> Меня зовут Дуолан 👋 Буду проверять твой проект. Давай вместе доведем его до идеала 😉\n",
    "<br> Дальнейшее общение будет происходить на «ты», если это не вызывает никаких проблем.\n",
    "<br> Желательно реагировать на каждый мой комментарий («исправил», «не понятно как исправить ошибку», ...)\n",
    "<br> Пожалуйста, не удаляй мои комментарии, они будут необходимы для повторного ревью.\n",
    "\n",
    "Комментарии будут в <font color='green'>зеленой</font>, <font color='blue'>синей</font> или <font color='red'>красной</font> рамках:\n",
    "\n",
    "<div class=\"alert alert-block alert-success\">\n",
    "<b>✔️ Успех:</b> Если все сделано отлично\n",
    "</div>\n",
    "\n",
    "<div class=\"alert alert-block alert-warning\">\n",
    "<b>⚠️ Совет:</b> Если можно немного улучшить\n",
    "</div>\n",
    "\n",
    "<div class=\"alert alert-block alert-danger\">\n",
    "<b>❌ Замечание:</b> Если требуются исправления\n",
    "</div>\n",
    "\n",
    "Работа не может быть принята с красными комментариями.\n",
    "\n",
    "-------------------\n",
    "\n",
    "Будет очень хорошо, если ты будешь помечать свои действия следующим образом:\n",
    "\n",
    "<div class=\"alert alert-block alert-info\">\n",
    "<b>Комментарий студента:</b> ...\n",
    "</div>\n",
    "\n",
    "<div class=\"alert alert-block alert-info\">\n",
    "<b>Изменения:</b> Были внесены следующие изменения ...\n",
    "</div>"
   ]
  },
  {
   "cell_type": "markdown",
   "id": "0344e3cc",
   "metadata": {},
   "source": [
    "### Описание проекта\n",
    "- Из «Бета-Банка» стали уходить клиенты. Каждый месяц. Немного, но заметно. Банковские маркетологи посчитали: сохранять текущих клиентов дешевле, чем привлекать новых.\n",
    "- Нужно спрогнозировать, уйдёт клиент из банка в ближайшее время или нет. Нам предоставлены исторические данные о поведении клиентов и расторжении договоров с банком.\n",
    "- Построим модель с предельно большим значением F1-меры. Чтобы сдать проект успешно, нужно довести метрику до 0.59. Проверим F1-меру на тестовой выборке самостоятельно.\n",
    "- Дополнительно измерим AUC-ROC, сравнив её значение с F1-мерой.\n",
    "\n",
    "### Инструкция по выполнению проекта\n",
    "- 1 Загрузим и подготовим данные. Поясним порядок действий.\n",
    "- 2 Исследуем баланс классов, обучим модель без учёта дисбаланса. Кратко опишем выводы.\n",
    "- 3 Улучшим качество модели, учитывая дисбаланс классов. Обучим разные модели и найдем лучшую. Кратко опишем выводы.\n",
    "- 4 Проведем финальное тестирование."
   ]
  },
  {
   "cell_type": "markdown",
   "id": "186ebfde",
   "metadata": {},
   "source": [
    "<div class=\"alert alert-block alert-success\">\n",
    "<b>✔️ Успех:</b> \n",
    "\n",
    "Отличное введение 👍 Важно чтобы в проектах было подробное описание: когда потенциальные работодатели будут смотреть твой проект в портфолио, им нужно будет понимать задачу, чтобы можно было оценить её решение :)\n",
    "</div>"
   ]
  },
  {
   "cell_type": "markdown",
   "id": "9f4ef163",
   "metadata": {},
   "source": [
    "<div class=\"alert alert-block alert-warning\">\n",
    "<b>⚠️ Совет:</b> \n",
    "\n",
    "Рекомендую писать введение от первого лица множественного числа. Так работа выглядит более самостоятельной)\n",
    "</div>"
   ]
  },
  {
   "cell_type": "markdown",
   "id": "b50c7c81",
   "metadata": {},
   "source": [
    "<div class=\"alert alert-block alert-info\">\n",
    "<b>Комментарий студента:</b>\n",
    "</div>\n",
    "\n",
    "<div class=\"alert alert-block alert-info\">\n",
    "<b>Изменения:</b> Поправил введение\n",
    "</div>"
   ]
  },
  {
   "cell_type": "markdown",
   "id": "07fbf127",
   "metadata": {},
   "source": [
    "<div class=\"alert alert-block alert-success\">\n",
    "<b>V2 ✔️ Успешно исправлено</b>\n",
    "</div>"
   ]
  },
  {
   "cell_type": "markdown",
   "id": "55a4c4dc",
   "metadata": {},
   "source": [
    "### 1 Загрузим и подготовим данные. Поясним порядок действий."
   ]
  },
  {
   "cell_type": "code",
   "execution_count": 37,
   "id": "0f43fdbb",
   "metadata": {},
   "outputs": [],
   "source": [
    "#ячейка импорта, тут хранятся все нужные мне  импортирования\n",
    "import pandas as pd\n",
    "import numpy as np\n",
    "from sklearn.metrics import f1_score, roc_auc_score\n",
    "import seaborn as s\n",
    "from sklearn.model_selection import train_test_split, GridSearchCV\n",
    "import matplotlib.pyplot as plt\n",
    "from sklearn.utils import shuffle\n",
    "from sklearn.preprocessing import StandardScaler\n",
    "from sklearn.metrics import precision_recall_curve\n",
    "\n",
    "from sklearn.tree import DecisionTreeClassifier\n",
    "from sklearn.ensemble import RandomForestClassifier\n",
    "from sklearn.linear_model import LogisticRegression\n",
    "from sklearn.dummy import DummyClassifier\n"
   ]
  },
  {
   "cell_type": "markdown",
   "id": "97d2af35",
   "metadata": {},
   "source": [
    "<div class=\"alert alert-block alert-success\">\n",
    "<b>✔️ Успех:</b>\n",
    "\n",
    "Правильное решение — выделять отдельную ячейку в начале проекта под подключение библиотек и настройки. Tак код легче поддерживать 👌 Но также стоит соблюдать рекомендации PEP-8 при написании кода. У импортов есть тоже определенные правила. Это сделано для повышения читабельности и простоты работы с кодом. <br>\n",
    "\n",
    "https://pythonworld.ru/osnovy/pep-8-rukovodstvo-po-napisaniyu-koda-na-python.html\n",
    "</div>"
   ]
  },
  {
   "cell_type": "markdown",
   "id": "8f019900",
   "metadata": {},
   "source": [
    "- Первоначальное знакомство с данными"
   ]
  },
  {
   "cell_type": "code",
   "execution_count": 2,
   "id": "9c5a3938",
   "metadata": {},
   "outputs": [
    {
     "data": {
      "text/html": [
       "<div>\n",
       "<style scoped>\n",
       "    .dataframe tbody tr th:only-of-type {\n",
       "        vertical-align: middle;\n",
       "    }\n",
       "\n",
       "    .dataframe tbody tr th {\n",
       "        vertical-align: top;\n",
       "    }\n",
       "\n",
       "    .dataframe thead th {\n",
       "        text-align: right;\n",
       "    }\n",
       "</style>\n",
       "<table border=\"1\" class=\"dataframe\">\n",
       "  <thead>\n",
       "    <tr style=\"text-align: right;\">\n",
       "      <th></th>\n",
       "      <th>RowNumber</th>\n",
       "      <th>CustomerId</th>\n",
       "      <th>Surname</th>\n",
       "      <th>CreditScore</th>\n",
       "      <th>Geography</th>\n",
       "      <th>Gender</th>\n",
       "      <th>Age</th>\n",
       "      <th>Tenure</th>\n",
       "      <th>Balance</th>\n",
       "      <th>NumOfProducts</th>\n",
       "      <th>HasCrCard</th>\n",
       "      <th>IsActiveMember</th>\n",
       "      <th>EstimatedSalary</th>\n",
       "      <th>Exited</th>\n",
       "    </tr>\n",
       "  </thead>\n",
       "  <tbody>\n",
       "    <tr>\n",
       "      <th>0</th>\n",
       "      <td>1</td>\n",
       "      <td>15634602</td>\n",
       "      <td>Hargrave</td>\n",
       "      <td>619</td>\n",
       "      <td>France</td>\n",
       "      <td>Female</td>\n",
       "      <td>42</td>\n",
       "      <td>2.0</td>\n",
       "      <td>0.00</td>\n",
       "      <td>1</td>\n",
       "      <td>1</td>\n",
       "      <td>1</td>\n",
       "      <td>101348.88</td>\n",
       "      <td>1</td>\n",
       "    </tr>\n",
       "    <tr>\n",
       "      <th>1</th>\n",
       "      <td>2</td>\n",
       "      <td>15647311</td>\n",
       "      <td>Hill</td>\n",
       "      <td>608</td>\n",
       "      <td>Spain</td>\n",
       "      <td>Female</td>\n",
       "      <td>41</td>\n",
       "      <td>1.0</td>\n",
       "      <td>83807.86</td>\n",
       "      <td>1</td>\n",
       "      <td>0</td>\n",
       "      <td>1</td>\n",
       "      <td>112542.58</td>\n",
       "      <td>0</td>\n",
       "    </tr>\n",
       "    <tr>\n",
       "      <th>2</th>\n",
       "      <td>3</td>\n",
       "      <td>15619304</td>\n",
       "      <td>Onio</td>\n",
       "      <td>502</td>\n",
       "      <td>France</td>\n",
       "      <td>Female</td>\n",
       "      <td>42</td>\n",
       "      <td>8.0</td>\n",
       "      <td>159660.80</td>\n",
       "      <td>3</td>\n",
       "      <td>1</td>\n",
       "      <td>0</td>\n",
       "      <td>113931.57</td>\n",
       "      <td>1</td>\n",
       "    </tr>\n",
       "    <tr>\n",
       "      <th>3</th>\n",
       "      <td>4</td>\n",
       "      <td>15701354</td>\n",
       "      <td>Boni</td>\n",
       "      <td>699</td>\n",
       "      <td>France</td>\n",
       "      <td>Female</td>\n",
       "      <td>39</td>\n",
       "      <td>1.0</td>\n",
       "      <td>0.00</td>\n",
       "      <td>2</td>\n",
       "      <td>0</td>\n",
       "      <td>0</td>\n",
       "      <td>93826.63</td>\n",
       "      <td>0</td>\n",
       "    </tr>\n",
       "    <tr>\n",
       "      <th>4</th>\n",
       "      <td>5</td>\n",
       "      <td>15737888</td>\n",
       "      <td>Mitchell</td>\n",
       "      <td>850</td>\n",
       "      <td>Spain</td>\n",
       "      <td>Female</td>\n",
       "      <td>43</td>\n",
       "      <td>2.0</td>\n",
       "      <td>125510.82</td>\n",
       "      <td>1</td>\n",
       "      <td>1</td>\n",
       "      <td>1</td>\n",
       "      <td>79084.10</td>\n",
       "      <td>0</td>\n",
       "    </tr>\n",
       "    <tr>\n",
       "      <th>5</th>\n",
       "      <td>6</td>\n",
       "      <td>15574012</td>\n",
       "      <td>Chu</td>\n",
       "      <td>645</td>\n",
       "      <td>Spain</td>\n",
       "      <td>Male</td>\n",
       "      <td>44</td>\n",
       "      <td>8.0</td>\n",
       "      <td>113755.78</td>\n",
       "      <td>2</td>\n",
       "      <td>1</td>\n",
       "      <td>0</td>\n",
       "      <td>149756.71</td>\n",
       "      <td>1</td>\n",
       "    </tr>\n",
       "    <tr>\n",
       "      <th>6</th>\n",
       "      <td>7</td>\n",
       "      <td>15592531</td>\n",
       "      <td>Bartlett</td>\n",
       "      <td>822</td>\n",
       "      <td>France</td>\n",
       "      <td>Male</td>\n",
       "      <td>50</td>\n",
       "      <td>7.0</td>\n",
       "      <td>0.00</td>\n",
       "      <td>2</td>\n",
       "      <td>1</td>\n",
       "      <td>1</td>\n",
       "      <td>10062.80</td>\n",
       "      <td>0</td>\n",
       "    </tr>\n",
       "    <tr>\n",
       "      <th>7</th>\n",
       "      <td>8</td>\n",
       "      <td>15656148</td>\n",
       "      <td>Obinna</td>\n",
       "      <td>376</td>\n",
       "      <td>Germany</td>\n",
       "      <td>Female</td>\n",
       "      <td>29</td>\n",
       "      <td>4.0</td>\n",
       "      <td>115046.74</td>\n",
       "      <td>4</td>\n",
       "      <td>1</td>\n",
       "      <td>0</td>\n",
       "      <td>119346.88</td>\n",
       "      <td>1</td>\n",
       "    </tr>\n",
       "    <tr>\n",
       "      <th>8</th>\n",
       "      <td>9</td>\n",
       "      <td>15792365</td>\n",
       "      <td>He</td>\n",
       "      <td>501</td>\n",
       "      <td>France</td>\n",
       "      <td>Male</td>\n",
       "      <td>44</td>\n",
       "      <td>4.0</td>\n",
       "      <td>142051.07</td>\n",
       "      <td>2</td>\n",
       "      <td>0</td>\n",
       "      <td>1</td>\n",
       "      <td>74940.50</td>\n",
       "      <td>0</td>\n",
       "    </tr>\n",
       "    <tr>\n",
       "      <th>9</th>\n",
       "      <td>10</td>\n",
       "      <td>15592389</td>\n",
       "      <td>H?</td>\n",
       "      <td>684</td>\n",
       "      <td>France</td>\n",
       "      <td>Male</td>\n",
       "      <td>27</td>\n",
       "      <td>2.0</td>\n",
       "      <td>134603.88</td>\n",
       "      <td>1</td>\n",
       "      <td>1</td>\n",
       "      <td>1</td>\n",
       "      <td>71725.73</td>\n",
       "      <td>0</td>\n",
       "    </tr>\n",
       "  </tbody>\n",
       "</table>\n",
       "</div>"
      ],
      "text/plain": [
       "   RowNumber  CustomerId   Surname  CreditScore Geography  Gender  Age  \\\n",
       "0          1    15634602  Hargrave          619    France  Female   42   \n",
       "1          2    15647311      Hill          608     Spain  Female   41   \n",
       "2          3    15619304      Onio          502    France  Female   42   \n",
       "3          4    15701354      Boni          699    France  Female   39   \n",
       "4          5    15737888  Mitchell          850     Spain  Female   43   \n",
       "5          6    15574012       Chu          645     Spain    Male   44   \n",
       "6          7    15592531  Bartlett          822    France    Male   50   \n",
       "7          8    15656148    Obinna          376   Germany  Female   29   \n",
       "8          9    15792365        He          501    France    Male   44   \n",
       "9         10    15592389        H?          684    France    Male   27   \n",
       "\n",
       "   Tenure    Balance  NumOfProducts  HasCrCard  IsActiveMember  \\\n",
       "0     2.0       0.00              1          1               1   \n",
       "1     1.0   83807.86              1          0               1   \n",
       "2     8.0  159660.80              3          1               0   \n",
       "3     1.0       0.00              2          0               0   \n",
       "4     2.0  125510.82              1          1               1   \n",
       "5     8.0  113755.78              2          1               0   \n",
       "6     7.0       0.00              2          1               1   \n",
       "7     4.0  115046.74              4          1               0   \n",
       "8     4.0  142051.07              2          0               1   \n",
       "9     2.0  134603.88              1          1               1   \n",
       "\n",
       "   EstimatedSalary  Exited  \n",
       "0        101348.88       1  \n",
       "1        112542.58       0  \n",
       "2        113931.57       1  \n",
       "3         93826.63       0  \n",
       "4         79084.10       0  \n",
       "5        149756.71       1  \n",
       "6         10062.80       0  \n",
       "7        119346.88       1  \n",
       "8         74940.50       0  \n",
       "9         71725.73       0  "
      ]
     },
     "execution_count": 2,
     "metadata": {},
     "output_type": "execute_result"
    }
   ],
   "source": [
    "data = pd.read_csv('/datasets/Churn.csv')\n",
    "data.head(10)"
   ]
  },
  {
   "cell_type": "markdown",
   "id": "ada53d26",
   "metadata": {},
   "source": [
    "- Вывод информации о датафрейме"
   ]
  },
  {
   "cell_type": "code",
   "execution_count": 3,
   "id": "9359b0f7",
   "metadata": {},
   "outputs": [
    {
     "name": "stdout",
     "output_type": "stream",
     "text": [
      "<class 'pandas.core.frame.DataFrame'>\n",
      "RangeIndex: 10000 entries, 0 to 9999\n",
      "Data columns (total 14 columns):\n",
      " #   Column           Non-Null Count  Dtype  \n",
      "---  ------           --------------  -----  \n",
      " 0   RowNumber        10000 non-null  int64  \n",
      " 1   CustomerId       10000 non-null  int64  \n",
      " 2   Surname          10000 non-null  object \n",
      " 3   CreditScore      10000 non-null  int64  \n",
      " 4   Geography        10000 non-null  object \n",
      " 5   Gender           10000 non-null  object \n",
      " 6   Age              10000 non-null  int64  \n",
      " 7   Tenure           9091 non-null   float64\n",
      " 8   Balance          10000 non-null  float64\n",
      " 9   NumOfProducts    10000 non-null  int64  \n",
      " 10  HasCrCard        10000 non-null  int64  \n",
      " 11  IsActiveMember   10000 non-null  int64  \n",
      " 12  EstimatedSalary  10000 non-null  float64\n",
      " 13  Exited           10000 non-null  int64  \n",
      "dtypes: float64(3), int64(8), object(3)\n",
      "memory usage: 1.1+ MB\n"
     ]
    }
   ],
   "source": [
    "data.info()"
   ]
  },
  {
   "cell_type": "markdown",
   "id": "d2ed8424",
   "metadata": {},
   "source": [
    "- Тепловая карта"
   ]
  },
  {
   "cell_type": "code",
   "execution_count": 4,
   "id": "6d3e850b",
   "metadata": {},
   "outputs": [
    {
     "data": {
      "text/plain": [
       "<AxesSubplot:>"
      ]
     },
     "execution_count": 4,
     "metadata": {},
     "output_type": "execute_result"
    },
    {
     "data": {
      "image/png": "[encoded data removed]",
      "text/plain": [
       "<Figure size 432x288 with 2 Axes>"
      ]
     },
     "metadata": {
      "needs_background": "light"
     },
     "output_type": "display_data"
    }
   ],
   "source": [
    "cols = data.columns\n",
    "colours = ['#000099', '#ffff00'] \n",
    "s.heatmap(data[cols].isnull(), cmap=s.color_palette(colours))"
   ]
  },
  {
   "cell_type": "markdown",
   "id": "5eef4831",
   "metadata": {},
   "source": [
    "- Анализ корреляций"
   ]
  },
  {
   "cell_type": "code",
   "execution_count": 5,
   "id": "80d314a1",
   "metadata": {},
   "outputs": [
    {
     "data": {
      "text/html": [
       "<div>\n",
       "<style scoped>\n",
       "    .dataframe tbody tr th:only-of-type {\n",
       "        vertical-align: middle;\n",
       "    }\n",
       "\n",
       "    .dataframe tbody tr th {\n",
       "        vertical-align: top;\n",
       "    }\n",
       "\n",
       "    .dataframe thead th {\n",
       "        text-align: right;\n",
       "    }\n",
       "</style>\n",
       "<table border=\"1\" class=\"dataframe\">\n",
       "  <thead>\n",
       "    <tr style=\"text-align: right;\">\n",
       "      <th></th>\n",
       "      <th>RowNumber</th>\n",
       "      <th>CustomerId</th>\n",
       "      <th>CreditScore</th>\n",
       "      <th>Age</th>\n",
       "      <th>Tenure</th>\n",
       "      <th>Balance</th>\n",
       "      <th>NumOfProducts</th>\n",
       "      <th>HasCrCard</th>\n",
       "      <th>IsActiveMember</th>\n",
       "      <th>EstimatedSalary</th>\n",
       "      <th>Exited</th>\n",
       "    </tr>\n",
       "  </thead>\n",
       "  <tbody>\n",
       "    <tr>\n",
       "      <th>RowNumber</th>\n",
       "      <td>1.000000</td>\n",
       "      <td>0.004202</td>\n",
       "      <td>0.005840</td>\n",
       "      <td>0.000783</td>\n",
       "      <td>-0.007322</td>\n",
       "      <td>-0.009067</td>\n",
       "      <td>0.007246</td>\n",
       "      <td>0.000599</td>\n",
       "      <td>0.012044</td>\n",
       "      <td>-0.005988</td>\n",
       "      <td>-0.016571</td>\n",
       "    </tr>\n",
       "    <tr>\n",
       "      <th>CustomerId</th>\n",
       "      <td>0.004202</td>\n",
       "      <td>1.000000</td>\n",
       "      <td>0.005308</td>\n",
       "      <td>0.009497</td>\n",
       "      <td>-0.021418</td>\n",
       "      <td>-0.012419</td>\n",
       "      <td>0.016972</td>\n",
       "      <td>-0.014025</td>\n",
       "      <td>0.001665</td>\n",
       "      <td>0.015271</td>\n",
       "      <td>-0.006248</td>\n",
       "    </tr>\n",
       "    <tr>\n",
       "      <th>CreditScore</th>\n",
       "      <td>0.005840</td>\n",
       "      <td>0.005308</td>\n",
       "      <td>1.000000</td>\n",
       "      <td>-0.003965</td>\n",
       "      <td>-0.000062</td>\n",
       "      <td>0.006268</td>\n",
       "      <td>0.012238</td>\n",
       "      <td>-0.005458</td>\n",
       "      <td>0.025651</td>\n",
       "      <td>-0.001384</td>\n",
       "      <td>-0.027094</td>\n",
       "    </tr>\n",
       "    <tr>\n",
       "      <th>Age</th>\n",
       "      <td>0.000783</td>\n",
       "      <td>0.009497</td>\n",
       "      <td>-0.003965</td>\n",
       "      <td>1.000000</td>\n",
       "      <td>-0.013134</td>\n",
       "      <td>0.028308</td>\n",
       "      <td>-0.030680</td>\n",
       "      <td>-0.011721</td>\n",
       "      <td>0.085472</td>\n",
       "      <td>-0.007201</td>\n",
       "      <td>0.285323</td>\n",
       "    </tr>\n",
       "    <tr>\n",
       "      <th>Tenure</th>\n",
       "      <td>-0.007322</td>\n",
       "      <td>-0.021418</td>\n",
       "      <td>-0.000062</td>\n",
       "      <td>-0.013134</td>\n",
       "      <td>1.000000</td>\n",
       "      <td>-0.007911</td>\n",
       "      <td>0.011979</td>\n",
       "      <td>0.027232</td>\n",
       "      <td>-0.032178</td>\n",
       "      <td>0.010520</td>\n",
       "      <td>-0.016761</td>\n",
       "    </tr>\n",
       "    <tr>\n",
       "      <th>Balance</th>\n",
       "      <td>-0.009067</td>\n",
       "      <td>-0.012419</td>\n",
       "      <td>0.006268</td>\n",
       "      <td>0.028308</td>\n",
       "      <td>-0.007911</td>\n",
       "      <td>1.000000</td>\n",
       "      <td>-0.304180</td>\n",
       "      <td>-0.014858</td>\n",
       "      <td>-0.010084</td>\n",
       "      <td>0.012797</td>\n",
       "      <td>0.118533</td>\n",
       "    </tr>\n",
       "    <tr>\n",
       "      <th>NumOfProducts</th>\n",
       "      <td>0.007246</td>\n",
       "      <td>0.016972</td>\n",
       "      <td>0.012238</td>\n",
       "      <td>-0.030680</td>\n",
       "      <td>0.011979</td>\n",
       "      <td>-0.304180</td>\n",
       "      <td>1.000000</td>\n",
       "      <td>0.003183</td>\n",
       "      <td>0.009612</td>\n",
       "      <td>0.014204</td>\n",
       "      <td>-0.047820</td>\n",
       "    </tr>\n",
       "    <tr>\n",
       "      <th>HasCrCard</th>\n",
       "      <td>0.000599</td>\n",
       "      <td>-0.014025</td>\n",
       "      <td>-0.005458</td>\n",
       "      <td>-0.011721</td>\n",
       "      <td>0.027232</td>\n",
       "      <td>-0.014858</td>\n",
       "      <td>0.003183</td>\n",
       "      <td>1.000000</td>\n",
       "      <td>-0.011866</td>\n",
       "      <td>-0.009933</td>\n",
       "      <td>-0.007138</td>\n",
       "    </tr>\n",
       "    <tr>\n",
       "      <th>IsActiveMember</th>\n",
       "      <td>0.012044</td>\n",
       "      <td>0.001665</td>\n",
       "      <td>0.025651</td>\n",
       "      <td>0.085472</td>\n",
       "      <td>-0.032178</td>\n",
       "      <td>-0.010084</td>\n",
       "      <td>0.009612</td>\n",
       "      <td>-0.011866</td>\n",
       "      <td>1.000000</td>\n",
       "      <td>-0.011421</td>\n",
       "      <td>-0.156128</td>\n",
       "    </tr>\n",
       "    <tr>\n",
       "      <th>EstimatedSalary</th>\n",
       "      <td>-0.005988</td>\n",
       "      <td>0.015271</td>\n",
       "      <td>-0.001384</td>\n",
       "      <td>-0.007201</td>\n",
       "      <td>0.010520</td>\n",
       "      <td>0.012797</td>\n",
       "      <td>0.014204</td>\n",
       "      <td>-0.009933</td>\n",
       "      <td>-0.011421</td>\n",
       "      <td>1.000000</td>\n",
       "      <td>0.012097</td>\n",
       "    </tr>\n",
       "    <tr>\n",
       "      <th>Exited</th>\n",
       "      <td>-0.016571</td>\n",
       "      <td>-0.006248</td>\n",
       "      <td>-0.027094</td>\n",
       "      <td>0.285323</td>\n",
       "      <td>-0.016761</td>\n",
       "      <td>0.118533</td>\n",
       "      <td>-0.047820</td>\n",
       "      <td>-0.007138</td>\n",
       "      <td>-0.156128</td>\n",
       "      <td>0.012097</td>\n",
       "      <td>1.000000</td>\n",
       "    </tr>\n",
       "  </tbody>\n",
       "</table>\n",
       "</div>"
      ],
      "text/plain": [
       "                 RowNumber  CustomerId  CreditScore       Age    Tenure  \\\n",
       "RowNumber         1.000000    0.004202     0.005840  0.000783 -0.007322   \n",
       "CustomerId        0.004202    1.000000     0.005308  0.009497 -0.021418   \n",
       "CreditScore       0.005840    0.005308     1.000000 -0.003965 -0.000062   \n",
       "Age               0.000783    0.009497    -0.003965  1.000000 -0.013134   \n",
       "Tenure           -0.007322   -0.021418    -0.000062 -0.013134  1.000000   \n",
       "Balance          -0.009067   -0.012419     0.006268  0.028308 -0.007911   \n",
       "NumOfProducts     0.007246    0.016972     0.012238 -0.030680  0.011979   \n",
       "HasCrCard         0.000599   -0.014025    -0.005458 -0.011721  0.027232   \n",
       "IsActiveMember    0.012044    0.001665     0.025651  0.085472 -0.032178   \n",
       "EstimatedSalary  -0.005988    0.015271    -0.001384 -0.007201  0.010520   \n",
       "Exited           -0.016571   -0.006248    -0.027094  0.285323 -0.016761   \n",
       "\n",
       "                  Balance  NumOfProducts  HasCrCard  IsActiveMember  \\\n",
       "RowNumber       -0.009067       0.007246   0.000599        0.012044   \n",
       "CustomerId      -0.012419       0.016972  -0.014025        0.001665   \n",
       "CreditScore      0.006268       0.012238  -0.005458        0.025651   \n",
       "Age              0.028308      -0.030680  -0.011721        0.085472   \n",
       "Tenure          -0.007911       0.011979   0.027232       -0.032178   \n",
       "Balance          1.000000      -0.304180  -0.014858       -0.010084   \n",
       "NumOfProducts   -0.304180       1.000000   0.003183        0.009612   \n",
       "HasCrCard       -0.014858       0.003183   1.000000       -0.011866   \n",
       "IsActiveMember  -0.010084       0.009612  -0.011866        1.000000   \n",
       "EstimatedSalary  0.012797       0.014204  -0.009933       -0.011421   \n",
       "Exited           0.118533      -0.047820  -0.007138       -0.156128   \n",
       "\n",
       "                 EstimatedSalary    Exited  \n",
       "RowNumber              -0.005988 -0.016571  \n",
       "CustomerId              0.015271 -0.006248  \n",
       "CreditScore            -0.001384 -0.027094  \n",
       "Age                    -0.007201  0.285323  \n",
       "Tenure                  0.010520 -0.016761  \n",
       "Balance                 0.012797  0.118533  \n",
       "NumOfProducts           0.014204 -0.047820  \n",
       "HasCrCard              -0.009933 -0.007138  \n",
       "IsActiveMember         -0.011421 -0.156128  \n",
       "EstimatedSalary         1.000000  0.012097  \n",
       "Exited                  0.012097  1.000000  "
      ]
     },
     "execution_count": 5,
     "metadata": {},
     "output_type": "execute_result"
    }
   ],
   "source": [
    "data.corr()"
   ]
  },
  {
   "cell_type": "markdown",
   "id": "f5297dee",
   "metadata": {},
   "source": [
    "#### Вывод по анализу данных:\n",
    "- **RowNumber** можно удалить, это номер строки который ни к чему не относится\n",
    "- **Tenure** имеет пропуски которые заполним значением 0 \n",
    "- **Surname** не даст нам никакого аналитического преимущества, столбец можно удалить\n",
    "- **Geography** и **Gender** преобразуем техникой OHE и избежанием дамми ловушки: \n",
    "```pd.get_dummies(df['column'], drop_first=True)```"
   ]
  },
  {
   "cell_type": "markdown",
   "id": "8d6dd43c",
   "metadata": {},
   "source": [
    "<div class=\"alert alert-block alert-success\">\n",
    "<b>✔️ Успех:</b>\n",
    "\n",
    "Ты хорошо владеешь методами первичного анализа данных 👍 Спасибо за информативный вывод)\n",
    "</div>"
   ]
  },
  {
   "cell_type": "markdown",
   "id": "a93a3eef",
   "metadata": {},
   "source": [
    "- Подготовим данные"
   ]
  },
  {
   "cell_type": "code",
   "execution_count": 6,
   "id": "50f76869",
   "metadata": {},
   "outputs": [
    {
     "data": {
      "text/html": [
       "<div>\n",
       "<style scoped>\n",
       "    .dataframe tbody tr th:only-of-type {\n",
       "        vertical-align: middle;\n",
       "    }\n",
       "\n",
       "    .dataframe tbody tr th {\n",
       "        vertical-align: top;\n",
       "    }\n",
       "\n",
       "    .dataframe thead th {\n",
       "        text-align: right;\n",
       "    }\n",
       "</style>\n",
       "<table border=\"1\" class=\"dataframe\">\n",
       "  <thead>\n",
       "    <tr style=\"text-align: right;\">\n",
       "      <th></th>\n",
       "      <th>CreditScore</th>\n",
       "      <th>Age</th>\n",
       "      <th>Tenure</th>\n",
       "      <th>Balance</th>\n",
       "      <th>NumOfProducts</th>\n",
       "      <th>HasCrCard</th>\n",
       "      <th>IsActiveMember</th>\n",
       "      <th>EstimatedSalary</th>\n",
       "      <th>Exited</th>\n",
       "      <th>Geography_Germany</th>\n",
       "      <th>Geography_Spain</th>\n",
       "      <th>Gender_Male</th>\n",
       "    </tr>\n",
       "  </thead>\n",
       "  <tbody>\n",
       "    <tr>\n",
       "      <th>0</th>\n",
       "      <td>619</td>\n",
       "      <td>42</td>\n",
       "      <td>2.0</td>\n",
       "      <td>0.00</td>\n",
       "      <td>1</td>\n",
       "      <td>1</td>\n",
       "      <td>1</td>\n",
       "      <td>101348.88</td>\n",
       "      <td>1</td>\n",
       "      <td>0</td>\n",
       "      <td>0</td>\n",
       "      <td>0</td>\n",
       "    </tr>\n",
       "    <tr>\n",
       "      <th>1</th>\n",
       "      <td>608</td>\n",
       "      <td>41</td>\n",
       "      <td>1.0</td>\n",
       "      <td>83807.86</td>\n",
       "      <td>1</td>\n",
       "      <td>0</td>\n",
       "      <td>1</td>\n",
       "      <td>112542.58</td>\n",
       "      <td>0</td>\n",
       "      <td>0</td>\n",
       "      <td>1</td>\n",
       "      <td>0</td>\n",
       "    </tr>\n",
       "    <tr>\n",
       "      <th>2</th>\n",
       "      <td>502</td>\n",
       "      <td>42</td>\n",
       "      <td>8.0</td>\n",
       "      <td>159660.80</td>\n",
       "      <td>3</td>\n",
       "      <td>1</td>\n",
       "      <td>0</td>\n",
       "      <td>113931.57</td>\n",
       "      <td>1</td>\n",
       "      <td>0</td>\n",
       "      <td>0</td>\n",
       "      <td>0</td>\n",
       "    </tr>\n",
       "    <tr>\n",
       "      <th>3</th>\n",
       "      <td>699</td>\n",
       "      <td>39</td>\n",
       "      <td>1.0</td>\n",
       "      <td>0.00</td>\n",
       "      <td>2</td>\n",
       "      <td>0</td>\n",
       "      <td>0</td>\n",
       "      <td>93826.63</td>\n",
       "      <td>0</td>\n",
       "      <td>0</td>\n",
       "      <td>0</td>\n",
       "      <td>0</td>\n",
       "    </tr>\n",
       "    <tr>\n",
       "      <th>4</th>\n",
       "      <td>850</td>\n",
       "      <td>43</td>\n",
       "      <td>2.0</td>\n",
       "      <td>125510.82</td>\n",
       "      <td>1</td>\n",
       "      <td>1</td>\n",
       "      <td>1</td>\n",
       "      <td>79084.10</td>\n",
       "      <td>0</td>\n",
       "      <td>0</td>\n",
       "      <td>1</td>\n",
       "      <td>0</td>\n",
       "    </tr>\n",
       "    <tr>\n",
       "      <th>...</th>\n",
       "      <td>...</td>\n",
       "      <td>...</td>\n",
       "      <td>...</td>\n",
       "      <td>...</td>\n",
       "      <td>...</td>\n",
       "      <td>...</td>\n",
       "      <td>...</td>\n",
       "      <td>...</td>\n",
       "      <td>...</td>\n",
       "      <td>...</td>\n",
       "      <td>...</td>\n",
       "      <td>...</td>\n",
       "    </tr>\n",
       "    <tr>\n",
       "      <th>9995</th>\n",
       "      <td>771</td>\n",
       "      <td>39</td>\n",
       "      <td>5.0</td>\n",
       "      <td>0.00</td>\n",
       "      <td>2</td>\n",
       "      <td>1</td>\n",
       "      <td>0</td>\n",
       "      <td>96270.64</td>\n",
       "      <td>0</td>\n",
       "      <td>0</td>\n",
       "      <td>0</td>\n",
       "      <td>1</td>\n",
       "    </tr>\n",
       "    <tr>\n",
       "      <th>9996</th>\n",
       "      <td>516</td>\n",
       "      <td>35</td>\n",
       "      <td>10.0</td>\n",
       "      <td>57369.61</td>\n",
       "      <td>1</td>\n",
       "      <td>1</td>\n",
       "      <td>1</td>\n",
       "      <td>101699.77</td>\n",
       "      <td>0</td>\n",
       "      <td>0</td>\n",
       "      <td>0</td>\n",
       "      <td>1</td>\n",
       "    </tr>\n",
       "    <tr>\n",
       "      <th>9997</th>\n",
       "      <td>709</td>\n",
       "      <td>36</td>\n",
       "      <td>7.0</td>\n",
       "      <td>0.00</td>\n",
       "      <td>1</td>\n",
       "      <td>0</td>\n",
       "      <td>1</td>\n",
       "      <td>42085.58</td>\n",
       "      <td>1</td>\n",
       "      <td>0</td>\n",
       "      <td>0</td>\n",
       "      <td>0</td>\n",
       "    </tr>\n",
       "    <tr>\n",
       "      <th>9998</th>\n",
       "      <td>772</td>\n",
       "      <td>42</td>\n",
       "      <td>3.0</td>\n",
       "      <td>75075.31</td>\n",
       "      <td>2</td>\n",
       "      <td>1</td>\n",
       "      <td>0</td>\n",
       "      <td>92888.52</td>\n",
       "      <td>1</td>\n",
       "      <td>1</td>\n",
       "      <td>0</td>\n",
       "      <td>1</td>\n",
       "    </tr>\n",
       "    <tr>\n",
       "      <th>9999</th>\n",
       "      <td>792</td>\n",
       "      <td>28</td>\n",
       "      <td>0.0</td>\n",
       "      <td>130142.79</td>\n",
       "      <td>1</td>\n",
       "      <td>1</td>\n",
       "      <td>0</td>\n",
       "      <td>38190.78</td>\n",
       "      <td>0</td>\n",
       "      <td>0</td>\n",
       "      <td>0</td>\n",
       "      <td>0</td>\n",
       "    </tr>\n",
       "  </tbody>\n",
       "</table>\n",
       "<p>10000 rows × 12 columns</p>\n",
       "</div>"
      ],
      "text/plain": [
       "      CreditScore  Age  Tenure    Balance  NumOfProducts  HasCrCard  \\\n",
       "0             619   42     2.0       0.00              1          1   \n",
       "1             608   41     1.0   83807.86              1          0   \n",
       "2             502   42     8.0  159660.80              3          1   \n",
       "3             699   39     1.0       0.00              2          0   \n",
       "4             850   43     2.0  125510.82              1          1   \n",
       "...           ...  ...     ...        ...            ...        ...   \n",
       "9995          771   39     5.0       0.00              2          1   \n",
       "9996          516   35    10.0   57369.61              1          1   \n",
       "9997          709   36     7.0       0.00              1          0   \n",
       "9998          772   42     3.0   75075.31              2          1   \n",
       "9999          792   28     0.0  130142.79              1          1   \n",
       "\n",
       "      IsActiveMember  EstimatedSalary  Exited  Geography_Germany  \\\n",
       "0                  1        101348.88       1                  0   \n",
       "1                  1        112542.58       0                  0   \n",
       "2                  0        113931.57       1                  0   \n",
       "3                  0         93826.63       0                  0   \n",
       "4                  1         79084.10       0                  0   \n",
       "...              ...              ...     ...                ...   \n",
       "9995               0         96270.64       0                  0   \n",
       "9996               1        101699.77       0                  0   \n",
       "9997               1         42085.58       1                  0   \n",
       "9998               0         92888.52       1                  1   \n",
       "9999               0         38190.78       0                  0   \n",
       "\n",
       "      Geography_Spain  Gender_Male  \n",
       "0                   0            0  \n",
       "1                   1            0  \n",
       "2                   0            0  \n",
       "3                   0            0  \n",
       "4                   1            0  \n",
       "...               ...          ...  \n",
       "9995                0            1  \n",
       "9996                0            1  \n",
       "9997                0            0  \n",
       "9998                0            1  \n",
       "9999                0            0  \n",
       "\n",
       "[10000 rows x 12 columns]"
      ]
     },
     "metadata": {},
     "output_type": "display_data"
    },
    {
     "data": {
      "text/plain": [
       "Index(['CreditScore', 'Age', 'Tenure', 'Balance', 'NumOfProducts', 'HasCrCard',\n",
       "       'IsActiveMember', 'EstimatedSalary', 'Exited', 'Geography_Germany',\n",
       "       'Geography_Spain', 'Gender_Male'],\n",
       "      dtype='object')"
      ]
     },
     "metadata": {},
     "output_type": "display_data"
    }
   ],
   "source": [
    "data_clean = data.drop(['RowNumber', 'Surname','CustomerId'], axis = 1)\n",
    "data_clean['Tenure'] = data_clean['Tenure'].fillna(0)\n",
    "data_clean = pd.get_dummies(data_clean, drop_first=True)\n",
    "display(data_clean)\n",
    "display(data_clean.columns)"
   ]
  },
  {
   "cell_type": "markdown",
   "id": "294f426a",
   "metadata": {},
   "source": [
    "<div class=\"alert alert-block alert-danger\">\n",
    "<b>❌ Замечание:</b>\n",
    "\n",
    "Признак customer_id тоже не пригодится для обучения моделей.\n",
    "</div>"
   ]
  },
  {
   "cell_type": "markdown",
   "id": "cea908d1",
   "metadata": {},
   "source": [
    "<div class=\"alert alert-block alert-info\">\n",
    "<b>Комментарий студента:</b> \n",
    "</div>\n",
    "\n",
    "<div class=\"alert alert-block alert-info\">\n",
    "<b>Изменения:</b> CustomerId также удалил\n",
    "</div>"
   ]
  },
  {
   "cell_type": "markdown",
   "id": "f443277a",
   "metadata": {},
   "source": [
    "<div class=\"alert alert-block alert-success\">\n",
    "<b>V2 ✔️ Успешно исправлено</b>\n",
    "</div>"
   ]
  },
  {
   "cell_type": "markdown",
   "id": "d5176794",
   "metadata": {},
   "source": [
    "<div class=\"alert alert-block alert-success\">\n",
    "<b>✔️ Успех:</b>\n",
    "    \n",
    "Согласен с таким заполнением 👍\n",
    "</div>"
   ]
  },
  {
   "cell_type": "markdown",
   "id": "ab4fa8cf",
   "metadata": {},
   "source": [
    "<div class=\"alert alert-block alert-success\">\n",
    "<b>✔️ Успех:</b>\n",
    "\n",
    "В данном случае это наиболее подходящий способ закодировать категориальные колонки 👍\n",
    "</div>"
   ]
  },
  {
   "cell_type": "code",
   "execution_count": 7,
   "id": "717e1a3a",
   "metadata": {},
   "outputs": [
    {
     "data": {
      "text/plain": [
       "<AxesSubplot:>"
      ]
     },
     "execution_count": 7,
     "metadata": {},
     "output_type": "execute_result"
    },
    {
     "data": {
      "image/png": "[encoded data removed]",
      "text/plain": [
       "<Figure size 432x288 with 2 Axes>"
      ]
     },
     "metadata": {
      "needs_background": "light"
     },
     "output_type": "display_data"
    }
   ],
   "source": [
    "cols = data_clean.columns\n",
    "colours = ['#000099', '#ffff00'] \n",
    "s.heatmap(data_clean[cols].isnull(), cmap=s.color_palette(colours))"
   ]
  },
  {
   "cell_type": "markdown",
   "id": "ed393a81",
   "metadata": {},
   "source": [
    "#### Вывод по шагу:\n",
    "- Данные подготовлены согласно выводу по анализу данных, переходим к следующему шагу"
   ]
  },
  {
   "cell_type": "markdown",
   "id": "44c9c7b9",
   "metadata": {},
   "source": [
    "### 2 Исследуем баланс классов, обучим модель без учёта дисбаланса. Кратко описав выводы."
   ]
  },
  {
   "cell_type": "code",
   "execution_count": 8,
   "id": "68be9e84",
   "metadata": {},
   "outputs": [
    {
     "data": {
      "text/plain": [
       "0    7963\n",
       "1    2037\n",
       "Name: Exited, dtype: int64"
      ]
     },
     "execution_count": 8,
     "metadata": {},
     "output_type": "execute_result"
    },
    {
     "data": {
      "image/png": "[encoded data removed]",
      "text/plain": [
       "<Figure size 1008x432 with 1 Axes>"
      ]
     },
     "metadata": {
      "needs_background": "light"
     },
     "output_type": "display_data"
    }
   ],
   "source": [
    "plt.figure(figsize=(14,6))\n",
    "s.barplot(x=[0,1],y=data_clean.Exited.value_counts())\n",
    "plt.title(\"Баланс классов\")\n",
    "\n",
    "data_clean.Exited.value_counts()"
   ]
  },
  {
   "cell_type": "markdown",
   "id": "781c6c06",
   "metadata": {},
   "source": [
    "<div class=\"alert alert-block alert-success\">\n",
    "<b>✔️ Успех:</b>\n",
    "\n",
    "Виден явный дисбаланс классов в пользу отрицательного класса. Если мы будем всех людей прогнозировать, что они не уйдут из банка, то в 80% случаев мы будем правы.\n",
    "</div>"
   ]
  },
  {
   "cell_type": "markdown",
   "id": "a9bf1838",
   "metadata": {},
   "source": [
    "- Мы наблюдаем явный дисбаланс классов,  клиентов которые не ушли намного больше\n",
    "- Разделим данные на тестовую и валидационную выборку\n",
    "- Обучим модель, для этого подойдет модель **RandomForestClassifier** которая хорошо себя зарекомендовала в подобных задачах на тренажере"
   ]
  },
  {
   "cell_type": "code",
   "execution_count": 9,
   "id": "aaa3c2ec",
   "metadata": {},
   "outputs": [],
   "source": [
    "feature = data_clean.drop(['Exited'], axis = 1)\n",
    "target = data_clean.Exited\n",
    "\n",
    "#Откусим кусочек для финального тестирования:\n",
    "feature, feature_test, target, target_test = train_test_split(\n",
    "    feature, target, test_size=0.10, random_state=12345)\n",
    "\n",
    "feature_train, feature_valid, target_train, target_valid = train_test_split(feature, target,  \n",
    "                                                                            test_size=0.25, random_state=12345)\n",
    "columns_ft = feature_train.columns\n",
    "index_ft = feature_train.index\n",
    "index_fte = feature_test.index\n",
    "index_fv = feature_valid.index\n",
    "\n",
    "#Масштабировал численные признаки \n",
    "scaler = StandardScaler() \n",
    "scaler.fit(feature_train)\n",
    "\n",
    "feature_train = scaler.transform(feature_train)\n",
    "feature_test = scaler.transform(feature_test)\n",
    "feature_valid = scaler.transform(feature_valid)\n",
    "\n",
    "#И обратно вернем в датафрейм потому что  переменная не очень понимает как работать с numpy массивом\n",
    "def convert_feature(dataframe, index):\n",
    "    dataframe_converted = pd.DataFrame(data = dataframe, columns = columns_ft, index = index)\n",
    "    return dataframe_converted\n",
    "\n",
    "def convert_target(dataframe, index):\n",
    "    dataframe_converted = pd.DataFrame(data = dataframe, index = index)\n",
    "    return dataframe_converted\n",
    "\n",
    "feature_train = convert_feature(feature_train, index_ft)\n",
    "feature_test =  convert_feature(feature_test, index_fte)\n",
    "feature_valid = convert_feature(feature_valid, index_fv)\n",
    "\n",
    "target_train = convert_target(target_train, index_ft)\n",
    "target_test =  convert_target(target_test, index_fte)\n",
    "target_valid = convert_target(target_valid, index_fv)"
   ]
  },
  {
   "cell_type": "markdown",
   "id": "4769356d",
   "metadata": {},
   "source": [
    "<div class=\"alert alert-block alert-info\">\n",
    "<b>Комментарий студента:</b> \n",
    "</div>\n",
    "\n",
    "<div class=\"alert alert-block alert-info\">\n",
    "<b>Изменения:</b> Масштабировал численные признаки \n",
    "</div>"
   ]
  },
  {
   "cell_type": "markdown",
   "id": "f38b262f",
   "metadata": {},
   "source": [
    "<div class=\"alert alert-block alert-success\">\n",
    "<b>✔️ Успех:</b> \n",
    "\n",
    "Данные поделены верно, пропорции выбраны адекватные 👍\n",
    "</div>"
   ]
  },
  {
   "cell_type": "code",
   "execution_count": 11,
   "id": "a0347a5f",
   "metadata": {},
   "outputs": [
    {
     "name": "stderr",
     "output_type": "stream",
     "text": [
      "/tmp/ipykernel_187/2707477540.py:2: DataConversionWarning: A column-vector y was passed when a 1d array was expected. Please change the shape of y to (n_samples,), for example using ravel().\n",
      "  model.fit(feature_train, target_train)\n"
     ]
    },
    {
     "data": {
      "text/plain": [
       "'F1 метрика модели:'"
      ]
     },
     "metadata": {},
     "output_type": "display_data"
    },
    {
     "data": {
      "text/plain": [
       "0.593103448275862"
      ]
     },
     "metadata": {},
     "output_type": "display_data"
    },
    {
     "data": {
      "text/plain": [
       "'AUC-ROC:'"
      ]
     },
     "metadata": {},
     "output_type": "display_data"
    },
    {
     "data": {
      "text/plain": [
       "0.7230212881588106"
      ]
     },
     "metadata": {},
     "output_type": "display_data"
    }
   ],
   "source": [
    "model = RandomForestClassifier(random_state=12345)\n",
    "model.fit(feature_train, target_train)\n",
    "predictions = model.predict(feature_valid)\n",
    "\n",
    "display('F1 метрика модели:', f1_score(target_valid, predictions))\n",
    "display('AUC-ROC:', roc_auc_score(target_valid, predictions))"
   ]
  },
  {
   "cell_type": "code",
   "execution_count": 12,
   "id": "a675d8bc",
   "metadata": {},
   "outputs": [
    {
     "name": "stderr",
     "output_type": "stream",
     "text": [
      "/opt/conda/lib/python3.9/site-packages/sklearn/utils/validation.py:63: DataConversionWarning: A column-vector y was passed when a 1d array was expected. Please change the shape of y to (n_samples, ), for example using ravel().\n",
      "  return f(*args, **kwargs)\n"
     ]
    },
    {
     "data": {
      "text/plain": [
       "'F1 метрика модели:'"
      ]
     },
     "metadata": {},
     "output_type": "display_data"
    },
    {
     "data": {
      "text/plain": [
       "0.3250414593698176"
      ]
     },
     "metadata": {},
     "output_type": "display_data"
    },
    {
     "data": {
      "text/plain": [
       "'AUC-ROC:'"
      ]
     },
     "metadata": {},
     "output_type": "display_data"
    },
    {
     "data": {
      "text/plain": [
       "0.5935353828630135"
      ]
     },
     "metadata": {},
     "output_type": "display_data"
    }
   ],
   "source": [
    "model = LogisticRegression(random_state=12345)\n",
    "model.fit(feature_train, target_train)\n",
    "predictions = model.predict(feature_valid)\n",
    "\n",
    "display('F1 метрика модели:', f1_score(target_valid, predictions))\n",
    "display('AUC-ROC:', roc_auc_score(target_valid, predictions))"
   ]
  },
  {
   "cell_type": "markdown",
   "id": "9ead5419",
   "metadata": {},
   "source": [
    "### Вывод по шагу\n",
    "- Чтобы сдать проект успешно, нужно довести метрику до 0.59, сейчас у нас 0.56, продолжим улучшение модели, причина  недостаточной точности - дисбаланс классов, а значит нужно его минимизировать. \n",
    "- Логистическая регрессия сильно отстает в показателях"
   ]
  },
  {
   "cell_type": "markdown",
   "id": "d8894be1",
   "metadata": {},
   "source": [
    "<div class=\"alert alert-block alert-danger\">\n",
    "<b>❌ Замечание:</b>\n",
    "\n",
    "Можешь добавить обучение еще одной модели в обучении без учета дисбаланса?\n",
    "</div>"
   ]
  },
  {
   "cell_type": "markdown",
   "id": "4c43c24f",
   "metadata": {},
   "source": [
    "<div class=\"alert alert-block alert-info\">\n",
    "<b>Комментарий студента:</b> \n",
    "</div>\n",
    "\n",
    "<div class=\"alert alert-block alert-info\">\n",
    "<b>Изменения:</b> Добавил LogisticRegression\n",
    "</div>"
   ]
  },
  {
   "cell_type": "markdown",
   "id": "bf68215f",
   "metadata": {},
   "source": [
    "<div class=\"alert alert-block alert-success\">\n",
    "<b>V2 ✔️ Успешно исправлено</b>\n",
    "</div>"
   ]
  },
  {
   "cell_type": "markdown",
   "id": "719ae687",
   "metadata": {},
   "source": [
    "### 3 Улучшим качество модели, учитывая дисбаланс классов. Обучим разные модели и найдем лучшую. Кратко опишем выводы."
   ]
  },
  {
   "cell_type": "markdown",
   "id": "54c5de2b",
   "metadata": {},
   "source": [
    "- Для балансирования классов применим метод **Upsampling**\n",
    "- Перемешаем объекты после балансирования через ```features,target=shuffle(features,target,random_state=12345)```\n",
    "- Модели обучим со взвешиванием классов ```model=LogisticRegression(class_weight='balanced',random_state=12345)```\n",
    "- Выполним подсчёт метрики **AUC-ROC**\n",
    "- Выполним подсчет метрики **F1**"
   ]
  },
  {
   "cell_type": "code",
   "execution_count": 13,
   "id": "7939c994",
   "metadata": {},
   "outputs": [],
   "source": [
    "def upsample(features, target, repeat):\n",
    "    \n",
    "    features_zeros = features[target.Exited == 0] \n",
    "    features_ones = features[target.Exited == 1] \n",
    "    target_zeros = target[target.Exited == 0] \n",
    "    target_ones = target[target.Exited == 1]\n",
    "    features_upsampled = pd.concat([features_zeros] + [features_ones] * repeat) \n",
    "    target_upsampled = pd.concat([target_zeros] + [target_ones] * repeat)\n",
    "    features_upsampled, target_upsampled = shuffle(features_upsampled, target_upsampled, random_state=12345)\n",
    "    return features_upsampled, target_upsampled\n",
    "\n",
    "ups_features, ups_target = upsample(feature_train, target_train, 4)"
   ]
  },
  {
   "cell_type": "code",
   "execution_count": 14,
   "id": "2fe7c0ea",
   "metadata": {},
   "outputs": [
    {
     "data": {
      "text/plain": [
       "Text(0.5, 1.0, 'Баланс классов')"
      ]
     },
     "execution_count": 14,
     "metadata": {},
     "output_type": "execute_result"
    },
    {
     "data": {
      "image/png": "[encoded data removed]",
      "text/plain": [
       "<Figure size 1008x432 with 1 Axes>"
      ]
     },
     "metadata": {
      "needs_background": "light"
     },
     "output_type": "display_data"
    }
   ],
   "source": [
    "plt.figure(figsize=(14,6))\n",
    "s.barplot(x=[0,1],y=ups_target.value_counts())\n",
    "plt.title(\"Баланс классов\")"
   ]
  },
  {
   "cell_type": "markdown",
   "id": "c3b23337",
   "metadata": {},
   "source": [
    "- Выглядит отлично! \n",
    "- Время поэкспериментировать с моделями! "
   ]
  },
  {
   "cell_type": "markdown",
   "id": "ceb662fb",
   "metadata": {},
   "source": [
    "<div class=\"alert alert-block alert-success\">\n",
    "<b>✔️ Успех:</b>\n",
    "\n",
    "Увеличение выборки выполнено верно - классы сбалансированы 👍 \n",
    "</div>"
   ]
  },
  {
   "cell_type": "markdown",
   "id": "72e105a8",
   "metadata": {},
   "source": [
    "- Логистическая регрессия"
   ]
  },
  {
   "cell_type": "code",
   "execution_count": 15,
   "id": "d703998d",
   "metadata": {},
   "outputs": [
    {
     "name": "stderr",
     "output_type": "stream",
     "text": [
      "/opt/conda/lib/python3.9/site-packages/sklearn/utils/validation.py:63: DataConversionWarning: A column-vector y was passed when a 1d array was expected. Please change the shape of y to (n_samples, ), for example using ravel().\n",
      "  return f(*args, **kwargs)\n"
     ]
    },
    {
     "data": {
      "text/plain": [
       "'F1 метрика модели:'"
      ]
     },
     "metadata": {},
     "output_type": "display_data"
    },
    {
     "data": {
      "text/plain": [
       "0.4992150706436421"
      ]
     },
     "metadata": {},
     "output_type": "display_data"
    },
    {
     "data": {
      "text/plain": [
       "'AUC-ROC:'"
      ]
     },
     "metadata": {},
     "output_type": "display_data"
    },
    {
     "data": {
      "text/plain": [
       "0.7145510651524118"
      ]
     },
     "metadata": {},
     "output_type": "display_data"
    }
   ],
   "source": [
    "model=LogisticRegression(random_state=12345)\n",
    "model.fit(ups_features, ups_target)\n",
    "predictions = model.predict(feature_valid)\n",
    "\n",
    "display('F1 метрика модели:', f1_score(target_valid, predictions))\n",
    "display('AUC-ROC:', roc_auc_score(target_valid, predictions))"
   ]
  },
  {
   "cell_type": "markdown",
   "id": "73090de3",
   "metadata": {},
   "source": [
    "- Логистическая регрессия c class_weight='balanced'"
   ]
  },
  {
   "cell_type": "code",
   "execution_count": 27,
   "id": "a731bbde",
   "metadata": {},
   "outputs": [
    {
     "name": "stderr",
     "output_type": "stream",
     "text": [
      "/opt/conda/lib/python3.9/site-packages/sklearn/utils/validation.py:63: DataConversionWarning: A column-vector y was passed when a 1d array was expected. Please change the shape of y to (n_samples, ), for example using ravel().\n",
      "  return f(*args, **kwargs)\n"
     ]
    },
    {
     "data": {
      "text/plain": [
       "'F1 метрика модели:'"
      ]
     },
     "metadata": {},
     "output_type": "display_data"
    },
    {
     "data": {
      "text/plain": [
       "0.5023771790808241"
      ]
     },
     "metadata": {},
     "output_type": "display_data"
    },
    {
     "data": {
      "text/plain": [
       "'AUC-ROC:'"
      ]
     },
     "metadata": {},
     "output_type": "display_data"
    },
    {
     "data": {
      "text/plain": [
       "0.7164829683562445"
      ]
     },
     "metadata": {},
     "output_type": "display_data"
    }
   ],
   "source": [
    "model=LogisticRegression(class_weight='balanced',random_state=12345)\n",
    "model.fit(feature_train, target_train)\n",
    "predictions = model.predict(feature_valid)\n",
    "\n",
    "display('F1 метрика модели:', f1_score(target_valid, predictions))\n",
    "display('AUC-ROC:', roc_auc_score(target_valid, predictions))"
   ]
  },
  {
   "cell_type": "markdown",
   "id": "1dea0bc3",
   "metadata": {},
   "source": [
    "<div class=\"alert alert-block alert-danger\">\n",
    "<b>❌ Замечание:</b>\n",
    "\n",
    "Для линейных моделей помогло бы масштабирование численных признаков. Можешь выполнить это сразу после разбиения данных? Scaler обучаешь на тренировочной выборке, затем по очереди применяешь стандартизацию ко всем выборкам.\n",
    "</div>"
   ]
  },
  {
   "cell_type": "markdown",
   "id": "ad731fd9",
   "metadata": {},
   "source": [
    "<div class=\"alert alert-block alert-info\">\n",
    "<b>Комментарий студента:</b> \n",
    "</div>\n",
    "\n",
    "<div class=\"alert alert-block alert-info\">\n",
    "<b>Изменения:</b> Да, конечно, добавил, спасибо!\n",
    "</div>"
   ]
  },
  {
   "cell_type": "markdown",
   "id": "299235c7",
   "metadata": {},
   "source": [
    "<div class=\"alert alert-block alert-success\">\n",
    "<b>V2 ✔️ Успешно исправлено</b>\n",
    "</div>"
   ]
  },
  {
   "cell_type": "markdown",
   "id": "1efa506e",
   "metadata": {},
   "source": [
    "- Дерево решений"
   ]
  },
  {
   "cell_type": "code",
   "execution_count": 30,
   "id": "d22b4627",
   "metadata": {},
   "outputs": [
    {
     "data": {
      "text/plain": [
       "'F1 метрика модели:'"
      ]
     },
     "metadata": {},
     "output_type": "display_data"
    },
    {
     "data": {
      "text/plain": [
       "0.4796380090497738"
      ]
     },
     "metadata": {},
     "output_type": "display_data"
    },
    {
     "data": {
      "text/plain": [
       "'AUC-ROC:'"
      ]
     },
     "metadata": {},
     "output_type": "display_data"
    },
    {
     "data": {
      "text/plain": [
       "0.6747404586688107"
      ]
     },
     "metadata": {},
     "output_type": "display_data"
    }
   ],
   "source": [
    "model=DecisionTreeClassifier(random_state=12345)\n",
    "model.fit(ups_features, ups_target)\n",
    "predictions = model.predict(feature_valid)\n",
    "\n",
    "display('F1 метрика модели:', f1_score(target_valid, predictions))\n",
    "display('AUC-ROC:', roc_auc_score(target_valid, predictions))"
   ]
  },
  {
   "cell_type": "markdown",
   "id": "02f67d2a",
   "metadata": {},
   "source": [
    "- Дерево решений c class_weight='balanced'"
   ]
  },
  {
   "cell_type": "code",
   "execution_count": 28,
   "id": "464d7f81",
   "metadata": {},
   "outputs": [
    {
     "data": {
      "text/plain": [
       "'F1 метрика модели:'"
      ]
     },
     "metadata": {},
     "output_type": "display_data"
    },
    {
     "data": {
      "text/plain": [
       "0.4646924829157176"
      ]
     },
     "metadata": {},
     "output_type": "display_data"
    },
    {
     "data": {
      "text/plain": [
       "'AUC-ROC:'"
      ]
     },
     "metadata": {},
     "output_type": "display_data"
    },
    {
     "data": {
      "text/plain": [
       "0.6652372816372414"
      ]
     },
     "metadata": {},
     "output_type": "display_data"
    }
   ],
   "source": [
    "model=DecisionTreeClassifier(class_weight='balanced',random_state=12345)\n",
    "model.fit(feature_train, target_train)\n",
    "predictions = model.predict(feature_valid)\n",
    "\n",
    "display('F1 метрика модели:', f1_score(target_valid, predictions))\n",
    "display('AUC-ROC:', roc_auc_score(target_valid, predictions))"
   ]
  },
  {
   "cell_type": "markdown",
   "id": "620328fc",
   "metadata": {},
   "source": [
    "- Проверим на лесе,  логистическая регрессия никогда не внушала доверия а просто дерево слабовато"
   ]
  },
  {
   "cell_type": "code",
   "execution_count": 31,
   "id": "b00ebb22",
   "metadata": {},
   "outputs": [
    {
     "name": "stderr",
     "output_type": "stream",
     "text": [
      "/tmp/ipykernel_187/3976911378.py:2: DataConversionWarning: A column-vector y was passed when a 1d array was expected. Please change the shape of y to (n_samples,), for example using ravel().\n",
      "  model.fit(ups_features, ups_target)\n"
     ]
    },
    {
     "data": {
      "text/plain": [
       "'F1 метрика модели:'"
      ]
     },
     "metadata": {},
     "output_type": "display_data"
    },
    {
     "data": {
      "text/plain": [
       "0.6034063260340633"
      ]
     },
     "metadata": {},
     "output_type": "display_data"
    },
    {
     "data": {
      "text/plain": [
       "'AUC-ROC:'"
      ]
     },
     "metadata": {},
     "output_type": "display_data"
    },
    {
     "data": {
      "text/plain": [
       "0.7421858423879664"
      ]
     },
     "metadata": {},
     "output_type": "display_data"
    }
   ],
   "source": [
    "model=RandomForestClassifier(random_state=12345)\n",
    "model.fit(ups_features, ups_target)\n",
    "predictions = model.predict(feature_valid)\n",
    "\n",
    "display('F1 метрика модели:', f1_score(target_valid, predictions))\n",
    "display('AUC-ROC:', roc_auc_score(target_valid, predictions))"
   ]
  },
  {
   "cell_type": "markdown",
   "id": "fe167221",
   "metadata": {},
   "source": [
    "- Лес с class_weight='balanced'"
   ]
  },
  {
   "cell_type": "code",
   "execution_count": 32,
   "id": "3447a4ac",
   "metadata": {},
   "outputs": [
    {
     "name": "stderr",
     "output_type": "stream",
     "text": [
      "/tmp/ipykernel_187/4172907043.py:2: DataConversionWarning: A column-vector y was passed when a 1d array was expected. Please change the shape of y to (n_samples,), for example using ravel().\n",
      "  model.fit(feature_train, target_train)\n"
     ]
    },
    {
     "data": {
      "text/plain": [
       "'F1 метрика модели:'"
      ]
     },
     "metadata": {},
     "output_type": "display_data"
    },
    {
     "data": {
      "text/plain": [
       "0.5754985754985755"
      ]
     },
     "metadata": {},
     "output_type": "display_data"
    },
    {
     "data": {
      "text/plain": [
       "'AUC-ROC:'"
      ]
     },
     "metadata": {},
     "output_type": "display_data"
    },
    {
     "data": {
      "text/plain": [
       "0.711253056985561"
      ]
     },
     "metadata": {},
     "output_type": "display_data"
    }
   ],
   "source": [
    "model=RandomForestClassifier(class_weight='balanced',random_state=12345)\n",
    "model.fit(feature_train, target_train)\n",
    "predictions = model.predict(feature_valid)\n",
    "\n",
    "display('F1 метрика модели:', f1_score(target_valid, predictions))\n",
    "display('AUC-ROC:', roc_auc_score(target_valid, predictions))"
   ]
  },
  {
   "cell_type": "markdown",
   "id": "f0e3c1ef",
   "metadata": {},
   "source": [
    "<div class=\"alert alert-block alert-danger\">\n",
    "<b>❌ Замечание:</b>\n",
    "\n",
    "Балансировка весов классов (class_weight) и увеличение выборки это разные методы борьбы с дисбалансом. Их конечно можно использовать вместе, но в нашей задаче мы должны сравнивать их. Можешь выполнить их по отдельности?)\n",
    "</div>"
   ]
  },
  {
   "cell_type": "markdown",
   "id": "0d891942",
   "metadata": {},
   "source": [
    "<div class=\"alert alert-block alert-info\">\n",
    "<b>Комментарий студента:</b> \n",
    "</div>\n",
    "\n",
    "<div class=\"alert alert-block alert-info\">\n",
    "<b>Изменения:</b> Выполнил по отдельности\n",
    "</div>"
   ]
  },
  {
   "cell_type": "markdown",
   "id": "eeaa0398",
   "metadata": {},
   "source": [
    "<div class=\"alert alert-block alert-success\">\n",
    "<b>V2 ✔️ Успешно исправлено</b>\n",
    "</div>"
   ]
  },
  {
   "cell_type": "markdown",
   "id": "df74f34b",
   "metadata": {},
   "source": [
    "- Очевидно, что модель случайного леса намного лучше справилась, текущего значения нам достаточно чтобы завершить проект, но есть еще возможность оптимизировать модель с помощью **GridSearch** и от такой возможности отказываться не хочется совершенно. \n",
    "- Плюс мы можем использовать одновременно увеличение выборки и балансировку классов, посмотрим что получится:"
   ]
  },
  {
   "cell_type": "code",
   "execution_count": 19,
   "id": "61967e5d",
   "metadata": {},
   "outputs": [
    {
     "data": {
      "text/plain": [
       "\"\\nclf = RandomForestClassifier(random_state =0)\\n\\nparametrs = { 'n_estimators': range (10, 51, 10),\\n              'max_depth': range (1,13, 2),\\n              'min_samples_leaf': range (1,8),\\n              'min_samples_split': range (2,10,2) }\\n\\ngrid = GridSearchCV(clf, parametrs, cv=5)\\ngrid.fit(ups_features, ups_target)\\ngrid.best_params_\\n\""
      ]
     },
     "execution_count": 19,
     "metadata": {},
     "output_type": "execute_result"
    }
   ],
   "source": [
    "#После запуска этого коа можно налить себе чаю с печеньками и найти какую-нидуь интересную книгу :) \n",
    "#я код закоментировал т.к. он требовался только один раз для подбора наилучших параметров\n",
    "'''\n",
    "clf = RandomForestClassifier(random_state =0)\n",
    "\n",
    "parametrs = { 'n_estimators': range (10, 51, 10),\n",
    "              'max_depth': range (1,13, 2),\n",
    "              'min_samples_leaf': range (1,8),\n",
    "              'min_samples_split': range (2,10,2) }\n",
    "\n",
    "grid = GridSearchCV(clf, parametrs, cv=5)\n",
    "grid.fit(ups_features, ups_target)\n",
    "grid.best_params_\n",
    "'''"
   ]
  },
  {
   "cell_type": "code",
   "execution_count": 34,
   "id": "41aa4af4",
   "metadata": {},
   "outputs": [
    {
     "name": "stderr",
     "output_type": "stream",
     "text": [
      "/tmp/ipykernel_187/2285031806.py:3: DataConversionWarning: A column-vector y was passed when a 1d array was expected. Please change the shape of y to (n_samples,), for example using ravel().\n",
      "  model.fit(ups_features, ups_target)\n"
     ]
    },
    {
     "data": {
      "text/plain": [
       "'F1 метрика модели:'"
      ]
     },
     "metadata": {},
     "output_type": "display_data"
    },
    {
     "data": {
      "text/plain": [
       "0.6094069529652352"
      ]
     },
     "metadata": {},
     "output_type": "display_data"
    },
    {
     "data": {
      "text/plain": [
       "'AUC-ROC:'"
      ]
     },
     "metadata": {},
     "output_type": "display_data"
    },
    {
     "data": {
      "text/plain": [
       "0.7687188019966722"
      ]
     },
     "metadata": {},
     "output_type": "display_data"
    }
   ],
   "source": [
    "model=RandomForestClassifier(class_weight='balanced', n_estimators = 40, max_depth = 11, min_samples_leaf = 1,\n",
    "                             min_samples_split = 2, random_state=12345)\n",
    "model.fit(ups_features, ups_target)\n",
    "predictions = model.predict(feature_valid)\n",
    "\n",
    "display('F1 метрика модели:', f1_score(target_valid, predictions))\n",
    "display('AUC-ROC:', roc_auc_score(target_valid, predictions))"
   ]
  },
  {
   "cell_type": "markdown",
   "id": "fb92623b",
   "metadata": {},
   "source": [
    "### Вывод по шагу\n",
    "- Модель случайного леса показала лучшее качество, инструмент **GridSearchCV** помог его еще немного улучшить\n",
    "- Также помог метод **Upsampling** \n",
    "- Метрики **F1** и **AUC-ROC**  показывают хорошие результаты"
   ]
  },
  {
   "cell_type": "markdown",
   "id": "90b9b7ad",
   "metadata": {},
   "source": [
    "<div class=\"alert alert-block alert-success\">\n",
    "<b>✔️ Успех:</b>\n",
    "\n",
    "Модели обучены корректно 👍\n",
    "</div>"
   ]
  },
  {
   "cell_type": "markdown",
   "id": "8d840e01",
   "metadata": {},
   "source": [
    "#### 4 Проведите финальное тестирование.\n",
    "- Проверим все модели на тестовой выборке\n",
    "- Сравним модели с dummy чтобы было с чем сравнивать\n",
    "- Нарисуем какой-нибудь прикольный график"
   ]
  },
  {
   "cell_type": "code",
   "execution_count": 21,
   "id": "9cf23899",
   "metadata": {},
   "outputs": [
    {
     "data": {
      "text/plain": [
       "'F1 метрика модели:'"
      ]
     },
     "metadata": {},
     "output_type": "display_data"
    },
    {
     "data": {
      "text/plain": [
       "0.3579638752052545"
      ]
     },
     "metadata": {},
     "output_type": "display_data"
    },
    {
     "data": {
      "text/plain": [
       "'AUC-ROC:'"
      ]
     },
     "metadata": {},
     "output_type": "display_data"
    },
    {
     "data": {
      "text/plain": [
       "0.5"
      ]
     },
     "metadata": {},
     "output_type": "display_data"
    }
   ],
   "source": [
    "model=DummyClassifier(random_state=12345)\n",
    "model.fit(ups_features, ups_target)\n",
    "predictions = model.predict(feature_test)\n",
    "\n",
    "dummy_f1 = f1_score(target_test, predictions)\n",
    "\n",
    "display('F1 метрика модели:', dummy_f1)\n",
    "display('AUC-ROC:', roc_auc_score(target_test, predictions))"
   ]
  },
  {
   "cell_type": "code",
   "execution_count": 22,
   "id": "82b5cfc7",
   "metadata": {},
   "outputs": [
    {
     "name": "stderr",
     "output_type": "stream",
     "text": [
      "/opt/conda/lib/python3.9/site-packages/sklearn/utils/validation.py:63: DataConversionWarning: A column-vector y was passed when a 1d array was expected. Please change the shape of y to (n_samples, ), for example using ravel().\n",
      "  return f(*args, **kwargs)\n"
     ]
    },
    {
     "data": {
      "text/plain": [
       "'F1 метрика модели:'"
      ]
     },
     "metadata": {},
     "output_type": "display_data"
    },
    {
     "data": {
      "text/plain": [
       "0.5174129353233832"
      ]
     },
     "metadata": {},
     "output_type": "display_data"
    },
    {
     "data": {
      "text/plain": [
       "'AUC-ROC:'"
      ]
     },
     "metadata": {},
     "output_type": "display_data"
    },
    {
     "data": {
      "text/plain": [
       "0.7113787277974614"
      ]
     },
     "metadata": {},
     "output_type": "display_data"
    }
   ],
   "source": [
    "model=LogisticRegression(random_state=12345)\n",
    "model.fit(ups_features, ups_target)\n",
    "predictions = model.predict(feature_test)\n",
    "\n",
    "lr_f1 = f1_score(target_test, predictions)\n",
    "\n",
    "display('F1 метрика модели:', lr_f1)\n",
    "display('AUC-ROC:', roc_auc_score(target_test, predictions))"
   ]
  },
  {
   "cell_type": "code",
   "execution_count": 23,
   "id": "70b7e947",
   "metadata": {},
   "outputs": [
    {
     "data": {
      "text/plain": [
       "'F1 метрика модели:'"
      ]
     },
     "metadata": {},
     "output_type": "display_data"
    },
    {
     "data": {
      "text/plain": [
       "0.463768115942029"
      ]
     },
     "metadata": {},
     "output_type": "display_data"
    },
    {
     "data": {
      "text/plain": [
       "'AUC-ROC:'"
      ]
     },
     "metadata": {},
     "output_type": "display_data"
    },
    {
     "data": {
      "text/plain": [
       "0.6562448673127009"
      ]
     },
     "metadata": {},
     "output_type": "display_data"
    }
   ],
   "source": [
    "model=DecisionTreeClassifier(class_weight='balanced', random_state=12345)\n",
    "model.fit(ups_features, ups_target)\n",
    "predictions = model.predict(feature_test)\n",
    "\n",
    "dt_f1 = f1_score(target_test, predictions)\n",
    "\n",
    "display('F1 метрика модели:', dt_f1)\n",
    "display('AUC-ROC:', roc_auc_score(target_test, predictions))"
   ]
  },
  {
   "cell_type": "code",
   "execution_count": 24,
   "id": "85c41c96",
   "metadata": {},
   "outputs": [
    {
     "name": "stderr",
     "output_type": "stream",
     "text": [
      "/tmp/ipykernel_187/1639011117.py:3: DataConversionWarning: A column-vector y was passed when a 1d array was expected. Please change the shape of y to (n_samples,), for example using ravel().\n",
      "  model.fit(ups_features, ups_target)\n"
     ]
    },
    {
     "data": {
      "text/plain": [
       "'F1 метрика модели:'"
      ]
     },
     "metadata": {},
     "output_type": "display_data"
    },
    {
     "data": {
      "text/plain": [
       "0.6187363834422658"
      ]
     },
     "metadata": {},
     "output_type": "display_data"
    },
    {
     "data": {
      "text/plain": [
       "'AUC-ROC:'"
      ]
     },
     "metadata": {},
     "output_type": "display_data"
    },
    {
     "data": {
      "text/plain": [
       "0.7623888406579225"
      ]
     },
     "metadata": {},
     "output_type": "display_data"
    }
   ],
   "source": [
    "model=RandomForestClassifier(class_weight='balanced', n_estimators = 40, max_depth = 11, min_samples_leaf = 1,\n",
    "                             min_samples_split = 2, random_state=12345)\n",
    "model.fit(ups_features, ups_target)\n",
    "predictions = model.predict(feature_test)\n",
    "\n",
    "df_f1 = f1_score(target_test, predictions)\n",
    "\n",
    "display('F1 метрика модели:', df_f1)\n",
    "display('AUC-ROC:', roc_auc_score(target_test, predictions))"
   ]
  },
  {
   "cell_type": "code",
   "execution_count": 25,
   "id": "b6b97769",
   "metadata": {},
   "outputs": [
    {
     "data": {
      "text/plain": [
       "{'DummyClassifier': 0.3579638752052545,\n",
       " 'LogisticRegression': 0.5174129353233832,\n",
       " 'DecisionTreeClassifier': 0.463768115942029,\n",
       " 'RandomForestClassifier': 0.6187363834422658}"
      ]
     },
     "metadata": {},
     "output_type": "display_data"
    },
    {
     "data": {
      "image/png": "[encoded data removed]",
      "text/plain": [
       "<Figure size 1008x432 with 1 Axes>"
      ]
     },
     "metadata": {
      "needs_background": "light"
     },
     "output_type": "display_data"
    }
   ],
   "source": [
    "all_metrics = ({'DummyClassifier':dummy_f1, 'LogisticRegression':lr_f1, \n",
    "                  'DecisionTreeClassifier':dt_f1, 'RandomForestClassifier':df_f1,\n",
    "                 })\n",
    "\n",
    "\n",
    "\n",
    "plt.figure(figsize=(14,6))\n",
    "ax = s.barplot(x = list(all_metrics.keys()), y=list(all_metrics.values()))\n",
    "ax.set_xticklabels(ax.get_xticklabels(),rotation = 30)\n",
    "plt.title(\"Сравнение качества моделей\")\n",
    "plt.ylabel(\"F1\")\n",
    "\n",
    "#all_metrics = sorted(all_metrics.items(), key=lambda kv: kv[1])\n",
    "\n",
    "display(all_metrics)"
   ]
  },
  {
   "cell_type": "markdown",
   "id": "8a2b0515",
   "metadata": {},
   "source": [
    "- Посмотрим как выглядит ROC-кривая лучшей модели."
   ]
  },
  {
   "cell_type": "code",
   "execution_count": 40,
   "id": "2b0147e4",
   "metadata": {},
   "outputs": [
    {
     "name": "stderr",
     "output_type": "stream",
     "text": [
      "/tmp/ipykernel_187/449323435.py:3: DataConversionWarning: A column-vector y was passed when a 1d array was expected. Please change the shape of y to (n_samples,), for example using ravel().\n",
      "  model.fit(ups_features, ups_target)\n"
     ]
    },
    {
     "data": {
      "image/png": "[encoded data removed]",
      "text/plain": [
       "<Figure size 432x432 with 1 Axes>"
      ]
     },
     "metadata": {
      "needs_background": "light"
     },
     "output_type": "display_data"
    }
   ],
   "source": [
    "model=RandomForestClassifier(class_weight='balanced', n_estimators = 40, max_depth = 11, min_samples_leaf = 1,\n",
    "                             min_samples_split = 2, random_state=12345)\n",
    "model.fit(ups_features, ups_target)\n",
    "\n",
    "probabilities_valid = model.predict_proba(feature_valid)\n",
    "precision, recall, thresholds = precision_recall_curve(target_valid, probabilities_valid[:, 1])\n",
    "plt.figure(figsize=(6, 6))\n",
    "plt.step(recall, precision, where='post')\n",
    "plt.xlabel('Recall')\n",
    "plt.ylabel('Precision')\n",
    "plt.ylim([0.0, 1.05])\n",
    "plt.xlim([0.0, 1.0])\n",
    "plt.title('Кривая Precision-Recall')\n",
    "plt.show()\n"
   ]
  },
  {
   "cell_type": "markdown",
   "id": "a98f83c0",
   "metadata": {},
   "source": [
    "<div class=\"alert alert-block alert-success\">\n",
    "<b>✔️ Успех:</b>\n",
    "\n",
    "Отличный результат 👍 \n",
    "</div>"
   ]
  },
  {
   "cell_type": "markdown",
   "id": "11937dbb",
   "metadata": {},
   "source": [
    "<div class=\"alert alert-block alert-warning\">\n",
    "<b>⚠️ Совет:</b>\n",
    "\n",
    "Здесь можно визуализировать ROC-кривую лучшей модели.\n",
    "</div>"
   ]
  },
  {
   "cell_type": "markdown",
   "id": "21edac69",
   "metadata": {},
   "source": [
    "<div class=\"alert alert-block alert-info\">\n",
    "<b>Комментарий студента:</b> \n",
    "</div>\n",
    "\n",
    "<div class=\"alert alert-block alert-info\">\n",
    "<b>Изменения:</b> Готово! \n",
    "</div>"
   ]
  },
  {
   "cell_type": "markdown",
   "id": "94e9b630",
   "metadata": {},
   "source": [
    "<div class=\"alert alert-block alert-success\">\n",
    "<b>V2 ✔️ Успешно исправлено</b>\n",
    "</div>"
   ]
  },
  {
   "cell_type": "markdown",
   "id": "ff25103e",
   "metadata": {},
   "source": [
    "### Финальный вывод\n",
    "- Был проведен анализ данных, можно сказать что датасет достаточно беспроблемный т.к. нормализация была не сложной,  пустые данные присутствовали только в  столбце **Tenure**, их впоследствии обработки заполнили значением 0, также были удалены **RowNumber** и **Surname**. \n",
    "- **Geography** и **Gender**  преобразовали техникой OHE\n",
    "- В процессе сравнения классов был обнаружен явный дисбаланс классов,  клиентов которые не ушли намного больше\n",
    "- Для балансирования классов был использован метод **Upsampling**\n",
    "- Также было проведено сравнительное исследование моделей, модель случайного леса показала наилучший результат метрики **F1** и наибольшее значение метрики **AUC-ROC**, после чего была допольнительно оптимизирована с помощью **GridSearch**\n",
    "- Выполнен сравнительный анализ метрик на тестовой выборке, для сравнения  использована модель **DummyClassifier**\n",
    "- По графику мы видим насколько большой отрыв у модели **RandomForestClassifier**, лучшее качество  может показать многослойный перцептрон но мы его еще не проходили :)"
   ]
  },
  {
   "cell_type": "markdown",
   "id": "22e048bd",
   "metadata": {},
   "source": [
    "<div class=\"alert alert-block alert-success\">\n",
    "<b>✔️ Успех:</b>\n",
    "\n",
    "Вывод соответствует исследованию 👍\n",
    "</div>"
   ]
  },
  {
   "cell_type": "markdown",
   "id": "0c359f4c",
   "metadata": {},
   "source": [
    "# <font color='orange'>Общее впечатление</font>\n",
    "* Этот проект выполнен очень хорошо\n",
    "* Видно, что приложено много усилий\n",
    "* Молодец, что структурируешь ноутбук, приятно проверять такие работы\n",
    "* У тебя чистый и лаконичный код\n",
    "* Мне было интересно читать твои промежуточные выводы\n",
    "* Твой уровень подачи материала находится на высоком уровне\n",
    "* Исправь, пожалуйста, мои замечания. Затем отправляй на повторную проверку\n",
    "* Жду новую версию проекта 👋"
   ]
  },
  {
   "cell_type": "markdown",
   "id": "d5a07af9",
   "metadata": {},
   "source": [
    "# <font color='orange'>2. Общее впечатление</font>\n",
    "* Спасибо за быстрое внесение правок\n",
    "* Теперь проект выглядит лучше )\n",
    "* Критических замечаний нет\n",
    "* Молодец, отличная работа!\n",
    "* Надеюсь, ревью было полезным\n",
    "* Удачи в дальнейшем обучении 👋"
   ]
  },
  {
   "cell_type": "markdown",
   "id": "ddecd1df",
   "metadata": {},
   "source": [
    "# <font color='orange'>Рекомендации 🔥</font>\n",
    "* Анализ данных на python и pandas https://www.youtube.com/watch?v=dd3RcafdOQk&t=82s\n",
    "* Курс \"Введение в машинное обучение\" https://stepik.org/course/4852\n",
    "* Разумные способы кодирования категориальных данных для машинного обучения https://machinelearningmastery.ru/smarter-ways-to-encode-categorical-data-for-machine-learning-part-1-of-3-6dca2f71b159/\n",
    "* Статья про \"непонятную\" метрику ROC-AUC https://dyakonov.org/2017/07/28/auc-roc-площадь-под-кривой-ошибок/\n",
    "* Хочешь подтянуть математику для DS?) https://academy.stepik.org/math-for-data-science\n",
    "* Результаты обучения моделей можно визуализировать 😎 https://www.datatechnotes.com/2019/08/elasticnet-regression-example-in-python.html\n",
    "* В нашем деле нужно быть всегда в курсе всех новинок, новостей и тд, вот тут публикуют новости в области DS: https://www.infoq.com/data-analysis/news/\n",
    "* Всем аналитикам данных рекомендую книгу Даниела Канемана \"Думай медленно, решай быстро\""
   ]
  }
 ],
 "metadata": {
  "ExecuteTimeLog": [
   {
    "duration": 56,
    "start_time": "2022-11-10T19:03:18.183Z"
   },
   {
    "duration": 49,
    "start_time": "2022-11-10T19:06:37.507Z"
   },
   {
    "duration": 1463,
    "start_time": "2022-11-10T19:10:26.252Z"
   },
   {
    "duration": 4,
    "start_time": "2022-11-10T19:10:33.379Z"
   },
   {
    "duration": 197,
    "start_time": "2022-11-10T19:10:33.385Z"
   },
   {
    "duration": 13,
    "start_time": "2022-11-10T19:10:33.583Z"
   },
   {
    "duration": 633,
    "start_time": "2022-11-10T19:10:33.598Z"
   },
   {
    "duration": 18,
    "start_time": "2022-11-10T19:10:34.233Z"
   },
   {
    "duration": 26,
    "start_time": "2022-11-10T19:10:34.252Z"
   },
   {
    "duration": 559,
    "start_time": "2022-11-10T19:10:34.279Z"
   },
   {
    "duration": 226,
    "start_time": "2022-11-10T19:10:34.840Z"
   },
   {
    "duration": 10,
    "start_time": "2022-11-10T19:10:35.068Z"
   },
   {
    "duration": 751,
    "start_time": "2022-11-10T19:10:35.080Z"
   },
   {
    "duration": 605,
    "start_time": "2022-11-10T19:10:35.833Z"
   },
   {
    "duration": 101,
    "start_time": "2022-11-10T19:10:36.440Z"
   },
   {
    "duration": 108,
    "start_time": "2022-11-10T19:10:36.542Z"
   },
   {
    "duration": 779,
    "start_time": "2022-11-10T19:10:36.652Z"
   },
   {
    "duration": 141,
    "start_time": "2022-11-10T19:10:37.433Z"
   },
   {
    "duration": 988,
    "start_time": "2022-11-10T19:10:37.576Z"
   },
   {
    "duration": 4,
    "start_time": "2022-11-10T19:10:38.565Z"
   },
   {
    "duration": 348,
    "start_time": "2022-11-10T19:10:38.571Z"
   },
   {
    "duration": 16,
    "start_time": "2022-11-10T19:10:38.921Z"
   },
   {
    "duration": 791,
    "start_time": "2022-11-10T19:10:38.939Z"
   },
   {
    "duration": 126,
    "start_time": "2022-11-10T19:10:39.732Z"
   },
   {
    "duration": 334,
    "start_time": "2022-11-10T19:10:39.860Z"
   },
   {
    "duration": 149,
    "start_time": "2022-11-10T19:10:40.195Z"
   },
   {
    "duration": 115,
    "start_time": "2022-11-10T19:15:06.337Z"
   },
   {
    "duration": 14,
    "start_time": "2022-11-10T19:15:48.862Z"
   },
   {
    "duration": 22,
    "start_time": "2022-11-10T19:15:57.177Z"
   },
   {
    "duration": 30,
    "start_time": "2022-11-10T19:17:04.988Z"
   },
   {
    "duration": 27,
    "start_time": "2022-11-10T19:17:31.837Z"
   },
   {
    "duration": 26,
    "start_time": "2022-11-10T19:17:52.952Z"
   },
   {
    "duration": 15,
    "start_time": "2022-11-10T19:17:56.867Z"
   },
   {
    "duration": 16,
    "start_time": "2022-11-10T19:18:57.957Z"
   },
   {
    "duration": 16,
    "start_time": "2022-11-10T19:19:02.475Z"
   },
   {
    "duration": 712,
    "start_time": "2022-11-10T19:21:00.427Z"
   },
   {
    "duration": 3,
    "start_time": "2022-11-10T19:21:37.107Z"
   },
   {
    "duration": 57,
    "start_time": "2022-11-10T19:21:37.117Z"
   },
   {
    "duration": 12,
    "start_time": "2022-11-10T19:21:37.177Z"
   },
   {
    "duration": 544,
    "start_time": "2022-11-10T19:21:37.190Z"
   },
   {
    "duration": 18,
    "start_time": "2022-11-10T19:21:37.736Z"
   },
   {
    "duration": 25,
    "start_time": "2022-11-10T19:21:37.757Z"
   },
   {
    "duration": 590,
    "start_time": "2022-11-10T19:21:37.784Z"
   },
   {
    "duration": 132,
    "start_time": "2022-11-10T19:21:38.376Z"
   },
   {
    "duration": 27,
    "start_time": "2022-11-10T19:21:38.510Z"
   },
   {
    "duration": 771,
    "start_time": "2022-11-10T19:21:38.539Z"
   },
   {
    "duration": 128,
    "start_time": "2022-11-10T19:21:39.311Z"
   },
   {
    "duration": 17,
    "start_time": "2022-11-10T19:21:39.531Z"
   },
   {
    "duration": 0,
    "start_time": "2022-11-10T19:21:39.549Z"
   },
   {
    "duration": 0,
    "start_time": "2022-11-10T19:21:39.550Z"
   },
   {
    "duration": 0,
    "start_time": "2022-11-10T19:21:39.551Z"
   },
   {
    "duration": 0,
    "start_time": "2022-11-10T19:21:39.552Z"
   },
   {
    "duration": 0,
    "start_time": "2022-11-10T19:21:39.553Z"
   },
   {
    "duration": 0,
    "start_time": "2022-11-10T19:21:39.554Z"
   },
   {
    "duration": 0,
    "start_time": "2022-11-10T19:21:39.555Z"
   },
   {
    "duration": 0,
    "start_time": "2022-11-10T19:21:39.556Z"
   },
   {
    "duration": 0,
    "start_time": "2022-11-10T19:21:39.557Z"
   },
   {
    "duration": 0,
    "start_time": "2022-11-10T19:21:39.558Z"
   },
   {
    "duration": 0,
    "start_time": "2022-11-10T19:21:39.559Z"
   },
   {
    "duration": 0,
    "start_time": "2022-11-10T19:21:39.560Z"
   },
   {
    "duration": 1320,
    "start_time": "2022-11-10T19:23:18.528Z"
   },
   {
    "duration": 55,
    "start_time": "2022-11-10T19:23:19.849Z"
   },
   {
    "duration": 11,
    "start_time": "2022-11-10T19:23:19.905Z"
   },
   {
    "duration": 518,
    "start_time": "2022-11-10T19:23:19.918Z"
   },
   {
    "duration": 16,
    "start_time": "2022-11-10T19:23:20.438Z"
   },
   {
    "duration": 25,
    "start_time": "2022-11-10T19:23:20.455Z"
   },
   {
    "duration": 579,
    "start_time": "2022-11-10T19:23:20.481Z"
   },
   {
    "duration": 198,
    "start_time": "2022-11-10T19:23:21.062Z"
   },
   {
    "duration": 20,
    "start_time": "2022-11-10T19:23:21.262Z"
   },
   {
    "duration": 757,
    "start_time": "2022-11-10T19:23:21.284Z"
   },
   {
    "duration": 190,
    "start_time": "2022-11-10T19:23:22.043Z"
   },
   {
    "duration": 207,
    "start_time": "2022-11-10T19:23:22.236Z"
   },
   {
    "duration": 0,
    "start_time": "2022-11-10T19:23:22.445Z"
   },
   {
    "duration": 0,
    "start_time": "2022-11-10T19:23:22.446Z"
   },
   {
    "duration": 0,
    "start_time": "2022-11-10T19:23:22.447Z"
   },
   {
    "duration": 0,
    "start_time": "2022-11-10T19:23:22.449Z"
   },
   {
    "duration": 0,
    "start_time": "2022-11-10T19:23:22.450Z"
   },
   {
    "duration": 0,
    "start_time": "2022-11-10T19:23:22.452Z"
   },
   {
    "duration": 0,
    "start_time": "2022-11-10T19:23:22.454Z"
   },
   {
    "duration": 0,
    "start_time": "2022-11-10T19:23:22.455Z"
   },
   {
    "duration": 0,
    "start_time": "2022-11-10T19:23:22.456Z"
   },
   {
    "duration": 0,
    "start_time": "2022-11-10T19:23:22.458Z"
   },
   {
    "duration": 0,
    "start_time": "2022-11-10T19:23:22.460Z"
   },
   {
    "duration": 0,
    "start_time": "2022-11-10T19:23:22.461Z"
   },
   {
    "duration": 4,
    "start_time": "2022-11-10T19:24:27.687Z"
   },
   {
    "duration": 5,
    "start_time": "2022-11-10T19:25:05.837Z"
   },
   {
    "duration": 16,
    "start_time": "2022-11-10T19:27:03.167Z"
   },
   {
    "duration": 3,
    "start_time": "2022-11-10T19:27:17.347Z"
   },
   {
    "duration": 20,
    "start_time": "2022-11-10T19:27:23.867Z"
   },
   {
    "duration": 32,
    "start_time": "2022-11-10T19:30:14.418Z"
   },
   {
    "duration": 22,
    "start_time": "2022-11-10T19:30:46.317Z"
   },
   {
    "duration": 3,
    "start_time": "2022-11-10T19:30:53.959Z"
   },
   {
    "duration": 58,
    "start_time": "2022-11-10T19:30:53.964Z"
   },
   {
    "duration": 11,
    "start_time": "2022-11-10T19:30:54.024Z"
   },
   {
    "duration": 525,
    "start_time": "2022-11-10T19:30:54.037Z"
   },
   {
    "duration": 25,
    "start_time": "2022-11-10T19:30:54.565Z"
   },
   {
    "duration": 50,
    "start_time": "2022-11-10T19:30:54.592Z"
   },
   {
    "duration": 590,
    "start_time": "2022-11-10T19:30:54.644Z"
   },
   {
    "duration": 118,
    "start_time": "2022-11-10T19:30:55.236Z"
   },
   {
    "duration": 18,
    "start_time": "2022-11-10T19:30:55.356Z"
   },
   {
    "duration": 746,
    "start_time": "2022-11-10T19:30:55.375Z"
   },
   {
    "duration": 111,
    "start_time": "2022-11-10T19:30:56.129Z"
   },
   {
    "duration": 195,
    "start_time": "2022-11-10T19:30:56.242Z"
   },
   {
    "duration": 0,
    "start_time": "2022-11-10T19:30:56.438Z"
   },
   {
    "duration": 0,
    "start_time": "2022-11-10T19:30:56.439Z"
   },
   {
    "duration": 0,
    "start_time": "2022-11-10T19:30:56.440Z"
   },
   {
    "duration": 0,
    "start_time": "2022-11-10T19:30:56.441Z"
   },
   {
    "duration": 0,
    "start_time": "2022-11-10T19:30:56.442Z"
   },
   {
    "duration": 0,
    "start_time": "2022-11-10T19:30:56.443Z"
   },
   {
    "duration": 0,
    "start_time": "2022-11-10T19:30:56.444Z"
   },
   {
    "duration": 0,
    "start_time": "2022-11-10T19:30:56.445Z"
   },
   {
    "duration": 0,
    "start_time": "2022-11-10T19:30:56.446Z"
   },
   {
    "duration": 0,
    "start_time": "2022-11-10T19:30:56.447Z"
   },
   {
    "duration": 0,
    "start_time": "2022-11-10T19:30:56.448Z"
   },
   {
    "duration": 0,
    "start_time": "2022-11-10T19:30:56.449Z"
   },
   {
    "duration": 19,
    "start_time": "2022-11-10T19:31:16.067Z"
   },
   {
    "duration": 13,
    "start_time": "2022-11-10T19:31:38.627Z"
   },
   {
    "duration": 31,
    "start_time": "2022-11-10T19:33:36.802Z"
   },
   {
    "duration": 18,
    "start_time": "2022-11-10T19:35:51.967Z"
   },
   {
    "duration": 26,
    "start_time": "2022-11-10T19:36:11.183Z"
   },
   {
    "duration": 18,
    "start_time": "2022-11-10T19:36:24.387Z"
   },
   {
    "duration": 18,
    "start_time": "2022-11-10T19:36:31.487Z"
   },
   {
    "duration": 5,
    "start_time": "2022-11-10T19:37:00.317Z"
   },
   {
    "duration": 8,
    "start_time": "2022-11-10T19:37:09.377Z"
   },
   {
    "duration": 16,
    "start_time": "2022-11-10T19:37:23.792Z"
   },
   {
    "duration": 5,
    "start_time": "2022-11-10T19:37:31.722Z"
   },
   {
    "duration": 14,
    "start_time": "2022-11-10T19:38:20.657Z"
   },
   {
    "duration": 13,
    "start_time": "2022-11-10T19:39:23.147Z"
   },
   {
    "duration": 1286,
    "start_time": "2022-11-10T19:39:50.387Z"
   },
   {
    "duration": 61,
    "start_time": "2022-11-10T19:39:51.675Z"
   },
   {
    "duration": 14,
    "start_time": "2022-11-10T19:39:51.738Z"
   },
   {
    "duration": 602,
    "start_time": "2022-11-10T19:39:51.753Z"
   },
   {
    "duration": 18,
    "start_time": "2022-11-10T19:39:52.357Z"
   },
   {
    "duration": 24,
    "start_time": "2022-11-10T19:39:52.377Z"
   },
   {
    "duration": 576,
    "start_time": "2022-11-10T19:39:52.402Z"
   },
   {
    "duration": 217,
    "start_time": "2022-11-10T19:39:52.980Z"
   },
   {
    "duration": 32,
    "start_time": "2022-11-10T19:39:53.199Z"
   },
   {
    "duration": 780,
    "start_time": "2022-11-10T19:39:53.240Z"
   },
   {
    "duration": 309,
    "start_time": "2022-11-10T19:39:54.021Z"
   },
   {
    "duration": 227,
    "start_time": "2022-11-10T19:39:54.332Z"
   },
   {
    "duration": 0,
    "start_time": "2022-11-10T19:39:54.560Z"
   },
   {
    "duration": 0,
    "start_time": "2022-11-10T19:39:54.562Z"
   },
   {
    "duration": 0,
    "start_time": "2022-11-10T19:39:54.563Z"
   },
   {
    "duration": 0,
    "start_time": "2022-11-10T19:39:54.564Z"
   },
   {
    "duration": 0,
    "start_time": "2022-11-10T19:39:54.566Z"
   },
   {
    "duration": 0,
    "start_time": "2022-11-10T19:39:54.567Z"
   },
   {
    "duration": 0,
    "start_time": "2022-11-10T19:39:54.569Z"
   },
   {
    "duration": 0,
    "start_time": "2022-11-10T19:39:54.570Z"
   },
   {
    "duration": 0,
    "start_time": "2022-11-10T19:39:54.571Z"
   },
   {
    "duration": 0,
    "start_time": "2022-11-10T19:39:54.572Z"
   },
   {
    "duration": 0,
    "start_time": "2022-11-10T19:39:54.574Z"
   },
   {
    "duration": 0,
    "start_time": "2022-11-10T19:39:54.575Z"
   },
   {
    "duration": 0,
    "start_time": "2022-11-10T19:39:54.576Z"
   },
   {
    "duration": 12,
    "start_time": "2022-11-10T19:40:21.946Z"
   },
   {
    "duration": 18,
    "start_time": "2022-11-10T19:43:20.444Z"
   },
   {
    "duration": 18,
    "start_time": "2022-11-10T19:45:14.427Z"
   },
   {
    "duration": 19,
    "start_time": "2022-11-10T19:45:37.752Z"
   },
   {
    "duration": 21,
    "start_time": "2022-11-10T19:46:09.847Z"
   },
   {
    "duration": 54,
    "start_time": "2022-11-10T19:46:16.312Z"
   },
   {
    "duration": 83,
    "start_time": "2022-11-10T19:46:48.787Z"
   },
   {
    "duration": 114,
    "start_time": "2022-11-10T19:46:51.412Z"
   },
   {
    "duration": 15,
    "start_time": "2022-11-10T19:47:06.187Z"
   },
   {
    "duration": 8,
    "start_time": "2022-11-10T19:47:17.897Z"
   },
   {
    "duration": 22,
    "start_time": "2022-11-10T19:48:10.726Z"
   },
   {
    "duration": 8,
    "start_time": "2022-11-10T19:48:17.102Z"
   },
   {
    "duration": 51,
    "start_time": "2022-11-10T19:48:46.078Z"
   },
   {
    "duration": 8,
    "start_time": "2022-11-10T19:48:56.406Z"
   },
   {
    "duration": 17,
    "start_time": "2022-11-10T19:49:03.467Z"
   },
   {
    "duration": 77,
    "start_time": "2022-11-10T19:49:09.457Z"
   },
   {
    "duration": 1307,
    "start_time": "2022-11-10T19:49:17.598Z"
   },
   {
    "duration": 55,
    "start_time": "2022-11-10T19:49:18.907Z"
   },
   {
    "duration": 12,
    "start_time": "2022-11-10T19:49:18.963Z"
   },
   {
    "duration": 550,
    "start_time": "2022-11-10T19:49:18.977Z"
   },
   {
    "duration": 16,
    "start_time": "2022-11-10T19:49:19.529Z"
   },
   {
    "duration": 22,
    "start_time": "2022-11-10T19:49:19.547Z"
   },
   {
    "duration": 549,
    "start_time": "2022-11-10T19:49:19.570Z"
   },
   {
    "duration": 186,
    "start_time": "2022-11-10T19:49:20.120Z"
   },
   {
    "duration": 27,
    "start_time": "2022-11-10T19:49:20.307Z"
   },
   {
    "duration": 702,
    "start_time": "2022-11-10T19:49:20.335Z"
   },
   {
    "duration": 291,
    "start_time": "2022-11-10T19:49:21.039Z"
   },
   {
    "duration": 77,
    "start_time": "2022-11-10T19:49:21.332Z"
   },
   {
    "duration": 106,
    "start_time": "2022-11-10T19:49:21.411Z"
   },
   {
    "duration": 117,
    "start_time": "2022-11-10T19:49:21.519Z"
   },
   {
    "duration": 0,
    "start_time": "2022-11-10T19:49:21.637Z"
   },
   {
    "duration": 0,
    "start_time": "2022-11-10T19:49:21.638Z"
   },
   {
    "duration": 0,
    "start_time": "2022-11-10T19:49:21.640Z"
   },
   {
    "duration": 0,
    "start_time": "2022-11-10T19:49:21.640Z"
   },
   {
    "duration": 0,
    "start_time": "2022-11-10T19:49:21.642Z"
   },
   {
    "duration": 0,
    "start_time": "2022-11-10T19:49:21.643Z"
   },
   {
    "duration": 0,
    "start_time": "2022-11-10T19:49:21.644Z"
   },
   {
    "duration": 0,
    "start_time": "2022-11-10T19:49:21.645Z"
   },
   {
    "duration": 0,
    "start_time": "2022-11-10T19:49:21.646Z"
   },
   {
    "duration": 0,
    "start_time": "2022-11-10T19:49:21.647Z"
   },
   {
    "duration": 15,
    "start_time": "2022-11-10T19:49:49.018Z"
   },
   {
    "duration": 93,
    "start_time": "2022-11-10T19:50:34.288Z"
   },
   {
    "duration": 82,
    "start_time": "2022-11-10T19:50:51.728Z"
   },
   {
    "duration": 85,
    "start_time": "2022-11-10T19:51:46.868Z"
   },
   {
    "duration": 20,
    "start_time": "2022-11-10T19:52:58.157Z"
   },
   {
    "duration": 14,
    "start_time": "2022-11-10T19:53:06.153Z"
   },
   {
    "duration": 7,
    "start_time": "2022-11-10T19:53:19.207Z"
   },
   {
    "duration": 16,
    "start_time": "2022-11-10T19:53:30.338Z"
   },
   {
    "duration": 19,
    "start_time": "2022-11-10T19:53:50.798Z"
   },
   {
    "duration": 20,
    "start_time": "2022-11-10T19:54:08.278Z"
   },
   {
    "duration": 15,
    "start_time": "2022-11-10T19:54:12.238Z"
   },
   {
    "duration": 77,
    "start_time": "2022-11-10T19:54:30.848Z"
   },
   {
    "duration": 14,
    "start_time": "2022-11-10T19:54:34.247Z"
   },
   {
    "duration": 10,
    "start_time": "2022-11-10T19:55:02.028Z"
   },
   {
    "duration": 15,
    "start_time": "2022-11-10T19:55:11.323Z"
   },
   {
    "duration": 11,
    "start_time": "2022-11-10T19:55:15.597Z"
   },
   {
    "duration": 45,
    "start_time": "2022-11-10T19:55:48.227Z"
   },
   {
    "duration": 46,
    "start_time": "2022-11-10T19:55:55.847Z"
   },
   {
    "duration": 45,
    "start_time": "2022-11-10T19:56:04.157Z"
   },
   {
    "duration": 16,
    "start_time": "2022-11-10T19:56:09.317Z"
   },
   {
    "duration": 18,
    "start_time": "2022-11-10T19:56:48.402Z"
   },
   {
    "duration": 18,
    "start_time": "2022-11-10T20:00:23.577Z"
   },
   {
    "duration": 37,
    "start_time": "2022-11-10T20:00:38.853Z"
   },
   {
    "duration": 21,
    "start_time": "2022-11-10T20:03:07.412Z"
   },
   {
    "duration": 15,
    "start_time": "2022-11-10T20:03:10.138Z"
   },
   {
    "duration": 51,
    "start_time": "2022-11-10T20:03:28.718Z"
   },
   {
    "duration": 46,
    "start_time": "2022-11-10T20:04:20.917Z"
   },
   {
    "duration": 46,
    "start_time": "2022-11-10T20:04:24.517Z"
   },
   {
    "duration": 1300,
    "start_time": "2022-11-10T20:04:41.048Z"
   },
   {
    "duration": 55,
    "start_time": "2022-11-10T20:04:42.350Z"
   },
   {
    "duration": 11,
    "start_time": "2022-11-10T20:04:42.407Z"
   },
   {
    "duration": 533,
    "start_time": "2022-11-10T20:04:42.419Z"
   },
   {
    "duration": 16,
    "start_time": "2022-11-10T20:04:42.954Z"
   },
   {
    "duration": 25,
    "start_time": "2022-11-10T20:04:42.972Z"
   },
   {
    "duration": 548,
    "start_time": "2022-11-10T20:04:42.998Z"
   },
   {
    "duration": 207,
    "start_time": "2022-11-10T20:04:43.547Z"
   },
   {
    "duration": 21,
    "start_time": "2022-11-10T20:04:43.755Z"
   },
   {
    "duration": 17,
    "start_time": "2022-11-10T20:04:43.779Z"
   },
   {
    "duration": 833,
    "start_time": "2022-11-10T20:04:43.798Z"
   },
   {
    "duration": 200,
    "start_time": "2022-11-10T20:04:44.632Z"
   },
   {
    "duration": 161,
    "start_time": "2022-11-10T20:04:44.834Z"
   },
   {
    "duration": 58,
    "start_time": "2022-11-10T20:04:44.997Z"
   },
   {
    "duration": 121,
    "start_time": "2022-11-10T20:04:45.057Z"
   },
   {
    "duration": 125,
    "start_time": "2022-11-10T20:04:45.179Z"
   },
   {
    "duration": 0,
    "start_time": "2022-11-10T20:04:45.306Z"
   },
   {
    "duration": 0,
    "start_time": "2022-11-10T20:04:45.307Z"
   },
   {
    "duration": 0,
    "start_time": "2022-11-10T20:04:45.308Z"
   },
   {
    "duration": 0,
    "start_time": "2022-11-10T20:04:45.309Z"
   },
   {
    "duration": 0,
    "start_time": "2022-11-10T20:04:45.310Z"
   },
   {
    "duration": 0,
    "start_time": "2022-11-10T20:04:45.311Z"
   },
   {
    "duration": 0,
    "start_time": "2022-11-10T20:04:45.312Z"
   },
   {
    "duration": 0,
    "start_time": "2022-11-10T20:04:45.313Z"
   },
   {
    "duration": 0,
    "start_time": "2022-11-10T20:04:45.330Z"
   },
   {
    "duration": 0,
    "start_time": "2022-11-10T20:04:45.330Z"
   },
   {
    "duration": 52,
    "start_time": "2022-11-10T20:05:07.842Z"
   },
   {
    "duration": 14,
    "start_time": "2022-11-10T20:05:17.867Z"
   },
   {
    "duration": 21,
    "start_time": "2022-11-10T20:05:34.412Z"
   },
   {
    "duration": 7,
    "start_time": "2022-11-10T20:05:45.507Z"
   },
   {
    "duration": 15,
    "start_time": "2022-11-10T20:06:17.797Z"
   },
   {
    "duration": 9,
    "start_time": "2022-11-10T20:06:48.693Z"
   },
   {
    "duration": 16,
    "start_time": "2022-11-10T20:07:00.467Z"
   },
   {
    "duration": 1487,
    "start_time": "2022-11-10T20:07:22.642Z"
   },
   {
    "duration": 57,
    "start_time": "2022-11-10T20:07:24.132Z"
   },
   {
    "duration": 13,
    "start_time": "2022-11-10T20:07:24.191Z"
   },
   {
    "duration": 598,
    "start_time": "2022-11-10T20:07:24.206Z"
   },
   {
    "duration": 32,
    "start_time": "2022-11-10T20:07:24.807Z"
   },
   {
    "duration": 42,
    "start_time": "2022-11-10T20:07:24.841Z"
   },
   {
    "duration": 593,
    "start_time": "2022-11-10T20:07:24.885Z"
   },
   {
    "duration": 216,
    "start_time": "2022-11-10T20:07:25.480Z"
   },
   {
    "duration": 33,
    "start_time": "2022-11-10T20:07:25.698Z"
   },
   {
    "duration": 19,
    "start_time": "2022-11-10T20:07:25.734Z"
   },
   {
    "duration": 837,
    "start_time": "2022-11-10T20:07:25.755Z"
   },
   {
    "duration": 236,
    "start_time": "2022-11-10T20:07:26.593Z"
   },
   {
    "duration": 11,
    "start_time": "2022-11-10T20:07:26.831Z"
   },
   {
    "duration": 131,
    "start_time": "2022-11-10T20:07:26.843Z"
   },
   {
    "duration": 167,
    "start_time": "2022-11-10T20:07:26.976Z"
   },
   {
    "duration": 289,
    "start_time": "2022-11-10T20:07:27.145Z"
   },
   {
    "duration": 149,
    "start_time": "2022-11-10T20:07:27.436Z"
   },
   {
    "duration": 1145,
    "start_time": "2022-11-10T20:07:27.587Z"
   },
   {
    "duration": 4,
    "start_time": "2022-11-10T20:07:28.734Z"
   },
   {
    "duration": 415,
    "start_time": "2022-11-10T20:07:28.740Z"
   },
   {
    "duration": 14,
    "start_time": "2022-11-10T20:07:29.157Z"
   },
   {
    "duration": 162,
    "start_time": "2022-11-10T20:07:29.173Z"
   },
   {
    "duration": 141,
    "start_time": "2022-11-10T20:07:29.337Z"
   },
   {
    "duration": 394,
    "start_time": "2022-11-10T20:07:29.480Z"
   },
   {
    "duration": 207,
    "start_time": "2022-11-10T20:07:29.876Z"
   },
   {
    "duration": 42,
    "start_time": "2022-11-10T20:08:04.247Z"
   },
   {
    "duration": 212,
    "start_time": "2022-11-10T20:14:33.322Z"
   },
   {
    "duration": 47,
    "start_time": "2022-11-10T20:16:10.753Z"
   },
   {
    "duration": 44,
    "start_time": "2022-11-10T20:17:12.462Z"
   },
   {
    "duration": 49,
    "start_time": "2022-11-10T20:17:16.887Z"
   },
   {
    "duration": 1015,
    "start_time": "2022-11-10T20:18:08.268Z"
   },
   {
    "duration": 726,
    "start_time": "2022-11-10T20:18:16.798Z"
   },
   {
    "duration": 44,
    "start_time": "2022-11-10T20:18:55.642Z"
   },
   {
    "duration": 457,
    "start_time": "2022-11-10T20:20:04.673Z"
   },
   {
    "duration": 40,
    "start_time": "2022-11-10T20:21:05.333Z"
   },
   {
    "duration": 104,
    "start_time": "2022-11-10T20:21:32.007Z"
   },
   {
    "duration": 3,
    "start_time": "2022-11-10T20:22:52.528Z"
   },
   {
    "duration": 5,
    "start_time": "2022-11-10T20:24:45.153Z"
   },
   {
    "duration": 343,
    "start_time": "2022-11-10T20:25:31.658Z"
   },
   {
    "duration": 451,
    "start_time": "2022-11-10T20:26:45.362Z"
   }
  ],
  "kernelspec": {
   "display_name": "Python 3 (ipykernel)",
   "language": "python",
   "name": "python3"
  },
  "language_info": {
   "codemirror_mode": {
    "name": "ipython",
    "version": 3
   },
   "file_extension": ".py",
   "mimetype": "text/x-python",
   "name": "python",
   "nbconvert_exporter": "python",
   "pygments_lexer": "ipython3",
   "version": "3.9.13"
  },
  "toc": {
   "base_numbering": 1,
   "nav_menu": {},
   "number_sections": true,
   "sideBar": true,
   "skip_h1_title": true,
   "title_cell": "Table of Contents",
   "title_sidebar": "Contents",
   "toc_cell": false,
   "toc_position": {},
   "toc_section_display": true,
   "toc_window_display": false
  }
 },
 "nbformat": 4,
 "nbformat_minor": 5
}
