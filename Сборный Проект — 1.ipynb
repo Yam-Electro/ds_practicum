{
 "cells": [
  {
   "cell_type": "markdown",
   "id": "9b70ec57",
   "metadata": {},
   "source": [
    "<div style=\"border:solid green 2px; padding: 20px\">\n",
    "Станислав, привет и хорошего дня! <br>\n",
    "Меня зовут Сергей Дроздов, и я буду проверять твой проект. Предлагаю общаться на «ты». Если тебе удобнее общаться на \"Вы\", просто дай знать. \n",
    "\n",
    "Ты уже проделал большую работу над проектом, но давай сделаем его еще лучше. Ниже ты найдешь мои комментарии - пожалуйста, не перемещай, не изменяй и не удаляй их. Я буду использовать цветовую разметку:\n",
    "\n",
    "<div class=\"alert alert-danger\">\n",
    "<b>Комментарий ревьюера: &#10060; </b> Так будут выделены комментарии с указаниями, обязательными к выполнению. Без их выполнения проект не будет принят. </div>\n",
    "\n",
    "<div class=\"alert alert-warning\">\n",
    "<b>Комментарий ревьюера:\n",
    "&#9888;</b> Так будут выделены некритичные замечания. Их отработка позволит улучшить качество твоего проекта.\n",
    "</div>\n",
    "\n",
    "<div class=\"alert alert-success\">\n",
    "<b>Комментарий ревьюера:\n",
    "&#9989;</b> Так будут выделены остальные комментарии, полезные лайфхаки и ссылки на сторонние ресурсы </div>\n",
    "\n",
    "Для наиболее эффективной и оперативной работы над проектом, мне хотелось бы иметь обратную связь. Не стесняйся задавать вопросы. Если ты что-либо меняешь в проекте, пожалуйста, комментируй это. Мне будет легче отследить изменения, если ты выделишь свои комментарии:\n",
    "<div class=\"alert alert-info\"> <b>Комментарий студента:</b> Например вот так</div>"
   ]
  },
  {
   "cell_type": "markdown",
   "id": "508923ef",
   "metadata": {},
   "source": [
    "### Описание проекта\n",
    "Вы работаете в интернет-магазине «Стримчик», который продаёт по всему миру компьютерные игры. Из открытых источников доступны исторические данные о продажах игр, оценки пользователей и экспертов, жанры и платформы (например, Xbox или PlayStation). Вам нужно выявить определяющие успешность игры закономерности. Это позволит сделать ставку на потенциально популярный продукт и спланировать рекламные кампании.\n",
    "\n",
    "Перед вами данные до 2016 года. Представим, что сейчас декабрь 2016 г., и вы планируете кампанию на 2017-й. Нужно отработать принцип работы с данными. Неважно, прогнозируете ли вы продажи на 2017 год по данным 2016-го или же 2027-й — по данным 2026 года.\n",
    "\n",
    "В наборе данных попадается аббревиатура ESRB (Entertainment Software Rating Board) — это ассоциация, определяющая возрастной рейтинг компьютерных игр. ESRB оценивает игровой контент и присваивает ему подходящую возрастную категорию, например, «Для взрослых», «Для детей младшего возраста» или «Для подростков».\n"
   ]
  },
  {
   "cell_type": "markdown",
   "id": "8dce4714",
   "metadata": {},
   "source": [
    "#### Шаг 1. Откройте файл с данными и изучите общую информацию\n",
    "Путь к файлу: /datasets/games.csv. Скачать датасет"
   ]
  },
  {
   "cell_type": "code",
   "execution_count": 1,
   "id": "416e51db",
   "metadata": {},
   "outputs": [],
   "source": [
    "import pandas as pd\n",
    "import seaborn as sns\n",
    "import numpy as np\n",
    "import matplotlib.pyplot as plt\n",
    "from scipy import stats as st"
   ]
  },
  {
   "cell_type": "code",
   "execution_count": 2,
   "id": "1c456820",
   "metadata": {},
   "outputs": [
    {
     "data": {
      "text/html": [
       "<div>\n",
       "<style scoped>\n",
       "    .dataframe tbody tr th:only-of-type {\n",
       "        vertical-align: middle;\n",
       "    }\n",
       "\n",
       "    .dataframe tbody tr th {\n",
       "        vertical-align: top;\n",
       "    }\n",
       "\n",
       "    .dataframe thead th {\n",
       "        text-align: right;\n",
       "    }\n",
       "</style>\n",
       "<table border=\"1\" class=\"dataframe\">\n",
       "  <thead>\n",
       "    <tr style=\"text-align: right;\">\n",
       "      <th></th>\n",
       "      <th>Name</th>\n",
       "      <th>Platform</th>\n",
       "      <th>Year_of_Release</th>\n",
       "      <th>Genre</th>\n",
       "      <th>NA_sales</th>\n",
       "      <th>EU_sales</th>\n",
       "      <th>JP_sales</th>\n",
       "      <th>Other_sales</th>\n",
       "      <th>Critic_Score</th>\n",
       "      <th>User_Score</th>\n",
       "      <th>Rating</th>\n",
       "    </tr>\n",
       "  </thead>\n",
       "  <tbody>\n",
       "    <tr>\n",
       "      <th>0</th>\n",
       "      <td>Wii Sports</td>\n",
       "      <td>Wii</td>\n",
       "      <td>2006.0</td>\n",
       "      <td>Sports</td>\n",
       "      <td>41.36</td>\n",
       "      <td>28.96</td>\n",
       "      <td>3.77</td>\n",
       "      <td>8.45</td>\n",
       "      <td>76.0</td>\n",
       "      <td>8</td>\n",
       "      <td>E</td>\n",
       "    </tr>\n",
       "    <tr>\n",
       "      <th>1</th>\n",
       "      <td>Super Mario Bros.</td>\n",
       "      <td>NES</td>\n",
       "      <td>1985.0</td>\n",
       "      <td>Platform</td>\n",
       "      <td>29.08</td>\n",
       "      <td>3.58</td>\n",
       "      <td>6.81</td>\n",
       "      <td>0.77</td>\n",
       "      <td>NaN</td>\n",
       "      <td>NaN</td>\n",
       "      <td>NaN</td>\n",
       "    </tr>\n",
       "    <tr>\n",
       "      <th>2</th>\n",
       "      <td>Mario Kart Wii</td>\n",
       "      <td>Wii</td>\n",
       "      <td>2008.0</td>\n",
       "      <td>Racing</td>\n",
       "      <td>15.68</td>\n",
       "      <td>12.76</td>\n",
       "      <td>3.79</td>\n",
       "      <td>3.29</td>\n",
       "      <td>82.0</td>\n",
       "      <td>8.3</td>\n",
       "      <td>E</td>\n",
       "    </tr>\n",
       "    <tr>\n",
       "      <th>3</th>\n",
       "      <td>Wii Sports Resort</td>\n",
       "      <td>Wii</td>\n",
       "      <td>2009.0</td>\n",
       "      <td>Sports</td>\n",
       "      <td>15.61</td>\n",
       "      <td>10.93</td>\n",
       "      <td>3.28</td>\n",
       "      <td>2.95</td>\n",
       "      <td>80.0</td>\n",
       "      <td>8</td>\n",
       "      <td>E</td>\n",
       "    </tr>\n",
       "    <tr>\n",
       "      <th>4</th>\n",
       "      <td>Pokemon Red/Pokemon Blue</td>\n",
       "      <td>GB</td>\n",
       "      <td>1996.0</td>\n",
       "      <td>Role-Playing</td>\n",
       "      <td>11.27</td>\n",
       "      <td>8.89</td>\n",
       "      <td>10.22</td>\n",
       "      <td>1.00</td>\n",
       "      <td>NaN</td>\n",
       "      <td>NaN</td>\n",
       "      <td>NaN</td>\n",
       "    </tr>\n",
       "  </tbody>\n",
       "</table>\n",
       "</div>"
      ],
      "text/plain": [
       "                       Name Platform  Year_of_Release         Genre  NA_sales  \\\n",
       "0                Wii Sports      Wii           2006.0        Sports     41.36   \n",
       "1         Super Mario Bros.      NES           1985.0      Platform     29.08   \n",
       "2            Mario Kart Wii      Wii           2008.0        Racing     15.68   \n",
       "3         Wii Sports Resort      Wii           2009.0        Sports     15.61   \n",
       "4  Pokemon Red/Pokemon Blue       GB           1996.0  Role-Playing     11.27   \n",
       "\n",
       "   EU_sales  JP_sales  Other_sales  Critic_Score User_Score Rating  \n",
       "0     28.96      3.77         8.45          76.0          8      E  \n",
       "1      3.58      6.81         0.77           NaN        NaN    NaN  \n",
       "2     12.76      3.79         3.29          82.0        8.3      E  \n",
       "3     10.93      3.28         2.95          80.0          8      E  \n",
       "4      8.89     10.22         1.00           NaN        NaN    NaN  "
      ]
     },
     "metadata": {},
     "output_type": "display_data"
    }
   ],
   "source": [
    "data = pd.read_csv('/datasets/games.csv')\n",
    "display(data.head())"
   ]
  },
  {
   "cell_type": "markdown",
   "id": "eac08ebe",
   "metadata": {},
   "source": [
    "<div class=\"alert alert-danger\">\n",
    "<b>Комментарий ревьюера: &#10060; </b> Пожалуйста, проверяй работоспособность кода на стороне сервера перед отправкой работы. На будущее: общепринято seaborn сокращать как sns</div>"
   ]
  },
  {
   "cell_type": "markdown",
   "id": "5a053ed1",
   "metadata": {},
   "source": [
    "<div class=\"alert alert-info\"> <b>Комментарий студента:</b> Поменял путь на правильный,  насчет seaborn запомнил и поправил</div>"
   ]
  },
  {
   "cell_type": "code",
   "execution_count": 3,
   "id": "dcbbc140",
   "metadata": {},
   "outputs": [],
   "source": [
    "# Код ревьюера\n",
    "# data = pd.read_csv('/datasets/games.csv')\n",
    "# display(data.head())"
   ]
  },
  {
   "cell_type": "markdown",
   "id": "095cb7f6",
   "metadata": {},
   "source": [
    "#### Шаг 2. Подготовьте данные\n",
    "- Замените названия столбцов (приведите к нижнему регистру);\n",
    "- Преобразуйте данные в нужные типы. Опишите, в каких столбцах заменили тип данных и почему;\n",
    "- Обработайте пропуски при необходимости:\n",
    "- Объясните, почему заполнили пропуски определённым образом или почему не стали это делать;\n",
    "- Опишите причины, которые могли привести к пропускам;\n",
    "- Обратите внимание на аббревиатуру 'tbd' в столбце с оценкой пользователей. Отдельно разберите это значение и опишите, как его обработать;\n",
    "- Посчитайте суммарные продажи во всех регионах и запишите их в отдельный столбец."
   ]
  },
  {
   "cell_type": "code",
   "execution_count": 4,
   "id": "237ee568",
   "metadata": {},
   "outputs": [
    {
     "data": {
      "text/plain": [
       "Index(['name', 'platform', 'year_of_release', 'genre', 'na_sales', 'eu_sales',\n",
       "       'jp_sales', 'other_sales', 'critic_score', 'user_score', 'rating'],\n",
       "      dtype='object')"
      ]
     },
     "execution_count": 4,
     "metadata": {},
     "output_type": "execute_result"
    }
   ],
   "source": [
    "# - Замените названия столбцов (приведите к нижнему регистру);\n",
    "data.columns= data.columns.str.lower()\n",
    "data.columns"
   ]
  },
  {
   "cell_type": "code",
   "execution_count": 5,
   "id": "7b448871",
   "metadata": {},
   "outputs": [],
   "source": [
    "#Преобразуйте данные в нужные типы. Опишите, в каких столбцах заменили тип данных и почему;\n",
    "#data.info()\n",
    "\n",
    "\n",
    "#Отсеем пустой год выпуска\n",
    "data = data[data['year_of_release'].isna() == False]\n",
    "\n",
    "data.user_score = data.user_score.replace('tbd', '0').fillna(0).astype(float)"
   ]
  },
  {
   "cell_type": "markdown",
   "id": "cb9ed48b",
   "metadata": {},
   "source": [
    "<div class=\"alert alert-warning\">\n",
    "<b>Комментарий ревьюера:\n",
    "&#9888;</b> Довольно часто год выпуска игр на разных платформах не совпадает, т.к. пропусков в дате релиза очень мало, то проще их удалить </div>\n"
   ]
  },
  {
   "cell_type": "markdown",
   "id": "0cb43447",
   "metadata": {},
   "source": [
    "<div class=\"alert alert-info\"> <b>Комментарий студента:</b> Удалил пустой год релиза</div>"
   ]
  },
  {
   "cell_type": "code",
   "execution_count": 6,
   "id": "f8850f19",
   "metadata": {},
   "outputs": [
    {
     "name": "stdout",
     "output_type": "stream",
     "text": [
      "<class 'pandas.core.frame.DataFrame'>\n",
      "Int64Index: 16446 entries, 0 to 16714\n",
      "Data columns (total 11 columns):\n",
      " #   Column           Non-Null Count  Dtype  \n",
      "---  ------           --------------  -----  \n",
      " 0   name             16444 non-null  object \n",
      " 1   platform         16446 non-null  object \n",
      " 2   year_of_release  16446 non-null  float64\n",
      " 3   genre            16444 non-null  object \n",
      " 4   na_sales         16446 non-null  float64\n",
      " 5   eu_sales         16446 non-null  float64\n",
      " 6   jp_sales         16446 non-null  float64\n",
      " 7   other_sales      16446 non-null  float64\n",
      " 8   critic_score     7983 non-null   float64\n",
      " 9   user_score       16446 non-null  float64\n",
      " 10  rating           9768 non-null   object \n",
      "dtypes: float64(7), object(4)\n",
      "memory usage: 1.5+ MB\n"
     ]
    },
    {
     "data": {
      "text/plain": [
       "0"
      ]
     },
     "execution_count": 6,
     "metadata": {},
     "output_type": "execute_result"
    }
   ],
   "source": [
    "data.info()\n",
    "data['year_of_release'].isna().sum()"
   ]
  },
  {
   "cell_type": "markdown",
   "id": "c7e584e6",
   "metadata": {},
   "source": [
    "- year_of_release удалили пустой год выпуска, конвертировали в int т.к. год  является целочисленным. \n",
    "- При работе с user_score поймали ошибку: ```ValueError: could not convert string to float: 'tbd'``` \n",
    "- TBD - аббревиатура от английского To Be Determined (будет определено) или To Be Decided (будет решено). Используется, если какая-то информация еще не определена или решение по вопросу не принято. Акроним служит для отметки неясностей или пропусков, которые надо заполнить, в информации требований. Окей, значит tbd  переведем в 0 а столбец конвертируем во float64 т.к. данные в столбце дробного  вида, пустые данные заполнили также значением 0 т.к. вычислить оценку пользователей не представляется возможным. \n"
   ]
  },
  {
   "cell_type": "markdown",
   "id": "c60dbbf9",
   "metadata": {},
   "source": [
    "<div class=\"alert alert-success\">\n",
    "<b>Комментарий ревьюера:\n",
    "&#9989;</b> Хорошо</div>"
   ]
  },
  {
   "cell_type": "code",
   "execution_count": 7,
   "id": "86f1cf0a",
   "metadata": {},
   "outputs": [
    {
     "name": "stdout",
     "output_type": "stream",
     "text": [
      "name - 0%\n",
      "platform - 0%\n",
      "year_of_release - 0%\n",
      "genre - 0%\n",
      "na_sales - 0%\n",
      "eu_sales - 0%\n",
      "jp_sales - 0%\n",
      "other_sales - 0%\n",
      "critic_score - 51%\n",
      "user_score - 0%\n",
      "rating - 41%\n"
     ]
    },
    {
     "data": {
      "image/png": "[encoded data removed]",
      "text/plain": [
       "<Figure size 432x288 with 2 Axes>"
      ]
     },
     "metadata": {
      "needs_background": "light"
     },
     "output_type": "display_data"
    }
   ],
   "source": [
    "#Обработайте пропуски при необходимости:\n",
    "#Вообще стоит глянуть  что у нас по пропускам, давайте построим тепловую карту и выведем процент пропусков текстом.\n",
    "cols = data.columns\n",
    "colours = ['#000099', '#ffff00'] \n",
    "sns.heatmap(data[cols].isnull(), cmap=sns.color_palette(colours))\n",
    "\n",
    "#Процентный список пропущенных данных\n",
    "for col in data.columns:\n",
    "    pct_missing = np.mean(data[col].isnull())\n",
    "    print('{} - {}%'.format(col, round(pct_missing*100)))\n"
   ]
  },
  {
   "cell_type": "markdown",
   "id": "4db7d05f",
   "metadata": {},
   "source": [
    "- Есть два столбца с большим поличеством пропусков: `critic_score` 51% пропусков и `rating ` 40%, принцип аналогичен предыдущим заменам,  если есть tbd, обработаем также как  пустые значения т.к. расчитать рейтинг или как оценят игру критики не представляется возможным. "
   ]
  },
  {
   "cell_type": "code",
   "execution_count": 8,
   "id": "d20a26b4",
   "metadata": {},
   "outputs": [],
   "source": [
    "data.critic_score = data.critic_score.replace('tbd', '0').fillna(0)\n",
    "data.rating = data.rating.replace('tbd', '0').fillna(0)"
   ]
  },
  {
   "cell_type": "markdown",
   "id": "dadc6329",
   "metadata": {},
   "source": [
    "- Опишите причины, которые могли привести к пропускам;\n",
    "\n",
    "Причин как обычно может быть несколько,  неправильные джойны  при выгрузке данных  в csv файл, некорректно заполнены данные в процессе заполнения, одной наиболее вероятной может  быть имеено причина tbd, т.е. рейтинг по играм просто еще не был расчитан. "
   ]
  },
  {
   "cell_type": "markdown",
   "id": "9794ff59",
   "metadata": {},
   "source": [
    "- TBD - аббревиатура от английского To Be Determined (будет определено) или To Be Decided (будет решено). Используется, если какая-то информация еще не определена или решение по вопросу не принято. Акроним служит для отметки неясностей или пропусков, которые надо заполнить, в информации требований."
   ]
  },
  {
   "cell_type": "markdown",
   "id": "66e4d875",
   "metadata": {},
   "source": [
    "<div class=\"alert alert-success\">\n",
    "<b>Комментарий ревьюера:\n",
    "&#9989;</b> Хорошо!"
   ]
  },
  {
   "cell_type": "code",
   "execution_count": 9,
   "id": "181d6ea0",
   "metadata": {},
   "outputs": [
    {
     "data": {
      "text/html": [
       "<div>\n",
       "<style scoped>\n",
       "    .dataframe tbody tr th:only-of-type {\n",
       "        vertical-align: middle;\n",
       "    }\n",
       "\n",
       "    .dataframe tbody tr th {\n",
       "        vertical-align: top;\n",
       "    }\n",
       "\n",
       "    .dataframe thead th {\n",
       "        text-align: right;\n",
       "    }\n",
       "</style>\n",
       "<table border=\"1\" class=\"dataframe\">\n",
       "  <thead>\n",
       "    <tr style=\"text-align: right;\">\n",
       "      <th></th>\n",
       "      <th>name</th>\n",
       "      <th>platform</th>\n",
       "      <th>year_of_release</th>\n",
       "      <th>genre</th>\n",
       "      <th>na_sales</th>\n",
       "      <th>eu_sales</th>\n",
       "      <th>jp_sales</th>\n",
       "      <th>other_sales</th>\n",
       "      <th>critic_score</th>\n",
       "      <th>user_score</th>\n",
       "      <th>rating</th>\n",
       "      <th>total_sales</th>\n",
       "    </tr>\n",
       "  </thead>\n",
       "  <tbody>\n",
       "    <tr>\n",
       "      <th>0</th>\n",
       "      <td>Wii Sports</td>\n",
       "      <td>Wii</td>\n",
       "      <td>2006.0</td>\n",
       "      <td>Sports</td>\n",
       "      <td>41.36</td>\n",
       "      <td>28.96</td>\n",
       "      <td>3.77</td>\n",
       "      <td>8.45</td>\n",
       "      <td>76.0</td>\n",
       "      <td>8.0</td>\n",
       "      <td>E</td>\n",
       "      <td>82.54</td>\n",
       "    </tr>\n",
       "    <tr>\n",
       "      <th>1</th>\n",
       "      <td>Super Mario Bros.</td>\n",
       "      <td>NES</td>\n",
       "      <td>1985.0</td>\n",
       "      <td>Platform</td>\n",
       "      <td>29.08</td>\n",
       "      <td>3.58</td>\n",
       "      <td>6.81</td>\n",
       "      <td>0.77</td>\n",
       "      <td>0.0</td>\n",
       "      <td>0.0</td>\n",
       "      <td>0</td>\n",
       "      <td>40.24</td>\n",
       "    </tr>\n",
       "    <tr>\n",
       "      <th>2</th>\n",
       "      <td>Mario Kart Wii</td>\n",
       "      <td>Wii</td>\n",
       "      <td>2008.0</td>\n",
       "      <td>Racing</td>\n",
       "      <td>15.68</td>\n",
       "      <td>12.76</td>\n",
       "      <td>3.79</td>\n",
       "      <td>3.29</td>\n",
       "      <td>82.0</td>\n",
       "      <td>8.3</td>\n",
       "      <td>E</td>\n",
       "      <td>35.52</td>\n",
       "    </tr>\n",
       "    <tr>\n",
       "      <th>3</th>\n",
       "      <td>Wii Sports Resort</td>\n",
       "      <td>Wii</td>\n",
       "      <td>2009.0</td>\n",
       "      <td>Sports</td>\n",
       "      <td>15.61</td>\n",
       "      <td>10.93</td>\n",
       "      <td>3.28</td>\n",
       "      <td>2.95</td>\n",
       "      <td>80.0</td>\n",
       "      <td>8.0</td>\n",
       "      <td>E</td>\n",
       "      <td>32.77</td>\n",
       "    </tr>\n",
       "    <tr>\n",
       "      <th>4</th>\n",
       "      <td>Pokemon Red/Pokemon Blue</td>\n",
       "      <td>GB</td>\n",
       "      <td>1996.0</td>\n",
       "      <td>Role-Playing</td>\n",
       "      <td>11.27</td>\n",
       "      <td>8.89</td>\n",
       "      <td>10.22</td>\n",
       "      <td>1.00</td>\n",
       "      <td>0.0</td>\n",
       "      <td>0.0</td>\n",
       "      <td>0</td>\n",
       "      <td>31.38</td>\n",
       "    </tr>\n",
       "  </tbody>\n",
       "</table>\n",
       "</div>"
      ],
      "text/plain": [
       "                       name platform  year_of_release         genre  na_sales  \\\n",
       "0                Wii Sports      Wii           2006.0        Sports     41.36   \n",
       "1         Super Mario Bros.      NES           1985.0      Platform     29.08   \n",
       "2            Mario Kart Wii      Wii           2008.0        Racing     15.68   \n",
       "3         Wii Sports Resort      Wii           2009.0        Sports     15.61   \n",
       "4  Pokemon Red/Pokemon Blue       GB           1996.0  Role-Playing     11.27   \n",
       "\n",
       "   eu_sales  jp_sales  other_sales  critic_score  user_score rating  \\\n",
       "0     28.96      3.77         8.45          76.0         8.0      E   \n",
       "1      3.58      6.81         0.77           0.0         0.0      0   \n",
       "2     12.76      3.79         3.29          82.0         8.3      E   \n",
       "3     10.93      3.28         2.95          80.0         8.0      E   \n",
       "4      8.89     10.22         1.00           0.0         0.0      0   \n",
       "\n",
       "   total_sales  \n",
       "0        82.54  \n",
       "1        40.24  \n",
       "2        35.52  \n",
       "3        32.77  \n",
       "4        31.38  "
      ]
     },
     "execution_count": 9,
     "metadata": {},
     "output_type": "execute_result"
    }
   ],
   "source": [
    "#Посчитайте суммарные продажи во всех регионах и запишите их в отдельный столбец.\n",
    "data['total_sales'] = data.na_sales + data.eu_sales + data.jp_sales + data.other_sales\n",
    "data.head()"
   ]
  },
  {
   "cell_type": "markdown",
   "id": "283eed28",
   "metadata": {},
   "source": [
    "<div class=\"alert alert-success\">\n",
    "<b>Комментарий ревьюера:\n",
    "    &#9989;</b> Хорошо, можно сделать и так <code>data[['na_sales','eu_sales','jp_sales', 'other_sales']].sum(axis = 1)</code>"
   ]
  },
  {
   "cell_type": "markdown",
   "id": "04699be3",
   "metadata": {},
   "source": [
    "#### Вывод по шагу:\n",
    "- Все названия столбцов приведены к нижнему регистру\n",
    "- Имелись пустые значения в столбцах **rating**, **user_score**, **critic_score**.  Заменили пустые значения в столбце: **year_of_release** на год от той же игры только другой платформы, в остальных установлено значение 0, дальше с этими значениями разберемся в процессе предобработки"
   ]
  },
  {
   "cell_type": "markdown",
   "id": "c4b5f6e0",
   "metadata": {},
   "source": [
    "<div class=\"alert alert-success\">\n",
    "<b>Комментарий ревьюера:\n",
    "    &#9989;</b> Хорошо!"
   ]
  },
  {
   "cell_type": "markdown",
   "id": "ce5a36c6",
   "metadata": {},
   "source": [
    "### Шаг 3. Проведите исследовательский анализ данных\n",
    "- Посмотрите, сколько игр выпускалось в разные годы. Важны ли данные за все периоды?\n",
    "- Посмотрите, как менялись продажи по платформам. Выберите платформы с наибольшими суммарными продажами и постройте распределение по годам. За какой характерный срок появляются новые и исчезают старые платформы?\n",
    "- Возьмите данные за соответствующий актуальный период. Актуальный период определите самостоятельно в результате исследования предыдущих вопросов. Основной фактор — эти данные помогут построить прогноз на 2017 год.\n",
    "- Не учитывайте в работе данные за предыдущие годы.\n",
    "- Какие платформы лидируют по продажам, растут или падают? Выберите несколько потенциально прибыльных платформ.\n",
    "- Постройте график «ящик с усами» по глобальным продажам игр в разбивке по платформам. Опишите результат.\n",
    "- Посмотрите, как влияют на продажи внутри одной популярной платформы отзывы пользователей и критиков. Постройте диаграмму рассеяния и посчитайте корреляцию между отзывами и продажами. Сформулируйте выводы.\n",
    "- Соотнесите выводы с продажами игр на других платформах.\n",
    "- Посмотрите на общее распределение игр по жанрам. Что можно сказать о самых прибыльных жанрах? Выделяются ли жанры с высокими и низкими продажами?"
   ]
  },
  {
   "cell_type": "code",
   "execution_count": 10,
   "id": "52e21d5f",
   "metadata": {},
   "outputs": [
    {
     "data": {
      "text/plain": [
       "<matplotlib.legend.Legend at 0x7f5e529db130>"
      ]
     },
     "execution_count": 10,
     "metadata": {},
     "output_type": "execute_result"
    },
    {
     "data": {
      "image/png": "[encoded data removed]",
      "text/plain": [
       "<Figure size 864x432 with 1 Axes>"
      ]
     },
     "metadata": {
      "needs_background": "light"
     },
     "output_type": "display_data"
    }
   ],
   "source": [
    "#Посмотрите, сколько игр выпускалось в разные годы. Важны ли данные за все периоды?\n",
    "# Отсортируем таблицу и нарисуем график, отбросим нулевые значения year_of_release\n",
    "games_on_period = data.query('year_of_release > 0').pivot_table(index='year_of_release', values='name', aggfunc='count')\n",
    "plt.figure(figsize=(12,6))\n",
    "sns.lineplot(data=games_on_period)\n",
    "plt.title(\"Количество релизов\")\n",
    "plt.xlabel(\"Год\")\n",
    "plt.ylabel(\"Кол-во\")\n",
    "plt.legend('')"
   ]
  },
  {
   "cell_type": "markdown",
   "id": "4f5e0d1f",
   "metadata": {},
   "source": [
    "- По графику видно увеличение роста с 90х годов до 2008 года. \n",
    "- С 2008 года виден резкий спад, после массового внедрения мобильных игр. \n",
    "- Данные до 1990 года нас мало интересуют т.к. до этого периода никаких скачков не наблюдается. \n",
    "- Анализ данных будет проводиться за последние 3 года, с 2014 по 2016 для того чтобы захватить актуальные на текущий момент консоли. "
   ]
  },
  {
   "cell_type": "markdown",
   "id": "7cbcc19c",
   "metadata": {},
   "source": [
    "<div class=\"alert alert-danger\">\n",
    "<b>Комментарий ревьюера: &#10060; </b> Хорошо, доьавь, пожалуйста, ответ на вопрос \"Важны ли данные за все периоды?\". Если нет, то какой период выберешь для дальнейшего анализа?</div>"
   ]
  },
  {
   "cell_type": "markdown",
   "id": "fd345aa1",
   "metadata": {},
   "source": [
    "<div class=\"alert alert-info\"> <b>Комментарий студента:</b> Добавил ответ на \"Важны ли данные за все периоды\" и указал год для начала анализа</div>"
   ]
  },
  {
   "cell_type": "markdown",
   "id": "88560648",
   "metadata": {},
   "source": [
    "- Посмотрите, как менялись продажи по платформам. Выберите платформы с наибольшими суммарными продажами и постройте распределение по годам. За какой характерный срок появляются новые и исчезают старые платформы?\n",
    "- Возьмите данные за соответствующий актуальный период. Актуальный период определите самостоятельно в результате исследования предыдущих вопросов. Основной фактор — эти данные помогут построить прогноз на 2017 год.\n",
    "- Не учитывайте в работе данные за предыдущие годы.\n",
    "- Какие платформы лидируют по продажам, растут или падают? Выберите несколько потенциально прибыльных платформ."
   ]
  },
  {
   "cell_type": "code",
   "execution_count": 11,
   "id": "39ffd768",
   "metadata": {},
   "outputs": [
    {
     "data": {
      "text/plain": [
       "Text(0, 0.5, 'Количество продаж')"
      ]
     },
     "execution_count": 11,
     "metadata": {},
     "output_type": "execute_result"
    },
    {
     "data": {
      "image/png": "[encoded data removed]",
      "text/plain": [
       "<Figure size 1008x432 with 1 Axes>"
      ]
     },
     "metadata": {
      "needs_background": "light"
     },
     "output_type": "display_data"
    }
   ],
   "source": [
    "platform_on_sales = data.pivot_table(\n",
    "    index='platform', values='total_sales', aggfunc='sum').sort_values(by='total_sales', ascending=False)\n",
    "\n",
    "plt.figure(figsize=(14,6))\n",
    "sns.barplot(x=platform_on_sales.index,y=platform_on_sales['total_sales'])\n",
    "plt.title(\"Продажи по платформам за весь период\")\n",
    "plt.xlabel(\"Платформа\")\n",
    "plt.ylabel(\"Количество продаж\")"
   ]
  },
  {
   "cell_type": "markdown",
   "id": "1dd5e31f",
   "metadata": {},
   "source": [
    " - По графику видно, что топ 5 игровых платформ за весь период это PS2, X360, PS3, WII, DS"
   ]
  },
  {
   "cell_type": "markdown",
   "id": "69106ef0",
   "metadata": {},
   "source": [
    "<div class=\"alert alert-success\">\n",
    "<b>Комментарий ревьюера:\n",
    "    &#9989;</b> Хорошо!"
   ]
  },
  {
   "cell_type": "code",
   "execution_count": 12,
   "id": "56ee1d82",
   "metadata": {},
   "outputs": [],
   "source": [
    "# Напишем функцию, которая будет возвращать нужную таблицу и выводить данные\n",
    "def year_total_sale_for_platform(name, data):\n",
    "    slicee = data[(data['platform'] == name) & (data['year_of_release'] >= 2014)]\n",
    "    total = slicee.pivot_table(index='year_of_release', values='total_sales', aggfunc='sum').sort_values('year_of_release', ascending=False)\n",
    "    return total"
   ]
  },
  {
   "cell_type": "markdown",
   "id": "73ed77c1",
   "metadata": {},
   "source": [
    "<div class=\"alert alert-info\"> <b>Комментарий студента v2:</b> Поправил вывод топ 5 платформ</div>"
   ]
  },
  {
   "cell_type": "code",
   "execution_count": 13,
   "id": "3217eb8b",
   "metadata": {},
   "outputs": [
    {
     "data": {
      "text/html": [
       "<div>\n",
       "<style scoped>\n",
       "    .dataframe tbody tr th:only-of-type {\n",
       "        vertical-align: middle;\n",
       "    }\n",
       "\n",
       "    .dataframe tbody tr th {\n",
       "        vertical-align: top;\n",
       "    }\n",
       "\n",
       "    .dataframe thead th {\n",
       "        text-align: right;\n",
       "    }\n",
       "</style>\n",
       "<table border=\"1\" class=\"dataframe\">\n",
       "  <thead>\n",
       "    <tr style=\"text-align: right;\">\n",
       "      <th></th>\n",
       "      <th>platform</th>\n",
       "      <th>total_sales</th>\n",
       "    </tr>\n",
       "  </thead>\n",
       "  <tbody>\n",
       "    <tr>\n",
       "      <th>0</th>\n",
       "      <td>PS4</td>\n",
       "      <td>288.15</td>\n",
       "    </tr>\n",
       "    <tr>\n",
       "      <th>1</th>\n",
       "      <td>XOne</td>\n",
       "      <td>140.36</td>\n",
       "    </tr>\n",
       "    <tr>\n",
       "      <th>2</th>\n",
       "      <td>3DS</td>\n",
       "      <td>86.68</td>\n",
       "    </tr>\n",
       "    <tr>\n",
       "      <th>3</th>\n",
       "      <td>PS3</td>\n",
       "      <td>68.18</td>\n",
       "    </tr>\n",
       "    <tr>\n",
       "      <th>4</th>\n",
       "      <td>X360</td>\n",
       "      <td>48.22</td>\n",
       "    </tr>\n",
       "  </tbody>\n",
       "</table>\n",
       "</div>"
      ],
      "text/plain": [
       "  platform  total_sales\n",
       "0      PS4       288.15\n",
       "1     XOne       140.36\n",
       "2      3DS        86.68\n",
       "3      PS3        68.18\n",
       "4     X360        48.22"
      ]
     },
     "execution_count": 13,
     "metadata": {},
     "output_type": "execute_result"
    }
   ],
   "source": [
    "# Создадим свою таблицу по платформам и их обшим продажам. отсортируем их по убыванию и оставим только топ 5.\n",
    "top_5_platforms = data.query('year_of_release >= 2014').groupby('platform')['total_sales'].sum().sort_values(ascending=False).head()\n",
    "\n",
    "#top_5_platforms.columns = ('platform', 'total_sales')\n",
    "top_5_platforms = top_5_platforms.reset_index().rename_axis(None, axis=1)\n",
    "top_5_platforms"
   ]
  },
  {
   "cell_type": "code",
   "execution_count": 14,
   "id": "0bc8f251",
   "metadata": {},
   "outputs": [
    {
     "data": {
      "image/png": "[encoded data removed]",
      "text/plain": [
       "<Figure size 864x432 with 1 Axes>"
      ]
     },
     "metadata": {
      "needs_background": "light"
     },
     "output_type": "display_data"
    }
   ],
   "source": [
    "#Отрисуем все игровые платформы и их поведение за последние 10 лет\n",
    "plt.figure(figsize=(12,6))\n",
    "plt.title('Количество продаж популярных игровых платформ')\n",
    "plt.xlabel('Годы игровых релизов')\n",
    "plt.ylabel('Продажи')\n",
    "\n",
    "for i in list(top_5_platforms['platform']):\n",
    "    sns.lineplot(data=year_total_sale_for_platform(i,data)['total_sales'], label=i)\n",
    "    plt.legend()"
   ]
  },
  {
   "cell_type": "markdown",
   "id": "afde3604",
   "metadata": {},
   "source": [
    "#### Вывод:\n",
    "\n",
    "- Практически все игровые платформы существуют по 10 лет. \n",
    "- Cамые продаваемые это Sony Play Station 4 и XBOX One\n",
    "- Самый пик наступает примерно через 5 лет после выхода приставки\n",
    "- Лидер продаж: PS4, именно на нее стоит обратить внимание"
   ]
  },
  {
   "cell_type": "markdown",
   "id": "68e8a400",
   "metadata": {},
   "source": [
    "<div class=\"alert alert-danger\">\n",
    "<b>Комментарий ревьюера: &#10060; </b> Можешь заметить, что PS2 и DS прекратили существование, остальные отмирают, поэтому прогнозировать продажи по ним будет бессмысленно. Для целей прогнозирования продаж на следующий год даже в традиционных бизнесах редко берут данные более чем за 2-3 года. А в такой динамично меняющейся индустрии, как компьютерные игры и вовсе не стоит брать слишком большой временной интервал - иначе обязательно захватишь уже отжившие тренды. Но и слишком короткий период тоже брать не стоит.<br>Поэтому для дальнейшего анализа стоит пересмотреть актуальный период</div>"
   ]
  },
  {
   "cell_type": "markdown",
   "id": "e2483aed",
   "metadata": {},
   "source": [
    "<div class=\"alert alert-info\"> <b>Комментарий студента:</b> Пересмотрел актуальный период, решено использовать  для анализа данные за последние 3 года, оставил небольшой \"хвост\" с 2011 года для удобства наблюдения</div>"
   ]
  },
  {
   "cell_type": "markdown",
   "id": "fd4e7600",
   "metadata": {},
   "source": [
    "<div class=\"alert alert-danger\">\n",
    "<b>Комментарий ревьюера V2: &#10060; </b> Хорошо, но если ты взял период за последние 3 года, то топ платформ у тебя немного изменится(см. код ниже)</div>"
   ]
  },
  {
   "cell_type": "markdown",
   "id": "119d6e4f",
   "metadata": {},
   "source": [
    "<div class=\"alert alert-info\"> <b>Комментарий студента v2:</b>Спасибо! Учел!</div>"
   ]
  },
  {
   "cell_type": "code",
   "execution_count": 15,
   "id": "72221a13",
   "metadata": {},
   "outputs": [
    {
     "data": {
      "text/plain": [
       "platform\n",
       "PS4     288.15\n",
       "XOne    140.36\n",
       "3DS      86.68\n",
       "PS3      68.18\n",
       "X360     48.22\n",
       "WiiU     42.98\n",
       "PC       27.05\n",
       "PSV      22.40\n",
       "Wii       5.07\n",
       "PSP       0.36\n",
       "Name: total_sales, dtype: float64"
      ]
     },
     "execution_count": 15,
     "metadata": {},
     "output_type": "execute_result"
    }
   ],
   "source": [
    "#Код ревьюера\n",
    "data.query('year_of_release >= 2014').groupby('platform')['total_sales'].sum().sort_values(ascending=False)\n"
   ]
  },
  {
   "cell_type": "markdown",
   "id": "9f8118f2",
   "metadata": {},
   "source": [
    "Построим график «ящик с усами» по глобальным продажам игр в разбивке по платформам. Опишем результат."
   ]
  },
  {
   "cell_type": "code",
   "execution_count": 16,
   "id": "58c081d3",
   "metadata": {},
   "outputs": [
    {
     "data": {
      "text/plain": [
       "count    3239.000000\n",
       "mean        0.319546\n",
       "std         0.329381\n",
       "min         0.000000\n",
       "25%         0.080000\n",
       "50%         0.190000\n",
       "75%         0.470000\n",
       "max         1.390000\n",
       "Name: total_sales, dtype: float64"
      ]
     },
     "execution_count": 16,
     "metadata": {},
     "output_type": "execute_result"
    }
   ],
   "source": [
    "#Сохраним в переменной df_top_5_platforms топ 5 платформ и избавимся от выбросов\n",
    "list_of_top5 = list(top_5_platforms.platform)\n",
    "\n",
    "df_top_5_platforms = data[data['platform'].isin(list_of_top5)]\n",
    "df_top_5_platforms = df_top_5_platforms[df_top_5_platforms['total_sales']<1.4]\n",
    "\n",
    "df_top_5_platforms['total_sales'].describe()"
   ]
  },
  {
   "cell_type": "markdown",
   "id": "7e9965ae",
   "metadata": {},
   "source": [
    "<div class=\"alert alert-success\">\n",
    "<b>Комментарий ревьюера V3:\n",
    "    &#9989;</b> Отлично!"
   ]
  },
  {
   "cell_type": "markdown",
   "id": "cee03477",
   "metadata": {},
   "source": [
    "<div class=\"alert alert-info\"> <b>Комментарий студента v2:</b> Нашел и поправил ошибки в топ 5  платформ</div>"
   ]
  },
  {
   "cell_type": "code",
   "execution_count": 17,
   "id": "7c9db667",
   "metadata": {},
   "outputs": [
    {
     "data": {
      "text/plain": [
       "Text(0, 0.5, 'Глобальные продажи')"
      ]
     },
     "execution_count": 17,
     "metadata": {},
     "output_type": "execute_result"
    },
    {
     "data": {
      "image/png": "[encoded data removed]",
      "text/plain": [
       "<Figure size 864x432 with 1 Axes>"
      ]
     },
     "metadata": {
      "needs_background": "light"
     },
     "output_type": "display_data"
    }
   ],
   "source": [
    "#Отрисуем ящики с усами \n",
    "plt.figure(figsize=(12,6))\n",
    "sns.boxplot(data=df_top_5_platforms, x='platform', y='total_sales')\n",
    "plt.title('Ящик с усами', fontsize=15)\n",
    "plt.xlabel('Платформа', fontsize=12)\n",
    "plt.ylabel('Глобальные продажи',fontsize=12)"
   ]
  },
  {
   "cell_type": "markdown",
   "id": "ecafdcf1",
   "metadata": {},
   "source": [
    "#### Вывод:\n",
    "\n",
    "- Сделали срез данных для отображения ящиков с усами. \n",
    "- Исходя из графиков видно, что медиана протекает у всех по разному\n",
    "- Больше всех продаж у PS3, затем XOne, после X360, PS4 и 3DS на последнем месте. "
   ]
  },
  {
   "cell_type": "markdown",
   "id": "a92c4a8f",
   "metadata": {},
   "source": [
    "Посмотрим, как влияют на продажи внутри одной популярной платформы отзывы пользователей и критиков. Построим диаграмму рассеяния и посчитаем корреляцию между отзывами и продажами. Сформулируем выводы."
   ]
  },
  {
   "cell_type": "markdown",
   "id": "0bef91da",
   "metadata": {},
   "source": [
    "<div class=\"alert alert-info\"> <b>Комментарий студента:</b> Переписал анализ с PS2  на PS3</div>"
   ]
  },
  {
   "cell_type": "code",
   "execution_count": 18,
   "id": "a6832b42",
   "metadata": {},
   "outputs": [
    {
     "data": {
      "text/plain": [
       "0.12841562938563006"
      ]
     },
     "execution_count": 18,
     "metadata": {},
     "output_type": "execute_result"
    }
   ],
   "source": [
    "#Корреляция между оценками пользователей и продажами \n",
    "sony_play_station3 = data[data['platform']=='PS3']\n",
    "\n",
    "sony_play_station3 = sony_play_station3.query('user_score > 0') #отбрасываем значения которые отметили как 0\n",
    "\n",
    "sony_play_station3['user_score'].corr(sony_play_station3['total_sales'])"
   ]
  },
  {
   "cell_type": "code",
   "execution_count": 19,
   "id": "22ac5384",
   "metadata": {},
   "outputs": [
    {
     "data": {
      "text/plain": [
       "Text(0.5, 1.0, 'test')"
      ]
     },
     "execution_count": 19,
     "metadata": {},
     "output_type": "execute_result"
    },
    {
     "data": {
      "image/png": "[encoded data removed]",
      "text/plain": [
       "<Figure size 864x432 with 1 Axes>"
      ]
     },
     "metadata": {
      "needs_background": "light"
     },
     "output_type": "display_data"
    }
   ],
   "source": [
    "#Построим диаграмму рассеяния\n",
    "plt.figure(figsize=(12,6))\n",
    "sns.scatterplot(x='user_score', y='total_sales', data=sony_play_station3)\n",
    "plt.title('test')"
   ]
  },
  {
   "cell_type": "code",
   "execution_count": 20,
   "id": "30186324",
   "metadata": {},
   "outputs": [
    {
     "data": {
      "text/plain": [
       "Text(0.5, 1.0, 'test')"
      ]
     },
     "execution_count": 20,
     "metadata": {},
     "output_type": "execute_result"
    },
    {
     "data": {
      "image/png": "[encoded data removed]",
      "text/plain": [
       "<Figure size 864x432 with 1 Axes>"
      ]
     },
     "metadata": {
      "needs_background": "light"
     },
     "output_type": "display_data"
    }
   ],
   "source": [
    "#Построим диаграмму рассеяния по оценкам критиков \n",
    "sony_play_station3 = sony_play_station3.query('critic_score > 0') #отбрасываем значения которые отметили как 0\n",
    "\n",
    "plt.figure(figsize=(12,6))\n",
    "sns.scatterplot(x='critic_score', y='total_sales', data=sony_play_station3)\n",
    "plt.title('test')"
   ]
  },
  {
   "cell_type": "code",
   "execution_count": 21,
   "id": "9a1c0251",
   "metadata": {},
   "outputs": [
    {
     "data": {
      "text/plain": [
       "0.4282129041298839"
      ]
     },
     "execution_count": 21,
     "metadata": {},
     "output_type": "execute_result"
    }
   ],
   "source": [
    "#Корреляция между оценкой критиков и продажам\n",
    "sony_play_station3['critic_score'].corr(sony_play_station3['total_sales'])"
   ]
  },
  {
   "cell_type": "code",
   "execution_count": 22,
   "id": "58a7c8b6",
   "metadata": {},
   "outputs": [],
   "source": [
    "#функция определения корреляции\n",
    "def correlator(crr = 0): \n",
    "    corr_description = 'Не определена' \n",
    "    if 0.3 >= crr >= 0.1:\n",
    "        corr_description = 'Слабая'\n",
    "    if 0.5 >= crr >= 0.3:\n",
    "        corr_description = 'Умеренная'\n",
    "    if 0.7 >= crr >= 0.5:\n",
    "        corr_description = 'Высокая'\n",
    "    if 0.9 >= crr >= 0.7:\n",
    "        corr_description = 'Очень высокая'\n",
    "    if 1 >= crr >= 0.9:\n",
    "        corr_description = 'Сильная'\n",
    "    return corr_description     "
   ]
  },
  {
   "cell_type": "code",
   "execution_count": 23,
   "id": "6fe4e51f",
   "metadata": {},
   "outputs": [],
   "source": [
    "#Напишем функцию, которая будет отрисовывать графики рассеивания и считать корреляции\n",
    "def other_platform_matrix(name_of_platform):\n",
    "    platform = data[data['platform']==name_of_platform]\n",
    "    fig, ax = plt.subplots(1 ,2, figsize=(15,5))\n",
    "    sns.scatterplot(x='user_score', y='total_sales', data=platform, ax=ax[0])\n",
    "    sns.scatterplot(x='critic_score', y='total_sales', data=platform, ax=ax[1])\n",
    "    fig.suptitle(name_of_platform, fontsize=15)\n",
    "    ax[0].set(xlabel='Оценка пользователей')\n",
    "    ax[1].set(xlabel='Оценка критиков')\n",
    "    ax[0].set(ylabel='Количество продаж')\n",
    "    ax[1].set(ylabel='Количество продаж')\n",
    "    plt.show()\n",
    "    \n",
    "    correl = platform['user_score'].corr(platform['total_sales'])\n",
    "    critic_correl = platform['critic_score'].corr(platform['total_sales'])\n",
    "    \n",
    "    correl_desc = correlator(correl)\n",
    "    critic_correl_desc = correlator(critic_correl)\n",
    "    \n",
    "    print('Корреляция между отзывами критиков и игровой платформой ', name_of_platform.upper(), critic_correl_desc,  critic_correl)\n",
    "    \n",
    "    print('Корреляция между отзывами пользователей и продажами ', name_of_platform.upper(), correl_desc,  correl)\n",
    "    \n",
    "    print('\\n')"
   ]
  },
  {
   "cell_type": "markdown",
   "id": "af29081e",
   "metadata": {},
   "source": [
    "<div class=\"alert alert-warning\">\n",
    "<b>Комментарий ревьюера:\n",
    "&#9888;</b> Можешь заметить, что у тебя код повторяется, что не очень хорошо. Впринципе можно было обойтись без разъяснения коэффециентов корреляции, оставить только значения</div>"
   ]
  },
  {
   "cell_type": "markdown",
   "id": "a0b90afb",
   "metadata": {},
   "source": [
    "<div class=\"alert alert-info\"> <b>Комментарий студента:</b> Немного оптимизировал, добавив функцию определения силы корреляции \"correlator\"</div>"
   ]
  },
  {
   "cell_type": "markdown",
   "id": "a88a56ba",
   "metadata": {},
   "source": [
    "<div class=\"alert alert-success\">\n",
    "<b>Комментарий ревьюера:\n",
    "    &#9989;</b> Хорошо!"
   ]
  },
  {
   "cell_type": "code",
   "execution_count": 24,
   "id": "99a7b14c",
   "metadata": {},
   "outputs": [
    {
     "data": {
      "image/png": "[encoded data removed]",
      "text/plain": [
       "<Figure size 1080x360 with 2 Axes>"
      ]
     },
     "metadata": {
      "needs_background": "light"
     },
     "output_type": "display_data"
    },
    {
     "name": "stdout",
     "output_type": "stream",
     "text": [
      "Корреляция между отзывами критиков и игровой платформой  PS4 Слабая 0.22754960627752652\n",
      "Корреляция между отзывами пользователей и продажами  PS4 Слабая 0.11311562450852881\n",
      "\n",
      "\n"
     ]
    },
    {
     "data": {
      "image/png": "[encoded data removed]",
      "text/plain": [
       "<Figure size 1080x360 with 2 Axes>"
      ]
     },
     "metadata": {
      "needs_background": "light"
     },
     "output_type": "display_data"
    },
    {
     "name": "stdout",
     "output_type": "stream",
     "text": [
      "Корреляция между отзывами критиков и игровой платформой  XONE Слабая 0.2748391874944539\n",
      "Корреляция между отзывами пользователей и продажами  XONE Слабая 0.11656261405851895\n",
      "\n",
      "\n"
     ]
    },
    {
     "data": {
      "image/png": "[encoded data removed]",
      "text/plain": [
       "<Figure size 1080x360 with 2 Axes>"
      ]
     },
     "metadata": {
      "needs_background": "light"
     },
     "output_type": "display_data"
    },
    {
     "name": "stdout",
     "output_type": "stream",
     "text": [
      "Корреляция между отзывами критиков и игровой платформой  3DS Слабая 0.16702057976149196\n",
      "Корреляция между отзывами пользователей и продажами  3DS Слабая 0.1500533936060986\n",
      "\n",
      "\n"
     ]
    },
    {
     "data": {
      "image/png": "[encoded data removed]",
      "text/plain": [
       "<Figure size 1080x360 with 2 Axes>"
      ]
     },
     "metadata": {
      "needs_background": "light"
     },
     "output_type": "display_data"
    },
    {
     "name": "stdout",
     "output_type": "stream",
     "text": [
      "Корреляция между отзывами критиков и игровой платформой  PS3 Умеренная 0.35514556594230773\n",
      "Корреляция между отзывами пользователей и продажами  PS3 Слабая 0.2745827060165664\n",
      "\n",
      "\n"
     ]
    },
    {
     "data": {
      "image/png": "[encoded data removed]",
      "text/plain": [
       "<Figure size 1080x360 with 2 Axes>"
      ]
     },
     "metadata": {
      "needs_background": "light"
     },
     "output_type": "display_data"
    },
    {
     "name": "stdout",
     "output_type": "stream",
     "text": [
      "Корреляция между отзывами критиков и игровой платформой  X360 Умеренная 0.3117562516201688\n",
      "Корреляция между отзывами пользователей и продажами  X360 Слабая 0.20780580062906845\n",
      "\n",
      "\n"
     ]
    }
   ],
   "source": [
    "#С помощью цикла выведем все 5 графиков\n",
    "for platform in list_of_top5:\n",
    "    other_platform_matrix(platform)"
   ]
  },
  {
   "cell_type": "code",
   "execution_count": 25,
   "id": "e1e8b50b",
   "metadata": {},
   "outputs": [
    {
     "name": "stdout",
     "output_type": "stream",
     "text": [
      "Дисперсия PS4 : 11.673060638796336\n",
      "Стандартное отклонение PS4 : 3.4165861087928597\n",
      "Среднее PS4 : 4.424234693877551\n",
      "Медиана PS4 : 6.1\n",
      "\n",
      "\n",
      "Дисперсия XOne : 9.644061367994883\n",
      "Стандартное отклонение XOne : 3.105488909655754\n",
      "Среднее XOne : 4.805263157894737\n",
      "Медиана XOne : 6.0\n",
      "\n",
      "\n",
      "Дисперсия 3DS : 11.115316429138186\n",
      "Стандартное отклонение 3DS : 3.3339640713628254\n",
      "Среднее 3DS : 2.2884765624999996\n",
      "Медиана 3DS : 0.0\n",
      "\n",
      "\n",
      "Дисперсия PS3 : 11.552679475573921\n",
      "Стандартное отклонение PS3 : 3.3989232818017414\n",
      "Среднее PS3 : 4.429938744257274\n",
      "Медиана PS3 : 6.0\n",
      "\n",
      "\n",
      "Дисперсия X360 : 9.572836527818772\n",
      "Стандартное отклонение X360 : 3.09400008529715\n",
      "Среднее X360 : 5.124431818181819\n",
      "Медиана X360 : 6.4\n",
      "\n",
      "\n"
     ]
    }
   ],
   "source": [
    "#Посчитаем дисперсию, стандартное отклонение, среднее и медиану у топ 5 платформ к оценкам пользователей\n",
    "for platform in list_of_top5:\n",
    "    print('Дисперсия', platform,':', np.var(data[data['platform']==platform]['user_score']))\n",
    "    print('Стандартное отклонение', platform,':', np.std(data[data['platform']==platform]['user_score']))\n",
    "    print('Среднее',platform,':',  data[data['platform']==platform]['user_score'].mean())\n",
    "    print('Медиана',platform,':',  data[data['platform']==platform]['user_score'].median())\n",
    "    print('\\n')"
   ]
  },
  {
   "cell_type": "code",
   "execution_count": 26,
   "id": "12b34612",
   "metadata": {},
   "outputs": [
    {
     "name": "stdout",
     "output_type": "stream",
     "text": [
      "Дисперсия PS4 : 1293.0472134006664\n",
      "Стандартное отклонение PS4 : 35.958965688693915\n",
      "Среднее PS4 : 46.34438775510204\n",
      "Медиана PS4 : 64.5\n",
      "\n",
      "\n",
      "Дисперсия XOne : 1275.8334344113166\n",
      "Стандартное отклонение XOne : 35.7188106522504\n",
      "Среднее XOne : 50.17004048582996\n",
      "Медиана XOne : 67.0\n",
      "\n",
      "\n",
      "Дисперсия 3DS : 1038.1478881835938\n",
      "Стандартное отклонение 3DS : 32.22030242228638\n",
      "Среднее 3DS : 21.7734375\n",
      "Медиана 3DS : 0.0\n",
      "\n",
      "\n",
      "Дисперсия PS3 : 1296.4612103637587\n",
      "Стандартное отклонение PS3 : 36.00640512969545\n",
      "Среднее PS3 : 43.38208269525268\n",
      "Медиана PS3 : 58.0\n",
      "\n",
      "\n",
      "Дисперсия X360 : 1104.2760840519059\n",
      "Стандартное отклонение X360 : 33.230649768728654\n",
      "Среднее X360 : 49.84172077922078\n",
      "Медиана X360 : 62.0\n",
      "\n",
      "\n"
     ]
    }
   ],
   "source": [
    "#Посчитаем дисперсию, стандартное отклонение, среднее и медиану у топ 5 платформ к оценкам критиков\n",
    "for platform in list_of_top5:\n",
    "    print('Дисперсия', platform,':', np.var(data[data['platform']==platform]['critic_score']))\n",
    "    print('Стандартное отклонение', platform,':', np.std(data[data['platform']==platform]['critic_score']))\n",
    "    print('Среднее',platform,':',  data[data['platform']==platform]['critic_score'].mean())\n",
    "    print('Медиана',platform,':',  data[data['platform']==platform]['critic_score'].median())\n",
    "    print('\\n')"
   ]
  },
  {
   "cell_type": "markdown",
   "id": "cf8f1051",
   "metadata": {},
   "source": [
    "- Практически у всех платформ присутствуем корреляция, между оценками пользователей и критиков к продажам.\n",
    "- Оценка пользователей слабо влияет на продажи, чего не скажешь о оценке критиков. Покупатели прислушиваются больше к критикам чем к оценкам других пользователей"
   ]
  },
  {
   "cell_type": "markdown",
   "id": "02f22b84",
   "metadata": {},
   "source": [
    "<div class=\"alert alert-danger\">\n",
    "<b>Комментарий ревьюера V3: &#10060; </b> Хорошо,но все же коэффицент корреляции 0.2 для оценки пользователей довольно низкий, и нельзя сказать, что оценка пользователей хоть как-то влияет на продажи"
   ]
  },
  {
   "cell_type": "markdown",
   "id": "addfd75d",
   "metadata": {},
   "source": [
    "Посмотрим на общее распределение игр по жанрам. Что можно сказать о самых прибыльных жанрах? Выделяются ли жанры с высокими и низкими продажами?"
   ]
  },
  {
   "cell_type": "code",
   "execution_count": 27,
   "id": "fc28cdba",
   "metadata": {},
   "outputs": [
    {
     "data": {
      "text/html": [
       "<div>\n",
       "<style scoped>\n",
       "    .dataframe tbody tr th:only-of-type {\n",
       "        vertical-align: middle;\n",
       "    }\n",
       "\n",
       "    .dataframe tbody tr th {\n",
       "        vertical-align: top;\n",
       "    }\n",
       "\n",
       "    .dataframe thead th {\n",
       "        text-align: right;\n",
       "    }\n",
       "</style>\n",
       "<table border=\"1\" class=\"dataframe\">\n",
       "  <thead>\n",
       "    <tr style=\"text-align: right;\">\n",
       "      <th></th>\n",
       "      <th>genre</th>\n",
       "      <th>total_sales</th>\n",
       "    </tr>\n",
       "  </thead>\n",
       "  <tbody>\n",
       "    <tr>\n",
       "      <th>0</th>\n",
       "      <td>Action</td>\n",
       "      <td>1716.52</td>\n",
       "    </tr>\n",
       "    <tr>\n",
       "      <th>1</th>\n",
       "      <td>Sports</td>\n",
       "      <td>1309.67</td>\n",
       "    </tr>\n",
       "    <tr>\n",
       "      <th>2</th>\n",
       "      <td>Shooter</td>\n",
       "      <td>1041.36</td>\n",
       "    </tr>\n",
       "    <tr>\n",
       "      <th>3</th>\n",
       "      <td>Role-Playing</td>\n",
       "      <td>931.08</td>\n",
       "    </tr>\n",
       "    <tr>\n",
       "      <th>4</th>\n",
       "      <td>Platform</td>\n",
       "      <td>825.55</td>\n",
       "    </tr>\n",
       "    <tr>\n",
       "      <th>5</th>\n",
       "      <td>Misc</td>\n",
       "      <td>790.29</td>\n",
       "    </tr>\n",
       "    <tr>\n",
       "      <th>6</th>\n",
       "      <td>Racing</td>\n",
       "      <td>723.49</td>\n",
       "    </tr>\n",
       "    <tr>\n",
       "      <th>7</th>\n",
       "      <td>Fighting</td>\n",
       "      <td>442.66</td>\n",
       "    </tr>\n",
       "    <tr>\n",
       "      <th>8</th>\n",
       "      <td>Simulation</td>\n",
       "      <td>387.96</td>\n",
       "    </tr>\n",
       "    <tr>\n",
       "      <th>9</th>\n",
       "      <td>Puzzle</td>\n",
       "      <td>239.89</td>\n",
       "    </tr>\n",
       "    <tr>\n",
       "      <th>10</th>\n",
       "      <td>Adventure</td>\n",
       "      <td>233.33</td>\n",
       "    </tr>\n",
       "    <tr>\n",
       "      <th>11</th>\n",
       "      <td>Strategy</td>\n",
       "      <td>172.57</td>\n",
       "    </tr>\n",
       "  </tbody>\n",
       "</table>\n",
       "</div>"
      ],
      "text/plain": [
       "           genre  total_sales\n",
       "0         Action      1716.52\n",
       "1         Sports      1309.67\n",
       "2        Shooter      1041.36\n",
       "3   Role-Playing       931.08\n",
       "4       Platform       825.55\n",
       "5           Misc       790.29\n",
       "6         Racing       723.49\n",
       "7       Fighting       442.66\n",
       "8     Simulation       387.96\n",
       "9         Puzzle       239.89\n",
       "10     Adventure       233.33\n",
       "11      Strategy       172.57"
      ]
     },
     "execution_count": 27,
     "metadata": {},
     "output_type": "execute_result"
    }
   ],
   "source": [
    "# Методом сводных таблиц выведем жанры и их продажи.  отсортируем по убыванию. \n",
    "distr_genre = data.pivot_table(\n",
    "    index='genre', values='total_sales', aggfunc='sum').sort_values(by='total_sales', ascending=False)\n",
    "distr_genre = distr_genre.reset_index().rename_axis(None, axis=1)\n",
    "distr_genre"
   ]
  },
  {
   "cell_type": "markdown",
   "id": "5a8a8194",
   "metadata": {},
   "source": [
    "<div class=\"alert alert-danger\">\n",
    "<b>Комментарий ревьюера V3: &#10060; </b> Общие продажи - плохая метрика для поиска наиболее прибыльного жанра. За высокими показателями общих продаж может скрываться множество мелких игр с низкими продажами. Или 2-3 звезды и куча провалов. Лучше найти жанр, где игры стабильно приносят высокий доход - для этого стоит рассмотреть средние или медианные продажи.</div>"
   ]
  },
  {
   "cell_type": "code",
   "execution_count": 28,
   "id": "2ae074bb",
   "metadata": {},
   "outputs": [
    {
     "data": {
      "text/plain": [
       "Text(0, 0.5, 'Продажи')"
      ]
     },
     "execution_count": 28,
     "metadata": {},
     "output_type": "execute_result"
    },
    {
     "data": {
      "image/png": "[encoded data removed]",
      "text/plain": [
       "<Figure size 864x432 with 1 Axes>"
      ]
     },
     "metadata": {
      "needs_background": "light"
     },
     "output_type": "display_data"
    }
   ],
   "source": [
    "#Отрисуем барплот для наглядности\n",
    "plt.figure(figsize=(12,6))\n",
    "plt.title('Распределение игр по жанрам ',fontsize=15)\n",
    "sns.barplot(data=distr_genre, x='genre', y='total_sales')\n",
    "plt.xlabel('Жанры игр',fontsize=12)\n",
    "plt.ylabel('Продажи',fontsize=12)"
   ]
  },
  {
   "cell_type": "markdown",
   "id": "5124c60c",
   "metadata": {},
   "source": [
    "- Лучше всего продаются жанры Экшн. Стратегии на последнем месте."
   ]
  },
  {
   "cell_type": "markdown",
   "id": "2ab9edbc",
   "metadata": {},
   "source": [
    "#### Вывод по исследовательскому анализу данных:\n",
    "\n",
    "- Количество игр на игровые приставки и компьютеры начало расти с большой скоростью с 90х годов до 2008 года. С 2008 года, после того как массово начали создавать мобильные приложения и мобильные игры, произошел резкий спад разработок игр на игровые платформы.\n",
    "- Самые популярные игровые платформы за период : Sony PlayStation 4, Xbox One, Nintendo 3 DS, Sony Playstation 3, Xbox 360.\n",
    "- Средняя жизнь игровой платформы составляет 10 лет. Пик продаж наступает примерно через 5 лет после выхода приставки.\n",
    "- Больше всего продаются игры на Sony Playstation 4 и Xbox One\n",
    "- У всех платформ наблюдается взаимосвязь между продажами и оценками критиков и пользователей. Заметнее всего корреляция между оценками критиков и продажами. Это значит для людей мнение критиков важнее мнения других пользователей"
   ]
  },
  {
   "cell_type": "markdown",
   "id": "5eab35f9",
   "metadata": {},
   "source": [
    "### Шаг 4. Составьте портрет пользователя каждого региона\n",
    "\n",
    "- Определите для пользователя каждого региона (NA, EU, JP):\n",
    "- Самые популярные платформы (топ-5). Опишите различия в долях продаж.\n",
    "- Самые популярные жанры (топ-5). Поясните разницу.\n",
    "- Влияет ли рейтинг ESRB на продажи в отдельном регионе?"
   ]
  },
  {
   "cell_type": "code",
   "execution_count": 29,
   "id": "e281c76d",
   "metadata": {},
   "outputs": [],
   "source": [
    "#Напишем функции для создания сводных таблиц и отсривоки барплотов\n",
    "\n",
    "#Функция для создания сводбных таблиц за весь период\n",
    "def forpivot(row, title):\n",
    "    fig, axes = plt.subplots(1, 3, figsize=(20, 4))\n",
    "    for pivot, ax in zip(list(['platform','genre','rating']),axes.flatten()[:3]):\n",
    "        ppivot = data.pivot_table(index=pivot, values=row, aggfunc='sum'\n",
    "                  ).sort_values(by=row, ascending=False).reset_index().rename_axis(None, axis=1).head(5)\n",
    "        print(ppivot)\n",
    "        print('\\n\\n') \n",
    "        sns.set_palette(\"Blues\")\n",
    "        sns.barplot(data=ppivot, x=pivot, y=row, ax=ax)\n",
    "        fig.suptitle(title, fontsize=15)\n",
    "        \n",
    "\n",
    "plt.show()\n",
    "sns.set()\n",
    "\n",
    "#Функция для создания сводных таблиц за последний год\n",
    "def for_pivot_last(row, title):\n",
    "    temp = data[data['year_of_release']>2015]\n",
    "    fig, axes = plt.subplots(1, 3, figsize=(20, 4))\n",
    "    for pivot, ax in zip(list(['platform','genre','rating']), axes.flatten()[:3]):\n",
    "        ppivot = temp.pivot_table(index=pivot, values=row, aggfunc='sum').sort_values(by=row, ascending=False).reset_index().rename_axis(None, axis=1).head(5)\n",
    "        print(ppivot)\n",
    "        print('\\n\\n')\n",
    "        sns.set_palette(\"BuGn_r\")\n",
    "        sns.barplot(data=ppivot, x=pivot, y=row, ax=ax)\n",
    "        fig.suptitle(title, fontsize=15)"
   ]
  },
  {
   "cell_type": "markdown",
   "id": "079e7c03",
   "metadata": {},
   "source": [
    "Портрет пользователя North America"
   ]
  },
  {
   "cell_type": "code",
   "execution_count": 30,
   "id": "55673767",
   "metadata": {},
   "outputs": [
    {
     "name": "stdout",
     "output_type": "stream",
     "text": [
      "  platform  na_sales\n",
      "0     X360    595.74\n",
      "1      PS2    572.92\n",
      "2      Wii    486.87\n",
      "3      PS3    390.13\n",
      "4       DS    380.31\n",
      "\n",
      "\n",
      "\n",
      "      genre  na_sales\n",
      "0    Action    863.17\n",
      "1    Sports    671.20\n",
      "2   Shooter    584.83\n",
      "3  Platform    444.44\n",
      "4      Misc    399.57\n",
      "\n",
      "\n",
      "\n",
      "  rating  na_sales\n",
      "0      E   1274.24\n",
      "1      0   1227.62\n",
      "2      T    747.60\n",
      "3      M    742.89\n",
      "4   E10+    345.50\n",
      "\n",
      "\n",
      "\n"
     ]
    },
    {
     "data": {
      "image/png": "[encoded data removed]",
      "text/plain": [
       "<Figure size 1440x288 with 3 Axes>"
      ]
     },
     "metadata": {},
     "output_type": "display_data"
    }
   ],
   "source": [
    "#Выведем топ 5 платформ, жанров и рейтингов за весь период\n",
    "forpivot('na_sales','Топ 5 платформ, жанров и рейтингов за весь период')"
   ]
  },
  {
   "cell_type": "code",
   "execution_count": 31,
   "id": "8826f575",
   "metadata": {},
   "outputs": [
    {
     "name": "stdout",
     "output_type": "stream",
     "text": [
      "  platform  na_sales\n",
      "0      PS4     21.49\n",
      "1     XOne     14.27\n",
      "2      3DS      4.14\n",
      "3     WiiU      2.10\n",
      "4       PC      1.36\n",
      "\n",
      "\n",
      "\n",
      "          genre  na_sales\n",
      "0       Shooter     16.24\n",
      "1        Action      9.29\n",
      "2        Sports      7.54\n",
      "3  Role-Playing      5.89\n",
      "4      Fighting      1.84\n",
      "\n",
      "\n",
      "\n",
      "  rating  na_sales\n",
      "0      M     15.67\n",
      "1      T      8.95\n",
      "2      0      8.53\n",
      "3      E      7.97\n",
      "4   E10+      3.81\n",
      "\n",
      "\n",
      "\n"
     ]
    },
    {
     "data": {
      "image/png": "[encoded data removed]",
      "text/plain": [
       "<Figure size 1440x288 with 3 Axes>"
      ]
     },
     "metadata": {},
     "output_type": "display_data"
    }
   ],
   "source": [
    "#Выведем топ 5 платформ, жанров и рейтингов за последний год\n",
    "for_pivot_last('na_sales','Топ 5 платформ, жанров и рейтингов за последний год')"
   ]
  },
  {
   "cell_type": "markdown",
   "id": "d6dd0ad9",
   "metadata": {},
   "source": [
    "#### Вывод:\n",
    "\n",
    "- Самые популярные игровые платформы в северной америке за все время это: XBOX 360, PS2, WII, PS3, DS\n",
    "- Топ 5 жанров в северной америке за все время: action, sports, shooter, platform, misc\n",
    "- По рейтингам видно, что больше всего продаж за все время у игр с рейтингом \"для всех\", на втором месте игры с рейтингом \"от 13 и выше\" и на третьем месте игры с рейтингом \"от 17 и выше\"\n",
    "\n",
    "- Если посмотреть с 2015 по 2016 года, то мы видим как интерес кардинально меняется:\n",
    "- Топ игровых приставок выглядит таким образом : PS4, Xone, DS3\n",
    "- Топ жанров игр: Shooter, Action, Sports\n",
    "- Топ рейтингов игр : \"От 17 и выше\" , \"от 13 и выше\" и \"для всех\"\n"
   ]
  },
  {
   "cell_type": "markdown",
   "id": "629412af",
   "metadata": {},
   "source": [
    "<div class=\"alert alert-danger\">\n",
    "<b>Комментарий ревьюера V3: &#10060; </b> Отлично, но при твоем способе подсчета игры без рейтинга оказываются полностью исключенными из анализа. Но продажи именно этих игр могут указать на ключевое различие в регионах.</div>"
   ]
  },
  {
   "cell_type": "markdown",
   "id": "63782fda",
   "metadata": {},
   "source": [
    "Портрет пользователя European Union"
   ]
  },
  {
   "cell_type": "code",
   "execution_count": 32,
   "id": "bce10f64",
   "metadata": {},
   "outputs": [
    {
     "name": "stdout",
     "output_type": "stream",
     "text": [
      "  platform  eu_sales\n",
      "0      PS2    332.63\n",
      "1      PS3    327.21\n",
      "2     X360    268.32\n",
      "3      Wii    258.32\n",
      "4       PS    212.39\n",
      "\n",
      "\n",
      "\n",
      "     genre  eu_sales\n",
      "0   Action    510.99\n",
      "1   Sports    371.33\n",
      "2  Shooter    314.52\n",
      "3   Racing    234.49\n",
      "4     Misc    210.60\n",
      "\n",
      "\n",
      "\n",
      "  rating  eu_sales\n",
      "0      E    703.87\n",
      "1      0    610.18\n",
      "2      M    480.00\n",
      "3      T    421.79\n",
      "4   E10+    183.35\n",
      "\n",
      "\n",
      "\n"
     ]
    },
    {
     "data": {
      "image/png": "[encoded data removed]",
      "text/plain": [
       "<Figure size 1440x288 with 3 Axes>"
      ]
     },
     "metadata": {},
     "output_type": "display_data"
    }
   ],
   "source": [
    "#Выведем топ 5 платформ, жанров и рейтингов за весь период для Европейского союза\n",
    "forpivot('eu_sales','Топ 5 платформ, жанров и рейтингов за весь период для Европейского союза')"
   ]
  },
  {
   "cell_type": "code",
   "execution_count": 33,
   "id": "51c11873",
   "metadata": {},
   "outputs": [
    {
     "name": "stdout",
     "output_type": "stream",
     "text": [
      "  platform  eu_sales\n",
      "0      PS4     31.78\n",
      "1     XOne      9.63\n",
      "2       PC      3.53\n",
      "3      3DS      2.33\n",
      "4     WiiU      1.48\n",
      "\n",
      "\n",
      "\n",
      "          genre  eu_sales\n",
      "0       Shooter     15.90\n",
      "1        Sports     12.01\n",
      "2        Action     10.68\n",
      "3  Role-Playing      4.28\n",
      "4        Racing      1.77\n",
      "\n",
      "\n",
      "\n",
      "  rating  eu_sales\n",
      "0      M     16.54\n",
      "1      E     13.61\n",
      "2      T      9.79\n",
      "3      0      7.47\n",
      "4   E10+      3.81\n",
      "\n",
      "\n",
      "\n"
     ]
    },
    {
     "data": {
      "image/png": "[encoded data removed]",
      "text/plain": [
       "<Figure size 1440x288 with 3 Axes>"
      ]
     },
     "metadata": {},
     "output_type": "display_data"
    }
   ],
   "source": [
    "#Выведем топ 5 платформ, жанров и рейтингов за последний год для европейского союза\n",
    "for_pivot_last('eu_sales','Топ 5 платформ, жанров и рейтингов за последний год для европейского союза')"
   ]
  },
  {
   "cell_type": "markdown",
   "id": "818e488e",
   "metadata": {},
   "source": [
    "#### Вывод:\n",
    "\n",
    "- Самые популярные игровые платформы в Европе это: PS2, PS3, X360, WII, PS\n",
    "- Топ 5 жанров в Европе : action, sports, shooter, racing, misc\n",
    "- По рейтингам видно, что больше всего продаж у игр с рейтингом \"для всех\", на втором месте игры с рейтингом \"от 17 и выше\" и на третьем месте игры с рейтингом \"от 13 и выше\"\n",
    "\n",
    "- За последний год интерес у пользователя кардинально изменился:\n",
    "- Топ жанров стал: shooter, sports, action\n",
    "- Топ платформ: PS4, Xone, PC\n",
    "- Топ рейтингов: \"От 17 и выше\" , \"Для всех\" и \"от 13 и выше\""
   ]
  },
  {
   "cell_type": "markdown",
   "id": "66fde8c7",
   "metadata": {},
   "source": [
    "Портрет пользователя Japanese"
   ]
  },
  {
   "cell_type": "code",
   "execution_count": 34,
   "id": "a7975374",
   "metadata": {},
   "outputs": [
    {
     "name": "stdout",
     "output_type": "stream",
     "text": [
      "  platform  jp_sales\n",
      "0       DS    175.02\n",
      "1       PS    139.78\n",
      "2      PS2    137.54\n",
      "3     SNES    116.55\n",
      "4      3DS    100.62\n",
      "\n",
      "\n",
      "\n",
      "          genre  jp_sales\n",
      "0  Role-Playing    353.39\n",
      "1        Action    160.14\n",
      "2        Sports    134.93\n",
      "3      Platform    130.71\n",
      "4          Misc    107.02\n",
      "\n",
      "\n",
      "\n",
      "  rating  jp_sales\n",
      "0      0    836.77\n",
      "1      E    197.96\n",
      "2      T    150.70\n",
      "3      M     63.58\n",
      "4   E10+     40.20\n",
      "\n",
      "\n",
      "\n"
     ]
    },
    {
     "data": {
      "image/png": "[encoded data removed]",
      "text/plain": [
       "<Figure size 1440x288 with 3 Axes>"
      ]
     },
     "metadata": {},
     "output_type": "display_data"
    }
   ],
   "source": [
    "#Выведем топ 5 платформ, жанров и рейтингов за весь период для Японии\n",
    "forpivot('jp_sales','Топ 5 платформ, жанров и рейтингов за весь период для Японии')"
   ]
  },
  {
   "cell_type": "code",
   "execution_count": 35,
   "id": "61c0125c",
   "metadata": {},
   "outputs": [
    {
     "name": "stdout",
     "output_type": "stream",
     "text": [
      "  platform  jp_sales\n",
      "0      3DS      8.03\n",
      "1      PS4      5.74\n",
      "2      PSV      3.56\n",
      "3      PS3      1.30\n",
      "4     WiiU      0.67\n",
      "\n",
      "\n",
      "\n",
      "          genre  jp_sales\n",
      "0        Action      7.07\n",
      "1  Role-Playing      6.61\n",
      "2     Adventure      1.18\n",
      "3       Shooter      1.06\n",
      "4          Misc      1.04\n",
      "\n",
      "\n",
      "\n",
      "  rating  jp_sales\n",
      "0      0     14.32\n",
      "1      T      2.27\n",
      "2      M      1.20\n",
      "3      E      1.07\n",
      "4   E10+      0.45\n",
      "\n",
      "\n",
      "\n"
     ]
    },
    {
     "data": {
      "image/png": "[encoded data removed]",
      "text/plain": [
       "<Figure size 1440x288 with 3 Axes>"
      ]
     },
     "metadata": {},
     "output_type": "display_data"
    }
   ],
   "source": [
    "#Выведем топ 5 платформ, жанров и рейтингов за последний год для японии\n",
    "for_pivot_last('jp_sales','Топ 5 платформ, жанров и рейтингов за последний год для японии')"
   ]
  },
  {
   "cell_type": "markdown",
   "id": "b16e4fbc",
   "metadata": {},
   "source": [
    "#### Вывод:\n",
    "\n",
    "- Самые популярные игровые платформы в Японии это: DS, PS, PS2, SNES, 3DS\n",
    "- Топ 5 жанров в Японии : Role-Playing, action, sports, platform, misc\n",
    "- По рейтингам видно, что больше всего продаж у игр с рейтингом \"для всех\", на втором месте игры с рейтингом \"от 13 и выше\" и на третьем месте игры с рейтингом \"от 17 и выше\"\n",
    "\n",
    "- За последний год интерес у пользователя кардинально изменился\n",
    "- Топ Жанров: action, role-playing, adventure\n",
    "- топ платформ: 3ds, ps4, psv\n",
    "- топ рейтингов: \"от 13 и выше\", \"от 17 и выше\" и \"для всех"
   ]
  },
  {
   "cell_type": "markdown",
   "id": "9fff4400",
   "metadata": {},
   "source": [
    "#### Вывод по составлению портрета пользователя каждого региона\n",
    "\n",
    "- Самые популярные игровые платформы в северной америке это: XBOX, PS2, WII, PS3, DS Топ 5 жанров в северной америке : action, sports, shooter, platform, misc По рейтингам видно, что больше всего продаж у игр с рейтингом \"для всех\", на втором месте игры с рейтингом \"от 13 и выше\" и на третьем месте игры с рейтингом \"от 17 и выше\"\n",
    "\n",
    "- Самые популярные игровые платформы в Европе это: PS2, PS3, XBOX, WII, PS Топ 5 жанров в Европе : action, sports, shooter, racing, misc По рейтингам видно, что больше всего продаж у игр с рейтингом \"для всех\", на втором месте игры с рейтингом \"от 17 и выше\" и на третьем месте игры с рейтингом \"от 13 и выше\"\n",
    "\n",
    "- Самые популярные игровые платформы в Японии это: DS, PS, PS2, SNES, 3DS Топ 5 жанров в Японии : Role-Playing, action, sports, platform, misc По рейтингам видно, что больше всего продаж у игр с рейтингом \"для всех\", на втором месте игры с рейтингом \"от 13 и выше\" и на третьем месте игры с рейтингом \"от 17 и выше\"\n",
    "\n",
    "- Если брать данные за последний год:\n",
    "То в Северной Америке:\n",
    "топ игровых платформ выглядит так: PS4, Xone, DS3\n",
    "Топ Жанров игр: Shooter, Action, Sports\n",
    "Топ Рейтингов игр: \"От 17 и выше\" , \"от 13 и выше\" и \"для всех\"\n",
    "\n",
    "\n",
    "- В Европейском союзе:\n",
    "Топ игровых платформ : PS4, Xone, PC\n",
    "Топ жанров: Shooter, Sports, Action\n",
    "Топ рейтингов: \"От 17 и выше\", \"для всех\", \"от 13 и выше\"\n",
    "\n",
    "\n",
    "- В Японии:\n",
    "Топ игровых платформ : 3DS, PS4, PSV\n",
    "Топ жанров: Action, Role-playing, Adventure\n",
    "Топ рейтингов: \"От 13 и выше\", \"от 17 и выше\", \"для всех\"\n",
    "\n",
    "\n",
    "Для прогноза будущих продаж лучше брать данные за последний год, так как технологии меняются с очень быстрыми темпами, и вкусы людей также могут меняться очень быстро. Соответственно, для 2017 года большую часть прибыли будут приносить игры жанра Shooter, для платформы PS4 и с рейтингом от 17 и выше"
   ]
  },
  {
   "cell_type": "markdown",
   "id": "2750fa97",
   "metadata": {},
   "source": [
    "### Шаг 5. Проверьте гипотезы\n",
    "- Средние пользовательские рейтинги платформ Xbox One и PC одинаковые;\n",
    "- Средние пользовательские рейтинги жанров Action (англ. «действие», экшен-игры) и Sports разные.\n",
    "- Задайте самостоятельно пороговое значение alpha.\n",
    "\n",
    "Поясните:\n",
    "\n",
    "- Как вы сформулировали нулевую и альтернативную гипотезы;\n",
    "- Какой критерий применили для проверки гипотез и почему."
   ]
  },
  {
   "cell_type": "code",
   "execution_count": 36,
   "id": "2ec0e6da",
   "metadata": {},
   "outputs": [],
   "source": [
    "#Написали переменную для упрощения рутины\n",
    "def hipotesis(alpha=.01, first_data='', expression='equals', second_data='', equal_var=False):\n",
    "    #метод ttest_ind\n",
    "    results = st.ttest_ind(first_data.dropna(), second_data.dropna(), equal_var=False)\n",
    "   \n",
    "    print('p-значение:', results.pvalue)\n",
    "    \n",
    "    if expression == 'equals':\n",
    "        if (results.pvalue < alpha):\n",
    "            print(\"Отвергаем нулевую гипотезу\")\n",
    "        else:\n",
    "            print(\"Не получилось отвергнуть нулевую гипотезу\")           "
   ]
  },
  {
   "cell_type": "markdown",
   "id": "7aee1452",
   "metadata": {},
   "source": [
    "#### *Средние пользовательские рейтинги платформ Xbox One и PC одинаковые*"
   ]
  },
  {
   "cell_type": "markdown",
   "id": "d3a58505",
   "metadata": {},
   "source": [
    "Сформулируем нулевые гипотезы:\n",
    "\n",
    "- Нулевая гипотеза H₀: Средние пользовательские рейтинги платформ Xbox One и PC одинаковые;\n",
    "- Альтернативная гипотеза H₁: Средние пользовательские рейтинги платформ Xbox One и PC различаются"
   ]
  },
  {
   "cell_type": "code",
   "execution_count": 37,
   "id": "a944d951",
   "metadata": {},
   "outputs": [
    {
     "data": {
      "text/plain": [
       "4.805263157894737"
      ]
     },
     "execution_count": 37,
     "metadata": {},
     "output_type": "execute_result"
    }
   ],
   "source": [
    "# Сохраним в переменных xbox_hyp и pc_hyp соответствующие данные (актуальные данные за последние 10 лет)\n",
    "xone_hyp = data[(data['platform']=='XOne') & (data['year_of_release']>2006)]['user_score']\n",
    "pc_hyp = data[(data['platform']=='PC') & (data['year_of_release']>2006)]['user_score']\n",
    "\n",
    "#Посчитаем средний рейтинг пользователя для xbox платформ\n",
    "xone_hyp.mean()"
   ]
  },
  {
   "cell_type": "code",
   "execution_count": 38,
   "id": "82d66aa6",
   "metadata": {},
   "outputs": [
    {
     "data": {
      "text/plain": [
       "5.335773480662983"
      ]
     },
     "execution_count": 38,
     "metadata": {},
     "output_type": "execute_result"
    }
   ],
   "source": [
    "#Посчитаем средний рейтинг пользователя для PC платформ\n",
    "pc_hyp.mean()"
   ]
  },
  {
   "cell_type": "code",
   "execution_count": 39,
   "id": "0bec1c2c",
   "metadata": {},
   "outputs": [
    {
     "name": "stdout",
     "output_type": "stream",
     "text": [
      "p-значение: 0.02083455127372652\n",
      "Не получилось отвергнуть нулевую гипотезу\n"
     ]
    }
   ],
   "source": [
    "#Выполним проверку гипотезы. Будем использовать метод ttest_ind\n",
    "hipotesis(alpha=.01, first_data = xone_hyp, expression = 'equals', second_data= pc_hyp, equal_var=False)   "
   ]
  },
  {
   "cell_type": "markdown",
   "id": "d301989c",
   "metadata": {},
   "source": [
    "##### Вывод: \n",
    "\n",
    "Значение p-value около 1%. Таким образом, не получилось опровергнуть Нулевую гипотезу. То есть, с вероятностью в 1% можно получить различность рейтингов двух платформ"
   ]
  },
  {
   "cell_type": "markdown",
   "id": "0aa3ec68",
   "metadata": {},
   "source": [
    "<div class=\"alert alert-success\">\n",
    "<b>Комментарий ревьюера:\n",
    "    &#9989;</b> Отлично!"
   ]
  },
  {
   "cell_type": "markdown",
   "id": "821e3d65",
   "metadata": {},
   "source": [
    "#### *Средние пользовательские рейтинги жанров Action и Sports разные*"
   ]
  },
  {
   "cell_type": "markdown",
   "id": "22be4591",
   "metadata": {},
   "source": [
    "Сформулируем нулевые гипотезы:\n",
    "\n",
    "- Нулевая гипотеза H₀: Средние пользовательские рейтинги жанров Action и Sports одинаковые\n",
    "- Альтернативная гипотеза H₁: Средние пользовательские рейтинги жанров Action и Sports различаются"
   ]
  },
  {
   "cell_type": "code",
   "execution_count": 40,
   "id": "1f7a3bc9",
   "metadata": {},
   "outputs": [
    {
     "data": {
      "text/plain": [
       "3.775705186533212"
      ]
     },
     "execution_count": 40,
     "metadata": {},
     "output_type": "execute_result"
    }
   ],
   "source": [
    "# Сохраним в переменных genre_action_hyp и genre_sports_hyp соответствующие данные с пользовательскими оценками\n",
    "genre_action_hyp = data[(data['genre']=='Action') & (data['year_of_release']>2006)]['user_score']\n",
    "genre_sports_hyp = data[(data['genre']=='Sports') & (data['year_of_release']>2006)]['user_score']\n",
    "\n",
    "#выведем среднюю оценку по жанру экшн\n",
    "genre_action_hyp.mean()"
   ]
  },
  {
   "cell_type": "code",
   "execution_count": 41,
   "id": "09659f4d",
   "metadata": {},
   "outputs": [
    {
     "data": {
      "text/plain": [
       "3.3055160142348754"
      ]
     },
     "execution_count": 41,
     "metadata": {},
     "output_type": "execute_result"
    }
   ],
   "source": [
    "#выведем среднюю оценку по жанру спорт\n",
    "genre_sports_hyp.mean()"
   ]
  },
  {
   "cell_type": "code",
   "execution_count": 42,
   "id": "ea7b8e25",
   "metadata": {},
   "outputs": [
    {
     "name": "stdout",
     "output_type": "stream",
     "text": [
      "p-значение: 0.00019396422427015982\n",
      "Отвергаем нулевую гипотезу\n"
     ]
    }
   ],
   "source": [
    "#Выполним проверку гипотезы. Будем использовать метод ttest_ind\n",
    "hipotesis(alpha=.01, first_data = genre_action_hyp, expression = 'equals', second_data= genre_sports_hyp, equal_var=False)    \n",
    " "
   ]
  },
  {
   "cell_type": "markdown",
   "id": "cb3680ea",
   "metadata": {},
   "source": [
    "#### Вывод: \n",
    "Получив p-value, мы отвергли Нулевую гипотезу. Таким образом, у нас практически нет вероятности получить одинакове средние рейнтинги по двум жанрам."
   ]
  },
  {
   "cell_type": "markdown",
   "id": "c12b0e0e",
   "metadata": {},
   "source": [
    "<div class=\"alert alert-success\">\n",
    "<b>Комментарий ревьюера:\n",
    "    &#9989;</b> Отлично!"
   ]
  },
  {
   "cell_type": "markdown",
   "id": "2e736e09",
   "metadata": {},
   "source": [
    "#### Вывод по проверке гипотез\n",
    "\n",
    "Проверили гипотезы по ТЗ:\n",
    "\n",
    "- Гипотеза: \"Средние пользовательские рейтинги платформ Xbox one и PC одинаковые\". Нулевую гипотезу не удалось опровергнуть.\n",
    "- Гипотеза: \"Средние пользовательские рейтинги жанров Action и Sports разные\". Отвергаем нулевую гипотезу."
   ]
  },
  {
   "cell_type": "markdown",
   "id": "97eb6e1e",
   "metadata": {},
   "source": [
    "### Шаг 6. Общий вывод\n",
    "\n",
    "\n",
    "- Перед анализом, данные были подготовлены: приведены к нижнему регистру названия столбцов и сами данные приведены к правильным типам.\n",
    "- Определили, что аббревиатура TBD значит to be determined, to be done. То есть данные были нарочно не заполнены. Поэтому заменили tbd на 0 для проведения дальнейшего анализа\n",
    "- Выполнив первоначальный анализ, мы выявили, что количество игр на игровые приставки и компьютеры начало расти с большой скоростью с 90х до 2008 года. С 2008 года после того как массово начали мобильные игры, произошел резкий спад разработок консольных игр\n",
    "- За весь период консольных приставок самые популярные оказались: PS2, X360, PS3, WII, DS, PS\n",
    "- Также мы выявили, что средняя продолжительность жизни игровой приставки около 10 лет. Пик продаж наступает примерно через 5 лет после выпуска консоли\n",
    "- Также по результатам анализа выяснили что у Nintendo WII был резкий скачок в 2009 году и такой же резкий провал. Причиной может быть тот же самый скачок релиза игр на мобильных платформах. \n",
    "- Анализ оценок пользователей и критиков выявил взаимосвязь оценки критиков и пользователей с продажами самих игр. Чем больше оценка критиков или пользователей, тем лучше продажа игры.\n",
    "- Так же выяснили, что самый популярный жанр за все время это Экшн. На последнем месте стратегии.\n",
    "\n",
    "- Также был составлен портрет пользователя для каждого региона.\n",
    "- В Северной америке самые популярные жанры: action, sports, shooter. Консоли: XBOX, PS2 и WII. А по рейтингу игр люди предпочитают игры с рейтингами: \"для всех\", \"от 13 и выше\" и \"от 17 и выше\".\n",
    "- В Европе, популярные жанры аналогичны Северной Америке. А выбор приставок выглядит следующим образом по очередности: PS2, PS3, XBOX. Рейтинг игр отличается вторым местом, на втором месте у них от 17 и выше, а на третьем 13 и выше.\n",
    "- В японии люди предпочитают игровые приставки: DS, PS, PS2. А жанры игры : Role-playing, action и sports. Рейтинг игр аналогичный Северной Америке.\n",
    "\n",
    "- Исходя из всех данных предполагаем, что лучше всего продавать игры для таких приставок как Sony Playstation 4\n",
    "- Жанр необходимо выбирать Shooter и выбирать игры с рейтингом \"от 17 и выше\", это позволит увеличить продажи."
   ]
  },
  {
   "cell_type": "markdown",
   "id": "3438a0a8",
   "metadata": {},
   "source": [
    "<b>Итоговый комментарий ревьюера: &#10060; </b>Молодец, отличная работа, хорошо структурированные выводы. Супер, что строишь графики в seaborn. Гипотезы сформулированы верно, выводы корректные. Есть пара критических моментов, которые необходимо исправить, а именно:\n",
    "- работоспособность кода\n",
    "- актуальный период\n",
    "- анализ и выводы для топ платформ, соответствующих исправленному актуальному периоду\n",
    "\n",
    "Если возникли какие-либо вопросы - не стесняйся их задавать. Ниже оставлю пару ссылок для самообучения. Удачи!"
   ]
  },
  {
   "cell_type": "markdown",
   "id": "0b2afbdd",
   "metadata": {},
   "source": [
    "<div class=\"alert alert-success\">\n",
    "<b>Рубрика “Полезные ссылки”:\n",
    "✅</b> <br>\n",
    "<a href = \"https://sphweb.bumc.bu.edu/otlt/MPH-Modules/PH717-QuantCore/PH717-Module9-Correlation-Regression/PH717-Module9-Correlation-Regression4.html\">Коэффициенты корреляции</a><br>\n",
    "<a href = \"https://www.researchgate.net/profile/Paul-Louangrath/post/Ranking_or_scoring_variables_using_conditional_probability/attachment/59d63c45c49f478072ea7c1a/AS%3A273748962283533%401442278246675/download/100+Statistical+Tests.pdf\">100 Statistical tests</a><br>\n",
    "<a href = \"https://loginom.ru/blog/missing\">Обработка пропусков</a><br>\n",
    "<a href = \"https://coderlessons.com/tutorials/python-technologies/izuchai-siborna/siborn-kratkoe-rukovodstvo\"> Seaborn</a><br>\n",
    "<a href = \"https://habr.com/ru/post/502958/\"> Plotly</a><br>\n",
    "<a href = \"https://medium.com/@jetbootsmaker/%D0%BF%D0%BE%D0%B2%D1%8B%D1%88%D0%B0%D0%B5%D0%BC-%D0%BF%D1%80%D0%BE%D0%B4%D1%83%D0%BA%D1%82%D0%B8%D0%B2%D0%BD%D0%BE%D1%81%D1%82%D1%8C-%D0%BF%D1%80%D0%B8-%D1%80%D0%B0%D0%B1%D0%BE%D1%82%D0%B5-%D1%81-jupyter-notebook-81a1cab8bac1\"> Повышаем продуктивность при работе с Jupyter</a><br>\n",
    "<a href = \"https://towardsdatascience.com/5-things-you-should-know-about-covariance-26b12a0516f1\">5 Things You Should Know About Covariance</a>\n",
    "</div>"
   ]
  },
  {
   "cell_type": "markdown",
   "id": "a45ef43f",
   "metadata": {},
   "source": [
    "<div class=\"alert alert-info\"> <b>Комментарий студента:</b> Сергей, спасибо тебе большое за ревью проекта и ссылки на полезную информацию! Я обязательно почитаю и стану лучше писать код, честно честно :)</div>"
   ]
  },
  {
   "cell_type": "markdown",
   "id": "68a9f0ee",
   "metadata": {},
   "source": [
    "<b>Итоговый комментарий ревьюера V2: &#10060; </b>Молодец, что учел дублирование кода. Пересмотри, пожалуйста топ платформ. Так же прогоняй код перед запуском(когда менял PS2 на PS3 забыл переименовать переменны)"
   ]
  },
  {
   "cell_type": "markdown",
   "id": "7cd3eede",
   "metadata": {},
   "source": [
    "<div class=\"alert alert-info\"> <b>Комментарий студента v2:</b> Погонял, учел, топ 5 платформ</div>"
   ]
  },
  {
   "cell_type": "markdown",
   "id": "ff25cb22",
   "metadata": {},
   "source": [
    "<b>Итоговый комментарий ревьюера V3: &#10060; </b>Отлично, осталось исправить пару критических замечаний, а именно:\n",
    "- не учитываются игры без рейтинга\n",
    "- коэффициенты корреляции\n",
    "- самые прибыльные жанры"
   ]
  }
 ],
 "metadata": {
  "ExecuteTimeLog": [
   {
    "duration": 1522,
    "start_time": "2022-10-12T11:23:45.481Z"
   },
   {
    "duration": 128,
    "start_time": "2022-10-12T11:23:47.006Z"
   },
   {
    "duration": 0,
    "start_time": "2022-10-12T11:23:47.138Z"
   },
   {
    "duration": 0,
    "start_time": "2022-10-12T11:23:47.139Z"
   },
   {
    "duration": 0,
    "start_time": "2022-10-12T11:23:47.140Z"
   },
   {
    "duration": 0,
    "start_time": "2022-10-12T11:23:47.142Z"
   },
   {
    "duration": 0,
    "start_time": "2022-10-12T11:23:47.143Z"
   },
   {
    "duration": 0,
    "start_time": "2022-10-12T11:23:47.144Z"
   },
   {
    "duration": 0,
    "start_time": "2022-10-12T11:23:47.145Z"
   },
   {
    "duration": 0,
    "start_time": "2022-10-12T11:23:47.146Z"
   },
   {
    "duration": 0,
    "start_time": "2022-10-12T11:23:47.147Z"
   },
   {
    "duration": 0,
    "start_time": "2022-10-12T11:23:47.148Z"
   },
   {
    "duration": 0,
    "start_time": "2022-10-12T11:23:47.149Z"
   },
   {
    "duration": 0,
    "start_time": "2022-10-12T11:23:47.150Z"
   },
   {
    "duration": 0,
    "start_time": "2022-10-12T11:23:47.151Z"
   },
   {
    "duration": 0,
    "start_time": "2022-10-12T11:23:47.152Z"
   },
   {
    "duration": 0,
    "start_time": "2022-10-12T11:23:47.153Z"
   },
   {
    "duration": 0,
    "start_time": "2022-10-12T11:23:47.154Z"
   },
   {
    "duration": 0,
    "start_time": "2022-10-12T11:23:47.155Z"
   },
   {
    "duration": 0,
    "start_time": "2022-10-12T11:23:47.156Z"
   },
   {
    "duration": 0,
    "start_time": "2022-10-12T11:23:47.157Z"
   },
   {
    "duration": 0,
    "start_time": "2022-10-12T11:23:47.158Z"
   },
   {
    "duration": 0,
    "start_time": "2022-10-12T11:23:47.196Z"
   },
   {
    "duration": 0,
    "start_time": "2022-10-12T11:23:47.197Z"
   },
   {
    "duration": 0,
    "start_time": "2022-10-12T11:23:47.199Z"
   },
   {
    "duration": 0,
    "start_time": "2022-10-12T11:23:47.201Z"
   },
   {
    "duration": 0,
    "start_time": "2022-10-12T11:23:47.202Z"
   },
   {
    "duration": 0,
    "start_time": "2022-10-12T11:23:47.204Z"
   },
   {
    "duration": 0,
    "start_time": "2022-10-12T11:23:47.205Z"
   },
   {
    "duration": 0,
    "start_time": "2022-10-12T11:23:47.207Z"
   },
   {
    "duration": 0,
    "start_time": "2022-10-12T11:23:47.208Z"
   },
   {
    "duration": 0,
    "start_time": "2022-10-12T11:23:47.210Z"
   },
   {
    "duration": 0,
    "start_time": "2022-10-12T11:23:47.211Z"
   },
   {
    "duration": 0,
    "start_time": "2022-10-12T11:23:47.213Z"
   },
   {
    "duration": 0,
    "start_time": "2022-10-12T11:23:47.215Z"
   },
   {
    "duration": 0,
    "start_time": "2022-10-12T11:23:47.217Z"
   },
   {
    "duration": 0,
    "start_time": "2022-10-12T11:23:47.218Z"
   },
   {
    "duration": 0,
    "start_time": "2022-10-12T11:23:47.220Z"
   },
   {
    "duration": 0,
    "start_time": "2022-10-12T11:23:47.221Z"
   },
   {
    "duration": 3,
    "start_time": "2022-10-12T11:29:14.575Z"
   },
   {
    "duration": 18,
    "start_time": "2022-10-12T11:29:14.580Z"
   },
   {
    "duration": 0,
    "start_time": "2022-10-12T11:29:14.600Z"
   },
   {
    "duration": 0,
    "start_time": "2022-10-12T11:29:14.601Z"
   },
   {
    "duration": 0,
    "start_time": "2022-10-12T11:29:14.602Z"
   },
   {
    "duration": 0,
    "start_time": "2022-10-12T11:29:14.603Z"
   },
   {
    "duration": 0,
    "start_time": "2022-10-12T11:29:14.604Z"
   },
   {
    "duration": 0,
    "start_time": "2022-10-12T11:29:14.605Z"
   },
   {
    "duration": 0,
    "start_time": "2022-10-12T11:29:14.606Z"
   },
   {
    "duration": 0,
    "start_time": "2022-10-12T11:29:14.606Z"
   },
   {
    "duration": 0,
    "start_time": "2022-10-12T11:29:14.607Z"
   },
   {
    "duration": 0,
    "start_time": "2022-10-12T11:29:14.608Z"
   },
   {
    "duration": 0,
    "start_time": "2022-10-12T11:29:14.609Z"
   },
   {
    "duration": 0,
    "start_time": "2022-10-12T11:29:14.610Z"
   },
   {
    "duration": 0,
    "start_time": "2022-10-12T11:29:14.612Z"
   },
   {
    "duration": 0,
    "start_time": "2022-10-12T11:29:14.612Z"
   },
   {
    "duration": 0,
    "start_time": "2022-10-12T11:29:14.613Z"
   },
   {
    "duration": 0,
    "start_time": "2022-10-12T11:29:14.614Z"
   },
   {
    "duration": 0,
    "start_time": "2022-10-12T11:29:14.616Z"
   },
   {
    "duration": 0,
    "start_time": "2022-10-12T11:29:14.617Z"
   },
   {
    "duration": 0,
    "start_time": "2022-10-12T11:29:14.617Z"
   },
   {
    "duration": 0,
    "start_time": "2022-10-12T11:29:14.618Z"
   },
   {
    "duration": 0,
    "start_time": "2022-10-12T11:29:14.619Z"
   },
   {
    "duration": 0,
    "start_time": "2022-10-12T11:29:14.620Z"
   },
   {
    "duration": 216,
    "start_time": "2022-10-12T11:29:14.623Z"
   },
   {
    "duration": 0,
    "start_time": "2022-10-12T11:29:14.840Z"
   },
   {
    "duration": 0,
    "start_time": "2022-10-12T11:29:14.841Z"
   },
   {
    "duration": 0,
    "start_time": "2022-10-12T11:29:14.843Z"
   },
   {
    "duration": 0,
    "start_time": "2022-10-12T11:29:14.844Z"
   },
   {
    "duration": 0,
    "start_time": "2022-10-12T11:29:14.844Z"
   },
   {
    "duration": 0,
    "start_time": "2022-10-12T11:29:14.845Z"
   },
   {
    "duration": 0,
    "start_time": "2022-10-12T11:29:14.846Z"
   },
   {
    "duration": 0,
    "start_time": "2022-10-12T11:29:14.847Z"
   },
   {
    "duration": 0,
    "start_time": "2022-10-12T11:29:14.848Z"
   },
   {
    "duration": 0,
    "start_time": "2022-10-12T11:29:14.849Z"
   },
   {
    "duration": 0,
    "start_time": "2022-10-12T11:29:14.850Z"
   },
   {
    "duration": 0,
    "start_time": "2022-10-12T11:29:14.851Z"
   },
   {
    "duration": 0,
    "start_time": "2022-10-12T11:29:14.852Z"
   },
   {
    "duration": 0,
    "start_time": "2022-10-12T11:29:14.853Z"
   },
   {
    "duration": 1097,
    "start_time": "2022-10-12T12:18:47.350Z"
   },
   {
    "duration": 108,
    "start_time": "2022-10-12T12:18:48.449Z"
   },
   {
    "duration": 0,
    "start_time": "2022-10-12T12:18:48.561Z"
   },
   {
    "duration": 0,
    "start_time": "2022-10-12T12:18:48.562Z"
   },
   {
    "duration": 0,
    "start_time": "2022-10-12T12:18:48.563Z"
   },
   {
    "duration": 0,
    "start_time": "2022-10-12T12:18:48.565Z"
   },
   {
    "duration": 0,
    "start_time": "2022-10-12T12:18:48.566Z"
   },
   {
    "duration": 1,
    "start_time": "2022-10-12T12:18:48.567Z"
   },
   {
    "duration": 0,
    "start_time": "2022-10-12T12:18:48.569Z"
   },
   {
    "duration": 0,
    "start_time": "2022-10-12T12:18:48.570Z"
   },
   {
    "duration": 0,
    "start_time": "2022-10-12T12:18:48.572Z"
   },
   {
    "duration": 0,
    "start_time": "2022-10-12T12:18:48.573Z"
   },
   {
    "duration": 0,
    "start_time": "2022-10-12T12:18:48.595Z"
   },
   {
    "duration": 0,
    "start_time": "2022-10-12T12:18:48.597Z"
   },
   {
    "duration": 0,
    "start_time": "2022-10-12T12:18:48.598Z"
   },
   {
    "duration": 0,
    "start_time": "2022-10-12T12:18:48.601Z"
   },
   {
    "duration": 0,
    "start_time": "2022-10-12T12:18:48.602Z"
   },
   {
    "duration": 0,
    "start_time": "2022-10-12T12:18:48.603Z"
   },
   {
    "duration": 0,
    "start_time": "2022-10-12T12:18:48.605Z"
   },
   {
    "duration": 0,
    "start_time": "2022-10-12T12:18:48.607Z"
   },
   {
    "duration": 0,
    "start_time": "2022-10-12T12:18:48.608Z"
   },
   {
    "duration": 0,
    "start_time": "2022-10-12T12:18:48.609Z"
   },
   {
    "duration": 0,
    "start_time": "2022-10-12T12:18:48.610Z"
   },
   {
    "duration": 0,
    "start_time": "2022-10-12T12:18:48.612Z"
   },
   {
    "duration": 0,
    "start_time": "2022-10-12T12:18:48.614Z"
   },
   {
    "duration": 0,
    "start_time": "2022-10-12T12:18:48.615Z"
   },
   {
    "duration": 0,
    "start_time": "2022-10-12T12:18:48.616Z"
   },
   {
    "duration": 0,
    "start_time": "2022-10-12T12:18:48.618Z"
   },
   {
    "duration": 0,
    "start_time": "2022-10-12T12:18:48.619Z"
   },
   {
    "duration": 0,
    "start_time": "2022-10-12T12:18:48.621Z"
   },
   {
    "duration": 0,
    "start_time": "2022-10-12T12:18:48.622Z"
   },
   {
    "duration": 0,
    "start_time": "2022-10-12T12:18:48.623Z"
   },
   {
    "duration": 0,
    "start_time": "2022-10-12T12:18:48.625Z"
   },
   {
    "duration": 0,
    "start_time": "2022-10-12T12:18:48.627Z"
   },
   {
    "duration": 0,
    "start_time": "2022-10-12T12:18:48.628Z"
   },
   {
    "duration": 0,
    "start_time": "2022-10-12T12:18:48.630Z"
   },
   {
    "duration": 0,
    "start_time": "2022-10-12T12:18:48.631Z"
   },
   {
    "duration": 0,
    "start_time": "2022-10-12T12:18:48.633Z"
   },
   {
    "duration": 0,
    "start_time": "2022-10-12T12:18:48.634Z"
   },
   {
    "duration": 13,
    "start_time": "2022-10-12T12:19:32.990Z"
   },
   {
    "duration": 59,
    "start_time": "2022-10-12T12:19:36.823Z"
   },
   {
    "duration": 190,
    "start_time": "2022-10-12T12:19:40.845Z"
   },
   {
    "duration": 1120,
    "start_time": "2022-10-12T12:20:52.511Z"
   },
   {
    "duration": 2,
    "start_time": "2022-10-12T12:20:53.633Z"
   },
   {
    "duration": 66,
    "start_time": "2022-10-12T12:20:53.636Z"
   },
   {
    "duration": 5,
    "start_time": "2022-10-12T12:20:53.705Z"
   },
   {
    "duration": 451,
    "start_time": "2022-10-12T12:20:53.711Z"
   },
   {
    "duration": 16,
    "start_time": "2022-10-12T12:20:54.164Z"
   },
   {
    "duration": 587,
    "start_time": "2022-10-12T12:20:54.195Z"
   },
   {
    "duration": 11,
    "start_time": "2022-10-12T12:20:54.784Z"
   },
   {
    "duration": 17,
    "start_time": "2022-10-12T12:20:54.797Z"
   },
   {
    "duration": 221,
    "start_time": "2022-10-12T12:20:54.818Z"
   },
   {
    "duration": 344,
    "start_time": "2022-10-12T12:20:55.041Z"
   },
   {
    "duration": 3,
    "start_time": "2022-10-12T12:20:55.387Z"
   },
   {
    "duration": 16,
    "start_time": "2022-10-12T12:20:55.394Z"
   },
   {
    "duration": 305,
    "start_time": "2022-10-12T12:20:55.411Z"
   },
   {
    "duration": 12,
    "start_time": "2022-10-12T12:20:55.718Z"
   },
   {
    "duration": 213,
    "start_time": "2022-10-12T12:20:55.732Z"
   },
   {
    "duration": 11,
    "start_time": "2022-10-12T12:20:55.946Z"
   },
   {
    "duration": 186,
    "start_time": "2022-10-12T12:20:55.958Z"
   },
   {
    "duration": 167,
    "start_time": "2022-10-12T12:20:56.146Z"
   },
   {
    "duration": 5,
    "start_time": "2022-10-12T12:20:56.315Z"
   },
   {
    "duration": 94,
    "start_time": "2022-10-12T12:20:56.322Z"
   },
   {
    "duration": 1364,
    "start_time": "2022-10-12T12:20:56.418Z"
   },
   {
    "duration": 59,
    "start_time": "2022-10-12T12:20:57.784Z"
   },
   {
    "duration": 81,
    "start_time": "2022-10-12T12:20:57.844Z"
   },
   {
    "duration": 17,
    "start_time": "2022-10-12T12:20:57.926Z"
   },
   {
    "duration": 230,
    "start_time": "2022-10-12T12:20:57.944Z"
   },
   {
    "duration": 7,
    "start_time": "2022-10-12T12:20:58.176Z"
   },
   {
    "duration": 408,
    "start_time": "2022-10-12T12:20:58.196Z"
   },
   {
    "duration": 416,
    "start_time": "2022-10-12T12:20:58.606Z"
   },
   {
    "duration": 520,
    "start_time": "2022-10-12T12:20:59.023Z"
   },
   {
    "duration": 420,
    "start_time": "2022-10-12T12:20:59.544Z"
   },
   {
    "duration": 496,
    "start_time": "2022-10-12T12:20:59.966Z"
   },
   {
    "duration": 451,
    "start_time": "2022-10-12T12:21:00.464Z"
   },
   {
    "duration": 5,
    "start_time": "2022-10-12T12:21:00.917Z"
   },
   {
    "duration": 15,
    "start_time": "2022-10-12T12:21:00.924Z"
   },
   {
    "duration": 21,
    "start_time": "2022-10-12T12:21:00.941Z"
   },
   {
    "duration": 18,
    "start_time": "2022-10-12T12:21:00.964Z"
   },
   {
    "duration": 28,
    "start_time": "2022-10-12T12:21:00.984Z"
   },
   {
    "duration": 10,
    "start_time": "2022-10-12T12:21:01.015Z"
   },
   {
    "duration": 27,
    "start_time": "2022-10-12T12:21:01.026Z"
   },
   {
    "duration": 1204,
    "start_time": "2022-10-12T17:33:43.470Z"
   },
   {
    "duration": 2,
    "start_time": "2022-10-12T17:33:44.676Z"
   },
   {
    "duration": 213,
    "start_time": "2022-10-12T17:33:44.679Z"
   },
   {
    "duration": 4,
    "start_time": "2022-10-12T17:33:44.893Z"
   },
   {
    "duration": 391,
    "start_time": "2022-10-12T17:33:44.899Z"
   },
   {
    "duration": 20,
    "start_time": "2022-10-12T17:33:45.291Z"
   },
   {
    "duration": 532,
    "start_time": "2022-10-12T17:33:45.313Z"
   },
   {
    "duration": 6,
    "start_time": "2022-10-12T17:33:45.847Z"
   },
   {
    "duration": 15,
    "start_time": "2022-10-12T17:33:45.854Z"
   },
   {
    "duration": 183,
    "start_time": "2022-10-12T17:33:45.870Z"
   },
   {
    "duration": 312,
    "start_time": "2022-10-12T17:33:46.055Z"
   },
   {
    "duration": 3,
    "start_time": "2022-10-12T17:33:46.369Z"
   },
   {
    "duration": 18,
    "start_time": "2022-10-12T17:33:46.374Z"
   },
   {
    "duration": 279,
    "start_time": "2022-10-12T17:33:46.395Z"
   },
   {
    "duration": 12,
    "start_time": "2022-10-12T17:33:46.676Z"
   },
   {
    "duration": 179,
    "start_time": "2022-10-12T17:33:46.690Z"
   },
   {
    "duration": 11,
    "start_time": "2022-10-12T17:33:46.871Z"
   },
   {
    "duration": 148,
    "start_time": "2022-10-12T17:33:46.883Z"
   },
   {
    "duration": 150,
    "start_time": "2022-10-12T17:33:47.033Z"
   },
   {
    "duration": 4,
    "start_time": "2022-10-12T17:33:47.184Z"
   },
   {
    "duration": 81,
    "start_time": "2022-10-12T17:33:47.189Z"
   },
   {
    "duration": 1169,
    "start_time": "2022-10-12T17:33:47.271Z"
   },
   {
    "duration": 47,
    "start_time": "2022-10-12T17:33:48.441Z"
   },
   {
    "duration": 48,
    "start_time": "2022-10-12T17:33:48.505Z"
   },
   {
    "duration": 18,
    "start_time": "2022-10-12T17:33:48.555Z"
   },
   {
    "duration": 202,
    "start_time": "2022-10-12T17:33:48.574Z"
   },
   {
    "duration": 7,
    "start_time": "2022-10-12T17:33:48.777Z"
   },
   {
    "duration": 380,
    "start_time": "2022-10-12T17:33:48.785Z"
   },
   {
    "duration": 352,
    "start_time": "2022-10-12T17:33:49.167Z"
   },
   {
    "duration": 439,
    "start_time": "2022-10-12T17:33:49.520Z"
   },
   {
    "duration": 370,
    "start_time": "2022-10-12T17:33:49.960Z"
   },
   {
    "duration": 364,
    "start_time": "2022-10-12T17:33:50.331Z"
   },
   {
    "duration": 364,
    "start_time": "2022-10-12T17:33:50.696Z"
   },
   {
    "duration": 3,
    "start_time": "2022-10-12T17:33:51.061Z"
   },
   {
    "duration": 10,
    "start_time": "2022-10-12T17:33:51.066Z"
   },
   {
    "duration": 4,
    "start_time": "2022-10-12T17:33:51.077Z"
   },
   {
    "duration": 23,
    "start_time": "2022-10-12T17:33:51.083Z"
   },
   {
    "duration": 9,
    "start_time": "2022-10-12T17:33:51.107Z"
   },
   {
    "duration": 6,
    "start_time": "2022-10-12T17:33:51.118Z"
   },
   {
    "duration": 6,
    "start_time": "2022-10-12T17:33:51.126Z"
   },
   {
    "duration": 5,
    "start_time": "2022-10-12T17:39:58.178Z"
   },
   {
    "duration": 6,
    "start_time": "2022-10-12T17:40:33.473Z"
   },
   {
    "duration": 1114,
    "start_time": "2022-10-12T17:40:51.297Z"
   },
   {
    "duration": 2,
    "start_time": "2022-10-12T17:40:52.413Z"
   },
   {
    "duration": 65,
    "start_time": "2022-10-12T17:40:52.417Z"
   },
   {
    "duration": 4,
    "start_time": "2022-10-12T17:40:52.484Z"
   },
   {
    "duration": 820,
    "start_time": "2022-10-12T17:40:52.490Z"
   },
   {
    "duration": 14,
    "start_time": "2022-10-12T17:40:53.312Z"
   },
   {
    "duration": 587,
    "start_time": "2022-10-12T17:40:53.327Z"
   },
   {
    "duration": 5,
    "start_time": "2022-10-12T17:40:53.916Z"
   },
   {
    "duration": 18,
    "start_time": "2022-10-12T17:40:53.922Z"
   },
   {
    "duration": 182,
    "start_time": "2022-10-12T17:40:53.942Z"
   },
   {
    "duration": 305,
    "start_time": "2022-10-12T17:40:54.125Z"
   },
   {
    "duration": 3,
    "start_time": "2022-10-12T17:40:54.431Z"
   },
   {
    "duration": 35,
    "start_time": "2022-10-12T17:40:54.436Z"
   },
   {
    "duration": 253,
    "start_time": "2022-10-12T17:40:54.472Z"
   },
   {
    "duration": 10,
    "start_time": "2022-10-12T17:40:54.727Z"
   },
   {
    "duration": 195,
    "start_time": "2022-10-12T17:40:54.739Z"
   },
   {
    "duration": 9,
    "start_time": "2022-10-12T17:40:54.935Z"
   },
   {
    "duration": 156,
    "start_time": "2022-10-12T17:40:54.946Z"
   },
   {
    "duration": 150,
    "start_time": "2022-10-12T17:40:55.103Z"
   },
   {
    "duration": 4,
    "start_time": "2022-10-12T17:40:55.255Z"
   },
   {
    "duration": 90,
    "start_time": "2022-10-12T17:40:55.260Z"
   },
   {
    "duration": 1123,
    "start_time": "2022-10-12T17:40:55.351Z"
   },
   {
    "duration": 57,
    "start_time": "2022-10-12T17:40:56.475Z"
   },
   {
    "duration": 46,
    "start_time": "2022-10-12T17:40:56.534Z"
   },
   {
    "duration": 35,
    "start_time": "2022-10-12T17:40:56.581Z"
   },
   {
    "duration": 195,
    "start_time": "2022-10-12T17:40:56.617Z"
   },
   {
    "duration": 9,
    "start_time": "2022-10-12T17:40:56.814Z"
   },
   {
    "duration": 384,
    "start_time": "2022-10-12T17:40:56.825Z"
   },
   {
    "duration": 362,
    "start_time": "2022-10-12T17:40:57.210Z"
   },
   {
    "duration": 531,
    "start_time": "2022-10-12T17:40:57.574Z"
   },
   {
    "duration": 360,
    "start_time": "2022-10-12T17:40:58.106Z"
   },
   {
    "duration": 372,
    "start_time": "2022-10-12T17:40:58.467Z"
   },
   {
    "duration": 357,
    "start_time": "2022-10-12T17:40:58.840Z"
   },
   {
    "duration": 7,
    "start_time": "2022-10-12T17:40:59.198Z"
   },
   {
    "duration": 27,
    "start_time": "2022-10-12T17:40:59.207Z"
   },
   {
    "duration": 31,
    "start_time": "2022-10-12T17:40:59.236Z"
   },
   {
    "duration": 15,
    "start_time": "2022-10-12T17:40:59.269Z"
   },
   {
    "duration": 20,
    "start_time": "2022-10-12T17:40:59.286Z"
   },
   {
    "duration": 14,
    "start_time": "2022-10-12T17:40:59.307Z"
   },
   {
    "duration": 17,
    "start_time": "2022-10-12T17:40:59.322Z"
   },
   {
    "duration": 1086,
    "start_time": "2022-10-12T17:43:03.414Z"
   },
   {
    "duration": 5,
    "start_time": "2022-10-12T17:43:04.501Z"
   },
   {
    "duration": 64,
    "start_time": "2022-10-12T17:43:04.507Z"
   },
   {
    "duration": 3,
    "start_time": "2022-10-12T17:43:04.573Z"
   },
   {
    "duration": 27,
    "start_time": "2022-10-12T17:43:04.578Z"
   },
   {
    "duration": 393,
    "start_time": "2022-10-12T17:43:04.606Z"
   },
   {
    "duration": 14,
    "start_time": "2022-10-12T17:43:05.001Z"
   },
   {
    "duration": 517,
    "start_time": "2022-10-12T17:43:05.016Z"
   },
   {
    "duration": 5,
    "start_time": "2022-10-12T17:43:05.535Z"
   },
   {
    "duration": 17,
    "start_time": "2022-10-12T17:43:05.542Z"
   },
   {
    "duration": 185,
    "start_time": "2022-10-12T17:43:05.560Z"
   },
   {
    "duration": 305,
    "start_time": "2022-10-12T17:43:05.746Z"
   },
   {
    "duration": 3,
    "start_time": "2022-10-12T17:43:06.052Z"
   },
   {
    "duration": 18,
    "start_time": "2022-10-12T17:43:06.057Z"
   },
   {
    "duration": 271,
    "start_time": "2022-10-12T17:43:06.077Z"
   },
   {
    "duration": 11,
    "start_time": "2022-10-12T17:43:06.349Z"
   },
   {
    "duration": 176,
    "start_time": "2022-10-12T17:43:06.362Z"
   },
   {
    "duration": 9,
    "start_time": "2022-10-12T17:43:06.540Z"
   },
   {
    "duration": 143,
    "start_time": "2022-10-12T17:43:06.550Z"
   },
   {
    "duration": 144,
    "start_time": "2022-10-12T17:43:06.704Z"
   },
   {
    "duration": 4,
    "start_time": "2022-10-12T17:43:06.850Z"
   },
   {
    "duration": 81,
    "start_time": "2022-10-12T17:43:06.856Z"
   },
   {
    "duration": 1177,
    "start_time": "2022-10-12T17:43:06.939Z"
   },
   {
    "duration": 46,
    "start_time": "2022-10-12T17:43:08.118Z"
   },
   {
    "duration": 71,
    "start_time": "2022-10-12T17:43:08.166Z"
   },
   {
    "duration": 15,
    "start_time": "2022-10-12T17:43:08.238Z"
   },
   {
    "duration": 199,
    "start_time": "2022-10-12T17:43:08.255Z"
   },
   {
    "duration": 9,
    "start_time": "2022-10-12T17:43:08.457Z"
   },
   {
    "duration": 366,
    "start_time": "2022-10-12T17:43:08.467Z"
   },
   {
    "duration": 373,
    "start_time": "2022-10-12T17:43:08.834Z"
   },
   {
    "duration": 447,
    "start_time": "2022-10-12T17:43:09.209Z"
   },
   {
    "duration": 358,
    "start_time": "2022-10-12T17:43:09.657Z"
   },
   {
    "duration": 392,
    "start_time": "2022-10-12T17:43:10.017Z"
   },
   {
    "duration": 371,
    "start_time": "2022-10-12T17:43:10.410Z"
   },
   {
    "duration": 4,
    "start_time": "2022-10-12T17:43:10.783Z"
   },
   {
    "duration": 18,
    "start_time": "2022-10-12T17:43:10.788Z"
   },
   {
    "duration": 4,
    "start_time": "2022-10-12T17:43:10.808Z"
   },
   {
    "duration": 6,
    "start_time": "2022-10-12T17:43:10.813Z"
   },
   {
    "duration": 11,
    "start_time": "2022-10-12T17:43:10.820Z"
   },
   {
    "duration": 4,
    "start_time": "2022-10-12T17:43:10.832Z"
   },
   {
    "duration": 6,
    "start_time": "2022-10-12T17:43:10.838Z"
   },
   {
    "duration": 3,
    "start_time": "2022-10-12T17:44:15.916Z"
   },
   {
    "duration": 2,
    "start_time": "2022-10-12T17:44:17.085Z"
   },
   {
    "duration": 57,
    "start_time": "2022-10-12T17:44:18.765Z"
   },
   {
    "duration": 5,
    "start_time": "2022-10-12T17:44:20.771Z"
   },
   {
    "duration": 385,
    "start_time": "2022-10-12T17:44:25.157Z"
   },
   {
    "duration": 469,
    "start_time": "2022-10-12T17:45:35.450Z"
   },
   {
    "duration": 448,
    "start_time": "2022-10-12T17:46:05.235Z"
   },
   {
    "duration": 1486,
    "start_time": "2022-10-12T17:47:12.339Z"
   },
   {
    "duration": 1350,
    "start_time": "2022-10-12T17:47:52.964Z"
   },
   {
    "duration": 8,
    "start_time": "2022-10-12T17:51:05.580Z"
   },
   {
    "duration": 9,
    "start_time": "2022-10-12T17:55:40.029Z"
   },
   {
    "duration": 1035,
    "start_time": "2022-10-12T17:55:45.259Z"
   },
   {
    "duration": 2,
    "start_time": "2022-10-12T17:55:46.296Z"
   },
   {
    "duration": 69,
    "start_time": "2022-10-12T17:55:46.299Z"
   },
   {
    "duration": 4,
    "start_time": "2022-10-12T17:55:46.369Z"
   },
   {
    "duration": 9,
    "start_time": "2022-10-12T17:55:46.375Z"
   },
   {
    "duration": 388,
    "start_time": "2022-10-12T17:55:46.385Z"
   },
   {
    "duration": 14,
    "start_time": "2022-10-12T17:55:46.774Z"
   },
   {
    "duration": 556,
    "start_time": "2022-10-12T17:55:46.789Z"
   },
   {
    "duration": 6,
    "start_time": "2022-10-12T17:55:47.346Z"
   },
   {
    "duration": 27,
    "start_time": "2022-10-12T17:55:47.354Z"
   },
   {
    "duration": 210,
    "start_time": "2022-10-12T17:55:47.383Z"
   },
   {
    "duration": 354,
    "start_time": "2022-10-12T17:55:47.596Z"
   },
   {
    "duration": 5,
    "start_time": "2022-10-12T17:55:47.952Z"
   },
   {
    "duration": 19,
    "start_time": "2022-10-12T17:55:47.960Z"
   },
   {
    "duration": 291,
    "start_time": "2022-10-12T17:55:47.981Z"
   },
   {
    "duration": 14,
    "start_time": "2022-10-12T17:55:48.274Z"
   },
   {
    "duration": 187,
    "start_time": "2022-10-12T17:55:48.289Z"
   },
   {
    "duration": 9,
    "start_time": "2022-10-12T17:55:48.477Z"
   },
   {
    "duration": 149,
    "start_time": "2022-10-12T17:55:48.488Z"
   },
   {
    "duration": 154,
    "start_time": "2022-10-12T17:55:48.639Z"
   },
   {
    "duration": 14,
    "start_time": "2022-10-12T17:55:48.795Z"
   },
   {
    "duration": 94,
    "start_time": "2022-10-12T17:55:48.811Z"
   },
   {
    "duration": 1101,
    "start_time": "2022-10-12T17:55:48.907Z"
   },
   {
    "duration": 57,
    "start_time": "2022-10-12T17:55:50.010Z"
   },
   {
    "duration": 69,
    "start_time": "2022-10-12T17:55:50.069Z"
   },
   {
    "duration": 16,
    "start_time": "2022-10-12T17:55:50.140Z"
   },
   {
    "duration": 209,
    "start_time": "2022-10-12T17:55:50.158Z"
   },
   {
    "duration": 7,
    "start_time": "2022-10-12T17:55:50.368Z"
   },
   {
    "duration": 366,
    "start_time": "2022-10-12T17:55:50.377Z"
   },
   {
    "duration": 369,
    "start_time": "2022-10-12T17:55:50.745Z"
   },
   {
    "duration": 467,
    "start_time": "2022-10-12T17:55:51.116Z"
   },
   {
    "duration": 363,
    "start_time": "2022-10-12T17:55:51.585Z"
   },
   {
    "duration": 392,
    "start_time": "2022-10-12T17:55:51.950Z"
   },
   {
    "duration": 375,
    "start_time": "2022-10-12T17:55:52.344Z"
   },
   {
    "duration": 5,
    "start_time": "2022-10-12T17:55:52.721Z"
   },
   {
    "duration": 13,
    "start_time": "2022-10-12T17:55:52.728Z"
   },
   {
    "duration": 4,
    "start_time": "2022-10-12T17:55:52.743Z"
   },
   {
    "duration": 6,
    "start_time": "2022-10-12T17:55:52.749Z"
   },
   {
    "duration": 10,
    "start_time": "2022-10-12T17:55:52.757Z"
   },
   {
    "duration": 5,
    "start_time": "2022-10-12T17:55:52.768Z"
   },
   {
    "duration": 6,
    "start_time": "2022-10-12T17:55:52.804Z"
   },
   {
    "duration": 1050,
    "start_time": "2022-10-12T18:05:16.764Z"
   },
   {
    "duration": 3,
    "start_time": "2022-10-12T18:05:17.816Z"
   },
   {
    "duration": 78,
    "start_time": "2022-10-12T18:05:17.820Z"
   },
   {
    "duration": 6,
    "start_time": "2022-10-12T18:05:17.900Z"
   },
   {
    "duration": 464,
    "start_time": "2022-10-12T18:05:17.908Z"
   },
   {
    "duration": 15,
    "start_time": "2022-10-12T18:05:18.374Z"
   },
   {
    "duration": 555,
    "start_time": "2022-10-12T18:05:18.390Z"
   },
   {
    "duration": 6,
    "start_time": "2022-10-12T18:05:18.946Z"
   },
   {
    "duration": 18,
    "start_time": "2022-10-12T18:05:18.954Z"
   },
   {
    "duration": 190,
    "start_time": "2022-10-12T18:05:18.974Z"
   },
   {
    "duration": 293,
    "start_time": "2022-10-12T18:05:19.166Z"
   },
   {
    "duration": 3,
    "start_time": "2022-10-12T18:05:19.460Z"
   },
   {
    "duration": 19,
    "start_time": "2022-10-12T18:05:19.465Z"
   },
   {
    "duration": 264,
    "start_time": "2022-10-12T18:05:19.486Z"
   },
   {
    "duration": 12,
    "start_time": "2022-10-12T18:05:19.751Z"
   },
   {
    "duration": 190,
    "start_time": "2022-10-12T18:05:19.764Z"
   },
   {
    "duration": 10,
    "start_time": "2022-10-12T18:05:19.955Z"
   },
   {
    "duration": 157,
    "start_time": "2022-10-12T18:05:19.966Z"
   },
   {
    "duration": 165,
    "start_time": "2022-10-12T18:05:20.125Z"
   },
   {
    "duration": 5,
    "start_time": "2022-10-12T18:05:20.291Z"
   },
   {
    "duration": 77,
    "start_time": "2022-10-12T18:05:20.305Z"
   },
   {
    "duration": 1106,
    "start_time": "2022-10-12T18:05:20.384Z"
   },
   {
    "duration": 55,
    "start_time": "2022-10-12T18:05:21.492Z"
   },
   {
    "duration": 62,
    "start_time": "2022-10-12T18:05:21.549Z"
   },
   {
    "duration": 15,
    "start_time": "2022-10-12T18:05:21.613Z"
   },
   {
    "duration": 193,
    "start_time": "2022-10-12T18:05:21.630Z"
   },
   {
    "duration": 7,
    "start_time": "2022-10-12T18:05:21.825Z"
   },
   {
    "duration": 366,
    "start_time": "2022-10-12T18:05:21.833Z"
   },
   {
    "duration": 381,
    "start_time": "2022-10-12T18:05:22.200Z"
   },
   {
    "duration": 490,
    "start_time": "2022-10-12T18:05:22.583Z"
   },
   {
    "duration": 379,
    "start_time": "2022-10-12T18:05:23.075Z"
   },
   {
    "duration": 371,
    "start_time": "2022-10-12T18:05:23.456Z"
   },
   {
    "duration": 377,
    "start_time": "2022-10-12T18:05:23.829Z"
   },
   {
    "duration": 4,
    "start_time": "2022-10-12T18:05:24.208Z"
   },
   {
    "duration": 25,
    "start_time": "2022-10-12T18:05:24.213Z"
   },
   {
    "duration": 6,
    "start_time": "2022-10-12T18:05:24.240Z"
   },
   {
    "duration": 7,
    "start_time": "2022-10-12T18:05:24.247Z"
   },
   {
    "duration": 13,
    "start_time": "2022-10-12T18:05:24.256Z"
   },
   {
    "duration": 9,
    "start_time": "2022-10-12T18:05:24.271Z"
   },
   {
    "duration": 8,
    "start_time": "2022-10-12T18:05:24.281Z"
   },
   {
    "duration": 102,
    "start_time": "2022-10-13T05:03:39.005Z"
   },
   {
    "duration": 53,
    "start_time": "2022-10-13T05:03:52.962Z"
   },
   {
    "duration": 1527,
    "start_time": "2022-10-13T05:03:59.564Z"
   },
   {
    "duration": 246,
    "start_time": "2022-10-13T05:04:02.844Z"
   },
   {
    "duration": 3,
    "start_time": "2022-10-13T05:04:33.152Z"
   },
   {
    "duration": 84,
    "start_time": "2022-10-13T05:09:33.586Z"
   },
   {
    "duration": 11,
    "start_time": "2022-10-13T05:10:07.733Z"
   },
   {
    "duration": 3,
    "start_time": "2022-10-13T05:10:40.671Z"
   },
   {
    "duration": 69,
    "start_time": "2022-10-13T05:10:41.134Z"
   },
   {
    "duration": 2,
    "start_time": "2022-10-13T05:10:43.267Z"
   },
   {
    "duration": 5,
    "start_time": "2022-10-13T05:10:44.610Z"
   },
   {
    "duration": 16,
    "start_time": "2022-10-13T05:10:45.787Z"
   },
   {
    "duration": 18,
    "start_time": "2022-10-13T05:11:00.214Z"
   },
   {
    "duration": 6,
    "start_time": "2022-10-13T05:11:18.274Z"
   },
   {
    "duration": 21,
    "start_time": "2022-10-13T05:12:08.874Z"
   },
   {
    "duration": 28,
    "start_time": "2022-10-13T05:15:12.674Z"
   },
   {
    "duration": 15,
    "start_time": "2022-10-13T05:15:54.501Z"
   },
   {
    "duration": 31,
    "start_time": "2022-10-13T05:16:51.708Z"
   },
   {
    "duration": 26,
    "start_time": "2022-10-13T05:17:41.119Z"
   },
   {
    "duration": 6,
    "start_time": "2022-10-13T05:17:50.560Z"
   },
   {
    "duration": 17,
    "start_time": "2022-10-13T05:17:56.073Z"
   },
   {
    "duration": 8,
    "start_time": "2022-10-13T05:18:12.173Z"
   },
   {
    "duration": 16,
    "start_time": "2022-10-13T05:18:52.955Z"
   },
   {
    "duration": 99,
    "start_time": "2022-10-13T06:17:34.563Z"
   },
   {
    "duration": 4,
    "start_time": "2022-10-13T06:19:14.643Z"
   },
   {
    "duration": 13,
    "start_time": "2022-10-13T06:19:24.083Z"
   },
   {
    "duration": 4,
    "start_time": "2022-10-13T06:19:44.131Z"
   },
   {
    "duration": 13,
    "start_time": "2022-10-13T06:19:44.875Z"
   },
   {
    "duration": 11,
    "start_time": "2022-10-13T06:20:06.034Z"
   },
   {
    "duration": 3,
    "start_time": "2022-10-13T06:20:14.253Z"
   },
   {
    "duration": 71,
    "start_time": "2022-10-13T06:20:14.258Z"
   },
   {
    "duration": 2,
    "start_time": "2022-10-13T06:20:14.331Z"
   },
   {
    "duration": 12,
    "start_time": "2022-10-13T06:20:14.335Z"
   },
   {
    "duration": 15,
    "start_time": "2022-10-13T06:20:14.350Z"
   },
   {
    "duration": 33,
    "start_time": "2022-10-13T06:20:14.367Z"
   },
   {
    "duration": 718,
    "start_time": "2022-10-13T06:20:14.402Z"
   },
   {
    "duration": 7,
    "start_time": "2022-10-13T06:20:15.122Z"
   },
   {
    "duration": 30,
    "start_time": "2022-10-13T06:20:15.132Z"
   },
   {
    "duration": 248,
    "start_time": "2022-10-13T06:20:15.164Z"
   },
   {
    "duration": 370,
    "start_time": "2022-10-13T06:20:15.414Z"
   },
   {
    "duration": 4,
    "start_time": "2022-10-13T06:20:15.788Z"
   },
   {
    "duration": 27,
    "start_time": "2022-10-13T06:20:15.794Z"
   },
   {
    "duration": 373,
    "start_time": "2022-10-13T06:20:15.824Z"
   },
   {
    "duration": 15,
    "start_time": "2022-10-13T06:20:16.199Z"
   },
   {
    "duration": 222,
    "start_time": "2022-10-13T06:20:16.216Z"
   },
   {
    "duration": 12,
    "start_time": "2022-10-13T06:20:16.440Z"
   },
   {
    "duration": 195,
    "start_time": "2022-10-13T06:20:16.454Z"
   },
   {
    "duration": 196,
    "start_time": "2022-10-13T06:20:16.651Z"
   },
   {
    "duration": 6,
    "start_time": "2022-10-13T06:20:16.848Z"
   },
   {
    "duration": 108,
    "start_time": "2022-10-13T06:20:16.856Z"
   },
   {
    "duration": 1443,
    "start_time": "2022-10-13T06:20:16.966Z"
   },
   {
    "duration": 57,
    "start_time": "2022-10-13T06:20:18.411Z"
   },
   {
    "duration": 55,
    "start_time": "2022-10-13T06:20:18.489Z"
   },
   {
    "duration": 20,
    "start_time": "2022-10-13T06:20:18.548Z"
   },
   {
    "duration": 233,
    "start_time": "2022-10-13T06:20:18.590Z"
   },
   {
    "duration": 8,
    "start_time": "2022-10-13T06:20:18.825Z"
   },
   {
    "duration": 462,
    "start_time": "2022-10-13T06:20:18.835Z"
   },
   {
    "duration": 473,
    "start_time": "2022-10-13T06:20:19.299Z"
   },
   {
    "duration": 574,
    "start_time": "2022-10-13T06:20:19.774Z"
   },
   {
    "duration": 463,
    "start_time": "2022-10-13T06:20:20.350Z"
   },
   {
    "duration": 476,
    "start_time": "2022-10-13T06:20:20.815Z"
   },
   {
    "duration": 429,
    "start_time": "2022-10-13T06:20:21.293Z"
   },
   {
    "duration": 4,
    "start_time": "2022-10-13T06:20:21.724Z"
   },
   {
    "duration": 18,
    "start_time": "2022-10-13T06:20:21.730Z"
   },
   {
    "duration": 5,
    "start_time": "2022-10-13T06:20:21.750Z"
   },
   {
    "duration": 6,
    "start_time": "2022-10-13T06:20:21.756Z"
   },
   {
    "duration": 34,
    "start_time": "2022-10-13T06:20:21.764Z"
   },
   {
    "duration": 5,
    "start_time": "2022-10-13T06:20:21.800Z"
   },
   {
    "duration": 16,
    "start_time": "2022-10-13T06:20:21.808Z"
   },
   {
    "duration": 18,
    "start_time": "2022-10-13T06:21:38.088Z"
   },
   {
    "duration": 4,
    "start_time": "2022-10-13T06:21:44.175Z"
   },
   {
    "duration": 17,
    "start_time": "2022-10-13T06:21:46.067Z"
   },
   {
    "duration": 1455,
    "start_time": "2022-10-13T06:21:58.763Z"
   },
   {
    "duration": 1380,
    "start_time": "2022-10-13T06:22:26.603Z"
   },
   {
    "duration": 1810,
    "start_time": "2022-10-13T06:22:39.104Z"
   },
   {
    "duration": 3,
    "start_time": "2022-10-13T06:22:45.756Z"
   },
   {
    "duration": 77,
    "start_time": "2022-10-13T06:22:45.761Z"
   },
   {
    "duration": 2,
    "start_time": "2022-10-13T06:22:45.840Z"
   },
   {
    "duration": 8,
    "start_time": "2022-10-13T06:22:45.844Z"
   },
   {
    "duration": 35,
    "start_time": "2022-10-13T06:22:45.854Z"
   },
   {
    "duration": 19,
    "start_time": "2022-10-13T06:22:45.891Z"
   },
   {
    "duration": 694,
    "start_time": "2022-10-13T06:22:45.912Z"
   },
   {
    "duration": 6,
    "start_time": "2022-10-13T06:22:46.608Z"
   },
   {
    "duration": 22,
    "start_time": "2022-10-13T06:22:46.616Z"
   },
   {
    "duration": 435,
    "start_time": "2022-10-13T06:22:46.640Z"
   },
   {
    "duration": 493,
    "start_time": "2022-10-13T06:22:47.077Z"
   },
   {
    "duration": 4,
    "start_time": "2022-10-13T06:22:47.572Z"
   },
   {
    "duration": 26,
    "start_time": "2022-10-13T06:22:47.577Z"
   },
   {
    "duration": 1542,
    "start_time": "2022-10-13T06:22:47.607Z"
   },
   {
    "duration": 0,
    "start_time": "2022-10-13T06:22:49.151Z"
   },
   {
    "duration": 0,
    "start_time": "2022-10-13T06:22:49.153Z"
   },
   {
    "duration": 0,
    "start_time": "2022-10-13T06:22:49.154Z"
   },
   {
    "duration": 0,
    "start_time": "2022-10-13T06:22:49.155Z"
   },
   {
    "duration": 0,
    "start_time": "2022-10-13T06:22:49.156Z"
   },
   {
    "duration": 0,
    "start_time": "2022-10-13T06:22:49.157Z"
   },
   {
    "duration": 0,
    "start_time": "2022-10-13T06:22:49.159Z"
   },
   {
    "duration": 0,
    "start_time": "2022-10-13T06:22:49.160Z"
   },
   {
    "duration": 0,
    "start_time": "2022-10-13T06:22:49.161Z"
   },
   {
    "duration": 0,
    "start_time": "2022-10-13T06:22:49.162Z"
   },
   {
    "duration": 0,
    "start_time": "2022-10-13T06:22:49.164Z"
   },
   {
    "duration": 0,
    "start_time": "2022-10-13T06:22:49.165Z"
   },
   {
    "duration": 0,
    "start_time": "2022-10-13T06:22:49.167Z"
   },
   {
    "duration": 0,
    "start_time": "2022-10-13T06:22:49.190Z"
   },
   {
    "duration": 0,
    "start_time": "2022-10-13T06:22:49.191Z"
   },
   {
    "duration": 0,
    "start_time": "2022-10-13T06:22:49.193Z"
   },
   {
    "duration": 0,
    "start_time": "2022-10-13T06:22:49.195Z"
   },
   {
    "duration": 0,
    "start_time": "2022-10-13T06:22:49.197Z"
   },
   {
    "duration": 0,
    "start_time": "2022-10-13T06:22:49.199Z"
   },
   {
    "duration": 0,
    "start_time": "2022-10-13T06:22:49.200Z"
   },
   {
    "duration": 0,
    "start_time": "2022-10-13T06:22:49.202Z"
   },
   {
    "duration": 0,
    "start_time": "2022-10-13T06:22:49.203Z"
   },
   {
    "duration": 0,
    "start_time": "2022-10-13T06:22:49.205Z"
   },
   {
    "duration": 0,
    "start_time": "2022-10-13T06:22:49.206Z"
   },
   {
    "duration": 0,
    "start_time": "2022-10-13T06:22:49.208Z"
   },
   {
    "duration": 0,
    "start_time": "2022-10-13T06:22:49.210Z"
   },
   {
    "duration": 4,
    "start_time": "2022-10-13T06:23:08.871Z"
   },
   {
    "duration": 24,
    "start_time": "2022-10-13T06:23:09.693Z"
   },
   {
    "duration": 369,
    "start_time": "2022-10-13T06:23:11.387Z"
   },
   {
    "duration": 3,
    "start_time": "2022-10-13T06:23:43.443Z"
   },
   {
    "duration": 4,
    "start_time": "2022-10-13T06:23:52.583Z"
   },
   {
    "duration": 16,
    "start_time": "2022-10-13T06:23:55.823Z"
   },
   {
    "duration": 6,
    "start_time": "2022-10-13T06:24:29.381Z"
   },
   {
    "duration": 8,
    "start_time": "2022-10-13T06:24:53.314Z"
   },
   {
    "duration": 8,
    "start_time": "2022-10-13T06:25:24.557Z"
   },
   {
    "duration": 7,
    "start_time": "2022-10-13T06:25:31.077Z"
   },
   {
    "duration": 65,
    "start_time": "2022-10-13T06:25:47.663Z"
   },
   {
    "duration": 8,
    "start_time": "2022-10-13T06:25:50.722Z"
   },
   {
    "duration": 8,
    "start_time": "2022-10-13T06:25:54.423Z"
   },
   {
    "duration": 8,
    "start_time": "2022-10-13T06:25:59.683Z"
   },
   {
    "duration": 6,
    "start_time": "2022-10-13T06:26:10.495Z"
   },
   {
    "duration": 1558,
    "start_time": "2022-10-13T06:26:22.479Z"
   },
   {
    "duration": 1288,
    "start_time": "2022-10-13T06:27:18.562Z"
   },
   {
    "duration": 13,
    "start_time": "2022-10-13T06:28:42.565Z"
   },
   {
    "duration": 16,
    "start_time": "2022-10-13T06:29:04.599Z"
   },
   {
    "duration": 375,
    "start_time": "2022-10-13T06:29:16.747Z"
   },
   {
    "duration": 4,
    "start_time": "2022-10-13T06:29:38.964Z"
   },
   {
    "duration": 18,
    "start_time": "2022-10-13T06:29:42.030Z"
   },
   {
    "duration": 353,
    "start_time": "2022-10-13T06:29:55.521Z"
   },
   {
    "duration": 6,
    "start_time": "2022-10-13T06:30:41.126Z"
   },
   {
    "duration": 5,
    "start_time": "2022-10-13T06:30:51.511Z"
   },
   {
    "duration": 17,
    "start_time": "2022-10-13T06:30:58.027Z"
   },
   {
    "duration": 6,
    "start_time": "2022-10-13T06:31:00.578Z"
   },
   {
    "duration": 1854,
    "start_time": "2022-10-13T06:31:09.706Z"
   },
   {
    "duration": 17,
    "start_time": "2022-10-13T06:31:40.603Z"
   },
   {
    "duration": 14,
    "start_time": "2022-10-13T06:32:00.386Z"
   },
   {
    "duration": 17,
    "start_time": "2022-10-13T06:32:23.077Z"
   },
   {
    "duration": 13,
    "start_time": "2022-10-13T06:32:26.068Z"
   },
   {
    "duration": 1615,
    "start_time": "2022-10-13T06:32:38.545Z"
   },
   {
    "duration": 4,
    "start_time": "2022-10-13T06:32:54.066Z"
   },
   {
    "duration": 17,
    "start_time": "2022-10-13T06:32:56.626Z"
   },
   {
    "duration": 15,
    "start_time": "2022-10-13T06:32:59.628Z"
   },
   {
    "duration": 1661,
    "start_time": "2022-10-13T06:33:03.365Z"
   },
   {
    "duration": 8,
    "start_time": "2022-10-13T06:33:12.015Z"
   },
   {
    "duration": 18,
    "start_time": "2022-10-13T06:33:16.124Z"
   },
   {
    "duration": 510,
    "start_time": "2022-10-13T06:33:19.015Z"
   },
   {
    "duration": 4,
    "start_time": "2022-10-13T06:33:48.386Z"
   },
   {
    "duration": 1413,
    "start_time": "2022-10-13T06:33:52.138Z"
   },
   {
    "duration": 4,
    "start_time": "2022-10-13T06:33:59.140Z"
   },
   {
    "duration": 360,
    "start_time": "2022-10-13T06:34:03.446Z"
   },
   {
    "duration": 340,
    "start_time": "2022-10-13T06:36:27.026Z"
   },
   {
    "duration": 359,
    "start_time": "2022-10-13T06:36:34.575Z"
   },
   {
    "duration": 14,
    "start_time": "2022-10-13T06:37:15.524Z"
   },
   {
    "duration": 229,
    "start_time": "2022-10-13T06:37:17.946Z"
   },
   {
    "duration": 209,
    "start_time": "2022-10-13T06:38:22.214Z"
   },
   {
    "duration": 11,
    "start_time": "2022-10-13T06:43:49.812Z"
   },
   {
    "duration": 2,
    "start_time": "2022-10-13T06:43:56.246Z"
   },
   {
    "duration": 16,
    "start_time": "2022-10-13T06:44:27.065Z"
   },
   {
    "duration": 615,
    "start_time": "2022-10-13T06:44:36.586Z"
   },
   {
    "duration": 18,
    "start_time": "2022-10-13T06:45:58.009Z"
   },
   {
    "duration": 416,
    "start_time": "2022-10-13T06:46:00.717Z"
   },
   {
    "duration": 1804,
    "start_time": "2022-10-13T06:48:49.385Z"
   },
   {
    "duration": 74,
    "start_time": "2022-10-13T06:54:48.294Z"
   },
   {
    "duration": 7,
    "start_time": "2022-10-13T06:54:59.454Z"
   },
   {
    "duration": 1813,
    "start_time": "2022-10-13T06:55:10.706Z"
   },
   {
    "duration": 4,
    "start_time": "2022-10-13T06:55:46.077Z"
   },
   {
    "duration": 7,
    "start_time": "2022-10-13T06:56:53.760Z"
   },
   {
    "duration": 1788,
    "start_time": "2022-10-13T06:56:56.005Z"
   },
   {
    "duration": 9,
    "start_time": "2022-10-13T06:58:06.173Z"
   },
   {
    "duration": 1777,
    "start_time": "2022-10-13T06:58:11.265Z"
   },
   {
    "duration": 9,
    "start_time": "2022-10-13T06:58:55.394Z"
   },
   {
    "duration": 1863,
    "start_time": "2022-10-13T06:58:58.846Z"
   },
   {
    "duration": 8,
    "start_time": "2022-10-13T07:01:17.374Z"
   },
   {
    "duration": 1794,
    "start_time": "2022-10-13T07:01:19.886Z"
   },
   {
    "duration": 4,
    "start_time": "2022-10-13T07:02:03.413Z"
   },
   {
    "duration": 6,
    "start_time": "2022-10-13T07:02:10.843Z"
   },
   {
    "duration": 350,
    "start_time": "2022-10-13T07:02:14.986Z"
   },
   {
    "duration": 1388,
    "start_time": "2022-10-13T07:02:59.167Z"
   },
   {
    "duration": 6,
    "start_time": "2022-10-13T07:03:25.159Z"
   },
   {
    "duration": 1842,
    "start_time": "2022-10-13T07:03:28.635Z"
   },
   {
    "duration": 13,
    "start_time": "2022-10-13T07:04:11.903Z"
   },
   {
    "duration": 1800,
    "start_time": "2022-10-13T07:04:14.325Z"
   },
   {
    "duration": 10,
    "start_time": "2022-10-13T07:04:33.474Z"
   },
   {
    "duration": 494,
    "start_time": "2022-10-13T07:04:36.108Z"
   },
   {
    "duration": 8,
    "start_time": "2022-10-13T07:05:16.891Z"
   },
   {
    "duration": 1999,
    "start_time": "2022-10-13T07:05:23.065Z"
   },
   {
    "duration": 5,
    "start_time": "2022-10-13T07:08:19.565Z"
   },
   {
    "duration": 8,
    "start_time": "2022-10-13T07:08:23.655Z"
   },
   {
    "duration": 1761,
    "start_time": "2022-10-13T07:08:26.338Z"
   },
   {
    "duration": 76,
    "start_time": "2022-10-13T07:09:49.635Z"
   },
   {
    "duration": 1904,
    "start_time": "2022-10-13T07:09:59.696Z"
   },
   {
    "duration": 77,
    "start_time": "2022-10-13T07:10:17.428Z"
   },
   {
    "duration": 77,
    "start_time": "2022-10-13T07:10:22.620Z"
   },
   {
    "duration": 4,
    "start_time": "2022-10-13T07:12:18.094Z"
   },
   {
    "duration": 74,
    "start_time": "2022-10-13T07:12:18.100Z"
   },
   {
    "duration": 2,
    "start_time": "2022-10-13T07:12:18.176Z"
   },
   {
    "duration": 7,
    "start_time": "2022-10-13T07:12:18.180Z"
   },
   {
    "duration": 14,
    "start_time": "2022-10-13T07:12:18.189Z"
   },
   {
    "duration": 18,
    "start_time": "2022-10-13T07:12:18.206Z"
   },
   {
    "duration": 682,
    "start_time": "2022-10-13T07:12:18.226Z"
   },
   {
    "duration": 7,
    "start_time": "2022-10-13T07:12:18.910Z"
   },
   {
    "duration": 30,
    "start_time": "2022-10-13T07:12:18.919Z"
   },
   {
    "duration": 269,
    "start_time": "2022-10-13T07:12:18.951Z"
   },
   {
    "duration": 452,
    "start_time": "2022-10-13T07:12:19.222Z"
   },
   {
    "duration": 4,
    "start_time": "2022-10-13T07:12:19.676Z"
   },
   {
    "duration": 24,
    "start_time": "2022-10-13T07:12:19.682Z"
   },
   {
    "duration": 385,
    "start_time": "2022-10-13T07:12:19.709Z"
   },
   {
    "duration": 14,
    "start_time": "2022-10-13T07:12:20.096Z"
   },
   {
    "duration": 273,
    "start_time": "2022-10-13T07:12:20.112Z"
   },
   {
    "duration": 15,
    "start_time": "2022-10-13T07:12:20.388Z"
   },
   {
    "duration": 250,
    "start_time": "2022-10-13T07:12:20.405Z"
   },
   {
    "duration": 259,
    "start_time": "2022-10-13T07:12:20.657Z"
   },
   {
    "duration": 5,
    "start_time": "2022-10-13T07:12:20.917Z"
   },
   {
    "duration": 182,
    "start_time": "2022-10-13T07:12:20.924Z"
   },
   {
    "duration": 0,
    "start_time": "2022-10-13T07:12:21.107Z"
   },
   {
    "duration": 0,
    "start_time": "2022-10-13T07:12:21.109Z"
   },
   {
    "duration": 0,
    "start_time": "2022-10-13T07:12:21.110Z"
   },
   {
    "duration": 0,
    "start_time": "2022-10-13T07:12:21.111Z"
   },
   {
    "duration": 0,
    "start_time": "2022-10-13T07:12:21.111Z"
   },
   {
    "duration": 0,
    "start_time": "2022-10-13T07:12:21.112Z"
   },
   {
    "duration": 0,
    "start_time": "2022-10-13T07:12:21.114Z"
   },
   {
    "duration": 0,
    "start_time": "2022-10-13T07:12:21.115Z"
   },
   {
    "duration": 0,
    "start_time": "2022-10-13T07:12:21.116Z"
   },
   {
    "duration": 0,
    "start_time": "2022-10-13T07:12:21.117Z"
   },
   {
    "duration": 0,
    "start_time": "2022-10-13T07:12:21.119Z"
   },
   {
    "duration": 0,
    "start_time": "2022-10-13T07:12:21.120Z"
   },
   {
    "duration": 0,
    "start_time": "2022-10-13T07:12:21.121Z"
   },
   {
    "duration": 0,
    "start_time": "2022-10-13T07:12:21.122Z"
   },
   {
    "duration": 0,
    "start_time": "2022-10-13T07:12:21.123Z"
   },
   {
    "duration": 0,
    "start_time": "2022-10-13T07:12:21.124Z"
   },
   {
    "duration": 0,
    "start_time": "2022-10-13T07:12:21.125Z"
   },
   {
    "duration": 0,
    "start_time": "2022-10-13T07:12:21.126Z"
   },
   {
    "duration": 0,
    "start_time": "2022-10-13T07:12:21.127Z"
   },
   {
    "duration": 0,
    "start_time": "2022-10-13T07:12:21.128Z"
   },
   {
    "duration": 254,
    "start_time": "2022-10-13T07:12:56.226Z"
   },
   {
    "duration": 97,
    "start_time": "2022-10-13T07:18:11.875Z"
   },
   {
    "duration": 6,
    "start_time": "2022-10-13T07:18:20.030Z"
   },
   {
    "duration": 236,
    "start_time": "2022-10-13T07:20:21.242Z"
   },
   {
    "duration": 66,
    "start_time": "2022-10-13T07:20:39.933Z"
   },
   {
    "duration": 1372,
    "start_time": "2022-10-13T07:20:59.572Z"
   },
   {
    "duration": 74,
    "start_time": "2022-10-13T07:21:00.947Z"
   },
   {
    "duration": 5,
    "start_time": "2022-10-13T07:21:01.023Z"
   },
   {
    "duration": 12,
    "start_time": "2022-10-13T07:21:01.030Z"
   },
   {
    "duration": 21,
    "start_time": "2022-10-13T07:21:01.044Z"
   },
   {
    "duration": 29,
    "start_time": "2022-10-13T07:21:01.067Z"
   },
   {
    "duration": 723,
    "start_time": "2022-10-13T07:21:01.098Z"
   },
   {
    "duration": 8,
    "start_time": "2022-10-13T07:21:01.824Z"
   },
   {
    "duration": 53,
    "start_time": "2022-10-13T07:21:01.834Z"
   },
   {
    "duration": 323,
    "start_time": "2022-10-13T07:21:01.889Z"
   },
   {
    "duration": 383,
    "start_time": "2022-10-13T07:21:02.214Z"
   },
   {
    "duration": 3,
    "start_time": "2022-10-13T07:21:02.599Z"
   },
   {
    "duration": 24,
    "start_time": "2022-10-13T07:21:02.604Z"
   },
   {
    "duration": 382,
    "start_time": "2022-10-13T07:21:02.630Z"
   },
   {
    "duration": 13,
    "start_time": "2022-10-13T07:21:03.014Z"
   },
   {
    "duration": 236,
    "start_time": "2022-10-13T07:21:03.029Z"
   },
   {
    "duration": 13,
    "start_time": "2022-10-13T07:21:11.475Z"
   },
   {
    "duration": 158,
    "start_time": "2022-10-13T07:21:28.343Z"
   },
   {
    "duration": 213,
    "start_time": "2022-10-13T07:21:41.761Z"
   },
   {
    "duration": 5,
    "start_time": "2022-10-13T07:22:02.153Z"
   },
   {
    "duration": 6,
    "start_time": "2022-10-13T07:22:06.843Z"
   },
   {
    "duration": 1736,
    "start_time": "2022-10-13T07:22:10.957Z"
   },
   {
    "duration": 66,
    "start_time": "2022-10-13T07:22:19.977Z"
   },
   {
    "duration": 56,
    "start_time": "2022-10-13T07:22:25.722Z"
   },
   {
    "duration": 20,
    "start_time": "2022-10-13T07:22:35.857Z"
   },
   {
    "duration": 218,
    "start_time": "2022-10-13T07:22:39.723Z"
   },
   {
    "duration": 14,
    "start_time": "2022-10-13T07:22:48.546Z"
   },
   {
    "duration": 5,
    "start_time": "2022-10-13T07:23:01.868Z"
   },
   {
    "duration": 120,
    "start_time": "2022-10-13T07:23:01.881Z"
   },
   {
    "duration": 4,
    "start_time": "2022-10-13T07:23:02.003Z"
   },
   {
    "duration": 14,
    "start_time": "2022-10-13T07:23:02.009Z"
   },
   {
    "duration": 29,
    "start_time": "2022-10-13T07:23:02.026Z"
   },
   {
    "duration": 35,
    "start_time": "2022-10-13T07:23:02.059Z"
   },
   {
    "duration": 729,
    "start_time": "2022-10-13T07:23:02.096Z"
   },
   {
    "duration": 6,
    "start_time": "2022-10-13T07:23:02.827Z"
   },
   {
    "duration": 21,
    "start_time": "2022-10-13T07:23:02.835Z"
   },
   {
    "duration": 413,
    "start_time": "2022-10-13T07:23:02.858Z"
   },
   {
    "duration": 430,
    "start_time": "2022-10-13T07:23:03.272Z"
   },
   {
    "duration": 4,
    "start_time": "2022-10-13T07:23:03.704Z"
   },
   {
    "duration": 20,
    "start_time": "2022-10-13T07:23:03.709Z"
   },
   {
    "duration": 381,
    "start_time": "2022-10-13T07:23:03.731Z"
   },
   {
    "duration": 14,
    "start_time": "2022-10-13T07:23:04.116Z"
   },
   {
    "duration": 266,
    "start_time": "2022-10-13T07:23:04.132Z"
   },
   {
    "duration": 14,
    "start_time": "2022-10-13T07:23:04.400Z"
   },
   {
    "duration": 239,
    "start_time": "2022-10-13T07:23:04.416Z"
   },
   {
    "duration": 206,
    "start_time": "2022-10-13T07:23:04.657Z"
   },
   {
    "duration": 80,
    "start_time": "2022-10-13T07:23:04.865Z"
   },
   {
    "duration": 0,
    "start_time": "2022-10-13T07:23:04.947Z"
   },
   {
    "duration": 0,
    "start_time": "2022-10-13T07:23:04.948Z"
   },
   {
    "duration": 0,
    "start_time": "2022-10-13T07:23:04.949Z"
   },
   {
    "duration": 0,
    "start_time": "2022-10-13T07:23:04.950Z"
   },
   {
    "duration": 0,
    "start_time": "2022-10-13T07:23:04.952Z"
   },
   {
    "duration": 0,
    "start_time": "2022-10-13T07:23:04.953Z"
   },
   {
    "duration": 0,
    "start_time": "2022-10-13T07:23:04.954Z"
   },
   {
    "duration": 0,
    "start_time": "2022-10-13T07:23:04.955Z"
   },
   {
    "duration": 0,
    "start_time": "2022-10-13T07:23:04.957Z"
   },
   {
    "duration": 0,
    "start_time": "2022-10-13T07:23:04.958Z"
   },
   {
    "duration": 0,
    "start_time": "2022-10-13T07:23:04.959Z"
   },
   {
    "duration": 0,
    "start_time": "2022-10-13T07:23:04.960Z"
   },
   {
    "duration": 0,
    "start_time": "2022-10-13T07:23:04.961Z"
   },
   {
    "duration": 0,
    "start_time": "2022-10-13T07:23:04.989Z"
   },
   {
    "duration": 0,
    "start_time": "2022-10-13T07:23:04.990Z"
   },
   {
    "duration": 0,
    "start_time": "2022-10-13T07:23:04.991Z"
   },
   {
    "duration": 0,
    "start_time": "2022-10-13T07:23:04.993Z"
   },
   {
    "duration": 0,
    "start_time": "2022-10-13T07:23:04.994Z"
   },
   {
    "duration": 0,
    "start_time": "2022-10-13T07:23:04.995Z"
   },
   {
    "duration": 0,
    "start_time": "2022-10-13T07:23:04.996Z"
   },
   {
    "duration": 0,
    "start_time": "2022-10-13T07:23:04.997Z"
   },
   {
    "duration": 71,
    "start_time": "2022-10-13T07:24:56.575Z"
   },
   {
    "duration": 1327,
    "start_time": "2022-10-13T08:53:00.168Z"
   },
   {
    "duration": 88,
    "start_time": "2022-10-13T08:53:01.497Z"
   },
   {
    "duration": 2,
    "start_time": "2022-10-13T08:53:01.586Z"
   },
   {
    "duration": 30,
    "start_time": "2022-10-13T08:53:01.590Z"
   },
   {
    "duration": 16,
    "start_time": "2022-10-13T08:53:01.622Z"
   },
   {
    "duration": 26,
    "start_time": "2022-10-13T08:53:01.640Z"
   },
   {
    "duration": 643,
    "start_time": "2022-10-13T08:53:01.668Z"
   },
   {
    "duration": 12,
    "start_time": "2022-10-13T08:53:02.313Z"
   },
   {
    "duration": 39,
    "start_time": "2022-10-13T08:53:02.327Z"
   },
   {
    "duration": 196,
    "start_time": "2022-10-13T08:53:02.368Z"
   },
   {
    "duration": 349,
    "start_time": "2022-10-13T08:53:02.566Z"
   },
   {
    "duration": 5,
    "start_time": "2022-10-13T08:53:02.917Z"
   },
   {
    "duration": 19,
    "start_time": "2022-10-13T08:53:02.924Z"
   },
   {
    "duration": 306,
    "start_time": "2022-10-13T08:53:02.944Z"
   },
   {
    "duration": 11,
    "start_time": "2022-10-13T08:53:03.252Z"
   },
   {
    "duration": 187,
    "start_time": "2022-10-13T08:53:03.264Z"
   },
   {
    "duration": 9,
    "start_time": "2022-10-13T08:53:03.453Z"
   },
   {
    "duration": 147,
    "start_time": "2022-10-13T08:53:03.463Z"
   },
   {
    "duration": 147,
    "start_time": "2022-10-13T08:53:03.612Z"
   },
   {
    "duration": 103,
    "start_time": "2022-10-13T08:53:03.761Z"
   },
   {
    "duration": 0,
    "start_time": "2022-10-13T08:53:03.866Z"
   },
   {
    "duration": 0,
    "start_time": "2022-10-13T08:53:03.868Z"
   },
   {
    "duration": 0,
    "start_time": "2022-10-13T08:53:03.869Z"
   },
   {
    "duration": 0,
    "start_time": "2022-10-13T08:53:03.871Z"
   },
   {
    "duration": 0,
    "start_time": "2022-10-13T08:53:03.872Z"
   },
   {
    "duration": 0,
    "start_time": "2022-10-13T08:53:03.873Z"
   },
   {
    "duration": 0,
    "start_time": "2022-10-13T08:53:03.874Z"
   },
   {
    "duration": 0,
    "start_time": "2022-10-13T08:53:03.875Z"
   },
   {
    "duration": 0,
    "start_time": "2022-10-13T08:53:03.877Z"
   },
   {
    "duration": 0,
    "start_time": "2022-10-13T08:53:03.878Z"
   },
   {
    "duration": 0,
    "start_time": "2022-10-13T08:53:03.880Z"
   },
   {
    "duration": 0,
    "start_time": "2022-10-13T08:53:03.881Z"
   },
   {
    "duration": 0,
    "start_time": "2022-10-13T08:53:03.883Z"
   },
   {
    "duration": 1,
    "start_time": "2022-10-13T08:53:03.884Z"
   },
   {
    "duration": 0,
    "start_time": "2022-10-13T08:53:03.886Z"
   },
   {
    "duration": 0,
    "start_time": "2022-10-13T08:53:03.922Z"
   },
   {
    "duration": 0,
    "start_time": "2022-10-13T08:53:03.923Z"
   },
   {
    "duration": 0,
    "start_time": "2022-10-13T08:53:03.925Z"
   },
   {
    "duration": 0,
    "start_time": "2022-10-13T08:53:03.926Z"
   },
   {
    "duration": 0,
    "start_time": "2022-10-13T08:53:04.023Z"
   },
   {
    "duration": 0,
    "start_time": "2022-10-13T08:53:04.025Z"
   },
   {
    "duration": 3,
    "start_time": "2022-10-13T08:57:31.311Z"
   },
   {
    "duration": 66,
    "start_time": "2022-10-13T08:57:37.735Z"
   },
   {
    "duration": 62,
    "start_time": "2022-10-13T08:57:50.785Z"
   },
   {
    "duration": 56,
    "start_time": "2022-10-13T08:58:17.893Z"
   },
   {
    "duration": 21,
    "start_time": "2022-10-13T08:58:23.849Z"
   },
   {
    "duration": 9,
    "start_time": "2022-10-13T08:59:25.288Z"
   },
   {
    "duration": 14,
    "start_time": "2022-10-13T08:59:56.418Z"
   },
   {
    "duration": 18,
    "start_time": "2022-10-13T09:00:04.612Z"
   },
   {
    "duration": 9,
    "start_time": "2022-10-13T09:00:09.871Z"
   },
   {
    "duration": 14,
    "start_time": "2022-10-13T09:00:33.722Z"
   },
   {
    "duration": 8,
    "start_time": "2022-10-13T09:00:38.454Z"
   },
   {
    "duration": 7,
    "start_time": "2022-10-13T09:00:47.724Z"
   },
   {
    "duration": 9,
    "start_time": "2022-10-13T09:01:24.596Z"
   },
   {
    "duration": 11,
    "start_time": "2022-10-13T09:03:54.667Z"
   },
   {
    "duration": 62,
    "start_time": "2022-10-13T09:05:56.927Z"
   },
   {
    "duration": 17,
    "start_time": "2022-10-13T09:06:18.725Z"
   },
   {
    "duration": 15,
    "start_time": "2022-10-13T09:06:25.167Z"
   },
   {
    "duration": 10,
    "start_time": "2022-10-13T09:06:32.184Z"
   },
   {
    "duration": 9,
    "start_time": "2022-10-13T09:06:44.551Z"
   },
   {
    "duration": 42,
    "start_time": "2022-10-13T09:39:16.420Z"
   },
   {
    "duration": 1272,
    "start_time": "2022-10-13T09:39:21.086Z"
   },
   {
    "duration": 80,
    "start_time": "2022-10-13T09:39:22.360Z"
   },
   {
    "duration": 3,
    "start_time": "2022-10-13T09:39:22.441Z"
   },
   {
    "duration": 8,
    "start_time": "2022-10-13T09:39:22.445Z"
   },
   {
    "duration": 10,
    "start_time": "2022-10-13T09:39:22.455Z"
   },
   {
    "duration": 14,
    "start_time": "2022-10-13T09:39:22.466Z"
   },
   {
    "duration": 596,
    "start_time": "2022-10-13T09:39:22.481Z"
   },
   {
    "duration": 6,
    "start_time": "2022-10-13T09:39:23.079Z"
   },
   {
    "duration": 24,
    "start_time": "2022-10-13T09:39:23.086Z"
   },
   {
    "duration": 196,
    "start_time": "2022-10-13T09:39:23.111Z"
   },
   {
    "duration": 311,
    "start_time": "2022-10-13T09:39:23.309Z"
   },
   {
    "duration": 3,
    "start_time": "2022-10-13T09:39:23.622Z"
   },
   {
    "duration": 18,
    "start_time": "2022-10-13T09:39:23.626Z"
   },
   {
    "duration": 267,
    "start_time": "2022-10-13T09:39:23.647Z"
   },
   {
    "duration": 10,
    "start_time": "2022-10-13T09:39:23.916Z"
   },
   {
    "duration": 11,
    "start_time": "2022-10-13T09:39:23.927Z"
   },
   {
    "duration": 197,
    "start_time": "2022-10-13T09:39:23.939Z"
   },
   {
    "duration": 10,
    "start_time": "2022-10-13T09:39:24.138Z"
   },
   {
    "duration": 182,
    "start_time": "2022-10-13T09:39:24.149Z"
   },
   {
    "duration": 191,
    "start_time": "2022-10-13T09:39:24.332Z"
   },
   {
    "duration": 7,
    "start_time": "2022-10-13T09:39:24.525Z"
   },
   {
    "duration": 14,
    "start_time": "2022-10-13T09:39:24.534Z"
   },
   {
    "duration": 98,
    "start_time": "2022-10-13T09:39:24.550Z"
   },
   {
    "duration": 1173,
    "start_time": "2022-10-13T09:39:24.650Z"
   },
   {
    "duration": 46,
    "start_time": "2022-10-13T09:39:25.825Z"
   },
   {
    "duration": 66,
    "start_time": "2022-10-13T09:39:25.872Z"
   },
   {
    "duration": 13,
    "start_time": "2022-10-13T09:39:25.940Z"
   },
   {
    "duration": 200,
    "start_time": "2022-10-13T09:39:25.955Z"
   },
   {
    "duration": 7,
    "start_time": "2022-10-13T09:39:26.157Z"
   },
   {
    "duration": 387,
    "start_time": "2022-10-13T09:39:26.165Z"
   },
   {
    "duration": 379,
    "start_time": "2022-10-13T09:39:26.554Z"
   },
   {
    "duration": 458,
    "start_time": "2022-10-13T09:39:26.934Z"
   },
   {
    "duration": 390,
    "start_time": "2022-10-13T09:39:27.393Z"
   },
   {
    "duration": 398,
    "start_time": "2022-10-13T09:39:27.784Z"
   },
   {
    "duration": 373,
    "start_time": "2022-10-13T09:39:28.184Z"
   },
   {
    "duration": 3,
    "start_time": "2022-10-13T09:39:28.559Z"
   },
   {
    "duration": 13,
    "start_time": "2022-10-13T09:39:28.564Z"
   },
   {
    "duration": 7,
    "start_time": "2022-10-13T09:39:28.579Z"
   },
   {
    "duration": 14,
    "start_time": "2022-10-13T09:39:28.588Z"
   },
   {
    "duration": 15,
    "start_time": "2022-10-13T09:39:28.604Z"
   },
   {
    "duration": 9,
    "start_time": "2022-10-13T09:39:28.622Z"
   },
   {
    "duration": 8,
    "start_time": "2022-10-13T09:39:28.632Z"
   },
   {
    "duration": 77,
    "start_time": "2022-10-13T09:43:42.689Z"
   },
   {
    "duration": 3,
    "start_time": "2022-10-13T09:45:40.614Z"
   },
   {
    "duration": 20,
    "start_time": "2022-10-13T09:45:41.889Z"
   },
   {
    "duration": 17,
    "start_time": "2022-10-13T09:46:24.193Z"
   },
   {
    "duration": 1154,
    "start_time": "2022-10-13T09:46:33.594Z"
   },
   {
    "duration": 16,
    "start_time": "2022-10-13T09:47:36.794Z"
   },
   {
    "duration": 9,
    "start_time": "2022-10-13T09:49:31.893Z"
   },
   {
    "duration": 10,
    "start_time": "2022-10-13T09:49:44.964Z"
   },
   {
    "duration": 6,
    "start_time": "2022-10-13T09:50:16.253Z"
   },
   {
    "duration": 7,
    "start_time": "2022-10-13T09:51:01.303Z"
   },
   {
    "duration": 9,
    "start_time": "2022-10-13T09:51:09.698Z"
   },
   {
    "duration": 8,
    "start_time": "2022-10-13T09:51:23.293Z"
   },
   {
    "duration": 8,
    "start_time": "2022-10-13T09:52:03.173Z"
   },
   {
    "duration": 8,
    "start_time": "2022-10-13T09:52:18.563Z"
   },
   {
    "duration": 11,
    "start_time": "2022-10-13T09:52:22.758Z"
   },
   {
    "duration": 12,
    "start_time": "2022-10-13T09:53:00.208Z"
   },
   {
    "duration": 18,
    "start_time": "2022-10-13T09:53:59.443Z"
   },
   {
    "duration": 320,
    "start_time": "2022-10-13T09:54:02.723Z"
   },
   {
    "duration": 3,
    "start_time": "2022-10-13T09:54:14.064Z"
   },
   {
    "duration": 53,
    "start_time": "2022-10-13T09:54:14.069Z"
   },
   {
    "duration": 3,
    "start_time": "2022-10-13T09:54:14.124Z"
   },
   {
    "duration": 12,
    "start_time": "2022-10-13T09:54:14.128Z"
   },
   {
    "duration": 16,
    "start_time": "2022-10-13T09:54:14.142Z"
   },
   {
    "duration": 22,
    "start_time": "2022-10-13T09:54:14.159Z"
   },
   {
    "duration": 604,
    "start_time": "2022-10-13T09:54:14.183Z"
   },
   {
    "duration": 11,
    "start_time": "2022-10-13T09:54:14.789Z"
   },
   {
    "duration": 16,
    "start_time": "2022-10-13T09:54:14.802Z"
   },
   {
    "duration": 305,
    "start_time": "2022-10-13T09:54:14.819Z"
   },
   {
    "duration": 355,
    "start_time": "2022-10-13T09:54:15.126Z"
   },
   {
    "duration": 4,
    "start_time": "2022-10-13T09:54:15.483Z"
   },
   {
    "duration": 18,
    "start_time": "2022-10-13T09:54:15.488Z"
   },
   {
    "duration": 315,
    "start_time": "2022-10-13T09:54:15.508Z"
   },
   {
    "duration": 9,
    "start_time": "2022-10-13T09:54:15.824Z"
   },
   {
    "duration": 12,
    "start_time": "2022-10-13T09:54:15.834Z"
   },
   {
    "duration": 218,
    "start_time": "2022-10-13T09:54:15.848Z"
   },
   {
    "duration": 9,
    "start_time": "2022-10-13T09:54:16.068Z"
   },
   {
    "duration": 168,
    "start_time": "2022-10-13T09:54:16.078Z"
   },
   {
    "duration": 163,
    "start_time": "2022-10-13T09:54:16.248Z"
   },
   {
    "duration": 5,
    "start_time": "2022-10-13T09:54:16.413Z"
   },
   {
    "duration": 17,
    "start_time": "2022-10-13T09:54:16.420Z"
   },
   {
    "duration": 17,
    "start_time": "2022-10-13T09:54:16.439Z"
   },
   {
    "duration": 1524,
    "start_time": "2022-10-13T09:54:16.457Z"
   },
   {
    "duration": 52,
    "start_time": "2022-10-13T09:54:17.982Z"
   },
   {
    "duration": 65,
    "start_time": "2022-10-13T09:54:18.036Z"
   },
   {
    "duration": 15,
    "start_time": "2022-10-13T09:54:18.103Z"
   },
   {
    "duration": 223,
    "start_time": "2022-10-13T09:54:18.120Z"
   },
   {
    "duration": 8,
    "start_time": "2022-10-13T09:54:18.344Z"
   },
   {
    "duration": 356,
    "start_time": "2022-10-13T09:54:18.354Z"
   },
   {
    "duration": 401,
    "start_time": "2022-10-13T09:54:18.712Z"
   },
   {
    "duration": 388,
    "start_time": "2022-10-13T09:54:19.115Z"
   },
   {
    "duration": 378,
    "start_time": "2022-10-13T09:54:19.504Z"
   },
   {
    "duration": 510,
    "start_time": "2022-10-13T09:54:19.884Z"
   },
   {
    "duration": 365,
    "start_time": "2022-10-13T09:54:20.399Z"
   },
   {
    "duration": 4,
    "start_time": "2022-10-13T09:54:20.765Z"
   },
   {
    "duration": 12,
    "start_time": "2022-10-13T09:54:20.770Z"
   },
   {
    "duration": 17,
    "start_time": "2022-10-13T09:54:20.783Z"
   },
   {
    "duration": 4,
    "start_time": "2022-10-13T09:54:20.801Z"
   },
   {
    "duration": 11,
    "start_time": "2022-10-13T09:54:20.807Z"
   },
   {
    "duration": 3,
    "start_time": "2022-10-13T09:54:20.822Z"
   },
   {
    "duration": 10,
    "start_time": "2022-10-13T09:54:20.827Z"
   },
   {
    "duration": 7,
    "start_time": "2022-10-13T09:59:00.062Z"
   },
   {
    "duration": 4,
    "start_time": "2022-10-13T09:59:13.223Z"
   },
   {
    "duration": 10,
    "start_time": "2022-10-13T09:59:52.212Z"
   },
   {
    "duration": 10,
    "start_time": "2022-10-13T10:00:45.467Z"
   },
   {
    "duration": 12,
    "start_time": "2022-10-13T10:00:53.327Z"
   },
   {
    "duration": 189,
    "start_time": "2022-10-13T10:00:55.422Z"
   },
   {
    "duration": 1431,
    "start_time": "2022-10-13T10:02:32.507Z"
   },
   {
    "duration": 10,
    "start_time": "2022-10-13T10:03:17.157Z"
   },
   {
    "duration": 3,
    "start_time": "2022-10-13T10:03:20.287Z"
   },
   {
    "duration": 61,
    "start_time": "2022-10-13T10:03:20.292Z"
   },
   {
    "duration": 2,
    "start_time": "2022-10-13T10:03:20.355Z"
   },
   {
    "duration": 10,
    "start_time": "2022-10-13T10:03:20.358Z"
   },
   {
    "duration": 11,
    "start_time": "2022-10-13T10:03:20.370Z"
   },
   {
    "duration": 19,
    "start_time": "2022-10-13T10:03:20.382Z"
   },
   {
    "duration": 535,
    "start_time": "2022-10-13T10:03:20.402Z"
   },
   {
    "duration": 6,
    "start_time": "2022-10-13T10:03:20.938Z"
   },
   {
    "duration": 19,
    "start_time": "2022-10-13T10:03:20.946Z"
   },
   {
    "duration": 352,
    "start_time": "2022-10-13T10:03:20.966Z"
   },
   {
    "duration": 350,
    "start_time": "2022-10-13T10:03:21.320Z"
   },
   {
    "duration": 4,
    "start_time": "2022-10-13T10:03:21.672Z"
   },
   {
    "duration": 23,
    "start_time": "2022-10-13T10:03:21.678Z"
   },
   {
    "duration": 318,
    "start_time": "2022-10-13T10:03:21.704Z"
   },
   {
    "duration": 9,
    "start_time": "2022-10-13T10:03:22.023Z"
   },
   {
    "duration": 9,
    "start_time": "2022-10-13T10:03:22.033Z"
   },
   {
    "duration": 196,
    "start_time": "2022-10-13T10:03:22.044Z"
   },
   {
    "duration": 11,
    "start_time": "2022-10-13T10:03:22.242Z"
   },
   {
    "duration": 179,
    "start_time": "2022-10-13T10:03:22.255Z"
   },
   {
    "duration": 166,
    "start_time": "2022-10-13T10:03:22.436Z"
   },
   {
    "duration": 5,
    "start_time": "2022-10-13T10:03:22.604Z"
   },
   {
    "duration": 5,
    "start_time": "2022-10-13T10:03:22.611Z"
   },
   {
    "duration": 11,
    "start_time": "2022-10-13T10:03:22.617Z"
   },
   {
    "duration": 1584,
    "start_time": "2022-10-13T10:03:22.630Z"
   },
   {
    "duration": 55,
    "start_time": "2022-10-13T10:03:24.216Z"
   },
   {
    "duration": 72,
    "start_time": "2022-10-13T10:03:24.273Z"
   },
   {
    "duration": 18,
    "start_time": "2022-10-13T10:03:24.346Z"
   },
   {
    "duration": 293,
    "start_time": "2022-10-13T10:03:24.366Z"
   },
   {
    "duration": 7,
    "start_time": "2022-10-13T10:03:24.661Z"
   },
   {
    "duration": 360,
    "start_time": "2022-10-13T10:03:24.670Z"
   },
   {
    "duration": 388,
    "start_time": "2022-10-13T10:03:25.031Z"
   },
   {
    "duration": 371,
    "start_time": "2022-10-13T10:03:25.421Z"
   },
   {
    "duration": 393,
    "start_time": "2022-10-13T10:03:25.794Z"
   },
   {
    "duration": 503,
    "start_time": "2022-10-13T10:03:26.189Z"
   },
   {
    "duration": 416,
    "start_time": "2022-10-13T10:03:26.693Z"
   },
   {
    "duration": 4,
    "start_time": "2022-10-13T10:03:27.110Z"
   },
   {
    "duration": 12,
    "start_time": "2022-10-13T10:03:27.116Z"
   },
   {
    "duration": 10,
    "start_time": "2022-10-13T10:03:27.130Z"
   },
   {
    "duration": 11,
    "start_time": "2022-10-13T10:03:27.142Z"
   },
   {
    "duration": 20,
    "start_time": "2022-10-13T10:03:27.154Z"
   },
   {
    "duration": 4,
    "start_time": "2022-10-13T10:03:27.177Z"
   },
   {
    "duration": 20,
    "start_time": "2022-10-13T10:03:27.185Z"
   },
   {
    "duration": 292,
    "start_time": "2022-10-13T10:04:04.282Z"
   },
   {
    "duration": 4,
    "start_time": "2022-10-13T10:11:32.792Z"
   },
   {
    "duration": 2,
    "start_time": "2022-10-13T10:23:28.813Z"
   },
   {
    "duration": 58,
    "start_time": "2022-10-13T10:23:28.818Z"
   },
   {
    "duration": 2,
    "start_time": "2022-10-13T10:23:28.878Z"
   },
   {
    "duration": 11,
    "start_time": "2022-10-13T10:23:28.882Z"
   },
   {
    "duration": 11,
    "start_time": "2022-10-13T10:23:28.895Z"
   },
   {
    "duration": 14,
    "start_time": "2022-10-13T10:23:28.907Z"
   },
   {
    "duration": 560,
    "start_time": "2022-10-13T10:23:28.923Z"
   },
   {
    "duration": 6,
    "start_time": "2022-10-13T10:23:29.484Z"
   },
   {
    "duration": 24,
    "start_time": "2022-10-13T10:23:29.491Z"
   },
   {
    "duration": 214,
    "start_time": "2022-10-13T10:23:29.516Z"
   },
   {
    "duration": 339,
    "start_time": "2022-10-13T10:23:29.732Z"
   },
   {
    "duration": 4,
    "start_time": "2022-10-13T10:23:30.073Z"
   },
   {
    "duration": 23,
    "start_time": "2022-10-13T10:23:30.078Z"
   },
   {
    "duration": 313,
    "start_time": "2022-10-13T10:23:30.105Z"
   },
   {
    "duration": 9,
    "start_time": "2022-10-13T10:23:30.420Z"
   },
   {
    "duration": 45,
    "start_time": "2022-10-13T10:23:30.431Z"
   },
   {
    "duration": 194,
    "start_time": "2022-10-13T10:23:30.478Z"
   },
   {
    "duration": 10,
    "start_time": "2022-10-13T10:23:30.674Z"
   },
   {
    "duration": 172,
    "start_time": "2022-10-13T10:23:30.686Z"
   },
   {
    "duration": 167,
    "start_time": "2022-10-13T10:23:30.860Z"
   },
   {
    "duration": 4,
    "start_time": "2022-10-13T10:23:31.029Z"
   },
   {
    "duration": 8,
    "start_time": "2022-10-13T10:23:31.035Z"
   },
   {
    "duration": 16,
    "start_time": "2022-10-13T10:23:31.045Z"
   },
   {
    "duration": 1585,
    "start_time": "2022-10-13T10:23:31.063Z"
   },
   {
    "duration": 58,
    "start_time": "2022-10-13T10:23:32.650Z"
   },
   {
    "duration": 45,
    "start_time": "2022-10-13T10:23:32.709Z"
   },
   {
    "duration": 15,
    "start_time": "2022-10-13T10:23:32.755Z"
   },
   {
    "duration": 222,
    "start_time": "2022-10-13T10:23:32.771Z"
   },
   {
    "duration": 4,
    "start_time": "2022-10-13T10:23:32.999Z"
   },
   {
    "duration": 10,
    "start_time": "2022-10-13T10:23:33.004Z"
   },
   {
    "duration": 394,
    "start_time": "2022-10-13T10:23:33.016Z"
   },
   {
    "duration": 377,
    "start_time": "2022-10-13T10:23:33.412Z"
   },
   {
    "duration": 381,
    "start_time": "2022-10-13T10:23:33.791Z"
   },
   {
    "duration": 455,
    "start_time": "2022-10-13T10:23:34.174Z"
   },
   {
    "duration": 521,
    "start_time": "2022-10-13T10:23:34.631Z"
   },
   {
    "duration": 401,
    "start_time": "2022-10-13T10:23:35.153Z"
   },
   {
    "duration": 5,
    "start_time": "2022-10-13T10:23:35.556Z"
   },
   {
    "duration": 26,
    "start_time": "2022-10-13T10:23:35.562Z"
   },
   {
    "duration": 23,
    "start_time": "2022-10-13T10:23:35.589Z"
   },
   {
    "duration": 8,
    "start_time": "2022-10-13T10:23:35.613Z"
   },
   {
    "duration": 25,
    "start_time": "2022-10-13T10:23:35.624Z"
   },
   {
    "duration": 4,
    "start_time": "2022-10-13T10:23:35.650Z"
   },
   {
    "duration": 18,
    "start_time": "2022-10-13T10:23:35.655Z"
   },
   {
    "duration": 10,
    "start_time": "2022-10-13T10:26:13.201Z"
   },
   {
    "duration": 24,
    "start_time": "2022-10-13T10:31:35.442Z"
   },
   {
    "duration": 3,
    "start_time": "2022-10-13T10:33:52.535Z"
   },
   {
    "duration": 48,
    "start_time": "2022-10-13T10:33:52.539Z"
   },
   {
    "duration": 2,
    "start_time": "2022-10-13T10:33:52.623Z"
   },
   {
    "duration": 12,
    "start_time": "2022-10-13T10:33:52.626Z"
   },
   {
    "duration": 13,
    "start_time": "2022-10-13T10:33:52.639Z"
   },
   {
    "duration": 12,
    "start_time": "2022-10-13T10:33:52.654Z"
   },
   {
    "duration": 549,
    "start_time": "2022-10-13T10:33:52.696Z"
   },
   {
    "duration": 6,
    "start_time": "2022-10-13T10:33:53.247Z"
   },
   {
    "duration": 17,
    "start_time": "2022-10-13T10:33:53.254Z"
   },
   {
    "duration": 221,
    "start_time": "2022-10-13T10:33:53.272Z"
   },
   {
    "duration": 358,
    "start_time": "2022-10-13T10:33:53.500Z"
   },
   {
    "duration": 3,
    "start_time": "2022-10-13T10:33:53.860Z"
   },
   {
    "duration": 21,
    "start_time": "2022-10-13T10:33:53.865Z"
   },
   {
    "duration": 348,
    "start_time": "2022-10-13T10:33:53.900Z"
   },
   {
    "duration": 8,
    "start_time": "2022-10-13T10:33:54.250Z"
   },
   {
    "duration": 9,
    "start_time": "2022-10-13T10:33:54.260Z"
   },
   {
    "duration": 214,
    "start_time": "2022-10-13T10:33:54.270Z"
   },
   {
    "duration": 18,
    "start_time": "2022-10-13T10:33:54.486Z"
   },
   {
    "duration": 179,
    "start_time": "2022-10-13T10:33:54.507Z"
   },
   {
    "duration": 173,
    "start_time": "2022-10-13T10:33:54.689Z"
   },
   {
    "duration": 6,
    "start_time": "2022-10-13T10:33:54.864Z"
   },
   {
    "duration": 12,
    "start_time": "2022-10-13T10:33:54.871Z"
   },
   {
    "duration": 11,
    "start_time": "2022-10-13T10:33:54.884Z"
   },
   {
    "duration": 1506,
    "start_time": "2022-10-13T10:33:54.896Z"
   },
   {
    "duration": 42,
    "start_time": "2022-10-13T10:33:56.404Z"
   },
   {
    "duration": 66,
    "start_time": "2022-10-13T10:33:56.448Z"
   },
   {
    "duration": 15,
    "start_time": "2022-10-13T10:33:56.516Z"
   },
   {
    "duration": 213,
    "start_time": "2022-10-13T10:33:56.532Z"
   },
   {
    "duration": 7,
    "start_time": "2022-10-13T10:33:56.747Z"
   },
   {
    "duration": 413,
    "start_time": "2022-10-13T10:33:56.755Z"
   },
   {
    "duration": 375,
    "start_time": "2022-10-13T10:33:57.170Z"
   },
   {
    "duration": 365,
    "start_time": "2022-10-13T10:33:57.547Z"
   },
   {
    "duration": 397,
    "start_time": "2022-10-13T10:33:57.914Z"
   },
   {
    "duration": 453,
    "start_time": "2022-10-13T10:33:58.313Z"
   },
   {
    "duration": 597,
    "start_time": "2022-10-13T10:33:58.768Z"
   },
   {
    "duration": 4,
    "start_time": "2022-10-13T10:33:59.367Z"
   },
   {
    "duration": 11,
    "start_time": "2022-10-13T10:33:59.372Z"
   },
   {
    "duration": 16,
    "start_time": "2022-10-13T10:33:59.385Z"
   },
   {
    "duration": 5,
    "start_time": "2022-10-13T10:33:59.402Z"
   },
   {
    "duration": 23,
    "start_time": "2022-10-13T10:33:59.408Z"
   },
   {
    "duration": 15,
    "start_time": "2022-10-13T10:33:59.433Z"
   },
   {
    "duration": 16,
    "start_time": "2022-10-13T10:33:59.449Z"
   },
   {
    "duration": 1251,
    "start_time": "2022-10-13T14:44:28.133Z"
   },
   {
    "duration": 211,
    "start_time": "2022-10-13T14:44:29.386Z"
   },
   {
    "duration": 2,
    "start_time": "2022-10-13T14:44:29.599Z"
   },
   {
    "duration": 12,
    "start_time": "2022-10-13T14:44:29.602Z"
   },
   {
    "duration": 33,
    "start_time": "2022-10-13T14:44:29.617Z"
   },
   {
    "duration": 13,
    "start_time": "2022-10-13T14:44:29.652Z"
   },
   {
    "duration": 636,
    "start_time": "2022-10-13T14:44:29.667Z"
   },
   {
    "duration": 6,
    "start_time": "2022-10-13T14:44:30.304Z"
   },
   {
    "duration": 43,
    "start_time": "2022-10-13T14:44:30.311Z"
   },
   {
    "duration": 213,
    "start_time": "2022-10-13T14:44:30.355Z"
   },
   {
    "duration": 299,
    "start_time": "2022-10-13T14:44:30.569Z"
   },
   {
    "duration": 3,
    "start_time": "2022-10-13T14:44:30.869Z"
   },
   {
    "duration": 30,
    "start_time": "2022-10-13T14:44:30.873Z"
   },
   {
    "duration": 319,
    "start_time": "2022-10-13T14:44:30.906Z"
   },
   {
    "duration": 14,
    "start_time": "2022-10-13T14:44:31.231Z"
   },
   {
    "duration": 15,
    "start_time": "2022-10-13T14:44:31.246Z"
   },
   {
    "duration": 188,
    "start_time": "2022-10-13T14:44:31.262Z"
   },
   {
    "duration": 9,
    "start_time": "2022-10-13T14:44:31.451Z"
   },
   {
    "duration": 139,
    "start_time": "2022-10-13T14:44:31.462Z"
   },
   {
    "duration": 156,
    "start_time": "2022-10-13T14:44:31.602Z"
   },
   {
    "duration": 4,
    "start_time": "2022-10-13T14:44:31.760Z"
   },
   {
    "duration": 16,
    "start_time": "2022-10-13T14:44:31.765Z"
   },
   {
    "duration": 74,
    "start_time": "2022-10-13T14:44:31.783Z"
   },
   {
    "duration": 1277,
    "start_time": "2022-10-13T14:44:31.858Z"
   },
   {
    "duration": 45,
    "start_time": "2022-10-13T14:44:33.137Z"
   },
   {
    "duration": 64,
    "start_time": "2022-10-13T14:44:33.184Z"
   },
   {
    "duration": 15,
    "start_time": "2022-10-13T14:44:33.250Z"
   },
   {
    "duration": 204,
    "start_time": "2022-10-13T14:44:33.266Z"
   },
   {
    "duration": 8,
    "start_time": "2022-10-13T14:44:33.471Z"
   },
   {
    "duration": 371,
    "start_time": "2022-10-13T14:44:33.480Z"
   },
   {
    "duration": 385,
    "start_time": "2022-10-13T14:44:33.852Z"
   },
   {
    "duration": 455,
    "start_time": "2022-10-13T14:44:34.239Z"
   },
   {
    "duration": 382,
    "start_time": "2022-10-13T14:44:34.696Z"
   },
   {
    "duration": 382,
    "start_time": "2022-10-13T14:44:35.080Z"
   },
   {
    "duration": 387,
    "start_time": "2022-10-13T14:44:35.464Z"
   },
   {
    "duration": 3,
    "start_time": "2022-10-13T14:44:35.853Z"
   },
   {
    "duration": 13,
    "start_time": "2022-10-13T14:44:35.858Z"
   },
   {
    "duration": 13,
    "start_time": "2022-10-13T14:44:35.873Z"
   },
   {
    "duration": 8,
    "start_time": "2022-10-13T14:44:35.887Z"
   },
   {
    "duration": 12,
    "start_time": "2022-10-13T14:44:35.897Z"
   },
   {
    "duration": 18,
    "start_time": "2022-10-13T14:44:35.912Z"
   },
   {
    "duration": 12,
    "start_time": "2022-10-13T14:44:35.932Z"
   }
  ],
  "kernelspec": {
   "display_name": "Python 3 (ipykernel)",
   "language": "python",
   "name": "python3"
  },
  "language_info": {
   "codemirror_mode": {
    "name": "ipython",
    "version": 3
   },
   "file_extension": ".py",
   "mimetype": "text/x-python",
   "name": "python",
   "nbconvert_exporter": "python",
   "pygments_lexer": "ipython3",
   "version": "3.9.12"
  },
  "toc": {
   "base_numbering": 1,
   "nav_menu": {},
   "number_sections": true,
   "sideBar": true,
   "skip_h1_title": true,
   "title_cell": "Table of Contents",
   "title_sidebar": "Contents",
   "toc_cell": false,
   "toc_position": {},
   "toc_section_display": true,
   "toc_window_display": false
  }
 },
 "nbformat": 4,
 "nbformat_minor": 5
}
