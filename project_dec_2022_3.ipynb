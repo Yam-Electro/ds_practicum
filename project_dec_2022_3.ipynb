{
 "cells": [
  {
   "cell_type": "markdown",
   "metadata": {},
   "source": [
    "<div class=\"alert alert-info\">\n",
    "<font size=\"5\"><b>Комментарий ревьюера</b></font>\n",
    "\n",
    "Привет Станислав! Меня зовут Марат, и я буду твоим ревьюером. Спешу сообщить что все ключевые этапы в работе выполнены,  с задачей тебе удалось справиться. По поводу обращения - в IT сфере принято общаться на «ты» :) Но, если привычней на «вы», дай знать. Как ревьюера моя задача помочь тебе в развитии, дав хорошие советы. Я внимательно посмотрю твой код, ознакомлюсь с твоими выводами и оставлю комментарии. Где то могу предложить небольшие исправление в коде, но ненавязчиво. Где потребуются уточнения, я оставлю много наводящих вопросов. Они помогут тебя с поиском верного решения.\n",
    "\n",
    "Все мои комментарии размечены по цветам, для лучшего восприятия. \n",
    "    \n",
    "<div class=\"alert alert-success\">Зеленым цветом и 👍, словом «Успех» отмечены особо удачные и элегантные решения, которыми ты можешь гордиться. </div>\n",
    "        \n",
    "<div class=\"alert alert-warning\">Желтым и 🤔, словом «Совет», помечены решения у которых есть альтернативные решения, более оптимальные. Ты можешь найти их сразу и доработать проект, или отложить это на потом, для будущих проектах. Проект будет принят и без их доработки. </div>\n",
    "        \n",
    "<div class=\"alert alert-danger\"> Красным цветом и значком ❌, словом «Ошибка» помечу твои решения, на которые стоит обратить внимание прежде всего. После их доработки проект будет принят. </div>\n",
    "        \n",
    "Залог успеха - работа сообща, взаимное уважение и работа в диалоге. Поэтому, помечай свои ответные комментарии на мои реплики заметным цветом или курсивом, так мне будет легче их отслеживать. Пожалуйста, не изменяй и не удаляй мои комментарии. Все это поможет выполнить повторную проверку быстрей.\n",
    "\n",
    "</div>"
   ]
  },
  {
   "cell_type": "markdown",
   "metadata": {},
   "source": [
    "<div class=\"alert alert-danger\">\n",
    "    <div class=\"alert alert-warning\" role=\"alert\">\n",
    "      Комментарий студента: Привет Марат! Свои комментарии  я буду помечать таким образом.\n",
    "    </div>    \n",
    "</div>"
   ]
  },
  {
   "cell_type": "markdown",
   "metadata": {},
   "source": [
    "<div class=\"alert alert-success\">\n",
    "<font size=\"5\"><b>Комментарий ревьюераV2</b></font>\n",
    "\n",
    "\n",
    "\n",
    "Успех 👍:\n",
    "\n",
    "\n",
    "\n",
    "Привет Станислав! Принято\n",
    "\n",
    "\n",
    "\n",
    "\n",
    "</div>\n"
   ]
  },
  {
   "cell_type": "markdown",
   "metadata": {
    "toc": true
   },
   "source": [
    "<h1>Содержание<span class=\"tocSkip\"></span></h1>\n",
    "<div class=\"toc\"><ul class=\"toc-item\"><li><span><a href=\"#Загрузка-данных\" data-toc-modified-id=\"Загрузка-данных-1\"><span class=\"toc-item-num\">1&nbsp;&nbsp;</span>Загрузка данных</a></span><ul class=\"toc-item\"><li><ul class=\"toc-item\"><li><span><a href=\"#Шаг-1.-Загрузите-и-изучите-данные.\" data-toc-modified-id=\"Шаг-1.-Загрузите-и-изучите-данные.-1.0.1\"><span class=\"toc-item-num\">1.0.1&nbsp;&nbsp;</span>Шаг 1. Загрузите и изучите данные.</a></span></li><li><span><a href=\"#Результат-первичного-осмотра-данных:\" data-toc-modified-id=\"Результат-первичного-осмотра-данных:-1.0.2\"><span class=\"toc-item-num\">1.0.2&nbsp;&nbsp;</span>Результат первичного осмотра данных:</a></span></li><li><span><a href=\"#Предобработка-данных\" data-toc-modified-id=\"Предобработка-данных-1.0.3\"><span class=\"toc-item-num\">1.0.3&nbsp;&nbsp;</span>Предобработка данных</a></span></li></ul></li></ul></li><li><span><a href=\"#Защита-данных-клиентов-страховой-компании\" data-toc-modified-id=\"Защита-данных-клиентов-страховой-компании-2\"><span class=\"toc-item-num\">2&nbsp;&nbsp;</span>Защита данных клиентов страховой компании</a></span><ul class=\"toc-item\"><li><ul class=\"toc-item\"><li><span><a href=\"#Шаг-2.--Ответьте-на-вопрос-и-обоснуйте-решение.\" data-toc-modified-id=\"Шаг-2.--Ответьте-на-вопрос-и-обоснуйте-решение.-2.0.1\"><span class=\"toc-item-num\">2.0.1&nbsp;&nbsp;</span>Шаг 2.  Ответьте на вопрос и обоснуйте решение.</a></span></li><li><span><a href=\"#Теоретическое-обоснование:\" data-toc-modified-id=\"Теоретическое-обоснование:-2.0.2\"><span class=\"toc-item-num\">2.0.2&nbsp;&nbsp;</span>Теоретическое обоснование:</a></span></li><li><span><a href=\"#Вывод-по-шагу:\" data-toc-modified-id=\"Вывод-по-шагу:-2.0.3\"><span class=\"toc-item-num\">2.0.3&nbsp;&nbsp;</span>Вывод по шагу:</a></span></li></ul></li></ul></li><li><span><a href=\"#Предложите-алгоритм-преобразования-данных-для-решения-задачи.-Обоснуйте,-почему-качество-линейной-регрессии-не-поменяется.\" data-toc-modified-id=\"Предложите-алгоритм-преобразования-данных-для-решения-задачи.-Обоснуйте,-почему-качество-линейной-регрессии-не-поменяется.-3\"><span class=\"toc-item-num\">3&nbsp;&nbsp;</span>Предложите алгоритм преобразования данных для решения задачи. Обоснуйте, почему качество линейной регрессии не поменяется.</a></span></li><li><span><a href=\"#Запрограммируйте-этот-алгоритм,-применив-матричные-операции.\" data-toc-modified-id=\"Запрограммируйте-этот-алгоритм,-применив-матричные-операции.-4\"><span class=\"toc-item-num\">4&nbsp;&nbsp;</span>Запрограммируйте этот алгоритм, применив матричные операции.</a></span></li><li><span><a href=\"#Вывод-по-проекту\" data-toc-modified-id=\"Вывод-по-проекту-5\"><span class=\"toc-item-num\">5&nbsp;&nbsp;</span>Вывод по проекту</a></span></li><li><span><a href=\"#Чек-лист-проверки\" data-toc-modified-id=\"Чек-лист-проверки-6\"><span class=\"toc-item-num\">6&nbsp;&nbsp;</span>Чек-лист проверки</a></span></li></ul></div>"
   ]
  },
  {
   "cell_type": "markdown",
   "metadata": {},
   "source": [
    "# Защита персональных данных клиентов"
   ]
  },
  {
   "cell_type": "markdown",
   "metadata": {},
   "source": [
    "Вам нужно защитить данные клиентов страховой компании «Хоть потоп». Разработайте такой метод преобразования данных, чтобы по ним было сложно восстановить персональную информацию. Обоснуйте корректность его работы.\n",
    "\n",
    "Нужно защитить данные, чтобы при преобразовании качество моделей машинного обучения не ухудшилось. Подбирать наилучшую модель не требуется."
   ]
  },
  {
   "cell_type": "markdown",
   "metadata": {},
   "source": [
    "<div class=\"alert alert-success\">\n",
    "<font size=\"5\"><b>Комментарий ревьюера</b></font>\n",
    "\n",
    "Успех 👍:\n",
    "\n",
    "\n",
    "Вступление в работу очень важно, так человек, который смотрит твой проект (и на работе в том числе) будет сразу введен в курс дела.\n",
    "\n",
    "\n",
    "\n",
    "\n",
    "\n",
    "</div>"
   ]
  },
  {
   "cell_type": "markdown",
   "metadata": {},
   "source": [
    "## Загрузка данных"
   ]
  },
  {
   "cell_type": "markdown",
   "metadata": {},
   "source": [
    "#### Шаг 1. Загрузите и изучите данные."
   ]
  },
  {
   "cell_type": "code",
   "execution_count": 22,
   "metadata": {
    "ExecuteTime": {
     "end_time": "2022-12-30T09:39:21.386214Z",
     "start_time": "2022-12-30T09:39:21.382890Z"
    }
   },
   "outputs": [],
   "source": [
    "import pandas as pd\n",
    "import numpy as np\n",
    "import seaborn as sns\n",
    "import random\n",
    "import matplotlib.pyplot as plt\n",
    "from sklearn.metrics import r2_score\n",
    "from sklearn.model_selection import train_test_split\n",
    "from sklearn.linear_model import LinearRegression\n",
    "from statsmodels.stats.outliers_influence import variance_inflation_factor  \n",
    "from statsmodels.tools.tools import add_constant  "
   ]
  },
  {
   "cell_type": "markdown",
   "metadata": {},
   "source": [
    "\n",
    "<div class=\"alert alert-success\">\n",
    "<font size=\"5\"><b>Комментарий ревьюера</b></font>\n",
    "\n",
    "Успех:\n",
    "\n",
    "Собираем все импорты в верхней части, чтобы легче было ориентироваться и добавлять новые по необходимости. \n",
    "\n",
    "\n",
    "<div class=\"alert alert-warning\">\n",
    "\n",
    "Совет:     \n",
    "\n",
    "\n",
    "- кстати есть рекомендации PEP-8 при написании кода, в том числе и для импортов. Если интересно можешь почитать [тут](https://pythonworld.ru/osnovy/pep-8-rukovodstvo-po-napisaniyu-koda-na-python.html), это на будущее \n"
   ]
  },
  {
   "cell_type": "markdown",
   "metadata": {},
   "source": [
    "<div class=\"alert alert-danger\">\n",
    "    <div class=\"alert alert-warning\" role=\"alert\">\n",
    "      Комментарий студента: Почитал, выставил первыми импорты стандартных либ и через строку сторонних\n",
    "    </div>    \n",
    "</div>"
   ]
  },
  {
   "cell_type": "markdown",
   "metadata": {},
   "source": [
    "<div class=\"alert alert-warning\">\n",
    "<font size=\"5\"><b>Комментарий ревьюераV2</b></font>\n",
    "\n",
    "\n",
    "\n",
    "Совет 🤔:\n",
    "\n",
    "\n",
    "Тут все стандартные.  Сторонние Мы загружаем через pip install\n",
    "</div>\n"
   ]
  },
  {
   "cell_type": "markdown",
   "metadata": {},
   "source": [
    "<div class=\"alert alert-danger\">\n",
    "    <div class=\"alert alert-warning\" role=\"alert\">\n",
    "      Комментарий студента 2: Понял, спасибо :) \n",
    "    </div>    \n",
    "</div>"
   ]
  },
  {
   "cell_type": "markdown",
   "metadata": {},
   "source": [
    "<div class=\"alert alert-success\">\n",
    "<font size=\"5\"><b>Комментарий ревьюераV3</b></font>\n",
    "\n",
    "\n",
    "\n",
    "Успех 👍:\n",
    "\n",
    "\n",
    "\n",
    "👍\n",
    "\n",
    "\n",
    "\n",
    "\n",
    "</div>\n"
   ]
  },
  {
   "cell_type": "code",
   "execution_count": 23,
   "metadata": {
    "ExecuteTime": {
     "end_time": "2022-12-30T09:39:21.393818Z",
     "start_time": "2022-12-30T09:39:21.388241Z"
    }
   },
   "outputs": [],
   "source": [
    "df = pd.read_csv('/datasets/insurance.csv')"
   ]
  },
  {
   "cell_type": "code",
   "execution_count": 24,
   "metadata": {
    "ExecuteTime": {
     "end_time": "2022-12-30T09:39:21.401324Z",
     "start_time": "2022-12-30T09:39:21.395899Z"
    }
   },
   "outputs": [],
   "source": [
    "#напишем функцию для обзора данных\n",
    "def data_info(dataset):\n",
    "    cols = dataset.columns\n",
    "    colours = ['#000099', '#ffff00'] \n",
    "    sns.heatmap(dataset[cols].isnull(), cmap=sns.color_palette(colours))\n",
    "    print('Head:')\n",
    "    display(dataset.head())\n",
    "    print('')\n",
    "    print('Corr:')\n",
    "    display(dataset.corr())\n",
    "    df_plot = sns.heatmap(dataset.corr(), cmap=\"YlGnBu\", annot=True)      \n",
    "    plt.show()\n",
    "    \n",
    "    print('')\n",
    "    print('Multicollinear:')\n",
    "    print('')\n",
    "    X = add_constant(dataset)  \n",
    "    ds=pd.Series([variance_inflation_factor(X.values, i)   \n",
    "                   for i in range(X.shape[1])],   \n",
    "                  index=X.columns)  \n",
    "    print(ds)\n",
    "    print('')\n",
    "    print('Describe:')\n",
    "    print('')\n",
    "    display(dataset.describe())  \n",
    "    print('Info:')\n",
    "    print('')\n",
    "    display(dataset.info())   \n",
    "    print('Duplicated:')\n",
    "    #print('')\n",
    "    display(dataset[dataset.duplicated ()])"
   ]
  },
  {
   "cell_type": "code",
   "execution_count": 25,
   "metadata": {
    "ExecuteTime": {
     "end_time": "2022-12-30T09:39:21.847936Z",
     "start_time": "2022-12-30T09:39:21.402738Z"
    }
   },
   "outputs": [
    {
     "name": "stdout",
     "output_type": "stream",
     "text": [
      "Head:\n"
     ]
    },
    {
     "data": {
      "text/html": [
       "<div>\n",
       "<style scoped>\n",
       "    .dataframe tbody tr th:only-of-type {\n",
       "        vertical-align: middle;\n",
       "    }\n",
       "\n",
       "    .dataframe tbody tr th {\n",
       "        vertical-align: top;\n",
       "    }\n",
       "\n",
       "    .dataframe thead th {\n",
       "        text-align: right;\n",
       "    }\n",
       "</style>\n",
       "<table border=\"1\" class=\"dataframe\">\n",
       "  <thead>\n",
       "    <tr style=\"text-align: right;\">\n",
       "      <th></th>\n",
       "      <th>Пол</th>\n",
       "      <th>Возраст</th>\n",
       "      <th>Зарплата</th>\n",
       "      <th>Члены семьи</th>\n",
       "      <th>Страховые выплаты</th>\n",
       "    </tr>\n",
       "  </thead>\n",
       "  <tbody>\n",
       "    <tr>\n",
       "      <th>0</th>\n",
       "      <td>1</td>\n",
       "      <td>41.0</td>\n",
       "      <td>49600.0</td>\n",
       "      <td>1</td>\n",
       "      <td>0</td>\n",
       "    </tr>\n",
       "    <tr>\n",
       "      <th>1</th>\n",
       "      <td>0</td>\n",
       "      <td>46.0</td>\n",
       "      <td>38000.0</td>\n",
       "      <td>1</td>\n",
       "      <td>1</td>\n",
       "    </tr>\n",
       "    <tr>\n",
       "      <th>2</th>\n",
       "      <td>0</td>\n",
       "      <td>29.0</td>\n",
       "      <td>21000.0</td>\n",
       "      <td>0</td>\n",
       "      <td>0</td>\n",
       "    </tr>\n",
       "    <tr>\n",
       "      <th>3</th>\n",
       "      <td>0</td>\n",
       "      <td>21.0</td>\n",
       "      <td>41700.0</td>\n",
       "      <td>2</td>\n",
       "      <td>0</td>\n",
       "    </tr>\n",
       "    <tr>\n",
       "      <th>4</th>\n",
       "      <td>1</td>\n",
       "      <td>28.0</td>\n",
       "      <td>26100.0</td>\n",
       "      <td>0</td>\n",
       "      <td>0</td>\n",
       "    </tr>\n",
       "  </tbody>\n",
       "</table>\n",
       "</div>"
      ],
      "text/plain": [
       "   Пол  Возраст  Зарплата  Члены семьи  Страховые выплаты\n",
       "0    1     41.0   49600.0            1                  0\n",
       "1    0     46.0   38000.0            1                  1\n",
       "2    0     29.0   21000.0            0                  0\n",
       "3    0     21.0   41700.0            2                  0\n",
       "4    1     28.0   26100.0            0                  0"
      ]
     },
     "metadata": {},
     "output_type": "display_data"
    },
    {
     "name": "stdout",
     "output_type": "stream",
     "text": [
      "\n",
      "Corr:\n"
     ]
    },
    {
     "data": {
      "text/html": [
       "<div>\n",
       "<style scoped>\n",
       "    .dataframe tbody tr th:only-of-type {\n",
       "        vertical-align: middle;\n",
       "    }\n",
       "\n",
       "    .dataframe tbody tr th {\n",
       "        vertical-align: top;\n",
       "    }\n",
       "\n",
       "    .dataframe thead th {\n",
       "        text-align: right;\n",
       "    }\n",
       "</style>\n",
       "<table border=\"1\" class=\"dataframe\">\n",
       "  <thead>\n",
       "    <tr style=\"text-align: right;\">\n",
       "      <th></th>\n",
       "      <th>Пол</th>\n",
       "      <th>Возраст</th>\n",
       "      <th>Зарплата</th>\n",
       "      <th>Члены семьи</th>\n",
       "      <th>Страховые выплаты</th>\n",
       "    </tr>\n",
       "  </thead>\n",
       "  <tbody>\n",
       "    <tr>\n",
       "      <th>Пол</th>\n",
       "      <td>1.000000</td>\n",
       "      <td>0.002074</td>\n",
       "      <td>0.014910</td>\n",
       "      <td>-0.008991</td>\n",
       "      <td>0.010140</td>\n",
       "    </tr>\n",
       "    <tr>\n",
       "      <th>Возраст</th>\n",
       "      <td>0.002074</td>\n",
       "      <td>1.000000</td>\n",
       "      <td>-0.019093</td>\n",
       "      <td>-0.006692</td>\n",
       "      <td>0.651030</td>\n",
       "    </tr>\n",
       "    <tr>\n",
       "      <th>Зарплата</th>\n",
       "      <td>0.014910</td>\n",
       "      <td>-0.019093</td>\n",
       "      <td>1.000000</td>\n",
       "      <td>-0.030296</td>\n",
       "      <td>-0.014963</td>\n",
       "    </tr>\n",
       "    <tr>\n",
       "      <th>Члены семьи</th>\n",
       "      <td>-0.008991</td>\n",
       "      <td>-0.006692</td>\n",
       "      <td>-0.030296</td>\n",
       "      <td>1.000000</td>\n",
       "      <td>-0.036290</td>\n",
       "    </tr>\n",
       "    <tr>\n",
       "      <th>Страховые выплаты</th>\n",
       "      <td>0.010140</td>\n",
       "      <td>0.651030</td>\n",
       "      <td>-0.014963</td>\n",
       "      <td>-0.036290</td>\n",
       "      <td>1.000000</td>\n",
       "    </tr>\n",
       "  </tbody>\n",
       "</table>\n",
       "</div>"
      ],
      "text/plain": [
       "                        Пол   Возраст  Зарплата  Члены семьи  \\\n",
       "Пол                1.000000  0.002074  0.014910    -0.008991   \n",
       "Возраст            0.002074  1.000000 -0.019093    -0.006692   \n",
       "Зарплата           0.014910 -0.019093  1.000000    -0.030296   \n",
       "Члены семьи       -0.008991 -0.006692 -0.030296     1.000000   \n",
       "Страховые выплаты  0.010140  0.651030 -0.014963    -0.036290   \n",
       "\n",
       "                   Страховые выплаты  \n",
       "Пол                         0.010140  \n",
       "Возраст                     0.651030  \n",
       "Зарплата                   -0.014963  \n",
       "Члены семьи                -0.036290  \n",
       "Страховые выплаты           1.000000  "
      ]
     },
     "metadata": {},
     "output_type": "display_data"
    },
    {
     "data": {
      "image/png": "[encoded data removed]",
      "text/plain": [
       "<Figure size 640x480 with 3 Axes>"
      ]
     },
     "metadata": {},
     "output_type": "display_data"
    },
    {
     "name": "stdout",
     "output_type": "stream",
     "text": [
      "\n",
      "Multicollinear:\n",
      "\n",
      "const                40.853467\n",
      "Пол                   1.000428\n",
      "Возраст               1.736785\n",
      "Зарплата              1.001531\n",
      "Члены семьи           1.002822\n",
      "Страховые выплаты     1.738966\n",
      "dtype: float64\n",
      "\n",
      "Describe:\n",
      "\n"
     ]
    },
    {
     "data": {
      "text/html": [
       "<div>\n",
       "<style scoped>\n",
       "    .dataframe tbody tr th:only-of-type {\n",
       "        vertical-align: middle;\n",
       "    }\n",
       "\n",
       "    .dataframe tbody tr th {\n",
       "        vertical-align: top;\n",
       "    }\n",
       "\n",
       "    .dataframe thead th {\n",
       "        text-align: right;\n",
       "    }\n",
       "</style>\n",
       "<table border=\"1\" class=\"dataframe\">\n",
       "  <thead>\n",
       "    <tr style=\"text-align: right;\">\n",
       "      <th></th>\n",
       "      <th>Пол</th>\n",
       "      <th>Возраст</th>\n",
       "      <th>Зарплата</th>\n",
       "      <th>Члены семьи</th>\n",
       "      <th>Страховые выплаты</th>\n",
       "    </tr>\n",
       "  </thead>\n",
       "  <tbody>\n",
       "    <tr>\n",
       "      <th>count</th>\n",
       "      <td>5000.000000</td>\n",
       "      <td>5000.000000</td>\n",
       "      <td>5000.000000</td>\n",
       "      <td>5000.000000</td>\n",
       "      <td>5000.000000</td>\n",
       "    </tr>\n",
       "    <tr>\n",
       "      <th>mean</th>\n",
       "      <td>0.499000</td>\n",
       "      <td>30.952800</td>\n",
       "      <td>39916.360000</td>\n",
       "      <td>1.194200</td>\n",
       "      <td>0.148000</td>\n",
       "    </tr>\n",
       "    <tr>\n",
       "      <th>std</th>\n",
       "      <td>0.500049</td>\n",
       "      <td>8.440807</td>\n",
       "      <td>9900.083569</td>\n",
       "      <td>1.091387</td>\n",
       "      <td>0.463183</td>\n",
       "    </tr>\n",
       "    <tr>\n",
       "      <th>min</th>\n",
       "      <td>0.000000</td>\n",
       "      <td>18.000000</td>\n",
       "      <td>5300.000000</td>\n",
       "      <td>0.000000</td>\n",
       "      <td>0.000000</td>\n",
       "    </tr>\n",
       "    <tr>\n",
       "      <th>25%</th>\n",
       "      <td>0.000000</td>\n",
       "      <td>24.000000</td>\n",
       "      <td>33300.000000</td>\n",
       "      <td>0.000000</td>\n",
       "      <td>0.000000</td>\n",
       "    </tr>\n",
       "    <tr>\n",
       "      <th>50%</th>\n",
       "      <td>0.000000</td>\n",
       "      <td>30.000000</td>\n",
       "      <td>40200.000000</td>\n",
       "      <td>1.000000</td>\n",
       "      <td>0.000000</td>\n",
       "    </tr>\n",
       "    <tr>\n",
       "      <th>75%</th>\n",
       "      <td>1.000000</td>\n",
       "      <td>37.000000</td>\n",
       "      <td>46600.000000</td>\n",
       "      <td>2.000000</td>\n",
       "      <td>0.000000</td>\n",
       "    </tr>\n",
       "    <tr>\n",
       "      <th>max</th>\n",
       "      <td>1.000000</td>\n",
       "      <td>65.000000</td>\n",
       "      <td>79000.000000</td>\n",
       "      <td>6.000000</td>\n",
       "      <td>5.000000</td>\n",
       "    </tr>\n",
       "  </tbody>\n",
       "</table>\n",
       "</div>"
      ],
      "text/plain": [
       "               Пол      Возраст      Зарплата  Члены семьи  Страховые выплаты\n",
       "count  5000.000000  5000.000000   5000.000000  5000.000000        5000.000000\n",
       "mean      0.499000    30.952800  39916.360000     1.194200           0.148000\n",
       "std       0.500049     8.440807   9900.083569     1.091387           0.463183\n",
       "min       0.000000    18.000000   5300.000000     0.000000           0.000000\n",
       "25%       0.000000    24.000000  33300.000000     0.000000           0.000000\n",
       "50%       0.000000    30.000000  40200.000000     1.000000           0.000000\n",
       "75%       1.000000    37.000000  46600.000000     2.000000           0.000000\n",
       "max       1.000000    65.000000  79000.000000     6.000000           5.000000"
      ]
     },
     "metadata": {},
     "output_type": "display_data"
    },
    {
     "name": "stdout",
     "output_type": "stream",
     "text": [
      "Info:\n",
      "\n",
      "<class 'pandas.core.frame.DataFrame'>\n",
      "RangeIndex: 5000 entries, 0 to 4999\n",
      "Data columns (total 5 columns):\n",
      " #   Column             Non-Null Count  Dtype  \n",
      "---  ------             --------------  -----  \n",
      " 0   Пол                5000 non-null   int64  \n",
      " 1   Возраст            5000 non-null   float64\n",
      " 2   Зарплата           5000 non-null   float64\n",
      " 3   Члены семьи        5000 non-null   int64  \n",
      " 4   Страховые выплаты  5000 non-null   int64  \n",
      "dtypes: float64(2), int64(3)\n",
      "memory usage: 195.4 KB\n"
     ]
    },
    {
     "data": {
      "text/plain": [
       "None"
      ]
     },
     "metadata": {},
     "output_type": "display_data"
    },
    {
     "name": "stdout",
     "output_type": "stream",
     "text": [
      "Duplicated:\n"
     ]
    },
    {
     "data": {
      "text/html": [
       "<div>\n",
       "<style scoped>\n",
       "    .dataframe tbody tr th:only-of-type {\n",
       "        vertical-align: middle;\n",
       "    }\n",
       "\n",
       "    .dataframe tbody tr th {\n",
       "        vertical-align: top;\n",
       "    }\n",
       "\n",
       "    .dataframe thead th {\n",
       "        text-align: right;\n",
       "    }\n",
       "</style>\n",
       "<table border=\"1\" class=\"dataframe\">\n",
       "  <thead>\n",
       "    <tr style=\"text-align: right;\">\n",
       "      <th></th>\n",
       "      <th>Пол</th>\n",
       "      <th>Возраст</th>\n",
       "      <th>Зарплата</th>\n",
       "      <th>Члены семьи</th>\n",
       "      <th>Страховые выплаты</th>\n",
       "    </tr>\n",
       "  </thead>\n",
       "  <tbody>\n",
       "    <tr>\n",
       "      <th>281</th>\n",
       "      <td>1</td>\n",
       "      <td>39.0</td>\n",
       "      <td>48100.0</td>\n",
       "      <td>1</td>\n",
       "      <td>0</td>\n",
       "    </tr>\n",
       "    <tr>\n",
       "      <th>488</th>\n",
       "      <td>1</td>\n",
       "      <td>24.0</td>\n",
       "      <td>32900.0</td>\n",
       "      <td>1</td>\n",
       "      <td>0</td>\n",
       "    </tr>\n",
       "    <tr>\n",
       "      <th>513</th>\n",
       "      <td>0</td>\n",
       "      <td>31.0</td>\n",
       "      <td>37400.0</td>\n",
       "      <td>2</td>\n",
       "      <td>0</td>\n",
       "    </tr>\n",
       "    <tr>\n",
       "      <th>718</th>\n",
       "      <td>1</td>\n",
       "      <td>22.0</td>\n",
       "      <td>32600.0</td>\n",
       "      <td>1</td>\n",
       "      <td>0</td>\n",
       "    </tr>\n",
       "    <tr>\n",
       "      <th>785</th>\n",
       "      <td>0</td>\n",
       "      <td>20.0</td>\n",
       "      <td>35800.0</td>\n",
       "      <td>0</td>\n",
       "      <td>0</td>\n",
       "    </tr>\n",
       "    <tr>\n",
       "      <th>...</th>\n",
       "      <td>...</td>\n",
       "      <td>...</td>\n",
       "      <td>...</td>\n",
       "      <td>...</td>\n",
       "      <td>...</td>\n",
       "    </tr>\n",
       "    <tr>\n",
       "      <th>4793</th>\n",
       "      <td>1</td>\n",
       "      <td>24.0</td>\n",
       "      <td>37800.0</td>\n",
       "      <td>0</td>\n",
       "      <td>0</td>\n",
       "    </tr>\n",
       "    <tr>\n",
       "      <th>4902</th>\n",
       "      <td>1</td>\n",
       "      <td>35.0</td>\n",
       "      <td>38700.0</td>\n",
       "      <td>1</td>\n",
       "      <td>0</td>\n",
       "    </tr>\n",
       "    <tr>\n",
       "      <th>4935</th>\n",
       "      <td>1</td>\n",
       "      <td>19.0</td>\n",
       "      <td>32700.0</td>\n",
       "      <td>0</td>\n",
       "      <td>0</td>\n",
       "    </tr>\n",
       "    <tr>\n",
       "      <th>4945</th>\n",
       "      <td>1</td>\n",
       "      <td>21.0</td>\n",
       "      <td>45800.0</td>\n",
       "      <td>0</td>\n",
       "      <td>0</td>\n",
       "    </tr>\n",
       "    <tr>\n",
       "      <th>4965</th>\n",
       "      <td>0</td>\n",
       "      <td>22.0</td>\n",
       "      <td>40100.0</td>\n",
       "      <td>1</td>\n",
       "      <td>0</td>\n",
       "    </tr>\n",
       "  </tbody>\n",
       "</table>\n",
       "<p>153 rows × 5 columns</p>\n",
       "</div>"
      ],
      "text/plain": [
       "      Пол  Возраст  Зарплата  Члены семьи  Страховые выплаты\n",
       "281     1     39.0   48100.0            1                  0\n",
       "488     1     24.0   32900.0            1                  0\n",
       "513     0     31.0   37400.0            2                  0\n",
       "718     1     22.0   32600.0            1                  0\n",
       "785     0     20.0   35800.0            0                  0\n",
       "...   ...      ...       ...          ...                ...\n",
       "4793    1     24.0   37800.0            0                  0\n",
       "4902    1     35.0   38700.0            1                  0\n",
       "4935    1     19.0   32700.0            0                  0\n",
       "4945    1     21.0   45800.0            0                  0\n",
       "4965    0     22.0   40100.0            1                  0\n",
       "\n",
       "[153 rows x 5 columns]"
      ]
     },
     "metadata": {},
     "output_type": "display_data"
    }
   ],
   "source": [
    "data_info(df)"
   ]
  },
  {
   "cell_type": "code",
   "execution_count": 26,
   "metadata": {
    "ExecuteTime": {
     "end_time": "2022-12-30T09:39:21.856442Z",
     "start_time": "2022-12-30T09:39:21.851893Z"
    }
   },
   "outputs": [
    {
     "data": {
      "text/plain": [
       "[1, 0]"
      ]
     },
     "execution_count": 26,
     "metadata": {},
     "output_type": "execute_result"
    }
   ],
   "source": [
    "list(df['Пол'].unique())"
   ]
  },
  {
   "cell_type": "code",
   "execution_count": 27,
   "metadata": {
    "ExecuteTime": {
     "end_time": "2022-12-30T09:39:21.870346Z",
     "start_time": "2022-12-30T09:39:21.858502Z"
    }
   },
   "outputs": [
    {
     "data": {
      "text/plain": [
       "[41.0,\n",
       " 46.0,\n",
       " 29.0,\n",
       " 21.0,\n",
       " 28.0,\n",
       " 43.0,\n",
       " 39.0,\n",
       " 25.0,\n",
       " 36.0,\n",
       " 32.0,\n",
       " 38.0,\n",
       " 23.0,\n",
       " 40.0,\n",
       " 34.0,\n",
       " 26.0,\n",
       " 42.0,\n",
       " 27.0,\n",
       " 33.0,\n",
       " 47.0,\n",
       " 30.0,\n",
       " 19.0,\n",
       " 31.0,\n",
       " 22.0,\n",
       " 20.0,\n",
       " 24.0,\n",
       " 18.0,\n",
       " 37.0,\n",
       " 48.0,\n",
       " 45.0,\n",
       " 44.0,\n",
       " 52.0,\n",
       " 49.0,\n",
       " 35.0,\n",
       " 56.0,\n",
       " 65.0,\n",
       " 55.0,\n",
       " 57.0,\n",
       " 54.0,\n",
       " 50.0,\n",
       " 53.0,\n",
       " 51.0,\n",
       " 58.0,\n",
       " 59.0,\n",
       " 60.0,\n",
       " 61.0,\n",
       " 62.0]"
      ]
     },
     "execution_count": 27,
     "metadata": {},
     "output_type": "execute_result"
    }
   ],
   "source": [
    "list(df['Возраст'].unique())"
   ]
  },
  {
   "cell_type": "code",
   "execution_count": 28,
   "metadata": {
    "ExecuteTime": {
     "end_time": "2022-12-30T09:39:21.887376Z",
     "start_time": "2022-12-30T09:39:21.873121Z"
    }
   },
   "outputs": [
    {
     "data": {
      "text/plain": [
       "[49600.0,\n",
       " 38000.0,\n",
       " 21000.0,\n",
       " 41700.0,\n",
       " 26100.0,\n",
       " 41000.0,\n",
       " 39700.0,\n",
       " 38600.0,\n",
       " 49700.0,\n",
       " 51700.0,\n",
       " 36600.0,\n",
       " 29300.0,\n",
       " 39500.0,\n",
       " 55000.0,\n",
       " 43700.0,\n",
       " 23300.0,\n",
       " 48900.0,\n",
       " 33200.0,\n",
       " 36900.0,\n",
       " 43500.0,\n",
       " 36100.0,\n",
       " 26600.0,\n",
       " 48700.0,\n",
       " 40400.0,\n",
       " 38400.0,\n",
       " 34600.0,\n",
       " 34800.0,\n",
       " 36800.0,\n",
       " 42200.0,\n",
       " 46300.0,\n",
       " 30300.0,\n",
       " 51000.0,\n",
       " 28100.0,\n",
       " 64800.0,\n",
       " 30400.0,\n",
       " 45300.0,\n",
       " 38300.0,\n",
       " 49500.0,\n",
       " 19400.0,\n",
       " 40200.0,\n",
       " 31700.0,\n",
       " 69200.0,\n",
       " 33100.0,\n",
       " 31600.0,\n",
       " 34500.0,\n",
       " 38700.0,\n",
       " 39600.0,\n",
       " 42400.0,\n",
       " 34900.0,\n",
       " 30500.0,\n",
       " 24200.0,\n",
       " 49900.0,\n",
       " 14300.0,\n",
       " 47000.0,\n",
       " 44800.0,\n",
       " 43800.0,\n",
       " 42700.0,\n",
       " 35400.0,\n",
       " 57200.0,\n",
       " 29600.0,\n",
       " 37400.0,\n",
       " 48100.0,\n",
       " 33700.0,\n",
       " 61800.0,\n",
       " 39400.0,\n",
       " 15600.0,\n",
       " 52600.0,\n",
       " 37600.0,\n",
       " 52500.0,\n",
       " 32700.000000000004,\n",
       " 51600.0,\n",
       " 60900.0,\n",
       " 41800.0,\n",
       " 47400.0,\n",
       " 26500.0,\n",
       " 45900.0,\n",
       " 35700.0,\n",
       " 34300.0,\n",
       " 26700.0,\n",
       " 25700.0,\n",
       " 33300.0,\n",
       " 31100.0,\n",
       " 31500.0,\n",
       " 42100.0,\n",
       " 37300.0,\n",
       " 42500.0,\n",
       " 27300.0,\n",
       " 46800.0,\n",
       " 33500.0,\n",
       " 44300.0,\n",
       " 41600.0,\n",
       " 53900.0,\n",
       " 40100.0,\n",
       " 44600.0,\n",
       " 45000.0,\n",
       " 32000.0,\n",
       " 38200.0,\n",
       " 33000.0,\n",
       " 38500.0,\n",
       " 51800.0,\n",
       " 33800.0,\n",
       " 46400.0,\n",
       " 43200.0,\n",
       " 31800.0,\n",
       " 50200.0,\n",
       " 35100.0,\n",
       " 30700.0,\n",
       " 45800.0,\n",
       " 49300.0,\n",
       " 42800.0,\n",
       " 33600.0,\n",
       " 50300.0,\n",
       " 34000.0,\n",
       " 36400.0,\n",
       " 44900.0,\n",
       " 43600.0,\n",
       " 54600.0,\n",
       " 52800.0,\n",
       " 29700.0,\n",
       " 39000.0,\n",
       " 44100.0,\n",
       " 31900.0,\n",
       " 37700.0,\n",
       " 35200.0,\n",
       " 43100.0,\n",
       " 51300.0,\n",
       " 47500.0,\n",
       " 40800.0,\n",
       " 26800.0,\n",
       " 64900.00000000001,\n",
       " 35900.0,\n",
       " 31200.0,\n",
       " 39900.0,\n",
       " 43300.0,\n",
       " 33900.0,\n",
       " 40700.0,\n",
       " 44700.0,\n",
       " 53400.0,\n",
       " 30600.0,\n",
       " 56000.0,\n",
       " 35600.0,\n",
       " 55200.0,\n",
       " 40600.0,\n",
       " 48300.0,\n",
       " 50800.0,\n",
       " 41200.0,\n",
       " 44200.0,\n",
       " 44400.0,\n",
       " 40500.0,\n",
       " 39800.0,\n",
       " 16600.0,\n",
       " 48400.0,\n",
       " 25100.0,\n",
       " 23100.0,\n",
       " 32100.0,\n",
       " 31000.0,\n",
       " 42900.0,\n",
       " 46700.0,\n",
       " 26000.0,\n",
       " 55900.0,\n",
       " 52000.0,\n",
       " 41500.0,\n",
       " 49400.0,\n",
       " 60300.0,\n",
       " 45600.0,\n",
       " 49000.0,\n",
       " 37500.0,\n",
       " 21900.0,\n",
       " 45100.0,\n",
       " 47900.0,\n",
       " 54300.0,\n",
       " 32400.0,\n",
       " 41300.0,\n",
       " 44500.0,\n",
       " 23200.0,\n",
       " 37900.0,\n",
       " 48000.0,\n",
       " 52100.0,\n",
       " 45700.0,\n",
       " 29900.0,\n",
       " 42600.0,\n",
       " 45200.0,\n",
       " 36000.0,\n",
       " 46500.0,\n",
       " 23800.0,\n",
       " 30200.0,\n",
       " 24400.0,\n",
       " 32800.0,\n",
       " 29000.0,\n",
       " 43400.0,\n",
       " 51500.0,\n",
       " 61700.0,\n",
       " 45400.0,\n",
       " 50700.0,\n",
       " 36200.0,\n",
       " 41900.0,\n",
       " 27900.0,\n",
       " 47200.0,\n",
       " 48800.0,\n",
       " 55100.0,\n",
       " 48200.0,\n",
       " 35500.0,\n",
       " 35000.0,\n",
       " 43900.0,\n",
       " 40000.0,\n",
       " 22000.0,\n",
       " 40300.0,\n",
       " 36300.0,\n",
       " 49800.0,\n",
       " 25600.0,\n",
       " 42300.0,\n",
       " 54900.0,\n",
       " 25500.0,\n",
       " 32900.0,\n",
       " 36700.0,\n",
       " 38900.0,\n",
       " 24700.0,\n",
       " 28800.0,\n",
       " 22900.0,\n",
       " 47300.0,\n",
       " 14500.0,\n",
       " 28700.0,\n",
       " 44000.0,\n",
       " 34100.0,\n",
       " 53000.0,\n",
       " 59300.0,\n",
       " 28500.0,\n",
       " 47100.0,\n",
       " 41400.0,\n",
       " 58900.0,\n",
       " 17500.0,\n",
       " 54200.0,\n",
       " 43000.0,\n",
       " 29800.0,\n",
       " 20000.0,\n",
       " 13800.0,\n",
       " 27500.0,\n",
       " 67700.0,\n",
       " 28000.0,\n",
       " 37100.0,\n",
       " 8900.0,\n",
       " 14600.0,\n",
       " 56200.0,\n",
       " 38800.0,\n",
       " 27700.0,\n",
       " 50500.0,\n",
       " 58400.0,\n",
       " 34700.0,\n",
       " 34400.0,\n",
       " 49100.0,\n",
       " 50900.0,\n",
       " 28200.0,\n",
       " 61500.0,\n",
       " 32500.0,\n",
       " 25900.0,\n",
       " 9800.0,\n",
       " 28300.0,\n",
       " 41100.0,\n",
       " 62000.0,\n",
       " 32600.0,\n",
       " 37200.0,\n",
       " 53800.0,\n",
       " 24000.0,\n",
       " 53600.0,\n",
       " 54800.0,\n",
       " 59600.0,\n",
       " 20200.0,\n",
       " 21700.0,\n",
       " 29200.0,\n",
       " 38100.0,\n",
       " 20700.0,\n",
       " 32300.0,\n",
       " 21200.0,\n",
       " 62100.0,\n",
       " 54000.0,\n",
       " 24500.0,\n",
       " 51900.0,\n",
       " 47800.0,\n",
       " 56100.0,\n",
       " 55300.0,\n",
       " 58100.0,\n",
       " 28900.0,\n",
       " 39100.0,\n",
       " 58000.0,\n",
       " 27200.0,\n",
       " 24600.0,\n",
       " 30100.0,\n",
       " 57100.0,\n",
       " 60100.0,\n",
       " 22200.0,\n",
       " 47700.0,\n",
       " 24900.0,\n",
       " 37800.0,\n",
       " 52700.0,\n",
       " 34200.0,\n",
       " 18700.0,\n",
       " 42000.0,\n",
       " 26300.0,\n",
       " 22600.0,\n",
       " 30900.0,\n",
       " 35800.0,\n",
       " 30800.0,\n",
       " 51100.0,\n",
       " 53300.0,\n",
       " 46200.0,\n",
       " 24100.0,\n",
       " 54700.0,\n",
       " 51200.0,\n",
       " 62300.0,\n",
       " 51400.0,\n",
       " 40900.0,\n",
       " 23400.0,\n",
       " 35300.0,\n",
       " 55800.0,\n",
       " 33400.0,\n",
       " 21300.0,\n",
       " 30000.0,\n",
       " 56700.0,\n",
       " 46900.0,\n",
       " 5300.0,\n",
       " 39200.0,\n",
       " 57500.0,\n",
       " 31300.0,\n",
       " 53700.0,\n",
       " 21600.0,\n",
       " 50000.0,\n",
       " 36500.0,\n",
       " 16400.0,\n",
       " 15900.0,\n",
       " 65099.99999999999,\n",
       " 59900.0,\n",
       " 63200.0,\n",
       " 26200.0,\n",
       " 61200.0,\n",
       " 48500.0,\n",
       " 32200.000000000004,\n",
       " 29100.0,\n",
       " 50100.0,\n",
       " 22700.0,\n",
       " 28600.0,\n",
       " 23500.0,\n",
       " 23700.0,\n",
       " 19600.0,\n",
       " 17800.0,\n",
       " 50600.0,\n",
       " 57900.0,\n",
       " 22500.0,\n",
       " 22100.0,\n",
       " 58300.0,\n",
       " 64099.99999999999,\n",
       " 25000.0,\n",
       " 60400.0,\n",
       " 59100.0,\n",
       " 37000.0,\n",
       " 62400.0,\n",
       " 29500.0,\n",
       " 25800.0,\n",
       " 25400.0,\n",
       " 26900.0,\n",
       " 21500.0,\n",
       " 52200.0,\n",
       " 46600.0,\n",
       " 57300.0,\n",
       " 46100.0,\n",
       " 19300.0,\n",
       " 18900.0,\n",
       " 31400.0,\n",
       " 28400.0,\n",
       " 29400.0,\n",
       " 17600.0,\n",
       " 13900.0,\n",
       " 52400.0,\n",
       " 11300.0,\n",
       " 46000.0,\n",
       " 60500.0,\n",
       " 58700.0,\n",
       " 58200.0,\n",
       " 24800.0,\n",
       " 63700.0,\n",
       " 60600.0,\n",
       " 20400.0,\n",
       " 26400.0,\n",
       " 55600.0,\n",
       " 57000.0,\n",
       " 45500.0,\n",
       " 48600.0,\n",
       " 57600.0,\n",
       " 52900.0,\n",
       " 62800.0,\n",
       " 17000.0,\n",
       " 56500.0,\n",
       " 52300.0,\n",
       " 18400.0,\n",
       " 63300.0,\n",
       " 12900.0,\n",
       " 27000.0,\n",
       " 55700.0,\n",
       " 39300.0,\n",
       " 27800.0,\n",
       " 18300.0,\n",
       " 56300.0,\n",
       " 59800.0,\n",
       " 24300.0,\n",
       " 14400.0,\n",
       " 13400.0,\n",
       " 17900.0,\n",
       " 47600.0,\n",
       " 54500.0,\n",
       " 54400.0,\n",
       " 23900.0,\n",
       " 13000.0,\n",
       " 19900.0,\n",
       " 55400.0,\n",
       " 22800.0,\n",
       " 61000.0,\n",
       " 57400.0,\n",
       " 23000.0,\n",
       " 20500.0,\n",
       " 53200.0,\n",
       " 18100.0,\n",
       " 25300.0,\n",
       " 59500.0,\n",
       " 18200.0,\n",
       " 50400.0,\n",
       " 21100.0,\n",
       " 20900.0,\n",
       " 27400.0,\n",
       " 17300.0,\n",
       " 60700.0,\n",
       " 70600.0,\n",
       " 17700.0,\n",
       " 19700.0,\n",
       " 49200.0,\n",
       " 63100.0,\n",
       " 59200.0,\n",
       " 14700.0,\n",
       " 53100.0,\n",
       " 21800.0,\n",
       " 68000.0,\n",
       " 16500.0,\n",
       " 71400.0,\n",
       " 10000.0,\n",
       " 55500.0,\n",
       " 54100.0,\n",
       " 56400.0,\n",
       " 20600.0,\n",
       " 66300.0,\n",
       " 18800.0,\n",
       " 11000.0,\n",
       " 66100.0,\n",
       " 27100.0,\n",
       " 57800.0,\n",
       " 53500.0,\n",
       " 19200.0,\n",
       " 58500.0,\n",
       " 64000.0,\n",
       " 63600.0,\n",
       " 23600.0,\n",
       " 25200.0,\n",
       " 19100.0,\n",
       " 18600.0,\n",
       " 57700.0,\n",
       " 62700.0,\n",
       " 56600.0,\n",
       " 21400.0,\n",
       " 58800.0,\n",
       " 68400.0,\n",
       " 17100.0,\n",
       " 13300.0,\n",
       " 68500.0,\n",
       " 56900.0,\n",
       " 64400.00000000001,\n",
       " 27600.0,\n",
       " 67200.0,\n",
       " 16200.0,\n",
       " 58600.0,\n",
       " 62200.0,\n",
       " 16000.0,\n",
       " 79000.0,\n",
       " 22300.0,\n",
       " 11200.0,\n",
       " 71600.0,\n",
       " 61300.0,\n",
       " 70500.0,\n",
       " 67100.0,\n",
       " 59000.0,\n",
       " 13500.0,\n",
       " 16700.0,\n",
       " 15700.0,\n",
       " 60000.0,\n",
       " 17400.0,\n",
       " 63400.0,\n",
       " 61900.0,\n",
       " 65200.0,\n",
       " 62600.0,\n",
       " 14100.0,\n",
       " 20100.0,\n",
       " 63800.0,\n",
       " 15100.0,\n",
       " 70000.0,\n",
       " 60200.0,\n",
       " 20300.0,\n",
       " 65900.0,\n",
       " 15200.0,\n",
       " 63500.0,\n",
       " 13200.0,\n",
       " 68900.0,\n",
       " 12200.0,\n",
       " 6000.0,\n",
       " 74800.0,\n",
       " 59700.0,\n",
       " 10800.0,\n",
       " 19000.0,\n",
       " 10600.0,\n",
       " 69400.0,\n",
       " 15000.0,\n",
       " 75200.0,\n",
       " 62500.0,\n",
       " 16300.0,\n",
       " 20800.0,\n",
       " 7400.0,\n",
       " 65300.0,\n",
       " 61400.0,\n",
       " 56800.0]"
      ]
     },
     "execution_count": 28,
     "metadata": {},
     "output_type": "execute_result"
    }
   ],
   "source": [
    "list(df['Зарплата'].unique())"
   ]
  },
  {
   "cell_type": "code",
   "execution_count": 29,
   "metadata": {
    "ExecuteTime": {
     "end_time": "2022-12-30T09:39:21.894812Z",
     "start_time": "2022-12-30T09:39:21.890053Z"
    }
   },
   "outputs": [
    {
     "data": {
      "text/plain": [
       "[1, 0, 2, 4, 3, 5, 6]"
      ]
     },
     "execution_count": 29,
     "metadata": {},
     "output_type": "execute_result"
    }
   ],
   "source": [
    "list(df['Члены семьи'].unique())\n"
   ]
  },
  {
   "cell_type": "code",
   "execution_count": 30,
   "metadata": {
    "ExecuteTime": {
     "end_time": "2022-12-30T09:39:21.902701Z",
     "start_time": "2022-12-30T09:39:21.897341Z"
    }
   },
   "outputs": [
    {
     "data": {
      "text/plain": [
       "[0, 1, 2, 3, 5, 4]"
      ]
     },
     "execution_count": 30,
     "metadata": {},
     "output_type": "execute_result"
    }
   ],
   "source": [
    "list(df['Страховые выплаты'].unique())"
   ]
  },
  {
   "cell_type": "markdown",
   "metadata": {},
   "source": [
    "#### Результат первичного осмотра данных:\n",
    "\n",
    "- Всего 5 столбцов\n",
    "- 5000 строк\n",
    "- Наименования столбцов переименуем, т.к.  не очень удобно с русскими работать. \n",
    "- Полу int (так и оставим)\n",
    "- Столбец возраст целочисленный, можно преобразовать в интеджер\n",
    "- Зарплата тоже по большей части имеет целочисленный тип данных, за исключением некоторых выбросов наподобие **32700.000000000004**, такие  малые доли можно игнорировать, а значит переведем в интеджер\n",
    "- Члены семьи  и страховые выплаты **int**\n",
    "- Наблюдается средняя корреляция возраста от количества страховых выплат\n",
    "- Даные вероятней всего синтетические, разброс зарплат от  5000 до 79000 не кажется реальным\n",
    "- Есть 153 строки дубликатов\n",
    "- Данные однородны, без пропусков\n"
   ]
  },
  {
   "cell_type": "markdown",
   "metadata": {
    "ExecuteTime": {
     "end_time": "2022-12-28T12:38:55.422725Z",
     "start_time": "2022-12-28T12:38:55.418858Z"
    }
   },
   "source": [
    "#### Предобработка данных"
   ]
  },
  {
   "cell_type": "code",
   "execution_count": 31,
   "metadata": {
    "ExecuteTime": {
     "end_time": "2022-12-30T09:39:21.912133Z",
     "start_time": "2022-12-30T09:39:21.905048Z"
    }
   },
   "outputs": [],
   "source": [
    "df.columns = ['sex', 'age', 'salary', 'family_members', 'insurance_cnt']\n",
    "df.age = df.age.astype(int)\n",
    "df.salary = df.salary.astype(int)\n",
    "df = df.drop_duplicates()"
   ]
  },
  {
   "cell_type": "markdown",
   "metadata": {},
   "source": [
    "<div class=\"alert alert-success\">\n",
    "<font size=\"5\"><b>Комментарий ревьюера</b></font>\n",
    "\n",
    "Успех 👍: \n",
    "    \n",
    "EDA проведено.  \n",
    "\n",
    "\n",
    "    \n",
    "<div class=\"alert alert-warning\">\n",
    "\n",
    "\n",
    "Совет 🤔: \n",
    "    \n",
    "    \n",
    "- Ты посмотрел корреляцию. Известно ли тебе понятие мультиколлиниарность, какие 2 типа проблемы вызывает она и для каких моделей, и почему для данного проекта было бы интересно на нее глянуть? \n",
    "\n"
   ]
  },
  {
   "cell_type": "markdown",
   "metadata": {},
   "source": [
    "<div class=\"alert alert-danger\">\n",
    "    <div class=\"alert alert-warning\" role=\"alert\">\n",
    "      Комментарий студента: Ситуация мультиколлинеарности возникает, когда две независимые переменные имеют сильную корреляцию, как мне подсказывает гугл.\n",
    "     Но у нас ведь нет сильной корреляции,  есть средняя, я добавил модуль определения  коллинеарности в свою функцию, но он показал меньше 10. Если я правильно понял, у  нас при сильно высокой корреляции будет утечка целевого признака и модель будет показывать неоправданно высокие значения. \n",
    "               \n",
    "</div>"
   ]
  },
  {
   "cell_type": "markdown",
   "metadata": {},
   "source": [
    "<div class=\"alert alert-success\">\n",
    "<font size=\"5\"><b>Комментарий ревьюераV2</b></font>\n",
    "\n",
    "Успех 👍:\n",
    "\n",
    "Поправлю\n",
    "    \n",
    "- Мультиколлинеарность это корреляция между признаками, а страховые выплаты это таргет (ты же о ней говорил имею в виду среднюю корреляцию), а корреляция между признаками и таргетом никаких проблем не вызывает это наоборот только плюс, так как означает что у нас качественные признаки по которым мы можем построить хорошую модель.     \n",
    "    \n",
    " \n",
    "Добавлю    \n",
    "    \n",
    "- Проблема мультиколлинеарности:\n",
    "\n",
    "Первый момент: мультиколлиниарность проблема линейных моделей - могут переобучаться.... теоретически. Но в логистической, и в линейной регрессиях (когда мы решаем оптимизационно, а не аналитически) реализована регуляризация, которая решает проблему мультиколлиниарности признаков. \"Деревянные\" модели (RF, DT) устойчивы к мультиколлинеарности, а кластеризация тоже почти не зависит от линейных зависимостей. Получается, избавляться от мультиколлинеарности чтобы не переобучаться не обязательно )) \n",
    "    \n",
    "Второй момент: интерпретируемость линейной модели (мы по коеффициентам судим как признаки влияют на таргет), тут  мультиколлинеарность надо убирать. Самый простой дроп одного из признаков из каждой пары\n",
    "\n",
    "    \n",
    " - Для нашего проекта  мультиколлинеарность можно глянуть, потому что у нас как раз линейная модель, которую мы решаем аналитически (то есть без всяких ругуляризаций и градиентных спусков). В этом случаи проблема возникает потому что в случае высокой корреляции матрица $𝑋^𝑇*𝑋$  близка к вырожденной, как результат чувствительность к малейшему изменению входных данных, приводящая к сильному изменению весов модели, вот остюда и переобучение и  теряется интерпретируемость. И если бы была мультиколлинеарность то можно было подумать как ее убрать (хотя на решение задачи нашего проекта мультиколлинеарность бы не повлияла).  Но ее нет, корреляция между признаками везде ниже 0,75-0,8\n",
    "  \n",
    "</div>\n",
    "\n"
   ]
  },
  {
   "cell_type": "markdown",
   "metadata": {},
   "source": [
    "<div class=\"alert alert-danger\">\n",
    "    <div class=\"alert alert-warning\" role=\"alert\">\n",
    "      Комментарий студента 2: Спасибо! Очень подробно!\n",
    "    </div>    \n",
    "</div>"
   ]
  },
  {
   "cell_type": "markdown",
   "metadata": {},
   "source": [
    "## Защита данных клиентов страховой компании\n",
    "#### Шаг 2.  Ответьте на вопрос и обоснуйте решение. \n",
    "- Признаки умножают на обратимую матрицу. Изменится ли качество линейной регрессии? (Её можно обучить заново.)\n",
    "-  a. Изменится. Приведите примеры матриц.\n",
    "-  b. Не изменится. Укажите, как связаны параметры линейной регрессии в исходной задаче и в преобразованной."
   ]
  },
  {
   "cell_type": "markdown",
   "metadata": {},
   "source": [
    "\n",
    "<div class=\"alert alert-danger\">\n",
    "<font size=\"5\"><b>Комментарий ревьюера</b></font>\n",
    "\n",
    "Ошибка ❌:\n",
    "    \n",
    "1\n",
    "\n",
    "  \n",
    "Нет ответа на \"как связаны параметры линейной регрессии в исходной задаче и в преобразованной\"\n",
    "\n",
    "Какое соотношение между $w$ и $w_p$?\n",
    "    \n",
    "    \n",
    "Где   \n",
    "\n",
    "\n",
    "\n",
    "$$\n",
    "w = (X^T X)^{-1} X^T y\n",
    "$$\n",
    "    \n",
    "    \n",
    "$$\n",
    "w_P = ((XP)^T XP)^{-1} (XP)^T y\n",
    "$$   \n",
    "\n",
    "\n",
    "\n",
    "\n",
    "2\n",
    "\n",
    "  \n",
    "Приводим строгое математическое доказательство утверждения\n",
    "\n",
    "\n",
    "- Для решения \"в лоб\" надо начать с постановки задачи, нам нужно установить тождество между  a и a', где\n",
    "    \n",
    "$a = X\\cdot w$ \n",
    "    \n",
    "$a' = X\\cdot P\\cdot w'$ \n",
    " \n",
    "    \n",
    "Далее выражаем   w' через:\n",
    "    \n",
    "$\n",
    "w' = ((X\\cdot P)^T \\cdot (X\\cdot P))^{-1}\\cdot (X\\cdot P)^T\\cdot Y \n",
    "$     \n",
    "    \n",
    "Дальше с помощью матричных преобразований....\n",
    "    \n",
    " \n",
    "    \n",
    " \n",
    "\n",
    "  \n",
    "- Есть ещё один способ доказательства   когда мы берём\n",
    "    \n",
    "    \n",
    "$$\n",
    "w = \\arg\\min_w MSE(Xw, y)\n",
    "$$\n",
    "    \n",
    "  \n",
    "и     \n",
    "    \n",
    "$$\n",
    "w_P = \\arg\\min_w MSE(XPw_p, y)\n",
    "$$  \n",
    "    \n",
    "    \n",
    "И делая  замену    w_p, видим что задача  \n",
    "    \n",
    "$$\n",
    "\\arg\\min_w MSE(XPw_p, y)\n",
    "$$\n",
    "    \n",
    "сводится к     \n",
    "  \n",
    "    \n",
    "$$\n",
    "\\arg\\min_w MSE(Xw, y)\n",
    "$$      \n",
    "    \n",
    "    \n",
    "    \n",
    "Осталось только догадаться какую замену сделать    \n",
    "    \n",
    "</div>\n",
    "    "
   ]
  },
  {
   "cell_type": "markdown",
   "metadata": {},
   "source": [
    "<div class=\"alert alert-danger\">\n",
    "    <div class=\"alert alert-warning\" role=\"alert\">\n",
    "      Комментарий студента: Ох уж эти формулы , добавляю: :)\n",
    "      </div>         \n",
    "</div>"
   ]
  },
  {
   "cell_type": "markdown",
   "metadata": {},
   "source": [
    "#### Теоретическое обоснование:\n",
    "\n",
    "Если: Матрица признаков - X Обратимая матрица - P Вектор целевого признака - y Вектор весов целевого признака - w\n",
    "\n",
    "- Предсказания\n",
    "\n",
    "a = X w\n",
    "\n",
    "- Формула обучения линейной регрессии\n",
    "\n",
    "w = (X^TX)^{-1}X^Tx\n",
    "\n",
    "- Преобразуем выражение для w':\n",
    "\n",
    "w' = (Y^TY)^{-1} Y^Ty =\n",
    "= ((XP)^T(XP))^{-1} (XP)^Ty =\n",
    "= P^{-1}((XP)^{T}X)^{-1} (XP)^Ty =\n",
    "= P^{-1}((XP)^{T}X)^{-1} P^TX^Ty =\n",
    "= P^{-1}(P^TX^TX)^{-1} P^TX^Ty =\n",
    "= P^{-1}(X^TX)^{-1}(P^T)^{-1} P^TX^Ty\n",
    "\n",
    "- Сократим\n",
    "\n",
    "(P^{T})^{-1} P^T = P^{-1}(X^TX)^{-1} X^Ty\n",
    "\n",
    "- Произведем замену\n",
    "\n",
    "w = (X^TX)^{-1}X^Ty = P^{-1}w\n",
    "\n",
    "Тогда: w(y)= P^{-1}w\n",
    "\n",
    "- Подставим для X' и w' в формулу для расчета a':\n",
    "\n",
    "a'=X'w' = XPP^{-1}w = Xw = a\n",
    "\n",
    "- Выражения тождественны. Векторы предсказаний совпали."
   ]
  },
  {
   "cell_type": "markdown",
   "metadata": {},
   "source": [
    "<div class=\"alert alert-success\">\n",
    "<font size=\"5\"><b>Комментарий ревьюераV2</b></font>\n",
    "\n",
    "\n",
    "\n",
    "Успех 👍:\n",
    "\n",
    "\n",
    "\n",
    "Всё верно. Но будущем пожалей глаза проверяющих, оформляй используя `$`\n",
    "\n",
    "\n",
    "\n",
    "\n",
    "</div>\n"
   ]
  },
  {
   "cell_type": "markdown",
   "metadata": {},
   "source": [
    "<div class=\"alert alert-danger\">\n",
    "    <div class=\"alert alert-warning\" role=\"alert\">\n",
    "      Комментарий студента 2: Хорошо, извини :)\n",
    "    </div>    \n",
    "</div>"
   ]
  },
  {
   "cell_type": "code",
   "execution_count": 32,
   "metadata": {
    "ExecuteTime": {
     "end_time": "2022-12-30T09:39:21.923639Z",
     "start_time": "2022-12-30T09:39:21.918147Z"
    }
   },
   "outputs": [],
   "source": [
    "def model_score(features_train, features_test, target_train, target_test):\n",
    "    model = []\n",
    "    model = LinearRegression()\n",
    "    model.fit(features_train, target_train)\n",
    "    predictions = model.predict(features_test)\n",
    "    score = r2_score(target_test, predictions)\n",
    "    return'Качество модели: {score}'.format(score = round(score, 2))\n",
    "    #return predictions\n"
   ]
  },
  {
   "cell_type": "code",
   "execution_count": 33,
   "metadata": {
    "ExecuteTime": {
     "end_time": "2022-12-30T09:39:21.936397Z",
     "start_time": "2022-12-30T09:39:21.926154Z"
    }
   },
   "outputs": [
    {
     "data": {
      "text/plain": [
       "'Качество модели: 0.38'"
      ]
     },
     "execution_count": 33,
     "metadata": {},
     "output_type": "execute_result"
    }
   ],
   "source": [
    "#За целевой признак возьмем количество страховых выплат\n",
    "features = df.drop('insurance_cnt', axis  = 1).values\n",
    "target = df.insurance_cnt.values\n",
    "\n",
    "features_train, features_test, target_train, target_test = train_test_split(features, target,  test_size=0.20, \n",
    "                                                                            random_state = 0)\n",
    "model_score(features_train, features_test, target_train, target_test)"
   ]
  },
  {
   "cell_type": "markdown",
   "metadata": {},
   "source": [
    "<div class=\"alert alert-success\">\n",
    "<font size=\"5\"><b>Комментарий ревьюера</b></font>\n",
    "\n",
    "Успех 👍:\n",
    "\n",
    "Все правильно, помним о стандартах ML при моделировании\n",
    "\n",
    "\n",
    "<div>\n",
    "\n"
   ]
  },
  {
   "cell_type": "code",
   "execution_count": 34,
   "metadata": {
    "ExecuteTime": {
     "end_time": "2022-12-30T09:39:21.974232Z",
     "start_time": "2022-12-30T09:39:21.939525Z"
    }
   },
   "outputs": [
    {
     "data": {
      "text/plain": [
       "'Качество модели: 0.38'"
      ]
     },
     "execution_count": 34,
     "metadata": {},
     "output_type": "execute_result"
    }
   ],
   "source": [
    "#Умножим значения на обратимую матрицу заполеннную единицами\n",
    "N,M = df.shape\n",
    "matrix = [[random.randrange(2,3) for y in range(M)] for x in range(N)]\n",
    "matrix =np.array(matrix)\n",
    "m_df = (df.values * matrix)\n",
    "m_target = m_df[:, -1]\n",
    "m_features = m_df[:, :3]\n",
    "\n",
    "m_features_train, m_features_test, m_target_train, m_target_test = train_test_split(m_features, m_target,  test_size=0.20, \n",
    "                                                                            random_state = 0)\n",
    "\n",
    "model_score(m_features_train, m_features_test, m_target_train, m_target_test)\n"
   ]
  },
  {
   "cell_type": "code",
   "execution_count": 35,
   "metadata": {
    "ExecuteTime": {
     "end_time": "2022-12-30T09:39:22.009320Z",
     "start_time": "2022-12-30T09:39:21.976205Z"
    }
   },
   "outputs": [
    {
     "data": {
      "text/plain": [
       "'Качество модели: 0.08'"
      ]
     },
     "execution_count": 35,
     "metadata": {},
     "output_type": "execute_result"
    }
   ],
   "source": [
    "#Умножим значения на обратимую матрицу заполеннную рандомными значениями\n",
    "N,M = df.shape\n",
    "matrix = [[random.randrange(1,10) for y in range(M)] for x in range(N)]\n",
    "matrix =np.array(matrix)\n",
    "m_df = (df.values * matrix)\n",
    "m_target = m_df[:, -1]\n",
    "m_features = m_df[:, :3]\n",
    "\n",
    "m_features_train, m_features_test, m_target_train, m_target_test = train_test_split(m_features, m_target,  test_size=0.20, \n",
    "                                                                            random_state = 0 )\n",
    "\n",
    "model_score(m_features_train, m_features_test, m_target_train, m_target_test)"
   ]
  },
  {
   "cell_type": "code",
   "execution_count": 36,
   "metadata": {
    "ExecuteTime": {
     "end_time": "2022-12-30T09:39:22.051086Z",
     "start_time": "2022-12-30T09:39:22.011651Z"
    }
   },
   "outputs": [
    {
     "data": {
      "text/plain": [
       "'Качество модели: 0.04'"
      ]
     },
     "execution_count": 36,
     "metadata": {},
     "output_type": "execute_result"
    }
   ],
   "source": [
    "#Такие отличия могут быть из-за того что признак age теперь не коррелирует с целевым,  нужно проверить\n",
    "features = df.drop('insurance_cnt', axis  = 1).values\n",
    "#умножим age на столбец значений рандомной матрицы\n",
    "matrix = [[random.randrange(1,10) for y in range(M)] for x in range(N)]\n",
    "matrix =np.array(matrix)\n",
    "\n",
    "features[:,1] = features[:,1] * matrix[:,1]\n",
    "target = df.insurance_cnt.values\n",
    "\n",
    "\n",
    "features_train, features_test, target_train, target_test = train_test_split(features, target,  test_size=0.20, \n",
    "                                                                            random_state = 0)\n",
    "model_score(features_train, features_test, target_train, target_test)"
   ]
  },
  {
   "cell_type": "markdown",
   "metadata": {
    "ExecuteTime": {
     "end_time": "2022-12-29T05:37:37.018373Z",
     "start_time": "2022-12-29T05:37:37.009188Z"
    }
   },
   "source": [
    "#### Вывод по шагу: \n",
    "- Сравнили метрики r2 для трех случаев:\n",
    "    - Обучили модель взяв исходный датасет\n",
    "    - Обучили модель умножив инсходные данные на матрицу заполненную одним значением (например 1 или 2)\n",
    "    - Обучили модель умножив исходные данные на матрицу заполненную рандомными значениями\n",
    "    - Обучили модель умножив столбец с коррелирующими данными на столбец матрицы заполненный рандомными значениями\n",
    "- Первая и вторая модели не выдали никаких заметных отличий,  третья же показала очень низкое качество. Помня что целевой признак коррелирует с признаком **age**, проверили гипотезу что причиной  хорошего качеста предыдущих моделей удалось достичь потому что линейная регрессия определила кореляцию. \n",
    "- Изменили данные в столбце **age** умножив их на рандомные значения,  по итогу получили  качество немного лучше чем в третьей модели. \n",
    "- В итоге можно с уверенностью сказать что точность модели зависит от наличия корреляции  целевого признака  и фич, а качество линейной регрессии изменится если умножать ее на рандомную матрицу т.к. значения коррелирующего признака изменятся"
   ]
  },
  {
   "cell_type": "markdown",
   "metadata": {
    "ExecuteTime": {
     "end_time": "2022-12-29T06:11:42.381904Z",
     "start_time": "2022-12-29T06:11:42.379490Z"
    }
   },
   "source": [
    "## Предложите алгоритм преобразования данных для решения задачи. Обоснуйте, почему качество линейной регрессии не поменяется.\n",
    "\n",
    "- Учитывая опыт полученный в предыдущем шаге, для преобразования данных нам подойдет следующее решение:\n",
    "    - создадим матрицу размерности как у датасета\n",
    "    - заполненную столбцами с рандомными значениями от 1 до 9 (каждый столбец будет содержать одно значение)\n",
    "    - для того чтобы восстаночить значения, просто разделим их на матрицу. \n",
    "    - добавим проверку матрицы на необратимость\n",
    "- Качество линейной регресии в предложенном варианте не поменяется потому что мы бережно отнесемся ко всем коррелирующим признакам"
   ]
  },
  {
   "cell_type": "markdown",
   "metadata": {},
   "source": [
    "\n",
    "\n",
    "<div class=\"alert alert-warning\">\n",
    "<font size=\"5\"><b>Комментарий ревьюера</b></font>\n",
    "\n",
    "Совет 🤔:\n",
    "\n",
    "Станислав, а матрица должна быть обратимой? А если да, то что делаем чтобы она была обратимой, кроме того можно написать как выбираем размер генерируемой матрицы\n",
    "\n",
    "\n",
    "</div>\n",
    "\n",
    "<div class=\"alert alert-danger\">\n",
    "    <div class=\"alert alert-warning\" role=\"alert\">\n",
    "          Комментарий студента: Поправил вывод. Да, необратимая матрица это матрица заполненная нулями, умножая на такую матрицу мы будем получать значение 0 и  конечно вернуть обратно исходные значения умножив на инвертированную матрицу мы не сможем. Поэтому у меня рандомные ззначения генерируются от 1 до 9. \n",
    "            Я не описал этот момент изначально, поэтому считаю твое замечание ниже справедливым :)       \n",
    "</div>\n"
   ]
  },
  {
   "cell_type": "markdown",
   "metadata": {},
   "source": [
    "<div class=\"alert alert-warning\">\n",
    "<font size=\"5\"><b>Комментарий ревьюераV2</b></font>\n",
    "\n",
    "\n",
    "\n",
    "Совет 🤔:\n",
    "\n",
    "\n",
    "Необратимая не только матрица заполненная нулями\n",
    "\n",
    "    \n",
    "Такая Матрица тоже необратимая:\n",
    "    \n",
    "    \n",
    "    1  2\n",
    "    1 -2\n",
    "    \n",
    "    \n",
    "    \n",
    "</div>\n"
   ]
  },
  {
   "cell_type": "markdown",
   "metadata": {},
   "source": [
    "<div class=\"alert alert-danger\">\n",
    "    <div class=\"alert alert-warning\" role=\"alert\">\n",
    "      Комментарий студента 2: Понял, поправил вывод и добавил проверку на необратимость\n",
    "    </div>    \n",
    "</div>"
   ]
  },
  {
   "cell_type": "markdown",
   "metadata": {},
   "source": [
    "## Запрограммируйте этот алгоритм, применив матричные операции. \n",
    "- Проверьте, что качество линейной регрессии из sklearn не отличается до и после преобразования. \n",
    "- Примените метрику R2."
   ]
  },
  {
   "cell_type": "code",
   "execution_count": 42,
   "metadata": {
    "ExecuteTime": {
     "end_time": "2022-12-30T09:42:56.552716Z",
     "start_time": "2022-12-30T09:42:56.542571Z"
    }
   },
   "outputs": [
    {
     "data": {
      "text/plain": [
       "'Качество модели: 0.38'"
      ]
     },
     "execution_count": 42,
     "metadata": {},
     "output_type": "execute_result"
    }
   ],
   "source": [
    "#Подготовим матрицу\n",
    "def get_rand_matrix():\n",
    "    det = 0\n",
    "    while det == 0:\n",
    "        matrix = np.random.randint(low=1,high=99,size=((df.shape[1] - 1, df.shape[1] - 1)),dtype='int')\n",
    "\n",
    "        det = np.linalg.det(matrix)\n",
    "    return matrix\n",
    "\n",
    "key_df = get_rand_matrix()\n",
    "m_features = df.values[:, :4] @ key_df\n",
    "\n",
    "#m_target = m_df[:, -1]\n",
    "m_target = df.values[:, -1]\n",
    "\n",
    "#Поделим датасет\n",
    "m_features_train, m_features_test, m_target_train, m_target_test = train_test_split(m_features, m_target,  test_size=0.20, \n",
    "                                                                           random_state = 0 )\n",
    "#Проверим точность\n",
    "model_score(m_features_train, m_features_test, m_target_train, m_target_test)"
   ]
  },
  {
   "cell_type": "markdown",
   "metadata": {},
   "source": [
    "<div class=\"alert alert-warning\">\n",
    "<font size=\"5\"><b>Комментарий ревьюераV3</b></font>\n",
    "\n",
    "\n",
    "\n",
    "Совет 🤔:\n",
    "\n",
    "Только вот из туториала я вычитал что если матрица необратимая, то np.linalg.pinv ошибку не выведет, в отличии от linalg.inv. Получается схема try-except не совсем рабочая. Кроме того можно проще:\n",
    "    \n",
    "    \n",
    "    \n",
    "    \n",
    "    \n",
    "    def func(dim):\n",
    "        transform_matrix = np.random.rand(dim, dim)\n",
    "        try: \n",
    "            inv = np.linalg.inv(transform_matrix)\n",
    "            return transform_matrix, inv\n",
    "        except:\n",
    "            func(dim)  \n",
    "\n",
    "\n",
    "или с Рекурсией\n",
    "    \n",
    "    \n",
    "    def get_rand_matrix():\n",
    "        det = 0\n",
    "        while det == 0:\n",
    "            matrix = np.random.normal(size=(data.shape[1], data.shape[1]))\n",
    "            det = np.linalg.det(matrix)\n",
    "        return matrix\n",
    "   \n",
    "    \n",
    "    \n",
    "    \n",
    "    \n",
    "    \n",
    "</div>\n"
   ]
  },
  {
   "cell_type": "markdown",
   "metadata": {},
   "source": [
    "<div class=\"alert alert-danger\">\n",
    "    <div class=\"alert alert-warning\" role=\"alert\">\n",
    "      Комментарий студента 3: На хабре вычитал про этот вариант инверсии,  спасибо! \n",
    "      Поменял алгоритм но расхождения в 2 процента, их можно игнорировать?\n",
    "    </div>    \n",
    "</div>"
   ]
  },
  {
   "cell_type": "markdown",
   "metadata": {},
   "source": [
    "<div class=\"alert alert-warning\">\n",
    "<font size=\"5\"><b>Комментарий ревьюераV4</b></font>\n",
    "\n",
    "\n",
    "\n",
    "Совет 🤔:\n",
    "\n",
    "\n",
    "А там нужно было чтобы в случае необратимости проводилась ошибка?! . У тебя же вся схема построена на том что нужно ошибка, если матрица необратимая.\n",
    "</div>\n"
   ]
  },
  {
   "cell_type": "markdown",
   "metadata": {},
   "source": [
    "<div class=\"alert alert-danger\">\n",
    "<font size=\"5\"><b>Комментарий ревьюераV4</b></font>\n",
    "\n",
    "\n",
    "\n",
    "Ошибка ❌:\n",
    "\n",
    "\n",
    "\n",
    "Нет, это большая разница.  Я вижу ты почему-то перемножил рандомную матрицу в том числе на таргет. А По условию мы меняем только данные клиентов. Генерируй матрицу 4на4, а таргет оставь как есть\n",
    "\n",
    "    \n",
    "обрати внимание на код ниже, всё сошлось   \n",
    "</div>"
   ]
  },
  {
   "cell_type": "markdown",
   "metadata": {
    "ExecuteTime": {
     "end_time": "2022-12-30T09:45:42.417907Z",
     "start_time": "2022-12-30T09:45:42.413806Z"
    }
   },
   "source": [
    "<div class=\"alert alert-danger\">\n",
    "    <div class=\"alert alert-warning\" role=\"alert\">\n",
    "      Комментарий студента 4: Спасибо огромное! \n",
    "     <br> Я не скопировал твой код а попробовал по частям и понял где был не прав :) Понял что таргеты мучать не стоило вот и не сходилась модель :)\n",
    "  \n",
    "</div>"
   ]
  },
  {
   "cell_type": "markdown",
   "metadata": {},
   "source": [
    "<div class=\"alert alert-success\">\n",
    "<font size=\"5\"><b>Комментарий ревьюераV5</b></font>\n",
    "\n",
    "\n",
    "\n",
    "Успех 👍:\n",
    "\n",
    "\n",
    "\n",
    "Принято\n",
    "\n",
    "\n",
    "\n",
    "\n",
    "</div>\n"
   ]
  },
  {
   "cell_type": "code",
   "execution_count": 39,
   "metadata": {
    "ExecuteTime": {
     "end_time": "2022-12-30T09:40:52.480251Z",
     "start_time": "2022-12-30T09:40:52.469930Z"
    }
   },
   "outputs": [
    {
     "data": {
      "text/plain": [
       "'Качество модели: 0.38'"
      ]
     },
     "execution_count": 39,
     "metadata": {},
     "output_type": "execute_result"
    }
   ],
   "source": [
    "\n",
    "def get_rand_matrix():\n",
    "    det = 0\n",
    "    while det == 0:\n",
    "#         размерность 4*4\n",
    "        matrix = np.random.randint(low=1,high=99,size=((df.shape[1] - 1, df.shape[1] - 1)),dtype='int')\n",
    "        det = np.linalg.det(matrix)\n",
    "    return matrix\n",
    "\n",
    "key_df = get_rand_matrix()\n",
    "m_matrix = df.values[:, :4] @ key_df\n",
    "\n",
    "\n",
    "\n",
    "\n",
    "\n",
    "# Не понял зачем тебе это, закоментировал\n",
    "# m_df = (df.values[:, :4] * m_matrix)\n",
    "\n",
    "\n",
    "m_target = df.values[:, -1]\n",
    "# это уже не нужно\n",
    "# m_features = m_df\n",
    "\n",
    "#  использую m_matrix \n",
    "m_features_train, m_features_test, m_target_train, m_target_test = train_test_split(m_matrix, m_target,  test_size=0.20, \n",
    "                                                                           random_state = 0 )\n",
    "\n",
    "model_score(m_features_train, m_features_test, m_target_train, m_target_test)"
   ]
  },
  {
   "cell_type": "markdown",
   "metadata": {},
   "source": [
    "<div class=\"alert alert-danger\">\n",
    "<font size=\"5\"><b>Комментарий ревьюера</b></font>\n",
    "\n",
    "Ошибка ❌:\n",
    "\n",
    "    \n",
    "    \n",
    "А откуда мы знаем что сгенерированная матрица обратимая (вероятность невысокая, но она есть)? Это нужно проверять, и если она получится не обратимой, генерировать опять    \n",
    "\n",
    "    \n",
    "    \n",
    "<div class=\"alert alert-warning\">\n",
    "\n",
    "\n",
    "\n",
    "Совет 🤔:\n",
    "\n",
    "\n",
    "- Можно использовать функцию с конструкцией while: будем генерировать случайные матрицы, пока не получим с детерминантом не равным нулю или можно использовать рекурсию\n",
    "    \n"
   ]
  },
  {
   "cell_type": "markdown",
   "metadata": {},
   "source": [
    "<div class=\"alert alert-danger\">\n",
    "    <div class=\"alert alert-warning\" role=\"alert\">\n",
    "        Комментарий студента: Я не описал этот момент изначально, сделал все проще, добавив генератору диапазон без нулей :)\n",
    "      </div>         \n",
    "</div>    "
   ]
  },
  {
   "cell_type": "markdown",
   "metadata": {},
   "source": [
    "<div class=\"alert alert-warning\">\n",
    "<font size=\"5\"><b>Комментарий ревьюераV2</b></font>\n",
    "\n",
    "\n",
    "\n",
    "Совет 🤔:\n",
    "\n",
    "Это что-то новенькое.  можешь дать ссылку на материал, где укзаывается что матрица обратимая если без 0?!\n",
    "    \n",
    "    \n",
    "Если не найдёшь предлагаю добавить проверку на обратимость    \n",
    "\n",
    "</div>\n"
   ]
  },
  {
   "cell_type": "markdown",
   "metadata": {},
   "source": [
    "<div class=\"alert alert-danger\">\n",
    "    <div class=\"alert alert-warning\" role=\"alert\">\n",
    "      Комментарий студента 2: Думаю что что-то напутал, спасибо, добавил проверку на обратимость :)\n",
    "    </div>    \n",
    "</div>"
   ]
  },
  {
   "cell_type": "markdown",
   "metadata": {},
   "source": [
    "## Вывод по проекту\n",
    "\n",
    "- Был проведен анализ данных, в рамках которого удалены дубли и обнаружена средняя корреляция возраста от  кол-ва страховых выплат\n",
    "- Проверена и подтверждена гипотеза что точность модели изменится если умножить ее на матрицу (заполненную рандомными числами)\n",
    "- Предложен алгоритм преобразования данных\n",
    "- Запрограммирован алгоритм и проверена точность модели,  в итоге алгоритм работает и точность модели совпадает с исходной"
   ]
  },
  {
   "cell_type": "markdown",
   "metadata": {},
   "source": [
    "\n",
    "\n",
    "<div class=\"alert alert-success\">\n",
    "<font size=\"5\"><b>Комментарий ревьюера</b></font>\n",
    "\n",
    "Успех:\n",
    "\n",
    "\n",
    "Станислав, здорово что в конце расписаны все этапы работы. Это важно потому что когда проект захочет посмотреть будущий работодатель (или начальник), у него может не быть времени на подробный разбор кода. Вероятнее всего он бегло просмотрит код, а из общего вывода захочет получить представление о всей работе.\n",
    "\n"
   ]
  },
  {
   "cell_type": "markdown",
   "metadata": {},
   "source": [
    "\n",
    "<div class=\"alert alert-info\">\n",
    "<font size=\"5\"><b>Комментарий ревьюера</b></font>\n",
    "\n",
    "\n",
    "\n",
    "Спасибо Станислав за проделанную работу, к сожалению, сейчас я не могу принять твой проект, поэтому мы с тобой еще пообщаемся )\n",
    "\n",
    "    \n",
    "Замечания на будущее, напоминалочка:\n",
    "    \n",
    "\n",
    "\n",
    "- Всё-таки стоит сохранить предложенную структуру проекта, и поддерживаться его\n",
    "\n",
    "\n",
    "Я оставил небольшие советы и вопросики (если есть время и желание можешь воспользоваться/ответить)\n",
    "    \n",
    "\n",
    "\n",
    "Обязательное к исправлению:\n",
    "\n",
    "\n",
    "\n",
    "    \n",
    "- приводим строгое математическое доказательство, с учетом моих комментариев   \n",
    "\n",
    "\n",
    "\n",
    "\n",
    "- выводим соотношение между  𝑤  и  𝑤𝑝 \n",
    " \n",
    "    \n",
    "\n",
    "\n",
    "- нет проверки на обратимость \n",
    "    \n",
    "    \n",
    "    \n",
    "    \n",
    "Жду исправлений, для принятия проекта. Если какие то вопросы, то сразу спрашивай ) \n",
    "\n",
    "</div>\n",
    "\n"
   ]
  },
  {
   "cell_type": "markdown",
   "metadata": {},
   "source": [
    "\n",
    "<div class=\"alert alert-info\">\n",
    "<font size=\"5\"><b>Комментарий ревьюераV2</b></font>\n",
    "\n",
    "Спасибо за работу!    \n",
    "\n",
    "    \n",
    "Хотелось бы пояснення по поводу генерации обратимой матрицы\n"
   ]
  },
  {
   "cell_type": "markdown",
   "metadata": {},
   "source": [
    "\n",
    "<div class=\"alert alert-info\">\n",
    "<font size=\"5\"><b>Комментарий ревьюераV3</b></font>\n",
    "\n",
    "Спасибо за работу!    \n",
    "\n",
    "    \n",
    "\n",
    "У меня есть сомнение по поводу np.linalg.pinv,  которое я написал. Обрати внимание.  Отправляю на четвёртую итерацию узнать есть ли вопросы\n",
    "\n",
    "\n",
    "</div>"
   ]
  },
  {
   "cell_type": "markdown",
   "metadata": {},
   "source": [
    "\n",
    "<div class=\"alert alert-info\">\n",
    "<font size=\"5\"><b>Комментарий ревьюераV4</b></font>\n",
    "\n",
    "Спасибо за работу!    \n",
    "\n",
    "    \n",
    "\n",
    "\n",
    "Что осталось из красного:\n",
    "\n",
    " \n",
    "- Результаты обучения отличаются. Оставил комментарий\n",
    "    \n",
    "    "
   ]
  },
  {
   "cell_type": "markdown",
   "metadata": {},
   "source": [
    "\n",
    "<div class=\"alert alert-info\">\n",
    "<font size=\"5\"><b>Комментарий ревьюераV5</b></font>\n",
    "\n",
    "Спасибо за работу!    \n",
    "\n",
    "    \n",
    "\n",
    "Красного нет, вопросов нет, значит все, пора принимать) Надеюсь мои советы и вопросики были полезны и в копилочку знаний упало что то новое, а проект стал лучше, и симпатичней.\n",
    "\n",
    "  \n",
    "Отличная работа Станислав. Желаю успехов в дальнейшей учебе! И да пребудет с тобой сила в Новом Году! )\n",
    "\n",
    "\n",
    "</div>"
   ]
  },
  {
   "cell_type": "markdown",
   "metadata": {},
   "source": [
    "## Чек-лист проверки"
   ]
  },
  {
   "cell_type": "markdown",
   "metadata": {},
   "source": [
    "Поставьте 'x' в выполненных пунктах. Далее нажмите Shift+Enter."
   ]
  },
  {
   "cell_type": "markdown",
   "metadata": {},
   "source": [
    "- [x]  Jupyter Notebook открыт\n",
    "- [x]  Весь код выполняется без ошибок\n",
    "- [x]  Ячейки с кодом расположены в порядке исполнения\n",
    "- [x]  Выполнен шаг 1: данные загружены\n",
    "- [x]  Выполнен шаг 2: получен ответ на вопрос об умножении матриц\n",
    "    - [x]  Указан правильный вариант ответа\n",
    "    - [x]  Вариант обоснован\n",
    "- [x]  Выполнен шаг 3: предложен алгоритм преобразования\n",
    "    - [x]  Алгоритм описан\n",
    "    - [x]  Алгоритм обоснован\n",
    "- [x]  Выполнен шаг 4: алгоритм проверен\n",
    "    - [x]  Алгоритм реализован\n",
    "    - [x]  Проведено сравнение качества моделей до и после преобразования"
   ]
  },
  {
   "cell_type": "code",
   "execution_count": null,
   "metadata": {},
   "outputs": [],
   "source": []
  }
 ],
 "metadata": {
  "ExecuteTimeLog": [
   {
    "duration": 1885,
    "start_time": "2022-12-29T07:24:55.203Z"
   },
   {
    "duration": 75,
    "start_time": "2022-12-29T07:24:57.090Z"
   },
   {
    "duration": 4,
    "start_time": "2022-12-29T07:24:57.166Z"
   },
   {
    "duration": 500,
    "start_time": "2022-12-29T07:24:57.172Z"
   },
   {
    "duration": 4,
    "start_time": "2022-12-29T07:24:57.674Z"
   },
   {
    "duration": 13,
    "start_time": "2022-12-29T07:24:57.679Z"
   },
   {
    "duration": 13,
    "start_time": "2022-12-29T07:24:57.694Z"
   },
   {
    "duration": 5,
    "start_time": "2022-12-29T07:24:57.708Z"
   },
   {
    "duration": 6,
    "start_time": "2022-12-29T07:24:57.714Z"
   },
   {
    "duration": 10,
    "start_time": "2022-12-29T07:24:57.722Z"
   },
   {
    "duration": 3,
    "start_time": "2022-12-29T07:24:57.734Z"
   },
   {
    "duration": 10,
    "start_time": "2022-12-29T07:24:57.738Z"
   },
   {
    "duration": 40,
    "start_time": "2022-12-29T07:24:57.749Z"
   },
   {
    "duration": 25,
    "start_time": "2022-12-29T07:24:57.790Z"
   },
   {
    "duration": 26,
    "start_time": "2022-12-29T07:24:57.817Z"
   },
   {
    "duration": 31,
    "start_time": "2022-12-29T07:24:57.845Z"
   },
   {
    "duration": 96,
    "start_time": "2022-12-29T07:48:54.979Z"
   },
   {
    "duration": 40,
    "start_time": "2022-12-29T08:01:07.406Z"
   },
   {
    "duration": 1472,
    "start_time": "2022-12-29T08:01:15.426Z"
   },
   {
    "duration": 92,
    "start_time": "2022-12-29T08:01:19.299Z"
   },
   {
    "duration": 8,
    "start_time": "2022-12-29T08:01:24.421Z"
   },
   {
    "duration": 500,
    "start_time": "2022-12-29T08:01:32.552Z"
   },
   {
    "duration": 26,
    "start_time": "2022-12-29T08:01:57.017Z"
   },
   {
    "duration": 3,
    "start_time": "2022-12-29T08:02:25.257Z"
   },
   {
    "duration": 326,
    "start_time": "2022-12-29T08:02:35.307Z"
   },
   {
    "duration": 5,
    "start_time": "2022-12-29T08:03:26.305Z"
   },
   {
    "duration": 675,
    "start_time": "2022-12-29T08:03:28.449Z"
   },
   {
    "duration": 36,
    "start_time": "2022-12-29T08:05:28.341Z"
   },
   {
    "duration": 6,
    "start_time": "2022-12-29T08:07:06.784Z"
   },
   {
    "duration": 866,
    "start_time": "2022-12-29T08:07:09.719Z"
   },
   {
    "duration": 71,
    "start_time": "2022-12-29T08:13:17.294Z"
   },
   {
    "duration": 70,
    "start_time": "2022-12-29T08:28:10.999Z"
   },
   {
    "duration": 73,
    "start_time": "2022-12-29T08:28:19.790Z"
   },
   {
    "duration": 33,
    "start_time": "2022-12-29T08:39:36.474Z"
   },
   {
    "duration": 3,
    "start_time": "2022-12-29T08:39:40.061Z"
   },
   {
    "duration": 33,
    "start_time": "2022-12-29T08:39:40.066Z"
   },
   {
    "duration": 5,
    "start_time": "2022-12-29T08:39:40.101Z"
   },
   {
    "duration": 787,
    "start_time": "2022-12-29T08:39:40.107Z"
   },
   {
    "duration": 4,
    "start_time": "2022-12-29T08:39:40.896Z"
   },
   {
    "duration": 13,
    "start_time": "2022-12-29T08:39:40.902Z"
   },
   {
    "duration": 13,
    "start_time": "2022-12-29T08:39:40.916Z"
   },
   {
    "duration": 9,
    "start_time": "2022-12-29T08:39:40.931Z"
   },
   {
    "duration": 8,
    "start_time": "2022-12-29T08:39:40.942Z"
   },
   {
    "duration": 32,
    "start_time": "2022-12-29T08:39:40.951Z"
   },
   {
    "duration": 7,
    "start_time": "2022-12-29T08:39:40.985Z"
   },
   {
    "duration": 14,
    "start_time": "2022-12-29T08:39:40.994Z"
   },
   {
    "duration": 197,
    "start_time": "2022-12-29T08:39:41.009Z"
   },
   {
    "duration": 27,
    "start_time": "2022-12-29T08:39:41.209Z"
   },
   {
    "duration": 41,
    "start_time": "2022-12-29T08:39:41.238Z"
   },
   {
    "duration": 15,
    "start_time": "2022-12-29T08:39:41.280Z"
   },
   {
    "duration": 71,
    "start_time": "2022-12-29T08:48:41.748Z"
   },
   {
    "duration": 80,
    "start_time": "2022-12-29T12:48:44.729Z"
   },
   {
    "duration": 1790,
    "start_time": "2022-12-29T12:48:54.285Z"
   },
   {
    "duration": 123,
    "start_time": "2022-12-29T12:52:02.166Z"
   },
   {
    "duration": 79,
    "start_time": "2022-12-29T12:52:49.195Z"
   },
   {
    "duration": 75,
    "start_time": "2022-12-29T12:54:06.894Z"
   },
   {
    "duration": 76,
    "start_time": "2022-12-29T12:55:58.688Z"
   },
   {
    "duration": 110,
    "start_time": "2022-12-29T13:00:23.305Z"
   },
   {
    "duration": 3,
    "start_time": "2022-12-29T13:00:29.123Z"
   },
   {
    "duration": 87,
    "start_time": "2022-12-29T13:00:29.233Z"
   },
   {
    "duration": 6,
    "start_time": "2022-12-29T13:00:29.322Z"
   },
   {
    "duration": 920,
    "start_time": "2022-12-29T13:00:29.330Z"
   },
   {
    "duration": 5,
    "start_time": "2022-12-29T13:00:30.252Z"
   },
   {
    "duration": 34,
    "start_time": "2022-12-29T13:00:30.258Z"
   },
   {
    "duration": 24,
    "start_time": "2022-12-29T13:00:30.293Z"
   },
   {
    "duration": 26,
    "start_time": "2022-12-29T13:00:30.319Z"
   },
   {
    "duration": 32,
    "start_time": "2022-12-29T13:00:30.346Z"
   },
   {
    "duration": 36,
    "start_time": "2022-12-29T13:00:30.380Z"
   },
   {
    "duration": 142,
    "start_time": "2022-12-29T13:00:30.419Z"
   },
   {
    "duration": 55,
    "start_time": "2022-12-29T13:00:30.563Z"
   },
   {
    "duration": 259,
    "start_time": "2022-12-29T13:00:30.619Z"
   },
   {
    "duration": 47,
    "start_time": "2022-12-29T13:00:30.880Z"
   },
   {
    "duration": 64,
    "start_time": "2022-12-29T13:00:30.929Z"
   },
   {
    "duration": 64,
    "start_time": "2022-12-29T13:00:30.994Z"
   },
   {
    "duration": 72,
    "start_time": "2022-12-29T13:00:31.060Z"
   },
   {
    "duration": 100,
    "start_time": "2022-12-29T13:01:01.297Z"
   },
   {
    "duration": 15,
    "start_time": "2022-12-29T13:01:13.055Z"
   },
   {
    "duration": 9,
    "start_time": "2022-12-29T13:01:18.293Z"
   },
   {
    "duration": 107,
    "start_time": "2022-12-29T13:01:24.019Z"
   },
   {
    "duration": 18,
    "start_time": "2022-12-29T13:07:19.076Z"
   },
   {
    "duration": 104,
    "start_time": "2022-12-29T13:07:23.211Z"
   },
   {
    "duration": 5,
    "start_time": "2022-12-29T13:18:40.814Z"
   },
   {
    "duration": 5,
    "start_time": "2022-12-29T13:19:00.943Z"
   },
   {
    "duration": 7,
    "start_time": "2022-12-29T13:19:14.643Z"
   },
   {
    "duration": 7,
    "start_time": "2022-12-29T13:19:23.420Z"
   },
   {
    "duration": 6,
    "start_time": "2022-12-29T13:19:30.480Z"
   },
   {
    "duration": 5,
    "start_time": "2022-12-29T13:19:38.932Z"
   },
   {
    "duration": 5,
    "start_time": "2022-12-29T13:19:48.889Z"
   },
   {
    "duration": 141,
    "start_time": "2022-12-29T13:22:52.228Z"
   },
   {
    "duration": 5814,
    "start_time": "2022-12-29T13:23:51.264Z"
   },
   {
    "duration": 11,
    "start_time": "2022-12-29T13:24:10.682Z"
   },
   {
    "duration": 17,
    "start_time": "2022-12-29T13:24:54.222Z"
   },
   {
    "duration": 6,
    "start_time": "2022-12-29T13:27:35.380Z"
   },
   {
    "duration": 7,
    "start_time": "2022-12-29T13:27:52.676Z"
   },
   {
    "duration": 7,
    "start_time": "2022-12-29T13:28:04.079Z"
   },
   {
    "duration": 6,
    "start_time": "2022-12-29T13:28:22.222Z"
   },
   {
    "duration": 5,
    "start_time": "2022-12-29T13:28:34.767Z"
   },
   {
    "duration": 5,
    "start_time": "2022-12-29T13:28:44.769Z"
   },
   {
    "duration": 5,
    "start_time": "2022-12-29T13:28:48.345Z"
   },
   {
    "duration": 5,
    "start_time": "2022-12-29T13:28:57.346Z"
   },
   {
    "duration": 5102,
    "start_time": "2022-12-29T13:29:26.475Z"
   },
   {
    "duration": 6,
    "start_time": "2022-12-29T13:29:56.378Z"
   },
   {
    "duration": 5987,
    "start_time": "2022-12-29T13:30:04.283Z"
   },
   {
    "duration": 4435,
    "start_time": "2022-12-29T13:30:15.202Z"
   },
   {
    "duration": 5,
    "start_time": "2022-12-29T13:30:36.735Z"
   },
   {
    "duration": 3503,
    "start_time": "2022-12-29T13:30:43.744Z"
   },
   {
    "duration": 4,
    "start_time": "2022-12-29T13:30:53.910Z"
   },
   {
    "duration": 16,
    "start_time": "2022-12-29T13:31:27.691Z"
   },
   {
    "duration": 77,
    "start_time": "2022-12-29T17:00:42.235Z"
   },
   {
    "duration": 1527,
    "start_time": "2022-12-29T17:01:20.909Z"
   },
   {
    "duration": 121,
    "start_time": "2022-12-29T17:01:22.438Z"
   },
   {
    "duration": 6,
    "start_time": "2022-12-29T17:01:22.561Z"
   },
   {
    "duration": 888,
    "start_time": "2022-12-29T17:01:22.569Z"
   },
   {
    "duration": 4,
    "start_time": "2022-12-29T17:01:23.459Z"
   },
   {
    "duration": 8,
    "start_time": "2022-12-29T17:01:23.465Z"
   },
   {
    "duration": 19,
    "start_time": "2022-12-29T17:01:23.474Z"
   },
   {
    "duration": 7,
    "start_time": "2022-12-29T17:01:23.494Z"
   },
   {
    "duration": 6,
    "start_time": "2022-12-29T17:01:23.526Z"
   },
   {
    "duration": 8,
    "start_time": "2022-12-29T17:01:23.534Z"
   },
   {
    "duration": 9,
    "start_time": "2022-12-29T17:01:23.544Z"
   },
   {
    "duration": 14,
    "start_time": "2022-12-29T17:01:23.555Z"
   },
   {
    "duration": 121,
    "start_time": "2022-12-29T17:01:23.626Z"
   },
   {
    "duration": 26,
    "start_time": "2022-12-29T17:01:23.749Z"
   },
   {
    "duration": 86,
    "start_time": "2022-12-29T17:01:23.777Z"
   },
   {
    "duration": 15,
    "start_time": "2022-12-29T17:01:23.865Z"
   },
   {
    "duration": 1477,
    "start_time": "2022-12-29T18:17:04.959Z"
   },
   {
    "duration": 120,
    "start_time": "2022-12-29T18:17:06.438Z"
   },
   {
    "duration": 5,
    "start_time": "2022-12-29T18:17:06.560Z"
   },
   {
    "duration": 880,
    "start_time": "2022-12-29T18:17:06.567Z"
   },
   {
    "duration": 5,
    "start_time": "2022-12-29T18:17:07.448Z"
   },
   {
    "duration": 13,
    "start_time": "2022-12-29T18:17:07.454Z"
   },
   {
    "duration": 20,
    "start_time": "2022-12-29T18:17:07.469Z"
   },
   {
    "duration": 25,
    "start_time": "2022-12-29T18:17:07.491Z"
   },
   {
    "duration": 23,
    "start_time": "2022-12-29T18:17:07.518Z"
   },
   {
    "duration": 40,
    "start_time": "2022-12-29T18:17:07.543Z"
   },
   {
    "duration": 13,
    "start_time": "2022-12-29T18:17:07.584Z"
   },
   {
    "duration": 15,
    "start_time": "2022-12-29T18:17:07.599Z"
   },
   {
    "duration": 203,
    "start_time": "2022-12-29T18:17:07.629Z"
   },
   {
    "duration": 111,
    "start_time": "2022-12-29T18:17:07.834Z"
   },
   {
    "duration": 27,
    "start_time": "2022-12-29T18:17:07.947Z"
   },
   {
    "duration": 13,
    "start_time": "2022-12-29T18:17:07.976Z"
   },
   {
    "duration": 9,
    "start_time": "2022-12-29T18:17:29.503Z"
   },
   {
    "duration": 9,
    "start_time": "2022-12-29T18:17:37.638Z"
   },
   {
    "duration": 108,
    "start_time": "2022-12-29T18:22:16.211Z"
   },
   {
    "duration": 11,
    "start_time": "2022-12-29T18:22:49.844Z"
   },
   {
    "duration": 9,
    "start_time": "2022-12-29T18:23:18.726Z"
   },
   {
    "duration": 11,
    "start_time": "2022-12-29T18:25:01.732Z"
   },
   {
    "duration": 1371,
    "start_time": "2022-12-29T18:25:13.000Z"
   },
   {
    "duration": 28,
    "start_time": "2022-12-29T18:25:14.372Z"
   },
   {
    "duration": 5,
    "start_time": "2022-12-29T18:25:14.401Z"
   },
   {
    "duration": 832,
    "start_time": "2022-12-29T18:25:14.407Z"
   },
   {
    "duration": 4,
    "start_time": "2022-12-29T18:25:15.241Z"
   },
   {
    "duration": 8,
    "start_time": "2022-12-29T18:25:15.246Z"
   },
   {
    "duration": 10,
    "start_time": "2022-12-29T18:25:15.255Z"
   },
   {
    "duration": 8,
    "start_time": "2022-12-29T18:25:15.267Z"
   },
   {
    "duration": 9,
    "start_time": "2022-12-29T18:25:15.276Z"
   },
   {
    "duration": 40,
    "start_time": "2022-12-29T18:25:15.286Z"
   },
   {
    "duration": 3,
    "start_time": "2022-12-29T18:25:15.328Z"
   },
   {
    "duration": 10,
    "start_time": "2022-12-29T18:25:15.333Z"
   },
   {
    "duration": 40,
    "start_time": "2022-12-29T18:25:15.344Z"
   },
   {
    "duration": 45,
    "start_time": "2022-12-29T18:25:15.386Z"
   },
   {
    "duration": 50,
    "start_time": "2022-12-29T18:25:15.433Z"
   },
   {
    "duration": 9,
    "start_time": "2022-12-29T18:25:15.485Z"
   },
   {
    "duration": 9,
    "start_time": "2022-12-29T18:25:36.476Z"
   },
   {
    "duration": 2303,
    "start_time": "2022-12-30T06:00:31.054Z"
   },
   {
    "duration": 28,
    "start_time": "2022-12-30T06:00:33.359Z"
   },
   {
    "duration": 6,
    "start_time": "2022-12-30T06:00:33.389Z"
   },
   {
    "duration": 827,
    "start_time": "2022-12-30T06:00:33.397Z"
   },
   {
    "duration": 4,
    "start_time": "2022-12-30T06:00:34.225Z"
   },
   {
    "duration": 6,
    "start_time": "2022-12-30T06:00:34.230Z"
   },
   {
    "duration": 12,
    "start_time": "2022-12-30T06:00:34.237Z"
   },
   {
    "duration": 6,
    "start_time": "2022-12-30T06:00:34.251Z"
   },
   {
    "duration": 11,
    "start_time": "2022-12-30T06:00:34.258Z"
   },
   {
    "duration": 7,
    "start_time": "2022-12-30T06:00:34.272Z"
   },
   {
    "duration": 3,
    "start_time": "2022-12-30T06:00:34.280Z"
   },
   {
    "duration": 9,
    "start_time": "2022-12-30T06:00:34.318Z"
   },
   {
    "duration": 37,
    "start_time": "2022-12-30T06:00:34.333Z"
   },
   {
    "duration": 29,
    "start_time": "2022-12-30T06:00:34.371Z"
   },
   {
    "duration": 36,
    "start_time": "2022-12-30T06:00:34.401Z"
   },
   {
    "duration": 9,
    "start_time": "2022-12-30T06:00:34.439Z"
   },
   {
    "duration": 13,
    "start_time": "2022-12-30T06:03:32.709Z"
   },
   {
    "duration": 4,
    "start_time": "2022-12-30T06:03:52.935Z"
   },
   {
    "duration": 112,
    "start_time": "2022-12-30T06:07:29.124Z"
   },
   {
    "duration": 4,
    "start_time": "2022-12-30T06:07:46.270Z"
   },
   {
    "duration": 4,
    "start_time": "2022-12-30T06:08:10.345Z"
   },
   {
    "duration": 12,
    "start_time": "2022-12-30T06:08:20.015Z"
   },
   {
    "duration": 15,
    "start_time": "2022-12-30T06:08:28.343Z"
   },
   {
    "duration": 507,
    "start_time": "2022-12-30T06:09:23.894Z"
   },
   {
    "duration": 560,
    "start_time": "2022-12-30T06:09:37.751Z"
   },
   {
    "duration": 4,
    "start_time": "2022-12-30T06:09:44.863Z"
   },
   {
    "duration": 9,
    "start_time": "2022-12-30T06:09:52.434Z"
   },
   {
    "duration": 8,
    "start_time": "2022-12-30T06:10:23.397Z"
   },
   {
    "duration": 10,
    "start_time": "2022-12-30T06:13:09.689Z"
   }
  ],
  "kernelspec": {
   "display_name": "Python 3 (ipykernel)",
   "language": "python",
   "name": "python3"
  },
  "language_info": {
   "codemirror_mode": {
    "name": "ipython",
    "version": 3
   },
   "file_extension": ".py",
   "mimetype": "text/x-python",
   "name": "python",
   "nbconvert_exporter": "python",
   "pygments_lexer": "ipython3",
   "version": "3.9.13"
  },
  "toc": {
   "base_numbering": 1,
   "nav_menu": {},
   "number_sections": true,
   "sideBar": true,
   "skip_h1_title": true,
   "title_cell": "Содержание",
   "title_sidebar": "Contents",
   "toc_cell": true,
   "toc_position": {
    "height": "calc(100% - 180px)",
    "left": "10px",
    "top": "150px",
    "width": "165px"
   },
   "toc_section_display": true,
   "toc_window_display": false
  }
 },
 "nbformat": 4,
 "nbformat_minor": 2
}
