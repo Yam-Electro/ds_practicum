{
 "cells": [
  {
   "cell_type": "markdown",
   "metadata": {},
   "source": [
    "# Исследование объявлений о продаже квартир\n",
    "\n",
    "В вашем распоряжении данные сервиса Яндекс.Недвижимость — архив объявлений о продаже квартир в Санкт-Петербурге и соседних населённых пунктов за несколько лет. Нужно научиться определять рыночную стоимость объектов недвижимости. Ваша задача — установить параметры. Это позволит построить автоматизированную систему: она отследит аномалии и мошенническую деятельность. \n",
    "\n",
    "По каждой квартире на продажу доступны два вида данных. Первые вписаны пользователем, вторые — получены автоматически на основе картографических данных. Например, расстояние до центра, аэропорта, ближайшего парка и водоёма. "
   ]
  },
  {
   "cell_type": "markdown",
   "metadata": {},
   "source": [
    "- Импорт нужных библиотек:"
   ]
  },
  {
   "cell_type": "code",
   "execution_count": 699,
   "metadata": {},
   "outputs": [],
   "source": [
    "import pandas as pd\n",
    "import numpy as np\n",
    "import matplotlib.pyplot as plt\n",
    "import seaborn as s\n",
    "pd.set_option('display.max_rows', 100) #None"
   ]
  },
  {
   "cell_type": "markdown",
   "metadata": {},
   "source": [
    "### Шаг 1. Откройте файл с данными и изучите общую информацию\n",
    "- Путь к файлу: ../datasets/real_estate_data.csv\n",
    "- Скачать датасет\n",
    "- Загрузите данные из файла в датафрейм.\n",
    "- Изучите общую информацию о полученном датафрейме.\n",
    "- Постройте общую гистограмму для всех столбцов таблицы. Например, для датафрейма data это можно сделать командой data.hist(figsize=(15, 20)).\n"
   ]
  },
  {
   "cell_type": "code",
   "execution_count": 701,
   "metadata": {},
   "outputs": [
    {
     "data": {
      "text/html": [
       "<div>\n",
       "<style scoped>\n",
       "    .dataframe tbody tr th:only-of-type {\n",
       "        vertical-align: middle;\n",
       "    }\n",
       "\n",
       "    .dataframe tbody tr th {\n",
       "        vertical-align: top;\n",
       "    }\n",
       "\n",
       "    .dataframe thead th {\n",
       "        text-align: right;\n",
       "    }\n",
       "</style>\n",
       "<table border=\"1\" class=\"dataframe\">\n",
       "  <thead>\n",
       "    <tr style=\"text-align: right;\">\n",
       "      <th></th>\n",
       "      <th>total_images</th>\n",
       "      <th>last_price</th>\n",
       "      <th>total_area</th>\n",
       "      <th>first_day_exposition</th>\n",
       "      <th>rooms</th>\n",
       "      <th>ceiling_height</th>\n",
       "      <th>floors_total</th>\n",
       "      <th>living_area</th>\n",
       "      <th>floor</th>\n",
       "      <th>is_apartment</th>\n",
       "      <th>...</th>\n",
       "      <th>kitchen_area</th>\n",
       "      <th>balcony</th>\n",
       "      <th>locality_name</th>\n",
       "      <th>airports_nearest</th>\n",
       "      <th>cityCenters_nearest</th>\n",
       "      <th>parks_around3000</th>\n",
       "      <th>parks_nearest</th>\n",
       "      <th>ponds_around3000</th>\n",
       "      <th>ponds_nearest</th>\n",
       "      <th>days_exposition</th>\n",
       "    </tr>\n",
       "  </thead>\n",
       "  <tbody>\n",
       "    <tr>\n",
       "      <th>23694</th>\n",
       "      <td>9</td>\n",
       "      <td>9700000.0</td>\n",
       "      <td>133.81</td>\n",
       "      <td>2017-03-21T00:00:00</td>\n",
       "      <td>3</td>\n",
       "      <td>3.7</td>\n",
       "      <td>5.0</td>\n",
       "      <td>73.3</td>\n",
       "      <td>3</td>\n",
       "      <td>NaN</td>\n",
       "      <td>...</td>\n",
       "      <td>13.83</td>\n",
       "      <td>NaN</td>\n",
       "      <td>Санкт-Петербург</td>\n",
       "      <td>24665.0</td>\n",
       "      <td>4232.0</td>\n",
       "      <td>1.0</td>\n",
       "      <td>796.0</td>\n",
       "      <td>3.0</td>\n",
       "      <td>381.0</td>\n",
       "      <td>NaN</td>\n",
       "    </tr>\n",
       "    <tr>\n",
       "      <th>23695</th>\n",
       "      <td>14</td>\n",
       "      <td>3100000.0</td>\n",
       "      <td>59.0</td>\n",
       "      <td>2018-01-15T00:00:00</td>\n",
       "      <td>3</td>\n",
       "      <td>NaN</td>\n",
       "      <td>5.0</td>\n",
       "      <td>38.0</td>\n",
       "      <td>4</td>\n",
       "      <td>NaN</td>\n",
       "      <td>...</td>\n",
       "      <td>8.5</td>\n",
       "      <td>NaN</td>\n",
       "      <td>Тосно</td>\n",
       "      <td>NaN</td>\n",
       "      <td>NaN</td>\n",
       "      <td>NaN</td>\n",
       "      <td>NaN</td>\n",
       "      <td>NaN</td>\n",
       "      <td>NaN</td>\n",
       "      <td>45.00000000000001</td>\n",
       "    </tr>\n",
       "    <tr>\n",
       "      <th>23696</th>\n",
       "      <td>18</td>\n",
       "      <td>2500000.0</td>\n",
       "      <td>56.7</td>\n",
       "      <td>2018-02-11T00:00:00</td>\n",
       "      <td>2</td>\n",
       "      <td>NaN</td>\n",
       "      <td>3.0</td>\n",
       "      <td>29.7</td>\n",
       "      <td>1</td>\n",
       "      <td>NaN</td>\n",
       "      <td>...</td>\n",
       "      <td>NaN</td>\n",
       "      <td>NaN</td>\n",
       "      <td>село Рождествено</td>\n",
       "      <td>NaN</td>\n",
       "      <td>NaN</td>\n",
       "      <td>NaN</td>\n",
       "      <td>NaN</td>\n",
       "      <td>NaN</td>\n",
       "      <td>NaN</td>\n",
       "      <td>NaN</td>\n",
       "    </tr>\n",
       "    <tr>\n",
       "      <th>23697</th>\n",
       "      <td>13</td>\n",
       "      <td>11475000.0</td>\n",
       "      <td>76.75</td>\n",
       "      <td>2017-03-28T00:00:00</td>\n",
       "      <td>2</td>\n",
       "      <td>3.0</td>\n",
       "      <td>17.0</td>\n",
       "      <td>NaN</td>\n",
       "      <td>12</td>\n",
       "      <td>NaN</td>\n",
       "      <td>...</td>\n",
       "      <td>23.3</td>\n",
       "      <td>2.0</td>\n",
       "      <td>Санкт-Петербург</td>\n",
       "      <td>39140.0</td>\n",
       "      <td>10364.0</td>\n",
       "      <td>2.0</td>\n",
       "      <td>173.0</td>\n",
       "      <td>3.0</td>\n",
       "      <td>196.0</td>\n",
       "      <td>602.0</td>\n",
       "    </tr>\n",
       "    <tr>\n",
       "      <th>23698</th>\n",
       "      <td>4</td>\n",
       "      <td>1350000.0</td>\n",
       "      <td>32.3</td>\n",
       "      <td>2017-07-21T00:00:00</td>\n",
       "      <td>1</td>\n",
       "      <td>2.5</td>\n",
       "      <td>5.0</td>\n",
       "      <td>12.3</td>\n",
       "      <td>1</td>\n",
       "      <td>NaN</td>\n",
       "      <td>...</td>\n",
       "      <td>9.0</td>\n",
       "      <td>NaN</td>\n",
       "      <td>поселок Новый Учхоз</td>\n",
       "      <td>NaN</td>\n",
       "      <td>NaN</td>\n",
       "      <td>NaN</td>\n",
       "      <td>NaN</td>\n",
       "      <td>NaN</td>\n",
       "      <td>NaN</td>\n",
       "      <td>NaN</td>\n",
       "    </tr>\n",
       "  </tbody>\n",
       "</table>\n",
       "<p>5 rows × 22 columns</p>\n",
       "</div>"
      ],
      "text/plain": [
       "       total_images  last_price total_area first_day_exposition  rooms  \\\n",
       "23694             9   9700000.0     133.81  2017-03-21T00:00:00      3   \n",
       "23695            14   3100000.0       59.0  2018-01-15T00:00:00      3   \n",
       "23696            18   2500000.0       56.7  2018-02-11T00:00:00      2   \n",
       "23697            13  11475000.0      76.75  2017-03-28T00:00:00      2   \n",
       "23698             4   1350000.0       32.3  2017-07-21T00:00:00      1   \n",
       "\n",
       "      ceiling_height floors_total living_area  floor is_apartment  ...  \\\n",
       "23694            3.7          5.0        73.3      3          NaN  ...   \n",
       "23695            NaN          5.0        38.0      4          NaN  ...   \n",
       "23696            NaN          3.0        29.7      1          NaN  ...   \n",
       "23697            3.0         17.0         NaN     12          NaN  ...   \n",
       "23698            2.5          5.0        12.3      1          NaN  ...   \n",
       "\n",
       "       kitchen_area  balcony        locality_name airports_nearest  \\\n",
       "23694         13.83      NaN      Санкт-Петербург          24665.0   \n",
       "23695           8.5      NaN                Тосно              NaN   \n",
       "23696           NaN      NaN     село Рождествено              NaN   \n",
       "23697          23.3      2.0      Санкт-Петербург          39140.0   \n",
       "23698           9.0      NaN  поселок Новый Учхоз              NaN   \n",
       "\n",
       "      cityCenters_nearest parks_around3000 parks_nearest ponds_around3000  \\\n",
       "23694              4232.0              1.0         796.0              3.0   \n",
       "23695                 NaN              NaN           NaN              NaN   \n",
       "23696                 NaN              NaN           NaN              NaN   \n",
       "23697             10364.0              2.0         173.0              3.0   \n",
       "23698                 NaN              NaN           NaN              NaN   \n",
       "\n",
       "      ponds_nearest    days_exposition  \n",
       "23694         381.0                NaN  \n",
       "23695           NaN  45.00000000000001  \n",
       "23696           NaN                NaN  \n",
       "23697         196.0              602.0  \n",
       "23698           NaN                NaN  \n",
       "\n",
       "[5 rows x 22 columns]"
      ]
     },
     "metadata": {},
     "output_type": "display_data"
    },
    {
     "name": "stdout",
     "output_type": "stream",
     "text": [
      "total_images - 0%\n",
      "last_price - 0%\n",
      "total_area - 0%\n",
      "first_day_exposition - 0%\n",
      "rooms - 0%\n",
      "ceiling_height - 39%\n",
      "floors_total - 0%\n",
      "living_area - 8%\n",
      "floor - 0%\n",
      "is_apartment - 88%\n",
      "studio - 0%\n",
      "open_plan - 0%\n",
      "kitchen_area - 10%\n",
      "balcony - 49%\n",
      "locality_name - 0%\n",
      "airports_nearest - 23%\n",
      "cityCenters_nearest - 23%\n",
      "parks_around3000 - 23%\n",
      "parks_nearest - 66%\n",
      "ponds_around3000 - 23%\n",
      "ponds_nearest - 62%\n",
      "days_exposition - 13%\n"
     ]
    },
    {
     "data": {
      "image/png": "[encoded data removed]",
      "text/plain": [
       "<Figure size 432x288 with 2 Axes>"
      ]
     },
     "metadata": {
      "needs_background": "light"
     },
     "output_type": "display_data"
    }
   ],
   "source": [
    "data = pd.read_csv('../datasets/real_estate_data.csv',  sep='\\t', decimal = ',')\n",
    "\n",
    "#отобразим первые 5 строк:\n",
    "display(data.tail())\n",
    "\n",
    "#глянем общую информацию\n",
    "#data.info()\n",
    "\n",
    "#data.hist(figsize=(15, 20))\n",
    "\n",
    "#Построим тепловую карту пропущенных значений\n",
    "cols = data.columns\n",
    "colours = ['#000099', '#ffff00'] \n",
    "s.heatmap(data[cols].isnull(), cmap=s.color_palette(colours))\n",
    "\n",
    "#Процентный список пропущенных данных\n",
    "for col in data.columns:\n",
    "    pct_missing = np.mean(data[col].isnull())\n",
    "    print('{} - {}%'.format(col, round(pct_missing*100)))\n",
    "\n",
    "   \n"
   ]
  },
  {
   "cell_type": "code",
   "execution_count": 702,
   "metadata": {},
   "outputs": [
    {
     "name": "stdout",
     "output_type": "stream",
     "text": [
      "total_images\n",
      "10    1798\n",
      "9     1725\n",
      "20    1694\n",
      "8     1585\n",
      "7     1521\n",
      "6     1482\n",
      "11    1362\n",
      "5     1301\n",
      "12    1225\n",
      "0     1059\n",
      "13    1015\n",
      "4      986\n",
      "14     986\n",
      "15     948\n",
      "1      872\n",
      "3      769\n",
      "16     761\n",
      "17     650\n",
      "18     642\n",
      "2      640\n",
      "19     603\n",
      "23      16\n",
      "21      12\n",
      "24       8\n",
      "22       8\n",
      "26       5\n",
      "32       4\n",
      "28       4\n",
      "50       3\n",
      "29       3\n",
      "27       2\n",
      "30       2\n",
      "35       2\n",
      "31       2\n",
      "42       1\n",
      "25       1\n",
      "39       1\n",
      "37       1\n",
      "Name: total_images, dtype: int64\n",
      "\n",
      "last_price\n",
      "4500000.0     342\n",
      "3500000.0     291\n",
      "4300000.0     260\n",
      "4000000.0     260\n",
      "4200000.0     259\n",
      "             ... \n",
      "12890000.0      1\n",
      "29375000.0      1\n",
      "7545600.0       1\n",
      "5205000.0       1\n",
      "11475000.0      1\n",
      "Name: last_price, Length: 2978, dtype: int64\n",
      "\n",
      "total_area\n",
      "45.0     419\n",
      "42.0     383\n",
      "60.0     347\n",
      "31.0     346\n",
      "44.0     345\n",
      "        ... \n",
      "184.4      1\n",
      "55.64      1\n",
      "56.16      1\n",
      "109.1      1\n",
      "76.75      1\n",
      "Name: total_area, Length: 2182, dtype: int64\n",
      "\n",
      "first_day_exposition\n",
      "2018-02-01T00:00:00    368\n",
      "2017-11-10T00:00:00    240\n",
      "2017-10-13T00:00:00    124\n",
      "2017-09-27T00:00:00    111\n",
      "2018-03-26T00:00:00     97\n",
      "                      ... \n",
      "2018-05-20T00:00:00      1\n",
      "2015-05-15T00:00:00      1\n",
      "2015-01-12T00:00:00      1\n",
      "2015-12-19T00:00:00      1\n",
      "2015-07-19T00:00:00      1\n",
      "Name: first_day_exposition, Length: 1491, dtype: int64\n",
      "\n",
      "rooms\n",
      "1     8047\n",
      "2     7940\n",
      "3     5814\n",
      "4     1180\n",
      "5      326\n",
      "0      197\n",
      "6      105\n",
      "7       59\n",
      "8       12\n",
      "9        8\n",
      "10       3\n",
      "11       2\n",
      "14       2\n",
      "15       1\n",
      "19       1\n",
      "16       1\n",
      "12       1\n",
      "Name: rooms, dtype: int64\n",
      "\n",
      "ceiling_height\n",
      "2.5     3515\n",
      "2.6     1646\n",
      "2.7     1574\n",
      "3.0     1112\n",
      "2.8      993\n",
      "        ... \n",
      "5.0        1\n",
      "2.2        1\n",
      "2.34       1\n",
      "3.93       1\n",
      "3.59       1\n",
      "Name: ceiling_height, Length: 183, dtype: int64\n",
      "\n",
      "floors_total\n",
      "5.0     5788\n",
      "9.0     3761\n",
      "16.0    1376\n",
      "12.0    1362\n",
      "4.0     1200\n",
      "10.0    1174\n",
      "25.0    1075\n",
      "6.0      914\n",
      "17.0     833\n",
      "3.0      668\n",
      "7.0      592\n",
      "14.0     553\n",
      "18.0     505\n",
      "24.0     469\n",
      "8.0      390\n",
      "2.0      383\n",
      "15.0     365\n",
      "23.0     352\n",
      "19.0     339\n",
      "22.0     286\n",
      "20.0     271\n",
      "13.0     229\n",
      "11.0     203\n",
      "27.0     164\n",
      "21.0     158\n",
      "26.0     124\n",
      "1.0       25\n",
      "35.0      24\n",
      "28.0      21\n",
      "36.0       3\n",
      "34.0       1\n",
      "60.0       1\n",
      "29.0       1\n",
      "33.0       1\n",
      "52.0       1\n",
      "37.0       1\n",
      "Name: floors_total, dtype: int64\n",
      "\n",
      "living_area\n",
      "18.0     882\n",
      "17.0     675\n",
      "30.0     598\n",
      "16.0     486\n",
      "20.0     481\n",
      "        ... \n",
      "76.7       1\n",
      "39.41      1\n",
      "124.9      1\n",
      "36.07      1\n",
      "42.55      1\n",
      "Name: living_area, Length: 1782, dtype: int64\n",
      "\n",
      "floor\n",
      "2     3368\n",
      "3     3073\n",
      "1     2917\n",
      "4     2804\n",
      "5     2621\n",
      "6     1305\n",
      "7     1218\n",
      "8     1083\n",
      "9     1051\n",
      "10     687\n",
      "12     526\n",
      "11     523\n",
      "13     379\n",
      "15     343\n",
      "14     337\n",
      "16     315\n",
      "17     227\n",
      "18     178\n",
      "19     147\n",
      "21     125\n",
      "22     113\n",
      "20     110\n",
      "23     100\n",
      "24      63\n",
      "25      46\n",
      "26      24\n",
      "27      10\n",
      "28       1\n",
      "30       1\n",
      "29       1\n",
      "32       1\n",
      "33       1\n",
      "31       1\n",
      "Name: floor, dtype: int64\n",
      "\n",
      "is_apartment\n",
      "False    2725\n",
      "True       50\n",
      "Name: is_apartment, dtype: int64\n",
      "\n",
      "studio\n",
      "False    23550\n",
      "True       149\n",
      "Name: studio, dtype: int64\n",
      "\n",
      "open_plan\n",
      "False    23632\n",
      "True        67\n",
      "Name: open_plan, dtype: int64\n",
      "\n",
      "kitchen_area\n",
      "6.0      1300\n",
      "10.0     1262\n",
      "8.0      1110\n",
      "9.0      1101\n",
      "7.0      1062\n",
      "         ... \n",
      "53.1        1\n",
      "12.56       1\n",
      "11.84       1\n",
      "13.27       1\n",
      "13.83       1\n",
      "Name: kitchen_area, Length: 971, dtype: int64\n",
      "\n",
      "balcony\n",
      "1.0    4195\n",
      "0.0    3758\n",
      "2.0    3659\n",
      "5.0     304\n",
      "4.0     183\n",
      "3.0      81\n",
      "Name: balcony, dtype: int64\n",
      "\n",
      "locality_name\n",
      "Санкт-Петербург                    15721\n",
      "посёлок Мурино                       522\n",
      "посёлок Шушары                       440\n",
      "Всеволожск                           398\n",
      "Пушкин                               369\n",
      "                                   ...  \n",
      "поселок Каложицы                       1\n",
      "посёлок Платформа 69-й километр        1\n",
      "поселок Почап                          1\n",
      "поселок Гончарово                      1\n",
      "посёлок Дзержинского                   1\n",
      "Name: locality_name, Length: 364, dtype: int64\n",
      "\n",
      "airports_nearest\n",
      "37434.0    61\n",
      "21928.0    32\n",
      "44870.0    30\n",
      "39946.0    30\n",
      "18732.0    27\n",
      "           ..\n",
      "32366.0     1\n",
      "13024.0     1\n",
      "52394.0     1\n",
      "20007.0     1\n",
      "24665.0     1\n",
      "Name: airports_nearest, Length: 8275, dtype: int64\n",
      "\n",
      "cityCenters_nearest\n",
      "8460.0     61\n",
      "20802.0    32\n",
      "10720.0    30\n",
      "20444.0    27\n",
      "8434.0     27\n",
      "           ..\n",
      "16631.0     1\n",
      "24311.0     1\n",
      "15782.0     1\n",
      "11940.0     1\n",
      "6263.0      1\n",
      "Name: cityCenters_nearest, Length: 7642, dtype: int64\n",
      "\n",
      "parks_around3000\n",
      "0.0    10106\n",
      "1.0     5681\n",
      "2.0     1747\n",
      "3.0      647\n",
      "Name: parks_around3000, dtype: int64\n",
      "\n",
      "parks_nearest\n",
      "441.0     67\n",
      "173.0     41\n",
      "392.0     41\n",
      "456.0     40\n",
      "471.0     32\n",
      "          ..\n",
      "3.0        1\n",
      "2847.0     1\n",
      "1443.0     1\n",
      "7.0        1\n",
      "2984.0     1\n",
      "Name: parks_nearest, Length: 995, dtype: int64\n",
      "\n",
      "ponds_around3000\n",
      "0.0    9071\n",
      "1.0    5717\n",
      "2.0    1892\n",
      "3.0    1501\n",
      "Name: ponds_around3000, dtype: int64\n",
      "\n",
      "ponds_nearest\n",
      "427.0     70\n",
      "454.0     41\n",
      "153.0     40\n",
      "433.0     39\n",
      "474.0     37\n",
      "          ..\n",
      "150.0      1\n",
      "967.0      1\n",
      "131.0      1\n",
      "1164.0     1\n",
      "1134.0     1\n",
      "Name: ponds_nearest, Length: 1096, dtype: int64\n",
      "\n",
      "days_exposition\n",
      "45.00000000000001    880\n",
      "60.0                 538\n",
      "7.0                  234\n",
      "30.0                 208\n",
      "90.00000000000001    204\n",
      "                    ... \n",
      "1021.0                 1\n",
      "1362.0                 1\n",
      "1105.0                 1\n",
      "795.0                  1\n",
      "971.0                  1\n",
      "Name: days_exposition, Length: 1141, dtype: int64\n",
      "\n"
     ]
    }
   ],
   "source": [
    "#Глянем что у нас в каждом  столбце за данные\n",
    "for a in data.columns:\n",
    "    print(a)\n",
    "    exec( 'print(data['+ '\\'' + a + '\\'' + '].value_counts())') \n",
    "    print('')"
   ]
  },
  {
   "cell_type": "markdown",
   "metadata": {},
   "source": [
    "**Результат первичного анализа данных:**\n",
    "\n",
    "1. first_day_exposition переведем в datetime\n",
    "2. floors_total меньше одного этажа вряд-ли может быть, нулевые значения меняем на 1\n",
    "\n",
    "3. Конвертируем в integer:  last_price, floors_total, balcony, airports_nearest, cityCenters_nearest, parks_around3000, parks_nearest, ponds_around3000, ponds_nearest, days_exposition т.к. не может быть полтора балкона, полтора парка, Nan значения там где можно поставить 0, 0 балконов, 0 парков и.т.д.\n",
    "\n",
    "4. Конвертируем во float: total_area, ceiling_height, living_area, kitchen_area, есть нулевые значения, подставить медианные. \n",
    "\n",
    "5. is_apartment nan обработаем как  False сконвертируем в bool\n",
    "\n",
    "6. locality_name Есть  NaN, удалим. \n",
    "7. Переименуем cityCenters_nearest в city_сenters_nearest\n"
   ]
  },
  {
   "cell_type": "markdown",
   "metadata": {},
   "source": [
    "### Шаг 2. Предобработка данных\n",
    "1. Найдите и изучите пропущенные значения в столбцах:\n",
    "- Определите, в каких столбцах есть пропуски.\n",
    "- Заполните пропущенные значения там, где это возможно. Например, если продавец не указал число балконов, то, скорее всего, в его квартире их нет. Такие пропуски правильно заменить на 0. Если логичную замену предложить невозможно, то оставьте эти значения пустыми. Пропуски — тоже важный сигнал, который нужно учитывать.\n",
    "- В ячейке с типом markdown укажите причины, которые могли привести к пропускам в данных.\n",
    "2. Рассмотрите типы данных в каждом столбце:\n",
    "- Найдите столбцы, в которых нужно изменить тип данных.\n",
    "- Преобразуйте тип данных в выбранных столбцах.\n",
    "- В ячейке с типом markdown поясните, почему нужно изменить тип данных.\n",
    "3. Изучите уникальные значения в столбце с названиями и устраните неявные дубликаты. Например, «поселок Рябово» и «поселок городского типа Рябово», «поселок Тельмана» и «посёлок Тельмана» — это обозначения одних и тех же населённых пунктов. Вы можете заменить названия в существующем столбце или создать новый с названиями без дубликатов.\n",
    "4. Найдите и устраните редкие и выбивающиеся значения. Например, в столбце ceiling_height может быть указана высота потолков 25 м и 32 м. Логично предположить, что на самом деле это вещественные значения: 2.5 м и 3.2 м. Попробуйте обработать аномалии в этом и других столбцах.\n",
    "- Если природа аномалии понятна и данные действительно искажены, то восстановите корректное значение.\n",
    "- В противном случае удалите редкие и выбивающиеся значения.\n",
    "- В ячейке с типом markdown опишите, какие особенности в данных вы обнаружили."
   ]
  },
  {
   "cell_type": "code",
   "execution_count": 703,
   "metadata": {},
   "outputs": [
    {
     "name": "stdout",
     "output_type": "stream",
     "text": [
      "\n",
      "\n",
      "\n",
      "\n",
      "\n",
      "\n",
      "\n",
      "\n",
      "\n",
      "\n",
      "0\n",
      "<class 'pandas.core.frame.DataFrame'>\n",
      "Int64Index: 23650 entries, 0 to 23698\n",
      "Data columns (total 22 columns):\n",
      " #   Column                Non-Null Count  Dtype         \n",
      "---  ------                --------------  -----         \n",
      " 0   total_images          23650 non-null  int64         \n",
      " 1   last_price            23650 non-null  int64         \n",
      " 2   total_area            23650 non-null  float64       \n",
      " 3   first_day_exposition  23650 non-null  datetime64[ns]\n",
      " 4   rooms                 23650 non-null  int64         \n",
      " 5   ceiling_height        23650 non-null  float64       \n",
      " 6   floors_total          23650 non-null  int64         \n",
      " 7   living_area           23650 non-null  float64       \n",
      " 8   floor                 23650 non-null  int64         \n",
      " 9   is_apartment          23650 non-null  bool          \n",
      " 10  studio                23650 non-null  bool          \n",
      " 11  open_plan             23650 non-null  bool          \n",
      " 12  kitchen_area          23650 non-null  float64       \n",
      " 13  balcony               23650 non-null  int64         \n",
      " 14  locality_name         23650 non-null  object        \n",
      " 15  airports_nearest      23650 non-null  int64         \n",
      " 16  city_centers_nearest  23650 non-null  int64         \n",
      " 17  parks_around3000      23650 non-null  int64         \n",
      " 18  parks_nearest         23650 non-null  int64         \n",
      " 19  ponds_around3000      23650 non-null  int64         \n",
      " 20  ponds_nearest         23650 non-null  int64         \n",
      " 21  days_exposition       23650 non-null  int64         \n",
      "dtypes: bool(3), datetime64[ns](1), float64(4), int64(13), object(1)\n",
      "memory usage: 3.7+ MB\n"
     ]
    },
    {
     "data": {
      "text/html": [
       "<div>\n",
       "<style scoped>\n",
       "    .dataframe tbody tr th:only-of-type {\n",
       "        vertical-align: middle;\n",
       "    }\n",
       "\n",
       "    .dataframe tbody tr th {\n",
       "        vertical-align: top;\n",
       "    }\n",
       "\n",
       "    .dataframe thead th {\n",
       "        text-align: right;\n",
       "    }\n",
       "</style>\n",
       "<table border=\"1\" class=\"dataframe\">\n",
       "  <thead>\n",
       "    <tr style=\"text-align: right;\">\n",
       "      <th></th>\n",
       "      <th>total_images</th>\n",
       "      <th>last_price</th>\n",
       "      <th>total_area</th>\n",
       "      <th>first_day_exposition</th>\n",
       "      <th>rooms</th>\n",
       "      <th>ceiling_height</th>\n",
       "      <th>floors_total</th>\n",
       "      <th>living_area</th>\n",
       "      <th>floor</th>\n",
       "      <th>is_apartment</th>\n",
       "      <th>...</th>\n",
       "      <th>kitchen_area</th>\n",
       "      <th>balcony</th>\n",
       "      <th>locality_name</th>\n",
       "      <th>airports_nearest</th>\n",
       "      <th>city_centers_nearest</th>\n",
       "      <th>parks_around3000</th>\n",
       "      <th>parks_nearest</th>\n",
       "      <th>ponds_around3000</th>\n",
       "      <th>ponds_nearest</th>\n",
       "      <th>days_exposition</th>\n",
       "    </tr>\n",
       "  </thead>\n",
       "  <tbody>\n",
       "    <tr>\n",
       "      <th>23694</th>\n",
       "      <td>9</td>\n",
       "      <td>9700000</td>\n",
       "      <td>133.81</td>\n",
       "      <td>2017-03-21</td>\n",
       "      <td>3</td>\n",
       "      <td>3.70</td>\n",
       "      <td>5</td>\n",
       "      <td>73.3</td>\n",
       "      <td>3</td>\n",
       "      <td>True</td>\n",
       "      <td>...</td>\n",
       "      <td>13.83</td>\n",
       "      <td>0</td>\n",
       "      <td>Санкт-Петербург</td>\n",
       "      <td>24665</td>\n",
       "      <td>4232</td>\n",
       "      <td>1</td>\n",
       "      <td>796</td>\n",
       "      <td>3</td>\n",
       "      <td>381</td>\n",
       "      <td>0</td>\n",
       "    </tr>\n",
       "    <tr>\n",
       "      <th>23695</th>\n",
       "      <td>14</td>\n",
       "      <td>3100000</td>\n",
       "      <td>59.00</td>\n",
       "      <td>2018-01-15</td>\n",
       "      <td>3</td>\n",
       "      <td>2.65</td>\n",
       "      <td>5</td>\n",
       "      <td>38.0</td>\n",
       "      <td>4</td>\n",
       "      <td>True</td>\n",
       "      <td>...</td>\n",
       "      <td>8.50</td>\n",
       "      <td>0</td>\n",
       "      <td>Тосно</td>\n",
       "      <td>0</td>\n",
       "      <td>0</td>\n",
       "      <td>0</td>\n",
       "      <td>0</td>\n",
       "      <td>0</td>\n",
       "      <td>0</td>\n",
       "      <td>45</td>\n",
       "    </tr>\n",
       "    <tr>\n",
       "      <th>23696</th>\n",
       "      <td>18</td>\n",
       "      <td>2500000</td>\n",
       "      <td>56.70</td>\n",
       "      <td>2018-02-11</td>\n",
       "      <td>2</td>\n",
       "      <td>2.65</td>\n",
       "      <td>3</td>\n",
       "      <td>29.7</td>\n",
       "      <td>1</td>\n",
       "      <td>True</td>\n",
       "      <td>...</td>\n",
       "      <td>9.10</td>\n",
       "      <td>0</td>\n",
       "      <td>село Рождествено</td>\n",
       "      <td>0</td>\n",
       "      <td>0</td>\n",
       "      <td>0</td>\n",
       "      <td>0</td>\n",
       "      <td>0</td>\n",
       "      <td>0</td>\n",
       "      <td>0</td>\n",
       "    </tr>\n",
       "    <tr>\n",
       "      <th>23697</th>\n",
       "      <td>13</td>\n",
       "      <td>11475000</td>\n",
       "      <td>76.75</td>\n",
       "      <td>2017-03-28</td>\n",
       "      <td>2</td>\n",
       "      <td>3.00</td>\n",
       "      <td>17</td>\n",
       "      <td>30.0</td>\n",
       "      <td>12</td>\n",
       "      <td>True</td>\n",
       "      <td>...</td>\n",
       "      <td>23.30</td>\n",
       "      <td>2</td>\n",
       "      <td>Санкт-Петербург</td>\n",
       "      <td>39140</td>\n",
       "      <td>10364</td>\n",
       "      <td>2</td>\n",
       "      <td>173</td>\n",
       "      <td>3</td>\n",
       "      <td>196</td>\n",
       "      <td>602</td>\n",
       "    </tr>\n",
       "    <tr>\n",
       "      <th>23698</th>\n",
       "      <td>4</td>\n",
       "      <td>1350000</td>\n",
       "      <td>32.30</td>\n",
       "      <td>2017-07-21</td>\n",
       "      <td>1</td>\n",
       "      <td>2.50</td>\n",
       "      <td>5</td>\n",
       "      <td>12.3</td>\n",
       "      <td>1</td>\n",
       "      <td>True</td>\n",
       "      <td>...</td>\n",
       "      <td>9.00</td>\n",
       "      <td>0</td>\n",
       "      <td>поселок Новый Учхоз</td>\n",
       "      <td>0</td>\n",
       "      <td>0</td>\n",
       "      <td>0</td>\n",
       "      <td>0</td>\n",
       "      <td>0</td>\n",
       "      <td>0</td>\n",
       "      <td>0</td>\n",
       "    </tr>\n",
       "  </tbody>\n",
       "</table>\n",
       "<p>5 rows × 22 columns</p>\n",
       "</div>"
      ],
      "text/plain": [
       "       total_images  last_price  total_area first_day_exposition  rooms  \\\n",
       "23694             9     9700000      133.81           2017-03-21      3   \n",
       "23695            14     3100000       59.00           2018-01-15      3   \n",
       "23696            18     2500000       56.70           2018-02-11      2   \n",
       "23697            13    11475000       76.75           2017-03-28      2   \n",
       "23698             4     1350000       32.30           2017-07-21      1   \n",
       "\n",
       "       ceiling_height  floors_total  living_area  floor  is_apartment  ...  \\\n",
       "23694            3.70             5         73.3      3          True  ...   \n",
       "23695            2.65             5         38.0      4          True  ...   \n",
       "23696            2.65             3         29.7      1          True  ...   \n",
       "23697            3.00            17         30.0     12          True  ...   \n",
       "23698            2.50             5         12.3      1          True  ...   \n",
       "\n",
       "       kitchen_area  balcony        locality_name  airports_nearest  \\\n",
       "23694         13.83        0      Санкт-Петербург             24665   \n",
       "23695          8.50        0                Тосно                 0   \n",
       "23696          9.10        0     село Рождествено                 0   \n",
       "23697         23.30        2      Санкт-Петербург             39140   \n",
       "23698          9.00        0  поселок Новый Учхоз                 0   \n",
       "\n",
       "      city_centers_nearest  parks_around3000  parks_nearest  ponds_around3000  \\\n",
       "23694                 4232                 1            796                 3   \n",
       "23695                    0                 0              0                 0   \n",
       "23696                    0                 0              0                 0   \n",
       "23697                10364                 2            173                 3   \n",
       "23698                    0                 0              0                 0   \n",
       "\n",
       "       ponds_nearest  days_exposition  \n",
       "23694            381                0  \n",
       "23695              0               45  \n",
       "23696              0                0  \n",
       "23697            196              602  \n",
       "23698              0                0  \n",
       "\n",
       "[5 rows x 22 columns]"
      ]
     },
     "metadata": {},
     "output_type": "display_data"
    }
   ],
   "source": [
    "#1 Все даты без времени, следовательно оставим только дату. \n",
    "data.first_day_exposition = pd.to_datetime(data.first_day_exposition, format = '%Y-%m-%d')\n",
    "\n",
    "#2 floors_total меньше одного этажа вряд-ли может быть, нулевые значения меняем на 1\n",
    "data.floors_total = data.floors_total.fillna('1')\n",
    "\n",
    "#3 Конвертируем в integer: last_price, floors_total, balcony, airports_nearest, cityCenters_nearest, parks_around3000,\n",
    "#parks_nearest, ponds_around3000, ponds_nearest, days_exposition \n",
    "#т.к. не может быть полтора балкона, полтора парка, Nan значения там где можно поставить 0, 0 балконов, 0 парков и.т.д.\n",
    "toint = ['last_price', 'floors_total', 'balcony', 'airports_nearest', 'cityCenters_nearest', 'parks_around3000', 'parks_nearest', 'ponds_around3000', 'ponds_nearest', 'days_exposition']\n",
    "\n",
    "for a in toint:\n",
    "    #print(a)\n",
    "    #exec( 'print(data['+ '\\'' + a + '\\'' + '].unique())')   \n",
    "    \n",
    "    exec( 'data['+ '\\'' + a + '\\'' + '] = data['+ '\\'' + a + '\\'' + '].astype(float).fillna(0)') \n",
    "    exec( 'data['+ '\\'' + a + '\\'' + '] = data['+ '\\'' + a + '\\'' + '].astype(int)') \n",
    "    print('')\n",
    "    \n",
    "#4 Конвертируем во float: total_area, ceiling_height, living_area, kitchen_area, есть нулевые значения, подставить медианные.\n",
    "tofloat = ['total_area', 'ceiling_height', 'living_area', 'kitchen_area']\n",
    "for a in tofloat:     \n",
    "    exec( 'data['+ '\\'' + a + '\\'' + '] = data['+ '\\'' + a + '\\'' + '].astype(float).fillna(data['+ '\\'' + a + '\\'' + '].median())') \n",
    "\n",
    "#5 is_apartment nan обработаем как False сконвертируем в bool   \n",
    "data.is_apartment = data.is_apartment.fillna('False').astype('bool')\n",
    "\n",
    "#6 locality_name пустые значения удалим т.к. эти данные только будут мешать\n",
    "data.dropna(subset='locality_name', inplace = True)\n",
    "#Проверим\n",
    "print(data['locality_name'].isnull().sum())\n",
    "\n",
    "#7 cityCenters_nearest переименуем в city_centers_nearest\n",
    "data.rename(columns={'cityCenters_nearest': 'city_centers_nearest'}, inplace=True)\n",
    "\n",
    "#Проверим что все хорошо\n",
    "data.info()\n",
    "display(data.tail())"
   ]
  },
  {
   "cell_type": "markdown",
   "metadata": {},
   "source": [
    "#### 3. Изучите уникальные значения в столбце с названиями и устраните неявные дубликаты. Например, «поселок Рябово» и «поселок городского типа Рябово», «поселок Тельмана» и «посёлок Тельмана» — это обозначения одних и тех же населённых пунктов. Вы можете заменить названия в существующем столбце или создать новый с названиями без дубликатов."
   ]
  },
  {
   "cell_type": "code",
   "execution_count": 437,
   "metadata": {},
   "outputs": [
    {
     "name": "stdout",
     "output_type": "stream",
     "text": [
      "                        cnt\n",
      "name                       \n",
      "  Рощино                  3\n",
      "  Большая Ижора           2\n",
      " Щеглово                  2\n",
      " Ильичёво                 2\n",
      " Зимитицы                 2\n",
      " Жилгородок               2\n",
      " Усть-Луга                2\n",
      " Гарболово                2\n",
      " Гаврилово                2\n",
      " Возрождение              2\n",
      " Терволово                2\n",
      " Бугры                    2\n",
      " Аннино                   2\n",
      "  имени Свердлова         2\n",
      "  Янино-1                 2\n",
      "  Форносово               2\n",
      " Калитино                 2\n",
      " Тельмана                 2\n",
      "  Советский               2\n",
      " Мурино                   2\n",
      " Петровское               2\n",
      " Пансионат Зелёный Бор    2\n",
      " Победа                   2\n",
      " Поляны                   2\n",
      " Новый Свет               2\n",
      " Рабитицы                 2\n",
      " Мичуринское              2\n",
      " Сумино                   2\n",
      " Мельниково               2\n",
      " Лисий Нос                2\n",
      " Старая Малукса           2\n",
      " Коробицыно               2\n",
      " Стеклянный               2\n",
      " Кобралово                2\n",
      "  Токсово                 2\n",
      " Перово                   2\n",
      "  Павлово                 2\n",
      "  Вырица                  2\n",
      "  Кузьмоловский           2\n",
      "  Красный Бор             2\n",
      "  Мга                     2\n",
      "  Назия                   2\n",
      "  Вещево                  2\n",
      "  Лебяжье                 2\n",
      "  Приветнинское           2\n",
      "  Рябово                  2\n",
      "  Лесогорский             2\n"
     ]
    }
   ],
   "source": [
    "locality_name = pd.DataFrame(data = data['locality_name'].unique(), columns= ['name'])\n",
    "\n",
    "#display(locality_name.sort_values('name'))\n",
    "#очень много значений,  так не охватить все глазами, уберем  наименования поселений\n",
    "settlement_type = ['коттеджный','при железнодорожной станции', 'станции', 'городской', 'городского типа', 'городской поселок', 'деревня', 'коттеджный поселок', 'поселок', 'поселок городского типа', 'поселок станции', 'посёлок', 'посёлок городского типа', 'посёлок при железнодорожной станции', 'посёлок станции','садоводческое некоммерческое товарищество', 'садовое товарищество', 'село']\n",
    "\n",
    "for st in settlement_type:\n",
    "        #if locality_name['name'].str.startswith(st) == True: \n",
    "        locality_name['name'] = locality_name['name'].str.replace(st,'')\n",
    "        \n",
    "\n",
    "locality_name_duplicates = pd.DataFrame(data = locality_name.value_counts(), columns= ['cnt'])\n",
    "\n",
    "\n",
    "\n",
    "#Как видно по принту, значения повторялись из-за типа поселений, в остальном сами названия нормальные, а значит нам интересны\n",
    "#только повторяющиеся значения:\n",
    "locality_name_duplicates = locality_name_duplicates[locality_name_duplicates['cnt'] > 1]\n",
    "print(locality_name_duplicates)"
   ]
  },
  {
   "cell_type": "code",
   "execution_count": 438,
   "metadata": {},
   "outputs": [],
   "source": [
    "#мультииндекс не нужен\n",
    "locality_name_duplicates = locality_name_duplicates.reset_index()"
   ]
  },
  {
   "cell_type": "code",
   "execution_count": 439,
   "metadata": {},
   "outputs": [],
   "source": [
    "#Получили список поселений дубликатов:\n",
    "\n",
    "#удалим пробелы\n",
    "locality_name_duplicates['name'] = locality_name_duplicates['name'].str.strip()\n",
    "\n",
    "#Теперь нужно к этим данным добавить поселение, одно.\n",
    "#print(locality_name_duplicates)\n",
    "\n",
    "for ln in locality_name_duplicates['name']:\n",
    "    nm = list(data[data['locality_name'].str.endswith(ln) == True]['locality_name'].head(1))\n",
    "    nm = str(nm)[1:-1] #преобразуем в  строку\n",
    "    nm = nm.replace('\\'','')\n",
    "    \n",
    "    torep = list(data[data['locality_name'].str.endswith(ln) == True]['locality_name'].unique())\n",
    "    #print(ln, '|', nm)\n",
    "    #print(torep)\n",
    "    \n",
    "    for r in torep:\n",
    "        if torep != nm:\n",
    "            data['locality_name'] = data['locality_name'].replace(torep, nm)\n",
    "                    "
   ]
  },
  {
   "cell_type": "code",
   "execution_count": 440,
   "metadata": {},
   "outputs": [
    {
     "name": "stdout",
     "output_type": "stream",
     "text": [
      "Empty DataFrame\n",
      "Columns: [cnt]\n",
      "Index: []\n"
     ]
    }
   ],
   "source": [
    "#Проверим   \n",
    "#'''\n",
    "locality_name2 = pd.DataFrame(data = data['locality_name'].unique(), columns= ['name'])\n",
    "for st in settlement_type:\n",
    "        #if locality_name['name'].str.startswith(st) == True: \n",
    "        locality_name2['name'] = locality_name2['name'].str.replace(st,'')\n",
    "        \n",
    "locality_name_duplicates2 = pd.DataFrame(data = locality_name2.value_counts(), columns= ['cnt'])\n",
    "locality_name_duplicates2 = locality_name_duplicates2[locality_name_duplicates2['cnt'] > 1]\n",
    "print(locality_name_duplicates2)\n",
    "#'''"
   ]
  },
  {
   "cell_type": "markdown",
   "metadata": {},
   "source": [
    "#### Найдите и устраните редкие и выбивающиеся значения. Например, в столбце ceiling_height может быть указана высота потолков 25 м и 32 м. Логично предположить, что на самом деле это вещественные значения: 2.5 м и 3.2 м. Попробуйте обработать аномалии в этом и других столбцах.\n",
    "- Если природа аномалии понятна и данные действительно искажены, то восстановите корректное значение.\n",
    "- В противном случае удалите редкие и выбивающиеся значения.\n",
    "- В ячейке с типом markdown опишите, какие особенности в данных вы обнаружили."
   ]
  },
  {
   "cell_type": "code",
   "execution_count": 441,
   "metadata": {},
   "outputs": [
    {
     "name": "stdout",
     "output_type": "stream",
     "text": [
      "total_images 0 | 50\n",
      "last_price 12190 | 763000000\n",
      "total_area 12.0 | 900.0\n",
      "first_day_exposition 2014-11-27 00:00:00 | 2019-05-03 00:00:00\n",
      "rooms 0 | 19\n",
      "ceiling_height 1.0 | 100.0\n",
      "floors_total 1 | 60\n",
      "living_area 2.0 | 409.7\n",
      "floor 1 | 33\n",
      "is_apartment False | True\n",
      "studio False | True\n",
      "open_plan False | True\n",
      "kitchen_area 1.3 | 112.0\n",
      "balcony 0 | 5\n",
      "locality_name Бокситогорск | село Шум\n",
      "airports_nearest 0 | 84869\n",
      "city_centers_nearest 0 | 65968\n",
      "parks_around3000 0 | 3\n",
      "parks_nearest 0 | 3190\n",
      "ponds_around3000 0 | 3\n",
      "ponds_nearest 0 | 1344\n",
      "days_exposition 0 | 1580\n"
     ]
    }
   ],
   "source": [
    "#Го глянем что у нас по данным:\n",
    "#num = 0\n",
    "#fig, axs = plt.subplots(8, len(data.columns))\n",
    "#n_bins = 100 #len(data)\n",
    "for c in data.columns:   \n",
    "    exec( 'print(' + '\\'' + c + '\\'' + ', min(data['+ '\\'' + c + '\\'' + ']), \"|\", max(data['+ '\\'' + c + '\\'' + ']))') \n",
    "   "
   ]
  },
  {
   "cell_type": "markdown",
   "metadata": {},
   "source": [
    "Нужно проанализировать следующие значения на предмет выбросов: last_price, total_area, ceiling_height, living_area, kitchen_area\n",
    "Возникают вопросы к максимальным значениям. \n",
    "Выведем строки содержащие подозрительные значения:"
   ]
  },
  {
   "cell_type": "code",
   "execution_count": 510,
   "metadata": {},
   "outputs": [
    {
     "data": {
      "text/html": [
       "<div>\n",
       "<style scoped>\n",
       "    .dataframe tbody tr th:only-of-type {\n",
       "        vertical-align: middle;\n",
       "    }\n",
       "\n",
       "    .dataframe tbody tr th {\n",
       "        vertical-align: top;\n",
       "    }\n",
       "\n",
       "    .dataframe thead th {\n",
       "        text-align: right;\n",
       "    }\n",
       "</style>\n",
       "<table border=\"1\" class=\"dataframe\">\n",
       "  <thead>\n",
       "    <tr style=\"text-align: right;\">\n",
       "      <th></th>\n",
       "      <th>total_images</th>\n",
       "      <th>last_price</th>\n",
       "      <th>total_area</th>\n",
       "      <th>first_day_exposition</th>\n",
       "      <th>rooms</th>\n",
       "      <th>ceiling_height</th>\n",
       "      <th>floors_total</th>\n",
       "      <th>living_area</th>\n",
       "      <th>floor</th>\n",
       "      <th>is_apartment</th>\n",
       "      <th>...</th>\n",
       "      <th>parks_nearest</th>\n",
       "      <th>ponds_around3000</th>\n",
       "      <th>ponds_nearest</th>\n",
       "      <th>days_exposition</th>\n",
       "      <th>meter_price</th>\n",
       "      <th>day_of_week</th>\n",
       "      <th>month</th>\n",
       "      <th>year</th>\n",
       "      <th>floor_type</th>\n",
       "      <th>distance_to_center</th>\n",
       "    </tr>\n",
       "  </thead>\n",
       "  <tbody>\n",
       "    <tr>\n",
       "      <th>19540</th>\n",
       "      <td>8</td>\n",
       "      <td>420000000</td>\n",
       "      <td>900.0</td>\n",
       "      <td>2017-12-06</td>\n",
       "      <td>12</td>\n",
       "      <td>2.8</td>\n",
       "      <td>25</td>\n",
       "      <td>409.7</td>\n",
       "      <td>25</td>\n",
       "      <td>True</td>\n",
       "      <td>...</td>\n",
       "      <td>0</td>\n",
       "      <td>2</td>\n",
       "      <td>318</td>\n",
       "      <td>106</td>\n",
       "      <td>466666.67</td>\n",
       "      <td>2</td>\n",
       "      <td>12</td>\n",
       "      <td>2017</td>\n",
       "      <td>последний</td>\n",
       "      <td>8.0</td>\n",
       "    </tr>\n",
       "  </tbody>\n",
       "</table>\n",
       "<p>1 rows × 28 columns</p>\n",
       "</div>"
      ],
      "text/plain": [
       "       total_images  last_price  total_area first_day_exposition  rooms  \\\n",
       "19540             8   420000000       900.0           2017-12-06     12   \n",
       "\n",
       "       ceiling_height  floors_total  living_area  floor  is_apartment  ...  \\\n",
       "19540             2.8            25        409.7     25          True  ...   \n",
       "\n",
       "       parks_nearest  ponds_around3000  ponds_nearest  days_exposition  \\\n",
       "19540              0                 2            318              106   \n",
       "\n",
       "      meter_price  day_of_week  month  year  floor_type  distance_to_center  \n",
       "19540   466666.67            2     12  2017   последний                 8.0  \n",
       "\n",
       "[1 rows x 28 columns]"
      ]
     },
     "execution_count": 510,
     "metadata": {},
     "output_type": "execute_result"
    }
   ],
   "source": [
    "#data[data['last_price'] == 763000000]\n",
    "#data[data['total_area'] == 900.0]\n",
    "#Выглядит правдоподобно, идем дальше:\n",
    "\n",
    "#Проверим высоту потолков:\n",
    "data[data['ceiling_height'] >=  20].sort_values('ceiling_height', ascending = False)\n",
    "#В полученных значениях ошибка,  100 метров это явно выброс, установим медианое значение:\n",
    "data['ceiling_height'] = data['ceiling_height'].replace(100,  data['ceiling_height'].median())\n",
    "#По остальным данным заменим 32 на 3.2, 27.5 на 2.75, итд вероятней всего при заполнении  были допущены ошибки. \n",
    "data['ceiling_height'] = data['ceiling_height'].replace(32.0,  3.2)\n",
    "data['ceiling_height'] = data['ceiling_height'].replace(27.5,  2.75)\n",
    "data['ceiling_height'] = data['ceiling_height'].replace(27.0,  2.7)\n",
    "data['ceiling_height'] = data['ceiling_height'].replace(26.0,  2.6)\n",
    "data['ceiling_height'] = data['ceiling_height'].replace(25.0,  2.5)\n",
    "data['ceiling_height'] = data['ceiling_height'].replace(24.0,  2.4)\n",
    "data['ceiling_height'] = data['ceiling_height'].replace(22.6,  2.26)\n",
    "data['ceiling_height'] = data['ceiling_height'].replace(22.6,  2.26)\n",
    "data['ceiling_height'] = data['ceiling_height'].replace(20.0,  2.0)\n",
    "\n",
    "#8 комнат,  выглядит правдоподобно:\n",
    "#data[data['living_area'] == 409.7]\n",
    "\n",
    "#12 комнат, почему бы и кухню не сделать большой? \n",
    "data[data['kitchen_area'] == 112.0]\n"
   ]
  },
  {
   "cell_type": "markdown",
   "metadata": {},
   "source": [
    "Обнаружена некорректная высота потолка,  100 метров - явный выброс, установлено медианное значение. \n",
    "В остальных случаях высота была указана в дециметрах, переведена в метры. "
   ]
  },
  {
   "cell_type": "markdown",
   "metadata": {},
   "source": [
    "### Шаг 3. Добавьте в таблицу новые столбцы со следующими параметрами:\n",
    "- цена одного квадратного метра;\n",
    "- день недели публикации объявления (0 — понедельник, 1 — вторник и так далее);\n",
    "- месяц публикации объявления;\n",
    "- год публикации объявления;\n",
    "- тип этажа квартиры (значения — «‎первый», «последний», «другой»);\n",
    "- расстояние до центра города в километрах (переведите из м в км и округлите до целых значений)."
   ]
  },
  {
   "cell_type": "code",
   "execution_count": 574,
   "metadata": {},
   "outputs": [],
   "source": [
    "#цена одного квадратного метра; (немного округлим)\n",
    "data['meter_price'] = np.round(data['last_price'] / data['total_area'], 2)\n",
    "\n",
    "#день недели публикации объявления (0 — понедельник, 1 — вторник и так далее);\n",
    "data['day_of_week'] = data['first_day_exposition'].dt.dayofweek\n",
    "\n",
    "#- месяц публикации объявления;\n",
    "data['month'] = data['first_day_exposition'].dt.month\n",
    "#- год публикации объявления;\n",
    "data['year'] = data['first_day_exposition'].dt.year\n",
    "#- тип этажа квартиры (значения — «‎первый», «последний», «другой»);\n",
    "#используем аналог case when\n",
    "data['floor_type'] = np.where(data['floor']== data['floors_total'], 'последний',\n",
    "                     np.where(data['floor']== 1, 'первый', 'другой'))\n",
    "\n",
    "data['floor_type_int'] = np.where(data['floor']== data['floors_total'], 3,\n",
    "                     np.where(data['floor']== 1, 1, 2))\n",
    "\n",
    "#- расстояние до центра города в километрах (переведите из м в км и округлите до целых значений).\n",
    "data['distance_to_center'] = np.round(data['city_centers_nearest'] / 1000)\n",
    "\n",
    "#print(data['distance_to_center'].head(50))"
   ]
  },
  {
   "cell_type": "markdown",
   "metadata": {},
   "source": [
    "### Шаг 4. Проведите исследовательский анализ данных:\n",
    "1. Изучите следующие параметры объектов:\n",
    "- общая площадь;\n",
    "- жилая площадь;\n",
    "- площадь кухни;\n",
    "- цена объекта;\n",
    "- количество комнат;\n",
    "- высота потолков;\n",
    "- этаж квартиры;\n",
    "- тип этажа квартиры («первый», «последний», «другой»);\n",
    "- общее количество этажей в доме;\n",
    "- расстояние до центра города в метрах;\n",
    "- расстояние до ближайшего аэропорта;\n",
    "- расстояние до ближайшего парка;\n",
    "- день и месяц публикации объявления.\n",
    "\n",
    "Постройте отдельные гистограммы для каждого из этих параметров. Опишите все ваши наблюдения по параметрам в ячейке с типом markdown.\n",
    "\n",
    "2. Изучите, как быстро продавались квартиры (столбец days_exposition). Этот параметр показывает, сколько дней было размещено каждое объявление.\n",
    "- Постройте гистограмму.\n",
    "- Посчитайте среднее и медиану.\n",
    "- В ячейке типа markdown опишите, сколько времени обычно занимает продажа. Какие продажи можно считать быстрыми, а какие — необычно долгими?\n",
    "3. Какие факторы больше всего влияют на общую (полную) стоимость объекта?\n",
    "- Изучите, зависит ли цена от:\n",
    "- общей площади;\n",
    "- жилой площади;\n",
    "- площади кухни;\n",
    "- количества комнат;\n",
    "- этажа, на котором расположена квартира (первый, последний, другой);\n",
    "- даты размещения (день недели, месяц, год).\n",
    "\n",
    "Постройте графики, которые покажут зависимость цены от указанных выше параметров. Для подготовки данных перед визуализацией вы можете использовать сводные таблицы.\n",
    "\n",
    "4. Посчитайте среднюю цену одного квадратного метра в 10 населённых пунктах с наибольшим числом объявлений. Выделите населённые пункты с самой высокой и низкой стоимостью квадратного метра. Эти данные можно найти по имени в столбце locality_name.\n",
    "5. Ранее вы посчитали расстояние до центра в километрах. Теперь выделите квартиры в Санкт-Петербурге с помощью столбца locality_name и вычислите среднюю цену каждого километра. Опишите, как стоимость объектов зависит от расстояния до центра города."
   ]
  },
  {
   "cell_type": "code",
   "execution_count": 487,
   "metadata": {},
   "outputs": [
    {
     "data": {
      "text/html": [
       "<div>\n",
       "<style scoped>\n",
       "    .dataframe tbody tr th:only-of-type {\n",
       "        vertical-align: middle;\n",
       "    }\n",
       "\n",
       "    .dataframe tbody tr th {\n",
       "        vertical-align: top;\n",
       "    }\n",
       "\n",
       "    .dataframe thead th {\n",
       "        text-align: right;\n",
       "    }\n",
       "</style>\n",
       "<table border=\"1\" class=\"dataframe\">\n",
       "  <thead>\n",
       "    <tr style=\"text-align: right;\">\n",
       "      <th></th>\n",
       "      <th>total_images</th>\n",
       "      <th>last_price</th>\n",
       "      <th>total_area</th>\n",
       "      <th>first_day_exposition</th>\n",
       "      <th>rooms</th>\n",
       "      <th>ceiling_height</th>\n",
       "      <th>floors_total</th>\n",
       "      <th>living_area</th>\n",
       "      <th>floor</th>\n",
       "      <th>is_apartment</th>\n",
       "      <th>...</th>\n",
       "      <th>parks_nearest</th>\n",
       "      <th>ponds_around3000</th>\n",
       "      <th>ponds_nearest</th>\n",
       "      <th>days_exposition</th>\n",
       "      <th>meter_price</th>\n",
       "      <th>day_of_week</th>\n",
       "      <th>month</th>\n",
       "      <th>year</th>\n",
       "      <th>floor_type</th>\n",
       "      <th>distance_to_center</th>\n",
       "    </tr>\n",
       "  </thead>\n",
       "  <tbody>\n",
       "    <tr>\n",
       "      <th>0</th>\n",
       "      <td>20</td>\n",
       "      <td>13000000</td>\n",
       "      <td>108.0</td>\n",
       "      <td>2019-03-07</td>\n",
       "      <td>3</td>\n",
       "      <td>2.7</td>\n",
       "      <td>16</td>\n",
       "      <td>51.0</td>\n",
       "      <td>8</td>\n",
       "      <td>True</td>\n",
       "      <td>...</td>\n",
       "      <td>482</td>\n",
       "      <td>2</td>\n",
       "      <td>755</td>\n",
       "      <td>0</td>\n",
       "      <td>120370.37</td>\n",
       "      <td>3</td>\n",
       "      <td>3</td>\n",
       "      <td>2019</td>\n",
       "      <td>другой</td>\n",
       "      <td>16.0</td>\n",
       "    </tr>\n",
       "  </tbody>\n",
       "</table>\n",
       "<p>1 rows × 28 columns</p>\n",
       "</div>"
      ],
      "text/plain": [
       "   total_images  last_price  total_area first_day_exposition  rooms  \\\n",
       "0            20    13000000       108.0           2019-03-07      3   \n",
       "\n",
       "   ceiling_height  floors_total  living_area  floor  is_apartment  ...  \\\n",
       "0             2.7            16         51.0      8          True  ...   \n",
       "\n",
       "   parks_nearest  ponds_around3000  ponds_nearest  days_exposition  \\\n",
       "0            482                 2            755                0   \n",
       "\n",
       "  meter_price  day_of_week  month  year  floor_type  distance_to_center  \n",
       "0   120370.37            3      3  2019      другой                16.0  \n",
       "\n",
       "[1 rows x 28 columns]"
      ]
     },
     "metadata": {},
     "output_type": "display_data"
    }
   ],
   "source": [
    "display(data.head(1))"
   ]
  },
  {
   "cell_type": "code",
   "execution_count": 575,
   "metadata": {},
   "outputs": [
    {
     "data": {
      "text/plain": [
       "<AxesSubplot:ylabel='Frequency'>"
      ]
     },
     "execution_count": 575,
     "metadata": {},
     "output_type": "execute_result"
    },
    {
     "data": {
      "image/png": "[encoded data removed]",
      "text/plain": [
       "<Figure size 360x216 with 1 Axes>"
      ]
     },
     "metadata": {
      "needs_background": "light"
     },
     "output_type": "display_data"
    }
   ],
   "source": [
    "#1. Изучите следующие параметры объектов:\n",
    "\n",
    "#- общая площадь;\n",
    "#data.plot(y = 'total_area', kind = 'hist', bins = 100, grid=True, figsize = (5,3), range = (0,500))\n",
    "#data['total_area'].describe()\n",
    "\n",
    "#- жилая площадь;\n",
    "#data.plot(y = 'living_area', kind = 'hist', bins = 100, grid=True, figsize = (5,3), range = (0,500))\n",
    "#data['living_area'].describe()\n",
    "\n",
    "#- площадь кухни;\n",
    "#data.plot(y = 'kitchen_area', kind = 'hist', bins = 100, grid=True, figsize = (5,3), range = (0,500))\n",
    "#data['kitchen_area'].describe()\n",
    "\n",
    "#- цена объекта;\n",
    "#data.plot(y = 'last_price', kind = 'hist', bins = 100, grid=True, range = (0,15000000), figsize = (5,3))\n",
    "#data['last_price'].describe()\n",
    "\n",
    "#- количество комнат;\n",
    "#data.plot(y = 'rooms', kind = 'hist', bins = max(data.rooms), grid=True, figsize = (5,3))\n",
    "#data['rooms'].describe()\n",
    "\n",
    "#- высота потолков;\n",
    "#data.plot(y = 'ceiling_height', kind = 'hist', bins = 30, range = (2,5), grid=True, figsize = (5,3))\n",
    "#data['ceiling_height'].describe()\n",
    "#Осталось еще одндваи выброса с 14 и 10 метровыми потолками и небольшой  площадью квартиры, удалим. \n",
    "#data.drop(data.index[data['ceiling_height'] >=  10], inplace = True)\n",
    "\n",
    "\n",
    "#- этаж квартиры;\n",
    "#data.plot(y = 'floor', kind = 'hist', bins = 100, grid=True, figsize = (5,3), range = (0,60))\n",
    "#data['floor'].describe()\n",
    "\n",
    "#- тип этажа квартиры («первый», «последний», «другой»);\n",
    "#data.plot(y = 'floor_type_int', kind = 'hist', bins = 100, grid=True, figsize = (5,3), range = (0,3))\n",
    "#data['floor_type_int'].describe()\n",
    "\n",
    "#- общее количество этажей в доме;\n",
    "#data.plot(y = 'floors_total', kind = 'hist', bins = 100, grid=True, figsize = (5,3), range = (0,60))\n",
    "#data['floors_total'].describe()\n",
    "\n",
    "#- расстояние до центра города в метрах;\n",
    "#data.plot(y = 'city_centers_nearest', kind = 'hist', bins = 100, grid=True, figsize = (10,5), range = (0,65968.000000))\n",
    "#data['city_centers_nearest'].describe()\n",
    "#много зданий с 0, это те nan которые были  нами использованы\n",
    "\n",
    "#- расстояние до ближайшего аэропорта;\n",
    "#data.plot(y = 'airports_nearest', kind = 'hist', bins = 100, grid=True, figsize = (10,5), range = (0,84869.000000))\n",
    "#data['airports_nearest'].describe()\n",
    "#в основном жилье сдается в отдалении от аэропорта, это логично. \n",
    "\n",
    "#- расстояние до ближайшего парка;\n",
    "#data.plot(y = 'parks_nearest', kind = 'hist', bins = 100, grid=True, figsize = (10,5), range = (0,84869.000000))\n",
    "#data['parks_nearest'].describe()\n",
    "\n",
    "#- день и месяц публикации объявления.\n",
    "#день\n",
    "#data.plot(y = 'day_of_week', kind = 'hist', bins = 100, grid=True, figsize = (10,5), range = (0,6))\n",
    "#data['day_of_week'].describe()\n",
    "#По четвергам самый всплеск\n",
    "#месяц\n",
    "#data.plot(y = 'month', kind = 'hist', bins = 100, grid=True, figsize = (10,5), range = (1,12))\n",
    "#data['month'].describe()\n",
    "#февраль самый активный\n",
    "\n"
   ]
  },
  {
   "cell_type": "markdown",
   "metadata": {},
   "source": [
    "- В процессе обнаружил что не до конца  поправил данные по высоте потолков,  были удалены квартиры с потолком 10 и  14 метров т.к.  размер жилплощади у этих помещений был стандартный. \n",
    "\n",
    "- Расстояние до центра города в метрах - очень много нулевых значений, это те данные  где расстояние не было заполнено,  пока нет никаких идей  как можно  корректно заполнить такие параметры не удаляя их.\n",
    "\n",
    "- Интересное наблюдение по этажности,  квартиры выше 33 этажа не продают хотя максимальный этаж шестидесятый. \n",
    "\n",
    "- В основном жилье  продается в удалении от аэропорта, логично.\n",
    "\n",
    "- По четвергам наблюдается максимальная активность продаж жилья\n",
    "\n",
    "- В феврале наблюдается максимальная активность продаж жилья"
   ]
  },
  {
   "cell_type": "code",
   "execution_count": 562,
   "metadata": {},
   "outputs": [
    {
     "data": {
      "text/plain": [
       "Index(['total_images', 'last_price', 'total_area', 'first_day_exposition',\n",
       "       'rooms', 'ceiling_height', 'floors_total', 'living_area', 'floor',\n",
       "       'is_apartment', 'studio', 'open_plan', 'kitchen_area', 'balcony',\n",
       "       'locality_name', 'airports_nearest', 'city_centers_nearest',\n",
       "       'parks_around3000', 'parks_nearest', 'ponds_around3000',\n",
       "       'ponds_nearest', 'days_exposition', 'meter_price', 'day_of_week',\n",
       "       'month', 'year', 'floor_type', 'distance_to_center'],\n",
       "      dtype='object')"
      ]
     },
     "metadata": {},
     "output_type": "display_data"
    },
    {
     "data": {
      "text/plain": [
       "count    20468.000000\n",
       "mean       180.748827\n",
       "std        219.786428\n",
       "min          1.000000\n",
       "25%         45.000000\n",
       "50%         95.000000\n",
       "75%        231.000000\n",
       "max       1580.000000\n",
       "Name: days_exposition, dtype: float64"
      ]
     },
     "execution_count": 562,
     "metadata": {},
     "output_type": "execute_result"
    },
    {
     "data": {
      "image/png": "[encoded data removed]",
      "text/plain": [
       "<Figure size 432x288 with 1 Axes>"
      ]
     },
     "metadata": {
      "needs_background": "light"
     },
     "output_type": "display_data"
    },
    {
     "data": {
      "image/png": "[encoded data removed]",
      "text/plain": [
       "<Figure size 432x288 with 1 Axes>"
      ]
     },
     "metadata": {
      "needs_background": "light"
     },
     "output_type": "display_data"
    }
   ],
   "source": [
    "#2. Изучите, как быстро продавались квартиры (столбец days_exposition). Этот параметр показывает, сколько дней было размещено каждое объявление.\n",
    "#- Постройте гистограмму.\n",
    "#- Посчитайте среднее и медиану.\n",
    "#- В ячейке типа markdown опишите, сколько времени обычно занимает продажа. Какие продажи можно считать быстрыми, а какие — необычно долгими?\n",
    "\n",
    "display(data.columns)\n",
    "\n",
    "data.plot(y = 'days_exposition', kind = 'hist', bins = 30, grid = True, range = (1,1600))\n",
    "data.plot(y = 'days_exposition', kind = 'hist', bins = 100, grid = True, range = (1,200))\n",
    "\n",
    "#среднее значение, медиана и межквартильный размах\n",
    "data[data['days_exposition']!=0]['days_exposition'].describe()\n",
    "#data[data['days_exposition']!=0]['days_exposition'].value_counts()"
   ]
  },
  {
   "cell_type": "markdown",
   "metadata": {},
   "source": [
    "Среднее значение - 180 дней медиана - 95 дней.\n",
    "Сделав гистограмму со значениями от 0 до 200 с кол-вом корзин 100, обнаружили выбивающиеся значения и методом value_counts убедились в этом - у нас аномалии на 45, 60, 7, 30, 90 днях - это наиболее популярное количество дней до снятия объявления.\n",
    "\n",
    "В правилах размещения объявлений в Яндекс Недвижимости, именно после этих сроков объявление считается неактуальным и снимается автоматически.\n",
    "\n",
    "Возможно в дальнейшем обьявления о квартирах проданных  в эти дни из выборки уберем. "
   ]
  },
  {
   "cell_type": "code",
   "execution_count": 563,
   "metadata": {},
   "outputs": [
    {
     "data": {
      "text/plain": [
       "0.30221041984911406"
      ]
     },
     "execution_count": 563,
     "metadata": {},
     "output_type": "execute_result"
    },
    {
     "data": {
      "image/png": "[encoded data removed]",
      "text/plain": [
       "<Figure size 432x288 with 1 Axes>"
      ]
     },
     "metadata": {
      "needs_background": "light"
     },
     "output_type": "display_data"
    }
   ],
   "source": [
    "#3. Какие факторы больше всего влияют на общую (полную) стоимость объекта?\n",
    "#- Изучите, зависит ли цена от:\n",
    "#- общей площади;\n",
    "\n",
    "pivot_table_total_area = data.pivot_table(index = 'total_area', values = 'meter_price', aggfunc = ['mean', 'count', 'median'])\n",
    "pivot_table_total_area.columns = ['mean', 'count', 'median']\n",
    "pivot_table_total_area.plot(y = 'median', style = 'o')\n",
    "\n",
    "pivot_table_total_area.sort_values('median', ascending = False)\n",
    "\n",
    "data['total_area'].corr(data['meter_price'])\n",
    "\n",
    "#Постройте графики, которые покажут зависимость цены от указанных выше параметров. Для подготовки данных перед визуализацией вы можете использовать сводные таблицы."
   ]
  },
  {
   "cell_type": "markdown",
   "metadata": {},
   "source": [
    "От общей площади зависимость очень слабая - 0.3 Стоимость растет от размера площади. "
   ]
  },
  {
   "cell_type": "code",
   "execution_count": 564,
   "metadata": {},
   "outputs": [
    {
     "data": {
      "text/plain": [
       "0.8742462457215306"
      ]
     },
     "execution_count": 564,
     "metadata": {},
     "output_type": "execute_result"
    },
    {
     "data": {
      "image/png": "[encoded data removed]",
      "text/plain": [
       "<Figure size 432x288 with 1 Axes>"
      ]
     },
     "metadata": {
      "needs_background": "light"
     },
     "output_type": "display_data"
    }
   ],
   "source": [
    "#- жилой площади;\n",
    "pivot_table_total_area = data.pivot_table(index = 'living_area', values = 'meter_price', aggfunc = ['mean', 'count', 'median'])\n",
    "pivot_table_total_area.columns = ['mean', 'count', 'median']\n",
    "pivot_table_total_area.plot(y = 'median', style = 'o')\n",
    "pivot_table_total_area.sort_values('median', ascending = False)\n",
    "\n",
    "data['total_area'].corr(data['living_area'])"
   ]
  },
  {
   "cell_type": "code",
   "execution_count": null,
   "metadata": {},
   "outputs": [],
   "source": [
    "От жилой площади корреляция высокая, 0.87, чем больше жилая площадь тем выше цена."
   ]
  },
  {
   "cell_type": "code",
   "execution_count": 573,
   "metadata": {},
   "outputs": [
    {
     "data": {
      "text/plain": [
       "0.5697430445965398"
      ]
     },
     "execution_count": 573,
     "metadata": {},
     "output_type": "execute_result"
    },
    {
     "data": {
      "image/png": "[encoded data removed]",
      "text/plain": [
       "<Figure size 432x288 with 1 Axes>"
      ]
     },
     "metadata": {
      "needs_background": "light"
     },
     "output_type": "display_data"
    }
   ],
   "source": [
    "#- площади кухни;\n",
    "pivot_table_total_area = data.pivot_table(index = 'kitchen_area', values = 'meter_price', aggfunc = ['mean', 'count', 'median'])\n",
    "pivot_table_total_area.columns = ['mean', 'count', 'median']\n",
    "pivot_table_total_area.plot(y = 'median', style = 'o')\n",
    "pivot_table_total_area.sort_values('median', ascending = False)\n",
    "\n",
    "data['total_area'].corr(data['kitchen_area'])"
   ]
  },
  {
   "cell_type": "markdown",
   "metadata": {},
   "source": [
    "От площади кухни кореляция слабая, 0.5"
   ]
  },
  {
   "cell_type": "code",
   "execution_count": 570,
   "metadata": {},
   "outputs": [
    {
     "data": {
      "text/plain": [
       "0.7587454506118994"
      ]
     },
     "execution_count": 570,
     "metadata": {},
     "output_type": "execute_result"
    },
    {
     "data": {
      "image/png": "[encoded data removed]",
      "text/plain": [
       "<Figure size 432x288 with 1 Axes>"
      ]
     },
     "metadata": {
      "needs_background": "light"
     },
     "output_type": "display_data"
    }
   ],
   "source": [
    "#- количества комнат;\n",
    "pivot_table_total_area = data.pivot_table(index = 'rooms', values = 'meter_price', aggfunc = ['mean', 'count', 'median'])\n",
    "pivot_table_total_area.columns = ['mean', 'count', 'median']\n",
    "pivot_table_total_area.plot(y = 'median', style = 'o')\n",
    "pivot_table_total_area.sort_values('median', ascending = False)\n",
    "\n",
    "data['total_area'].corr(data['rooms'])\n",
    "\n",
    "\n",
    "#- этажа, на котором расположена квартира (первый, последний, другой);\n",
    "#- даты размещения (день недели, месяц, год)."
   ]
  },
  {
   "cell_type": "markdown",
   "metadata": {},
   "source": [
    "Наблюдается средняя корреляция от количества комнат"
   ]
  },
  {
   "cell_type": "code",
   "execution_count": 576,
   "metadata": {},
   "outputs": [
    {
     "data": {
      "text/plain": [
       "0.064476500453847"
      ]
     },
     "execution_count": 576,
     "metadata": {},
     "output_type": "execute_result"
    },
    {
     "data": {
      "image/png": "[encoded data removed]",
      "text/plain": [
       "<Figure size 432x288 with 1 Axes>"
      ]
     },
     "metadata": {
      "needs_background": "light"
     },
     "output_type": "display_data"
    }
   ],
   "source": [
    "#- этажа, на котором расположена квартира (первый, последний, другой);\n",
    "pivot_table_total_area = data.pivot_table(index = 'floor_type_int', values = 'meter_price', aggfunc = ['mean', 'count', 'median'])\n",
    "pivot_table_total_area.columns = ['mean', 'count', 'median']\n",
    "pivot_table_total_area.plot(y = 'median', style = 'o')\n",
    "pivot_table_total_area.sort_values('median', ascending = False)\n",
    "\n",
    "data['total_area'].corr(data['floor_type_int'])\n"
   ]
  },
  {
   "cell_type": "markdown",
   "metadata": {},
   "source": [
    "Очень слабая корреляция от типа этажа на котором расположена квартира 0.06"
   ]
  },
  {
   "cell_type": "code",
   "execution_count": 579,
   "metadata": {},
   "outputs": [
    {
     "data": {
      "text/html": [
       "<div>\n",
       "<style scoped>\n",
       "    .dataframe tbody tr th:only-of-type {\n",
       "        vertical-align: middle;\n",
       "    }\n",
       "\n",
       "    .dataframe tbody tr th {\n",
       "        vertical-align: top;\n",
       "    }\n",
       "\n",
       "    .dataframe thead th {\n",
       "        text-align: right;\n",
       "    }\n",
       "</style>\n",
       "<table border=\"1\" class=\"dataframe\">\n",
       "  <thead>\n",
       "    <tr style=\"text-align: right;\">\n",
       "      <th></th>\n",
       "      <th>mean</th>\n",
       "      <th>count</th>\n",
       "      <th>median</th>\n",
       "    </tr>\n",
       "    <tr>\n",
       "      <th>year</th>\n",
       "      <th></th>\n",
       "      <th></th>\n",
       "      <th></th>\n",
       "    </tr>\n",
       "  </thead>\n",
       "  <tbody>\n",
       "    <tr>\n",
       "      <th>2014</th>\n",
       "      <td>124302.355882</td>\n",
       "      <td>136</td>\n",
       "      <td>106901.900</td>\n",
       "    </tr>\n",
       "    <tr>\n",
       "      <th>2019</th>\n",
       "      <td>107123.780215</td>\n",
       "      <td>2879</td>\n",
       "      <td>103305.790</td>\n",
       "    </tr>\n",
       "    <tr>\n",
       "      <th>2018</th>\n",
       "      <td>97799.890724</td>\n",
       "      <td>8511</td>\n",
       "      <td>95703.120</td>\n",
       "    </tr>\n",
       "    <tr>\n",
       "      <th>2015</th>\n",
       "      <td>104719.098517</td>\n",
       "      <td>1173</td>\n",
       "      <td>93396.230</td>\n",
       "    </tr>\n",
       "    <tr>\n",
       "      <th>2017</th>\n",
       "      <td>97634.899244</td>\n",
       "      <td>8184</td>\n",
       "      <td>92569.055</td>\n",
       "    </tr>\n",
       "    <tr>\n",
       "      <th>2016</th>\n",
       "      <td>98295.372597</td>\n",
       "      <td>2765</td>\n",
       "      <td>91666.670</td>\n",
       "    </tr>\n",
       "  </tbody>\n",
       "</table>\n",
       "</div>"
      ],
      "text/plain": [
       "               mean  count      median\n",
       "year                                  \n",
       "2014  124302.355882    136  106901.900\n",
       "2019  107123.780215   2879  103305.790\n",
       "2018   97799.890724   8511   95703.120\n",
       "2015  104719.098517   1173   93396.230\n",
       "2017   97634.899244   8184   92569.055\n",
       "2016   98295.372597   2765   91666.670"
      ]
     },
     "execution_count": 579,
     "metadata": {},
     "output_type": "execute_result"
    },
    {
     "data": {
      "image/png": "[encoded data removed]",
      "text/plain": [
       "<Figure size 432x288 with 1 Axes>"
      ]
     },
     "metadata": {
      "needs_background": "light"
     },
     "output_type": "display_data"
    }
   ],
   "source": [
    "#- даты размещения (день недели, месяц, год).\n",
    "pivot_table_year_exposition = data.pivot_table(index = 'year', values = 'meter_price', aggfunc = ['mean', 'count', 'median'])\n",
    "pivot_table_year_exposition.columns = ['mean', 'count', 'median']\n",
    "pivot_table_year_exposition.plot(y = 'median')\n",
    "\n",
    "pivot_table_year_exposition.sort_values('median', ascending = False)"
   ]
  },
  {
   "cell_type": "markdown",
   "metadata": {},
   "source": [
    "В 2014 году мы можем наблюдать падение цен на жилье, в 2018  рост, жаль набор данных небольшой,  на текущий момент, в теории, рост должен был бы продолжаться. "
   ]
  },
  {
   "cell_type": "code",
   "execution_count": 653,
   "metadata": {},
   "outputs": [
    {
     "data": {
      "text/html": [
       "<div>\n",
       "<style scoped>\n",
       "    .dataframe tbody tr th:only-of-type {\n",
       "        vertical-align: middle;\n",
       "    }\n",
       "\n",
       "    .dataframe tbody tr th {\n",
       "        vertical-align: top;\n",
       "    }\n",
       "\n",
       "    .dataframe thead th {\n",
       "        text-align: right;\n",
       "    }\n",
       "</style>\n",
       "<table border=\"1\" class=\"dataframe\">\n",
       "  <thead>\n",
       "    <tr style=\"text-align: right;\">\n",
       "      <th></th>\n",
       "      <th>locality_name</th>\n",
       "      <th>meter_price</th>\n",
       "    </tr>\n",
       "  </thead>\n",
       "  <tbody>\n",
       "    <tr>\n",
       "      <th>5</th>\n",
       "      <td>Санкт-Петербург</td>\n",
       "      <td>114849.008793</td>\n",
       "    </tr>\n",
       "    <tr>\n",
       "      <th>4</th>\n",
       "      <td>Пушкин</td>\n",
       "      <td>103125.819377</td>\n",
       "    </tr>\n",
       "    <tr>\n",
       "      <th>6</th>\n",
       "      <td>деревня Кудрово</td>\n",
       "      <td>92473.547559</td>\n",
       "    </tr>\n",
       "    <tr>\n",
       "      <th>8</th>\n",
       "      <td>посёлок Парголово</td>\n",
       "      <td>90175.913089</td>\n",
       "    </tr>\n",
       "    <tr>\n",
       "      <th>7</th>\n",
       "      <td>посёлок Мурино</td>\n",
       "      <td>86087.512017</td>\n",
       "    </tr>\n",
       "    <tr>\n",
       "      <th>9</th>\n",
       "      <td>посёлок Шушары</td>\n",
       "      <td>78677.364318</td>\n",
       "    </tr>\n",
       "    <tr>\n",
       "      <th>3</th>\n",
       "      <td>Колпино</td>\n",
       "      <td>75424.579112</td>\n",
       "    </tr>\n",
       "    <tr>\n",
       "      <th>2</th>\n",
       "      <td>Гатчина</td>\n",
       "      <td>68746.146515</td>\n",
       "    </tr>\n",
       "    <tr>\n",
       "      <th>0</th>\n",
       "      <td>Всеволожск</td>\n",
       "      <td>68654.473970</td>\n",
       "    </tr>\n",
       "    <tr>\n",
       "      <th>1</th>\n",
       "      <td>Выборг</td>\n",
       "      <td>58141.909325</td>\n",
       "    </tr>\n",
       "  </tbody>\n",
       "</table>\n",
       "</div>"
      ],
      "text/plain": [
       "       locality_name    meter_price\n",
       "5    Санкт-Петербург  114849.008793\n",
       "4             Пушкин  103125.819377\n",
       "6    деревня Кудрово   92473.547559\n",
       "8  посёлок Парголово   90175.913089\n",
       "7     посёлок Мурино   86087.512017\n",
       "9     посёлок Шушары   78677.364318\n",
       "3            Колпино   75424.579112\n",
       "2            Гатчина   68746.146515\n",
       "0         Всеволожск   68654.473970\n",
       "1             Выборг   58141.909325"
      ]
     },
     "execution_count": 653,
     "metadata": {},
     "output_type": "execute_result"
    }
   ],
   "source": [
    "#Посчитайте среднюю цену одного квадратного метра в 10 населённых пунктах с наибольшим числом объявлений. \n",
    "#Выделите населённые пункты с самой высокой и низкой стоимостью квадратного метра. \n",
    "#Эти данные можно найти по имени в столбце locality_name.\n",
    "\n",
    "top_ten = data.locality_name.value_counts().head(10)\n",
    "top_ten = top_ten.reset_index()\n",
    "top_ten.columns = ('locality_name', 'cnt')\n",
    "\n",
    "top_ten = data.query('locality_name in @top_ten.locality_name')\n",
    "\n",
    "#выборку можно  получить и проще...  это первый пришедший в голову способ. \n",
    "top_ten = (top_ten.pivot_table(index = 'locality_name', values = 'meter_price', aggfunc = 'mean'))\n",
    "top_ten = top_ten.reset_index()\n",
    "\n",
    "top_ten.sort_values(by = 'meter_price', ascending = False)\n",
    "\n"
   ]
  },
  {
   "cell_type": "markdown",
   "metadata": {},
   "source": [
    "В Питере из выборки наиболее высокая стоимость квадратного метра, если  жилье в Питере не по зубам, добро пожаловать в Выборг! \n",
    "В Выборге наиболее низвая стоимость из  топ 10."
   ]
  },
  {
   "cell_type": "code",
   "execution_count": 694,
   "metadata": {},
   "outputs": [
    {
     "data": {
      "text/html": [
       "<div>\n",
       "<style scoped>\n",
       "    .dataframe tbody tr th:only-of-type {\n",
       "        vertical-align: middle;\n",
       "    }\n",
       "\n",
       "    .dataframe tbody tr th {\n",
       "        vertical-align: top;\n",
       "    }\n",
       "\n",
       "    .dataframe thead th {\n",
       "        text-align: right;\n",
       "    }\n",
       "</style>\n",
       "<table border=\"1\" class=\"dataframe\">\n",
       "  <thead>\n",
       "    <tr style=\"text-align: right;\">\n",
       "      <th></th>\n",
       "      <th>meter_price</th>\n",
       "    </tr>\n",
       "    <tr>\n",
       "      <th>distance_to_center</th>\n",
       "      <th></th>\n",
       "    </tr>\n",
       "  </thead>\n",
       "  <tbody>\n",
       "    <tr>\n",
       "      <th>1.0</th>\n",
       "      <td>177005.407604</td>\n",
       "    </tr>\n",
       "    <tr>\n",
       "      <th>2.0</th>\n",
       "      <td>157849.007290</td>\n",
       "    </tr>\n",
       "    <tr>\n",
       "      <th>7.0</th>\n",
       "      <td>156176.879524</td>\n",
       "    </tr>\n",
       "    <tr>\n",
       "      <th>6.0</th>\n",
       "      <td>151012.193673</td>\n",
       "    </tr>\n",
       "    <tr>\n",
       "      <th>5.0</th>\n",
       "      <td>140509.789022</td>\n",
       "    </tr>\n",
       "    <tr>\n",
       "      <th>4.0</th>\n",
       "      <td>133282.874738</td>\n",
       "    </tr>\n",
       "    <tr>\n",
       "      <th>27.0</th>\n",
       "      <td>132115.710000</td>\n",
       "    </tr>\n",
       "    <tr>\n",
       "      <th>8.0</th>\n",
       "      <td>125671.442864</td>\n",
       "    </tr>\n",
       "    <tr>\n",
       "      <th>3.0</th>\n",
       "      <td>121387.453743</td>\n",
       "    </tr>\n",
       "    <tr>\n",
       "      <th>9.0</th>\n",
       "      <td>113131.041939</td>\n",
       "    </tr>\n",
       "    <tr>\n",
       "      <th>10.0</th>\n",
       "      <td>112727.516968</td>\n",
       "    </tr>\n",
       "    <tr>\n",
       "      <th>11.0</th>\n",
       "      <td>108630.835357</td>\n",
       "    </tr>\n",
       "    <tr>\n",
       "      <th>13.0</th>\n",
       "      <td>108148.127893</td>\n",
       "    </tr>\n",
       "    <tr>\n",
       "      <th>12.0</th>\n",
       "      <td>107488.734106</td>\n",
       "    </tr>\n",
       "    <tr>\n",
       "      <th>14.0</th>\n",
       "      <td>104252.384949</td>\n",
       "    </tr>\n",
       "    <tr>\n",
       "      <th>15.0</th>\n",
       "      <td>104231.976231</td>\n",
       "    </tr>\n",
       "    <tr>\n",
       "      <th>20.0</th>\n",
       "      <td>103045.181837</td>\n",
       "    </tr>\n",
       "    <tr>\n",
       "      <th>16.0</th>\n",
       "      <td>100542.613929</td>\n",
       "    </tr>\n",
       "    <tr>\n",
       "      <th>19.0</th>\n",
       "      <td>98652.735732</td>\n",
       "    </tr>\n",
       "    <tr>\n",
       "      <th>17.0</th>\n",
       "      <td>96597.652288</td>\n",
       "    </tr>\n",
       "    <tr>\n",
       "      <th>18.0</th>\n",
       "      <td>96362.263870</td>\n",
       "    </tr>\n",
       "    <tr>\n",
       "      <th>21.0</th>\n",
       "      <td>94469.584444</td>\n",
       "    </tr>\n",
       "    <tr>\n",
       "      <th>23.0</th>\n",
       "      <td>91828.517765</td>\n",
       "    </tr>\n",
       "    <tr>\n",
       "      <th>25.0</th>\n",
       "      <td>91531.371154</td>\n",
       "    </tr>\n",
       "    <tr>\n",
       "      <th>22.0</th>\n",
       "      <td>91330.425099</td>\n",
       "    </tr>\n",
       "    <tr>\n",
       "      <th>26.0</th>\n",
       "      <td>89285.877170</td>\n",
       "    </tr>\n",
       "    <tr>\n",
       "      <th>24.0</th>\n",
       "      <td>85736.904615</td>\n",
       "    </tr>\n",
       "    <tr>\n",
       "      <th>28.0</th>\n",
       "      <td>81161.914286</td>\n",
       "    </tr>\n",
       "    <tr>\n",
       "      <th>29.0</th>\n",
       "      <td>72953.365000</td>\n",
       "    </tr>\n",
       "  </tbody>\n",
       "</table>\n",
       "</div>"
      ],
      "text/plain": [
       "                      meter_price\n",
       "distance_to_center               \n",
       "1.0                 177005.407604\n",
       "2.0                 157849.007290\n",
       "7.0                 156176.879524\n",
       "6.0                 151012.193673\n",
       "5.0                 140509.789022\n",
       "4.0                 133282.874738\n",
       "27.0                132115.710000\n",
       "8.0                 125671.442864\n",
       "3.0                 121387.453743\n",
       "9.0                 113131.041939\n",
       "10.0                112727.516968\n",
       "11.0                108630.835357\n",
       "13.0                108148.127893\n",
       "12.0                107488.734106\n",
       "14.0                104252.384949\n",
       "15.0                104231.976231\n",
       "20.0                103045.181837\n",
       "16.0                100542.613929\n",
       "19.0                 98652.735732\n",
       "17.0                 96597.652288\n",
       "18.0                 96362.263870\n",
       "21.0                 94469.584444\n",
       "23.0                 91828.517765\n",
       "25.0                 91531.371154\n",
       "22.0                 91330.425099\n",
       "26.0                 89285.877170\n",
       "24.0                 85736.904615\n",
       "28.0                 81161.914286\n",
       "29.0                 72953.365000"
      ]
     },
     "execution_count": 694,
     "metadata": {},
     "output_type": "execute_result"
    }
   ],
   "source": [
    "#Ранее вы посчитали расстояние до центра в километрах. \n",
    "#Теперь выделите квартиры в Санкт-Петербурге с помощью столбца locality_name \n",
    "#и вычислите среднюю цену каждого километра. \n",
    "#Опишите, как стоимость объектов зависит от расстояния до центра города.\n",
    "\n",
    "\n",
    "#Первым делом посчитаем сколько значений с 0 у нас в  питере:\n",
    "#data.query('locality_name == \"Санкт-Петербург\" and distance_to_center == 0')['locality_name'].count()\n",
    "#Тэк, 88,  а остальных? \n",
    "#data.query('locality_name == \"Санкт-Петербург\" and distance_to_center != 0')['locality_name'].count()\n",
    "#15633  Выборка достаточная, можно отбросить нулевые значения. \n",
    "\n",
    "#Вспомнил про бритву Оккама и решил  написать все одной строчкой.  Не сложно ли такое читать? \n",
    "data.query('locality_name == \"Санкт-Петербург\" and distance_to_center != 0').pivot_table(index = 'distance_to_center', values = 'meter_price').sort_values(by = 'meter_price', ascending = False)\n"
   ]
  },
  {
   "cell_type": "markdown",
   "metadata": {},
   "source": [
    "Ожидаемо, в самом центре самое дорогое жилье, как и на максимальном удалении самое недорогое, \n",
    "но есть и данные выбивающиеся из статистики, например на 7 месте стоимость жилья  на 27 километре. \n",
    "Причина - нестандартно дорогое или нестандартно большое жилье которое соответственно дорого стоит. \n",
    "Плюс среднее значение больше подвержено выбросам чем медиана. "
   ]
  },
  {
   "cell_type": "markdown",
   "metadata": {},
   "source": [
    "### Общий вывод\n",
    "\n",
    "Был изучен  файл данных **real_estate_data.csv**, выводы следующие:\n",
    "\n",
    "- Набор данных с очень большим количеством пропусков, это видно по тепловой карте. \n",
    "- Формат хранения данных изначально в большей части  строковой\n",
    "- Даты без указания времени\n",
    "\n",
    "Скорее всего эти ошибки связаны с веб формой, к примеру,расстояние до центра можно вычислить если знать адрес.\n",
    "\n",
    "- Данные были приведены в правильный формат,  в датах убрали время, столбцы стали  int  и  float, выбросы проанализированы и скорректированы каждый наиболее подходящим образом. \n",
    "- Для меня самой сложной частью проекта было найти и устранить неявные дубликаты,  сперва было найдено  что ошибки только в  наименованиях типов поселений,  после чего  был присвоен топ 1  тип поселения ко всем похожим. \n",
    "- Также мы добавили  допольнительные столбцы для удобства анализа. \n",
    "- Провели подробный исследовательский анализ в рещультате которого  были обнаружены  дополнительные выбросы  высоты потолков, \n",
    "- Обнаружили в 2014 году падение цен на жилье а в 2018 рост\n",
    "- Выяснили как быстро продавались квартиры и обнаружили аномалии на 45, 60, 7, 30, 90 днях (даты снятия объявлений), нашли среднее значение в 180 дней и медиану - 95 дней.\n",
    "- Выяснили что наибольшая зависимость стоимости квартиры от жилой площади\n",
    "- Узнали что в  питере в 3х километровой зоне самое дорогое жилье, а для желающих сэкономить всегда есть вариант переехать в Выборг. \n"
   ]
  },
  {
   "cell_type": "markdown",
   "metadata": {},
   "source": []
  },
  {
   "cell_type": "markdown",
   "metadata": {},
   "source": [
    "**Чек-лист готовности проекта**\n",
    "\n",
    "Поставьте 'x' в выполненных пунктах. Далее нажмите Shift+Enter."
   ]
  },
  {
   "cell_type": "markdown",
   "metadata": {},
   "source": [
    "- [x]  открыт файл\n",
    "- [x]  файлы изучены (выведены первые строки, метод `info()`, гистограммы и т.д.)\n",
    "- [x]  определены пропущенные значения\n",
    "- [x]  заполнены пропущенные значения там, где это возможно\n",
    "- [x]  есть пояснение, какие пропущенные значения обнаружены\n",
    "- [x]  изменены типы данных\n",
    "- [x]  есть пояснение, в каких столбцах изменены типы и почему\n",
    "- [x]  устранены неявные дубликаты в названиях населённых пунктов\n",
    "- [x]  устранены редкие и выбивающиеся значения (аномалии) во всех столбцах\n",
    "- [x]  посчитано и добавлено в таблицу: цена одного квадратного метра\n",
    "- [x]  посчитано и добавлено в таблицу: день публикации объявления (0 - понедельник, 1 - вторник и т.д.)\n",
    "- [x]  посчитано и добавлено в таблицу: месяц публикации объявления\n",
    "- [x]  посчитано и добавлено в таблицу: год публикации объявления\n",
    "- [x]  посчитано и добавлено в таблицу: тип этажа квартиры (значения — «первый», «последний», «другой»)\n",
    "- [x]  посчитано и добавлено в таблицу: расстояние в км до центра города\n",
    "- [x]  изучены и описаны следующие параметры:\n",
    "        - общая площадь;\n",
    "        - жилая площадь;\n",
    "        - площадь кухни;\n",
    "        - цена объекта;\n",
    "        - количество комнат;\n",
    "        - высота потолков;\n",
    "        - этаж квартиры;\n",
    "        - тип этажа квартиры («первый», «последний», «другой»);\n",
    "        - общее количество этажей в доме;\n",
    "        - расстояние до центра города в метрах;\n",
    "        - расстояние до ближайшего аэропорта;\n",
    "        - расстояние до ближайшего парка;\n",
    "        - день и месяц публикации объявления\n",
    "- [x]  построены гистограммы для каждого параметра\n",
    "- [x]  выполнено задание: \"Изучите, как быстро продавались квартиры (столбец days_exposition). Этот параметр показывает, сколько дней «висело» каждое объявление.\n",
    "    - Постройте гистограмму.\n",
    "    - Посчитайте среднее и медиану.\n",
    "    - В ячейке типа markdown опишите, сколько обычно занимает продажа. Какие продажи можно считать быстрыми, а какие — необычно долгими?\"\n",
    "- [x]  выполнено задание: \"Какие факторы больше всего влияют на общую (полную) стоимость объекта? Постройте графики, которые покажут зависимость цены от указанных ниже параметров. Для подготовки данных перед визуализацией вы можете использовать сводные таблицы.\"\n",
    "        - общей площади;\n",
    "        - жилой площади;\n",
    "        - площади кухни;\n",
    "        - количество комнат;\n",
    "        - типа этажа, на котором расположена квартира (первый, последний, другой);\n",
    "        - даты размещения (день недели, месяц, год);\n",
    "- [x]  выполнено задание: \"Посчитайте среднюю цену одного квадратного метра в 10 населённых пунктах с наибольшим числом объявлений. Выделите населённые пункты с самой высокой и низкой стоимостью квадратного метра. Эти данные можно найти по имени в столбце `locality_name`.\"\n",
    "- [x]  выполнено задание: \"Ранее вы посчитали расстояние до центра в километрах. Теперь выделите квартиры в Санкт-Петербурге с помощью столбца `locality_name` и вычислите среднюю цену каждого километра. Опишите, как стоимость объектов зависит от расстояния до центра города.\"\n",
    "- [x]  в каждом этапе есть промежуточные выводы\n",
    "- [x]  есть общий вывод"
   ]
  },
  {
   "cell_type": "code",
   "execution_count": null,
   "metadata": {},
   "outputs": [],
   "source": []
  }
 ],
 "metadata": {
  "ExecuteTimeLog": [
   {
    "duration": 482,
    "start_time": "2022-09-19T08:46:14.915Z"
   },
   {
    "duration": 360,
    "start_time": "2022-09-19T08:47:26.211Z"
   },
   {
    "duration": 97,
    "start_time": "2022-09-19T08:47:33.633Z"
   },
   {
    "duration": 99,
    "start_time": "2022-09-19T08:47:49.163Z"
   },
   {
    "duration": 86,
    "start_time": "2022-09-19T08:48:04.533Z"
   },
   {
    "duration": 115,
    "start_time": "2022-09-19T08:48:15.346Z"
   },
   {
    "duration": 365,
    "start_time": "2022-09-19T08:48:26.221Z"
   },
   {
    "duration": 89,
    "start_time": "2022-09-19T08:48:38.591Z"
   },
   {
    "duration": 66,
    "start_time": "2022-09-19T08:49:04.404Z"
   },
   {
    "duration": 479,
    "start_time": "2022-09-19T08:50:02.721Z"
   },
   {
    "duration": 87,
    "start_time": "2022-09-19T08:50:10.243Z"
   },
   {
    "duration": 1552,
    "start_time": "2022-09-19T08:50:16.805Z"
   },
   {
    "duration": 84,
    "start_time": "2022-09-19T08:51:53.499Z"
   },
   {
    "duration": 83,
    "start_time": "2022-09-19T08:52:49.853Z"
   },
   {
    "duration": 97,
    "start_time": "2022-09-19T08:53:47.855Z"
   },
   {
    "duration": 107,
    "start_time": "2022-09-19T08:53:55.427Z"
   },
   {
    "duration": 82,
    "start_time": "2022-09-19T08:54:00.836Z"
   },
   {
    "duration": 172,
    "start_time": "2022-09-19T08:55:42.156Z"
   },
   {
    "duration": 90,
    "start_time": "2022-09-19T08:55:59.133Z"
   },
   {
    "duration": 337,
    "start_time": "2022-09-19T08:56:33.902Z"
   },
   {
    "duration": 99,
    "start_time": "2022-09-19T08:56:35.203Z"
   },
   {
    "duration": 103,
    "start_time": "2022-09-19T08:57:07.343Z"
   },
   {
    "duration": 48,
    "start_time": "2022-09-19T08:57:39.007Z"
   },
   {
    "duration": 121,
    "start_time": "2022-09-19T08:57:43.914Z"
   },
   {
    "duration": 157,
    "start_time": "2022-09-19T08:57:48.331Z"
   },
   {
    "duration": 105,
    "start_time": "2022-09-19T08:57:53.799Z"
   },
   {
    "duration": 106,
    "start_time": "2022-09-19T08:57:58.810Z"
   },
   {
    "duration": 78,
    "start_time": "2022-09-19T08:59:09.720Z"
   },
   {
    "duration": 84,
    "start_time": "2022-09-19T09:00:46.824Z"
   },
   {
    "duration": 109,
    "start_time": "2022-09-19T09:01:06.190Z"
   },
   {
    "duration": 106,
    "start_time": "2022-09-19T09:01:22.127Z"
   },
   {
    "duration": 80,
    "start_time": "2022-09-19T09:01:29.295Z"
   },
   {
    "duration": 125,
    "start_time": "2022-09-19T09:02:26.991Z"
   },
   {
    "duration": 129,
    "start_time": "2022-09-19T09:55:53.134Z"
   },
   {
    "duration": 140,
    "start_time": "2022-09-19T10:19:44.542Z"
   },
   {
    "duration": 130,
    "start_time": "2022-09-19T10:19:55.770Z"
   },
   {
    "duration": 146,
    "start_time": "2022-09-19T10:20:07.366Z"
   },
   {
    "duration": 126,
    "start_time": "2022-09-19T10:20:50.475Z"
   },
   {
    "duration": 137,
    "start_time": "2022-09-19T10:21:16.105Z"
   },
   {
    "duration": 141,
    "start_time": "2022-09-19T10:21:29.402Z"
   },
   {
    "duration": 145,
    "start_time": "2022-09-19T10:22:20.359Z"
   },
   {
    "duration": 148,
    "start_time": "2022-09-19T10:32:48.540Z"
   },
   {
    "duration": 154,
    "start_time": "2022-09-19T10:33:00.249Z"
   },
   {
    "duration": 153,
    "start_time": "2022-09-19T10:34:11.706Z"
   },
   {
    "duration": 144,
    "start_time": "2022-09-19T10:35:24.744Z"
   },
   {
    "duration": 154,
    "start_time": "2022-09-19T10:37:21.667Z"
   },
   {
    "duration": 146,
    "start_time": "2022-09-19T10:37:34.007Z"
   },
   {
    "duration": 150,
    "start_time": "2022-09-19T10:38:03.307Z"
   },
   {
    "duration": 160,
    "start_time": "2022-09-19T10:38:10.893Z"
   },
   {
    "duration": 146,
    "start_time": "2022-09-19T10:38:32.458Z"
   },
   {
    "duration": 150,
    "start_time": "2022-09-19T10:39:39.308Z"
   },
   {
    "duration": 146,
    "start_time": "2022-09-19T10:40:07.432Z"
   },
   {
    "duration": 148,
    "start_time": "2022-09-19T10:41:41.038Z"
   },
   {
    "duration": 152,
    "start_time": "2022-09-19T10:41:52.806Z"
   },
   {
    "duration": 152,
    "start_time": "2022-09-19T10:43:07.767Z"
   },
   {
    "duration": 155,
    "start_time": "2022-09-19T10:47:20.249Z"
   },
   {
    "duration": 160,
    "start_time": "2022-09-19T10:49:00.444Z"
   },
   {
    "duration": 155,
    "start_time": "2022-09-19T10:49:22.434Z"
   },
   {
    "duration": 153,
    "start_time": "2022-09-19T11:00:07.650Z"
   },
   {
    "duration": 154,
    "start_time": "2022-09-19T11:00:25.020Z"
   },
   {
    "duration": 177,
    "start_time": "2022-09-19T11:00:42.238Z"
   },
   {
    "duration": 162,
    "start_time": "2022-09-19T12:24:11.187Z"
   },
   {
    "duration": 175,
    "start_time": "2022-09-19T12:24:33.738Z"
   },
   {
    "duration": 159,
    "start_time": "2022-09-19T12:24:49.866Z"
   },
   {
    "duration": 198,
    "start_time": "2022-09-19T12:25:53.009Z"
   },
   {
    "duration": 178,
    "start_time": "2022-09-19T12:26:09.561Z"
   },
   {
    "duration": 186,
    "start_time": "2022-09-19T12:27:01.468Z"
   },
   {
    "duration": 188,
    "start_time": "2022-09-19T12:27:30.787Z"
   },
   {
    "duration": 146,
    "start_time": "2022-09-19T12:27:48.284Z"
   },
   {
    "duration": 130,
    "start_time": "2022-09-19T12:28:45.031Z"
   },
   {
    "duration": 147,
    "start_time": "2022-09-19T13:27:48.018Z"
   },
   {
    "duration": 156,
    "start_time": "2022-09-19T13:28:03.421Z"
   },
   {
    "duration": 152,
    "start_time": "2022-09-19T13:31:04.488Z"
   },
   {
    "duration": 165,
    "start_time": "2022-09-19T13:31:35.571Z"
   },
   {
    "duration": 181,
    "start_time": "2022-09-19T13:31:55.871Z"
   },
   {
    "duration": 173,
    "start_time": "2022-09-19T13:32:14.541Z"
   },
   {
    "duration": 162,
    "start_time": "2022-09-19T13:32:50.870Z"
   },
   {
    "duration": 175,
    "start_time": "2022-09-19T13:33:05.207Z"
   },
   {
    "duration": 159,
    "start_time": "2022-09-19T13:33:39.567Z"
   },
   {
    "duration": 174,
    "start_time": "2022-09-19T13:33:52.387Z"
   },
   {
    "duration": 225,
    "start_time": "2022-09-19T13:34:15.241Z"
   },
   {
    "duration": 146,
    "start_time": "2022-09-19T13:34:35.874Z"
   },
   {
    "duration": 103,
    "start_time": "2022-09-19T13:34:52.867Z"
   },
   {
    "duration": 110,
    "start_time": "2022-09-19T13:34:59.860Z"
   },
   {
    "duration": 110,
    "start_time": "2022-09-19T13:35:13.466Z"
   },
   {
    "duration": 132,
    "start_time": "2022-09-19T13:36:17.630Z"
   },
   {
    "duration": 1353,
    "start_time": "2022-09-19T13:36:34.386Z"
   },
   {
    "duration": 110,
    "start_time": "2022-09-19T13:36:42.392Z"
   },
   {
    "duration": 147,
    "start_time": "2022-09-19T13:37:06.438Z"
   },
   {
    "duration": 112,
    "start_time": "2022-09-19T13:37:35.572Z"
   },
   {
    "duration": 137,
    "start_time": "2022-09-19T13:37:55.734Z"
   },
   {
    "duration": 126,
    "start_time": "2022-09-19T14:02:04.360Z"
   },
   {
    "duration": 126,
    "start_time": "2022-09-19T14:02:36.711Z"
   },
   {
    "duration": 166,
    "start_time": "2022-09-19T14:03:58.635Z"
   },
   {
    "duration": 160,
    "start_time": "2022-09-19T14:04:12.113Z"
   },
   {
    "duration": 146,
    "start_time": "2022-09-19T14:21:09.395Z"
   },
   {
    "duration": 995,
    "start_time": "2022-09-20T04:31:50.623Z"
   },
   {
    "duration": 416,
    "start_time": "2022-09-20T04:31:58.485Z"
   },
   {
    "duration": 5,
    "start_time": "2022-09-20T04:32:04.930Z"
   },
   {
    "duration": 13,
    "start_time": "2022-09-20T04:33:09.732Z"
   },
   {
    "duration": 86,
    "start_time": "2022-09-20T05:01:31.362Z"
   },
   {
    "duration": 49,
    "start_time": "2022-09-20T05:01:54.163Z"
   },
   {
    "duration": 1045,
    "start_time": "2022-09-20T05:02:09.228Z"
   },
   {
    "duration": 47,
    "start_time": "2022-09-20T05:02:19.488Z"
   },
   {
    "duration": 65,
    "start_time": "2022-09-20T05:02:51.288Z"
   },
   {
    "duration": 863,
    "start_time": "2022-09-20T05:03:32.423Z"
   },
   {
    "duration": 54,
    "start_time": "2022-09-20T05:03:43.914Z"
   },
   {
    "duration": 9,
    "start_time": "2022-09-20T05:06:07.330Z"
   },
   {
    "duration": 11,
    "start_time": "2022-09-20T05:06:14.782Z"
   },
   {
    "duration": 6,
    "start_time": "2022-09-20T05:06:19.205Z"
   },
   {
    "duration": 65,
    "start_time": "2022-09-20T05:06:27.483Z"
   },
   {
    "duration": 7,
    "start_time": "2022-09-20T05:06:36.215Z"
   },
   {
    "duration": 5,
    "start_time": "2022-09-20T05:06:52.587Z"
   },
   {
    "duration": 86,
    "start_time": "2022-09-20T05:07:03.084Z"
   },
   {
    "duration": 90,
    "start_time": "2022-09-20T05:07:13.537Z"
   },
   {
    "duration": 4,
    "start_time": "2022-09-20T05:07:26.063Z"
   },
   {
    "duration": 5,
    "start_time": "2022-09-20T05:08:06.541Z"
   },
   {
    "duration": 5,
    "start_time": "2022-09-20T05:08:14.712Z"
   },
   {
    "duration": 254,
    "start_time": "2022-09-20T05:08:30.742Z"
   },
   {
    "duration": 51,
    "start_time": "2022-09-20T05:09:33.832Z"
   },
   {
    "duration": 79,
    "start_time": "2022-09-20T05:09:41.063Z"
   },
   {
    "duration": 4,
    "start_time": "2022-09-20T05:09:48.945Z"
   },
   {
    "duration": 73,
    "start_time": "2022-09-20T05:09:54.779Z"
   },
   {
    "duration": 4,
    "start_time": "2022-09-20T05:10:09.583Z"
   },
   {
    "duration": 4,
    "start_time": "2022-09-20T05:10:36.287Z"
   },
   {
    "duration": 8,
    "start_time": "2022-09-20T05:10:58.688Z"
   },
   {
    "duration": 63,
    "start_time": "2022-09-20T05:11:03.565Z"
   },
   {
    "duration": 7,
    "start_time": "2022-09-20T05:11:12.960Z"
   },
   {
    "duration": 54,
    "start_time": "2022-09-20T05:11:46.187Z"
   },
   {
    "duration": 56,
    "start_time": "2022-09-20T05:11:57.678Z"
   },
   {
    "duration": 7,
    "start_time": "2022-09-20T05:12:03.852Z"
   },
   {
    "duration": 63,
    "start_time": "2022-09-20T05:12:10.435Z"
   },
   {
    "duration": 86,
    "start_time": "2022-09-20T05:13:01.027Z"
   },
   {
    "duration": 78,
    "start_time": "2022-09-20T05:13:54.831Z"
   },
   {
    "duration": 63,
    "start_time": "2022-09-20T05:15:15.583Z"
   },
   {
    "duration": 69,
    "start_time": "2022-09-20T05:15:21.982Z"
   },
   {
    "duration": 75,
    "start_time": "2022-09-20T05:15:26.335Z"
   },
   {
    "duration": 75,
    "start_time": "2022-09-20T05:15:58.990Z"
   },
   {
    "duration": 284,
    "start_time": "2022-09-20T05:34:28.420Z"
   },
   {
    "duration": 260,
    "start_time": "2022-09-20T05:35:26.173Z"
   },
   {
    "duration": 249,
    "start_time": "2022-09-20T05:36:13.179Z"
   },
   {
    "duration": 267,
    "start_time": "2022-09-20T05:36:23.845Z"
   },
   {
    "duration": 252,
    "start_time": "2022-09-20T05:36:33.547Z"
   },
   {
    "duration": 3,
    "start_time": "2022-09-20T05:41:57.352Z"
   },
   {
    "duration": 10,
    "start_time": "2022-09-20T05:42:37.654Z"
   },
   {
    "duration": 10,
    "start_time": "2022-09-20T05:43:11.806Z"
   },
   {
    "duration": 8,
    "start_time": "2022-09-20T05:43:24.738Z"
   },
   {
    "duration": 230,
    "start_time": "2022-09-20T05:44:51.001Z"
   },
   {
    "duration": 9,
    "start_time": "2022-09-20T05:45:16.322Z"
   },
   {
    "duration": 12,
    "start_time": "2022-09-20T05:45:53.880Z"
   },
   {
    "duration": 5,
    "start_time": "2022-09-20T05:46:02.961Z"
   },
   {
    "duration": 4,
    "start_time": "2022-09-20T05:46:13.126Z"
   },
   {
    "duration": 3,
    "start_time": "2022-09-20T05:46:17.593Z"
   },
   {
    "duration": 234,
    "start_time": "2022-09-20T05:46:19.391Z"
   },
   {
    "duration": 207,
    "start_time": "2022-09-20T05:46:23.063Z"
   },
   {
    "duration": 9,
    "start_time": "2022-09-20T05:46:37.866Z"
   },
   {
    "duration": 229,
    "start_time": "2022-09-20T05:46:42.193Z"
   },
   {
    "duration": 9,
    "start_time": "2022-09-20T05:46:45.723Z"
   },
   {
    "duration": 14,
    "start_time": "2022-09-20T05:47:06.775Z"
   },
   {
    "duration": 30,
    "start_time": "2022-09-20T05:47:15.262Z"
   },
   {
    "duration": 448,
    "start_time": "2022-09-20T05:49:36.346Z"
   },
   {
    "duration": 584,
    "start_time": "2022-09-20T05:50:18.519Z"
   },
   {
    "duration": 16,
    "start_time": "2022-09-20T05:51:07.422Z"
   },
   {
    "duration": 4,
    "start_time": "2022-09-20T05:51:55.552Z"
   },
   {
    "duration": 9,
    "start_time": "2022-09-20T05:52:00.335Z"
   },
   {
    "duration": 22,
    "start_time": "2022-09-20T05:52:06.858Z"
   },
   {
    "duration": 6,
    "start_time": "2022-09-20T05:53:21.879Z"
   },
   {
    "duration": 7,
    "start_time": "2022-09-20T05:53:38.888Z"
   },
   {
    "duration": 20,
    "start_time": "2022-09-20T05:54:25.538Z"
   },
   {
    "duration": 14,
    "start_time": "2022-09-20T05:54:53.027Z"
   },
   {
    "duration": 40,
    "start_time": "2022-09-20T05:54:59.209Z"
   },
   {
    "duration": 96,
    "start_time": "2022-09-20T06:45:01.324Z"
   },
   {
    "duration": 12,
    "start_time": "2022-09-20T06:45:07.115Z"
   },
   {
    "duration": 20,
    "start_time": "2022-09-20T06:45:21.315Z"
   },
   {
    "duration": 65,
    "start_time": "2022-09-20T06:51:01.674Z"
   },
   {
    "duration": 18,
    "start_time": "2022-09-20T06:51:06.514Z"
   },
   {
    "duration": 18,
    "start_time": "2022-09-20T06:51:25.969Z"
   },
   {
    "duration": 9,
    "start_time": "2022-09-20T06:52:14.839Z"
   },
   {
    "duration": 9,
    "start_time": "2022-09-20T06:52:21.772Z"
   },
   {
    "duration": 24,
    "start_time": "2022-09-20T06:52:36.540Z"
   },
   {
    "duration": 20,
    "start_time": "2022-09-20T06:54:12.351Z"
   },
   {
    "duration": 23,
    "start_time": "2022-09-20T06:54:32.078Z"
   },
   {
    "duration": 20,
    "start_time": "2022-09-20T06:55:17.586Z"
   },
   {
    "duration": 19,
    "start_time": "2022-09-20T06:56:52.721Z"
   },
   {
    "duration": 16,
    "start_time": "2022-09-20T07:01:04.669Z"
   },
   {
    "duration": 14,
    "start_time": "2022-09-20T07:01:20.079Z"
   },
   {
    "duration": 10,
    "start_time": "2022-09-20T07:02:45.469Z"
   },
   {
    "duration": 8,
    "start_time": "2022-09-20T07:03:32.682Z"
   },
   {
    "duration": 341,
    "start_time": "2022-09-20T07:03:43.790Z"
   },
   {
    "duration": 75,
    "start_time": "2022-09-20T07:04:26.521Z"
   },
   {
    "duration": 128,
    "start_time": "2022-09-20T08:54:39.818Z"
   },
   {
    "duration": 887,
    "start_time": "2022-09-20T08:54:45.658Z"
   },
   {
    "duration": 338,
    "start_time": "2022-09-20T08:54:48.142Z"
   },
   {
    "duration": 145,
    "start_time": "2022-09-20T08:55:42.787Z"
   },
   {
    "duration": 12,
    "start_time": "2022-09-20T08:58:03.282Z"
   },
   {
    "duration": 37,
    "start_time": "2022-09-20T08:58:47.625Z"
   },
   {
    "duration": 43,
    "start_time": "2022-09-20T08:58:58.087Z"
   },
   {
    "duration": 43,
    "start_time": "2022-09-20T08:59:10.615Z"
   },
   {
    "duration": 42,
    "start_time": "2022-09-20T08:59:17.360Z"
   },
   {
    "duration": 6,
    "start_time": "2022-09-20T08:59:36.244Z"
   },
   {
    "duration": 7,
    "start_time": "2022-09-20T08:59:52.176Z"
   },
   {
    "duration": 27,
    "start_time": "2022-09-20T08:59:57.785Z"
   },
   {
    "duration": 24,
    "start_time": "2022-09-20T09:00:11.047Z"
   },
   {
    "duration": 111,
    "start_time": "2022-09-20T09:03:48.865Z"
   },
   {
    "duration": 45,
    "start_time": "2022-09-20T09:04:06.964Z"
   },
   {
    "duration": 160,
    "start_time": "2022-09-20T09:04:14.294Z"
   },
   {
    "duration": 114,
    "start_time": "2022-09-20T09:05:26.654Z"
   },
   {
    "duration": 116,
    "start_time": "2022-09-20T09:06:02.811Z"
   },
   {
    "duration": 104,
    "start_time": "2022-09-20T09:06:45.968Z"
   },
   {
    "duration": 123,
    "start_time": "2022-09-20T09:08:31.184Z"
   },
   {
    "duration": 193,
    "start_time": "2022-09-20T09:15:43.826Z"
   },
   {
    "duration": 110,
    "start_time": "2022-09-20T09:17:02.739Z"
   },
   {
    "duration": 33,
    "start_time": "2022-09-20T09:17:17.154Z"
   },
   {
    "duration": 18,
    "start_time": "2022-09-20T09:17:41.852Z"
   },
   {
    "duration": 226,
    "start_time": "2022-09-20T09:17:57.927Z"
   },
   {
    "duration": 542,
    "start_time": "2022-09-20T09:18:17.752Z"
   },
   {
    "duration": 513,
    "start_time": "2022-09-20T09:18:34.609Z"
   },
   {
    "duration": 68,
    "start_time": "2022-09-20T09:18:48.348Z"
   },
   {
    "duration": 242,
    "start_time": "2022-09-20T09:19:14.302Z"
   },
   {
    "duration": 69,
    "start_time": "2022-09-20T09:19:18.220Z"
   },
   {
    "duration": 47,
    "start_time": "2022-09-20T09:19:32.698Z"
   },
   {
    "duration": 49,
    "start_time": "2022-09-20T09:24:48.705Z"
   },
   {
    "duration": 18,
    "start_time": "2022-09-20T09:51:52.180Z"
   },
   {
    "duration": 17,
    "start_time": "2022-09-20T10:35:38.141Z"
   },
   {
    "duration": 43,
    "start_time": "2022-09-20T10:41:06.211Z"
   },
   {
    "duration": 44,
    "start_time": "2022-09-20T10:41:52.692Z"
   },
   {
    "duration": 52,
    "start_time": "2022-09-20T10:45:17.322Z"
   },
   {
    "duration": 43,
    "start_time": "2022-09-20T10:48:29.716Z"
   },
   {
    "duration": 37,
    "start_time": "2022-09-20T10:49:50.409Z"
   },
   {
    "duration": 95,
    "start_time": "2022-09-20T10:51:15.414Z"
   },
   {
    "duration": 42,
    "start_time": "2022-09-20T10:52:44.144Z"
   },
   {
    "duration": 22,
    "start_time": "2022-09-20T10:52:51.109Z"
   },
   {
    "duration": 43,
    "start_time": "2022-09-20T10:53:10.787Z"
   },
   {
    "duration": 34,
    "start_time": "2022-09-20T10:53:24.382Z"
   },
   {
    "duration": 43,
    "start_time": "2022-09-20T10:54:56.436Z"
   },
   {
    "duration": 41,
    "start_time": "2022-09-20T10:55:09.636Z"
   },
   {
    "duration": 47,
    "start_time": "2022-09-20T10:55:17.766Z"
   },
   {
    "duration": 50,
    "start_time": "2022-09-20T10:55:44.801Z"
   },
   {
    "duration": 33,
    "start_time": "2022-09-20T10:55:56.352Z"
   },
   {
    "duration": 32,
    "start_time": "2022-09-20T10:56:48.752Z"
   },
   {
    "duration": 33,
    "start_time": "2022-09-20T10:56:53.655Z"
   },
   {
    "duration": 42,
    "start_time": "2022-09-20T10:57:01.863Z"
   },
   {
    "duration": 222,
    "start_time": "2022-09-20T10:57:47.529Z"
   },
   {
    "duration": 92,
    "start_time": "2022-09-20T10:57:54.049Z"
   },
   {
    "duration": 83,
    "start_time": "2022-09-20T10:58:00.172Z"
   },
   {
    "duration": 37,
    "start_time": "2022-09-20T10:58:17.750Z"
   },
   {
    "duration": 37,
    "start_time": "2022-09-20T10:58:23.748Z"
   },
   {
    "duration": 34,
    "start_time": "2022-09-20T10:58:33.797Z"
   },
   {
    "duration": 76,
    "start_time": "2022-09-20T10:58:43.851Z"
   },
   {
    "duration": 40,
    "start_time": "2022-09-20T10:58:49.984Z"
   },
   {
    "duration": 40,
    "start_time": "2022-09-20T10:59:04.695Z"
   },
   {
    "duration": 48,
    "start_time": "2022-09-20T10:59:58.470Z"
   },
   {
    "duration": 46,
    "start_time": "2022-09-20T11:00:35.634Z"
   },
   {
    "duration": 47,
    "start_time": "2022-09-20T11:01:11.745Z"
   },
   {
    "duration": 84,
    "start_time": "2022-09-20T11:01:20.510Z"
   },
   {
    "duration": 44,
    "start_time": "2022-09-20T11:03:53.282Z"
   },
   {
    "duration": 72,
    "start_time": "2022-09-20T11:04:31.649Z"
   },
   {
    "duration": 157,
    "start_time": "2022-09-20T11:11:54.709Z"
   },
   {
    "duration": 40,
    "start_time": "2022-09-20T11:14:14.602Z"
   },
   {
    "duration": 43,
    "start_time": "2022-09-20T11:16:01.483Z"
   },
   {
    "duration": 2170,
    "start_time": "2022-09-20T11:16:39.239Z"
   },
   {
    "duration": 281,
    "start_time": "2022-09-20T11:16:51.928Z"
   },
   {
    "duration": 140,
    "start_time": "2022-09-20T11:16:56.816Z"
   },
   {
    "duration": 25,
    "start_time": "2022-09-20T11:17:44.956Z"
   },
   {
    "duration": 7,
    "start_time": "2022-09-20T11:43:17.691Z"
   },
   {
    "duration": 84,
    "start_time": "2022-09-20T11:45:18.786Z"
   },
   {
    "duration": 739,
    "start_time": "2022-09-20T11:45:27.843Z"
   },
   {
    "duration": 77,
    "start_time": "2022-09-20T11:53:13.946Z"
   },
   {
    "duration": 78,
    "start_time": "2022-09-20T11:53:30.183Z"
   },
   {
    "duration": 11,
    "start_time": "2022-09-20T11:53:42.527Z"
   },
   {
    "duration": 12,
    "start_time": "2022-09-20T11:53:48.211Z"
   },
   {
    "duration": 21,
    "start_time": "2022-09-20T11:58:18.600Z"
   },
   {
    "duration": 12,
    "start_time": "2022-09-20T11:58:49.926Z"
   },
   {
    "duration": 9,
    "start_time": "2022-09-20T11:59:15.628Z"
   },
   {
    "duration": 11,
    "start_time": "2022-09-20T11:59:24.090Z"
   },
   {
    "duration": 9,
    "start_time": "2022-09-20T12:00:13.933Z"
   },
   {
    "duration": 4,
    "start_time": "2022-09-20T12:00:22.203Z"
   },
   {
    "duration": 36,
    "start_time": "2022-09-20T12:00:25.245Z"
   },
   {
    "duration": 147,
    "start_time": "2022-09-20T12:00:33.578Z"
   },
   {
    "duration": 11,
    "start_time": "2022-09-20T12:00:39.787Z"
   },
   {
    "duration": 13,
    "start_time": "2022-09-20T12:01:24.377Z"
   },
   {
    "duration": 14,
    "start_time": "2022-09-20T12:01:29.731Z"
   },
   {
    "duration": 19,
    "start_time": "2022-09-20T12:02:11.684Z"
   },
   {
    "duration": 31,
    "start_time": "2022-09-20T12:02:19.397Z"
   },
   {
    "duration": 23,
    "start_time": "2022-09-20T12:02:34.929Z"
   },
   {
    "duration": 250,
    "start_time": "2022-09-20T12:35:41.814Z"
   },
   {
    "duration": 5,
    "start_time": "2022-09-20T12:35:49.826Z"
   },
   {
    "duration": 28,
    "start_time": "2022-09-20T12:35:58.284Z"
   },
   {
    "duration": 27,
    "start_time": "2022-09-20T12:36:08.871Z"
   },
   {
    "duration": 111,
    "start_time": "2022-09-20T12:58:24.819Z"
   },
   {
    "duration": 22,
    "start_time": "2022-09-20T12:58:32.256Z"
   },
   {
    "duration": 22,
    "start_time": "2022-09-20T12:59:36.613Z"
   },
   {
    "duration": 24,
    "start_time": "2022-09-20T13:00:25.945Z"
   },
   {
    "duration": 43,
    "start_time": "2022-09-20T13:01:39.525Z"
   },
   {
    "duration": 12,
    "start_time": "2022-09-20T13:02:26.194Z"
   },
   {
    "duration": 10,
    "start_time": "2022-09-20T13:02:32.263Z"
   },
   {
    "duration": 10,
    "start_time": "2022-09-20T13:02:47.374Z"
   },
   {
    "duration": 11,
    "start_time": "2022-09-20T13:02:59.969Z"
   },
   {
    "duration": 46,
    "start_time": "2022-09-20T13:03:05.863Z"
   },
   {
    "duration": 44,
    "start_time": "2022-09-20T13:03:11.081Z"
   },
   {
    "duration": 146,
    "start_time": "2022-09-20T13:03:23.177Z"
   },
   {
    "duration": 12,
    "start_time": "2022-09-20T13:04:34.580Z"
   },
   {
    "duration": 12,
    "start_time": "2022-09-20T13:04:41.054Z"
   },
   {
    "duration": 12,
    "start_time": "2022-09-20T13:05:09.722Z"
   },
   {
    "duration": 13,
    "start_time": "2022-09-20T13:05:15.846Z"
   },
   {
    "duration": 14,
    "start_time": "2022-09-20T13:05:59.141Z"
   },
   {
    "duration": 12,
    "start_time": "2022-09-20T13:06:16.529Z"
   },
   {
    "duration": 13,
    "start_time": "2022-09-20T13:06:27.227Z"
   },
   {
    "duration": 14,
    "start_time": "2022-09-20T13:06:33.423Z"
   },
   {
    "duration": 127,
    "start_time": "2022-09-20T13:06:48.710Z"
   },
   {
    "duration": 14,
    "start_time": "2022-09-20T13:06:54.452Z"
   },
   {
    "duration": 14,
    "start_time": "2022-09-20T13:07:18.356Z"
   },
   {
    "duration": 11,
    "start_time": "2022-09-20T13:09:42.552Z"
   },
   {
    "duration": 7,
    "start_time": "2022-09-20T13:13:32.610Z"
   },
   {
    "duration": 8,
    "start_time": "2022-09-20T13:14:06.690Z"
   },
   {
    "duration": 10,
    "start_time": "2022-09-20T13:14:13.005Z"
   },
   {
    "duration": 11,
    "start_time": "2022-09-20T13:16:12.294Z"
   },
   {
    "duration": 138,
    "start_time": "2022-09-20T13:19:50.201Z"
   },
   {
    "duration": 145,
    "start_time": "2022-09-20T13:19:56.672Z"
   },
   {
    "duration": 13,
    "start_time": "2022-09-20T13:20:03.974Z"
   },
   {
    "duration": 13,
    "start_time": "2022-09-20T13:21:11.286Z"
   },
   {
    "duration": 11,
    "start_time": "2022-09-20T13:21:24.656Z"
   },
   {
    "duration": 14,
    "start_time": "2022-09-20T13:23:14.334Z"
   },
   {
    "duration": 13,
    "start_time": "2022-09-20T13:23:20.464Z"
   },
   {
    "duration": 20,
    "start_time": "2022-09-20T13:24:04.991Z"
   },
   {
    "duration": 17,
    "start_time": "2022-09-20T13:24:22.517Z"
   },
   {
    "duration": 22,
    "start_time": "2022-09-20T13:25:19.015Z"
   },
   {
    "duration": 29,
    "start_time": "2022-09-20T13:26:31.946Z"
   },
   {
    "duration": 911,
    "start_time": "2022-09-20T13:26:48.057Z"
   },
   {
    "duration": 116,
    "start_time": "2022-09-20T13:26:55.733Z"
   },
   {
    "duration": 21,
    "start_time": "2022-09-20T13:27:01.422Z"
   },
   {
    "duration": 25,
    "start_time": "2022-09-20T13:27:34.776Z"
   },
   {
    "duration": 24,
    "start_time": "2022-09-20T13:27:41.374Z"
   },
   {
    "duration": 24,
    "start_time": "2022-09-20T13:33:16.889Z"
   },
   {
    "duration": 23,
    "start_time": "2022-09-20T13:34:50.293Z"
   },
   {
    "duration": 648,
    "start_time": "2022-09-20T13:35:14.360Z"
   },
   {
    "duration": 25,
    "start_time": "2022-09-20T13:35:22.791Z"
   },
   {
    "duration": 21,
    "start_time": "2022-09-20T13:56:23.102Z"
   },
   {
    "duration": 9,
    "start_time": "2022-09-20T13:56:34.086Z"
   },
   {
    "duration": 3,
    "start_time": "2022-09-20T13:56:58.780Z"
   },
   {
    "duration": 4,
    "start_time": "2022-09-20T13:57:02.931Z"
   },
   {
    "duration": 7,
    "start_time": "2022-09-20T13:57:07.694Z"
   },
   {
    "duration": 11,
    "start_time": "2022-09-20T13:57:20.548Z"
   },
   {
    "duration": 9,
    "start_time": "2022-09-20T13:57:27.602Z"
   },
   {
    "duration": 10,
    "start_time": "2022-09-20T13:58:00.562Z"
   },
   {
    "duration": 32,
    "start_time": "2022-09-20T13:58:56.883Z"
   },
   {
    "duration": 823,
    "start_time": "2022-09-20T13:59:15.147Z"
   },
   {
    "duration": 122,
    "start_time": "2022-09-20T13:59:19.414Z"
   },
   {
    "duration": 46,
    "start_time": "2022-09-20T13:59:59.020Z"
   },
   {
    "duration": 11,
    "start_time": "2022-09-20T14:00:42.020Z"
   },
   {
    "duration": 37,
    "start_time": "2022-09-20T14:02:17.407Z"
   },
   {
    "duration": 20,
    "start_time": "2022-09-20T14:02:36.305Z"
   },
   {
    "duration": 6,
    "start_time": "2022-09-20T14:02:53.953Z"
   },
   {
    "duration": 20,
    "start_time": "2022-09-20T14:03:08.377Z"
   },
   {
    "duration": 9,
    "start_time": "2022-09-20T14:03:10.823Z"
   },
   {
    "duration": 6,
    "start_time": "2022-09-20T14:03:26.685Z"
   },
   {
    "duration": 6,
    "start_time": "2022-09-20T14:03:48.778Z"
   },
   {
    "duration": 21,
    "start_time": "2022-09-20T14:04:17.251Z"
   },
   {
    "duration": 14,
    "start_time": "2022-09-20T14:04:28.555Z"
   },
   {
    "duration": 22,
    "start_time": "2022-09-20T14:05:40.504Z"
   },
   {
    "duration": 7,
    "start_time": "2022-09-20T14:05:46.477Z"
   },
   {
    "duration": 21,
    "start_time": "2022-09-20T14:08:16.614Z"
   },
   {
    "duration": 8,
    "start_time": "2022-09-20T14:08:19.573Z"
   },
   {
    "duration": 25,
    "start_time": "2022-09-20T14:08:38.677Z"
   },
   {
    "duration": 8,
    "start_time": "2022-09-20T14:08:42.081Z"
   },
   {
    "duration": 8,
    "start_time": "2022-09-20T14:09:45.543Z"
   },
   {
    "duration": 71,
    "start_time": "2022-09-20T14:10:14.436Z"
   },
   {
    "duration": 101,
    "start_time": "2022-09-20T14:10:20.504Z"
   },
   {
    "duration": 1367,
    "start_time": "2022-09-20T14:10:31.735Z"
   },
   {
    "duration": 1493,
    "start_time": "2022-09-20T14:10:42.202Z"
   },
   {
    "duration": 8,
    "start_time": "2022-09-20T14:10:49.194Z"
   },
   {
    "duration": 5,
    "start_time": "2022-09-20T14:10:59.237Z"
   },
   {
    "duration": 16,
    "start_time": "2022-09-20T14:11:14.771Z"
   },
   {
    "duration": 23,
    "start_time": "2022-09-20T14:13:11.885Z"
   },
   {
    "duration": 7,
    "start_time": "2022-09-20T14:13:21.421Z"
   },
   {
    "duration": 9,
    "start_time": "2022-09-20T14:14:14.170Z"
   },
   {
    "duration": 10,
    "start_time": "2022-09-20T14:14:19.952Z"
   },
   {
    "duration": 10,
    "start_time": "2022-09-20T14:15:19.465Z"
   },
   {
    "duration": 9,
    "start_time": "2022-09-20T14:16:04.614Z"
   },
   {
    "duration": 8,
    "start_time": "2022-09-20T14:16:17.854Z"
   },
   {
    "duration": 11,
    "start_time": "2022-09-20T14:16:23.129Z"
   },
   {
    "duration": 10,
    "start_time": "2022-09-20T14:17:07.937Z"
   },
   {
    "duration": 7,
    "start_time": "2022-09-20T14:17:21.384Z"
   },
   {
    "duration": 10,
    "start_time": "2022-09-20T14:17:35.863Z"
   },
   {
    "duration": 7,
    "start_time": "2022-09-20T14:17:42.824Z"
   },
   {
    "duration": 9,
    "start_time": "2022-09-20T14:19:00.184Z"
   },
   {
    "duration": 24,
    "start_time": "2022-09-20T14:21:00.522Z"
   },
   {
    "duration": 2308,
    "start_time": "2022-09-20T14:21:02.680Z"
   },
   {
    "duration": 2128,
    "start_time": "2022-09-20T14:21:13.859Z"
   },
   {
    "duration": 1966,
    "start_time": "2022-09-20T14:21:22.053Z"
   },
   {
    "duration": 5,
    "start_time": "2022-09-20T14:21:28.426Z"
   },
   {
    "duration": 21,
    "start_time": "2022-09-20T14:21:32.387Z"
   }
  ],
  "kernelspec": {
   "display_name": "Python 3 (ipykernel)",
   "language": "python",
   "name": "python3"
  },
  "language_info": {
   "codemirror_mode": {
    "name": "ipython",
    "version": 3
   },
   "file_extension": ".py",
   "mimetype": "text/x-python",
   "name": "python",
   "nbconvert_exporter": "python",
   "pygments_lexer": "ipython3",
   "version": "3.9.13"
  },
  "toc": {
   "base_numbering": 1,
   "nav_menu": {},
   "number_sections": true,
   "sideBar": true,
   "skip_h1_title": true,
   "title_cell": "Table of Contents",
   "title_sidebar": "Contents",
   "toc_cell": false,
   "toc_position": {},
   "toc_section_display": true,
   "toc_window_display": false
  }
 },
 "nbformat": 4,
 "nbformat_minor": 2
}
