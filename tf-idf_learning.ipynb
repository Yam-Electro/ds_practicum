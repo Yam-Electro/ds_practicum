{
 "cells": [
  {
   "cell_type": "code",
   "execution_count": 7,
   "id": "904e1b0e",
   "metadata": {},
   "outputs": [
    {
     "name": "stderr",
     "output_type": "stream",
     "text": [
      "[nltk_data] Downloading package stopwords to\n",
      "[nltk_data]     /Users/fliutch/nltk_data...\n",
      "[nltk_data]   Unzipping corpora/stopwords.zip.\n"
     ]
    }
   ],
   "source": [
    "import pandas as pd\n",
    "import nltk\n",
    "from nltk.corpus import stopwords as nltk_stopwords\n",
    "# < напишите код здесь >\n",
    "from sklearn.feature_extraction.text import TfidfVectorizer \n",
    "\n",
    "from sklearn.linear_model import LogisticRegression\n",
    "\n",
    "nltk.download('stopwords')\n",
    "stopwords = set(nltk_stopwords.words('russian'))"
   ]
  },
  {
   "cell_type": "code",
   "execution_count": 3,
   "id": "45390cce",
   "metadata": {},
   "outputs": [
    {
     "name": "stdout",
     "output_type": "stream",
     "text": [
      "\u001b[31mChurn.csv\u001b[m\u001b[m*                   \u001b[31mgold_recovery_train_new.csv\u001b[m\u001b[m*\r\n",
      "autos.csv                    \u001b[31minsurance.csv\u001b[m\u001b[m*\r\n",
      "\u001b[31mgeo_data_0.csv\u001b[m\u001b[m*              taxi.csv\r\n",
      "\u001b[31mgeo_data_1.csv\u001b[m\u001b[m*              taxi.ipynb\r\n",
      "\u001b[31mgeo_data_2.csv\u001b[m\u001b[m*              tweets_lemm_test.csv\r\n",
      "\u001b[31mgold_recovery_full_new.csv\u001b[m\u001b[m*  tweets_lemm_train.csv\r\n",
      "\u001b[31mgold_recovery_test_new.csv\u001b[m\u001b[m*  \u001b[31musers_behavior.csv\u001b[m\u001b[m*\r\n"
     ]
    }
   ],
   "source": [
    "ls ./datasets"
   ]
  },
  {
   "cell_type": "code",
   "execution_count": 5,
   "id": "c5530a1f",
   "metadata": {},
   "outputs": [],
   "source": [
    "data_train = pd.read_csv(\"./datasets/tweets_lemm_train.csv\")\n",
    "data_test = pd.read_csv(\"./datasets/tweets_lemm_test.csv\")"
   ]
  },
  {
   "cell_type": "code",
   "execution_count": 6,
   "id": "665ad3a1",
   "metadata": {},
   "outputs": [
    {
     "data": {
      "text/html": [
       "<div>\n",
       "<style scoped>\n",
       "    .dataframe tbody tr th:only-of-type {\n",
       "        vertical-align: middle;\n",
       "    }\n",
       "\n",
       "    .dataframe tbody tr th {\n",
       "        vertical-align: top;\n",
       "    }\n",
       "\n",
       "    .dataframe thead th {\n",
       "        text-align: right;\n",
       "    }\n",
       "</style>\n",
       "<table border=\"1\" class=\"dataframe\">\n",
       "  <thead>\n",
       "    <tr style=\"text-align: right;\">\n",
       "      <th></th>\n",
       "      <th>text</th>\n",
       "      <th>positive</th>\n",
       "      <th>lemm_text</th>\n",
       "    </tr>\n",
       "  </thead>\n",
       "  <tbody>\n",
       "    <tr>\n",
       "      <th>0</th>\n",
       "      <td>@first_timee хоть я и школота, но поверь, у на...</td>\n",
       "      <td>1</td>\n",
       "      <td>хоть я и школотый но поверь у мы то же самый о...</td>\n",
       "    </tr>\n",
       "    <tr>\n",
       "      <th>1</th>\n",
       "      <td>Да, все-таки он немного похож на него. Но мой ...</td>\n",
       "      <td>1</td>\n",
       "      <td>да весь таки он немного похожий на он но мой м...</td>\n",
       "    </tr>\n",
       "    <tr>\n",
       "      <th>2</th>\n",
       "      <td>RT @KatiaCheh: Ну ты идиотка) я испугалась за ...</td>\n",
       "      <td>1</td>\n",
       "      <td>ну ты идиотка я испугаться за ты</td>\n",
       "    </tr>\n",
       "    <tr>\n",
       "      <th>3</th>\n",
       "      <td>RT @digger2912: \"Кто то в углу сидит и погибае...</td>\n",
       "      <td>1</td>\n",
       "      <td>кто то в угол сидеть и погибать от голод а мы ...</td>\n",
       "    </tr>\n",
       "    <tr>\n",
       "      <th>4</th>\n",
       "      <td>@irina_dyshkant Вот что значит страшилка :D\\r\\...</td>\n",
       "      <td>1</td>\n",
       "      <td>вот что значит страшилка но блин посмотреть ве...</td>\n",
       "    </tr>\n",
       "    <tr>\n",
       "      <th>...</th>\n",
       "      <td>...</td>\n",
       "      <td>...</td>\n",
       "      <td>...</td>\n",
       "    </tr>\n",
       "    <tr>\n",
       "      <th>4995</th>\n",
       "      <td>Вроде дружили 10 лет и в один момент все разру...</td>\n",
       "      <td>0</td>\n",
       "      <td>вроде дружить год и в один момент весь разруши...</td>\n",
       "    </tr>\n",
       "    <tr>\n",
       "      <th>4996</th>\n",
       "      <td>@m_gulko \\r\\nПоэтому и поздравляю заранее, что...</td>\n",
       "      <td>0</td>\n",
       "      <td>поэтому и поздравлять заранее что не получитьс...</td>\n",
       "    </tr>\n",
       "    <tr>\n",
       "      <th>4997</th>\n",
       "      <td>RT @kubudojede: черт, ну зачем они переделали ...</td>\n",
       "      <td>0</td>\n",
       "      <td>черта ну зачем они переделать</td>\n",
       "    </tr>\n",
       "    <tr>\n",
       "      <th>4998</th>\n",
       "      <td>RT @xidewojopiba: Вроде бы и любим друг друга,...</td>\n",
       "      <td>0</td>\n",
       "      <td>вроде бы и любим друг друг и быть вместе не мо...</td>\n",
       "    </tr>\n",
       "    <tr>\n",
       "      <th>4999</th>\n",
       "      <td>Одна из самых скучных суббот за последнее врем...</td>\n",
       "      <td>0</td>\n",
       "      <td>один из самый скучный суббота за последний вре...</td>\n",
       "    </tr>\n",
       "  </tbody>\n",
       "</table>\n",
       "<p>5000 rows × 3 columns</p>\n",
       "</div>"
      ],
      "text/plain": [
       "                                                   text  positive  \\\n",
       "0     @first_timee хоть я и школота, но поверь, у на...         1   \n",
       "1     Да, все-таки он немного похож на него. Но мой ...         1   \n",
       "2     RT @KatiaCheh: Ну ты идиотка) я испугалась за ...         1   \n",
       "3     RT @digger2912: \"Кто то в углу сидит и погибае...         1   \n",
       "4     @irina_dyshkant Вот что значит страшилка :D\\r\\...         1   \n",
       "...                                                 ...       ...   \n",
       "4995  Вроде дружили 10 лет и в один момент все разру...         0   \n",
       "4996  @m_gulko \\r\\nПоэтому и поздравляю заранее, что...         0   \n",
       "4997  RT @kubudojede: черт, ну зачем они переделали ...         0   \n",
       "4998  RT @xidewojopiba: Вроде бы и любим друг друга,...         0   \n",
       "4999  Одна из самых скучных суббот за последнее врем...         0   \n",
       "\n",
       "                                              lemm_text  \n",
       "0     хоть я и школотый но поверь у мы то же самый о...  \n",
       "1     да весь таки он немного похожий на он но мой м...  \n",
       "2                     ну ты идиотка я испугаться за ты   \n",
       "3     кто то в угол сидеть и погибать от голод а мы ...  \n",
       "4     вот что значит страшилка но блин посмотреть ве...  \n",
       "...                                                 ...  \n",
       "4995  вроде дружить год и в один момент весь разруши...  \n",
       "4996  поэтому и поздравлять заранее что не получитьс...  \n",
       "4997                     черта ну зачем они переделать   \n",
       "4998  вроде бы и любим друг друг и быть вместе не мо...  \n",
       "4999  один из самый скучный суббота за последний вре...  \n",
       "\n",
       "[5000 rows x 3 columns]"
      ]
     },
     "execution_count": 6,
     "metadata": {},
     "output_type": "execute_result"
    }
   ],
   "source": [
    "data_train"
   ]
  },
  {
   "cell_type": "code",
   "execution_count": 20,
   "id": "9f135420",
   "metadata": {},
   "outputs": [],
   "source": [
    "corpus = data_train['lemm_text'].values.astype('U')\n",
    "train_target = data_train['positive'].values.astype('U')\n",
    "\n",
    "count_tf_idf = TfidfVectorizer(stop_words = stopwords)\n",
    "train_features = count_tf_idf.fit_transform(corpus)\n"
   ]
  },
  {
   "cell_type": "code",
   "execution_count": 21,
   "id": "0160e299",
   "metadata": {},
   "outputs": [],
   "source": [
    "test_corpus = data_test['lemm_text'].values.astype('U')\n",
    "test_features = count_tf_idf.transform(test_corpus)"
   ]
  },
  {
   "cell_type": "code",
   "execution_count": 22,
   "id": "e35b0063",
   "metadata": {},
   "outputs": [],
   "source": [
    "model = LogisticRegression()\n",
    "model.fit(train_features, train_target)\n",
    "\n",
    "predictions = model.predict(test_features)\n"
   ]
  },
  {
   "cell_type": "code",
   "execution_count": 30,
   "id": "daa7e54b",
   "metadata": {},
   "outputs": [],
   "source": [
    "pd.DataFrame({'positive':predictions}).to_csv('./datasets/predictions', index=False)"
   ]
  },
  {
   "cell_type": "code",
   "execution_count": null,
   "id": "b9f07000",
   "metadata": {},
   "outputs": [],
   "source": []
  }
 ],
 "metadata": {
  "kernelspec": {
   "display_name": "Python 3 (ipykernel)",
   "language": "python",
   "name": "python3"
  },
  "language_info": {
   "codemirror_mode": {
    "name": "ipython",
    "version": 3
   },
   "file_extension": ".py",
   "mimetype": "text/x-python",
   "name": "python",
   "nbconvert_exporter": "python",
   "pygments_lexer": "ipython3",
   "version": "3.9.13"
  }
 },
 "nbformat": 4,
 "nbformat_minor": 5
}
